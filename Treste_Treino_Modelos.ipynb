{
 "cells": [
  {
   "cell_type": "code",
   "execution_count": 1,
   "id": "fb9263b6",
   "metadata": {},
   "outputs": [],
   "source": [
    "import pandas as pd\n",
    "import matplotlib.pyplot as plt\n",
    "import numpy as np\n",
    "import seaborn as sns"
   ]
  },
  {
   "cell_type": "code",
   "execution_count": 2,
   "id": "ec7a8e81",
   "metadata": {},
   "outputs": [],
   "source": [
    "from sklearn.preprocessing import StandardScaler\n",
    "from sklearn.model_selection import train_test_split\n",
    "from sklearn.linear_model import LogisticRegression\n",
    "from sklearn.tree import DecisionTreeClassifier\n",
    "from sklearn.ensemble import RandomForestClassifier\n",
    "from sklearn.neighbors import KNeighborsClassifier\n",
    "from sklearn.pipeline import Pipeline\n",
    "from sklearn.model_selection import GridSearchCV, KFold\n",
    "from sklearn import metrics\n",
    "\n",
    "from sklearn.metrics import confusion_matrix, ConfusionMatrixDisplay\n",
    "import plotly.express as px\n",
    "import warnings"
   ]
  },
  {
   "cell_type": "code",
   "execution_count": 3,
   "id": "d2a5fc41",
   "metadata": {},
   "outputs": [],
   "source": [
    "df = pd.read_csv('data.csv')"
   ]
  },
  {
   "cell_type": "code",
   "execution_count": 4,
   "id": "a0a9a507",
   "metadata": {},
   "outputs": [
    {
     "data": {
      "text/plain": [
       "(569, 31)"
      ]
     },
     "execution_count": 4,
     "metadata": {},
     "output_type": "execute_result"
    }
   ],
   "source": [
    "df.shape"
   ]
  },
  {
   "cell_type": "code",
   "execution_count": 5,
   "id": "c2300539",
   "metadata": {},
   "outputs": [
    {
     "name": "stdout",
     "output_type": "stream",
     "text": [
      "<class 'pandas.core.frame.DataFrame'>\n",
      "RangeIndex: 569 entries, 0 to 568\n",
      "Data columns (total 31 columns):\n",
      " #   Column                   Non-Null Count  Dtype  \n",
      "---  ------                   --------------  -----  \n",
      " 0   diagnosis                569 non-null    int64  \n",
      " 1   radius_mean              569 non-null    float64\n",
      " 2   texture_mean             569 non-null    float64\n",
      " 3   perimeter_mean           569 non-null    float64\n",
      " 4   area_mean                569 non-null    float64\n",
      " 5   smoothness_mean          569 non-null    float64\n",
      " 6   compactness_mean         569 non-null    float64\n",
      " 7   concavity_mean           569 non-null    float64\n",
      " 8   concave points_mean      569 non-null    float64\n",
      " 9   symmetry_mean            569 non-null    float64\n",
      " 10  fractal_dimension_mean   569 non-null    float64\n",
      " 11  radius_se                569 non-null    float64\n",
      " 12  texture_se               569 non-null    float64\n",
      " 13  perimeter_se             569 non-null    float64\n",
      " 14  area_se                  569 non-null    float64\n",
      " 15  smoothness_se            569 non-null    float64\n",
      " 16  compactness_se           569 non-null    float64\n",
      " 17  concavity_se             569 non-null    float64\n",
      " 18  concave points_se        569 non-null    float64\n",
      " 19  symmetry_se              569 non-null    float64\n",
      " 20  fractal_dimension_se     569 non-null    float64\n",
      " 21  radius_worst             569 non-null    float64\n",
      " 22  texture_worst            569 non-null    float64\n",
      " 23  perimeter_worst          569 non-null    float64\n",
      " 24  area_worst               569 non-null    float64\n",
      " 25  smoothness_worst         569 non-null    float64\n",
      " 26  compactness_worst        569 non-null    float64\n",
      " 27  concavity_worst          569 non-null    float64\n",
      " 28  concave points_worst     569 non-null    float64\n",
      " 29  symmetry_worst           569 non-null    float64\n",
      " 30  fractal_dimension_worst  569 non-null    float64\n",
      "dtypes: float64(30), int64(1)\n",
      "memory usage: 137.9 KB\n"
     ]
    }
   ],
   "source": [
    "df.info()"
   ]
  },
  {
   "cell_type": "code",
   "execution_count": 6,
   "id": "c7b50227",
   "metadata": {},
   "outputs": [
    {
     "data": {
      "text/plain": [
       "0"
      ]
     },
     "execution_count": 6,
     "metadata": {},
     "output_type": "execute_result"
    }
   ],
   "source": [
    "df.duplicated().sum()"
   ]
  },
  {
   "cell_type": "code",
   "execution_count": 7,
   "id": "4b544286",
   "metadata": {},
   "outputs": [
    {
     "data": {
      "text/html": [
       "<div>\n",
       "<style scoped>\n",
       "    .dataframe tbody tr th:only-of-type {\n",
       "        vertical-align: middle;\n",
       "    }\n",
       "\n",
       "    .dataframe tbody tr th {\n",
       "        vertical-align: top;\n",
       "    }\n",
       "\n",
       "    .dataframe thead th {\n",
       "        text-align: right;\n",
       "    }\n",
       "</style>\n",
       "<table border=\"1\" class=\"dataframe\">\n",
       "  <thead>\n",
       "    <tr style=\"text-align: right;\">\n",
       "      <th></th>\n",
       "      <th>diagnosis</th>\n",
       "      <th>radius_mean</th>\n",
       "      <th>texture_mean</th>\n",
       "      <th>perimeter_mean</th>\n",
       "      <th>area_mean</th>\n",
       "      <th>symmetry_mean</th>\n",
       "    </tr>\n",
       "  </thead>\n",
       "  <tbody>\n",
       "    <tr>\n",
       "      <th>0</th>\n",
       "      <td>1</td>\n",
       "      <td>17.99</td>\n",
       "      <td>10.38</td>\n",
       "      <td>122.80</td>\n",
       "      <td>1001.0</td>\n",
       "      <td>0.2419</td>\n",
       "    </tr>\n",
       "    <tr>\n",
       "      <th>1</th>\n",
       "      <td>1</td>\n",
       "      <td>20.57</td>\n",
       "      <td>17.77</td>\n",
       "      <td>132.90</td>\n",
       "      <td>1326.0</td>\n",
       "      <td>0.1812</td>\n",
       "    </tr>\n",
       "    <tr>\n",
       "      <th>2</th>\n",
       "      <td>1</td>\n",
       "      <td>19.69</td>\n",
       "      <td>21.25</td>\n",
       "      <td>130.00</td>\n",
       "      <td>1203.0</td>\n",
       "      <td>0.2069</td>\n",
       "    </tr>\n",
       "    <tr>\n",
       "      <th>3</th>\n",
       "      <td>1</td>\n",
       "      <td>11.42</td>\n",
       "      <td>20.38</td>\n",
       "      <td>77.58</td>\n",
       "      <td>386.1</td>\n",
       "      <td>0.2597</td>\n",
       "    </tr>\n",
       "    <tr>\n",
       "      <th>4</th>\n",
       "      <td>1</td>\n",
       "      <td>20.29</td>\n",
       "      <td>14.34</td>\n",
       "      <td>135.10</td>\n",
       "      <td>1297.0</td>\n",
       "      <td>0.1809</td>\n",
       "    </tr>\n",
       "  </tbody>\n",
       "</table>\n",
       "</div>"
      ],
      "text/plain": [
       "   diagnosis  radius_mean  texture_mean  perimeter_mean  area_mean  \\\n",
       "0          1        17.99         10.38          122.80     1001.0   \n",
       "1          1        20.57         17.77          132.90     1326.0   \n",
       "2          1        19.69         21.25          130.00     1203.0   \n",
       "3          1        11.42         20.38           77.58      386.1   \n",
       "4          1        20.29         14.34          135.10     1297.0   \n",
       "\n",
       "   symmetry_mean  \n",
       "0         0.2419  \n",
       "1         0.1812  \n",
       "2         0.2069  \n",
       "3         0.2597  \n",
       "4         0.1809  "
      ]
     },
     "execution_count": 7,
     "metadata": {},
     "output_type": "execute_result"
    }
   ],
   "source": [
    "cancer_df = df[['diagnosis','radius_mean','texture_mean','perimeter_mean','area_mean','symmetry_mean']]\n",
    "cancer_df.head()"
   ]
  },
  {
   "cell_type": "code",
   "execution_count": 8,
   "id": "5bda08f5",
   "metadata": {},
   "outputs": [
    {
     "data": {
      "text/html": [
       "<div>\n",
       "<style scoped>\n",
       "    .dataframe tbody tr th:only-of-type {\n",
       "        vertical-align: middle;\n",
       "    }\n",
       "\n",
       "    .dataframe tbody tr th {\n",
       "        vertical-align: top;\n",
       "    }\n",
       "\n",
       "    .dataframe thead th {\n",
       "        text-align: right;\n",
       "    }\n",
       "</style>\n",
       "<table border=\"1\" class=\"dataframe\">\n",
       "  <thead>\n",
       "    <tr style=\"text-align: right;\">\n",
       "      <th></th>\n",
       "      <th>diagnostico</th>\n",
       "      <th>raio</th>\n",
       "      <th>textura</th>\n",
       "      <th>perímetro</th>\n",
       "      <th>área</th>\n",
       "      <th>simetria</th>\n",
       "    </tr>\n",
       "  </thead>\n",
       "  <tbody>\n",
       "    <tr>\n",
       "      <th>0</th>\n",
       "      <td>1</td>\n",
       "      <td>17.99</td>\n",
       "      <td>10.38</td>\n",
       "      <td>122.80</td>\n",
       "      <td>1001.0</td>\n",
       "      <td>0.2419</td>\n",
       "    </tr>\n",
       "    <tr>\n",
       "      <th>1</th>\n",
       "      <td>1</td>\n",
       "      <td>20.57</td>\n",
       "      <td>17.77</td>\n",
       "      <td>132.90</td>\n",
       "      <td>1326.0</td>\n",
       "      <td>0.1812</td>\n",
       "    </tr>\n",
       "    <tr>\n",
       "      <th>2</th>\n",
       "      <td>1</td>\n",
       "      <td>19.69</td>\n",
       "      <td>21.25</td>\n",
       "      <td>130.00</td>\n",
       "      <td>1203.0</td>\n",
       "      <td>0.2069</td>\n",
       "    </tr>\n",
       "    <tr>\n",
       "      <th>3</th>\n",
       "      <td>1</td>\n",
       "      <td>11.42</td>\n",
       "      <td>20.38</td>\n",
       "      <td>77.58</td>\n",
       "      <td>386.1</td>\n",
       "      <td>0.2597</td>\n",
       "    </tr>\n",
       "    <tr>\n",
       "      <th>4</th>\n",
       "      <td>1</td>\n",
       "      <td>20.29</td>\n",
       "      <td>14.34</td>\n",
       "      <td>135.10</td>\n",
       "      <td>1297.0</td>\n",
       "      <td>0.1809</td>\n",
       "    </tr>\n",
       "  </tbody>\n",
       "</table>\n",
       "</div>"
      ],
      "text/plain": [
       "   diagnostico   raio  textura  perímetro    área  simetria\n",
       "0            1  17.99    10.38     122.80  1001.0    0.2419\n",
       "1            1  20.57    17.77     132.90  1326.0    0.1812\n",
       "2            1  19.69    21.25     130.00  1203.0    0.2069\n",
       "3            1  11.42    20.38      77.58   386.1    0.2597\n",
       "4            1  20.29    14.34     135.10  1297.0    0.1809"
      ]
     },
     "execution_count": 8,
     "metadata": {},
     "output_type": "execute_result"
    }
   ],
   "source": [
    "cancer_df.columns = ['diagnostico','raio','textura','perímetro','área','simetria']\n",
    "cancer_df.head()"
   ]
  },
  {
   "cell_type": "code",
   "execution_count": 9,
   "id": "bbfa3532",
   "metadata": {},
   "outputs": [
    {
     "data": {
      "text/plain": [
       "0    357\n",
       "1    212\n",
       "Name: diagnostico, dtype: int64"
      ]
     },
     "execution_count": 9,
     "metadata": {},
     "output_type": "execute_result"
    }
   ],
   "source": [
    "cancer_df['diagnostico'].value_counts()"
   ]
  },
  {
   "cell_type": "code",
   "execution_count": 10,
   "id": "337500d8",
   "metadata": {},
   "outputs": [
    {
     "data": {
      "text/plain": [
       "0    0.627417\n",
       "1    0.372583\n",
       "Name: diagnostico, dtype: float64"
      ]
     },
     "execution_count": 10,
     "metadata": {},
     "output_type": "execute_result"
    }
   ],
   "source": [
    "cancer_df['diagnostico'].value_counts(normalize=True)"
   ]
  },
  {
   "cell_type": "code",
   "execution_count": 11,
   "id": "e6570edc",
   "metadata": {},
   "outputs": [
    {
     "data": {
      "text/plain": [
       "<AxesSubplot:xlabel='diagnostico', ylabel='count'>"
      ]
     },
     "execution_count": 11,
     "metadata": {},
     "output_type": "execute_result"
    },
    {
     "data": {
      "image/png": "[encoded data removed]",
      "text/plain": [
       "<Figure size 1080x360 with 1 Axes>"
      ]
     },
     "metadata": {
      "needs_background": "light"
     },
     "output_type": "display_data"
    }
   ],
   "source": [
    "plt.figure(figsize=(15,5))\n",
    "sns.countplot(data=cancer_df,x='diagnostico')"
   ]
  },
  {
   "cell_type": "code",
   "execution_count": 12,
   "id": "5316e097",
   "metadata": {},
   "outputs": [],
   "source": [
    "X = cancer_df.drop(['diagnostico'], axis=1)\n",
    "y = cancer_df['diagnostico']"
   ]
  },
  {
   "cell_type": "code",
   "execution_count": 13,
   "id": "c5218b61",
   "metadata": {},
   "outputs": [],
   "source": [
    "X_train, X_test, y_train, y_test = train_test_split(X, y, test_size = 0.2,random_state=42)"
   ]
  },
  {
   "cell_type": "code",
   "execution_count": 14,
   "id": "e7e5f211",
   "metadata": {},
   "outputs": [
    {
     "name": "stdout",
     "output_type": "stream",
     "text": [
      "Conjunto de treino : (455, 5)\n",
      "Conjunto de treino : (114, 5)\n"
     ]
    }
   ],
   "source": [
    "print(f'Conjunto de treino : {X_train.shape}')\n",
    "print(f'Conjunto de treino : {X_test.shape}')"
   ]
  },
  {
   "cell_type": "code",
   "execution_count": 15,
   "id": "e6992d62",
   "metadata": {},
   "outputs": [],
   "source": [
    "sc_X = StandardScaler()\n",
    "X = sc_X.fit_transform(X_train)\n",
    "\n",
    "y = sc_X.fit_transform(np.array(y_train).reshape(-1,1))"
   ]
  },
  {
   "cell_type": "markdown",
   "id": "8aca07dc",
   "metadata": {},
   "source": [
    "## Regressão Logística"
   ]
  },
  {
   "cell_type": "code",
   "execution_count": 107,
   "id": "edaf9826",
   "metadata": {},
   "outputs": [],
   "source": [
    "param_grid = {'penalty':['l1', 'l2', 'elasticnet', None],\n",
    "                'C':range(1,101)}\n",
    "\n",
    "metrica = \"f1_weighted\"\n",
    "\n",
    "log_reg = GridSearchCV(estimator =LogisticRegression() ,\n",
    "                           param_grid = param_grid,\n",
    "                           scoring = metrica,\n",
    "                           cv = 5,\n",
    "                           verbose = 10)\n"
   ]
  },
  {
   "cell_type": "code",
   "execution_count": 108,
   "id": "2f4d9acf",
   "metadata": {},
   "outputs": [
    {
     "data": {
      "text/html": [
       "<style>#sk-container-id-12 {color: black;}#sk-container-id-12 pre{padding: 0;}#sk-container-id-12 div.sk-toggleable {background-color: white;}#sk-container-id-12 label.sk-toggleable__label {cursor: pointer;display: block;width: 100%;margin-bottom: 0;padding: 0.3em;box-sizing: border-box;text-align: center;}#sk-container-id-12 label.sk-toggleable__label-arrow:before {content: \"▸\";float: left;margin-right: 0.25em;color: #696969;}#sk-container-id-12 label.sk-toggleable__label-arrow:hover:before {color: black;}#sk-container-id-12 div.sk-estimator:hover label.sk-toggleable__label-arrow:before {color: black;}#sk-container-id-12 div.sk-toggleable__content {max-height: 0;max-width: 0;overflow: hidden;text-align: left;background-color: #f0f8ff;}#sk-container-id-12 div.sk-toggleable__content pre {margin: 0.2em;color: black;border-radius: 0.25em;background-color: #f0f8ff;}#sk-container-id-12 input.sk-toggleable__control:checked~div.sk-toggleable__content {max-height: 200px;max-width: 100%;overflow: auto;}#sk-container-id-12 input.sk-toggleable__control:checked~label.sk-toggleable__label-arrow:before {content: \"▾\";}#sk-container-id-12 div.sk-estimator input.sk-toggleable__control:checked~label.sk-toggleable__label {background-color: #d4ebff;}#sk-container-id-12 div.sk-label input.sk-toggleable__control:checked~label.sk-toggleable__label {background-color: #d4ebff;}#sk-container-id-12 input.sk-hidden--visually {border: 0;clip: rect(1px 1px 1px 1px);clip: rect(1px, 1px, 1px, 1px);height: 1px;margin: -1px;overflow: hidden;padding: 0;position: absolute;width: 1px;}#sk-container-id-12 div.sk-estimator {font-family: monospace;background-color: #f0f8ff;border: 1px dotted black;border-radius: 0.25em;box-sizing: border-box;margin-bottom: 0.5em;}#sk-container-id-12 div.sk-estimator:hover {background-color: #d4ebff;}#sk-container-id-12 div.sk-parallel-item::after {content: \"\";width: 100%;border-bottom: 1px solid gray;flex-grow: 1;}#sk-container-id-12 div.sk-label:hover label.sk-toggleable__label {background-color: #d4ebff;}#sk-container-id-12 div.sk-serial::before {content: \"\";position: absolute;border-left: 1px solid gray;box-sizing: border-box;top: 0;bottom: 0;left: 50%;z-index: 0;}#sk-container-id-12 div.sk-serial {display: flex;flex-direction: column;align-items: center;background-color: white;padding-right: 0.2em;padding-left: 0.2em;position: relative;}#sk-container-id-12 div.sk-item {position: relative;z-index: 1;}#sk-container-id-12 div.sk-parallel {display: flex;align-items: stretch;justify-content: center;background-color: white;position: relative;}#sk-container-id-12 div.sk-item::before, #sk-container-id-12 div.sk-parallel-item::before {content: \"\";position: absolute;border-left: 1px solid gray;box-sizing: border-box;top: 0;bottom: 0;left: 50%;z-index: -1;}#sk-container-id-12 div.sk-parallel-item {display: flex;flex-direction: column;z-index: 1;position: relative;background-color: white;}#sk-container-id-12 div.sk-parallel-item:first-child::after {align-self: flex-end;width: 50%;}#sk-container-id-12 div.sk-parallel-item:last-child::after {align-self: flex-start;width: 50%;}#sk-container-id-12 div.sk-parallel-item:only-child::after {width: 0;}#sk-container-id-12 div.sk-dashed-wrapped {border: 1px dashed gray;margin: 0 0.4em 0.5em 0.4em;box-sizing: border-box;padding-bottom: 0.4em;background-color: white;}#sk-container-id-12 div.sk-label label {font-family: monospace;font-weight: bold;display: inline-block;line-height: 1.2em;}#sk-container-id-12 div.sk-label-container {text-align: center;}#sk-container-id-12 div.sk-container {/* jupyter's `normalize.less` sets `[hidden] { display: none; }` but bootstrap.min.css set `[hidden] { display: none !important; }` so we also need the `!important` here to be able to override the default hidden behavior on the sphinx rendered scikit-learn.org. See: https://github.com/scikit-learn/scikit-learn/issues/21755 */display: inline-block !important;position: relative;}#sk-container-id-12 div.sk-text-repr-fallback {display: none;}</style><div id=\"sk-container-id-12\" class=\"sk-top-container\"><div class=\"sk-text-repr-fallback\"><pre>GridSearchCV(cv=5, estimator=LogisticRegression(),\n",
       "             param_grid={&#x27;C&#x27;: range(1, 101),\n",
       "                         &#x27;penalty&#x27;: [&#x27;l1&#x27;, &#x27;l2&#x27;, &#x27;elasticnet&#x27;, None]},\n",
       "             scoring=&#x27;recall&#x27;, verbose=10)</pre><b>In a Jupyter environment, please rerun this cell to show the HTML representation or trust the notebook. <br />On GitHub, the HTML representation is unable to render, please try loading this page with nbviewer.org.</b></div><div class=\"sk-container\" hidden><div class=\"sk-item sk-dashed-wrapped\"><div class=\"sk-label-container\"><div class=\"sk-label sk-toggleable\"><input class=\"sk-toggleable__control sk-hidden--visually\" id=\"sk-estimator-id-34\" type=\"checkbox\" ><label for=\"sk-estimator-id-34\" class=\"sk-toggleable__label sk-toggleable__label-arrow\">GridSearchCV</label><div class=\"sk-toggleable__content\"><pre>GridSearchCV(cv=5, estimator=LogisticRegression(),\n",
       "             param_grid={&#x27;C&#x27;: range(1, 101),\n",
       "                         &#x27;penalty&#x27;: [&#x27;l1&#x27;, &#x27;l2&#x27;, &#x27;elasticnet&#x27;, None]},\n",
       "             scoring=&#x27;recall&#x27;, verbose=10)</pre></div></div></div><div class=\"sk-parallel\"><div class=\"sk-parallel-item\"><div class=\"sk-item\"><div class=\"sk-label-container\"><div class=\"sk-label sk-toggleable\"><input class=\"sk-toggleable__control sk-hidden--visually\" id=\"sk-estimator-id-35\" type=\"checkbox\" ><label for=\"sk-estimator-id-35\" class=\"sk-toggleable__label sk-toggleable__label-arrow\">estimator: LogisticRegression</label><div class=\"sk-toggleable__content\"><pre>LogisticRegression()</pre></div></div></div><div class=\"sk-serial\"><div class=\"sk-item\"><div class=\"sk-estimator sk-toggleable\"><input class=\"sk-toggleable__control sk-hidden--visually\" id=\"sk-estimator-id-36\" type=\"checkbox\" ><label for=\"sk-estimator-id-36\" class=\"sk-toggleable__label sk-toggleable__label-arrow\">LogisticRegression</label><div class=\"sk-toggleable__content\"><pre>LogisticRegression()</pre></div></div></div></div></div></div></div></div></div></div>"
      ],
      "text/plain": [
       "GridSearchCV(cv=5, estimator=LogisticRegression(),\n",
       "             param_grid={'C': range(1, 101),\n",
       "                         'penalty': ['l1', 'l2', 'elasticnet', None]},\n",
       "             scoring='recall', verbose=10)"
      ]
     },
     "execution_count": 108,
     "metadata": {},
     "output_type": "execute_result"
    }
   ],
   "source": [
    "log_reg"
   ]
  },
  {
   "cell_type": "code",
   "execution_count": 109,
   "id": "eb4b7619",
   "metadata": {},
   "outputs": [
    {
     "name": "stdout",
     "output_type": "stream",
     "text": [
      "Fitting 5 folds for each of 400 candidates, totalling 2000 fits\n",
      "[CV 1/5; 1/400] START C=1, penalty=l1...........................................\n",
      "[CV 1/5; 1/400] END ..............C=1, penalty=l1;, score=nan total time=   0.0s\n",
      "[CV 2/5; 1/400] START C=1, penalty=l1...........................................\n",
      "[CV 2/5; 1/400] END ..............C=1, penalty=l1;, score=nan total time=   0.0s\n",
      "[CV 3/5; 1/400] START C=1, penalty=l1...........................................\n",
      "[CV 3/5; 1/400] END ..............C=1, penalty=l1;, score=nan total time=   0.0s\n",
      "[CV 4/5; 1/400] START C=1, penalty=l1...........................................\n",
      "[CV 4/5; 1/400] END ..............C=1, penalty=l1;, score=nan total time=   0.0s\n",
      "[CV 5/5; 1/400] START C=1, penalty=l1...........................................\n",
      "[CV 5/5; 1/400] END ..............C=1, penalty=l1;, score=nan total time=   0.0s\n",
      "[CV 1/5; 2/400] START C=1, penalty=l2...........................................\n"
     ]
    },
    {
     "name": "stderr",
     "output_type": "stream",
     "text": [
      "C:\\Users\\Usuario\\anaconda3\\lib\\site-packages\\sklearn\\linear_model\\_logistic.py:460: ConvergenceWarning:\n",
      "\n",
      "lbfgs failed to converge (status=1):\n",
      "STOP: TOTAL NO. of ITERATIONS REACHED LIMIT.\n",
      "\n",
      "Increase the number of iterations (max_iter) or scale the data as shown in:\n",
      "    https://scikit-learn.org/stable/modules/preprocessing.html\n",
      "Please also refer to the documentation for alternative solver options:\n",
      "    https://scikit-learn.org/stable/modules/linear_model.html#logistic-regression\n",
      "\n",
      "C:\\Users\\Usuario\\anaconda3\\lib\\site-packages\\sklearn\\linear_model\\_logistic.py:460: ConvergenceWarning:\n",
      "\n",
      "lbfgs failed to converge (status=1):\n",
      "STOP: TOTAL NO. of ITERATIONS REACHED LIMIT.\n",
      "\n",
      "Increase the number of iterations (max_iter) or scale the data as shown in:\n",
      "    https://scikit-learn.org/stable/modules/preprocessing.html\n",
      "Please also refer to the documentation for alternative solver options:\n",
      "    https://scikit-learn.org/stable/modules/linear_model.html#logistic-regression\n",
      "\n",
      "C:\\Users\\Usuario\\anaconda3\\lib\\site-packages\\sklearn\\linear_model\\_logistic.py:460: ConvergenceWarning:\n",
      "\n",
      "lbfgs failed to converge (status=1):\n",
      "STOP: TOTAL NO. of ITERATIONS REACHED LIMIT.\n",
      "\n",
      "Increase the number of iterations (max_iter) or scale the data as shown in:\n",
      "    https://scikit-learn.org/stable/modules/preprocessing.html\n",
      "Please also refer to the documentation for alternative solver options:\n",
      "    https://scikit-learn.org/stable/modules/linear_model.html#logistic-regression\n",
      "\n",
      "C:\\Users\\Usuario\\anaconda3\\lib\\site-packages\\sklearn\\linear_model\\_logistic.py:460: ConvergenceWarning:\n",
      "\n",
      "lbfgs failed to converge (status=1):\n",
      "STOP: TOTAL NO. of ITERATIONS REACHED LIMIT.\n",
      "\n",
      "Increase the number of iterations (max_iter) or scale the data as shown in:\n",
      "    https://scikit-learn.org/stable/modules/preprocessing.html\n",
      "Please also refer to the documentation for alternative solver options:\n",
      "    https://scikit-learn.org/stable/modules/linear_model.html#logistic-regression\n",
      "\n"
     ]
    },
    {
     "name": "stdout",
     "output_type": "stream",
     "text": [
      "[CV 1/5; 2/400] END ............C=1, penalty=l2;, score=0.909 total time=   5.7s\n",
      "[CV 2/5; 2/400] START C=1, penalty=l2...........................................\n",
      "[CV 2/5; 2/400] END ............C=1, penalty=l2;, score=0.794 total time=   0.0s\n",
      "[CV 3/5; 2/400] START C=1, penalty=l2...........................................\n",
      "[CV 3/5; 2/400] END ............C=1, penalty=l2;, score=0.912 total time=   0.0s\n",
      "[CV 4/5; 2/400] START C=1, penalty=l2...........................................\n",
      "[CV 4/5; 2/400] END ............C=1, penalty=l2;, score=0.765 total time=   0.0s\n",
      "[CV 5/5; 2/400] START C=1, penalty=l2...........................................\n",
      "[CV 5/5; 2/400] END ............C=1, penalty=l2;, score=0.794 total time=   0.0s\n",
      "[CV 1/5; 3/400] START C=1, penalty=elasticnet...................................\n",
      "[CV 1/5; 3/400] END ......C=1, penalty=elasticnet;, score=nan total time=   0.0s\n",
      "[CV 2/5; 3/400] START C=1, penalty=elasticnet...................................\n",
      "[CV 2/5; 3/400] END ......C=1, penalty=elasticnet;, score=nan total time=   0.0s\n",
      "[CV 3/5; 3/400] START C=1, penalty=elasticnet...................................\n",
      "[CV 3/5; 3/400] END ......C=1, penalty=elasticnet;, score=nan total time=   0.0s\n",
      "[CV 4/5; 3/400] START C=1, penalty=elasticnet...................................\n",
      "[CV 4/5; 3/400] END ......C=1, penalty=elasticnet;, score=nan total time=   0.0s\n",
      "[CV 5/5; 3/400] START C=1, penalty=elasticnet...................................\n",
      "[CV 5/5; 3/400] END ......C=1, penalty=elasticnet;, score=nan total time=   0.0s\n",
      "[CV 1/5; 4/400] START C=1, penalty=None.........................................\n",
      "[CV 1/5; 4/400] END ..........C=1, penalty=None;, score=0.909 total time=   0.0s\n",
      "[CV 2/5; 4/400] START C=1, penalty=None.........................................\n",
      "[CV 2/5; 4/400] END ..........C=1, penalty=None;, score=0.853 total time=   0.0s\n",
      "[CV 3/5; 4/400] START C=1, penalty=None.........................................\n"
     ]
    },
    {
     "name": "stderr",
     "output_type": "stream",
     "text": [
      "C:\\Users\\Usuario\\anaconda3\\lib\\site-packages\\sklearn\\linear_model\\_logistic.py:460: ConvergenceWarning:\n",
      "\n",
      "lbfgs failed to converge (status=1):\n",
      "STOP: TOTAL NO. of ITERATIONS REACHED LIMIT.\n",
      "\n",
      "Increase the number of iterations (max_iter) or scale the data as shown in:\n",
      "    https://scikit-learn.org/stable/modules/preprocessing.html\n",
      "Please also refer to the documentation for alternative solver options:\n",
      "    https://scikit-learn.org/stable/modules/linear_model.html#logistic-regression\n",
      "\n",
      "C:\\Users\\Usuario\\anaconda3\\lib\\site-packages\\sklearn\\linear_model\\_logistic.py:460: ConvergenceWarning:\n",
      "\n",
      "lbfgs failed to converge (status=1):\n",
      "STOP: TOTAL NO. of ITERATIONS REACHED LIMIT.\n",
      "\n",
      "Increase the number of iterations (max_iter) or scale the data as shown in:\n",
      "    https://scikit-learn.org/stable/modules/preprocessing.html\n",
      "Please also refer to the documentation for alternative solver options:\n",
      "    https://scikit-learn.org/stable/modules/linear_model.html#logistic-regression\n",
      "\n"
     ]
    },
    {
     "name": "stdout",
     "output_type": "stream",
     "text": [
      "[CV 3/5; 4/400] END ..........C=1, penalty=None;, score=0.941 total time=   0.0s\n",
      "[CV 4/5; 4/400] START C=1, penalty=None.........................................\n",
      "[CV 4/5; 4/400] END ..........C=1, penalty=None;, score=0.765 total time=   0.0s\n",
      "[CV 5/5; 4/400] START C=1, penalty=None.........................................\n",
      "[CV 5/5; 4/400] END ..........C=1, penalty=None;, score=0.824 total time=   0.0s\n",
      "[CV 1/5; 5/400] START C=2, penalty=l1...........................................\n",
      "[CV 1/5; 5/400] END ..............C=2, penalty=l1;, score=nan total time=   0.0s\n",
      "[CV 2/5; 5/400] START C=2, penalty=l1...........................................\n",
      "[CV 2/5; 5/400] END ..............C=2, penalty=l1;, score=nan total time=   0.0s\n",
      "[CV 3/5; 5/400] START C=2, penalty=l1...........................................\n",
      "[CV 3/5; 5/400] END ..............C=2, penalty=l1;, score=nan total time=   0.0s\n",
      "[CV 4/5; 5/400] START C=2, penalty=l1...........................................\n",
      "[CV 4/5; 5/400] END ..............C=2, penalty=l1;, score=nan total time=   0.0s\n",
      "[CV 5/5; 5/400] START C=2, penalty=l1...........................................\n",
      "[CV 5/5; 5/400] END ..............C=2, penalty=l1;, score=nan total time=   0.0s\n",
      "[CV 1/5; 6/400] START C=2, penalty=l2...........................................\n",
      "[CV 1/5; 6/400] END ............C=2, penalty=l2;, score=0.939 total time=   0.0s\n",
      "[CV 2/5; 6/400] START C=2, penalty=l2...........................................\n",
      "[CV 2/5; 6/400] END ............C=2, penalty=l2;, score=0.735 total time=   0.0s\n",
      "[CV 3/5; 6/400] START C=2, penalty=l2...........................................\n",
      "[CV 3/5; 6/400] END ............C=2, penalty=l2;, score=0.912 total time=   0.0s\n",
      "[CV 4/5; 6/400] START C=2, penalty=l2...........................................\n",
      "[CV 4/5; 6/400] END ............C=2, penalty=l2;, score=0.765 total time=   0.0s\n",
      "[CV 5/5; 6/400] START C=2, penalty=l2...........................................\n",
      "[CV 5/5; 6/400] END ............C=2, penalty=l2;, score=0.794 total time=   0.0s\n",
      "[CV 1/5; 7/400] START C=2, penalty=elasticnet...................................\n",
      "[CV 1/5; 7/400] END ......C=2, penalty=elasticnet;, score=nan total time=   0.0s\n",
      "[CV 2/5; 7/400] START C=2, penalty=elasticnet...................................\n",
      "[CV 2/5; 7/400] END ......C=2, penalty=elasticnet;, score=nan total time=   0.0s\n",
      "[CV 3/5; 7/400] START C=2, penalty=elasticnet...................................\n",
      "[CV 3/5; 7/400] END ......C=2, penalty=elasticnet;, score=nan total time=   0.0s\n",
      "[CV 4/5; 7/400] START C=2, penalty=elasticnet...................................\n",
      "[CV 4/5; 7/400] END ......C=2, penalty=elasticnet;, score=nan total time=   0.0s\n",
      "[CV 5/5; 7/400] START C=2, penalty=elasticnet...................................\n",
      "[CV 5/5; 7/400] END ......C=2, penalty=elasticnet;, score=nan total time=   0.0s\n",
      "[CV 1/5; 8/400] START C=2, penalty=None.........................................\n",
      "[CV 1/5; 8/400] END ..........C=2, penalty=None;, score=0.909 total time=   0.0s\n",
      "[CV 2/5; 8/400] START C=2, penalty=None.........................................\n",
      "[CV 2/5; 8/400] END ..........C=2, penalty=None;, score=0.853 total time=   0.0s\n",
      "[CV 3/5; 8/400] START C=2, penalty=None.........................................\n",
      "[CV 3/5; 8/400] END ..........C=2, penalty=None;, score=0.941 total time=   0.0s\n",
      "[CV 4/5; 8/400] START C=2, penalty=None.........................................\n"
     ]
    },
    {
     "name": "stderr",
     "output_type": "stream",
     "text": [
      "C:\\Users\\Usuario\\anaconda3\\lib\\site-packages\\sklearn\\linear_model\\_logistic.py:460: ConvergenceWarning:\n",
      "\n",
      "lbfgs failed to converge (status=1):\n",
      "STOP: TOTAL NO. of ITERATIONS REACHED LIMIT.\n",
      "\n",
      "Increase the number of iterations (max_iter) or scale the data as shown in:\n",
      "    https://scikit-learn.org/stable/modules/preprocessing.html\n",
      "Please also refer to the documentation for alternative solver options:\n",
      "    https://scikit-learn.org/stable/modules/linear_model.html#logistic-regression\n",
      "\n",
      "C:\\Users\\Usuario\\anaconda3\\lib\\site-packages\\sklearn\\linear_model\\_logistic.py:1193: UserWarning:\n",
      "\n",
      "Setting penalty=None will ignore the C and l1_ratio parameters\n",
      "\n",
      "C:\\Users\\Usuario\\anaconda3\\lib\\site-packages\\sklearn\\linear_model\\_logistic.py:1193: UserWarning:\n",
      "\n",
      "Setting penalty=None will ignore the C and l1_ratio parameters\n",
      "\n",
      "C:\\Users\\Usuario\\anaconda3\\lib\\site-packages\\sklearn\\linear_model\\_logistic.py:1193: UserWarning:\n",
      "\n",
      "Setting penalty=None will ignore the C and l1_ratio parameters\n",
      "\n",
      "C:\\Users\\Usuario\\anaconda3\\lib\\site-packages\\sklearn\\linear_model\\_logistic.py:460: ConvergenceWarning:\n",
      "\n",
      "lbfgs failed to converge (status=1):\n",
      "STOP: TOTAL NO. of ITERATIONS REACHED LIMIT.\n",
      "\n",
      "Increase the number of iterations (max_iter) or scale the data as shown in:\n",
      "    https://scikit-learn.org/stable/modules/preprocessing.html\n",
      "Please also refer to the documentation for alternative solver options:\n",
      "    https://scikit-learn.org/stable/modules/linear_model.html#logistic-regression\n",
      "\n",
      "C:\\Users\\Usuario\\anaconda3\\lib\\site-packages\\sklearn\\linear_model\\_logistic.py:1193: UserWarning:\n",
      "\n",
      "Setting penalty=None will ignore the C and l1_ratio parameters\n",
      "\n",
      "C:\\Users\\Usuario\\anaconda3\\lib\\site-packages\\sklearn\\linear_model\\_logistic.py:1193: UserWarning:\n",
      "\n",
      "Setting penalty=None will ignore the C and l1_ratio parameters\n",
      "\n"
     ]
    },
    {
     "name": "stdout",
     "output_type": "stream",
     "text": [
      "[CV 4/5; 8/400] END ..........C=2, penalty=None;, score=0.765 total time=   0.0s\n",
      "[CV 5/5; 8/400] START C=2, penalty=None.........................................\n",
      "[CV 5/5; 8/400] END ..........C=2, penalty=None;, score=0.824 total time=   0.0s\n",
      "[CV 1/5; 9/400] START C=3, penalty=l1...........................................\n",
      "[CV 1/5; 9/400] END ..............C=3, penalty=l1;, score=nan total time=   0.0s\n",
      "[CV 2/5; 9/400] START C=3, penalty=l1...........................................\n",
      "[CV 2/5; 9/400] END ..............C=3, penalty=l1;, score=nan total time=   0.0s\n",
      "[CV 3/5; 9/400] START C=3, penalty=l1...........................................\n",
      "[CV 3/5; 9/400] END ..............C=3, penalty=l1;, score=nan total time=   0.0s\n",
      "[CV 4/5; 9/400] START C=3, penalty=l1...........................................\n",
      "[CV 4/5; 9/400] END ..............C=3, penalty=l1;, score=nan total time=   0.0s\n",
      "[CV 5/5; 9/400] START C=3, penalty=l1...........................................\n",
      "[CV 5/5; 9/400] END ..............C=3, penalty=l1;, score=nan total time=   0.0s\n",
      "[CV 1/5; 10/400] START C=3, penalty=l2..........................................\n",
      "[CV 1/5; 10/400] END ...........C=3, penalty=l2;, score=0.909 total time=   0.0s\n",
      "[CV 2/5; 10/400] START C=3, penalty=l2..........................................\n",
      "[CV 2/5; 10/400] END ...........C=3, penalty=l2;, score=0.794 total time=   0.0s\n",
      "[CV 3/5; 10/400] START C=3, penalty=l2..........................................\n",
      "[CV 3/5; 10/400] END ...........C=3, penalty=l2;, score=0.912 total time=   0.0s\n",
      "[CV 4/5; 10/400] START C=3, penalty=l2..........................................\n",
      "[CV 4/5; 10/400] END ...........C=3, penalty=l2;, score=0.765 total time=   0.0s\n",
      "[CV 5/5; 10/400] START C=3, penalty=l2..........................................\n"
     ]
    },
    {
     "name": "stderr",
     "output_type": "stream",
     "text": [
      "C:\\Users\\Usuario\\anaconda3\\lib\\site-packages\\sklearn\\linear_model\\_logistic.py:460: ConvergenceWarning:\n",
      "\n",
      "lbfgs failed to converge (status=1):\n",
      "STOP: TOTAL NO. of ITERATIONS REACHED LIMIT.\n",
      "\n",
      "Increase the number of iterations (max_iter) or scale the data as shown in:\n",
      "    https://scikit-learn.org/stable/modules/preprocessing.html\n",
      "Please also refer to the documentation for alternative solver options:\n",
      "    https://scikit-learn.org/stable/modules/linear_model.html#logistic-regression\n",
      "\n",
      "C:\\Users\\Usuario\\anaconda3\\lib\\site-packages\\sklearn\\linear_model\\_logistic.py:460: ConvergenceWarning:\n",
      "\n",
      "lbfgs failed to converge (status=1):\n",
      "STOP: TOTAL NO. of ITERATIONS REACHED LIMIT.\n",
      "\n",
      "Increase the number of iterations (max_iter) or scale the data as shown in:\n",
      "    https://scikit-learn.org/stable/modules/preprocessing.html\n",
      "Please also refer to the documentation for alternative solver options:\n",
      "    https://scikit-learn.org/stable/modules/linear_model.html#logistic-regression\n",
      "\n",
      "C:\\Users\\Usuario\\anaconda3\\lib\\site-packages\\sklearn\\linear_model\\_logistic.py:460: ConvergenceWarning:\n",
      "\n",
      "lbfgs failed to converge (status=1):\n",
      "STOP: TOTAL NO. of ITERATIONS REACHED LIMIT.\n",
      "\n",
      "Increase the number of iterations (max_iter) or scale the data as shown in:\n",
      "    https://scikit-learn.org/stable/modules/preprocessing.html\n",
      "Please also refer to the documentation for alternative solver options:\n",
      "    https://scikit-learn.org/stable/modules/linear_model.html#logistic-regression\n",
      "\n",
      "C:\\Users\\Usuario\\anaconda3\\lib\\site-packages\\sklearn\\linear_model\\_logistic.py:460: ConvergenceWarning:\n",
      "\n",
      "lbfgs failed to converge (status=1):\n",
      "STOP: TOTAL NO. of ITERATIONS REACHED LIMIT.\n",
      "\n",
      "Increase the number of iterations (max_iter) or scale the data as shown in:\n",
      "    https://scikit-learn.org/stable/modules/preprocessing.html\n",
      "Please also refer to the documentation for alternative solver options:\n",
      "    https://scikit-learn.org/stable/modules/linear_model.html#logistic-regression\n",
      "\n",
      "C:\\Users\\Usuario\\anaconda3\\lib\\site-packages\\sklearn\\linear_model\\_logistic.py:1193: UserWarning:\n",
      "\n",
      "Setting penalty=None will ignore the C and l1_ratio parameters\n",
      "\n",
      "C:\\Users\\Usuario\\anaconda3\\lib\\site-packages\\sklearn\\linear_model\\_logistic.py:1193: UserWarning:\n",
      "\n",
      "Setting penalty=None will ignore the C and l1_ratio parameters\n",
      "\n"
     ]
    },
    {
     "name": "stdout",
     "output_type": "stream",
     "text": [
      "[CV 5/5; 10/400] END ...........C=3, penalty=l2;, score=0.765 total time=   0.0s\n",
      "[CV 1/5; 11/400] START C=3, penalty=elasticnet..................................\n",
      "[CV 1/5; 11/400] END .....C=3, penalty=elasticnet;, score=nan total time=   0.0s\n",
      "[CV 2/5; 11/400] START C=3, penalty=elasticnet..................................\n",
      "[CV 2/5; 11/400] END .....C=3, penalty=elasticnet;, score=nan total time=   0.0s\n",
      "[CV 3/5; 11/400] START C=3, penalty=elasticnet..................................\n",
      "[CV 3/5; 11/400] END .....C=3, penalty=elasticnet;, score=nan total time=   0.0s\n",
      "[CV 4/5; 11/400] START C=3, penalty=elasticnet..................................\n",
      "[CV 4/5; 11/400] END .....C=3, penalty=elasticnet;, score=nan total time=   0.0s\n",
      "[CV 5/5; 11/400] START C=3, penalty=elasticnet..................................\n",
      "[CV 5/5; 11/400] END .....C=3, penalty=elasticnet;, score=nan total time=   0.0s\n",
      "[CV 1/5; 12/400] START C=3, penalty=None........................................\n",
      "[CV 1/5; 12/400] END .........C=3, penalty=None;, score=0.909 total time=   0.0s\n",
      "[CV 2/5; 12/400] START C=3, penalty=None........................................\n",
      "[CV 2/5; 12/400] END .........C=3, penalty=None;, score=0.853 total time=   0.0s\n",
      "[CV 3/5; 12/400] START C=3, penalty=None........................................\n",
      "[CV 3/5; 12/400] END .........C=3, penalty=None;, score=0.941 total time=   0.0s\n",
      "[CV 4/5; 12/400] START C=3, penalty=None........................................\n",
      "[CV 4/5; 12/400] END .........C=3, penalty=None;, score=0.765 total time=   0.0s\n",
      "[CV 5/5; 12/400] START C=3, penalty=None........................................\n",
      "[CV 5/5; 12/400] END .........C=3, penalty=None;, score=0.824 total time=   0.0s\n",
      "[CV 1/5; 13/400] START C=4, penalty=l1..........................................\n",
      "[CV 1/5; 13/400] END .............C=4, penalty=l1;, score=nan total time=   0.0s\n",
      "[CV 2/5; 13/400] START C=4, penalty=l1..........................................\n",
      "[CV 2/5; 13/400] END .............C=4, penalty=l1;, score=nan total time=   0.0s\n",
      "[CV 3/5; 13/400] START C=4, penalty=l1..........................................\n",
      "[CV 3/5; 13/400] END .............C=4, penalty=l1;, score=nan total time=   0.0s\n",
      "[CV 4/5; 13/400] START C=4, penalty=l1..........................................\n",
      "[CV 4/5; 13/400] END .............C=4, penalty=l1;, score=nan total time=   0.0s\n",
      "[CV 5/5; 13/400] START C=4, penalty=l1..........................................\n",
      "[CV 5/5; 13/400] END .............C=4, penalty=l1;, score=nan total time=   0.0s\n",
      "[CV 1/5; 14/400] START C=4, penalty=l2..........................................\n"
     ]
    },
    {
     "name": "stderr",
     "output_type": "stream",
     "text": [
      "C:\\Users\\Usuario\\anaconda3\\lib\\site-packages\\sklearn\\linear_model\\_logistic.py:1193: UserWarning:\n",
      "\n",
      "Setting penalty=None will ignore the C and l1_ratio parameters\n",
      "\n",
      "C:\\Users\\Usuario\\anaconda3\\lib\\site-packages\\sklearn\\linear_model\\_logistic.py:460: ConvergenceWarning:\n",
      "\n",
      "lbfgs failed to converge (status=1):\n",
      "STOP: TOTAL NO. of ITERATIONS REACHED LIMIT.\n",
      "\n",
      "Increase the number of iterations (max_iter) or scale the data as shown in:\n",
      "    https://scikit-learn.org/stable/modules/preprocessing.html\n",
      "Please also refer to the documentation for alternative solver options:\n",
      "    https://scikit-learn.org/stable/modules/linear_model.html#logistic-regression\n",
      "\n",
      "C:\\Users\\Usuario\\anaconda3\\lib\\site-packages\\sklearn\\linear_model\\_logistic.py:1193: UserWarning:\n",
      "\n",
      "Setting penalty=None will ignore the C and l1_ratio parameters\n",
      "\n",
      "C:\\Users\\Usuario\\anaconda3\\lib\\site-packages\\sklearn\\linear_model\\_logistic.py:1193: UserWarning:\n",
      "\n",
      "Setting penalty=None will ignore the C and l1_ratio parameters\n",
      "\n",
      "C:\\Users\\Usuario\\anaconda3\\lib\\site-packages\\sklearn\\linear_model\\_logistic.py:460: ConvergenceWarning:\n",
      "\n",
      "lbfgs failed to converge (status=1):\n",
      "STOP: TOTAL NO. of ITERATIONS REACHED LIMIT.\n",
      "\n",
      "Increase the number of iterations (max_iter) or scale the data as shown in:\n",
      "    https://scikit-learn.org/stable/modules/preprocessing.html\n",
      "Please also refer to the documentation for alternative solver options:\n",
      "    https://scikit-learn.org/stable/modules/linear_model.html#logistic-regression\n",
      "\n"
     ]
    },
    {
     "name": "stdout",
     "output_type": "stream",
     "text": [
      "[CV 1/5; 14/400] END ...........C=4, penalty=l2;, score=0.848 total time=   0.0s\n",
      "[CV 2/5; 14/400] START C=4, penalty=l2..........................................\n",
      "[CV 2/5; 14/400] END ...........C=4, penalty=l2;, score=0.765 total time=   0.0s\n",
      "[CV 3/5; 14/400] START C=4, penalty=l2..........................................\n",
      "[CV 3/5; 14/400] END ...........C=4, penalty=l2;, score=0.912 total time=   0.0s\n",
      "[CV 4/5; 14/400] START C=4, penalty=l2..........................................\n",
      "[CV 4/5; 14/400] END ...........C=4, penalty=l2;, score=0.765 total time=   0.0s\n",
      "[CV 5/5; 14/400] START C=4, penalty=l2..........................................\n",
      "[CV 5/5; 14/400] END ...........C=4, penalty=l2;, score=0.794 total time=   0.0s\n",
      "[CV 1/5; 15/400] START C=4, penalty=elasticnet..................................\n",
      "[CV 1/5; 15/400] END .....C=4, penalty=elasticnet;, score=nan total time=   0.0s\n",
      "[CV 2/5; 15/400] START C=4, penalty=elasticnet..................................\n",
      "[CV 2/5; 15/400] END .....C=4, penalty=elasticnet;, score=nan total time=   0.0s\n",
      "[CV 3/5; 15/400] START C=4, penalty=elasticnet..................................\n",
      "[CV 3/5; 15/400] END .....C=4, penalty=elasticnet;, score=nan total time=   0.0s\n",
      "[CV 4/5; 15/400] START C=4, penalty=elasticnet..................................\n",
      "[CV 4/5; 15/400] END .....C=4, penalty=elasticnet;, score=nan total time=   0.0s\n",
      "[CV 5/5; 15/400] START C=4, penalty=elasticnet..................................\n",
      "[CV 5/5; 15/400] END .....C=4, penalty=elasticnet;, score=nan total time=   0.0s\n",
      "[CV 1/5; 16/400] START C=4, penalty=None........................................\n",
      "[CV 1/5; 16/400] END .........C=4, penalty=None;, score=0.909 total time=   0.0s\n",
      "[CV 2/5; 16/400] START C=4, penalty=None........................................\n"
     ]
    },
    {
     "name": "stderr",
     "output_type": "stream",
     "text": [
      "C:\\Users\\Usuario\\anaconda3\\lib\\site-packages\\sklearn\\linear_model\\_logistic.py:460: ConvergenceWarning:\n",
      "\n",
      "lbfgs failed to converge (status=1):\n",
      "STOP: TOTAL NO. of ITERATIONS REACHED LIMIT.\n",
      "\n",
      "Increase the number of iterations (max_iter) or scale the data as shown in:\n",
      "    https://scikit-learn.org/stable/modules/preprocessing.html\n",
      "Please also refer to the documentation for alternative solver options:\n",
      "    https://scikit-learn.org/stable/modules/linear_model.html#logistic-regression\n",
      "\n",
      "C:\\Users\\Usuario\\anaconda3\\lib\\site-packages\\sklearn\\linear_model\\_logistic.py:1193: UserWarning:\n",
      "\n",
      "Setting penalty=None will ignore the C and l1_ratio parameters\n",
      "\n",
      "C:\\Users\\Usuario\\anaconda3\\lib\\site-packages\\sklearn\\linear_model\\_logistic.py:1193: UserWarning:\n",
      "\n",
      "Setting penalty=None will ignore the C and l1_ratio parameters\n",
      "\n",
      "C:\\Users\\Usuario\\anaconda3\\lib\\site-packages\\sklearn\\linear_model\\_logistic.py:1193: UserWarning:\n",
      "\n",
      "Setting penalty=None will ignore the C and l1_ratio parameters\n",
      "\n",
      "C:\\Users\\Usuario\\anaconda3\\lib\\site-packages\\sklearn\\linear_model\\_logistic.py:460: ConvergenceWarning:\n",
      "\n",
      "lbfgs failed to converge (status=1):\n",
      "STOP: TOTAL NO. of ITERATIONS REACHED LIMIT.\n",
      "\n",
      "Increase the number of iterations (max_iter) or scale the data as shown in:\n",
      "    https://scikit-learn.org/stable/modules/preprocessing.html\n",
      "Please also refer to the documentation for alternative solver options:\n",
      "    https://scikit-learn.org/stable/modules/linear_model.html#logistic-regression\n",
      "\n",
      "C:\\Users\\Usuario\\anaconda3\\lib\\site-packages\\sklearn\\linear_model\\_logistic.py:1193: UserWarning:\n",
      "\n",
      "Setting penalty=None will ignore the C and l1_ratio parameters\n",
      "\n",
      "C:\\Users\\Usuario\\anaconda3\\lib\\site-packages\\sklearn\\linear_model\\_logistic.py:1193: UserWarning:\n",
      "\n",
      "Setting penalty=None will ignore the C and l1_ratio parameters\n",
      "\n"
     ]
    },
    {
     "name": "stdout",
     "output_type": "stream",
     "text": [
      "[CV 2/5; 16/400] END .........C=4, penalty=None;, score=0.853 total time=   0.0s\n",
      "[CV 3/5; 16/400] START C=4, penalty=None........................................\n",
      "[CV 3/5; 16/400] END .........C=4, penalty=None;, score=0.941 total time=   0.0s\n",
      "[CV 4/5; 16/400] START C=4, penalty=None........................................\n",
      "[CV 4/5; 16/400] END .........C=4, penalty=None;, score=0.765 total time=   0.0s\n",
      "[CV 5/5; 16/400] START C=4, penalty=None........................................\n",
      "[CV 5/5; 16/400] END .........C=4, penalty=None;, score=0.824 total time=   0.0s\n",
      "[CV 1/5; 17/400] START C=5, penalty=l1..........................................\n",
      "[CV 1/5; 17/400] END .............C=5, penalty=l1;, score=nan total time=   0.0s\n",
      "[CV 2/5; 17/400] START C=5, penalty=l1..........................................\n",
      "[CV 2/5; 17/400] END .............C=5, penalty=l1;, score=nan total time=   0.0s\n",
      "[CV 3/5; 17/400] START C=5, penalty=l1..........................................\n",
      "[CV 3/5; 17/400] END .............C=5, penalty=l1;, score=nan total time=   0.0s\n",
      "[CV 4/5; 17/400] START C=5, penalty=l1..........................................\n",
      "[CV 4/5; 17/400] END .............C=5, penalty=l1;, score=nan total time=   0.0s\n",
      "[CV 5/5; 17/400] START C=5, penalty=l1..........................................\n",
      "[CV 5/5; 17/400] END .............C=5, penalty=l1;, score=nan total time=   0.0s\n",
      "[CV 1/5; 18/400] START C=5, penalty=l2..........................................\n",
      "[CV 1/5; 18/400] END ...........C=5, penalty=l2;, score=0.848 total time=   0.0s\n",
      "[CV 2/5; 18/400] START C=5, penalty=l2..........................................\n",
      "[CV 2/5; 18/400] END ...........C=5, penalty=l2;, score=0.794 total time=   0.0s\n",
      "[CV 3/5; 18/400] START C=5, penalty=l2..........................................\n",
      "[CV 3/5; 18/400] END ...........C=5, penalty=l2;, score=0.912 total time=   0.0s\n",
      "[CV 4/5; 18/400] START C=5, penalty=l2..........................................\n",
      "[CV 4/5; 18/400] END ...........C=5, penalty=l2;, score=0.765 total time=   0.0s\n",
      "[CV 5/5; 18/400] START C=5, penalty=l2..........................................\n",
      "[CV 5/5; 18/400] END ...........C=5, penalty=l2;, score=0.765 total time=   0.0s\n",
      "[CV 1/5; 19/400] START C=5, penalty=elasticnet..................................\n",
      "[CV 1/5; 19/400] END .....C=5, penalty=elasticnet;, score=nan total time=   0.0s\n",
      "[CV 2/5; 19/400] START C=5, penalty=elasticnet..................................\n",
      "[CV 2/5; 19/400] END .....C=5, penalty=elasticnet;, score=nan total time=   0.0s\n",
      "[CV 3/5; 19/400] START C=5, penalty=elasticnet..................................\n",
      "[CV 3/5; 19/400] END .....C=5, penalty=elasticnet;, score=nan total time=   0.0s\n",
      "[CV 4/5; 19/400] START C=5, penalty=elasticnet..................................\n",
      "[CV 4/5; 19/400] END .....C=5, penalty=elasticnet;, score=nan total time=   0.0s\n",
      "[CV 5/5; 19/400] START C=5, penalty=elasticnet..................................\n",
      "[CV 5/5; 19/400] END .....C=5, penalty=elasticnet;, score=nan total time=   0.0s\n",
      "[CV 1/5; 20/400] START C=5, penalty=None........................................\n",
      "[CV 1/5; 20/400] END .........C=5, penalty=None;, score=0.909 total time=   0.0s\n",
      "[CV 2/5; 20/400] START C=5, penalty=None........................................\n",
      "[CV 2/5; 20/400] END .........C=5, penalty=None;, score=0.853 total time=   0.0s\n",
      "[CV 3/5; 20/400] START C=5, penalty=None........................................\n"
     ]
    },
    {
     "name": "stderr",
     "output_type": "stream",
     "text": [
      "C:\\Users\\Usuario\\anaconda3\\lib\\site-packages\\sklearn\\linear_model\\_logistic.py:1193: UserWarning:\n",
      "\n",
      "Setting penalty=None will ignore the C and l1_ratio parameters\n",
      "\n",
      "C:\\Users\\Usuario\\anaconda3\\lib\\site-packages\\sklearn\\linear_model\\_logistic.py:1193: UserWarning:\n",
      "\n",
      "Setting penalty=None will ignore the C and l1_ratio parameters\n",
      "\n",
      "C:\\Users\\Usuario\\anaconda3\\lib\\site-packages\\sklearn\\linear_model\\_logistic.py:1193: UserWarning:\n",
      "\n",
      "Setting penalty=None will ignore the C and l1_ratio parameters\n",
      "\n",
      "C:\\Users\\Usuario\\anaconda3\\lib\\site-packages\\sklearn\\linear_model\\_logistic.py:460: ConvergenceWarning:\n",
      "\n",
      "lbfgs failed to converge (status=1):\n",
      "STOP: TOTAL NO. of ITERATIONS REACHED LIMIT.\n",
      "\n",
      "Increase the number of iterations (max_iter) or scale the data as shown in:\n",
      "    https://scikit-learn.org/stable/modules/preprocessing.html\n",
      "Please also refer to the documentation for alternative solver options:\n",
      "    https://scikit-learn.org/stable/modules/linear_model.html#logistic-regression\n",
      "\n",
      "C:\\Users\\Usuario\\anaconda3\\lib\\site-packages\\sklearn\\linear_model\\_logistic.py:1193: UserWarning:\n",
      "\n",
      "Setting penalty=None will ignore the C and l1_ratio parameters\n",
      "\n",
      "C:\\Users\\Usuario\\anaconda3\\lib\\site-packages\\sklearn\\linear_model\\_logistic.py:1193: UserWarning:\n",
      "\n",
      "Setting penalty=None will ignore the C and l1_ratio parameters\n",
      "\n"
     ]
    },
    {
     "name": "stdout",
     "output_type": "stream",
     "text": [
      "[CV 3/5; 20/400] END .........C=5, penalty=None;, score=0.941 total time=   0.0s\n",
      "[CV 4/5; 20/400] START C=5, penalty=None........................................\n",
      "[CV 4/5; 20/400] END .........C=5, penalty=None;, score=0.765 total time=   0.0s\n",
      "[CV 5/5; 20/400] START C=5, penalty=None........................................\n",
      "[CV 5/5; 20/400] END .........C=5, penalty=None;, score=0.824 total time=   0.0s\n",
      "[CV 1/5; 21/400] START C=6, penalty=l1..........................................\n",
      "[CV 1/5; 21/400] END .............C=6, penalty=l1;, score=nan total time=   0.0s\n",
      "[CV 2/5; 21/400] START C=6, penalty=l1..........................................\n",
      "[CV 2/5; 21/400] END .............C=6, penalty=l1;, score=nan total time=   0.0s\n",
      "[CV 3/5; 21/400] START C=6, penalty=l1..........................................\n",
      "[CV 3/5; 21/400] END .............C=6, penalty=l1;, score=nan total time=   0.0s\n",
      "[CV 4/5; 21/400] START C=6, penalty=l1..........................................\n",
      "[CV 4/5; 21/400] END .............C=6, penalty=l1;, score=nan total time=   0.0s\n",
      "[CV 5/5; 21/400] START C=6, penalty=l1..........................................\n",
      "[CV 5/5; 21/400] END .............C=6, penalty=l1;, score=nan total time=   0.0s\n",
      "[CV 1/5; 22/400] START C=6, penalty=l2..........................................\n",
      "[CV 1/5; 22/400] END ...........C=6, penalty=l2;, score=0.909 total time=   0.0s\n",
      "[CV 2/5; 22/400] START C=6, penalty=l2..........................................\n",
      "[CV 2/5; 22/400] END ...........C=6, penalty=l2;, score=0.824 total time=   0.0s\n",
      "[CV 3/5; 22/400] START C=6, penalty=l2..........................................\n",
      "[CV 3/5; 22/400] END ...........C=6, penalty=l2;, score=0.912 total time=   0.0s\n",
      "[CV 4/5; 22/400] START C=6, penalty=l2..........................................\n",
      "[CV 4/5; 22/400] END ...........C=6, penalty=l2;, score=0.765 total time=   0.0s\n",
      "[CV 5/5; 22/400] START C=6, penalty=l2..........................................\n"
     ]
    },
    {
     "name": "stderr",
     "output_type": "stream",
     "text": [
      "C:\\Users\\Usuario\\anaconda3\\lib\\site-packages\\sklearn\\linear_model\\_logistic.py:460: ConvergenceWarning:\n",
      "\n",
      "lbfgs failed to converge (status=1):\n",
      "STOP: TOTAL NO. of ITERATIONS REACHED LIMIT.\n",
      "\n",
      "Increase the number of iterations (max_iter) or scale the data as shown in:\n",
      "    https://scikit-learn.org/stable/modules/preprocessing.html\n",
      "Please also refer to the documentation for alternative solver options:\n",
      "    https://scikit-learn.org/stable/modules/linear_model.html#logistic-regression\n",
      "\n",
      "C:\\Users\\Usuario\\anaconda3\\lib\\site-packages\\sklearn\\linear_model\\_logistic.py:1193: UserWarning:\n",
      "\n",
      "Setting penalty=None will ignore the C and l1_ratio parameters\n",
      "\n",
      "C:\\Users\\Usuario\\anaconda3\\lib\\site-packages\\sklearn\\linear_model\\_logistic.py:1193: UserWarning:\n",
      "\n",
      "Setting penalty=None will ignore the C and l1_ratio parameters\n",
      "\n",
      "C:\\Users\\Usuario\\anaconda3\\lib\\site-packages\\sklearn\\linear_model\\_logistic.py:1193: UserWarning:\n",
      "\n",
      "Setting penalty=None will ignore the C and l1_ratio parameters\n",
      "\n",
      "C:\\Users\\Usuario\\anaconda3\\lib\\site-packages\\sklearn\\linear_model\\_logistic.py:460: ConvergenceWarning:\n",
      "\n",
      "lbfgs failed to converge (status=1):\n",
      "STOP: TOTAL NO. of ITERATIONS REACHED LIMIT.\n",
      "\n",
      "Increase the number of iterations (max_iter) or scale the data as shown in:\n",
      "    https://scikit-learn.org/stable/modules/preprocessing.html\n",
      "Please also refer to the documentation for alternative solver options:\n",
      "    https://scikit-learn.org/stable/modules/linear_model.html#logistic-regression\n",
      "\n",
      "C:\\Users\\Usuario\\anaconda3\\lib\\site-packages\\sklearn\\linear_model\\_logistic.py:1193: UserWarning:\n",
      "\n",
      "Setting penalty=None will ignore the C and l1_ratio parameters\n",
      "\n"
     ]
    },
    {
     "name": "stdout",
     "output_type": "stream",
     "text": [
      "[CV 5/5; 22/400] END ...........C=6, penalty=l2;, score=0.794 total time=   0.0s\n",
      "[CV 1/5; 23/400] START C=6, penalty=elasticnet..................................\n",
      "[CV 1/5; 23/400] END .....C=6, penalty=elasticnet;, score=nan total time=   0.0s\n",
      "[CV 2/5; 23/400] START C=6, penalty=elasticnet..................................\n",
      "[CV 2/5; 23/400] END .....C=6, penalty=elasticnet;, score=nan total time=   0.0s\n",
      "[CV 3/5; 23/400] START C=6, penalty=elasticnet..................................\n",
      "[CV 3/5; 23/400] END .....C=6, penalty=elasticnet;, score=nan total time=   0.0s\n",
      "[CV 4/5; 23/400] START C=6, penalty=elasticnet..................................\n",
      "[CV 4/5; 23/400] END .....C=6, penalty=elasticnet;, score=nan total time=   0.0s\n",
      "[CV 5/5; 23/400] START C=6, penalty=elasticnet..................................\n",
      "[CV 5/5; 23/400] END .....C=6, penalty=elasticnet;, score=nan total time=   0.0s\n",
      "[CV 1/5; 24/400] START C=6, penalty=None........................................\n",
      "[CV 1/5; 24/400] END .........C=6, penalty=None;, score=0.909 total time=   0.0s\n",
      "[CV 2/5; 24/400] START C=6, penalty=None........................................\n",
      "[CV 2/5; 24/400] END .........C=6, penalty=None;, score=0.853 total time=   0.0s\n",
      "[CV 3/5; 24/400] START C=6, penalty=None........................................\n",
      "[CV 3/5; 24/400] END .........C=6, penalty=None;, score=0.941 total time=   0.0s\n",
      "[CV 4/5; 24/400] START C=6, penalty=None........................................\n",
      "[CV 4/5; 24/400] END .........C=6, penalty=None;, score=0.765 total time=   0.0s\n",
      "[CV 5/5; 24/400] START C=6, penalty=None........................................\n",
      "[CV 5/5; 24/400] END .........C=6, penalty=None;, score=0.824 total time=   0.0s\n"
     ]
    },
    {
     "name": "stderr",
     "output_type": "stream",
     "text": [
      "C:\\Users\\Usuario\\anaconda3\\lib\\site-packages\\sklearn\\linear_model\\_logistic.py:1193: UserWarning:\n",
      "\n",
      "Setting penalty=None will ignore the C and l1_ratio parameters\n",
      "\n"
     ]
    },
    {
     "name": "stdout",
     "output_type": "stream",
     "text": [
      "[CV 1/5; 25/400] START C=7, penalty=l1..........................................\n",
      "[CV 1/5; 25/400] END .............C=7, penalty=l1;, score=nan total time=   0.0s\n",
      "[CV 2/5; 25/400] START C=7, penalty=l1..........................................\n",
      "[CV 2/5; 25/400] END .............C=7, penalty=l1;, score=nan total time=   0.0s\n",
      "[CV 3/5; 25/400] START C=7, penalty=l1..........................................\n",
      "[CV 3/5; 25/400] END .............C=7, penalty=l1;, score=nan total time=   0.0s\n",
      "[CV 4/5; 25/400] START C=7, penalty=l1..........................................\n",
      "[CV 4/5; 25/400] END .............C=7, penalty=l1;, score=nan total time=   0.0s\n",
      "[CV 5/5; 25/400] START C=7, penalty=l1..........................................\n",
      "[CV 5/5; 25/400] END .............C=7, penalty=l1;, score=nan total time=   0.0s\n",
      "[CV 1/5; 26/400] START C=7, penalty=l2..........................................\n",
      "[CV 1/5; 26/400] END ...........C=7, penalty=l2;, score=0.909 total time=   0.0s\n",
      "[CV 2/5; 26/400] START C=7, penalty=l2..........................................\n",
      "[CV 2/5; 26/400] END ...........C=7, penalty=l2;, score=0.824 total time=   0.0s\n",
      "[CV 3/5; 26/400] START C=7, penalty=l2..........................................\n",
      "[CV 3/5; 26/400] END ...........C=7, penalty=l2;, score=0.912 total time=   0.0s\n",
      "[CV 4/5; 26/400] START C=7, penalty=l2..........................................\n",
      "[CV 4/5; 26/400] END ...........C=7, penalty=l2;, score=0.765 total time=   0.0s\n",
      "[CV 5/5; 26/400] START C=7, penalty=l2..........................................\n"
     ]
    },
    {
     "name": "stderr",
     "output_type": "stream",
     "text": [
      "C:\\Users\\Usuario\\anaconda3\\lib\\site-packages\\sklearn\\linear_model\\_logistic.py:460: ConvergenceWarning:\n",
      "\n",
      "lbfgs failed to converge (status=1):\n",
      "STOP: TOTAL NO. of ITERATIONS REACHED LIMIT.\n",
      "\n",
      "Increase the number of iterations (max_iter) or scale the data as shown in:\n",
      "    https://scikit-learn.org/stable/modules/preprocessing.html\n",
      "Please also refer to the documentation for alternative solver options:\n",
      "    https://scikit-learn.org/stable/modules/linear_model.html#logistic-regression\n",
      "\n",
      "C:\\Users\\Usuario\\anaconda3\\lib\\site-packages\\sklearn\\linear_model\\_logistic.py:1193: UserWarning:\n",
      "\n",
      "Setting penalty=None will ignore the C and l1_ratio parameters\n",
      "\n",
      "C:\\Users\\Usuario\\anaconda3\\lib\\site-packages\\sklearn\\linear_model\\_logistic.py:1193: UserWarning:\n",
      "\n",
      "Setting penalty=None will ignore the C and l1_ratio parameters\n",
      "\n",
      "C:\\Users\\Usuario\\anaconda3\\lib\\site-packages\\sklearn\\linear_model\\_logistic.py:1193: UserWarning:\n",
      "\n",
      "Setting penalty=None will ignore the C and l1_ratio parameters\n",
      "\n",
      "C:\\Users\\Usuario\\anaconda3\\lib\\site-packages\\sklearn\\linear_model\\_logistic.py:460: ConvergenceWarning:\n",
      "\n",
      "lbfgs failed to converge (status=1):\n",
      "STOP: TOTAL NO. of ITERATIONS REACHED LIMIT.\n",
      "\n",
      "Increase the number of iterations (max_iter) or scale the data as shown in:\n",
      "    https://scikit-learn.org/stable/modules/preprocessing.html\n",
      "Please also refer to the documentation for alternative solver options:\n",
      "    https://scikit-learn.org/stable/modules/linear_model.html#logistic-regression\n",
      "\n",
      "C:\\Users\\Usuario\\anaconda3\\lib\\site-packages\\sklearn\\linear_model\\_logistic.py:1193: UserWarning:\n",
      "\n",
      "Setting penalty=None will ignore the C and l1_ratio parameters\n",
      "\n",
      "C:\\Users\\Usuario\\anaconda3\\lib\\site-packages\\sklearn\\linear_model\\_logistic.py:1193: UserWarning:\n",
      "\n",
      "Setting penalty=None will ignore the C and l1_ratio parameters\n",
      "\n"
     ]
    },
    {
     "name": "stdout",
     "output_type": "stream",
     "text": [
      "[CV 5/5; 26/400] END ...........C=7, penalty=l2;, score=0.794 total time=   0.0s\n",
      "[CV 1/5; 27/400] START C=7, penalty=elasticnet..................................\n",
      "[CV 1/5; 27/400] END .....C=7, penalty=elasticnet;, score=nan total time=   0.0s\n",
      "[CV 2/5; 27/400] START C=7, penalty=elasticnet..................................\n",
      "[CV 2/5; 27/400] END .....C=7, penalty=elasticnet;, score=nan total time=   0.0s\n",
      "[CV 3/5; 27/400] START C=7, penalty=elasticnet..................................\n",
      "[CV 3/5; 27/400] END .....C=7, penalty=elasticnet;, score=nan total time=   0.0s\n",
      "[CV 4/5; 27/400] START C=7, penalty=elasticnet..................................\n",
      "[CV 4/5; 27/400] END .....C=7, penalty=elasticnet;, score=nan total time=   0.0s\n",
      "[CV 5/5; 27/400] START C=7, penalty=elasticnet..................................\n",
      "[CV 5/5; 27/400] END .....C=7, penalty=elasticnet;, score=nan total time=   0.0s\n",
      "[CV 1/5; 28/400] START C=7, penalty=None........................................\n",
      "[CV 1/5; 28/400] END .........C=7, penalty=None;, score=0.909 total time=   0.0s\n",
      "[CV 2/5; 28/400] START C=7, penalty=None........................................\n",
      "[CV 2/5; 28/400] END .........C=7, penalty=None;, score=0.853 total time=   0.0s\n",
      "[CV 3/5; 28/400] START C=7, penalty=None........................................\n",
      "[CV 3/5; 28/400] END .........C=7, penalty=None;, score=0.941 total time=   0.0s\n",
      "[CV 4/5; 28/400] START C=7, penalty=None........................................\n",
      "[CV 4/5; 28/400] END .........C=7, penalty=None;, score=0.765 total time=   0.0s\n",
      "[CV 5/5; 28/400] START C=7, penalty=None........................................\n",
      "[CV 5/5; 28/400] END .........C=7, penalty=None;, score=0.824 total time=   0.0s\n",
      "[CV 1/5; 29/400] START C=8, penalty=l1..........................................\n",
      "[CV 1/5; 29/400] END .............C=8, penalty=l1;, score=nan total time=   0.0s\n",
      "[CV 2/5; 29/400] START C=8, penalty=l1..........................................\n",
      "[CV 2/5; 29/400] END .............C=8, penalty=l1;, score=nan total time=   0.0s\n",
      "[CV 3/5; 29/400] START C=8, penalty=l1..........................................\n",
      "[CV 3/5; 29/400] END .............C=8, penalty=l1;, score=nan total time=   0.0s\n",
      "[CV 4/5; 29/400] START C=8, penalty=l1..........................................\n",
      "[CV 4/5; 29/400] END .............C=8, penalty=l1;, score=nan total time=   0.0s\n",
      "[CV 5/5; 29/400] START C=8, penalty=l1..........................................\n",
      "[CV 5/5; 29/400] END .............C=8, penalty=l1;, score=nan total time=   0.0s\n",
      "[CV 1/5; 30/400] START C=8, penalty=l2..........................................\n",
      "[CV 1/5; 30/400] END ...........C=8, penalty=l2;, score=0.909 total time=   0.0s\n",
      "[CV 2/5; 30/400] START C=8, penalty=l2..........................................\n",
      "[CV 2/5; 30/400] END ...........C=8, penalty=l2;, score=0.824 total time=   0.0s\n",
      "[CV 3/5; 30/400] START C=8, penalty=l2..........................................\n",
      "[CV 3/5; 30/400] END ...........C=8, penalty=l2;, score=0.912 total time=   0.0s\n",
      "[CV 4/5; 30/400] START C=8, penalty=l2..........................................\n",
      "[CV 4/5; 30/400] END ...........C=8, penalty=l2;, score=0.765 total time=   0.0s\n",
      "[CV 5/5; 30/400] START C=8, penalty=l2..........................................\n",
      "[CV 5/5; 30/400] END ...........C=8, penalty=l2;, score=0.794 total time=   0.0s\n",
      "[CV 1/5; 31/400] START C=8, penalty=elasticnet..................................\n",
      "[CV 1/5; 31/400] END .....C=8, penalty=elasticnet;, score=nan total time=   0.0s\n",
      "[CV 2/5; 31/400] START C=8, penalty=elasticnet..................................\n",
      "[CV 2/5; 31/400] END .....C=8, penalty=elasticnet;, score=nan total time=   0.0s\n",
      "[CV 3/5; 31/400] START C=8, penalty=elasticnet..................................\n",
      "[CV 3/5; 31/400] END .....C=8, penalty=elasticnet;, score=nan total time=   0.0s\n",
      "[CV 4/5; 31/400] START C=8, penalty=elasticnet..................................\n",
      "[CV 4/5; 31/400] END .....C=8, penalty=elasticnet;, score=nan total time=   0.0s\n",
      "[CV 5/5; 31/400] START C=8, penalty=elasticnet..................................\n",
      "[CV 5/5; 31/400] END .....C=8, penalty=elasticnet;, score=nan total time=   0.0s\n",
      "[CV 1/5; 32/400] START C=8, penalty=None........................................\n",
      "[CV 1/5; 32/400] END .........C=8, penalty=None;, score=0.909 total time=   0.0s\n",
      "[CV 2/5; 32/400] START C=8, penalty=None........................................\n",
      "[CV 2/5; 32/400] END .........C=8, penalty=None;, score=0.853 total time=   0.0s\n",
      "[CV 3/5; 32/400] START C=8, penalty=None........................................\n",
      "[CV 3/5; 32/400] END .........C=8, penalty=None;, score=0.941 total time=   0.0s\n",
      "[CV 4/5; 32/400] START C=8, penalty=None........................................\n",
      "[CV 4/5; 32/400] END .........C=8, penalty=None;, score=0.765 total time=   0.0s\n",
      "[CV 5/5; 32/400] START C=8, penalty=None........................................\n",
      "[CV 5/5; 32/400] END .........C=8, penalty=None;, score=0.824 total time=   0.0s\n",
      "[CV 1/5; 33/400] START C=9, penalty=l1..........................................\n",
      "[CV 1/5; 33/400] END .............C=9, penalty=l1;, score=nan total time=   0.0s\n"
     ]
    },
    {
     "name": "stderr",
     "output_type": "stream",
     "text": [
      "C:\\Users\\Usuario\\anaconda3\\lib\\site-packages\\sklearn\\linear_model\\_logistic.py:1193: UserWarning:\n",
      "\n",
      "Setting penalty=None will ignore the C and l1_ratio parameters\n",
      "\n",
      "C:\\Users\\Usuario\\anaconda3\\lib\\site-packages\\sklearn\\linear_model\\_logistic.py:1193: UserWarning:\n",
      "\n",
      "Setting penalty=None will ignore the C and l1_ratio parameters\n",
      "\n",
      "C:\\Users\\Usuario\\anaconda3\\lib\\site-packages\\sklearn\\linear_model\\_logistic.py:1193: UserWarning:\n",
      "\n",
      "Setting penalty=None will ignore the C and l1_ratio parameters\n",
      "\n",
      "C:\\Users\\Usuario\\anaconda3\\lib\\site-packages\\sklearn\\linear_model\\_logistic.py:460: ConvergenceWarning:\n",
      "\n",
      "lbfgs failed to converge (status=1):\n",
      "STOP: TOTAL NO. of ITERATIONS REACHED LIMIT.\n",
      "\n",
      "Increase the number of iterations (max_iter) or scale the data as shown in:\n",
      "    https://scikit-learn.org/stable/modules/preprocessing.html\n",
      "Please also refer to the documentation for alternative solver options:\n",
      "    https://scikit-learn.org/stable/modules/linear_model.html#logistic-regression\n",
      "\n",
      "C:\\Users\\Usuario\\anaconda3\\lib\\site-packages\\sklearn\\linear_model\\_logistic.py:1193: UserWarning:\n",
      "\n",
      "Setting penalty=None will ignore the C and l1_ratio parameters\n",
      "\n",
      "C:\\Users\\Usuario\\anaconda3\\lib\\site-packages\\sklearn\\linear_model\\_logistic.py:1193: UserWarning:\n",
      "\n",
      "Setting penalty=None will ignore the C and l1_ratio parameters\n",
      "\n"
     ]
    },
    {
     "name": "stdout",
     "output_type": "stream",
     "text": [
      "[CV 2/5; 33/400] START C=9, penalty=l1..........................................\n",
      "[CV 2/5; 33/400] END .............C=9, penalty=l1;, score=nan total time=   0.0s\n",
      "[CV 3/5; 33/400] START C=9, penalty=l1..........................................\n",
      "[CV 3/5; 33/400] END .............C=9, penalty=l1;, score=nan total time=   0.0s\n",
      "[CV 4/5; 33/400] START C=9, penalty=l1..........................................\n",
      "[CV 4/5; 33/400] END .............C=9, penalty=l1;, score=nan total time=   0.0s\n",
      "[CV 5/5; 33/400] START C=9, penalty=l1..........................................\n",
      "[CV 5/5; 33/400] END .............C=9, penalty=l1;, score=nan total time=   0.0s\n",
      "[CV 1/5; 34/400] START C=9, penalty=l2..........................................\n",
      "[CV 1/5; 34/400] END ...........C=9, penalty=l2;, score=0.909 total time=   0.0s\n",
      "[CV 2/5; 34/400] START C=9, penalty=l2..........................................\n",
      "[CV 2/5; 34/400] END ...........C=9, penalty=l2;, score=0.824 total time=   0.0s\n",
      "[CV 3/5; 34/400] START C=9, penalty=l2..........................................\n",
      "[CV 3/5; 34/400] END ...........C=9, penalty=l2;, score=0.912 total time=   0.0s\n",
      "[CV 4/5; 34/400] START C=9, penalty=l2..........................................\n",
      "[CV 4/5; 34/400] END ...........C=9, penalty=l2;, score=0.765 total time=   0.0s\n",
      "[CV 5/5; 34/400] START C=9, penalty=l2..........................................\n",
      "[CV 5/5; 34/400] END ...........C=9, penalty=l2;, score=0.794 total time=   0.0s\n",
      "[CV 1/5; 35/400] START C=9, penalty=elasticnet..................................\n"
     ]
    },
    {
     "name": "stderr",
     "output_type": "stream",
     "text": [
      "C:\\Users\\Usuario\\anaconda3\\lib\\site-packages\\sklearn\\linear_model\\_logistic.py:460: ConvergenceWarning:\n",
      "\n",
      "lbfgs failed to converge (status=1):\n",
      "STOP: TOTAL NO. of ITERATIONS REACHED LIMIT.\n",
      "\n",
      "Increase the number of iterations (max_iter) or scale the data as shown in:\n",
      "    https://scikit-learn.org/stable/modules/preprocessing.html\n",
      "Please also refer to the documentation for alternative solver options:\n",
      "    https://scikit-learn.org/stable/modules/linear_model.html#logistic-regression\n",
      "\n",
      "C:\\Users\\Usuario\\anaconda3\\lib\\site-packages\\sklearn\\linear_model\\_logistic.py:1193: UserWarning:\n",
      "\n",
      "Setting penalty=None will ignore the C and l1_ratio parameters\n",
      "\n",
      "C:\\Users\\Usuario\\anaconda3\\lib\\site-packages\\sklearn\\linear_model\\_logistic.py:1193: UserWarning:\n",
      "\n",
      "Setting penalty=None will ignore the C and l1_ratio parameters\n",
      "\n",
      "C:\\Users\\Usuario\\anaconda3\\lib\\site-packages\\sklearn\\linear_model\\_logistic.py:1193: UserWarning:\n",
      "\n",
      "Setting penalty=None will ignore the C and l1_ratio parameters\n",
      "\n"
     ]
    },
    {
     "name": "stdout",
     "output_type": "stream",
     "text": [
      "[CV 1/5; 35/400] END .....C=9, penalty=elasticnet;, score=nan total time=   0.0s\n",
      "[CV 2/5; 35/400] START C=9, penalty=elasticnet..................................\n",
      "[CV 2/5; 35/400] END .....C=9, penalty=elasticnet;, score=nan total time=   0.0s\n",
      "[CV 3/5; 35/400] START C=9, penalty=elasticnet..................................\n",
      "[CV 3/5; 35/400] END .....C=9, penalty=elasticnet;, score=nan total time=   0.0s\n",
      "[CV 4/5; 35/400] START C=9, penalty=elasticnet..................................\n",
      "[CV 4/5; 35/400] END .....C=9, penalty=elasticnet;, score=nan total time=   0.0s\n",
      "[CV 5/5; 35/400] START C=9, penalty=elasticnet..................................\n",
      "[CV 5/5; 35/400] END .....C=9, penalty=elasticnet;, score=nan total time=   0.0s\n",
      "[CV 1/5; 36/400] START C=9, penalty=None........................................\n",
      "[CV 1/5; 36/400] END .........C=9, penalty=None;, score=0.909 total time=   0.0s\n",
      "[CV 2/5; 36/400] START C=9, penalty=None........................................\n",
      "[CV 2/5; 36/400] END .........C=9, penalty=None;, score=0.853 total time=   0.0s\n",
      "[CV 3/5; 36/400] START C=9, penalty=None........................................\n",
      "[CV 3/5; 36/400] END .........C=9, penalty=None;, score=0.941 total time=   0.0s\n",
      "[CV 4/5; 36/400] START C=9, penalty=None........................................\n",
      "[CV 4/5; 36/400] END .........C=9, penalty=None;, score=0.765 total time=   0.0s\n",
      "[CV 5/5; 36/400] START C=9, penalty=None........................................\n",
      "[CV 5/5; 36/400] END .........C=9, penalty=None;, score=0.824 total time=   0.0s\n",
      "[CV 1/5; 37/400] START C=10, penalty=l1.........................................\n"
     ]
    },
    {
     "name": "stderr",
     "output_type": "stream",
     "text": [
      "C:\\Users\\Usuario\\anaconda3\\lib\\site-packages\\sklearn\\linear_model\\_logistic.py:460: ConvergenceWarning:\n",
      "\n",
      "lbfgs failed to converge (status=1):\n",
      "STOP: TOTAL NO. of ITERATIONS REACHED LIMIT.\n",
      "\n",
      "Increase the number of iterations (max_iter) or scale the data as shown in:\n",
      "    https://scikit-learn.org/stable/modules/preprocessing.html\n",
      "Please also refer to the documentation for alternative solver options:\n",
      "    https://scikit-learn.org/stable/modules/linear_model.html#logistic-regression\n",
      "\n",
      "C:\\Users\\Usuario\\anaconda3\\lib\\site-packages\\sklearn\\linear_model\\_logistic.py:1193: UserWarning:\n",
      "\n",
      "Setting penalty=None will ignore the C and l1_ratio parameters\n",
      "\n",
      "C:\\Users\\Usuario\\anaconda3\\lib\\site-packages\\sklearn\\linear_model\\_logistic.py:1193: UserWarning:\n",
      "\n",
      "Setting penalty=None will ignore the C and l1_ratio parameters\n",
      "\n"
     ]
    },
    {
     "name": "stdout",
     "output_type": "stream",
     "text": [
      "[CV 1/5; 37/400] END ............C=10, penalty=l1;, score=nan total time=   0.0s\n",
      "[CV 2/5; 37/400] START C=10, penalty=l1.........................................\n",
      "[CV 2/5; 37/400] END ............C=10, penalty=l1;, score=nan total time=   0.0s\n",
      "[CV 3/5; 37/400] START C=10, penalty=l1.........................................\n",
      "[CV 3/5; 37/400] END ............C=10, penalty=l1;, score=nan total time=   0.0s\n",
      "[CV 4/5; 37/400] START C=10, penalty=l1.........................................\n",
      "[CV 4/5; 37/400] END ............C=10, penalty=l1;, score=nan total time=   0.0s\n",
      "[CV 5/5; 37/400] START C=10, penalty=l1.........................................\n",
      "[CV 5/5; 37/400] END ............C=10, penalty=l1;, score=nan total time=   0.0s\n",
      "[CV 1/5; 38/400] START C=10, penalty=l2.........................................\n",
      "[CV 1/5; 38/400] END ..........C=10, penalty=l2;, score=0.909 total time=   0.0s\n",
      "[CV 2/5; 38/400] START C=10, penalty=l2.........................................\n",
      "[CV 2/5; 38/400] END ..........C=10, penalty=l2;, score=0.824 total time=   0.0s\n",
      "[CV 3/5; 38/400] START C=10, penalty=l2.........................................\n",
      "[CV 3/5; 38/400] END ..........C=10, penalty=l2;, score=0.912 total time=   0.0s\n",
      "[CV 4/5; 38/400] START C=10, penalty=l2.........................................\n",
      "[CV 4/5; 38/400] END ..........C=10, penalty=l2;, score=0.765 total time=   0.0s\n",
      "[CV 5/5; 38/400] START C=10, penalty=l2.........................................\n",
      "[CV 5/5; 38/400] END ..........C=10, penalty=l2;, score=0.794 total time=   0.0s\n",
      "[CV 1/5; 39/400] START C=10, penalty=elasticnet.................................\n",
      "[CV 1/5; 39/400] END ....C=10, penalty=elasticnet;, score=nan total time=   0.0s\n",
      "[CV 2/5; 39/400] START C=10, penalty=elasticnet.................................\n",
      "[CV 2/5; 39/400] END ....C=10, penalty=elasticnet;, score=nan total time=   0.0s\n",
      "[CV 3/5; 39/400] START C=10, penalty=elasticnet.................................\n",
      "[CV 3/5; 39/400] END ....C=10, penalty=elasticnet;, score=nan total time=   0.0s\n",
      "[CV 4/5; 39/400] START C=10, penalty=elasticnet.................................\n",
      "[CV 4/5; 39/400] END ....C=10, penalty=elasticnet;, score=nan total time=   0.0s\n",
      "[CV 5/5; 39/400] START C=10, penalty=elasticnet.................................\n",
      "[CV 5/5; 39/400] END ....C=10, penalty=elasticnet;, score=nan total time=   0.0s\n",
      "[CV 1/5; 40/400] START C=10, penalty=None.......................................\n",
      "[CV 1/5; 40/400] END ........C=10, penalty=None;, score=0.909 total time=   0.0s\n",
      "[CV 2/5; 40/400] START C=10, penalty=None.......................................\n",
      "[CV 2/5; 40/400] END ........C=10, penalty=None;, score=0.853 total time=   0.0s\n",
      "[CV 3/5; 40/400] START C=10, penalty=None.......................................\n",
      "[CV 3/5; 40/400] END ........C=10, penalty=None;, score=0.941 total time=   0.0s\n",
      "[CV 4/5; 40/400] START C=10, penalty=None.......................................\n",
      "[CV 4/5; 40/400] END ........C=10, penalty=None;, score=0.765 total time=   0.0s\n",
      "[CV 5/5; 40/400] START C=10, penalty=None.......................................\n"
     ]
    },
    {
     "name": "stderr",
     "output_type": "stream",
     "text": [
      "C:\\Users\\Usuario\\anaconda3\\lib\\site-packages\\sklearn\\linear_model\\_logistic.py:1193: UserWarning:\n",
      "\n",
      "Setting penalty=None will ignore the C and l1_ratio parameters\n",
      "\n",
      "C:\\Users\\Usuario\\anaconda3\\lib\\site-packages\\sklearn\\linear_model\\_logistic.py:1193: UserWarning:\n",
      "\n",
      "Setting penalty=None will ignore the C and l1_ratio parameters\n",
      "\n",
      "C:\\Users\\Usuario\\anaconda3\\lib\\site-packages\\sklearn\\linear_model\\_logistic.py:1193: UserWarning:\n",
      "\n",
      "Setting penalty=None will ignore the C and l1_ratio parameters\n",
      "\n",
      "C:\\Users\\Usuario\\anaconda3\\lib\\site-packages\\sklearn\\linear_model\\_logistic.py:460: ConvergenceWarning:\n",
      "\n",
      "lbfgs failed to converge (status=1):\n",
      "STOP: TOTAL NO. of ITERATIONS REACHED LIMIT.\n",
      "\n",
      "Increase the number of iterations (max_iter) or scale the data as shown in:\n",
      "    https://scikit-learn.org/stable/modules/preprocessing.html\n",
      "Please also refer to the documentation for alternative solver options:\n",
      "    https://scikit-learn.org/stable/modules/linear_model.html#logistic-regression\n",
      "\n",
      "C:\\Users\\Usuario\\anaconda3\\lib\\site-packages\\sklearn\\linear_model\\_logistic.py:1193: UserWarning:\n",
      "\n",
      "Setting penalty=None will ignore the C and l1_ratio parameters\n",
      "\n",
      "C:\\Users\\Usuario\\anaconda3\\lib\\site-packages\\sklearn\\linear_model\\_logistic.py:1193: UserWarning:\n",
      "\n",
      "Setting penalty=None will ignore the C and l1_ratio parameters\n",
      "\n"
     ]
    },
    {
     "name": "stdout",
     "output_type": "stream",
     "text": [
      "[CV 5/5; 40/400] END ........C=10, penalty=None;, score=0.824 total time=   0.0s\n",
      "[CV 1/5; 41/400] START C=11, penalty=l1.........................................\n",
      "[CV 1/5; 41/400] END ............C=11, penalty=l1;, score=nan total time=   0.0s\n",
      "[CV 2/5; 41/400] START C=11, penalty=l1.........................................\n",
      "[CV 2/5; 41/400] END ............C=11, penalty=l1;, score=nan total time=   0.0s\n",
      "[CV 3/5; 41/400] START C=11, penalty=l1.........................................\n",
      "[CV 3/5; 41/400] END ............C=11, penalty=l1;, score=nan total time=   0.0s\n",
      "[CV 4/5; 41/400] START C=11, penalty=l1.........................................\n",
      "[CV 4/5; 41/400] END ............C=11, penalty=l1;, score=nan total time=   0.0s\n",
      "[CV 5/5; 41/400] START C=11, penalty=l1.........................................\n",
      "[CV 5/5; 41/400] END ............C=11, penalty=l1;, score=nan total time=   0.0s\n",
      "[CV 1/5; 42/400] START C=11, penalty=l2.........................................\n",
      "[CV 1/5; 42/400] END ..........C=11, penalty=l2;, score=0.909 total time=   0.0s\n",
      "[CV 2/5; 42/400] START C=11, penalty=l2.........................................\n",
      "[CV 2/5; 42/400] END ..........C=11, penalty=l2;, score=0.824 total time=   0.0s\n",
      "[CV 3/5; 42/400] START C=11, penalty=l2.........................................\n",
      "[CV 3/5; 42/400] END ..........C=11, penalty=l2;, score=0.912 total time=   0.0s\n",
      "[CV 4/5; 42/400] START C=11, penalty=l2.........................................\n",
      "[CV 4/5; 42/400] END ..........C=11, penalty=l2;, score=0.765 total time=   0.0s\n",
      "[CV 5/5; 42/400] START C=11, penalty=l2.........................................\n"
     ]
    },
    {
     "name": "stderr",
     "output_type": "stream",
     "text": [
      "C:\\Users\\Usuario\\anaconda3\\lib\\site-packages\\sklearn\\linear_model\\_logistic.py:460: ConvergenceWarning:\n",
      "\n",
      "lbfgs failed to converge (status=1):\n",
      "STOP: TOTAL NO. of ITERATIONS REACHED LIMIT.\n",
      "\n",
      "Increase the number of iterations (max_iter) or scale the data as shown in:\n",
      "    https://scikit-learn.org/stable/modules/preprocessing.html\n",
      "Please also refer to the documentation for alternative solver options:\n",
      "    https://scikit-learn.org/stable/modules/linear_model.html#logistic-regression\n",
      "\n",
      "C:\\Users\\Usuario\\anaconda3\\lib\\site-packages\\sklearn\\linear_model\\_logistic.py:1193: UserWarning:\n",
      "\n",
      "Setting penalty=None will ignore the C and l1_ratio parameters\n",
      "\n",
      "C:\\Users\\Usuario\\anaconda3\\lib\\site-packages\\sklearn\\linear_model\\_logistic.py:1193: UserWarning:\n",
      "\n",
      "Setting penalty=None will ignore the C and l1_ratio parameters\n",
      "\n"
     ]
    },
    {
     "name": "stdout",
     "output_type": "stream",
     "text": [
      "[CV 5/5; 42/400] END ..........C=11, penalty=l2;, score=0.794 total time=   0.0s\n",
      "[CV 1/5; 43/400] START C=11, penalty=elasticnet.................................\n",
      "[CV 1/5; 43/400] END ....C=11, penalty=elasticnet;, score=nan total time=   0.0s\n",
      "[CV 2/5; 43/400] START C=11, penalty=elasticnet.................................\n",
      "[CV 2/5; 43/400] END ....C=11, penalty=elasticnet;, score=nan total time=   0.0s\n",
      "[CV 3/5; 43/400] START C=11, penalty=elasticnet.................................\n",
      "[CV 3/5; 43/400] END ....C=11, penalty=elasticnet;, score=nan total time=   0.0s\n",
      "[CV 4/5; 43/400] START C=11, penalty=elasticnet.................................\n",
      "[CV 4/5; 43/400] END ....C=11, penalty=elasticnet;, score=nan total time=   0.0s\n",
      "[CV 5/5; 43/400] START C=11, penalty=elasticnet.................................\n",
      "[CV 5/5; 43/400] END ....C=11, penalty=elasticnet;, score=nan total time=   0.0s\n",
      "[CV 1/5; 44/400] START C=11, penalty=None.......................................\n",
      "[CV 1/5; 44/400] END ........C=11, penalty=None;, score=0.909 total time=   0.0s\n",
      "[CV 2/5; 44/400] START C=11, penalty=None.......................................\n",
      "[CV 2/5; 44/400] END ........C=11, penalty=None;, score=0.853 total time=   0.0s\n",
      "[CV 3/5; 44/400] START C=11, penalty=None.......................................\n",
      "[CV 3/5; 44/400] END ........C=11, penalty=None;, score=0.941 total time=   0.0s\n",
      "[CV 4/5; 44/400] START C=11, penalty=None.......................................\n",
      "[CV 4/5; 44/400] END ........C=11, penalty=None;, score=0.765 total time=   0.0s\n",
      "[CV 5/5; 44/400] START C=11, penalty=None.......................................\n"
     ]
    },
    {
     "name": "stderr",
     "output_type": "stream",
     "text": [
      "C:\\Users\\Usuario\\anaconda3\\lib\\site-packages\\sklearn\\linear_model\\_logistic.py:1193: UserWarning:\n",
      "\n",
      "Setting penalty=None will ignore the C and l1_ratio parameters\n",
      "\n",
      "C:\\Users\\Usuario\\anaconda3\\lib\\site-packages\\sklearn\\linear_model\\_logistic.py:460: ConvergenceWarning:\n",
      "\n",
      "lbfgs failed to converge (status=1):\n",
      "STOP: TOTAL NO. of ITERATIONS REACHED LIMIT.\n",
      "\n",
      "Increase the number of iterations (max_iter) or scale the data as shown in:\n",
      "    https://scikit-learn.org/stable/modules/preprocessing.html\n",
      "Please also refer to the documentation for alternative solver options:\n",
      "    https://scikit-learn.org/stable/modules/linear_model.html#logistic-regression\n",
      "\n",
      "C:\\Users\\Usuario\\anaconda3\\lib\\site-packages\\sklearn\\linear_model\\_logistic.py:1193: UserWarning:\n",
      "\n",
      "Setting penalty=None will ignore the C and l1_ratio parameters\n",
      "\n",
      "C:\\Users\\Usuario\\anaconda3\\lib\\site-packages\\sklearn\\linear_model\\_logistic.py:1193: UserWarning:\n",
      "\n",
      "Setting penalty=None will ignore the C and l1_ratio parameters\n",
      "\n"
     ]
    },
    {
     "name": "stdout",
     "output_type": "stream",
     "text": [
      "[CV 5/5; 44/400] END ........C=11, penalty=None;, score=0.824 total time=   0.0s\n",
      "[CV 1/5; 45/400] START C=12, penalty=l1.........................................\n",
      "[CV 1/5; 45/400] END ............C=12, penalty=l1;, score=nan total time=   0.0s\n",
      "[CV 2/5; 45/400] START C=12, penalty=l1.........................................\n",
      "[CV 2/5; 45/400] END ............C=12, penalty=l1;, score=nan total time=   0.0s\n",
      "[CV 3/5; 45/400] START C=12, penalty=l1.........................................\n",
      "[CV 3/5; 45/400] END ............C=12, penalty=l1;, score=nan total time=   0.0s\n",
      "[CV 4/5; 45/400] START C=12, penalty=l1.........................................\n",
      "[CV 4/5; 45/400] END ............C=12, penalty=l1;, score=nan total time=   0.0s\n",
      "[CV 5/5; 45/400] START C=12, penalty=l1.........................................\n",
      "[CV 5/5; 45/400] END ............C=12, penalty=l1;, score=nan total time=   0.0s\n",
      "[CV 1/5; 46/400] START C=12, penalty=l2.........................................\n",
      "[CV 1/5; 46/400] END ..........C=12, penalty=l2;, score=0.909 total time=   0.0s\n",
      "[CV 2/5; 46/400] START C=12, penalty=l2.........................................\n",
      "[CV 2/5; 46/400] END ..........C=12, penalty=l2;, score=0.824 total time=   0.0s\n",
      "[CV 3/5; 46/400] START C=12, penalty=l2.........................................\n",
      "[CV 3/5; 46/400] END ..........C=12, penalty=l2;, score=0.912 total time=   0.0s\n",
      "[CV 4/5; 46/400] START C=12, penalty=l2.........................................\n",
      "[CV 4/5; 46/400] END ..........C=12, penalty=l2;, score=0.765 total time=   0.0s\n",
      "[CV 5/5; 46/400] START C=12, penalty=l2.........................................\n"
     ]
    },
    {
     "name": "stderr",
     "output_type": "stream",
     "text": [
      "C:\\Users\\Usuario\\anaconda3\\lib\\site-packages\\sklearn\\linear_model\\_logistic.py:460: ConvergenceWarning:\n",
      "\n",
      "lbfgs failed to converge (status=1):\n",
      "STOP: TOTAL NO. of ITERATIONS REACHED LIMIT.\n",
      "\n",
      "Increase the number of iterations (max_iter) or scale the data as shown in:\n",
      "    https://scikit-learn.org/stable/modules/preprocessing.html\n",
      "Please also refer to the documentation for alternative solver options:\n",
      "    https://scikit-learn.org/stable/modules/linear_model.html#logistic-regression\n",
      "\n",
      "C:\\Users\\Usuario\\anaconda3\\lib\\site-packages\\sklearn\\linear_model\\_logistic.py:1193: UserWarning:\n",
      "\n",
      "Setting penalty=None will ignore the C and l1_ratio parameters\n",
      "\n",
      "C:\\Users\\Usuario\\anaconda3\\lib\\site-packages\\sklearn\\linear_model\\_logistic.py:1193: UserWarning:\n",
      "\n",
      "Setting penalty=None will ignore the C and l1_ratio parameters\n",
      "\n"
     ]
    },
    {
     "name": "stdout",
     "output_type": "stream",
     "text": [
      "[CV 5/5; 46/400] END ..........C=12, penalty=l2;, score=0.794 total time=   0.0s\n",
      "[CV 1/5; 47/400] START C=12, penalty=elasticnet.................................\n",
      "[CV 1/5; 47/400] END ....C=12, penalty=elasticnet;, score=nan total time=   0.0s\n",
      "[CV 2/5; 47/400] START C=12, penalty=elasticnet.................................\n",
      "[CV 2/5; 47/400] END ....C=12, penalty=elasticnet;, score=nan total time=   0.0s\n",
      "[CV 3/5; 47/400] START C=12, penalty=elasticnet.................................\n",
      "[CV 3/5; 47/400] END ....C=12, penalty=elasticnet;, score=nan total time=   0.0s\n",
      "[CV 4/5; 47/400] START C=12, penalty=elasticnet.................................\n",
      "[CV 4/5; 47/400] END ....C=12, penalty=elasticnet;, score=nan total time=   0.0s\n",
      "[CV 5/5; 47/400] START C=12, penalty=elasticnet.................................\n",
      "[CV 5/5; 47/400] END ....C=12, penalty=elasticnet;, score=nan total time=   0.0s\n",
      "[CV 1/5; 48/400] START C=12, penalty=None.......................................\n",
      "[CV 1/5; 48/400] END ........C=12, penalty=None;, score=0.909 total time=   0.0s\n",
      "[CV 2/5; 48/400] START C=12, penalty=None.......................................\n",
      "[CV 2/5; 48/400] END ........C=12, penalty=None;, score=0.853 total time=   0.0s\n",
      "[CV 3/5; 48/400] START C=12, penalty=None.......................................\n",
      "[CV 3/5; 48/400] END ........C=12, penalty=None;, score=0.941 total time=   0.0s\n",
      "[CV 4/5; 48/400] START C=12, penalty=None.......................................\n"
     ]
    },
    {
     "name": "stderr",
     "output_type": "stream",
     "text": [
      "C:\\Users\\Usuario\\anaconda3\\lib\\site-packages\\sklearn\\linear_model\\_logistic.py:1193: UserWarning:\n",
      "\n",
      "Setting penalty=None will ignore the C and l1_ratio parameters\n",
      "\n",
      "C:\\Users\\Usuario\\anaconda3\\lib\\site-packages\\sklearn\\linear_model\\_logistic.py:460: ConvergenceWarning:\n",
      "\n",
      "lbfgs failed to converge (status=1):\n",
      "STOP: TOTAL NO. of ITERATIONS REACHED LIMIT.\n",
      "\n",
      "Increase the number of iterations (max_iter) or scale the data as shown in:\n",
      "    https://scikit-learn.org/stable/modules/preprocessing.html\n",
      "Please also refer to the documentation for alternative solver options:\n",
      "    https://scikit-learn.org/stable/modules/linear_model.html#logistic-regression\n",
      "\n",
      "C:\\Users\\Usuario\\anaconda3\\lib\\site-packages\\sklearn\\linear_model\\_logistic.py:1193: UserWarning:\n",
      "\n",
      "Setting penalty=None will ignore the C and l1_ratio parameters\n",
      "\n",
      "C:\\Users\\Usuario\\anaconda3\\lib\\site-packages\\sklearn\\linear_model\\_logistic.py:1193: UserWarning:\n",
      "\n",
      "Setting penalty=None will ignore the C and l1_ratio parameters\n",
      "\n"
     ]
    },
    {
     "name": "stdout",
     "output_type": "stream",
     "text": [
      "[CV 4/5; 48/400] END ........C=12, penalty=None;, score=0.765 total time=   0.0s\n",
      "[CV 5/5; 48/400] START C=12, penalty=None.......................................\n",
      "[CV 5/5; 48/400] END ........C=12, penalty=None;, score=0.824 total time=   0.0s\n",
      "[CV 1/5; 49/400] START C=13, penalty=l1.........................................\n",
      "[CV 1/5; 49/400] END ............C=13, penalty=l1;, score=nan total time=   0.0s\n",
      "[CV 2/5; 49/400] START C=13, penalty=l1.........................................\n",
      "[CV 2/5; 49/400] END ............C=13, penalty=l1;, score=nan total time=   0.0s\n",
      "[CV 3/5; 49/400] START C=13, penalty=l1.........................................\n",
      "[CV 3/5; 49/400] END ............C=13, penalty=l1;, score=nan total time=   0.0s\n",
      "[CV 4/5; 49/400] START C=13, penalty=l1.........................................\n",
      "[CV 4/5; 49/400] END ............C=13, penalty=l1;, score=nan total time=   0.0s\n",
      "[CV 5/5; 49/400] START C=13, penalty=l1.........................................\n",
      "[CV 5/5; 49/400] END ............C=13, penalty=l1;, score=nan total time=   0.0s\n",
      "[CV 1/5; 50/400] START C=13, penalty=l2.........................................\n",
      "[CV 1/5; 50/400] END ..........C=13, penalty=l2;, score=0.909 total time=   0.0s\n",
      "[CV 2/5; 50/400] START C=13, penalty=l2.........................................\n",
      "[CV 2/5; 50/400] END ..........C=13, penalty=l2;, score=0.824 total time=   0.0s\n",
      "[CV 3/5; 50/400] START C=13, penalty=l2.........................................\n",
      "[CV 3/5; 50/400] END ..........C=13, penalty=l2;, score=0.912 total time=   0.0s\n",
      "[CV 4/5; 50/400] START C=13, penalty=l2.........................................\n",
      "[CV 4/5; 50/400] END ..........C=13, penalty=l2;, score=0.765 total time=   0.0s\n",
      "[CV 5/5; 50/400] START C=13, penalty=l2.........................................\n",
      "[CV 5/5; 50/400] END ..........C=13, penalty=l2;, score=0.794 total time=   0.0s\n",
      "[CV 1/5; 51/400] START C=13, penalty=elasticnet.................................\n",
      "[CV 1/5; 51/400] END ....C=13, penalty=elasticnet;, score=nan total time=   0.0s\n",
      "[CV 2/5; 51/400] START C=13, penalty=elasticnet.................................\n",
      "[CV 2/5; 51/400] END ....C=13, penalty=elasticnet;, score=nan total time=   0.0s\n",
      "[CV 3/5; 51/400] START C=13, penalty=elasticnet.................................\n",
      "[CV 3/5; 51/400] END ....C=13, penalty=elasticnet;, score=nan total time=   0.0s\n",
      "[CV 4/5; 51/400] START C=13, penalty=elasticnet.................................\n",
      "[CV 4/5; 51/400] END ....C=13, penalty=elasticnet;, score=nan total time=   0.0s\n",
      "[CV 5/5; 51/400] START C=13, penalty=elasticnet.................................\n",
      "[CV 5/5; 51/400] END ....C=13, penalty=elasticnet;, score=nan total time=   0.0s\n",
      "[CV 1/5; 52/400] START C=13, penalty=None.......................................\n",
      "[CV 1/5; 52/400] END ........C=13, penalty=None;, score=0.909 total time=   0.0s\n",
      "[CV 2/5; 52/400] START C=13, penalty=None.......................................\n",
      "[CV 2/5; 52/400] END ........C=13, penalty=None;, score=0.853 total time=   0.0s\n",
      "[CV 3/5; 52/400] START C=13, penalty=None.......................................\n",
      "[CV 3/5; 52/400] END ........C=13, penalty=None;, score=0.941 total time=   0.0s\n",
      "[CV 4/5; 52/400] START C=13, penalty=None.......................................\n"
     ]
    },
    {
     "name": "stderr",
     "output_type": "stream",
     "text": [
      "C:\\Users\\Usuario\\anaconda3\\lib\\site-packages\\sklearn\\linear_model\\_logistic.py:1193: UserWarning:\n",
      "\n",
      "Setting penalty=None will ignore the C and l1_ratio parameters\n",
      "\n",
      "C:\\Users\\Usuario\\anaconda3\\lib\\site-packages\\sklearn\\linear_model\\_logistic.py:1193: UserWarning:\n",
      "\n",
      "Setting penalty=None will ignore the C and l1_ratio parameters\n",
      "\n",
      "C:\\Users\\Usuario\\anaconda3\\lib\\site-packages\\sklearn\\linear_model\\_logistic.py:1193: UserWarning:\n",
      "\n",
      "Setting penalty=None will ignore the C and l1_ratio parameters\n",
      "\n",
      "C:\\Users\\Usuario\\anaconda3\\lib\\site-packages\\sklearn\\linear_model\\_logistic.py:460: ConvergenceWarning:\n",
      "\n",
      "lbfgs failed to converge (status=1):\n",
      "STOP: TOTAL NO. of ITERATIONS REACHED LIMIT.\n",
      "\n",
      "Increase the number of iterations (max_iter) or scale the data as shown in:\n",
      "    https://scikit-learn.org/stable/modules/preprocessing.html\n",
      "Please also refer to the documentation for alternative solver options:\n",
      "    https://scikit-learn.org/stable/modules/linear_model.html#logistic-regression\n",
      "\n",
      "C:\\Users\\Usuario\\anaconda3\\lib\\site-packages\\sklearn\\linear_model\\_logistic.py:1193: UserWarning:\n",
      "\n",
      "Setting penalty=None will ignore the C and l1_ratio parameters\n",
      "\n",
      "C:\\Users\\Usuario\\anaconda3\\lib\\site-packages\\sklearn\\linear_model\\_logistic.py:1193: UserWarning:\n",
      "\n",
      "Setting penalty=None will ignore the C and l1_ratio parameters\n",
      "\n"
     ]
    },
    {
     "name": "stdout",
     "output_type": "stream",
     "text": [
      "[CV 4/5; 52/400] END ........C=13, penalty=None;, score=0.765 total time=   0.0s\n",
      "[CV 5/5; 52/400] START C=13, penalty=None.......................................\n",
      "[CV 5/5; 52/400] END ........C=13, penalty=None;, score=0.824 total time=   0.0s\n",
      "[CV 1/5; 53/400] START C=14, penalty=l1.........................................\n",
      "[CV 1/5; 53/400] END ............C=14, penalty=l1;, score=nan total time=   0.0s\n",
      "[CV 2/5; 53/400] START C=14, penalty=l1.........................................\n",
      "[CV 2/5; 53/400] END ............C=14, penalty=l1;, score=nan total time=   0.0s\n",
      "[CV 3/5; 53/400] START C=14, penalty=l1.........................................\n",
      "[CV 3/5; 53/400] END ............C=14, penalty=l1;, score=nan total time=   0.0s\n",
      "[CV 4/5; 53/400] START C=14, penalty=l1.........................................\n",
      "[CV 4/5; 53/400] END ............C=14, penalty=l1;, score=nan total time=   0.0s\n",
      "[CV 5/5; 53/400] START C=14, penalty=l1.........................................\n",
      "[CV 5/5; 53/400] END ............C=14, penalty=l1;, score=nan total time=   0.0s\n",
      "[CV 1/5; 54/400] START C=14, penalty=l2.........................................\n",
      "[CV 1/5; 54/400] END ..........C=14, penalty=l2;, score=0.909 total time=   0.0s\n",
      "[CV 2/5; 54/400] START C=14, penalty=l2.........................................\n",
      "[CV 2/5; 54/400] END ..........C=14, penalty=l2;, score=0.824 total time=   0.0s\n",
      "[CV 3/5; 54/400] START C=14, penalty=l2.........................................\n",
      "[CV 3/5; 54/400] END ..........C=14, penalty=l2;, score=0.912 total time=   0.0s\n",
      "[CV 4/5; 54/400] START C=14, penalty=l2.........................................\n",
      "[CV 4/5; 54/400] END ..........C=14, penalty=l2;, score=0.765 total time=   0.0s\n",
      "[CV 5/5; 54/400] START C=14, penalty=l2.........................................\n",
      "[CV 5/5; 54/400] END ..........C=14, penalty=l2;, score=0.794 total time=   0.0s\n",
      "[CV 1/5; 55/400] START C=14, penalty=elasticnet.................................\n",
      "[CV 1/5; 55/400] END ....C=14, penalty=elasticnet;, score=nan total time=   0.0s\n",
      "[CV 2/5; 55/400] START C=14, penalty=elasticnet.................................\n",
      "[CV 2/5; 55/400] END ....C=14, penalty=elasticnet;, score=nan total time=   0.0s\n",
      "[CV 3/5; 55/400] START C=14, penalty=elasticnet.................................\n",
      "[CV 3/5; 55/400] END ....C=14, penalty=elasticnet;, score=nan total time=   0.0s\n",
      "[CV 4/5; 55/400] START C=14, penalty=elasticnet.................................\n",
      "[CV 4/5; 55/400] END ....C=14, penalty=elasticnet;, score=nan total time=   0.0s\n",
      "[CV 5/5; 55/400] START C=14, penalty=elasticnet.................................\n",
      "[CV 5/5; 55/400] END ....C=14, penalty=elasticnet;, score=nan total time=   0.0s\n",
      "[CV 1/5; 56/400] START C=14, penalty=None.......................................\n",
      "[CV 1/5; 56/400] END ........C=14, penalty=None;, score=0.909 total time=   0.0s\n",
      "[CV 2/5; 56/400] START C=14, penalty=None.......................................\n",
      "[CV 2/5; 56/400] END ........C=14, penalty=None;, score=0.853 total time=   0.0s\n",
      "[CV 3/5; 56/400] START C=14, penalty=None.......................................\n",
      "[CV 3/5; 56/400] END ........C=14, penalty=None;, score=0.941 total time=   0.0s\n",
      "[CV 4/5; 56/400] START C=14, penalty=None.......................................\n",
      "[CV 4/5; 56/400] END ........C=14, penalty=None;, score=0.765 total time=   0.0s\n",
      "[CV 5/5; 56/400] START C=14, penalty=None.......................................\n",
      "[CV 5/5; 56/400] END ........C=14, penalty=None;, score=0.824 total time=   0.0s\n",
      "[CV 1/5; 57/400] START C=15, penalty=l1.........................................\n"
     ]
    },
    {
     "name": "stderr",
     "output_type": "stream",
     "text": [
      "C:\\Users\\Usuario\\anaconda3\\lib\\site-packages\\sklearn\\linear_model\\_logistic.py:1193: UserWarning:\n",
      "\n",
      "Setting penalty=None will ignore the C and l1_ratio parameters\n",
      "\n",
      "C:\\Users\\Usuario\\anaconda3\\lib\\site-packages\\sklearn\\linear_model\\_logistic.py:1193: UserWarning:\n",
      "\n",
      "Setting penalty=None will ignore the C and l1_ratio parameters\n",
      "\n",
      "C:\\Users\\Usuario\\anaconda3\\lib\\site-packages\\sklearn\\linear_model\\_logistic.py:1193: UserWarning:\n",
      "\n",
      "Setting penalty=None will ignore the C and l1_ratio parameters\n",
      "\n",
      "C:\\Users\\Usuario\\anaconda3\\lib\\site-packages\\sklearn\\linear_model\\_logistic.py:460: ConvergenceWarning:\n",
      "\n",
      "lbfgs failed to converge (status=1):\n",
      "STOP: TOTAL NO. of ITERATIONS REACHED LIMIT.\n",
      "\n",
      "Increase the number of iterations (max_iter) or scale the data as shown in:\n",
      "    https://scikit-learn.org/stable/modules/preprocessing.html\n",
      "Please also refer to the documentation for alternative solver options:\n",
      "    https://scikit-learn.org/stable/modules/linear_model.html#logistic-regression\n",
      "\n",
      "C:\\Users\\Usuario\\anaconda3\\lib\\site-packages\\sklearn\\linear_model\\_logistic.py:1193: UserWarning:\n",
      "\n",
      "Setting penalty=None will ignore the C and l1_ratio parameters\n",
      "\n",
      "C:\\Users\\Usuario\\anaconda3\\lib\\site-packages\\sklearn\\linear_model\\_logistic.py:1193: UserWarning:\n",
      "\n",
      "Setting penalty=None will ignore the C and l1_ratio parameters\n",
      "\n"
     ]
    },
    {
     "name": "stdout",
     "output_type": "stream",
     "text": [
      "[CV 1/5; 57/400] END ............C=15, penalty=l1;, score=nan total time=   0.0s\n",
      "[CV 2/5; 57/400] START C=15, penalty=l1.........................................\n",
      "[CV 2/5; 57/400] END ............C=15, penalty=l1;, score=nan total time=   0.0s\n",
      "[CV 3/5; 57/400] START C=15, penalty=l1.........................................\n",
      "[CV 3/5; 57/400] END ............C=15, penalty=l1;, score=nan total time=   0.0s\n",
      "[CV 4/5; 57/400] START C=15, penalty=l1.........................................\n",
      "[CV 4/5; 57/400] END ............C=15, penalty=l1;, score=nan total time=   0.0s\n",
      "[CV 5/5; 57/400] START C=15, penalty=l1.........................................\n",
      "[CV 5/5; 57/400] END ............C=15, penalty=l1;, score=nan total time=   0.0s\n",
      "[CV 1/5; 58/400] START C=15, penalty=l2.........................................\n",
      "[CV 1/5; 58/400] END ..........C=15, penalty=l2;, score=0.909 total time=   0.0s\n",
      "[CV 2/5; 58/400] START C=15, penalty=l2.........................................\n",
      "[CV 2/5; 58/400] END ..........C=15, penalty=l2;, score=0.824 total time=   0.0s\n",
      "[CV 3/5; 58/400] START C=15, penalty=l2.........................................\n",
      "[CV 3/5; 58/400] END ..........C=15, penalty=l2;, score=0.912 total time=   0.0s\n",
      "[CV 4/5; 58/400] START C=15, penalty=l2.........................................\n",
      "[CV 4/5; 58/400] END ..........C=15, penalty=l2;, score=0.765 total time=   0.0s\n",
      "[CV 5/5; 58/400] START C=15, penalty=l2.........................................\n",
      "[CV 5/5; 58/400] END ..........C=15, penalty=l2;, score=0.794 total time=   0.0s\n"
     ]
    },
    {
     "name": "stderr",
     "output_type": "stream",
     "text": [
      "C:\\Users\\Usuario\\anaconda3\\lib\\site-packages\\sklearn\\linear_model\\_logistic.py:460: ConvergenceWarning:\n",
      "\n",
      "lbfgs failed to converge (status=1):\n",
      "STOP: TOTAL NO. of ITERATIONS REACHED LIMIT.\n",
      "\n",
      "Increase the number of iterations (max_iter) or scale the data as shown in:\n",
      "    https://scikit-learn.org/stable/modules/preprocessing.html\n",
      "Please also refer to the documentation for alternative solver options:\n",
      "    https://scikit-learn.org/stable/modules/linear_model.html#logistic-regression\n",
      "\n",
      "C:\\Users\\Usuario\\anaconda3\\lib\\site-packages\\sklearn\\linear_model\\_logistic.py:1193: UserWarning:\n",
      "\n",
      "Setting penalty=None will ignore the C and l1_ratio parameters\n",
      "\n",
      "C:\\Users\\Usuario\\anaconda3\\lib\\site-packages\\sklearn\\linear_model\\_logistic.py:1193: UserWarning:\n",
      "\n",
      "Setting penalty=None will ignore the C and l1_ratio parameters\n",
      "\n",
      "C:\\Users\\Usuario\\anaconda3\\lib\\site-packages\\sklearn\\linear_model\\_logistic.py:1193: UserWarning:\n",
      "\n",
      "Setting penalty=None will ignore the C and l1_ratio parameters\n",
      "\n"
     ]
    },
    {
     "name": "stdout",
     "output_type": "stream",
     "text": [
      "[CV 1/5; 59/400] START C=15, penalty=elasticnet.................................\n",
      "[CV 1/5; 59/400] END ....C=15, penalty=elasticnet;, score=nan total time=   0.0s\n",
      "[CV 2/5; 59/400] START C=15, penalty=elasticnet.................................\n",
      "[CV 2/5; 59/400] END ....C=15, penalty=elasticnet;, score=nan total time=   0.0s\n",
      "[CV 3/5; 59/400] START C=15, penalty=elasticnet.................................\n",
      "[CV 3/5; 59/400] END ....C=15, penalty=elasticnet;, score=nan total time=   0.0s\n",
      "[CV 4/5; 59/400] START C=15, penalty=elasticnet.................................\n",
      "[CV 4/5; 59/400] END ....C=15, penalty=elasticnet;, score=nan total time=   0.0s\n",
      "[CV 5/5; 59/400] START C=15, penalty=elasticnet.................................\n",
      "[CV 5/5; 59/400] END ....C=15, penalty=elasticnet;, score=nan total time=   0.0s\n",
      "[CV 1/5; 60/400] START C=15, penalty=None.......................................\n",
      "[CV 1/5; 60/400] END ........C=15, penalty=None;, score=0.909 total time=   0.0s\n",
      "[CV 2/5; 60/400] START C=15, penalty=None.......................................\n",
      "[CV 2/5; 60/400] END ........C=15, penalty=None;, score=0.853 total time=   0.0s\n",
      "[CV 3/5; 60/400] START C=15, penalty=None.......................................\n"
     ]
    },
    {
     "name": "stderr",
     "output_type": "stream",
     "text": [
      "C:\\Users\\Usuario\\anaconda3\\lib\\site-packages\\sklearn\\linear_model\\_logistic.py:460: ConvergenceWarning:\n",
      "\n",
      "lbfgs failed to converge (status=1):\n",
      "STOP: TOTAL NO. of ITERATIONS REACHED LIMIT.\n",
      "\n",
      "Increase the number of iterations (max_iter) or scale the data as shown in:\n",
      "    https://scikit-learn.org/stable/modules/preprocessing.html\n",
      "Please also refer to the documentation for alternative solver options:\n",
      "    https://scikit-learn.org/stable/modules/linear_model.html#logistic-regression\n",
      "\n",
      "C:\\Users\\Usuario\\anaconda3\\lib\\site-packages\\sklearn\\linear_model\\_logistic.py:1193: UserWarning:\n",
      "\n",
      "Setting penalty=None will ignore the C and l1_ratio parameters\n",
      "\n",
      "C:\\Users\\Usuario\\anaconda3\\lib\\site-packages\\sklearn\\linear_model\\_logistic.py:1193: UserWarning:\n",
      "\n",
      "Setting penalty=None will ignore the C and l1_ratio parameters\n",
      "\n"
     ]
    },
    {
     "name": "stdout",
     "output_type": "stream",
     "text": [
      "[CV 3/5; 60/400] END ........C=15, penalty=None;, score=0.941 total time=   0.0s\n",
      "[CV 4/5; 60/400] START C=15, penalty=None.......................................\n",
      "[CV 4/5; 60/400] END ........C=15, penalty=None;, score=0.765 total time=   0.0s\n",
      "[CV 5/5; 60/400] START C=15, penalty=None.......................................\n",
      "[CV 5/5; 60/400] END ........C=15, penalty=None;, score=0.824 total time=   0.0s\n",
      "[CV 1/5; 61/400] START C=16, penalty=l1.........................................\n",
      "[CV 1/5; 61/400] END ............C=16, penalty=l1;, score=nan total time=   0.0s\n",
      "[CV 2/5; 61/400] START C=16, penalty=l1.........................................\n",
      "[CV 2/5; 61/400] END ............C=16, penalty=l1;, score=nan total time=   0.0s\n",
      "[CV 3/5; 61/400] START C=16, penalty=l1.........................................\n",
      "[CV 3/5; 61/400] END ............C=16, penalty=l1;, score=nan total time=   0.0s\n",
      "[CV 4/5; 61/400] START C=16, penalty=l1.........................................\n",
      "[CV 4/5; 61/400] END ............C=16, penalty=l1;, score=nan total time=   0.0s\n",
      "[CV 5/5; 61/400] START C=16, penalty=l1.........................................\n",
      "[CV 5/5; 61/400] END ............C=16, penalty=l1;, score=nan total time=   0.0s\n",
      "[CV 1/5; 62/400] START C=16, penalty=l2.........................................\n",
      "[CV 1/5; 62/400] END ..........C=16, penalty=l2;, score=0.909 total time=   0.0s\n",
      "[CV 2/5; 62/400] START C=16, penalty=l2.........................................\n",
      "[CV 2/5; 62/400] END ..........C=16, penalty=l2;, score=0.824 total time=   0.0s\n",
      "[CV 3/5; 62/400] START C=16, penalty=l2.........................................\n",
      "[CV 3/5; 62/400] END ..........C=16, penalty=l2;, score=0.912 total time=   0.0s\n",
      "[CV 4/5; 62/400] START C=16, penalty=l2.........................................\n",
      "[CV 4/5; 62/400] END ..........C=16, penalty=l2;, score=0.765 total time=   0.0s\n",
      "[CV 5/5; 62/400] START C=16, penalty=l2.........................................\n",
      "[CV 5/5; 62/400] END ..........C=16, penalty=l2;, score=0.794 total time=   0.0s\n",
      "[CV 1/5; 63/400] START C=16, penalty=elasticnet.................................\n",
      "[CV 1/5; 63/400] END ....C=16, penalty=elasticnet;, score=nan total time=   0.0s\n",
      "[CV 2/5; 63/400] START C=16, penalty=elasticnet.................................\n",
      "[CV 2/5; 63/400] END ....C=16, penalty=elasticnet;, score=nan total time=   0.0s\n",
      "[CV 3/5; 63/400] START C=16, penalty=elasticnet.................................\n",
      "[CV 3/5; 63/400] END ....C=16, penalty=elasticnet;, score=nan total time=   0.0s\n",
      "[CV 4/5; 63/400] START C=16, penalty=elasticnet.................................\n",
      "[CV 4/5; 63/400] END ....C=16, penalty=elasticnet;, score=nan total time=   0.0s\n",
      "[CV 5/5; 63/400] START C=16, penalty=elasticnet.................................\n",
      "[CV 5/5; 63/400] END ....C=16, penalty=elasticnet;, score=nan total time=   0.0s\n",
      "[CV 1/5; 64/400] START C=16, penalty=None.......................................\n",
      "[CV 1/5; 64/400] END ........C=16, penalty=None;, score=0.909 total time=   0.0s\n",
      "[CV 2/5; 64/400] START C=16, penalty=None.......................................\n",
      "[CV 2/5; 64/400] END ........C=16, penalty=None;, score=0.853 total time=   0.0s\n",
      "[CV 3/5; 64/400] START C=16, penalty=None.......................................\n"
     ]
    },
    {
     "name": "stderr",
     "output_type": "stream",
     "text": [
      "C:\\Users\\Usuario\\anaconda3\\lib\\site-packages\\sklearn\\linear_model\\_logistic.py:1193: UserWarning:\n",
      "\n",
      "Setting penalty=None will ignore the C and l1_ratio parameters\n",
      "\n",
      "C:\\Users\\Usuario\\anaconda3\\lib\\site-packages\\sklearn\\linear_model\\_logistic.py:1193: UserWarning:\n",
      "\n",
      "Setting penalty=None will ignore the C and l1_ratio parameters\n",
      "\n",
      "C:\\Users\\Usuario\\anaconda3\\lib\\site-packages\\sklearn\\linear_model\\_logistic.py:1193: UserWarning:\n",
      "\n",
      "Setting penalty=None will ignore the C and l1_ratio parameters\n",
      "\n",
      "C:\\Users\\Usuario\\anaconda3\\lib\\site-packages\\sklearn\\linear_model\\_logistic.py:460: ConvergenceWarning:\n",
      "\n",
      "lbfgs failed to converge (status=1):\n",
      "STOP: TOTAL NO. of ITERATIONS REACHED LIMIT.\n",
      "\n",
      "Increase the number of iterations (max_iter) or scale the data as shown in:\n",
      "    https://scikit-learn.org/stable/modules/preprocessing.html\n",
      "Please also refer to the documentation for alternative solver options:\n",
      "    https://scikit-learn.org/stable/modules/linear_model.html#logistic-regression\n",
      "\n",
      "C:\\Users\\Usuario\\anaconda3\\lib\\site-packages\\sklearn\\linear_model\\_logistic.py:1193: UserWarning:\n",
      "\n",
      "Setting penalty=None will ignore the C and l1_ratio parameters\n",
      "\n",
      "C:\\Users\\Usuario\\anaconda3\\lib\\site-packages\\sklearn\\linear_model\\_logistic.py:1193: UserWarning:\n",
      "\n",
      "Setting penalty=None will ignore the C and l1_ratio parameters\n",
      "\n"
     ]
    },
    {
     "name": "stdout",
     "output_type": "stream",
     "text": [
      "[CV 3/5; 64/400] END ........C=16, penalty=None;, score=0.941 total time=   0.0s\n",
      "[CV 4/5; 64/400] START C=16, penalty=None.......................................\n",
      "[CV 4/5; 64/400] END ........C=16, penalty=None;, score=0.765 total time=   0.0s\n",
      "[CV 5/5; 64/400] START C=16, penalty=None.......................................\n",
      "[CV 5/5; 64/400] END ........C=16, penalty=None;, score=0.824 total time=   0.0s\n",
      "[CV 1/5; 65/400] START C=17, penalty=l1.........................................\n",
      "[CV 1/5; 65/400] END ............C=17, penalty=l1;, score=nan total time=   0.0s\n",
      "[CV 2/5; 65/400] START C=17, penalty=l1.........................................\n",
      "[CV 2/5; 65/400] END ............C=17, penalty=l1;, score=nan total time=   0.0s\n",
      "[CV 3/5; 65/400] START C=17, penalty=l1.........................................\n",
      "[CV 3/5; 65/400] END ............C=17, penalty=l1;, score=nan total time=   0.0s\n",
      "[CV 4/5; 65/400] START C=17, penalty=l1.........................................\n",
      "[CV 4/5; 65/400] END ............C=17, penalty=l1;, score=nan total time=   0.0s\n",
      "[CV 5/5; 65/400] START C=17, penalty=l1.........................................\n",
      "[CV 5/5; 65/400] END ............C=17, penalty=l1;, score=nan total time=   0.0s\n",
      "[CV 1/5; 66/400] START C=17, penalty=l2.........................................\n",
      "[CV 1/5; 66/400] END ..........C=17, penalty=l2;, score=0.909 total time=   0.0s\n",
      "[CV 2/5; 66/400] START C=17, penalty=l2.........................................\n",
      "[CV 2/5; 66/400] END ..........C=17, penalty=l2;, score=0.824 total time=   0.0s\n",
      "[CV 3/5; 66/400] START C=17, penalty=l2.........................................\n",
      "[CV 3/5; 66/400] END ..........C=17, penalty=l2;, score=0.912 total time=   0.0s\n",
      "[CV 4/5; 66/400] START C=17, penalty=l2.........................................\n",
      "[CV 4/5; 66/400] END ..........C=17, penalty=l2;, score=0.765 total time=   0.0s\n",
      "[CV 5/5; 66/400] START C=17, penalty=l2.........................................\n",
      "[CV 5/5; 66/400] END ..........C=17, penalty=l2;, score=0.794 total time=   0.0s\n",
      "[CV 1/5; 67/400] START C=17, penalty=elasticnet.................................\n",
      "[CV 1/5; 67/400] END ....C=17, penalty=elasticnet;, score=nan total time=   0.0s\n",
      "[CV 2/5; 67/400] START C=17, penalty=elasticnet.................................\n",
      "[CV 2/5; 67/400] END ....C=17, penalty=elasticnet;, score=nan total time=   0.0s\n",
      "[CV 3/5; 67/400] START C=17, penalty=elasticnet.................................\n",
      "[CV 3/5; 67/400] END ....C=17, penalty=elasticnet;, score=nan total time=   0.0s\n",
      "[CV 4/5; 67/400] START C=17, penalty=elasticnet.................................\n",
      "[CV 4/5; 67/400] END ....C=17, penalty=elasticnet;, score=nan total time=   0.0s\n",
      "[CV 5/5; 67/400] START C=17, penalty=elasticnet.................................\n",
      "[CV 5/5; 67/400] END ....C=17, penalty=elasticnet;, score=nan total time=   0.0s\n",
      "[CV 1/5; 68/400] START C=17, penalty=None.......................................\n",
      "[CV 1/5; 68/400] END ........C=17, penalty=None;, score=0.909 total time=   0.0s\n",
      "[CV 2/5; 68/400] START C=17, penalty=None.......................................\n",
      "[CV 2/5; 68/400] END ........C=17, penalty=None;, score=0.853 total time=   0.0s\n",
      "[CV 3/5; 68/400] START C=17, penalty=None.......................................\n",
      "[CV 3/5; 68/400] END ........C=17, penalty=None;, score=0.941 total time=   0.0s\n",
      "[CV 4/5; 68/400] START C=17, penalty=None.......................................\n",
      "[CV 4/5; 68/400] END ........C=17, penalty=None;, score=0.765 total time=   0.0s\n",
      "[CV 5/5; 68/400] START C=17, penalty=None.......................................\n",
      "[CV 5/5; 68/400] END ........C=17, penalty=None;, score=0.824 total time=   0.0s\n",
      "[CV 1/5; 69/400] START C=18, penalty=l1.........................................\n"
     ]
    },
    {
     "name": "stderr",
     "output_type": "stream",
     "text": [
      "C:\\Users\\Usuario\\anaconda3\\lib\\site-packages\\sklearn\\linear_model\\_logistic.py:1193: UserWarning:\n",
      "\n",
      "Setting penalty=None will ignore the C and l1_ratio parameters\n",
      "\n",
      "C:\\Users\\Usuario\\anaconda3\\lib\\site-packages\\sklearn\\linear_model\\_logistic.py:1193: UserWarning:\n",
      "\n",
      "Setting penalty=None will ignore the C and l1_ratio parameters\n",
      "\n",
      "C:\\Users\\Usuario\\anaconda3\\lib\\site-packages\\sklearn\\linear_model\\_logistic.py:1193: UserWarning:\n",
      "\n",
      "Setting penalty=None will ignore the C and l1_ratio parameters\n",
      "\n",
      "C:\\Users\\Usuario\\anaconda3\\lib\\site-packages\\sklearn\\linear_model\\_logistic.py:460: ConvergenceWarning:\n",
      "\n",
      "lbfgs failed to converge (status=1):\n",
      "STOP: TOTAL NO. of ITERATIONS REACHED LIMIT.\n",
      "\n",
      "Increase the number of iterations (max_iter) or scale the data as shown in:\n",
      "    https://scikit-learn.org/stable/modules/preprocessing.html\n",
      "Please also refer to the documentation for alternative solver options:\n",
      "    https://scikit-learn.org/stable/modules/linear_model.html#logistic-regression\n",
      "\n",
      "C:\\Users\\Usuario\\anaconda3\\lib\\site-packages\\sklearn\\linear_model\\_logistic.py:1193: UserWarning:\n",
      "\n",
      "Setting penalty=None will ignore the C and l1_ratio parameters\n",
      "\n",
      "C:\\Users\\Usuario\\anaconda3\\lib\\site-packages\\sklearn\\linear_model\\_logistic.py:1193: UserWarning:\n",
      "\n",
      "Setting penalty=None will ignore the C and l1_ratio parameters\n",
      "\n"
     ]
    },
    {
     "name": "stdout",
     "output_type": "stream",
     "text": [
      "[CV 1/5; 69/400] END ............C=18, penalty=l1;, score=nan total time=   0.0s\n",
      "[CV 2/5; 69/400] START C=18, penalty=l1.........................................\n",
      "[CV 2/5; 69/400] END ............C=18, penalty=l1;, score=nan total time=   0.0s\n",
      "[CV 3/5; 69/400] START C=18, penalty=l1.........................................\n",
      "[CV 3/5; 69/400] END ............C=18, penalty=l1;, score=nan total time=   0.0s\n",
      "[CV 4/5; 69/400] START C=18, penalty=l1.........................................\n",
      "[CV 4/5; 69/400] END ............C=18, penalty=l1;, score=nan total time=   0.0s\n",
      "[CV 5/5; 69/400] START C=18, penalty=l1.........................................\n",
      "[CV 5/5; 69/400] END ............C=18, penalty=l1;, score=nan total time=   0.0s\n",
      "[CV 1/5; 70/400] START C=18, penalty=l2.........................................\n",
      "[CV 1/5; 70/400] END ..........C=18, penalty=l2;, score=0.909 total time=   0.0s\n",
      "[CV 2/5; 70/400] START C=18, penalty=l2.........................................\n",
      "[CV 2/5; 70/400] END ..........C=18, penalty=l2;, score=0.824 total time=   0.0s\n",
      "[CV 3/5; 70/400] START C=18, penalty=l2.........................................\n",
      "[CV 3/5; 70/400] END ..........C=18, penalty=l2;, score=0.912 total time=   0.0s\n",
      "[CV 4/5; 70/400] START C=18, penalty=l2.........................................\n",
      "[CV 4/5; 70/400] END ..........C=18, penalty=l2;, score=0.765 total time=   0.0s\n",
      "[CV 5/5; 70/400] START C=18, penalty=l2.........................................\n",
      "[CV 5/5; 70/400] END ..........C=18, penalty=l2;, score=0.794 total time=   0.0s\n",
      "[CV 1/5; 71/400] START C=18, penalty=elasticnet.................................\n",
      "[CV 1/5; 71/400] END ....C=18, penalty=elasticnet;, score=nan total time=   0.0s\n",
      "[CV 2/5; 71/400] START C=18, penalty=elasticnet.................................\n",
      "[CV 2/5; 71/400] END ....C=18, penalty=elasticnet;, score=nan total time=   0.0s\n",
      "[CV 3/5; 71/400] START C=18, penalty=elasticnet.................................\n",
      "[CV 3/5; 71/400] END ....C=18, penalty=elasticnet;, score=nan total time=   0.0s\n",
      "[CV 4/5; 71/400] START C=18, penalty=elasticnet.................................\n",
      "[CV 4/5; 71/400] END ....C=18, penalty=elasticnet;, score=nan total time=   0.0s\n",
      "[CV 5/5; 71/400] START C=18, penalty=elasticnet.................................\n",
      "[CV 5/5; 71/400] END ....C=18, penalty=elasticnet;, score=nan total time=   0.0s\n",
      "[CV 1/5; 72/400] START C=18, penalty=None.......................................\n",
      "[CV 1/5; 72/400] END ........C=18, penalty=None;, score=0.909 total time=   0.0s\n",
      "[CV 2/5; 72/400] START C=18, penalty=None.......................................\n",
      "[CV 2/5; 72/400] END ........C=18, penalty=None;, score=0.853 total time=   0.0s\n",
      "[CV 3/5; 72/400] START C=18, penalty=None.......................................\n",
      "[CV 3/5; 72/400] END ........C=18, penalty=None;, score=0.941 total time=   0.0s\n",
      "[CV 4/5; 72/400] START C=18, penalty=None.......................................\n",
      "[CV 4/5; 72/400] END ........C=18, penalty=None;, score=0.765 total time=   0.0s\n",
      "[CV 5/5; 72/400] START C=18, penalty=None.......................................\n",
      "[CV 5/5; 72/400] END ........C=18, penalty=None;, score=0.824 total time=   0.0s\n",
      "[CV 1/5; 73/400] START C=19, penalty=l1.........................................\n",
      "[CV 1/5; 73/400] END ............C=19, penalty=l1;, score=nan total time=   0.0s\n",
      "[CV 2/5; 73/400] START C=19, penalty=l1.........................................\n",
      "[CV 2/5; 73/400] END ............C=19, penalty=l1;, score=nan total time=   0.0s\n",
      "[CV 3/5; 73/400] START C=19, penalty=l1.........................................\n"
     ]
    },
    {
     "name": "stderr",
     "output_type": "stream",
     "text": [
      "C:\\Users\\Usuario\\anaconda3\\lib\\site-packages\\sklearn\\linear_model\\_logistic.py:1193: UserWarning:\n",
      "\n",
      "Setting penalty=None will ignore the C and l1_ratio parameters\n",
      "\n",
      "C:\\Users\\Usuario\\anaconda3\\lib\\site-packages\\sklearn\\linear_model\\_logistic.py:1193: UserWarning:\n",
      "\n",
      "Setting penalty=None will ignore the C and l1_ratio parameters\n",
      "\n",
      "C:\\Users\\Usuario\\anaconda3\\lib\\site-packages\\sklearn\\linear_model\\_logistic.py:1193: UserWarning:\n",
      "\n",
      "Setting penalty=None will ignore the C and l1_ratio parameters\n",
      "\n",
      "C:\\Users\\Usuario\\anaconda3\\lib\\site-packages\\sklearn\\linear_model\\_logistic.py:460: ConvergenceWarning:\n",
      "\n",
      "lbfgs failed to converge (status=1):\n",
      "STOP: TOTAL NO. of ITERATIONS REACHED LIMIT.\n",
      "\n",
      "Increase the number of iterations (max_iter) or scale the data as shown in:\n",
      "    https://scikit-learn.org/stable/modules/preprocessing.html\n",
      "Please also refer to the documentation for alternative solver options:\n",
      "    https://scikit-learn.org/stable/modules/linear_model.html#logistic-regression\n",
      "\n",
      "C:\\Users\\Usuario\\anaconda3\\lib\\site-packages\\sklearn\\linear_model\\_logistic.py:1193: UserWarning:\n",
      "\n",
      "Setting penalty=None will ignore the C and l1_ratio parameters\n",
      "\n",
      "C:\\Users\\Usuario\\anaconda3\\lib\\site-packages\\sklearn\\linear_model\\_logistic.py:1193: UserWarning:\n",
      "\n",
      "Setting penalty=None will ignore the C and l1_ratio parameters\n",
      "\n"
     ]
    },
    {
     "name": "stdout",
     "output_type": "stream",
     "text": [
      "[CV 3/5; 73/400] END ............C=19, penalty=l1;, score=nan total time=   0.0s\n",
      "[CV 4/5; 73/400] START C=19, penalty=l1.........................................\n",
      "[CV 4/5; 73/400] END ............C=19, penalty=l1;, score=nan total time=   0.0s\n",
      "[CV 5/5; 73/400] START C=19, penalty=l1.........................................\n",
      "[CV 5/5; 73/400] END ............C=19, penalty=l1;, score=nan total time=   0.0s\n",
      "[CV 1/5; 74/400] START C=19, penalty=l2.........................................\n",
      "[CV 1/5; 74/400] END ..........C=19, penalty=l2;, score=0.909 total time=   0.0s\n",
      "[CV 2/5; 74/400] START C=19, penalty=l2.........................................\n",
      "[CV 2/5; 74/400] END ..........C=19, penalty=l2;, score=0.824 total time=   0.0s\n",
      "[CV 3/5; 74/400] START C=19, penalty=l2.........................................\n",
      "[CV 3/5; 74/400] END ..........C=19, penalty=l2;, score=0.912 total time=   0.0s\n",
      "[CV 4/5; 74/400] START C=19, penalty=l2.........................................\n",
      "[CV 4/5; 74/400] END ..........C=19, penalty=l2;, score=0.765 total time=   0.0s\n",
      "[CV 5/5; 74/400] START C=19, penalty=l2.........................................\n",
      "[CV 5/5; 74/400] END ..........C=19, penalty=l2;, score=0.794 total time=   0.0s\n",
      "[CV 1/5; 75/400] START C=19, penalty=elasticnet.................................\n",
      "[CV 1/5; 75/400] END ....C=19, penalty=elasticnet;, score=nan total time=   0.0s\n",
      "[CV 2/5; 75/400] START C=19, penalty=elasticnet.................................\n",
      "[CV 2/5; 75/400] END ....C=19, penalty=elasticnet;, score=nan total time=   0.0s\n",
      "[CV 3/5; 75/400] START C=19, penalty=elasticnet.................................\n",
      "[CV 3/5; 75/400] END ....C=19, penalty=elasticnet;, score=nan total time=   0.0s\n",
      "[CV 4/5; 75/400] START C=19, penalty=elasticnet.................................\n",
      "[CV 4/5; 75/400] END ....C=19, penalty=elasticnet;, score=nan total time=   0.0s\n",
      "[CV 5/5; 75/400] START C=19, penalty=elasticnet.................................\n",
      "[CV 5/5; 75/400] END ....C=19, penalty=elasticnet;, score=nan total time=   0.0s\n",
      "[CV 1/5; 76/400] START C=19, penalty=None.......................................\n",
      "[CV 1/5; 76/400] END ........C=19, penalty=None;, score=0.909 total time=   0.0s\n",
      "[CV 2/5; 76/400] START C=19, penalty=None.......................................\n",
      "[CV 2/5; 76/400] END ........C=19, penalty=None;, score=0.853 total time=   0.0s\n",
      "[CV 3/5; 76/400] START C=19, penalty=None.......................................\n",
      "[CV 3/5; 76/400] END ........C=19, penalty=None;, score=0.941 total time=   0.0s\n",
      "[CV 4/5; 76/400] START C=19, penalty=None.......................................\n",
      "[CV 4/5; 76/400] END ........C=19, penalty=None;, score=0.765 total time=   0.0s\n",
      "[CV 5/5; 76/400] START C=19, penalty=None.......................................\n",
      "[CV 5/5; 76/400] END ........C=19, penalty=None;, score=0.824 total time=   0.0s\n",
      "[CV 1/5; 77/400] START C=20, penalty=l1.........................................\n",
      "[CV 1/5; 77/400] END ............C=20, penalty=l1;, score=nan total time=   0.0s\n",
      "[CV 2/5; 77/400] START C=20, penalty=l1.........................................\n",
      "[CV 2/5; 77/400] END ............C=20, penalty=l1;, score=nan total time=   0.0s\n",
      "[CV 3/5; 77/400] START C=20, penalty=l1.........................................\n"
     ]
    },
    {
     "name": "stderr",
     "output_type": "stream",
     "text": [
      "C:\\Users\\Usuario\\anaconda3\\lib\\site-packages\\sklearn\\linear_model\\_logistic.py:1193: UserWarning:\n",
      "\n",
      "Setting penalty=None will ignore the C and l1_ratio parameters\n",
      "\n",
      "C:\\Users\\Usuario\\anaconda3\\lib\\site-packages\\sklearn\\linear_model\\_logistic.py:1193: UserWarning:\n",
      "\n",
      "Setting penalty=None will ignore the C and l1_ratio parameters\n",
      "\n",
      "C:\\Users\\Usuario\\anaconda3\\lib\\site-packages\\sklearn\\linear_model\\_logistic.py:1193: UserWarning:\n",
      "\n",
      "Setting penalty=None will ignore the C and l1_ratio parameters\n",
      "\n",
      "C:\\Users\\Usuario\\anaconda3\\lib\\site-packages\\sklearn\\linear_model\\_logistic.py:460: ConvergenceWarning:\n",
      "\n",
      "lbfgs failed to converge (status=1):\n",
      "STOP: TOTAL NO. of ITERATIONS REACHED LIMIT.\n",
      "\n",
      "Increase the number of iterations (max_iter) or scale the data as shown in:\n",
      "    https://scikit-learn.org/stable/modules/preprocessing.html\n",
      "Please also refer to the documentation for alternative solver options:\n",
      "    https://scikit-learn.org/stable/modules/linear_model.html#logistic-regression\n",
      "\n",
      "C:\\Users\\Usuario\\anaconda3\\lib\\site-packages\\sklearn\\linear_model\\_logistic.py:1193: UserWarning:\n",
      "\n",
      "Setting penalty=None will ignore the C and l1_ratio parameters\n",
      "\n",
      "C:\\Users\\Usuario\\anaconda3\\lib\\site-packages\\sklearn\\linear_model\\_logistic.py:1193: UserWarning:\n",
      "\n",
      "Setting penalty=None will ignore the C and l1_ratio parameters\n",
      "\n"
     ]
    },
    {
     "name": "stdout",
     "output_type": "stream",
     "text": [
      "[CV 3/5; 77/400] END ............C=20, penalty=l1;, score=nan total time=   0.0s\n",
      "[CV 4/5; 77/400] START C=20, penalty=l1.........................................\n",
      "[CV 4/5; 77/400] END ............C=20, penalty=l1;, score=nan total time=   0.0s\n",
      "[CV 5/5; 77/400] START C=20, penalty=l1.........................................\n",
      "[CV 5/5; 77/400] END ............C=20, penalty=l1;, score=nan total time=   0.0s\n",
      "[CV 1/5; 78/400] START C=20, penalty=l2.........................................\n",
      "[CV 1/5; 78/400] END ..........C=20, penalty=l2;, score=0.909 total time=   0.0s\n",
      "[CV 2/5; 78/400] START C=20, penalty=l2.........................................\n",
      "[CV 2/5; 78/400] END ..........C=20, penalty=l2;, score=0.824 total time=   0.0s\n",
      "[CV 3/5; 78/400] START C=20, penalty=l2.........................................\n",
      "[CV 3/5; 78/400] END ..........C=20, penalty=l2;, score=0.912 total time=   0.0s\n",
      "[CV 4/5; 78/400] START C=20, penalty=l2.........................................\n",
      "[CV 4/5; 78/400] END ..........C=20, penalty=l2;, score=0.765 total time=   0.0s\n",
      "[CV 5/5; 78/400] START C=20, penalty=l2.........................................\n",
      "[CV 5/5; 78/400] END ..........C=20, penalty=l2;, score=0.794 total time=   0.0s\n",
      "[CV 1/5; 79/400] START C=20, penalty=elasticnet.................................\n",
      "[CV 1/5; 79/400] END ....C=20, penalty=elasticnet;, score=nan total time=   0.0s\n",
      "[CV 2/5; 79/400] START C=20, penalty=elasticnet.................................\n",
      "[CV 2/5; 79/400] END ....C=20, penalty=elasticnet;, score=nan total time=   0.0s\n",
      "[CV 3/5; 79/400] START C=20, penalty=elasticnet.................................\n",
      "[CV 3/5; 79/400] END ....C=20, penalty=elasticnet;, score=nan total time=   0.0s\n",
      "[CV 4/5; 79/400] START C=20, penalty=elasticnet.................................\n",
      "[CV 4/5; 79/400] END ....C=20, penalty=elasticnet;, score=nan total time=   0.0s\n",
      "[CV 5/5; 79/400] START C=20, penalty=elasticnet.................................\n",
      "[CV 5/5; 79/400] END ....C=20, penalty=elasticnet;, score=nan total time=   0.0s\n",
      "[CV 1/5; 80/400] START C=20, penalty=None.......................................\n"
     ]
    },
    {
     "name": "stderr",
     "output_type": "stream",
     "text": [
      "C:\\Users\\Usuario\\anaconda3\\lib\\site-packages\\sklearn\\linear_model\\_logistic.py:460: ConvergenceWarning:\n",
      "\n",
      "lbfgs failed to converge (status=1):\n",
      "STOP: TOTAL NO. of ITERATIONS REACHED LIMIT.\n",
      "\n",
      "Increase the number of iterations (max_iter) or scale the data as shown in:\n",
      "    https://scikit-learn.org/stable/modules/preprocessing.html\n",
      "Please also refer to the documentation for alternative solver options:\n",
      "    https://scikit-learn.org/stable/modules/linear_model.html#logistic-regression\n",
      "\n",
      "C:\\Users\\Usuario\\anaconda3\\lib\\site-packages\\sklearn\\linear_model\\_logistic.py:1193: UserWarning:\n",
      "\n",
      "Setting penalty=None will ignore the C and l1_ratio parameters\n",
      "\n",
      "C:\\Users\\Usuario\\anaconda3\\lib\\site-packages\\sklearn\\linear_model\\_logistic.py:1193: UserWarning:\n",
      "\n",
      "Setting penalty=None will ignore the C and l1_ratio parameters\n",
      "\n",
      "C:\\Users\\Usuario\\anaconda3\\lib\\site-packages\\sklearn\\linear_model\\_logistic.py:1193: UserWarning:\n",
      "\n",
      "Setting penalty=None will ignore the C and l1_ratio parameters\n",
      "\n",
      "C:\\Users\\Usuario\\anaconda3\\lib\\site-packages\\sklearn\\linear_model\\_logistic.py:460: ConvergenceWarning:\n",
      "\n",
      "lbfgs failed to converge (status=1):\n",
      "STOP: TOTAL NO. of ITERATIONS REACHED LIMIT.\n",
      "\n",
      "Increase the number of iterations (max_iter) or scale the data as shown in:\n",
      "    https://scikit-learn.org/stable/modules/preprocessing.html\n",
      "Please also refer to the documentation for alternative solver options:\n",
      "    https://scikit-learn.org/stable/modules/linear_model.html#logistic-regression\n",
      "\n",
      "C:\\Users\\Usuario\\anaconda3\\lib\\site-packages\\sklearn\\linear_model\\_logistic.py:1193: UserWarning:\n",
      "\n",
      "Setting penalty=None will ignore the C and l1_ratio parameters\n",
      "\n",
      "C:\\Users\\Usuario\\anaconda3\\lib\\site-packages\\sklearn\\linear_model\\_logistic.py:1193: UserWarning:\n",
      "\n",
      "Setting penalty=None will ignore the C and l1_ratio parameters\n",
      "\n"
     ]
    },
    {
     "name": "stdout",
     "output_type": "stream",
     "text": [
      "[CV 1/5; 80/400] END ........C=20, penalty=None;, score=0.909 total time=   0.0s\n",
      "[CV 2/5; 80/400] START C=20, penalty=None.......................................\n",
      "[CV 2/5; 80/400] END ........C=20, penalty=None;, score=0.853 total time=   0.0s\n",
      "[CV 3/5; 80/400] START C=20, penalty=None.......................................\n",
      "[CV 3/5; 80/400] END ........C=20, penalty=None;, score=0.941 total time=   0.0s\n",
      "[CV 4/5; 80/400] START C=20, penalty=None.......................................\n",
      "[CV 4/5; 80/400] END ........C=20, penalty=None;, score=0.765 total time=   0.0s\n",
      "[CV 5/5; 80/400] START C=20, penalty=None.......................................\n",
      "[CV 5/5; 80/400] END ........C=20, penalty=None;, score=0.824 total time=   0.0s\n",
      "[CV 1/5; 81/400] START C=21, penalty=l1.........................................\n",
      "[CV 1/5; 81/400] END ............C=21, penalty=l1;, score=nan total time=   0.0s\n",
      "[CV 2/5; 81/400] START C=21, penalty=l1.........................................\n",
      "[CV 2/5; 81/400] END ............C=21, penalty=l1;, score=nan total time=   0.0s\n",
      "[CV 3/5; 81/400] START C=21, penalty=l1.........................................\n",
      "[CV 3/5; 81/400] END ............C=21, penalty=l1;, score=nan total time=   0.0s\n",
      "[CV 4/5; 81/400] START C=21, penalty=l1.........................................\n",
      "[CV 4/5; 81/400] END ............C=21, penalty=l1;, score=nan total time=   0.0s\n",
      "[CV 5/5; 81/400] START C=21, penalty=l1.........................................\n",
      "[CV 5/5; 81/400] END ............C=21, penalty=l1;, score=nan total time=   0.0s\n",
      "[CV 1/5; 82/400] START C=21, penalty=l2.........................................\n",
      "[CV 1/5; 82/400] END ..........C=21, penalty=l2;, score=0.909 total time=   0.0s\n",
      "[CV 2/5; 82/400] START C=21, penalty=l2.........................................\n",
      "[CV 2/5; 82/400] END ..........C=21, penalty=l2;, score=0.824 total time=   0.0s\n",
      "[CV 3/5; 82/400] START C=21, penalty=l2.........................................\n",
      "[CV 3/5; 82/400] END ..........C=21, penalty=l2;, score=0.941 total time=   0.0s\n",
      "[CV 4/5; 82/400] START C=21, penalty=l2.........................................\n",
      "[CV 4/5; 82/400] END ..........C=21, penalty=l2;, score=0.765 total time=   0.0s\n",
      "[CV 5/5; 82/400] START C=21, penalty=l2.........................................\n",
      "[CV 5/5; 82/400] END ..........C=21, penalty=l2;, score=0.794 total time=   0.0s\n",
      "[CV 1/5; 83/400] START C=21, penalty=elasticnet.................................\n",
      "[CV 1/5; 83/400] END ....C=21, penalty=elasticnet;, score=nan total time=   0.0s\n",
      "[CV 2/5; 83/400] START C=21, penalty=elasticnet.................................\n",
      "[CV 2/5; 83/400] END ....C=21, penalty=elasticnet;, score=nan total time=   0.0s\n",
      "[CV 3/5; 83/400] START C=21, penalty=elasticnet.................................\n",
      "[CV 3/5; 83/400] END ....C=21, penalty=elasticnet;, score=nan total time=   0.0s\n",
      "[CV 4/5; 83/400] START C=21, penalty=elasticnet.................................\n",
      "[CV 4/5; 83/400] END ....C=21, penalty=elasticnet;, score=nan total time=   0.0s\n",
      "[CV 5/5; 83/400] START C=21, penalty=elasticnet.................................\n",
      "[CV 5/5; 83/400] END ....C=21, penalty=elasticnet;, score=nan total time=   0.0s\n",
      "[CV 1/5; 84/400] START C=21, penalty=None.......................................\n",
      "[CV 1/5; 84/400] END ........C=21, penalty=None;, score=0.909 total time=   0.0s\n",
      "[CV 2/5; 84/400] START C=21, penalty=None.......................................\n"
     ]
    },
    {
     "name": "stderr",
     "output_type": "stream",
     "text": [
      "C:\\Users\\Usuario\\anaconda3\\lib\\site-packages\\sklearn\\linear_model\\_logistic.py:1193: UserWarning:\n",
      "\n",
      "Setting penalty=None will ignore the C and l1_ratio parameters\n",
      "\n",
      "C:\\Users\\Usuario\\anaconda3\\lib\\site-packages\\sklearn\\linear_model\\_logistic.py:1193: UserWarning:\n",
      "\n",
      "Setting penalty=None will ignore the C and l1_ratio parameters\n",
      "\n",
      "C:\\Users\\Usuario\\anaconda3\\lib\\site-packages\\sklearn\\linear_model\\_logistic.py:1193: UserWarning:\n",
      "\n",
      "Setting penalty=None will ignore the C and l1_ratio parameters\n",
      "\n",
      "C:\\Users\\Usuario\\anaconda3\\lib\\site-packages\\sklearn\\linear_model\\_logistic.py:460: ConvergenceWarning:\n",
      "\n",
      "lbfgs failed to converge (status=1):\n",
      "STOP: TOTAL NO. of ITERATIONS REACHED LIMIT.\n",
      "\n",
      "Increase the number of iterations (max_iter) or scale the data as shown in:\n",
      "    https://scikit-learn.org/stable/modules/preprocessing.html\n",
      "Please also refer to the documentation for alternative solver options:\n",
      "    https://scikit-learn.org/stable/modules/linear_model.html#logistic-regression\n",
      "\n",
      "C:\\Users\\Usuario\\anaconda3\\lib\\site-packages\\sklearn\\linear_model\\_logistic.py:1193: UserWarning:\n",
      "\n",
      "Setting penalty=None will ignore the C and l1_ratio parameters\n",
      "\n",
      "C:\\Users\\Usuario\\anaconda3\\lib\\site-packages\\sklearn\\linear_model\\_logistic.py:1193: UserWarning:\n",
      "\n",
      "Setting penalty=None will ignore the C and l1_ratio parameters\n",
      "\n"
     ]
    },
    {
     "name": "stdout",
     "output_type": "stream",
     "text": [
      "[CV 2/5; 84/400] END ........C=21, penalty=None;, score=0.853 total time=   0.0s\n",
      "[CV 3/5; 84/400] START C=21, penalty=None.......................................\n",
      "[CV 3/5; 84/400] END ........C=21, penalty=None;, score=0.941 total time=   0.0s\n",
      "[CV 4/5; 84/400] START C=21, penalty=None.......................................\n",
      "[CV 4/5; 84/400] END ........C=21, penalty=None;, score=0.765 total time=   0.0s\n",
      "[CV 5/5; 84/400] START C=21, penalty=None.......................................\n",
      "[CV 5/5; 84/400] END ........C=21, penalty=None;, score=0.824 total time=   0.0s\n",
      "[CV 1/5; 85/400] START C=22, penalty=l1.........................................\n",
      "[CV 1/5; 85/400] END ............C=22, penalty=l1;, score=nan total time=   0.0s\n",
      "[CV 2/5; 85/400] START C=22, penalty=l1.........................................\n",
      "[CV 2/5; 85/400] END ............C=22, penalty=l1;, score=nan total time=   0.0s\n",
      "[CV 3/5; 85/400] START C=22, penalty=l1.........................................\n",
      "[CV 3/5; 85/400] END ............C=22, penalty=l1;, score=nan total time=   0.0s\n",
      "[CV 4/5; 85/400] START C=22, penalty=l1.........................................\n",
      "[CV 4/5; 85/400] END ............C=22, penalty=l1;, score=nan total time=   0.0s\n",
      "[CV 5/5; 85/400] START C=22, penalty=l1.........................................\n",
      "[CV 5/5; 85/400] END ............C=22, penalty=l1;, score=nan total time=   0.0s\n",
      "[CV 1/5; 86/400] START C=22, penalty=l2.........................................\n",
      "[CV 1/5; 86/400] END ..........C=22, penalty=l2;, score=0.909 total time=   0.0s\n",
      "[CV 2/5; 86/400] START C=22, penalty=l2.........................................\n",
      "[CV 2/5; 86/400] END ..........C=22, penalty=l2;, score=0.824 total time=   0.0s\n",
      "[CV 3/5; 86/400] START C=22, penalty=l2.........................................\n",
      "[CV 3/5; 86/400] END ..........C=22, penalty=l2;, score=0.941 total time=   0.0s\n",
      "[CV 4/5; 86/400] START C=22, penalty=l2.........................................\n",
      "[CV 4/5; 86/400] END ..........C=22, penalty=l2;, score=0.765 total time=   0.0s\n",
      "[CV 5/5; 86/400] START C=22, penalty=l2.........................................\n",
      "[CV 5/5; 86/400] END ..........C=22, penalty=l2;, score=0.794 total time=   0.0s\n",
      "[CV 1/5; 87/400] START C=22, penalty=elasticnet.................................\n",
      "[CV 1/5; 87/400] END ....C=22, penalty=elasticnet;, score=nan total time=   0.0s\n",
      "[CV 2/5; 87/400] START C=22, penalty=elasticnet.................................\n",
      "[CV 2/5; 87/400] END ....C=22, penalty=elasticnet;, score=nan total time=   0.0s\n",
      "[CV 3/5; 87/400] START C=22, penalty=elasticnet.................................\n",
      "[CV 3/5; 87/400] END ....C=22, penalty=elasticnet;, score=nan total time=   0.0s\n",
      "[CV 4/5; 87/400] START C=22, penalty=elasticnet.................................\n",
      "[CV 4/5; 87/400] END ....C=22, penalty=elasticnet;, score=nan total time=   0.0s\n",
      "[CV 5/5; 87/400] START C=22, penalty=elasticnet.................................\n",
      "[CV 5/5; 87/400] END ....C=22, penalty=elasticnet;, score=nan total time=   0.0s\n",
      "[CV 1/5; 88/400] START C=22, penalty=None.......................................\n",
      "[CV 1/5; 88/400] END ........C=22, penalty=None;, score=0.909 total time=   0.0s\n",
      "[CV 2/5; 88/400] START C=22, penalty=None.......................................\n",
      "[CV 2/5; 88/400] END ........C=22, penalty=None;, score=0.853 total time=   0.0s\n",
      "[CV 3/5; 88/400] START C=22, penalty=None.......................................\n"
     ]
    },
    {
     "name": "stderr",
     "output_type": "stream",
     "text": [
      "C:\\Users\\Usuario\\anaconda3\\lib\\site-packages\\sklearn\\linear_model\\_logistic.py:460: ConvergenceWarning:\n",
      "\n",
      "lbfgs failed to converge (status=1):\n",
      "STOP: TOTAL NO. of ITERATIONS REACHED LIMIT.\n",
      "\n",
      "Increase the number of iterations (max_iter) or scale the data as shown in:\n",
      "    https://scikit-learn.org/stable/modules/preprocessing.html\n",
      "Please also refer to the documentation for alternative solver options:\n",
      "    https://scikit-learn.org/stable/modules/linear_model.html#logistic-regression\n",
      "\n",
      "C:\\Users\\Usuario\\anaconda3\\lib\\site-packages\\sklearn\\linear_model\\_logistic.py:1193: UserWarning:\n",
      "\n",
      "Setting penalty=None will ignore the C and l1_ratio parameters\n",
      "\n",
      "C:\\Users\\Usuario\\anaconda3\\lib\\site-packages\\sklearn\\linear_model\\_logistic.py:1193: UserWarning:\n",
      "\n",
      "Setting penalty=None will ignore the C and l1_ratio parameters\n",
      "\n",
      "C:\\Users\\Usuario\\anaconda3\\lib\\site-packages\\sklearn\\linear_model\\_logistic.py:1193: UserWarning:\n",
      "\n",
      "Setting penalty=None will ignore the C and l1_ratio parameters\n",
      "\n",
      "C:\\Users\\Usuario\\anaconda3\\lib\\site-packages\\sklearn\\linear_model\\_logistic.py:460: ConvergenceWarning:\n",
      "\n",
      "lbfgs failed to converge (status=1):\n",
      "STOP: TOTAL NO. of ITERATIONS REACHED LIMIT.\n",
      "\n",
      "Increase the number of iterations (max_iter) or scale the data as shown in:\n",
      "    https://scikit-learn.org/stable/modules/preprocessing.html\n",
      "Please also refer to the documentation for alternative solver options:\n",
      "    https://scikit-learn.org/stable/modules/linear_model.html#logistic-regression\n",
      "\n",
      "C:\\Users\\Usuario\\anaconda3\\lib\\site-packages\\sklearn\\linear_model\\_logistic.py:1193: UserWarning:\n",
      "\n",
      "Setting penalty=None will ignore the C and l1_ratio parameters\n",
      "\n",
      "C:\\Users\\Usuario\\anaconda3\\lib\\site-packages\\sklearn\\linear_model\\_logistic.py:1193: UserWarning:\n",
      "\n",
      "Setting penalty=None will ignore the C and l1_ratio parameters\n",
      "\n"
     ]
    },
    {
     "name": "stdout",
     "output_type": "stream",
     "text": [
      "[CV 3/5; 88/400] END ........C=22, penalty=None;, score=0.941 total time=   0.0s\n",
      "[CV 4/5; 88/400] START C=22, penalty=None.......................................\n",
      "[CV 4/5; 88/400] END ........C=22, penalty=None;, score=0.765 total time=   0.0s\n",
      "[CV 5/5; 88/400] START C=22, penalty=None.......................................\n",
      "[CV 5/5; 88/400] END ........C=22, penalty=None;, score=0.824 total time=   0.0s\n",
      "[CV 1/5; 89/400] START C=23, penalty=l1.........................................\n",
      "[CV 1/5; 89/400] END ............C=23, penalty=l1;, score=nan total time=   0.0s\n",
      "[CV 2/5; 89/400] START C=23, penalty=l1.........................................\n",
      "[CV 2/5; 89/400] END ............C=23, penalty=l1;, score=nan total time=   0.0s\n",
      "[CV 3/5; 89/400] START C=23, penalty=l1.........................................\n",
      "[CV 3/5; 89/400] END ............C=23, penalty=l1;, score=nan total time=   0.0s\n",
      "[CV 4/5; 89/400] START C=23, penalty=l1.........................................\n",
      "[CV 4/5; 89/400] END ............C=23, penalty=l1;, score=nan total time=   0.0s\n",
      "[CV 5/5; 89/400] START C=23, penalty=l1.........................................\n",
      "[CV 5/5; 89/400] END ............C=23, penalty=l1;, score=nan total time=   0.0s\n",
      "[CV 1/5; 90/400] START C=23, penalty=l2.........................................\n",
      "[CV 1/5; 90/400] END ..........C=23, penalty=l2;, score=0.909 total time=   0.0s\n",
      "[CV 2/5; 90/400] START C=23, penalty=l2.........................................\n",
      "[CV 2/5; 90/400] END ..........C=23, penalty=l2;, score=0.824 total time=   0.0s\n",
      "[CV 3/5; 90/400] START C=23, penalty=l2.........................................\n",
      "[CV 3/5; 90/400] END ..........C=23, penalty=l2;, score=0.941 total time=   0.0s\n",
      "[CV 4/5; 90/400] START C=23, penalty=l2.........................................\n",
      "[CV 4/5; 90/400] END ..........C=23, penalty=l2;, score=0.765 total time=   0.0s\n",
      "[CV 5/5; 90/400] START C=23, penalty=l2.........................................\n",
      "[CV 5/5; 90/400] END ..........C=23, penalty=l2;, score=0.794 total time=   0.0s\n",
      "[CV 1/5; 91/400] START C=23, penalty=elasticnet.................................\n",
      "[CV 1/5; 91/400] END ....C=23, penalty=elasticnet;, score=nan total time=   0.0s\n",
      "[CV 2/5; 91/400] START C=23, penalty=elasticnet.................................\n",
      "[CV 2/5; 91/400] END ....C=23, penalty=elasticnet;, score=nan total time=   0.0s\n",
      "[CV 3/5; 91/400] START C=23, penalty=elasticnet.................................\n",
      "[CV 3/5; 91/400] END ....C=23, penalty=elasticnet;, score=nan total time=   0.0s\n",
      "[CV 4/5; 91/400] START C=23, penalty=elasticnet.................................\n",
      "[CV 4/5; 91/400] END ....C=23, penalty=elasticnet;, score=nan total time=   0.0s\n",
      "[CV 5/5; 91/400] START C=23, penalty=elasticnet.................................\n",
      "[CV 5/5; 91/400] END ....C=23, penalty=elasticnet;, score=nan total time=   0.0s\n",
      "[CV 1/5; 92/400] START C=23, penalty=None.......................................\n",
      "[CV 1/5; 92/400] END ........C=23, penalty=None;, score=0.909 total time=   0.0s\n",
      "[CV 2/5; 92/400] START C=23, penalty=None.......................................\n",
      "[CV 2/5; 92/400] END ........C=23, penalty=None;, score=0.853 total time=   0.0s\n",
      "[CV 3/5; 92/400] START C=23, penalty=None.......................................\n",
      "[CV 3/5; 92/400] END ........C=23, penalty=None;, score=0.941 total time=   0.0s\n",
      "[CV 4/5; 92/400] START C=23, penalty=None.......................................\n",
      "[CV 4/5; 92/400] END ........C=23, penalty=None;, score=0.765 total time=   0.0s\n",
      "[CV 5/5; 92/400] START C=23, penalty=None.......................................\n",
      "[CV 5/5; 92/400] END ........C=23, penalty=None;, score=0.824 total time=   0.0s\n",
      "[CV 1/5; 93/400] START C=24, penalty=l1.........................................\n"
     ]
    },
    {
     "name": "stderr",
     "output_type": "stream",
     "text": [
      "C:\\Users\\Usuario\\anaconda3\\lib\\site-packages\\sklearn\\linear_model\\_logistic.py:1193: UserWarning:\n",
      "\n",
      "Setting penalty=None will ignore the C and l1_ratio parameters\n",
      "\n",
      "C:\\Users\\Usuario\\anaconda3\\lib\\site-packages\\sklearn\\linear_model\\_logistic.py:1193: UserWarning:\n",
      "\n",
      "Setting penalty=None will ignore the C and l1_ratio parameters\n",
      "\n",
      "C:\\Users\\Usuario\\anaconda3\\lib\\site-packages\\sklearn\\linear_model\\_logistic.py:1193: UserWarning:\n",
      "\n",
      "Setting penalty=None will ignore the C and l1_ratio parameters\n",
      "\n",
      "C:\\Users\\Usuario\\anaconda3\\lib\\site-packages\\sklearn\\linear_model\\_logistic.py:460: ConvergenceWarning:\n",
      "\n",
      "lbfgs failed to converge (status=1):\n",
      "STOP: TOTAL NO. of ITERATIONS REACHED LIMIT.\n",
      "\n",
      "Increase the number of iterations (max_iter) or scale the data as shown in:\n",
      "    https://scikit-learn.org/stable/modules/preprocessing.html\n",
      "Please also refer to the documentation for alternative solver options:\n",
      "    https://scikit-learn.org/stable/modules/linear_model.html#logistic-regression\n",
      "\n",
      "C:\\Users\\Usuario\\anaconda3\\lib\\site-packages\\sklearn\\linear_model\\_logistic.py:1193: UserWarning:\n",
      "\n",
      "Setting penalty=None will ignore the C and l1_ratio parameters\n",
      "\n",
      "C:\\Users\\Usuario\\anaconda3\\lib\\site-packages\\sklearn\\linear_model\\_logistic.py:1193: UserWarning:\n",
      "\n",
      "Setting penalty=None will ignore the C and l1_ratio parameters\n",
      "\n"
     ]
    },
    {
     "name": "stdout",
     "output_type": "stream",
     "text": [
      "[CV 1/5; 93/400] END ............C=24, penalty=l1;, score=nan total time=   0.0s\n",
      "[CV 2/5; 93/400] START C=24, penalty=l1.........................................\n",
      "[CV 2/5; 93/400] END ............C=24, penalty=l1;, score=nan total time=   0.0s\n",
      "[CV 3/5; 93/400] START C=24, penalty=l1.........................................\n",
      "[CV 3/5; 93/400] END ............C=24, penalty=l1;, score=nan total time=   0.0s\n",
      "[CV 4/5; 93/400] START C=24, penalty=l1.........................................\n",
      "[CV 4/5; 93/400] END ............C=24, penalty=l1;, score=nan total time=   0.0s\n",
      "[CV 5/5; 93/400] START C=24, penalty=l1.........................................\n",
      "[CV 5/5; 93/400] END ............C=24, penalty=l1;, score=nan total time=   0.0s\n",
      "[CV 1/5; 94/400] START C=24, penalty=l2.........................................\n",
      "[CV 1/5; 94/400] END ..........C=24, penalty=l2;, score=0.909 total time=   0.0s\n",
      "[CV 2/5; 94/400] START C=24, penalty=l2.........................................\n",
      "[CV 2/5; 94/400] END ..........C=24, penalty=l2;, score=0.824 total time=   0.0s\n",
      "[CV 3/5; 94/400] START C=24, penalty=l2.........................................\n",
      "[CV 3/5; 94/400] END ..........C=24, penalty=l2;, score=0.941 total time=   0.0s\n",
      "[CV 4/5; 94/400] START C=24, penalty=l2.........................................\n",
      "[CV 4/5; 94/400] END ..........C=24, penalty=l2;, score=0.765 total time=   0.0s\n",
      "[CV 5/5; 94/400] START C=24, penalty=l2.........................................\n",
      "[CV 5/5; 94/400] END ..........C=24, penalty=l2;, score=0.824 total time=   0.0s\n",
      "[CV 1/5; 95/400] START C=24, penalty=elasticnet.................................\n",
      "[CV 1/5; 95/400] END ....C=24, penalty=elasticnet;, score=nan total time=   0.0s\n",
      "[CV 2/5; 95/400] START C=24, penalty=elasticnet.................................\n"
     ]
    },
    {
     "name": "stderr",
     "output_type": "stream",
     "text": [
      "C:\\Users\\Usuario\\anaconda3\\lib\\site-packages\\sklearn\\linear_model\\_logistic.py:460: ConvergenceWarning:\n",
      "\n",
      "lbfgs failed to converge (status=1):\n",
      "STOP: TOTAL NO. of ITERATIONS REACHED LIMIT.\n",
      "\n",
      "Increase the number of iterations (max_iter) or scale the data as shown in:\n",
      "    https://scikit-learn.org/stable/modules/preprocessing.html\n",
      "Please also refer to the documentation for alternative solver options:\n",
      "    https://scikit-learn.org/stable/modules/linear_model.html#logistic-regression\n",
      "\n",
      "C:\\Users\\Usuario\\anaconda3\\lib\\site-packages\\sklearn\\linear_model\\_logistic.py:1193: UserWarning:\n",
      "\n",
      "Setting penalty=None will ignore the C and l1_ratio parameters\n",
      "\n",
      "C:\\Users\\Usuario\\anaconda3\\lib\\site-packages\\sklearn\\linear_model\\_logistic.py:1193: UserWarning:\n",
      "\n",
      "Setting penalty=None will ignore the C and l1_ratio parameters\n",
      "\n",
      "C:\\Users\\Usuario\\anaconda3\\lib\\site-packages\\sklearn\\linear_model\\_logistic.py:1193: UserWarning:\n",
      "\n",
      "Setting penalty=None will ignore the C and l1_ratio parameters\n",
      "\n",
      "C:\\Users\\Usuario\\anaconda3\\lib\\site-packages\\sklearn\\linear_model\\_logistic.py:460: ConvergenceWarning:\n",
      "\n",
      "lbfgs failed to converge (status=1):\n",
      "STOP: TOTAL NO. of ITERATIONS REACHED LIMIT.\n",
      "\n",
      "Increase the number of iterations (max_iter) or scale the data as shown in:\n",
      "    https://scikit-learn.org/stable/modules/preprocessing.html\n",
      "Please also refer to the documentation for alternative solver options:\n",
      "    https://scikit-learn.org/stable/modules/linear_model.html#logistic-regression\n",
      "\n",
      "C:\\Users\\Usuario\\anaconda3\\lib\\site-packages\\sklearn\\linear_model\\_logistic.py:1193: UserWarning:\n",
      "\n",
      "Setting penalty=None will ignore the C and l1_ratio parameters\n",
      "\n",
      "C:\\Users\\Usuario\\anaconda3\\lib\\site-packages\\sklearn\\linear_model\\_logistic.py:1193: UserWarning:\n",
      "\n",
      "Setting penalty=None will ignore the C and l1_ratio parameters\n",
      "\n"
     ]
    },
    {
     "name": "stdout",
     "output_type": "stream",
     "text": [
      "[CV 2/5; 95/400] END ....C=24, penalty=elasticnet;, score=nan total time=   0.0s\n",
      "[CV 3/5; 95/400] START C=24, penalty=elasticnet.................................\n",
      "[CV 3/5; 95/400] END ....C=24, penalty=elasticnet;, score=nan total time=   0.0s\n",
      "[CV 4/5; 95/400] START C=24, penalty=elasticnet.................................\n",
      "[CV 4/5; 95/400] END ....C=24, penalty=elasticnet;, score=nan total time=   0.0s\n",
      "[CV 5/5; 95/400] START C=24, penalty=elasticnet.................................\n",
      "[CV 5/5; 95/400] END ....C=24, penalty=elasticnet;, score=nan total time=   0.0s\n",
      "[CV 1/5; 96/400] START C=24, penalty=None.......................................\n",
      "[CV 1/5; 96/400] END ........C=24, penalty=None;, score=0.909 total time=   0.0s\n",
      "[CV 2/5; 96/400] START C=24, penalty=None.......................................\n",
      "[CV 2/5; 96/400] END ........C=24, penalty=None;, score=0.853 total time=   0.0s\n",
      "[CV 3/5; 96/400] START C=24, penalty=None.......................................\n",
      "[CV 3/5; 96/400] END ........C=24, penalty=None;, score=0.941 total time=   0.0s\n",
      "[CV 4/5; 96/400] START C=24, penalty=None.......................................\n",
      "[CV 4/5; 96/400] END ........C=24, penalty=None;, score=0.765 total time=   0.0s\n",
      "[CV 5/5; 96/400] START C=24, penalty=None.......................................\n",
      "[CV 5/5; 96/400] END ........C=24, penalty=None;, score=0.824 total time=   0.0s\n",
      "[CV 1/5; 97/400] START C=25, penalty=l1.........................................\n",
      "[CV 1/5; 97/400] END ............C=25, penalty=l1;, score=nan total time=   0.0s\n",
      "[CV 2/5; 97/400] START C=25, penalty=l1.........................................\n",
      "[CV 2/5; 97/400] END ............C=25, penalty=l1;, score=nan total time=   0.0s\n",
      "[CV 3/5; 97/400] START C=25, penalty=l1.........................................\n",
      "[CV 3/5; 97/400] END ............C=25, penalty=l1;, score=nan total time=   0.0s\n",
      "[CV 4/5; 97/400] START C=25, penalty=l1.........................................\n",
      "[CV 4/5; 97/400] END ............C=25, penalty=l1;, score=nan total time=   0.0s\n",
      "[CV 5/5; 97/400] START C=25, penalty=l1.........................................\n",
      "[CV 5/5; 97/400] END ............C=25, penalty=l1;, score=nan total time=   0.0s\n",
      "[CV 1/5; 98/400] START C=25, penalty=l2.........................................\n",
      "[CV 1/5; 98/400] END ..........C=25, penalty=l2;, score=0.909 total time=   0.0s\n",
      "[CV 2/5; 98/400] START C=25, penalty=l2.........................................\n",
      "[CV 2/5; 98/400] END ..........C=25, penalty=l2;, score=0.824 total time=   0.0s\n",
      "[CV 3/5; 98/400] START C=25, penalty=l2.........................................\n",
      "[CV 3/5; 98/400] END ..........C=25, penalty=l2;, score=0.912 total time=   0.0s\n",
      "[CV 4/5; 98/400] START C=25, penalty=l2.........................................\n",
      "[CV 4/5; 98/400] END ..........C=25, penalty=l2;, score=0.765 total time=   0.0s\n",
      "[CV 5/5; 98/400] START C=25, penalty=l2.........................................\n",
      "[CV 5/5; 98/400] END ..........C=25, penalty=l2;, score=0.824 total time=   0.0s\n",
      "[CV 1/5; 99/400] START C=25, penalty=elasticnet.................................\n",
      "[CV 1/5; 99/400] END ....C=25, penalty=elasticnet;, score=nan total time=   0.0s\n",
      "[CV 2/5; 99/400] START C=25, penalty=elasticnet.................................\n",
      "[CV 2/5; 99/400] END ....C=25, penalty=elasticnet;, score=nan total time=   0.0s\n",
      "[CV 3/5; 99/400] START C=25, penalty=elasticnet.................................\n",
      "[CV 3/5; 99/400] END ....C=25, penalty=elasticnet;, score=nan total time=   0.0s\n",
      "[CV 4/5; 99/400] START C=25, penalty=elasticnet.................................\n",
      "[CV 4/5; 99/400] END ....C=25, penalty=elasticnet;, score=nan total time=   0.0s\n",
      "[CV 5/5; 99/400] START C=25, penalty=elasticnet.................................\n",
      "[CV 5/5; 99/400] END ....C=25, penalty=elasticnet;, score=nan total time=   0.0s\n",
      "[CV 1/5; 100/400] START C=25, penalty=None......................................\n",
      "[CV 1/5; 100/400] END .......C=25, penalty=None;, score=0.909 total time=   0.0s\n",
      "[CV 2/5; 100/400] START C=25, penalty=None......................................\n",
      "[CV 2/5; 100/400] END .......C=25, penalty=None;, score=0.853 total time=   0.0s\n",
      "[CV 3/5; 100/400] START C=25, penalty=None......................................\n"
     ]
    },
    {
     "name": "stderr",
     "output_type": "stream",
     "text": [
      "C:\\Users\\Usuario\\anaconda3\\lib\\site-packages\\sklearn\\linear_model\\_logistic.py:460: ConvergenceWarning:\n",
      "\n",
      "lbfgs failed to converge (status=1):\n",
      "STOP: TOTAL NO. of ITERATIONS REACHED LIMIT.\n",
      "\n",
      "Increase the number of iterations (max_iter) or scale the data as shown in:\n",
      "    https://scikit-learn.org/stable/modules/preprocessing.html\n",
      "Please also refer to the documentation for alternative solver options:\n",
      "    https://scikit-learn.org/stable/modules/linear_model.html#logistic-regression\n",
      "\n",
      "C:\\Users\\Usuario\\anaconda3\\lib\\site-packages\\sklearn\\linear_model\\_logistic.py:1193: UserWarning:\n",
      "\n",
      "Setting penalty=None will ignore the C and l1_ratio parameters\n",
      "\n",
      "C:\\Users\\Usuario\\anaconda3\\lib\\site-packages\\sklearn\\linear_model\\_logistic.py:1193: UserWarning:\n",
      "\n",
      "Setting penalty=None will ignore the C and l1_ratio parameters\n",
      "\n",
      "C:\\Users\\Usuario\\anaconda3\\lib\\site-packages\\sklearn\\linear_model\\_logistic.py:1193: UserWarning:\n",
      "\n",
      "Setting penalty=None will ignore the C and l1_ratio parameters\n",
      "\n",
      "C:\\Users\\Usuario\\anaconda3\\lib\\site-packages\\sklearn\\linear_model\\_logistic.py:460: ConvergenceWarning:\n",
      "\n",
      "lbfgs failed to converge (status=1):\n",
      "STOP: TOTAL NO. of ITERATIONS REACHED LIMIT.\n",
      "\n",
      "Increase the number of iterations (max_iter) or scale the data as shown in:\n",
      "    https://scikit-learn.org/stable/modules/preprocessing.html\n",
      "Please also refer to the documentation for alternative solver options:\n",
      "    https://scikit-learn.org/stable/modules/linear_model.html#logistic-regression\n",
      "\n",
      "C:\\Users\\Usuario\\anaconda3\\lib\\site-packages\\sklearn\\linear_model\\_logistic.py:1193: UserWarning:\n",
      "\n",
      "Setting penalty=None will ignore the C and l1_ratio parameters\n",
      "\n",
      "C:\\Users\\Usuario\\anaconda3\\lib\\site-packages\\sklearn\\linear_model\\_logistic.py:1193: UserWarning:\n",
      "\n",
      "Setting penalty=None will ignore the C and l1_ratio parameters\n",
      "\n"
     ]
    },
    {
     "name": "stdout",
     "output_type": "stream",
     "text": [
      "[CV 3/5; 100/400] END .......C=25, penalty=None;, score=0.941 total time=   0.0s\n",
      "[CV 4/5; 100/400] START C=25, penalty=None......................................\n",
      "[CV 4/5; 100/400] END .......C=25, penalty=None;, score=0.765 total time=   0.0s\n",
      "[CV 5/5; 100/400] START C=25, penalty=None......................................\n",
      "[CV 5/5; 100/400] END .......C=25, penalty=None;, score=0.824 total time=   0.0s\n",
      "[CV 1/5; 101/400] START C=26, penalty=l1........................................\n",
      "[CV 1/5; 101/400] END ...........C=26, penalty=l1;, score=nan total time=   0.0s\n",
      "[CV 2/5; 101/400] START C=26, penalty=l1........................................\n",
      "[CV 2/5; 101/400] END ...........C=26, penalty=l1;, score=nan total time=   0.0s\n",
      "[CV 3/5; 101/400] START C=26, penalty=l1........................................\n",
      "[CV 3/5; 101/400] END ...........C=26, penalty=l1;, score=nan total time=   0.0s\n",
      "[CV 4/5; 101/400] START C=26, penalty=l1........................................\n",
      "[CV 4/5; 101/400] END ...........C=26, penalty=l1;, score=nan total time=   0.0s\n",
      "[CV 5/5; 101/400] START C=26, penalty=l1........................................\n",
      "[CV 5/5; 101/400] END ...........C=26, penalty=l1;, score=nan total time=   0.0s\n",
      "[CV 1/5; 102/400] START C=26, penalty=l2........................................\n",
      "[CV 1/5; 102/400] END .........C=26, penalty=l2;, score=0.909 total time=   0.0s\n",
      "[CV 2/5; 102/400] START C=26, penalty=l2........................................\n",
      "[CV 2/5; 102/400] END .........C=26, penalty=l2;, score=0.824 total time=   0.0s\n",
      "[CV 3/5; 102/400] START C=26, penalty=l2........................................\n",
      "[CV 3/5; 102/400] END .........C=26, penalty=l2;, score=0.912 total time=   0.0s\n",
      "[CV 4/5; 102/400] START C=26, penalty=l2........................................\n",
      "[CV 4/5; 102/400] END .........C=26, penalty=l2;, score=0.765 total time=   0.0s\n",
      "[CV 5/5; 102/400] START C=26, penalty=l2........................................\n",
      "[CV 5/5; 102/400] END .........C=26, penalty=l2;, score=0.794 total time=   0.0s\n",
      "[CV 1/5; 103/400] START C=26, penalty=elasticnet................................\n",
      "[CV 1/5; 103/400] END ...C=26, penalty=elasticnet;, score=nan total time=   0.0s\n",
      "[CV 2/5; 103/400] START C=26, penalty=elasticnet................................\n",
      "[CV 2/5; 103/400] END ...C=26, penalty=elasticnet;, score=nan total time=   0.0s\n",
      "[CV 3/5; 103/400] START C=26, penalty=elasticnet................................\n",
      "[CV 3/5; 103/400] END ...C=26, penalty=elasticnet;, score=nan total time=   0.0s\n",
      "[CV 4/5; 103/400] START C=26, penalty=elasticnet................................\n",
      "[CV 4/5; 103/400] END ...C=26, penalty=elasticnet;, score=nan total time=   0.0s\n",
      "[CV 5/5; 103/400] START C=26, penalty=elasticnet................................\n",
      "[CV 5/5; 103/400] END ...C=26, penalty=elasticnet;, score=nan total time=   0.0s\n",
      "[CV 1/5; 104/400] START C=26, penalty=None......................................\n",
      "[CV 1/5; 104/400] END .......C=26, penalty=None;, score=0.909 total time=   0.0s\n",
      "[CV 2/5; 104/400] START C=26, penalty=None......................................\n",
      "[CV 2/5; 104/400] END .......C=26, penalty=None;, score=0.853 total time=   0.0s\n",
      "[CV 3/5; 104/400] START C=26, penalty=None......................................\n",
      "[CV 3/5; 104/400] END .......C=26, penalty=None;, score=0.941 total time=   0.0s\n",
      "[CV 4/5; 104/400] START C=26, penalty=None......................................\n",
      "[CV 4/5; 104/400] END .......C=26, penalty=None;, score=0.765 total time=   0.0s\n",
      "[CV 5/5; 104/400] START C=26, penalty=None......................................\n",
      "[CV 5/5; 104/400] END .......C=26, penalty=None;, score=0.824 total time=   0.0s\n",
      "[CV 1/5; 105/400] START C=27, penalty=l1........................................\n",
      "[CV 1/5; 105/400] END ...........C=27, penalty=l1;, score=nan total time=   0.0s\n",
      "[CV 2/5; 105/400] START C=27, penalty=l1........................................\n",
      "[CV 2/5; 105/400] END ...........C=27, penalty=l1;, score=nan total time=   0.0s\n",
      "[CV 3/5; 105/400] START C=27, penalty=l1........................................\n",
      "[CV 3/5; 105/400] END ...........C=27, penalty=l1;, score=nan total time=   0.0s\n",
      "[CV 4/5; 105/400] START C=27, penalty=l1........................................\n",
      "[CV 4/5; 105/400] END ...........C=27, penalty=l1;, score=nan total time=   0.0s\n",
      "[CV 5/5; 105/400] START C=27, penalty=l1........................................\n",
      "[CV 5/5; 105/400] END ...........C=27, penalty=l1;, score=nan total time=   0.0s\n",
      "[CV 1/5; 106/400] START C=27, penalty=l2........................................\n"
     ]
    },
    {
     "name": "stderr",
     "output_type": "stream",
     "text": [
      "C:\\Users\\Usuario\\anaconda3\\lib\\site-packages\\sklearn\\linear_model\\_logistic.py:1193: UserWarning:\n",
      "\n",
      "Setting penalty=None will ignore the C and l1_ratio parameters\n",
      "\n",
      "C:\\Users\\Usuario\\anaconda3\\lib\\site-packages\\sklearn\\linear_model\\_logistic.py:1193: UserWarning:\n",
      "\n",
      "Setting penalty=None will ignore the C and l1_ratio parameters\n",
      "\n",
      "C:\\Users\\Usuario\\anaconda3\\lib\\site-packages\\sklearn\\linear_model\\_logistic.py:1193: UserWarning:\n",
      "\n",
      "Setting penalty=None will ignore the C and l1_ratio parameters\n",
      "\n",
      "C:\\Users\\Usuario\\anaconda3\\lib\\site-packages\\sklearn\\linear_model\\_logistic.py:460: ConvergenceWarning:\n",
      "\n",
      "lbfgs failed to converge (status=1):\n",
      "STOP: TOTAL NO. of ITERATIONS REACHED LIMIT.\n",
      "\n",
      "Increase the number of iterations (max_iter) or scale the data as shown in:\n",
      "    https://scikit-learn.org/stable/modules/preprocessing.html\n",
      "Please also refer to the documentation for alternative solver options:\n",
      "    https://scikit-learn.org/stable/modules/linear_model.html#logistic-regression\n",
      "\n",
      "C:\\Users\\Usuario\\anaconda3\\lib\\site-packages\\sklearn\\linear_model\\_logistic.py:1193: UserWarning:\n",
      "\n",
      "Setting penalty=None will ignore the C and l1_ratio parameters\n",
      "\n",
      "C:\\Users\\Usuario\\anaconda3\\lib\\site-packages\\sklearn\\linear_model\\_logistic.py:1193: UserWarning:\n",
      "\n",
      "Setting penalty=None will ignore the C and l1_ratio parameters\n",
      "\n"
     ]
    },
    {
     "name": "stdout",
     "output_type": "stream",
     "text": [
      "[CV 1/5; 106/400] END .........C=27, penalty=l2;, score=0.909 total time=   0.0s\n",
      "[CV 2/5; 106/400] START C=27, penalty=l2........................................\n",
      "[CV 2/5; 106/400] END .........C=27, penalty=l2;, score=0.824 total time=   0.0s\n",
      "[CV 3/5; 106/400] START C=27, penalty=l2........................................\n",
      "[CV 3/5; 106/400] END .........C=27, penalty=l2;, score=0.912 total time=   0.0s\n",
      "[CV 4/5; 106/400] START C=27, penalty=l2........................................\n",
      "[CV 4/5; 106/400] END .........C=27, penalty=l2;, score=0.765 total time=   0.0s\n",
      "[CV 5/5; 106/400] START C=27, penalty=l2........................................\n",
      "[CV 5/5; 106/400] END .........C=27, penalty=l2;, score=0.794 total time=   0.0s\n",
      "[CV 1/5; 107/400] START C=27, penalty=elasticnet................................\n",
      "[CV 1/5; 107/400] END ...C=27, penalty=elasticnet;, score=nan total time=   0.0s\n",
      "[CV 2/5; 107/400] START C=27, penalty=elasticnet................................\n",
      "[CV 2/5; 107/400] END ...C=27, penalty=elasticnet;, score=nan total time=   0.0s\n",
      "[CV 3/5; 107/400] START C=27, penalty=elasticnet................................\n",
      "[CV 3/5; 107/400] END ...C=27, penalty=elasticnet;, score=nan total time=   0.0s\n",
      "[CV 4/5; 107/400] START C=27, penalty=elasticnet................................\n",
      "[CV 4/5; 107/400] END ...C=27, penalty=elasticnet;, score=nan total time=   0.0s\n",
      "[CV 5/5; 107/400] START C=27, penalty=elasticnet................................\n",
      "[CV 5/5; 107/400] END ...C=27, penalty=elasticnet;, score=nan total time=   0.0s\n",
      "[CV 1/5; 108/400] START C=27, penalty=None......................................\n",
      "[CV 1/5; 108/400] END .......C=27, penalty=None;, score=0.909 total time=   0.0s\n",
      "[CV 2/5; 108/400] START C=27, penalty=None......................................\n"
     ]
    },
    {
     "name": "stderr",
     "output_type": "stream",
     "text": [
      "C:\\Users\\Usuario\\anaconda3\\lib\\site-packages\\sklearn\\linear_model\\_logistic.py:1193: UserWarning:\n",
      "\n",
      "Setting penalty=None will ignore the C and l1_ratio parameters\n",
      "\n",
      "C:\\Users\\Usuario\\anaconda3\\lib\\site-packages\\sklearn\\linear_model\\_logistic.py:1193: UserWarning:\n",
      "\n",
      "Setting penalty=None will ignore the C and l1_ratio parameters\n",
      "\n",
      "C:\\Users\\Usuario\\anaconda3\\lib\\site-packages\\sklearn\\linear_model\\_logistic.py:1193: UserWarning:\n",
      "\n",
      "Setting penalty=None will ignore the C and l1_ratio parameters\n",
      "\n",
      "C:\\Users\\Usuario\\anaconda3\\lib\\site-packages\\sklearn\\linear_model\\_logistic.py:460: ConvergenceWarning:\n",
      "\n",
      "lbfgs failed to converge (status=1):\n",
      "STOP: TOTAL NO. of ITERATIONS REACHED LIMIT.\n",
      "\n",
      "Increase the number of iterations (max_iter) or scale the data as shown in:\n",
      "    https://scikit-learn.org/stable/modules/preprocessing.html\n",
      "Please also refer to the documentation for alternative solver options:\n",
      "    https://scikit-learn.org/stable/modules/linear_model.html#logistic-regression\n",
      "\n",
      "C:\\Users\\Usuario\\anaconda3\\lib\\site-packages\\sklearn\\linear_model\\_logistic.py:1193: UserWarning:\n",
      "\n",
      "Setting penalty=None will ignore the C and l1_ratio parameters\n",
      "\n",
      "C:\\Users\\Usuario\\anaconda3\\lib\\site-packages\\sklearn\\linear_model\\_logistic.py:1193: UserWarning:\n",
      "\n",
      "Setting penalty=None will ignore the C and l1_ratio parameters\n",
      "\n"
     ]
    },
    {
     "name": "stdout",
     "output_type": "stream",
     "text": [
      "[CV 2/5; 108/400] END .......C=27, penalty=None;, score=0.853 total time=   0.0s\n",
      "[CV 3/5; 108/400] START C=27, penalty=None......................................\n",
      "[CV 3/5; 108/400] END .......C=27, penalty=None;, score=0.941 total time=   0.0s\n",
      "[CV 4/5; 108/400] START C=27, penalty=None......................................\n",
      "[CV 4/5; 108/400] END .......C=27, penalty=None;, score=0.765 total time=   0.0s\n",
      "[CV 5/5; 108/400] START C=27, penalty=None......................................\n",
      "[CV 5/5; 108/400] END .......C=27, penalty=None;, score=0.824 total time=   0.0s\n",
      "[CV 1/5; 109/400] START C=28, penalty=l1........................................\n",
      "[CV 1/5; 109/400] END ...........C=28, penalty=l1;, score=nan total time=   0.0s\n",
      "[CV 2/5; 109/400] START C=28, penalty=l1........................................\n",
      "[CV 2/5; 109/400] END ...........C=28, penalty=l1;, score=nan total time=   0.0s\n",
      "[CV 3/5; 109/400] START C=28, penalty=l1........................................\n",
      "[CV 3/5; 109/400] END ...........C=28, penalty=l1;, score=nan total time=   0.0s\n",
      "[CV 4/5; 109/400] START C=28, penalty=l1........................................\n",
      "[CV 4/5; 109/400] END ...........C=28, penalty=l1;, score=nan total time=   0.0s\n",
      "[CV 5/5; 109/400] START C=28, penalty=l1........................................\n",
      "[CV 5/5; 109/400] END ...........C=28, penalty=l1;, score=nan total time=   0.0s\n",
      "[CV 1/5; 110/400] START C=28, penalty=l2........................................\n",
      "[CV 1/5; 110/400] END .........C=28, penalty=l2;, score=0.909 total time=   0.0s\n",
      "[CV 2/5; 110/400] START C=28, penalty=l2........................................\n",
      "[CV 2/5; 110/400] END .........C=28, penalty=l2;, score=0.824 total time=   0.0s\n",
      "[CV 3/5; 110/400] START C=28, penalty=l2........................................\n",
      "[CV 3/5; 110/400] END .........C=28, penalty=l2;, score=0.912 total time=   0.0s"
     ]
    },
    {
     "name": "stderr",
     "output_type": "stream",
     "text": [
      "C:\\Users\\Usuario\\anaconda3\\lib\\site-packages\\sklearn\\linear_model\\_logistic.py:460: ConvergenceWarning:\n",
      "\n",
      "lbfgs failed to converge (status=1):\n",
      "STOP: TOTAL NO. of ITERATIONS REACHED LIMIT.\n",
      "\n",
      "Increase the number of iterations (max_iter) or scale the data as shown in:\n",
      "    https://scikit-learn.org/stable/modules/preprocessing.html\n",
      "Please also refer to the documentation for alternative solver options:\n",
      "    https://scikit-learn.org/stable/modules/linear_model.html#logistic-regression\n",
      "\n",
      "C:\\Users\\Usuario\\anaconda3\\lib\\site-packages\\sklearn\\linear_model\\_logistic.py:1193: UserWarning:\n",
      "\n",
      "Setting penalty=None will ignore the C and l1_ratio parameters\n",
      "\n",
      "C:\\Users\\Usuario\\anaconda3\\lib\\site-packages\\sklearn\\linear_model\\_logistic.py:1193: UserWarning:\n",
      "\n",
      "Setting penalty=None will ignore the C and l1_ratio parameters\n",
      "\n",
      "C:\\Users\\Usuario\\anaconda3\\lib\\site-packages\\sklearn\\linear_model\\_logistic.py:1193: UserWarning:\n",
      "\n",
      "Setting penalty=None will ignore the C and l1_ratio parameters\n",
      "\n",
      "C:\\Users\\Usuario\\anaconda3\\lib\\site-packages\\sklearn\\linear_model\\_logistic.py:460: ConvergenceWarning:\n",
      "\n",
      "lbfgs failed to converge (status=1):\n",
      "STOP: TOTAL NO. of ITERATIONS REACHED LIMIT.\n",
      "\n",
      "Increase the number of iterations (max_iter) or scale the data as shown in:\n",
      "    https://scikit-learn.org/stable/modules/preprocessing.html\n",
      "Please also refer to the documentation for alternative solver options:\n",
      "    https://scikit-learn.org/stable/modules/linear_model.html#logistic-regression\n",
      "\n"
     ]
    },
    {
     "name": "stdout",
     "output_type": "stream",
     "text": [
      "\n",
      "[CV 4/5; 110/400] START C=28, penalty=l2........................................\n",
      "[CV 4/5; 110/400] END .........C=28, penalty=l2;, score=0.765 total time=   0.0s\n",
      "[CV 5/5; 110/400] START C=28, penalty=l2........................................\n",
      "[CV 5/5; 110/400] END .........C=28, penalty=l2;, score=0.794 total time=   0.0s\n",
      "[CV 1/5; 111/400] START C=28, penalty=elasticnet................................\n",
      "[CV 1/5; 111/400] END ...C=28, penalty=elasticnet;, score=nan total time=   0.0s\n",
      "[CV 2/5; 111/400] START C=28, penalty=elasticnet................................\n",
      "[CV 2/5; 111/400] END ...C=28, penalty=elasticnet;, score=nan total time=   0.0s\n",
      "[CV 3/5; 111/400] START C=28, penalty=elasticnet................................\n",
      "[CV 3/5; 111/400] END ...C=28, penalty=elasticnet;, score=nan total time=   0.0s\n",
      "[CV 4/5; 111/400] START C=28, penalty=elasticnet................................\n",
      "[CV 4/5; 111/400] END ...C=28, penalty=elasticnet;, score=nan total time=   0.0s\n",
      "[CV 5/5; 111/400] START C=28, penalty=elasticnet................................\n",
      "[CV 5/5; 111/400] END ...C=28, penalty=elasticnet;, score=nan total time=   0.0s\n",
      "[CV 1/5; 112/400] START C=28, penalty=None......................................\n",
      "[CV 1/5; 112/400] END .......C=28, penalty=None;, score=0.909 total time=   0.0s\n",
      "[CV 2/5; 112/400] START C=28, penalty=None......................................\n",
      "[CV 2/5; 112/400] END .......C=28, penalty=None;, score=0.853 total time=   0.0s\n",
      "[CV 3/5; 112/400] START C=28, penalty=None......................................\n",
      "[CV 3/5; 112/400] END .......C=28, penalty=None;, score=0.941 total time=   0.0s\n",
      "[CV 4/5; 112/400] START C=28, penalty=None......................................\n",
      "[CV 4/5; 112/400] END .......C=28, penalty=None;, score=0.765 total time=   0.0s\n",
      "[CV 5/5; 112/400] START C=28, penalty=None......................................\n"
     ]
    },
    {
     "name": "stderr",
     "output_type": "stream",
     "text": [
      "C:\\Users\\Usuario\\anaconda3\\lib\\site-packages\\sklearn\\linear_model\\_logistic.py:1193: UserWarning:\n",
      "\n",
      "Setting penalty=None will ignore the C and l1_ratio parameters\n",
      "\n",
      "C:\\Users\\Usuario\\anaconda3\\lib\\site-packages\\sklearn\\linear_model\\_logistic.py:1193: UserWarning:\n",
      "\n",
      "Setting penalty=None will ignore the C and l1_ratio parameters\n",
      "\n"
     ]
    },
    {
     "name": "stdout",
     "output_type": "stream",
     "text": [
      "[CV 5/5; 112/400] END .......C=28, penalty=None;, score=0.824 total time=   0.0s\n",
      "[CV 1/5; 113/400] START C=29, penalty=l1........................................\n",
      "[CV 1/5; 113/400] END ...........C=29, penalty=l1;, score=nan total time=   0.0s\n",
      "[CV 2/5; 113/400] START C=29, penalty=l1........................................\n",
      "[CV 2/5; 113/400] END ...........C=29, penalty=l1;, score=nan total time=   0.0s\n",
      "[CV 3/5; 113/400] START C=29, penalty=l1........................................\n",
      "[CV 3/5; 113/400] END ...........C=29, penalty=l1;, score=nan total time=   0.0s\n",
      "[CV 4/5; 113/400] START C=29, penalty=l1........................................\n",
      "[CV 4/5; 113/400] END ...........C=29, penalty=l1;, score=nan total time=   0.0s\n",
      "[CV 5/5; 113/400] START C=29, penalty=l1........................................\n",
      "[CV 5/5; 113/400] END ...........C=29, penalty=l1;, score=nan total time=   0.0s\n",
      "[CV 1/5; 114/400] START C=29, penalty=l2........................................\n",
      "[CV 1/5; 114/400] END .........C=29, penalty=l2;, score=0.909 total time=   0.0s\n",
      "[CV 2/5; 114/400] START C=29, penalty=l2........................................\n",
      "[CV 2/5; 114/400] END .........C=29, penalty=l2;, score=0.824 total time=   0.0s\n",
      "[CV 3/5; 114/400] START C=29, penalty=l2........................................\n",
      "[CV 3/5; 114/400] END .........C=29, penalty=l2;, score=0.912 total time=   0.0s\n",
      "[CV 4/5; 114/400] START C=29, penalty=l2........................................\n",
      "[CV 4/5; 114/400] END .........C=29, penalty=l2;, score=0.765 total time=   0.0s\n",
      "[CV 5/5; 114/400] START C=29, penalty=l2........................................\n",
      "[CV 5/5; 114/400] END .........C=29, penalty=l2;, score=0.794 total time=   0.0s\n",
      "[CV 1/5; 115/400] START C=29, penalty=elasticnet................................\n",
      "[CV 1/5; 115/400] END ...C=29, penalty=elasticnet;, score=nan total time=   0.0s\n",
      "[CV 2/5; 115/400] START C=29, penalty=elasticnet................................\n",
      "[CV 2/5; 115/400] END ...C=29, penalty=elasticnet;, score=nan total time=   0.0s\n",
      "[CV 3/5; 115/400] START C=29, penalty=elasticnet................................\n",
      "[CV 3/5; 115/400] END ...C=29, penalty=elasticnet;, score=nan total time=   0.0s\n",
      "[CV 4/5; 115/400] START C=29, penalty=elasticnet................................\n",
      "[CV 4/5; 115/400] END ...C=29, penalty=elasticnet;, score=nan total time=   0.0s\n",
      "[CV 5/5; 115/400] START C=29, penalty=elasticnet................................\n",
      "[CV 5/5; 115/400] END ...C=29, penalty=elasticnet;, score=nan total time=   0.0s\n",
      "[CV 1/5; 116/400] START C=29, penalty=None......................................\n",
      "[CV 1/5; 116/400] END .......C=29, penalty=None;, score=0.909 total time=   0.0s\n",
      "[CV 2/5; 116/400] START C=29, penalty=None......................................\n"
     ]
    },
    {
     "name": "stderr",
     "output_type": "stream",
     "text": [
      "C:\\Users\\Usuario\\anaconda3\\lib\\site-packages\\sklearn\\linear_model\\_logistic.py:1193: UserWarning:\n",
      "\n",
      "Setting penalty=None will ignore the C and l1_ratio parameters\n",
      "\n",
      "C:\\Users\\Usuario\\anaconda3\\lib\\site-packages\\sklearn\\linear_model\\_logistic.py:1193: UserWarning:\n",
      "\n",
      "Setting penalty=None will ignore the C and l1_ratio parameters\n",
      "\n",
      "C:\\Users\\Usuario\\anaconda3\\lib\\site-packages\\sklearn\\linear_model\\_logistic.py:1193: UserWarning:\n",
      "\n",
      "Setting penalty=None will ignore the C and l1_ratio parameters\n",
      "\n",
      "C:\\Users\\Usuario\\anaconda3\\lib\\site-packages\\sklearn\\linear_model\\_logistic.py:460: ConvergenceWarning:\n",
      "\n",
      "lbfgs failed to converge (status=1):\n",
      "STOP: TOTAL NO. of ITERATIONS REACHED LIMIT.\n",
      "\n",
      "Increase the number of iterations (max_iter) or scale the data as shown in:\n",
      "    https://scikit-learn.org/stable/modules/preprocessing.html\n",
      "Please also refer to the documentation for alternative solver options:\n",
      "    https://scikit-learn.org/stable/modules/linear_model.html#logistic-regression\n",
      "\n",
      "C:\\Users\\Usuario\\anaconda3\\lib\\site-packages\\sklearn\\linear_model\\_logistic.py:1193: UserWarning:\n",
      "\n",
      "Setting penalty=None will ignore the C and l1_ratio parameters\n",
      "\n",
      "C:\\Users\\Usuario\\anaconda3\\lib\\site-packages\\sklearn\\linear_model\\_logistic.py:1193: UserWarning:\n",
      "\n",
      "Setting penalty=None will ignore the C and l1_ratio parameters\n",
      "\n"
     ]
    },
    {
     "name": "stdout",
     "output_type": "stream",
     "text": [
      "[CV 2/5; 116/400] END .......C=29, penalty=None;, score=0.853 total time=   0.0s\n",
      "[CV 3/5; 116/400] START C=29, penalty=None......................................\n",
      "[CV 3/5; 116/400] END .......C=29, penalty=None;, score=0.941 total time=   0.0s\n",
      "[CV 4/5; 116/400] START C=29, penalty=None......................................\n",
      "[CV 4/5; 116/400] END .......C=29, penalty=None;, score=0.765 total time=   0.0s\n",
      "[CV 5/5; 116/400] START C=29, penalty=None......................................\n",
      "[CV 5/5; 116/400] END .......C=29, penalty=None;, score=0.824 total time=   0.0s\n",
      "[CV 1/5; 117/400] START C=30, penalty=l1........................................\n",
      "[CV 1/5; 117/400] END ...........C=30, penalty=l1;, score=nan total time=   0.0s\n",
      "[CV 2/5; 117/400] START C=30, penalty=l1........................................\n",
      "[CV 2/5; 117/400] END ...........C=30, penalty=l1;, score=nan total time=   0.0s\n",
      "[CV 3/5; 117/400] START C=30, penalty=l1........................................\n",
      "[CV 3/5; 117/400] END ...........C=30, penalty=l1;, score=nan total time=   0.0s\n",
      "[CV 4/5; 117/400] START C=30, penalty=l1........................................\n",
      "[CV 4/5; 117/400] END ...........C=30, penalty=l1;, score=nan total time=   0.0s\n",
      "[CV 5/5; 117/400] START C=30, penalty=l1........................................\n",
      "[CV 5/5; 117/400] END ...........C=30, penalty=l1;, score=nan total time=   0.0s\n",
      "[CV 1/5; 118/400] START C=30, penalty=l2........................................\n",
      "[CV 1/5; 118/400] END .........C=30, penalty=l2;, score=0.909 total time=   0.0s\n",
      "[CV 2/5; 118/400] START C=30, penalty=l2........................................\n",
      "[CV 2/5; 118/400] END .........C=30, penalty=l2;, score=0.824 total time=   0.0s\n",
      "[CV 3/5; 118/400] START C=30, penalty=l2........................................\n",
      "[CV 3/5; 118/400] END .........C=30, penalty=l2;, score=0.912 total time=   0.0s\n",
      "[CV 4/5; 118/400] START C=30, penalty=l2........................................\n",
      "[CV 4/5; 118/400] END .........C=30, penalty=l2;, score=0.765 total time=   0.0s\n",
      "[CV 5/5; 118/400] START C=30, penalty=l2........................................\n",
      "[CV 5/5; 118/400] END .........C=30, penalty=l2;, score=0.794 total time=   0.0s\n",
      "[CV 1/5; 119/400] START C=30, penalty=elasticnet................................\n",
      "[CV 1/5; 119/400] END ...C=30, penalty=elasticnet;, score=nan total time=   0.0s\n",
      "[CV 2/5; 119/400] START C=30, penalty=elasticnet................................\n",
      "[CV 2/5; 119/400] END ...C=30, penalty=elasticnet;, score=nan total time=   0.0s\n",
      "[CV 3/5; 119/400] START C=30, penalty=elasticnet................................\n",
      "[CV 3/5; 119/400] END ...C=30, penalty=elasticnet;, score=nan total time=   0.0s\n",
      "[CV 4/5; 119/400] START C=30, penalty=elasticnet................................\n",
      "[CV 4/5; 119/400] END ...C=30, penalty=elasticnet;, score=nan total time=   0.0s\n",
      "[CV 5/5; 119/400] START C=30, penalty=elasticnet................................\n",
      "[CV 5/5; 119/400] END ...C=30, penalty=elasticnet;, score=nan total time=   0.0s\n",
      "[CV 1/5; 120/400] START C=30, penalty=None......................................\n",
      "[CV 1/5; 120/400] END .......C=30, penalty=None;, score=0.909 total time=   0.0s\n",
      "[CV 2/5; 120/400] START C=30, penalty=None......................................\n",
      "[CV 2/5; 120/400] END .......C=30, penalty=None;, score=0.853 total time=   0.0s\n",
      "[CV 3/5; 120/400] START C=30, penalty=None......................................\n",
      "[CV 3/5; 120/400] END .......C=30, penalty=None;, score=0.941 total time=   0.0s\n",
      "[CV 4/5; 120/400] START C=30, penalty=None......................................\n",
      "[CV 4/5; 120/400] END .......C=30, penalty=None;, score=0.765 total time=   0.0s\n",
      "[CV 5/5; 120/400] START C=30, penalty=None......................................\n",
      "[CV 5/5; 120/400] END .......C=30, penalty=None;, score=0.824 total time=   0.0s\n",
      "[CV 1/5; 121/400] START C=31, penalty=l1........................................\n"
     ]
    },
    {
     "name": "stderr",
     "output_type": "stream",
     "text": [
      "C:\\Users\\Usuario\\anaconda3\\lib\\site-packages\\sklearn\\linear_model\\_logistic.py:460: ConvergenceWarning:\n",
      "\n",
      "lbfgs failed to converge (status=1):\n",
      "STOP: TOTAL NO. of ITERATIONS REACHED LIMIT.\n",
      "\n",
      "Increase the number of iterations (max_iter) or scale the data as shown in:\n",
      "    https://scikit-learn.org/stable/modules/preprocessing.html\n",
      "Please also refer to the documentation for alternative solver options:\n",
      "    https://scikit-learn.org/stable/modules/linear_model.html#logistic-regression\n",
      "\n",
      "C:\\Users\\Usuario\\anaconda3\\lib\\site-packages\\sklearn\\linear_model\\_logistic.py:1193: UserWarning:\n",
      "\n",
      "Setting penalty=None will ignore the C and l1_ratio parameters\n",
      "\n",
      "C:\\Users\\Usuario\\anaconda3\\lib\\site-packages\\sklearn\\linear_model\\_logistic.py:1193: UserWarning:\n",
      "\n",
      "Setting penalty=None will ignore the C and l1_ratio parameters\n",
      "\n",
      "C:\\Users\\Usuario\\anaconda3\\lib\\site-packages\\sklearn\\linear_model\\_logistic.py:1193: UserWarning:\n",
      "\n",
      "Setting penalty=None will ignore the C and l1_ratio parameters\n",
      "\n",
      "C:\\Users\\Usuario\\anaconda3\\lib\\site-packages\\sklearn\\linear_model\\_logistic.py:460: ConvergenceWarning:\n",
      "\n",
      "lbfgs failed to converge (status=1):\n",
      "STOP: TOTAL NO. of ITERATIONS REACHED LIMIT.\n",
      "\n",
      "Increase the number of iterations (max_iter) or scale the data as shown in:\n",
      "    https://scikit-learn.org/stable/modules/preprocessing.html\n",
      "Please also refer to the documentation for alternative solver options:\n",
      "    https://scikit-learn.org/stable/modules/linear_model.html#logistic-regression\n",
      "\n",
      "C:\\Users\\Usuario\\anaconda3\\lib\\site-packages\\sklearn\\linear_model\\_logistic.py:1193: UserWarning:\n",
      "\n",
      "Setting penalty=None will ignore the C and l1_ratio parameters\n",
      "\n",
      "C:\\Users\\Usuario\\anaconda3\\lib\\site-packages\\sklearn\\linear_model\\_logistic.py:1193: UserWarning:\n",
      "\n",
      "Setting penalty=None will ignore the C and l1_ratio parameters\n",
      "\n"
     ]
    },
    {
     "name": "stdout",
     "output_type": "stream",
     "text": [
      "[CV 1/5; 121/400] END ...........C=31, penalty=l1;, score=nan total time=   0.0s\n",
      "[CV 2/5; 121/400] START C=31, penalty=l1........................................\n",
      "[CV 2/5; 121/400] END ...........C=31, penalty=l1;, score=nan total time=   0.0s\n",
      "[CV 3/5; 121/400] START C=31, penalty=l1........................................\n",
      "[CV 3/5; 121/400] END ...........C=31, penalty=l1;, score=nan total time=   0.0s\n",
      "[CV 4/5; 121/400] START C=31, penalty=l1........................................\n",
      "[CV 4/5; 121/400] END ...........C=31, penalty=l1;, score=nan total time=   0.0s\n",
      "[CV 5/5; 121/400] START C=31, penalty=l1........................................\n",
      "[CV 5/5; 121/400] END ...........C=31, penalty=l1;, score=nan total time=   0.0s\n",
      "[CV 1/5; 122/400] START C=31, penalty=l2........................................\n",
      "[CV 1/5; 122/400] END .........C=31, penalty=l2;, score=0.909 total time=   0.0s\n",
      "[CV 2/5; 122/400] START C=31, penalty=l2........................................\n",
      "[CV 2/5; 122/400] END .........C=31, penalty=l2;, score=0.824 total time=   0.0s\n",
      "[CV 3/5; 122/400] START C=31, penalty=l2........................................\n",
      "[CV 3/5; 122/400] END .........C=31, penalty=l2;, score=0.912 total time=   0.0s\n",
      "[CV 4/5; 122/400] START C=31, penalty=l2........................................\n",
      "[CV 4/5; 122/400] END .........C=31, penalty=l2;, score=0.765 total time=   0.0s\n",
      "[CV 5/5; 122/400] START C=31, penalty=l2........................................\n",
      "[CV 5/5; 122/400] END .........C=31, penalty=l2;, score=0.794 total time=   0.0s\n",
      "[CV 1/5; 123/400] START C=31, penalty=elasticnet................................\n",
      "[CV 1/5; 123/400] END ...C=31, penalty=elasticnet;, score=nan total time=   0.0s\n",
      "[CV 2/5; 123/400] START C=31, penalty=elasticnet................................\n",
      "[CV 2/5; 123/400] END ...C=31, penalty=elasticnet;, score=nan total time=   0.0s\n",
      "[CV 3/5; 123/400] START C=31, penalty=elasticnet................................\n",
      "[CV 3/5; 123/400] END ...C=31, penalty=elasticnet;, score=nan total time=   0.0s\n",
      "[CV 4/5; 123/400] START C=31, penalty=elasticnet................................\n",
      "[CV 4/5; 123/400] END ...C=31, penalty=elasticnet;, score=nan total time=   0.0s\n",
      "[CV 5/5; 123/400] START C=31, penalty=elasticnet................................\n",
      "[CV 5/5; 123/400] END ...C=31, penalty=elasticnet;, score=nan total time=   0.0s\n",
      "[CV 1/5; 124/400] START C=31, penalty=None......................................\n",
      "[CV 1/5; 124/400] END .......C=31, penalty=None;, score=0.909 total time=   0.0s\n",
      "[CV 2/5; 124/400] START C=31, penalty=None......................................\n"
     ]
    },
    {
     "name": "stderr",
     "output_type": "stream",
     "text": [
      "C:\\Users\\Usuario\\anaconda3\\lib\\site-packages\\sklearn\\linear_model\\_logistic.py:1193: UserWarning:\n",
      "\n",
      "Setting penalty=None will ignore the C and l1_ratio parameters\n",
      "\n",
      "C:\\Users\\Usuario\\anaconda3\\lib\\site-packages\\sklearn\\linear_model\\_logistic.py:1193: UserWarning:\n",
      "\n",
      "Setting penalty=None will ignore the C and l1_ratio parameters\n",
      "\n",
      "C:\\Users\\Usuario\\anaconda3\\lib\\site-packages\\sklearn\\linear_model\\_logistic.py:1193: UserWarning:\n",
      "\n",
      "Setting penalty=None will ignore the C and l1_ratio parameters\n",
      "\n",
      "C:\\Users\\Usuario\\anaconda3\\lib\\site-packages\\sklearn\\linear_model\\_logistic.py:460: ConvergenceWarning:\n",
      "\n",
      "lbfgs failed to converge (status=1):\n",
      "STOP: TOTAL NO. of ITERATIONS REACHED LIMIT.\n",
      "\n",
      "Increase the number of iterations (max_iter) or scale the data as shown in:\n",
      "    https://scikit-learn.org/stable/modules/preprocessing.html\n",
      "Please also refer to the documentation for alternative solver options:\n",
      "    https://scikit-learn.org/stable/modules/linear_model.html#logistic-regression\n",
      "\n",
      "C:\\Users\\Usuario\\anaconda3\\lib\\site-packages\\sklearn\\linear_model\\_logistic.py:1193: UserWarning:\n",
      "\n",
      "Setting penalty=None will ignore the C and l1_ratio parameters\n",
      "\n",
      "C:\\Users\\Usuario\\anaconda3\\lib\\site-packages\\sklearn\\linear_model\\_logistic.py:1193: UserWarning:\n",
      "\n",
      "Setting penalty=None will ignore the C and l1_ratio parameters\n",
      "\n"
     ]
    },
    {
     "name": "stdout",
     "output_type": "stream",
     "text": [
      "[CV 2/5; 124/400] END .......C=31, penalty=None;, score=0.853 total time=   0.0s\n",
      "[CV 3/5; 124/400] START C=31, penalty=None......................................\n",
      "[CV 3/5; 124/400] END .......C=31, penalty=None;, score=0.941 total time=   0.0s\n",
      "[CV 4/5; 124/400] START C=31, penalty=None......................................\n",
      "[CV 4/5; 124/400] END .......C=31, penalty=None;, score=0.765 total time=   0.0s\n",
      "[CV 5/5; 124/400] START C=31, penalty=None......................................\n",
      "[CV 5/5; 124/400] END .......C=31, penalty=None;, score=0.824 total time=   0.0s\n",
      "[CV 1/5; 125/400] START C=32, penalty=l1........................................\n",
      "[CV 1/5; 125/400] END ...........C=32, penalty=l1;, score=nan total time=   0.0s\n",
      "[CV 2/5; 125/400] START C=32, penalty=l1........................................\n",
      "[CV 2/5; 125/400] END ...........C=32, penalty=l1;, score=nan total time=   0.0s\n",
      "[CV 3/5; 125/400] START C=32, penalty=l1........................................\n",
      "[CV 3/5; 125/400] END ...........C=32, penalty=l1;, score=nan total time=   0.0s\n",
      "[CV 4/5; 125/400] START C=32, penalty=l1........................................\n",
      "[CV 4/5; 125/400] END ...........C=32, penalty=l1;, score=nan total time=   0.0s\n",
      "[CV 5/5; 125/400] START C=32, penalty=l1........................................\n",
      "[CV 5/5; 125/400] END ...........C=32, penalty=l1;, score=nan total time=   0.0s\n",
      "[CV 1/5; 126/400] START C=32, penalty=l2........................................\n",
      "[CV 1/5; 126/400] END .........C=32, penalty=l2;, score=0.909 total time=   0.0s\n",
      "[CV 2/5; 126/400] START C=32, penalty=l2........................................\n",
      "[CV 2/5; 126/400] END .........C=32, penalty=l2;, score=0.824 total time=   0.0s\n",
      "[CV 3/5; 126/400] START C=32, penalty=l2........................................\n"
     ]
    },
    {
     "name": "stderr",
     "output_type": "stream",
     "text": [
      "C:\\Users\\Usuario\\anaconda3\\lib\\site-packages\\sklearn\\linear_model\\_logistic.py:460: ConvergenceWarning:\n",
      "\n",
      "lbfgs failed to converge (status=1):\n",
      "STOP: TOTAL NO. of ITERATIONS REACHED LIMIT.\n",
      "\n",
      "Increase the number of iterations (max_iter) or scale the data as shown in:\n",
      "    https://scikit-learn.org/stable/modules/preprocessing.html\n",
      "Please also refer to the documentation for alternative solver options:\n",
      "    https://scikit-learn.org/stable/modules/linear_model.html#logistic-regression\n",
      "\n",
      "C:\\Users\\Usuario\\anaconda3\\lib\\site-packages\\sklearn\\linear_model\\_logistic.py:1193: UserWarning:\n",
      "\n",
      "Setting penalty=None will ignore the C and l1_ratio parameters\n",
      "\n",
      "C:\\Users\\Usuario\\anaconda3\\lib\\site-packages\\sklearn\\linear_model\\_logistic.py:1193: UserWarning:\n",
      "\n",
      "Setting penalty=None will ignore the C and l1_ratio parameters\n",
      "\n",
      "C:\\Users\\Usuario\\anaconda3\\lib\\site-packages\\sklearn\\linear_model\\_logistic.py:1193: UserWarning:\n",
      "\n",
      "Setting penalty=None will ignore the C and l1_ratio parameters\n",
      "\n",
      "C:\\Users\\Usuario\\anaconda3\\lib\\site-packages\\sklearn\\linear_model\\_logistic.py:460: ConvergenceWarning:\n",
      "\n",
      "lbfgs failed to converge (status=1):\n",
      "STOP: TOTAL NO. of ITERATIONS REACHED LIMIT.\n",
      "\n",
      "Increase the number of iterations (max_iter) or scale the data as shown in:\n",
      "    https://scikit-learn.org/stable/modules/preprocessing.html\n",
      "Please also refer to the documentation for alternative solver options:\n",
      "    https://scikit-learn.org/stable/modules/linear_model.html#logistic-regression\n",
      "\n",
      "C:\\Users\\Usuario\\anaconda3\\lib\\site-packages\\sklearn\\linear_model\\_logistic.py:1193: UserWarning:\n",
      "\n",
      "Setting penalty=None will ignore the C and l1_ratio parameters\n",
      "\n"
     ]
    },
    {
     "name": "stdout",
     "output_type": "stream",
     "text": [
      "[CV 3/5; 126/400] END .........C=32, penalty=l2;, score=0.941 total time=   0.0s\n",
      "[CV 4/5; 126/400] START C=32, penalty=l2........................................\n",
      "[CV 4/5; 126/400] END .........C=32, penalty=l2;, score=0.765 total time=   0.0s\n",
      "[CV 5/5; 126/400] START C=32, penalty=l2........................................\n",
      "[CV 5/5; 126/400] END .........C=32, penalty=l2;, score=0.824 total time=   0.0s\n",
      "[CV 1/5; 127/400] START C=32, penalty=elasticnet................................\n",
      "[CV 1/5; 127/400] END ...C=32, penalty=elasticnet;, score=nan total time=   0.0s\n",
      "[CV 2/5; 127/400] START C=32, penalty=elasticnet................................\n",
      "[CV 2/5; 127/400] END ...C=32, penalty=elasticnet;, score=nan total time=   0.0s\n",
      "[CV 3/5; 127/400] START C=32, penalty=elasticnet................................\n",
      "[CV 3/5; 127/400] END ...C=32, penalty=elasticnet;, score=nan total time=   0.0s\n",
      "[CV 4/5; 127/400] START C=32, penalty=elasticnet................................\n",
      "[CV 4/5; 127/400] END ...C=32, penalty=elasticnet;, score=nan total time=   0.0s\n",
      "[CV 5/5; 127/400] START C=32, penalty=elasticnet................................\n",
      "[CV 5/5; 127/400] END ...C=32, penalty=elasticnet;, score=nan total time=   0.0s\n",
      "[CV 1/5; 128/400] START C=32, penalty=None......................................\n",
      "[CV 1/5; 128/400] END .......C=32, penalty=None;, score=0.909 total time=   0.0s\n",
      "[CV 2/5; 128/400] START C=32, penalty=None......................................\n",
      "[CV 2/5; 128/400] END .......C=32, penalty=None;, score=0.853 total time=   0.0s\n",
      "[CV 3/5; 128/400] START C=32, penalty=None......................................\n",
      "[CV 3/5; 128/400] END .......C=32, penalty=None;, score=0.941 total time=   0.0s\n",
      "[CV 4/5; 128/400] START C=32, penalty=None......................................\n",
      "[CV 4/5; 128/400] END .......C=32, penalty=None;, score=0.765 total time=   0.0s\n",
      "[CV 5/5; 128/400] START C=32, penalty=None......................................\n"
     ]
    },
    {
     "name": "stderr",
     "output_type": "stream",
     "text": [
      "C:\\Users\\Usuario\\anaconda3\\lib\\site-packages\\sklearn\\linear_model\\_logistic.py:1193: UserWarning:\n",
      "\n",
      "Setting penalty=None will ignore the C and l1_ratio parameters\n",
      "\n"
     ]
    },
    {
     "name": "stdout",
     "output_type": "stream",
     "text": [
      "[CV 5/5; 128/400] END .......C=32, penalty=None;, score=0.824 total time=   0.0s\n",
      "[CV 1/5; 129/400] START C=33, penalty=l1........................................\n",
      "[CV 1/5; 129/400] END ...........C=33, penalty=l1;, score=nan total time=   0.0s\n",
      "[CV 2/5; 129/400] START C=33, penalty=l1........................................\n",
      "[CV 2/5; 129/400] END ...........C=33, penalty=l1;, score=nan total time=   0.0s\n",
      "[CV 3/5; 129/400] START C=33, penalty=l1........................................\n",
      "[CV 3/5; 129/400] END ...........C=33, penalty=l1;, score=nan total time=   0.0s\n",
      "[CV 4/5; 129/400] START C=33, penalty=l1........................................\n",
      "[CV 4/5; 129/400] END ...........C=33, penalty=l1;, score=nan total time=   0.0s\n",
      "[CV 5/5; 129/400] START C=33, penalty=l1........................................\n",
      "[CV 5/5; 129/400] END ...........C=33, penalty=l1;, score=nan total time=   0.0s\n",
      "[CV 1/5; 130/400] START C=33, penalty=l2........................................\n",
      "[CV 1/5; 130/400] END .........C=33, penalty=l2;, score=0.909 total time=   0.0s\n",
      "[CV 2/5; 130/400] START C=33, penalty=l2........................................\n",
      "[CV 2/5; 130/400] END .........C=33, penalty=l2;, score=0.824 total time=   0.0s\n",
      "[CV 3/5; 130/400] START C=33, penalty=l2........................................\n",
      "[CV 3/5; 130/400] END .........C=33, penalty=l2;, score=0.941 total time=   0.0s\n",
      "[CV 4/5; 130/400] START C=33, penalty=l2........................................\n",
      "[CV 4/5; 130/400] END .........C=33, penalty=l2;, score=0.765 total time=   0.0s\n",
      "[CV 5/5; 130/400] START C=33, penalty=l2........................................\n",
      "[CV 5/5; 130/400] END .........C=33, penalty=l2;, score=0.824 total time=   0.0s\n",
      "[CV 1/5; 131/400] START C=33, penalty=elasticnet................................\n",
      "[CV 1/5; 131/400] END ...C=33, penalty=elasticnet;, score=nan total time=   0.0s\n",
      "[CV 2/5; 131/400] START C=33, penalty=elasticnet................................\n",
      "[CV 2/5; 131/400] END ...C=33, penalty=elasticnet;, score=nan total time=   0.0s\n",
      "[CV 3/5; 131/400] START C=33, penalty=elasticnet................................\n",
      "[CV 3/5; 131/400] END ...C=33, penalty=elasticnet;, score=nan total time=   0.0s\n",
      "[CV 4/5; 131/400] START C=33, penalty=elasticnet................................\n",
      "[CV 4/5; 131/400] END ...C=33, penalty=elasticnet;, score=nan total time=   0.0s\n",
      "[CV 5/5; 131/400] START C=33, penalty=elasticnet................................\n",
      "[CV 5/5; 131/400] END ...C=33, penalty=elasticnet;, score=nan total time=   0.0s\n",
      "[CV 1/5; 132/400] START C=33, penalty=None......................................\n",
      "[CV 1/5; 132/400] END .......C=33, penalty=None;, score=0.909 total time=   0.0s\n",
      "[CV 2/5; 132/400] START C=33, penalty=None......................................\n",
      "[CV 2/5; 132/400] END .......C=33, penalty=None;, score=0.853 total time=   0.0s\n",
      "[CV 3/5; 132/400] START C=33, penalty=None......................................\n",
      "[CV 3/5; 132/400] END .......C=33, penalty=None;, score=0.941 total time=   0.0s\n",
      "[CV 4/5; 132/400] START C=33, penalty=None......................................\n",
      "[CV 4/5; 132/400] END .......C=33, penalty=None;, score=0.765 total time=   0.0s\n",
      "[CV 5/5; 132/400] START C=33, penalty=None......................................\n",
      "[CV 5/5; 132/400] END .......C=33, penalty=None;, score=0.824 total time=   0.0s\n",
      "[CV 1/5; 133/400] START C=34, penalty=l1........................................\n",
      "[CV 1/5; 133/400] END ...........C=34, penalty=l1;, score=nan total time=   0.0s\n",
      "[CV 2/5; 133/400] START C=34, penalty=l1........................................\n",
      "[CV 2/5; 133/400] END ...........C=34, penalty=l1;, score=nan total time=   0.0s\n",
      "[CV 3/5; 133/400] START C=34, penalty=l1........................................\n",
      "[CV 3/5; 133/400] END ...........C=34, penalty=l1;, score=nan total time=   0.0s\n",
      "[CV 4/5; 133/400] START C=34, penalty=l1........................................\n",
      "[CV 4/5; 133/400] END ...........C=34, penalty=l1;, score=nan total time=   0.0s\n",
      "[CV 5/5; 133/400] START C=34, penalty=l1........................................\n",
      "[CV 5/5; 133/400] END ...........C=34, penalty=l1;, score=nan total time=   0.0s\n",
      "[CV 1/5; 134/400] START C=34, penalty=l2........................................\n",
      "[CV 1/5; 134/400] END .........C=34, penalty=l2;, score=0.909 total time=   0.0s\n",
      "[CV 2/5; 134/400] START C=34, penalty=l2........................................\n"
     ]
    },
    {
     "name": "stderr",
     "output_type": "stream",
     "text": [
      "C:\\Users\\Usuario\\anaconda3\\lib\\site-packages\\sklearn\\linear_model\\_logistic.py:1193: UserWarning:\n",
      "\n",
      "Setting penalty=None will ignore the C and l1_ratio parameters\n",
      "\n",
      "C:\\Users\\Usuario\\anaconda3\\lib\\site-packages\\sklearn\\linear_model\\_logistic.py:1193: UserWarning:\n",
      "\n",
      "Setting penalty=None will ignore the C and l1_ratio parameters\n",
      "\n",
      "C:\\Users\\Usuario\\anaconda3\\lib\\site-packages\\sklearn\\linear_model\\_logistic.py:1193: UserWarning:\n",
      "\n",
      "Setting penalty=None will ignore the C and l1_ratio parameters\n",
      "\n",
      "C:\\Users\\Usuario\\anaconda3\\lib\\site-packages\\sklearn\\linear_model\\_logistic.py:460: ConvergenceWarning:\n",
      "\n",
      "lbfgs failed to converge (status=1):\n",
      "STOP: TOTAL NO. of ITERATIONS REACHED LIMIT.\n",
      "\n",
      "Increase the number of iterations (max_iter) or scale the data as shown in:\n",
      "    https://scikit-learn.org/stable/modules/preprocessing.html\n",
      "Please also refer to the documentation for alternative solver options:\n",
      "    https://scikit-learn.org/stable/modules/linear_model.html#logistic-regression\n",
      "\n",
      "C:\\Users\\Usuario\\anaconda3\\lib\\site-packages\\sklearn\\linear_model\\_logistic.py:1193: UserWarning:\n",
      "\n",
      "Setting penalty=None will ignore the C and l1_ratio parameters\n",
      "\n",
      "C:\\Users\\Usuario\\anaconda3\\lib\\site-packages\\sklearn\\linear_model\\_logistic.py:1193: UserWarning:\n",
      "\n",
      "Setting penalty=None will ignore the C and l1_ratio parameters\n",
      "\n"
     ]
    },
    {
     "name": "stdout",
     "output_type": "stream",
     "text": [
      "[CV 2/5; 134/400] END .........C=34, penalty=l2;, score=0.824 total time=   0.0s\n",
      "[CV 3/5; 134/400] START C=34, penalty=l2........................................\n",
      "[CV 3/5; 134/400] END .........C=34, penalty=l2;, score=0.941 total time=   0.0s\n",
      "[CV 4/5; 134/400] START C=34, penalty=l2........................................\n",
      "[CV 4/5; 134/400] END .........C=34, penalty=l2;, score=0.765 total time=   0.0s\n",
      "[CV 5/5; 134/400] START C=34, penalty=l2........................................\n",
      "[CV 5/5; 134/400] END .........C=34, penalty=l2;, score=0.824 total time=   0.0s\n",
      "[CV 1/5; 135/400] START C=34, penalty=elasticnet................................\n",
      "[CV 1/5; 135/400] END ...C=34, penalty=elasticnet;, score=nan total time=   0.0s\n",
      "[CV 2/5; 135/400] START C=34, penalty=elasticnet................................\n",
      "[CV 2/5; 135/400] END ...C=34, penalty=elasticnet;, score=nan total time=   0.0s\n",
      "[CV 3/5; 135/400] START C=34, penalty=elasticnet................................\n",
      "[CV 3/5; 135/400] END ...C=34, penalty=elasticnet;, score=nan total time=   0.0s\n",
      "[CV 4/5; 135/400] START C=34, penalty=elasticnet................................\n",
      "[CV 4/5; 135/400] END ...C=34, penalty=elasticnet;, score=nan total time=   0.0s\n",
      "[CV 5/5; 135/400] START C=34, penalty=elasticnet................................\n",
      "[CV 5/5; 135/400] END ...C=34, penalty=elasticnet;, score=nan total time=   0.0s\n",
      "[CV 1/5; 136/400] START C=34, penalty=None......................................\n",
      "[CV 1/5; 136/400] END .......C=34, penalty=None;, score=0.909 total time=   0.0s\n",
      "[CV 2/5; 136/400] START C=34, penalty=None......................................\n",
      "[CV 2/5; 136/400] END .......C=34, penalty=None;, score=0.853 total time=   0.0s\n",
      "[CV 3/5; 136/400] START C=34, penalty=None......................................\n"
     ]
    },
    {
     "name": "stderr",
     "output_type": "stream",
     "text": [
      "C:\\Users\\Usuario\\anaconda3\\lib\\site-packages\\sklearn\\linear_model\\_logistic.py:460: ConvergenceWarning:\n",
      "\n",
      "lbfgs failed to converge (status=1):\n",
      "STOP: TOTAL NO. of ITERATIONS REACHED LIMIT.\n",
      "\n",
      "Increase the number of iterations (max_iter) or scale the data as shown in:\n",
      "    https://scikit-learn.org/stable/modules/preprocessing.html\n",
      "Please also refer to the documentation for alternative solver options:\n",
      "    https://scikit-learn.org/stable/modules/linear_model.html#logistic-regression\n",
      "\n",
      "C:\\Users\\Usuario\\anaconda3\\lib\\site-packages\\sklearn\\linear_model\\_logistic.py:1193: UserWarning:\n",
      "\n",
      "Setting penalty=None will ignore the C and l1_ratio parameters\n",
      "\n",
      "C:\\Users\\Usuario\\anaconda3\\lib\\site-packages\\sklearn\\linear_model\\_logistic.py:1193: UserWarning:\n",
      "\n",
      "Setting penalty=None will ignore the C and l1_ratio parameters\n",
      "\n",
      "C:\\Users\\Usuario\\anaconda3\\lib\\site-packages\\sklearn\\linear_model\\_logistic.py:1193: UserWarning:\n",
      "\n",
      "Setting penalty=None will ignore the C and l1_ratio parameters\n",
      "\n",
      "C:\\Users\\Usuario\\anaconda3\\lib\\site-packages\\sklearn\\linear_model\\_logistic.py:460: ConvergenceWarning:\n",
      "\n",
      "lbfgs failed to converge (status=1):\n",
      "STOP: TOTAL NO. of ITERATIONS REACHED LIMIT.\n",
      "\n",
      "Increase the number of iterations (max_iter) or scale the data as shown in:\n",
      "    https://scikit-learn.org/stable/modules/preprocessing.html\n",
      "Please also refer to the documentation for alternative solver options:\n",
      "    https://scikit-learn.org/stable/modules/linear_model.html#logistic-regression\n",
      "\n",
      "C:\\Users\\Usuario\\anaconda3\\lib\\site-packages\\sklearn\\linear_model\\_logistic.py:1193: UserWarning:\n",
      "\n",
      "Setting penalty=None will ignore the C and l1_ratio parameters\n",
      "\n"
     ]
    },
    {
     "name": "stdout",
     "output_type": "stream",
     "text": [
      "[CV 3/5; 136/400] END .......C=34, penalty=None;, score=0.941 total time=   0.0s\n",
      "[CV 4/5; 136/400] START C=34, penalty=None......................................\n",
      "[CV 4/5; 136/400] END .......C=34, penalty=None;, score=0.765 total time=   0.0s\n",
      "[CV 5/5; 136/400] START C=34, penalty=None......................................\n",
      "[CV 5/5; 136/400] END .......C=34, penalty=None;, score=0.824 total time=   0.0s\n",
      "[CV 1/5; 137/400] START C=35, penalty=l1........................................\n",
      "[CV 1/5; 137/400] END ...........C=35, penalty=l1;, score=nan total time=   0.0s\n",
      "[CV 2/5; 137/400] START C=35, penalty=l1........................................\n",
      "[CV 2/5; 137/400] END ...........C=35, penalty=l1;, score=nan total time=   0.0s\n",
      "[CV 3/5; 137/400] START C=35, penalty=l1........................................\n",
      "[CV 3/5; 137/400] END ...........C=35, penalty=l1;, score=nan total time=   0.0s\n",
      "[CV 4/5; 137/400] START C=35, penalty=l1........................................\n",
      "[CV 4/5; 137/400] END ...........C=35, penalty=l1;, score=nan total time=   0.0s\n",
      "[CV 5/5; 137/400] START C=35, penalty=l1........................................\n",
      "[CV 5/5; 137/400] END ...........C=35, penalty=l1;, score=nan total time=   0.0s\n",
      "[CV 1/5; 138/400] START C=35, penalty=l2........................................\n",
      "[CV 1/5; 138/400] END .........C=35, penalty=l2;, score=0.909 total time=   0.0s\n",
      "[CV 2/5; 138/400] START C=35, penalty=l2........................................\n",
      "[CV 2/5; 138/400] END .........C=35, penalty=l2;, score=0.824 total time=   0.0s\n",
      "[CV 3/5; 138/400] START C=35, penalty=l2........................................\n",
      "[CV 3/5; 138/400] END .........C=35, penalty=l2;, score=0.941 total time=   0.0s\n",
      "[CV 4/5; 138/400] START C=35, penalty=l2........................................\n"
     ]
    },
    {
     "name": "stderr",
     "output_type": "stream",
     "text": [
      "C:\\Users\\Usuario\\anaconda3\\lib\\site-packages\\sklearn\\linear_model\\_logistic.py:1193: UserWarning:\n",
      "\n",
      "Setting penalty=None will ignore the C and l1_ratio parameters\n",
      "\n"
     ]
    },
    {
     "name": "stdout",
     "output_type": "stream",
     "text": [
      "[CV 4/5; 138/400] END .........C=35, penalty=l2;, score=0.765 total time=   0.0s\n",
      "[CV 5/5; 138/400] START C=35, penalty=l2........................................\n",
      "[CV 5/5; 138/400] END .........C=35, penalty=l2;, score=0.824 total time=   0.0s\n",
      "[CV 1/5; 139/400] START C=35, penalty=elasticnet................................\n",
      "[CV 1/5; 139/400] END ...C=35, penalty=elasticnet;, score=nan total time=   0.0s\n",
      "[CV 2/5; 139/400] START C=35, penalty=elasticnet................................\n",
      "[CV 2/5; 139/400] END ...C=35, penalty=elasticnet;, score=nan total time=   0.0s\n",
      "[CV 3/5; 139/400] START C=35, penalty=elasticnet................................\n",
      "[CV 3/5; 139/400] END ...C=35, penalty=elasticnet;, score=nan total time=   0.0s\n",
      "[CV 4/5; 139/400] START C=35, penalty=elasticnet................................\n",
      "[CV 4/5; 139/400] END ...C=35, penalty=elasticnet;, score=nan total time=   0.0s\n",
      "[CV 5/5; 139/400] START C=35, penalty=elasticnet................................\n",
      "[CV 5/5; 139/400] END ...C=35, penalty=elasticnet;, score=nan total time=   0.0s\n",
      "[CV 1/5; 140/400] START C=35, penalty=None......................................\n",
      "[CV 1/5; 140/400] END .......C=35, penalty=None;, score=0.909 total time=   0.0s\n",
      "[CV 2/5; 140/400] START C=35, penalty=None......................................\n",
      "[CV 2/5; 140/400] END .......C=35, penalty=None;, score=0.853 total time=   0.0s\n",
      "[CV 3/5; 140/400] START C=35, penalty=None......................................\n",
      "[CV 3/5; 140/400] END .......C=35, penalty=None;, score=0.941 total time=   0.0s\n",
      "[CV 4/5; 140/400] START C=35, penalty=None......................................\n",
      "[CV 4/5; 140/400] END .......C=35, penalty=None;, score=0.765 total time=   0.0s\n",
      "[CV 5/5; 140/400] START C=35, penalty=None......................................\n"
     ]
    },
    {
     "name": "stderr",
     "output_type": "stream",
     "text": [
      "C:\\Users\\Usuario\\anaconda3\\lib\\site-packages\\sklearn\\linear_model\\_logistic.py:1193: UserWarning:\n",
      "\n",
      "Setting penalty=None will ignore the C and l1_ratio parameters\n",
      "\n",
      "C:\\Users\\Usuario\\anaconda3\\lib\\site-packages\\sklearn\\linear_model\\_logistic.py:1193: UserWarning:\n",
      "\n",
      "Setting penalty=None will ignore the C and l1_ratio parameters\n",
      "\n",
      "C:\\Users\\Usuario\\anaconda3\\lib\\site-packages\\sklearn\\linear_model\\_logistic.py:1193: UserWarning:\n",
      "\n",
      "Setting penalty=None will ignore the C and l1_ratio parameters\n",
      "\n",
      "C:\\Users\\Usuario\\anaconda3\\lib\\site-packages\\sklearn\\linear_model\\_logistic.py:460: ConvergenceWarning:\n",
      "\n",
      "lbfgs failed to converge (status=1):\n",
      "STOP: TOTAL NO. of ITERATIONS REACHED LIMIT.\n",
      "\n",
      "Increase the number of iterations (max_iter) or scale the data as shown in:\n",
      "    https://scikit-learn.org/stable/modules/preprocessing.html\n",
      "Please also refer to the documentation for alternative solver options:\n",
      "    https://scikit-learn.org/stable/modules/linear_model.html#logistic-regression\n",
      "\n",
      "C:\\Users\\Usuario\\anaconda3\\lib\\site-packages\\sklearn\\linear_model\\_logistic.py:1193: UserWarning:\n",
      "\n",
      "Setting penalty=None will ignore the C and l1_ratio parameters\n",
      "\n",
      "C:\\Users\\Usuario\\anaconda3\\lib\\site-packages\\sklearn\\linear_model\\_logistic.py:1193: UserWarning:\n",
      "\n",
      "Setting penalty=None will ignore the C and l1_ratio parameters\n",
      "\n"
     ]
    },
    {
     "name": "stdout",
     "output_type": "stream",
     "text": [
      "[CV 5/5; 140/400] END .......C=35, penalty=None;, score=0.824 total time=   0.0s\n",
      "[CV 1/5; 141/400] START C=36, penalty=l1........................................\n",
      "[CV 1/5; 141/400] END ...........C=36, penalty=l1;, score=nan total time=   0.0s\n",
      "[CV 2/5; 141/400] START C=36, penalty=l1........................................\n",
      "[CV 2/5; 141/400] END ...........C=36, penalty=l1;, score=nan total time=   0.0s\n",
      "[CV 3/5; 141/400] START C=36, penalty=l1........................................\n",
      "[CV 3/5; 141/400] END ...........C=36, penalty=l1;, score=nan total time=   0.0s\n",
      "[CV 4/5; 141/400] START C=36, penalty=l1........................................\n",
      "[CV 4/5; 141/400] END ...........C=36, penalty=l1;, score=nan total time=   0.0s\n",
      "[CV 5/5; 141/400] START C=36, penalty=l1........................................\n",
      "[CV 5/5; 141/400] END ...........C=36, penalty=l1;, score=nan total time=   0.0s\n",
      "[CV 1/5; 142/400] START C=36, penalty=l2........................................\n",
      "[CV 1/5; 142/400] END .........C=36, penalty=l2;, score=0.909 total time=   0.0s\n",
      "[CV 2/5; 142/400] START C=36, penalty=l2........................................\n",
      "[CV 2/5; 142/400] END .........C=36, penalty=l2;, score=0.824 total time=   0.0s\n",
      "[CV 3/5; 142/400] START C=36, penalty=l2........................................\n",
      "[CV 3/5; 142/400] END .........C=36, penalty=l2;, score=0.941 total time=   0.0s\n",
      "[CV 4/5; 142/400] START C=36, penalty=l2........................................\n",
      "[CV 4/5; 142/400] END .........C=36, penalty=l2;, score=0.765 total time=   0.0s\n",
      "[CV 5/5; 142/400] START C=36, penalty=l2........................................\n",
      "[CV 5/5; 142/400] END .........C=36, penalty=l2;, score=0.824 total time=   0.0s\n",
      "[CV 1/5; 143/400] START C=36, penalty=elasticnet................................\n",
      "[CV 1/5; 143/400] END ...C=36, penalty=elasticnet;, score=nan total time=   0.0s\n",
      "[CV 2/5; 143/400] START C=36, penalty=elasticnet................................\n",
      "[CV 2/5; 143/400] END ...C=36, penalty=elasticnet;, score=nan total time=   0.0s\n",
      "[CV 3/5; 143/400] START C=36, penalty=elasticnet................................\n",
      "[CV 3/5; 143/400] END ...C=36, penalty=elasticnet;, score=nan total time=   0.0s\n",
      "[CV 4/5; 143/400] START C=36, penalty=elasticnet................................\n",
      "[CV 4/5; 143/400] END ...C=36, penalty=elasticnet;, score=nan total time=   0.0s\n",
      "[CV 5/5; 143/400] START C=36, penalty=elasticnet................................\n",
      "[CV 5/5; 143/400] END ...C=36, penalty=elasticnet;, score=nan total time=   0.0s\n",
      "[CV 1/5; 144/400] START C=36, penalty=None......................................\n"
     ]
    },
    {
     "name": "stderr",
     "output_type": "stream",
     "text": [
      "C:\\Users\\Usuario\\anaconda3\\lib\\site-packages\\sklearn\\linear_model\\_logistic.py:460: ConvergenceWarning:\n",
      "\n",
      "lbfgs failed to converge (status=1):\n",
      "STOP: TOTAL NO. of ITERATIONS REACHED LIMIT.\n",
      "\n",
      "Increase the number of iterations (max_iter) or scale the data as shown in:\n",
      "    https://scikit-learn.org/stable/modules/preprocessing.html\n",
      "Please also refer to the documentation for alternative solver options:\n",
      "    https://scikit-learn.org/stable/modules/linear_model.html#logistic-regression\n",
      "\n",
      "C:\\Users\\Usuario\\anaconda3\\lib\\site-packages\\sklearn\\linear_model\\_logistic.py:1193: UserWarning:\n",
      "\n",
      "Setting penalty=None will ignore the C and l1_ratio parameters\n",
      "\n",
      "C:\\Users\\Usuario\\anaconda3\\lib\\site-packages\\sklearn\\linear_model\\_logistic.py:1193: UserWarning:\n",
      "\n",
      "Setting penalty=None will ignore the C and l1_ratio parameters\n",
      "\n",
      "C:\\Users\\Usuario\\anaconda3\\lib\\site-packages\\sklearn\\linear_model\\_logistic.py:1193: UserWarning:\n",
      "\n",
      "Setting penalty=None will ignore the C and l1_ratio parameters\n",
      "\n",
      "C:\\Users\\Usuario\\anaconda3\\lib\\site-packages\\sklearn\\linear_model\\_logistic.py:460: ConvergenceWarning:\n",
      "\n",
      "lbfgs failed to converge (status=1):\n",
      "STOP: TOTAL NO. of ITERATIONS REACHED LIMIT.\n",
      "\n",
      "Increase the number of iterations (max_iter) or scale the data as shown in:\n",
      "    https://scikit-learn.org/stable/modules/preprocessing.html\n",
      "Please also refer to the documentation for alternative solver options:\n",
      "    https://scikit-learn.org/stable/modules/linear_model.html#logistic-regression\n",
      "\n",
      "C:\\Users\\Usuario\\anaconda3\\lib\\site-packages\\sklearn\\linear_model\\_logistic.py:1193: UserWarning:\n",
      "\n",
      "Setting penalty=None will ignore the C and l1_ratio parameters\n",
      "\n"
     ]
    },
    {
     "name": "stdout",
     "output_type": "stream",
     "text": [
      "[CV 1/5; 144/400] END .......C=36, penalty=None;, score=0.909 total time=   0.0s\n",
      "[CV 2/5; 144/400] START C=36, penalty=None......................................\n",
      "[CV 2/5; 144/400] END .......C=36, penalty=None;, score=0.853 total time=   0.0s\n",
      "[CV 3/5; 144/400] START C=36, penalty=None......................................\n",
      "[CV 3/5; 144/400] END .......C=36, penalty=None;, score=0.941 total time=   0.0s\n",
      "[CV 4/5; 144/400] START C=36, penalty=None......................................\n",
      "[CV 4/5; 144/400] END .......C=36, penalty=None;, score=0.765 total time=   0.0s\n",
      "[CV 5/5; 144/400] START C=36, penalty=None......................................\n",
      "[CV 5/5; 144/400] END .......C=36, penalty=None;, score=0.824 total time=   0.0s\n",
      "[CV 1/5; 145/400] START C=37, penalty=l1........................................\n",
      "[CV 1/5; 145/400] END ...........C=37, penalty=l1;, score=nan total time=   0.0s\n",
      "[CV 2/5; 145/400] START C=37, penalty=l1........................................\n",
      "[CV 2/5; 145/400] END ...........C=37, penalty=l1;, score=nan total time=   0.0s\n",
      "[CV 3/5; 145/400] START C=37, penalty=l1........................................\n",
      "[CV 3/5; 145/400] END ...........C=37, penalty=l1;, score=nan total time=   0.0s\n",
      "[CV 4/5; 145/400] START C=37, penalty=l1........................................\n",
      "[CV 4/5; 145/400] END ...........C=37, penalty=l1;, score=nan total time=   0.0s\n",
      "[CV 5/5; 145/400] START C=37, penalty=l1........................................\n",
      "[CV 5/5; 145/400] END ...........C=37, penalty=l1;, score=nan total time=   0.0s\n",
      "[CV 1/5; 146/400] START C=37, penalty=l2........................................\n",
      "[CV 1/5; 146/400] END .........C=37, penalty=l2;, score=0.909 total time=   0.0s\n",
      "[CV 2/5; 146/400] START C=37, penalty=l2........................................\n"
     ]
    },
    {
     "name": "stderr",
     "output_type": "stream",
     "text": [
      "C:\\Users\\Usuario\\anaconda3\\lib\\site-packages\\sklearn\\linear_model\\_logistic.py:1193: UserWarning:\n",
      "\n",
      "Setting penalty=None will ignore the C and l1_ratio parameters\n",
      "\n",
      "C:\\Users\\Usuario\\anaconda3\\lib\\site-packages\\sklearn\\linear_model\\_logistic.py:460: ConvergenceWarning:\n",
      "\n",
      "lbfgs failed to converge (status=1):\n",
      "STOP: TOTAL NO. of ITERATIONS REACHED LIMIT.\n",
      "\n",
      "Increase the number of iterations (max_iter) or scale the data as shown in:\n",
      "    https://scikit-learn.org/stable/modules/preprocessing.html\n",
      "Please also refer to the documentation for alternative solver options:\n",
      "    https://scikit-learn.org/stable/modules/linear_model.html#logistic-regression\n",
      "\n"
     ]
    },
    {
     "name": "stdout",
     "output_type": "stream",
     "text": [
      "[CV 2/5; 146/400] END .........C=37, penalty=l2;, score=0.824 total time=   0.0s\n",
      "[CV 3/5; 146/400] START C=37, penalty=l2........................................\n",
      "[CV 3/5; 146/400] END .........C=37, penalty=l2;, score=0.941 total time=   0.0s\n",
      "[CV 4/5; 146/400] START C=37, penalty=l2........................................\n",
      "[CV 4/5; 146/400] END .........C=37, penalty=l2;, score=0.765 total time=   0.0s\n",
      "[CV 5/5; 146/400] START C=37, penalty=l2........................................\n",
      "[CV 5/5; 146/400] END .........C=37, penalty=l2;, score=0.824 total time=   0.0s\n",
      "[CV 1/5; 147/400] START C=37, penalty=elasticnet................................\n",
      "[CV 1/5; 147/400] END ...C=37, penalty=elasticnet;, score=nan total time=   0.0s\n",
      "[CV 2/5; 147/400] START C=37, penalty=elasticnet................................\n",
      "[CV 2/5; 147/400] END ...C=37, penalty=elasticnet;, score=nan total time=   0.0s\n",
      "[CV 3/5; 147/400] START C=37, penalty=elasticnet................................\n",
      "[CV 3/5; 147/400] END ...C=37, penalty=elasticnet;, score=nan total time=   0.0s\n",
      "[CV 4/5; 147/400] START C=37, penalty=elasticnet................................\n",
      "[CV 4/5; 147/400] END ...C=37, penalty=elasticnet;, score=nan total time=   0.0s\n",
      "[CV 5/5; 147/400] START C=37, penalty=elasticnet................................\n",
      "[CV 5/5; 147/400] END ...C=37, penalty=elasticnet;, score=nan total time=   0.0s\n",
      "[CV 1/5; 148/400] START C=37, penalty=None......................................\n",
      "[CV 1/5; 148/400] END .......C=37, penalty=None;, score=0.909 total time=   0.0s\n",
      "[CV 2/5; 148/400] START C=37, penalty=None......................................\n",
      "[CV 2/5; 148/400] END .......C=37, penalty=None;, score=0.853 total time=   0.0s\n",
      "[CV 3/5; 148/400] START C=37, penalty=None......................................\n"
     ]
    },
    {
     "name": "stderr",
     "output_type": "stream",
     "text": [
      "C:\\Users\\Usuario\\anaconda3\\lib\\site-packages\\sklearn\\linear_model\\_logistic.py:1193: UserWarning:\n",
      "\n",
      "Setting penalty=None will ignore the C and l1_ratio parameters\n",
      "\n",
      "C:\\Users\\Usuario\\anaconda3\\lib\\site-packages\\sklearn\\linear_model\\_logistic.py:1193: UserWarning:\n",
      "\n",
      "Setting penalty=None will ignore the C and l1_ratio parameters\n",
      "\n",
      "C:\\Users\\Usuario\\anaconda3\\lib\\site-packages\\sklearn\\linear_model\\_logistic.py:1193: UserWarning:\n",
      "\n",
      "Setting penalty=None will ignore the C and l1_ratio parameters\n",
      "\n",
      "C:\\Users\\Usuario\\anaconda3\\lib\\site-packages\\sklearn\\linear_model\\_logistic.py:460: ConvergenceWarning:\n",
      "\n",
      "lbfgs failed to converge (status=1):\n",
      "STOP: TOTAL NO. of ITERATIONS REACHED LIMIT.\n",
      "\n",
      "Increase the number of iterations (max_iter) or scale the data as shown in:\n",
      "    https://scikit-learn.org/stable/modules/preprocessing.html\n",
      "Please also refer to the documentation for alternative solver options:\n",
      "    https://scikit-learn.org/stable/modules/linear_model.html#logistic-regression\n",
      "\n",
      "C:\\Users\\Usuario\\anaconda3\\lib\\site-packages\\sklearn\\linear_model\\_logistic.py:1193: UserWarning:\n",
      "\n",
      "Setting penalty=None will ignore the C and l1_ratio parameters\n",
      "\n",
      "C:\\Users\\Usuario\\anaconda3\\lib\\site-packages\\sklearn\\linear_model\\_logistic.py:1193: UserWarning:\n",
      "\n",
      "Setting penalty=None will ignore the C and l1_ratio parameters\n",
      "\n"
     ]
    },
    {
     "name": "stdout",
     "output_type": "stream",
     "text": [
      "[CV 3/5; 148/400] END .......C=37, penalty=None;, score=0.941 total time=   0.0s\n",
      "[CV 4/5; 148/400] START C=37, penalty=None......................................\n",
      "[CV 4/5; 148/400] END .......C=37, penalty=None;, score=0.765 total time=   0.0s\n",
      "[CV 5/5; 148/400] START C=37, penalty=None......................................\n",
      "[CV 5/5; 148/400] END .......C=37, penalty=None;, score=0.824 total time=   0.0s\n",
      "[CV 1/5; 149/400] START C=38, penalty=l1........................................\n",
      "[CV 1/5; 149/400] END ...........C=38, penalty=l1;, score=nan total time=   0.0s\n",
      "[CV 2/5; 149/400] START C=38, penalty=l1........................................\n",
      "[CV 2/5; 149/400] END ...........C=38, penalty=l1;, score=nan total time=   0.0s\n",
      "[CV 3/5; 149/400] START C=38, penalty=l1........................................\n",
      "[CV 3/5; 149/400] END ...........C=38, penalty=l1;, score=nan total time=   0.0s\n",
      "[CV 4/5; 149/400] START C=38, penalty=l1........................................\n",
      "[CV 4/5; 149/400] END ...........C=38, penalty=l1;, score=nan total time=   0.0s\n",
      "[CV 5/5; 149/400] START C=38, penalty=l1........................................\n",
      "[CV 5/5; 149/400] END ...........C=38, penalty=l1;, score=nan total time=   0.0s\n",
      "[CV 1/5; 150/400] START C=38, penalty=l2........................................\n",
      "[CV 1/5; 150/400] END .........C=38, penalty=l2;, score=0.909 total time=   0.0s\n",
      "[CV 2/5; 150/400] START C=38, penalty=l2........................................\n",
      "[CV 2/5; 150/400] END .........C=38, penalty=l2;, score=0.824 total time=   0.0s\n",
      "[CV 3/5; 150/400] START C=38, penalty=l2........................................\n",
      "[CV 3/5; 150/400] END .........C=38, penalty=l2;, score=0.941 total time=   0.0s\n",
      "[CV 4/5; 150/400] START C=38, penalty=l2........................................\n",
      "[CV 4/5; 150/400] END .........C=38, penalty=l2;, score=0.765 total time=   0.0s\n",
      "[CV 5/5; 150/400] START C=38, penalty=l2........................................\n"
     ]
    },
    {
     "name": "stderr",
     "output_type": "stream",
     "text": [
      "C:\\Users\\Usuario\\anaconda3\\lib\\site-packages\\sklearn\\linear_model\\_logistic.py:460: ConvergenceWarning:\n",
      "\n",
      "lbfgs failed to converge (status=1):\n",
      "STOP: TOTAL NO. of ITERATIONS REACHED LIMIT.\n",
      "\n",
      "Increase the number of iterations (max_iter) or scale the data as shown in:\n",
      "    https://scikit-learn.org/stable/modules/preprocessing.html\n",
      "Please also refer to the documentation for alternative solver options:\n",
      "    https://scikit-learn.org/stable/modules/linear_model.html#logistic-regression\n",
      "\n",
      "C:\\Users\\Usuario\\anaconda3\\lib\\site-packages\\sklearn\\linear_model\\_logistic.py:1193: UserWarning:\n",
      "\n",
      "Setting penalty=None will ignore the C and l1_ratio parameters\n",
      "\n",
      "C:\\Users\\Usuario\\anaconda3\\lib\\site-packages\\sklearn\\linear_model\\_logistic.py:1193: UserWarning:\n",
      "\n",
      "Setting penalty=None will ignore the C and l1_ratio parameters\n",
      "\n",
      "C:\\Users\\Usuario\\anaconda3\\lib\\site-packages\\sklearn\\linear_model\\_logistic.py:1193: UserWarning:\n",
      "\n",
      "Setting penalty=None will ignore the C and l1_ratio parameters\n",
      "\n",
      "C:\\Users\\Usuario\\anaconda3\\lib\\site-packages\\sklearn\\linear_model\\_logistic.py:460: ConvergenceWarning:\n",
      "\n",
      "lbfgs failed to converge (status=1):\n",
      "STOP: TOTAL NO. of ITERATIONS REACHED LIMIT.\n",
      "\n",
      "Increase the number of iterations (max_iter) or scale the data as shown in:\n",
      "    https://scikit-learn.org/stable/modules/preprocessing.html\n",
      "Please also refer to the documentation for alternative solver options:\n",
      "    https://scikit-learn.org/stable/modules/linear_model.html#logistic-regression\n",
      "\n",
      "C:\\Users\\Usuario\\anaconda3\\lib\\site-packages\\sklearn\\linear_model\\_logistic.py:1193: UserWarning:\n",
      "\n",
      "Setting penalty=None will ignore the C and l1_ratio parameters\n",
      "\n",
      "C:\\Users\\Usuario\\anaconda3\\lib\\site-packages\\sklearn\\linear_model\\_logistic.py:1193: UserWarning:\n",
      "\n",
      "Setting penalty=None will ignore the C and l1_ratio parameters\n",
      "\n"
     ]
    },
    {
     "name": "stdout",
     "output_type": "stream",
     "text": [
      "[CV 5/5; 150/400] END .........C=38, penalty=l2;, score=0.824 total time=   0.0s\n",
      "[CV 1/5; 151/400] START C=38, penalty=elasticnet................................\n",
      "[CV 1/5; 151/400] END ...C=38, penalty=elasticnet;, score=nan total time=   0.0s\n",
      "[CV 2/5; 151/400] START C=38, penalty=elasticnet................................\n",
      "[CV 2/5; 151/400] END ...C=38, penalty=elasticnet;, score=nan total time=   0.0s\n",
      "[CV 3/5; 151/400] START C=38, penalty=elasticnet................................\n",
      "[CV 3/5; 151/400] END ...C=38, penalty=elasticnet;, score=nan total time=   0.0s\n",
      "[CV 4/5; 151/400] START C=38, penalty=elasticnet................................\n",
      "[CV 4/5; 151/400] END ...C=38, penalty=elasticnet;, score=nan total time=   0.0s\n",
      "[CV 5/5; 151/400] START C=38, penalty=elasticnet................................\n",
      "[CV 5/5; 151/400] END ...C=38, penalty=elasticnet;, score=nan total time=   0.0s\n",
      "[CV 1/5; 152/400] START C=38, penalty=None......................................\n",
      "[CV 1/5; 152/400] END .......C=38, penalty=None;, score=0.909 total time=   0.0s\n",
      "[CV 2/5; 152/400] START C=38, penalty=None......................................\n",
      "[CV 2/5; 152/400] END .......C=38, penalty=None;, score=0.853 total time=   0.0s\n",
      "[CV 3/5; 152/400] START C=38, penalty=None......................................\n",
      "[CV 3/5; 152/400] END .......C=38, penalty=None;, score=0.941 total time=   0.0s\n",
      "[CV 4/5; 152/400] START C=38, penalty=None......................................\n",
      "[CV 4/5; 152/400] END .......C=38, penalty=None;, score=0.765 total time=   0.0s\n",
      "[CV 5/5; 152/400] START C=38, penalty=None......................................\n",
      "[CV 5/5; 152/400] END .......C=38, penalty=None;, score=0.824 total time=   0.0s\n",
      "[CV 1/5; 153/400] START C=39, penalty=l1........................................\n",
      "[CV 1/5; 153/400] END ...........C=39, penalty=l1;, score=nan total time=   0.0s\n",
      "[CV 2/5; 153/400] START C=39, penalty=l1........................................\n",
      "[CV 2/5; 153/400] END ...........C=39, penalty=l1;, score=nan total time=   0.0s\n",
      "[CV 3/5; 153/400] START C=39, penalty=l1........................................\n",
      "[CV 3/5; 153/400] END ...........C=39, penalty=l1;, score=nan total time=   0.0s\n",
      "[CV 4/5; 153/400] START C=39, penalty=l1........................................\n",
      "[CV 4/5; 153/400] END ...........C=39, penalty=l1;, score=nan total time=   0.0s\n",
      "[CV 5/5; 153/400] START C=39, penalty=l1........................................\n",
      "[CV 5/5; 153/400] END ...........C=39, penalty=l1;, score=nan total time=   0.0s\n",
      "[CV 1/5; 154/400] START C=39, penalty=l2........................................\n",
      "[CV 1/5; 154/400] END .........C=39, penalty=l2;, score=0.909 total time=   0.0s\n",
      "[CV 2/5; 154/400] START C=39, penalty=l2........................................\n",
      "[CV 2/5; 154/400] END .........C=39, penalty=l2;, score=0.824 total time=   0.0s\n",
      "[CV 3/5; 154/400] START C=39, penalty=l2........................................\n",
      "[CV 3/5; 154/400] END .........C=39, penalty=l2;, score=0.912 total time=   0.0s\n",
      "[CV 4/5; 154/400] START C=39, penalty=l2........................................\n",
      "[CV 4/5; 154/400] END .........C=39, penalty=l2;, score=0.765 total time=   0.0s\n",
      "[CV 5/5; 154/400] START C=39, penalty=l2........................................\n",
      "[CV 5/5; 154/400] END .........C=39, penalty=l2;, score=0.824 total time=   0.0s\n",
      "[CV 1/5; 155/400] START C=39, penalty=elasticnet................................\n",
      "[CV 1/5; 155/400] END ...C=39, penalty=elasticnet;, score=nan total time=   0.0s\n",
      "[CV 2/5; 155/400] START C=39, penalty=elasticnet................................\n",
      "[CV 2/5; 155/400] END ...C=39, penalty=elasticnet;, score=nan total time=   0.0s\n",
      "[CV 3/5; 155/400] START C=39, penalty=elasticnet................................\n",
      "[CV 3/5; 155/400] END ...C=39, penalty=elasticnet;, score=nan total time=   0.0s\n",
      "[CV 4/5; 155/400] START C=39, penalty=elasticnet................................\n",
      "[CV 4/5; 155/400] END ...C=39, penalty=elasticnet;, score=nan total time=   0.0s\n",
      "[CV 5/5; 155/400] START C=39, penalty=elasticnet................................\n",
      "[CV 5/5; 155/400] END ...C=39, penalty=elasticnet;, score=nan total time=   0.0s\n",
      "[CV 1/5; 156/400] START C=39, penalty=None......................................\n",
      "[CV 1/5; 156/400] END .......C=39, penalty=None;, score=0.909 total time=   0.0s\n",
      "[CV 2/5; 156/400] START C=39, penalty=None......................................\n"
     ]
    },
    {
     "name": "stderr",
     "output_type": "stream",
     "text": [
      "C:\\Users\\Usuario\\anaconda3\\lib\\site-packages\\sklearn\\linear_model\\_logistic.py:1193: UserWarning:\n",
      "\n",
      "Setting penalty=None will ignore the C and l1_ratio parameters\n",
      "\n",
      "C:\\Users\\Usuario\\anaconda3\\lib\\site-packages\\sklearn\\linear_model\\_logistic.py:1193: UserWarning:\n",
      "\n",
      "Setting penalty=None will ignore the C and l1_ratio parameters\n",
      "\n",
      "C:\\Users\\Usuario\\anaconda3\\lib\\site-packages\\sklearn\\linear_model\\_logistic.py:1193: UserWarning:\n",
      "\n",
      "Setting penalty=None will ignore the C and l1_ratio parameters\n",
      "\n",
      "C:\\Users\\Usuario\\anaconda3\\lib\\site-packages\\sklearn\\linear_model\\_logistic.py:460: ConvergenceWarning:\n",
      "\n",
      "lbfgs failed to converge (status=1):\n",
      "STOP: TOTAL NO. of ITERATIONS REACHED LIMIT.\n",
      "\n",
      "Increase the number of iterations (max_iter) or scale the data as shown in:\n",
      "    https://scikit-learn.org/stable/modules/preprocessing.html\n",
      "Please also refer to the documentation for alternative solver options:\n",
      "    https://scikit-learn.org/stable/modules/linear_model.html#logistic-regression\n",
      "\n",
      "C:\\Users\\Usuario\\anaconda3\\lib\\site-packages\\sklearn\\linear_model\\_logistic.py:1193: UserWarning:\n",
      "\n",
      "Setting penalty=None will ignore the C and l1_ratio parameters\n",
      "\n",
      "C:\\Users\\Usuario\\anaconda3\\lib\\site-packages\\sklearn\\linear_model\\_logistic.py:1193: UserWarning:\n",
      "\n",
      "Setting penalty=None will ignore the C and l1_ratio parameters\n",
      "\n"
     ]
    },
    {
     "name": "stdout",
     "output_type": "stream",
     "text": [
      "[CV 2/5; 156/400] END .......C=39, penalty=None;, score=0.853 total time=   0.0s\n",
      "[CV 3/5; 156/400] START C=39, penalty=None......................................\n",
      "[CV 3/5; 156/400] END .......C=39, penalty=None;, score=0.941 total time=   0.0s\n",
      "[CV 4/5; 156/400] START C=39, penalty=None......................................\n",
      "[CV 4/5; 156/400] END .......C=39, penalty=None;, score=0.765 total time=   0.0s\n",
      "[CV 5/5; 156/400] START C=39, penalty=None......................................\n",
      "[CV 5/5; 156/400] END .......C=39, penalty=None;, score=0.824 total time=   0.0s\n",
      "[CV 1/5; 157/400] START C=40, penalty=l1........................................\n",
      "[CV 1/5; 157/400] END ...........C=40, penalty=l1;, score=nan total time=   0.0s\n",
      "[CV 2/5; 157/400] START C=40, penalty=l1........................................\n",
      "[CV 2/5; 157/400] END ...........C=40, penalty=l1;, score=nan total time=   0.0s\n",
      "[CV 3/5; 157/400] START C=40, penalty=l1........................................\n",
      "[CV 3/5; 157/400] END ...........C=40, penalty=l1;, score=nan total time=   0.0s\n",
      "[CV 4/5; 157/400] START C=40, penalty=l1........................................\n",
      "[CV 4/5; 157/400] END ...........C=40, penalty=l1;, score=nan total time=   0.0s\n",
      "[CV 5/5; 157/400] START C=40, penalty=l1........................................\n",
      "[CV 5/5; 157/400] END ...........C=40, penalty=l1;, score=nan total time=   0.0s\n",
      "[CV 1/5; 158/400] START C=40, penalty=l2........................................\n",
      "[CV 1/5; 158/400] END .........C=40, penalty=l2;, score=0.909 total time=   0.0s\n",
      "[CV 2/5; 158/400] START C=40, penalty=l2........................................\n",
      "[CV 2/5; 158/400] END .........C=40, penalty=l2;, score=0.824 total time=   0.0s\n",
      "[CV 3/5; 158/400] START C=40, penalty=l2........................................\n",
      "[CV 3/5; 158/400] END .........C=40, penalty=l2;, score=0.912 total time=   0.0s\n",
      "[CV 4/5; 158/400] START C=40, penalty=l2........................................\n"
     ]
    },
    {
     "name": "stderr",
     "output_type": "stream",
     "text": [
      "C:\\Users\\Usuario\\anaconda3\\lib\\site-packages\\sklearn\\linear_model\\_logistic.py:460: ConvergenceWarning:\n",
      "\n",
      "lbfgs failed to converge (status=1):\n",
      "STOP: TOTAL NO. of ITERATIONS REACHED LIMIT.\n",
      "\n",
      "Increase the number of iterations (max_iter) or scale the data as shown in:\n",
      "    https://scikit-learn.org/stable/modules/preprocessing.html\n",
      "Please also refer to the documentation for alternative solver options:\n",
      "    https://scikit-learn.org/stable/modules/linear_model.html#logistic-regression\n",
      "\n",
      "C:\\Users\\Usuario\\anaconda3\\lib\\site-packages\\sklearn\\linear_model\\_logistic.py:1193: UserWarning:\n",
      "\n",
      "Setting penalty=None will ignore the C and l1_ratio parameters\n",
      "\n",
      "C:\\Users\\Usuario\\anaconda3\\lib\\site-packages\\sklearn\\linear_model\\_logistic.py:1193: UserWarning:\n",
      "\n",
      "Setting penalty=None will ignore the C and l1_ratio parameters\n",
      "\n",
      "C:\\Users\\Usuario\\anaconda3\\lib\\site-packages\\sklearn\\linear_model\\_logistic.py:1193: UserWarning:\n",
      "\n",
      "Setting penalty=None will ignore the C and l1_ratio parameters\n",
      "\n"
     ]
    },
    {
     "name": "stdout",
     "output_type": "stream",
     "text": [
      "[CV 4/5; 158/400] END .........C=40, penalty=l2;, score=0.765 total time=   0.0s\n",
      "[CV 5/5; 158/400] START C=40, penalty=l2........................................\n",
      "[CV 5/5; 158/400] END .........C=40, penalty=l2;, score=0.824 total time=   0.0s\n",
      "[CV 1/5; 159/400] START C=40, penalty=elasticnet................................\n",
      "[CV 1/5; 159/400] END ...C=40, penalty=elasticnet;, score=nan total time=   0.0s\n",
      "[CV 2/5; 159/400] START C=40, penalty=elasticnet................................\n",
      "[CV 2/5; 159/400] END ...C=40, penalty=elasticnet;, score=nan total time=   0.0s\n",
      "[CV 3/5; 159/400] START C=40, penalty=elasticnet................................\n",
      "[CV 3/5; 159/400] END ...C=40, penalty=elasticnet;, score=nan total time=   0.0s\n",
      "[CV 4/5; 159/400] START C=40, penalty=elasticnet................................\n",
      "[CV 4/5; 159/400] END ...C=40, penalty=elasticnet;, score=nan total time=   0.0s\n",
      "[CV 5/5; 159/400] START C=40, penalty=elasticnet................................\n",
      "[CV 5/5; 159/400] END ...C=40, penalty=elasticnet;, score=nan total time=   0.0s\n",
      "[CV 1/5; 160/400] START C=40, penalty=None......................................\n",
      "[CV 1/5; 160/400] END .......C=40, penalty=None;, score=0.909 total time=   0.0s\n",
      "[CV 2/5; 160/400] START C=40, penalty=None......................................\n",
      "[CV 2/5; 160/400] END .......C=40, penalty=None;, score=0.853 total time=   0.0s\n",
      "[CV 3/5; 160/400] START C=40, penalty=None......................................\n",
      "[CV 3/5; 160/400] END .......C=40, penalty=None;, score=0.941 total time=   0.0s\n",
      "[CV 4/5; 160/400] START C=40, penalty=None......................................\n",
      "[CV 4/5; 160/400] END .......C=40, penalty=None;, score=0.765 total time=   0.0s\n",
      "[CV 5/5; 160/400] START C=40, penalty=None......................................\n"
     ]
    },
    {
     "name": "stderr",
     "output_type": "stream",
     "text": [
      "C:\\Users\\Usuario\\anaconda3\\lib\\site-packages\\sklearn\\linear_model\\_logistic.py:460: ConvergenceWarning:\n",
      "\n",
      "lbfgs failed to converge (status=1):\n",
      "STOP: TOTAL NO. of ITERATIONS REACHED LIMIT.\n",
      "\n",
      "Increase the number of iterations (max_iter) or scale the data as shown in:\n",
      "    https://scikit-learn.org/stable/modules/preprocessing.html\n",
      "Please also refer to the documentation for alternative solver options:\n",
      "    https://scikit-learn.org/stable/modules/linear_model.html#logistic-regression\n",
      "\n",
      "C:\\Users\\Usuario\\anaconda3\\lib\\site-packages\\sklearn\\linear_model\\_logistic.py:1193: UserWarning:\n",
      "\n",
      "Setting penalty=None will ignore the C and l1_ratio parameters\n",
      "\n",
      "C:\\Users\\Usuario\\anaconda3\\lib\\site-packages\\sklearn\\linear_model\\_logistic.py:1193: UserWarning:\n",
      "\n",
      "Setting penalty=None will ignore the C and l1_ratio parameters\n",
      "\n",
      "C:\\Users\\Usuario\\anaconda3\\lib\\site-packages\\sklearn\\linear_model\\_logistic.py:460: ConvergenceWarning:\n",
      "\n",
      "lbfgs failed to converge (status=1):\n",
      "STOP: TOTAL NO. of ITERATIONS REACHED LIMIT.\n",
      "\n",
      "Increase the number of iterations (max_iter) or scale the data as shown in:\n",
      "    https://scikit-learn.org/stable/modules/preprocessing.html\n",
      "Please also refer to the documentation for alternative solver options:\n",
      "    https://scikit-learn.org/stable/modules/linear_model.html#logistic-regression\n",
      "\n"
     ]
    },
    {
     "name": "stdout",
     "output_type": "stream",
     "text": [
      "[CV 5/5; 160/400] END .......C=40, penalty=None;, score=0.824 total time=   0.0s\n",
      "[CV 1/5; 161/400] START C=41, penalty=l1........................................\n",
      "[CV 1/5; 161/400] END ...........C=41, penalty=l1;, score=nan total time=   0.0s\n",
      "[CV 2/5; 161/400] START C=41, penalty=l1........................................\n",
      "[CV 2/5; 161/400] END ...........C=41, penalty=l1;, score=nan total time=   0.0s\n",
      "[CV 3/5; 161/400] START C=41, penalty=l1........................................\n",
      "[CV 3/5; 161/400] END ...........C=41, penalty=l1;, score=nan total time=   0.0s\n",
      "[CV 4/5; 161/400] START C=41, penalty=l1........................................\n",
      "[CV 4/5; 161/400] END ...........C=41, penalty=l1;, score=nan total time=   0.0s\n",
      "[CV 5/5; 161/400] START C=41, penalty=l1........................................\n",
      "[CV 5/5; 161/400] END ...........C=41, penalty=l1;, score=nan total time=   0.0s\n",
      "[CV 1/5; 162/400] START C=41, penalty=l2........................................\n",
      "[CV 1/5; 162/400] END .........C=41, penalty=l2;, score=0.909 total time=   0.0s\n",
      "[CV 2/5; 162/400] START C=41, penalty=l2........................................\n",
      "[CV 2/5; 162/400] END .........C=41, penalty=l2;, score=0.824 total time=   0.0s\n",
      "[CV 3/5; 162/400] START C=41, penalty=l2........................................\n",
      "[CV 3/5; 162/400] END .........C=41, penalty=l2;, score=0.912 total time=   0.0s\n",
      "[CV 4/5; 162/400] START C=41, penalty=l2........................................\n",
      "[CV 4/5; 162/400] END .........C=41, penalty=l2;, score=0.765 total time=   0.0s\n",
      "[CV 5/5; 162/400] START C=41, penalty=l2........................................\n",
      "[CV 5/5; 162/400] END .........C=41, penalty=l2;, score=0.824 total time=   0.0s\n",
      "[CV 1/5; 163/400] START C=41, penalty=elasticnet................................\n",
      "[CV 1/5; 163/400] END ...C=41, penalty=elasticnet;, score=nan total time=   0.0s\n",
      "[CV 2/5; 163/400] START C=41, penalty=elasticnet................................\n",
      "[CV 2/5; 163/400] END ...C=41, penalty=elasticnet;, score=nan total time=   0.0s\n",
      "[CV 3/5; 163/400] START C=41, penalty=elasticnet................................\n",
      "[CV 3/5; 163/400] END ...C=41, penalty=elasticnet;, score=nan total time=   0.0s\n",
      "[CV 4/5; 163/400] START C=41, penalty=elasticnet................................\n",
      "[CV 4/5; 163/400] END ...C=41, penalty=elasticnet;, score=nan total time=   0.0s\n",
      "[CV 5/5; 163/400] START C=41, penalty=elasticnet................................\n",
      "[CV 5/5; 163/400] END ...C=41, penalty=elasticnet;, score=nan total time=   0.0s\n",
      "[CV 1/5; 164/400] START C=41, penalty=None......................................\n",
      "[CV 1/5; 164/400] END .......C=41, penalty=None;, score=0.909 total time=   0.0s\n",
      "[CV 2/5; 164/400] START C=41, penalty=None......................................\n",
      "[CV 2/5; 164/400] END .......C=41, penalty=None;, score=0.853 total time=   0.0s\n",
      "[CV 3/5; 164/400] START C=41, penalty=None......................................\n",
      "[CV 3/5; 164/400] END .......C=41, penalty=None;, score=0.941 total time=   0.0s\n",
      "[CV 4/5; 164/400] START C=41, penalty=None......................................\n",
      "[CV 4/5; 164/400] END .......C=41, penalty=None;, score=0.765 total time=   0.0s\n",
      "[CV 5/5; 164/400] START C=41, penalty=None......................................\n",
      "[CV 5/5; 164/400] END .......C=41, penalty=None;, score=0.824 total time=   0.0s\n",
      "[CV 1/5; 165/400] START C=42, penalty=l1........................................\n",
      "[CV 1/5; 165/400] END ...........C=42, penalty=l1;, score=nan total time=   0.0s\n",
      "[CV 2/5; 165/400] START C=42, penalty=l1........................................\n",
      "[CV 2/5; 165/400] END ...........C=42, penalty=l1;, score=nan total time=   0.0s\n",
      "[CV 3/5; 165/400] START C=42, penalty=l1........................................\n"
     ]
    },
    {
     "name": "stderr",
     "output_type": "stream",
     "text": [
      "C:\\Users\\Usuario\\anaconda3\\lib\\site-packages\\sklearn\\linear_model\\_logistic.py:1193: UserWarning:\n",
      "\n",
      "Setting penalty=None will ignore the C and l1_ratio parameters\n",
      "\n",
      "C:\\Users\\Usuario\\anaconda3\\lib\\site-packages\\sklearn\\linear_model\\_logistic.py:1193: UserWarning:\n",
      "\n",
      "Setting penalty=None will ignore the C and l1_ratio parameters\n",
      "\n",
      "C:\\Users\\Usuario\\anaconda3\\lib\\site-packages\\sklearn\\linear_model\\_logistic.py:1193: UserWarning:\n",
      "\n",
      "Setting penalty=None will ignore the C and l1_ratio parameters\n",
      "\n",
      "C:\\Users\\Usuario\\anaconda3\\lib\\site-packages\\sklearn\\linear_model\\_logistic.py:460: ConvergenceWarning:\n",
      "\n",
      "lbfgs failed to converge (status=1):\n",
      "STOP: TOTAL NO. of ITERATIONS REACHED LIMIT.\n",
      "\n",
      "Increase the number of iterations (max_iter) or scale the data as shown in:\n",
      "    https://scikit-learn.org/stable/modules/preprocessing.html\n",
      "Please also refer to the documentation for alternative solver options:\n",
      "    https://scikit-learn.org/stable/modules/linear_model.html#logistic-regression\n",
      "\n",
      "C:\\Users\\Usuario\\anaconda3\\lib\\site-packages\\sklearn\\linear_model\\_logistic.py:1193: UserWarning:\n",
      "\n",
      "Setting penalty=None will ignore the C and l1_ratio parameters\n",
      "\n",
      "C:\\Users\\Usuario\\anaconda3\\lib\\site-packages\\sklearn\\linear_model\\_logistic.py:1193: UserWarning:\n",
      "\n",
      "Setting penalty=None will ignore the C and l1_ratio parameters\n",
      "\n"
     ]
    },
    {
     "name": "stdout",
     "output_type": "stream",
     "text": [
      "[CV 3/5; 165/400] END ...........C=42, penalty=l1;, score=nan total time=   0.0s\n",
      "[CV 4/5; 165/400] START C=42, penalty=l1........................................\n",
      "[CV 4/5; 165/400] END ...........C=42, penalty=l1;, score=nan total time=   0.0s\n",
      "[CV 5/5; 165/400] START C=42, penalty=l1........................................\n",
      "[CV 5/5; 165/400] END ...........C=42, penalty=l1;, score=nan total time=   0.0s\n",
      "[CV 1/5; 166/400] START C=42, penalty=l2........................................\n",
      "[CV 1/5; 166/400] END .........C=42, penalty=l2;, score=0.909 total time=   0.0s\n",
      "[CV 2/5; 166/400] START C=42, penalty=l2........................................\n",
      "[CV 2/5; 166/400] END .........C=42, penalty=l2;, score=0.824 total time=   0.0s\n",
      "[CV 3/5; 166/400] START C=42, penalty=l2........................................\n",
      "[CV 3/5; 166/400] END .........C=42, penalty=l2;, score=0.912 total time=   0.0s\n",
      "[CV 4/5; 166/400] START C=42, penalty=l2........................................\n",
      "[CV 4/5; 166/400] END .........C=42, penalty=l2;, score=0.765 total time=   0.0s\n",
      "[CV 5/5; 166/400] START C=42, penalty=l2........................................\n",
      "[CV 5/5; 166/400] END .........C=42, penalty=l2;, score=0.824 total time=   0.0s\n",
      "[CV 1/5; 167/400] START C=42, penalty=elasticnet................................\n",
      "[CV 1/5; 167/400] END ...C=42, penalty=elasticnet;, score=nan total time=   0.0s\n",
      "[CV 2/5; 167/400] START C=42, penalty=elasticnet................................\n",
      "[CV 2/5; 167/400] END ...C=42, penalty=elasticnet;, score=nan total time=   0.0s\n",
      "[CV 3/5; 167/400] START C=42, penalty=elasticnet................................\n",
      "[CV 3/5; 167/400] END ...C=42, penalty=elasticnet;, score=nan total time=   0.0s\n",
      "[CV 4/5; 167/400] START C=42, penalty=elasticnet................................\n",
      "[CV 4/5; 167/400] END ...C=42, penalty=elasticnet;, score=nan total time=   0.0s\n",
      "[CV 5/5; 167/400] START C=42, penalty=elasticnet................................\n",
      "[CV 5/5; 167/400] END ...C=42, penalty=elasticnet;, score=nan total time=   0.0s\n",
      "[CV 1/5; 168/400] START C=42, penalty=None......................................\n"
     ]
    },
    {
     "name": "stderr",
     "output_type": "stream",
     "text": [
      "C:\\Users\\Usuario\\anaconda3\\lib\\site-packages\\sklearn\\linear_model\\_logistic.py:1193: UserWarning:\n",
      "\n",
      "Setting penalty=None will ignore the C and l1_ratio parameters\n",
      "\n",
      "C:\\Users\\Usuario\\anaconda3\\lib\\site-packages\\sklearn\\linear_model\\_logistic.py:1193: UserWarning:\n",
      "\n",
      "Setting penalty=None will ignore the C and l1_ratio parameters\n",
      "\n",
      "C:\\Users\\Usuario\\anaconda3\\lib\\site-packages\\sklearn\\linear_model\\_logistic.py:1193: UserWarning:\n",
      "\n",
      "Setting penalty=None will ignore the C and l1_ratio parameters\n",
      "\n",
      "C:\\Users\\Usuario\\anaconda3\\lib\\site-packages\\sklearn\\linear_model\\_logistic.py:460: ConvergenceWarning:\n",
      "\n",
      "lbfgs failed to converge (status=1):\n",
      "STOP: TOTAL NO. of ITERATIONS REACHED LIMIT.\n",
      "\n",
      "Increase the number of iterations (max_iter) or scale the data as shown in:\n",
      "    https://scikit-learn.org/stable/modules/preprocessing.html\n",
      "Please also refer to the documentation for alternative solver options:\n",
      "    https://scikit-learn.org/stable/modules/linear_model.html#logistic-regression\n",
      "\n",
      "C:\\Users\\Usuario\\anaconda3\\lib\\site-packages\\sklearn\\linear_model\\_logistic.py:1193: UserWarning:\n",
      "\n",
      "Setting penalty=None will ignore the C and l1_ratio parameters\n",
      "\n",
      "C:\\Users\\Usuario\\anaconda3\\lib\\site-packages\\sklearn\\linear_model\\_logistic.py:1193: UserWarning:\n",
      "\n",
      "Setting penalty=None will ignore the C and l1_ratio parameters\n",
      "\n",
      "C:\\Users\\Usuario\\anaconda3\\lib\\site-packages\\sklearn\\linear_model\\_logistic.py:460: ConvergenceWarning:\n",
      "\n",
      "lbfgs failed to converge (status=1):\n",
      "STOP: TOTAL NO. of ITERATIONS REACHED LIMIT.\n",
      "\n",
      "Increase the number of iterations (max_iter) or scale the data as shown in:\n",
      "    https://scikit-learn.org/stable/modules/preprocessing.html\n",
      "Please also refer to the documentation for alternative solver options:\n",
      "    https://scikit-learn.org/stable/modules/linear_model.html#logistic-regression\n",
      "\n"
     ]
    },
    {
     "name": "stdout",
     "output_type": "stream",
     "text": [
      "[CV 1/5; 168/400] END .......C=42, penalty=None;, score=0.909 total time=   0.0s\n",
      "[CV 2/5; 168/400] START C=42, penalty=None......................................\n",
      "[CV 2/5; 168/400] END .......C=42, penalty=None;, score=0.853 total time=   0.0s\n",
      "[CV 3/5; 168/400] START C=42, penalty=None......................................\n",
      "[CV 3/5; 168/400] END .......C=42, penalty=None;, score=0.941 total time=   0.0s\n",
      "[CV 4/5; 168/400] START C=42, penalty=None......................................\n",
      "[CV 4/5; 168/400] END .......C=42, penalty=None;, score=0.765 total time=   0.0s\n",
      "[CV 5/5; 168/400] START C=42, penalty=None......................................\n",
      "[CV 5/5; 168/400] END .......C=42, penalty=None;, score=0.824 total time=   0.0s\n",
      "[CV 1/5; 169/400] START C=43, penalty=l1........................................\n",
      "[CV 1/5; 169/400] END ...........C=43, penalty=l1;, score=nan total time=   0.0s\n",
      "[CV 2/5; 169/400] START C=43, penalty=l1........................................\n",
      "[CV 2/5; 169/400] END ...........C=43, penalty=l1;, score=nan total time=   0.0s\n",
      "[CV 3/5; 169/400] START C=43, penalty=l1........................................\n",
      "[CV 3/5; 169/400] END ...........C=43, penalty=l1;, score=nan total time=   0.0s\n",
      "[CV 4/5; 169/400] START C=43, penalty=l1........................................\n",
      "[CV 4/5; 169/400] END ...........C=43, penalty=l1;, score=nan total time=   0.0s\n",
      "[CV 5/5; 169/400] START C=43, penalty=l1........................................\n",
      "[CV 5/5; 169/400] END ...........C=43, penalty=l1;, score=nan total time=   0.0s\n",
      "[CV 1/5; 170/400] START C=43, penalty=l2........................................\n",
      "[CV 1/5; 170/400] END .........C=43, penalty=l2;, score=0.909 total time=   0.0s\n",
      "[CV 2/5; 170/400] START C=43, penalty=l2........................................\n"
     ]
    },
    {
     "name": "stderr",
     "output_type": "stream",
     "text": [
      "C:\\Users\\Usuario\\anaconda3\\lib\\site-packages\\sklearn\\linear_model\\_logistic.py:460: ConvergenceWarning:\n",
      "\n",
      "lbfgs failed to converge (status=1):\n",
      "STOP: TOTAL NO. of ITERATIONS REACHED LIMIT.\n",
      "\n",
      "Increase the number of iterations (max_iter) or scale the data as shown in:\n",
      "    https://scikit-learn.org/stable/modules/preprocessing.html\n",
      "Please also refer to the documentation for alternative solver options:\n",
      "    https://scikit-learn.org/stable/modules/linear_model.html#logistic-regression\n",
      "\n",
      "C:\\Users\\Usuario\\anaconda3\\lib\\site-packages\\sklearn\\linear_model\\_logistic.py:1193: UserWarning:\n",
      "\n",
      "Setting penalty=None will ignore the C and l1_ratio parameters\n",
      "\n",
      "C:\\Users\\Usuario\\anaconda3\\lib\\site-packages\\sklearn\\linear_model\\_logistic.py:1193: UserWarning:\n",
      "\n",
      "Setting penalty=None will ignore the C and l1_ratio parameters\n",
      "\n",
      "C:\\Users\\Usuario\\anaconda3\\lib\\site-packages\\sklearn\\linear_model\\_logistic.py:1193: UserWarning:\n",
      "\n",
      "Setting penalty=None will ignore the C and l1_ratio parameters\n",
      "\n",
      "C:\\Users\\Usuario\\anaconda3\\lib\\site-packages\\sklearn\\linear_model\\_logistic.py:460: ConvergenceWarning:\n",
      "\n",
      "lbfgs failed to converge (status=1):\n",
      "STOP: TOTAL NO. of ITERATIONS REACHED LIMIT.\n",
      "\n",
      "Increase the number of iterations (max_iter) or scale the data as shown in:\n",
      "    https://scikit-learn.org/stable/modules/preprocessing.html\n",
      "Please also refer to the documentation for alternative solver options:\n",
      "    https://scikit-learn.org/stable/modules/linear_model.html#logistic-regression\n",
      "\n",
      "C:\\Users\\Usuario\\anaconda3\\lib\\site-packages\\sklearn\\linear_model\\_logistic.py:1193: UserWarning:\n",
      "\n",
      "Setting penalty=None will ignore the C and l1_ratio parameters\n",
      "\n"
     ]
    },
    {
     "name": "stdout",
     "output_type": "stream",
     "text": [
      "[CV 2/5; 170/400] END .........C=43, penalty=l2;, score=0.824 total time=   0.0s\n",
      "[CV 3/5; 170/400] START C=43, penalty=l2........................................\n",
      "[CV 3/5; 170/400] END .........C=43, penalty=l2;, score=0.941 total time=   0.0s\n",
      "[CV 4/5; 170/400] START C=43, penalty=l2........................................\n",
      "[CV 4/5; 170/400] END .........C=43, penalty=l2;, score=0.765 total time=   0.0s\n",
      "[CV 5/5; 170/400] START C=43, penalty=l2........................................\n",
      "[CV 5/5; 170/400] END .........C=43, penalty=l2;, score=0.824 total time=   0.0s\n",
      "[CV 1/5; 171/400] START C=43, penalty=elasticnet................................\n",
      "[CV 1/5; 171/400] END ...C=43, penalty=elasticnet;, score=nan total time=   0.0s\n",
      "[CV 2/5; 171/400] START C=43, penalty=elasticnet................................\n",
      "[CV 2/5; 171/400] END ...C=43, penalty=elasticnet;, score=nan total time=   0.0s\n",
      "[CV 3/5; 171/400] START C=43, penalty=elasticnet................................\n",
      "[CV 3/5; 171/400] END ...C=43, penalty=elasticnet;, score=nan total time=   0.0s\n",
      "[CV 4/5; 171/400] START C=43, penalty=elasticnet................................\n",
      "[CV 4/5; 171/400] END ...C=43, penalty=elasticnet;, score=nan total time=   0.0s\n",
      "[CV 5/5; 171/400] START C=43, penalty=elasticnet................................\n",
      "[CV 5/5; 171/400] END ...C=43, penalty=elasticnet;, score=nan total time=   0.0s\n",
      "[CV 1/5; 172/400] START C=43, penalty=None......................................\n",
      "[CV 1/5; 172/400] END .......C=43, penalty=None;, score=0.909 total time=   0.0s\n",
      "[CV 2/5; 172/400] START C=43, penalty=None......................................\n",
      "[CV 2/5; 172/400] END .......C=43, penalty=None;, score=0.853 total time=   0.0s\n",
      "[CV 3/5; 172/400] START C=43, penalty=None......................................\n",
      "[CV 3/5; 172/400] END .......C=43, penalty=None;, score=0.941 total time=   0.0s\n",
      "[CV 4/5; 172/400] START C=43, penalty=None......................................\n",
      "[CV 4/5; 172/400] END .......C=43, penalty=None;, score=0.765 total time=   0.0s\n"
     ]
    },
    {
     "name": "stderr",
     "output_type": "stream",
     "text": [
      "C:\\Users\\Usuario\\anaconda3\\lib\\site-packages\\sklearn\\linear_model\\_logistic.py:1193: UserWarning:\n",
      "\n",
      "Setting penalty=None will ignore the C and l1_ratio parameters\n",
      "\n"
     ]
    },
    {
     "name": "stdout",
     "output_type": "stream",
     "text": [
      "[CV 5/5; 172/400] START C=43, penalty=None......................................\n",
      "[CV 5/5; 172/400] END .......C=43, penalty=None;, score=0.824 total time=   0.0s\n",
      "[CV 1/5; 173/400] START C=44, penalty=l1........................................\n",
      "[CV 1/5; 173/400] END ...........C=44, penalty=l1;, score=nan total time=   0.0s\n",
      "[CV 2/5; 173/400] START C=44, penalty=l1........................................\n",
      "[CV 2/5; 173/400] END ...........C=44, penalty=l1;, score=nan total time=   0.0s\n",
      "[CV 3/5; 173/400] START C=44, penalty=l1........................................\n",
      "[CV 3/5; 173/400] END ...........C=44, penalty=l1;, score=nan total time=   0.0s\n",
      "[CV 4/5; 173/400] START C=44, penalty=l1........................................\n",
      "[CV 4/5; 173/400] END ...........C=44, penalty=l1;, score=nan total time=   0.0s\n",
      "[CV 5/5; 173/400] START C=44, penalty=l1........................................\n",
      "[CV 5/5; 173/400] END ...........C=44, penalty=l1;, score=nan total time=   0.0s\n",
      "[CV 1/5; 174/400] START C=44, penalty=l2........................................\n",
      "[CV 1/5; 174/400] END .........C=44, penalty=l2;, score=0.909 total time=   0.0s\n",
      "[CV 2/5; 174/400] START C=44, penalty=l2........................................\n",
      "[CV 2/5; 174/400] END .........C=44, penalty=l2;, score=0.824 total time=   0.0s\n",
      "[CV 3/5; 174/400] START C=44, penalty=l2........................................\n",
      "[CV 3/5; 174/400] END .........C=44, penalty=l2;, score=0.941 total time=   0.0s\n",
      "[CV 4/5; 174/400] START C=44, penalty=l2........................................\n",
      "[CV 4/5; 174/400] END .........C=44, penalty=l2;, score=0.765 total time=   0.0s\n",
      "[CV 5/5; 174/400] START C=44, penalty=l2........................................\n",
      "[CV 5/5; 174/400] END .........C=44, penalty=l2;, score=0.824 total time=   0.0s\n",
      "[CV 1/5; 175/400] START C=44, penalty=elasticnet................................\n",
      "[CV 1/5; 175/400] END ...C=44, penalty=elasticnet;, score=nan total time=   0.0s\n",
      "[CV 2/5; 175/400] START C=44, penalty=elasticnet................................\n",
      "[CV 2/5; 175/400] END ...C=44, penalty=elasticnet;, score=nan total time=   0.0s\n",
      "[CV 3/5; 175/400] START C=44, penalty=elasticnet................................\n",
      "[CV 3/5; 175/400] END ...C=44, penalty=elasticnet;, score=nan total time=   0.0s\n",
      "[CV 4/5; 175/400] START C=44, penalty=elasticnet................................\n",
      "[CV 4/5; 175/400] END ...C=44, penalty=elasticnet;, score=nan total time=   0.0s\n",
      "[CV 5/5; 175/400] START C=44, penalty=elasticnet................................\n",
      "[CV 5/5; 175/400] END ...C=44, penalty=elasticnet;, score=nan total time=   0.0s\n",
      "[CV 1/5; 176/400] START C=44, penalty=None......................................\n",
      "[CV 1/5; 176/400] END .......C=44, penalty=None;, score=0.909 total time=   0.0s\n",
      "[CV 2/5; 176/400] START C=44, penalty=None......................................\n",
      "[CV 2/5; 176/400] END .......C=44, penalty=None;, score=0.853 total time=   0.0s\n",
      "[CV 3/5; 176/400] START C=44, penalty=None......................................\n",
      "[CV 3/5; 176/400] END .......C=44, penalty=None;, score=0.941 total time=   0.0s\n",
      "[CV 4/5; 176/400] START C=44, penalty=None......................................\n",
      "[CV 4/5; 176/400] END .......C=44, penalty=None;, score=0.765 total time=   0.0s\n",
      "[CV 5/5; 176/400] START C=44, penalty=None......................................\n",
      "[CV 5/5; 176/400] END .......C=44, penalty=None;, score=0.824 total time=   0.0s\n",
      "[CV 1/5; 177/400] START C=45, penalty=l1........................................\n",
      "[CV 1/5; 177/400] END ...........C=45, penalty=l1;, score=nan total time=   0.0s\n",
      "[CV 2/5; 177/400] START C=45, penalty=l1........................................\n",
      "[CV 2/5; 177/400] END ...........C=45, penalty=l1;, score=nan total time=   0.0s\n",
      "[CV 3/5; 177/400] START C=45, penalty=l1........................................\n",
      "[CV 3/5; 177/400] END ...........C=45, penalty=l1;, score=nan total time=   0.0s\n",
      "[CV 4/5; 177/400] START C=45, penalty=l1........................................\n",
      "[CV 4/5; 177/400] END ...........C=45, penalty=l1;, score=nan total time=   0.0s\n",
      "[CV 5/5; 177/400] START C=45, penalty=l1........................................\n",
      "[CV 5/5; 177/400] END ...........C=45, penalty=l1;, score=nan total time=   0.0s\n",
      "[CV 1/5; 178/400] START C=45, penalty=l2........................................\n",
      "[CV 1/5; 178/400] END .........C=45, penalty=l2;, score=0.909 total time=   0.0s\n",
      "[CV 2/5; 178/400] START C=45, penalty=l2........................................\n"
     ]
    },
    {
     "name": "stderr",
     "output_type": "stream",
     "text": [
      "C:\\Users\\Usuario\\anaconda3\\lib\\site-packages\\sklearn\\linear_model\\_logistic.py:1193: UserWarning:\n",
      "\n",
      "Setting penalty=None will ignore the C and l1_ratio parameters\n",
      "\n",
      "C:\\Users\\Usuario\\anaconda3\\lib\\site-packages\\sklearn\\linear_model\\_logistic.py:1193: UserWarning:\n",
      "\n",
      "Setting penalty=None will ignore the C and l1_ratio parameters\n",
      "\n",
      "C:\\Users\\Usuario\\anaconda3\\lib\\site-packages\\sklearn\\linear_model\\_logistic.py:1193: UserWarning:\n",
      "\n",
      "Setting penalty=None will ignore the C and l1_ratio parameters\n",
      "\n",
      "C:\\Users\\Usuario\\anaconda3\\lib\\site-packages\\sklearn\\linear_model\\_logistic.py:460: ConvergenceWarning:\n",
      "\n",
      "lbfgs failed to converge (status=1):\n",
      "STOP: TOTAL NO. of ITERATIONS REACHED LIMIT.\n",
      "\n",
      "Increase the number of iterations (max_iter) or scale the data as shown in:\n",
      "    https://scikit-learn.org/stable/modules/preprocessing.html\n",
      "Please also refer to the documentation for alternative solver options:\n",
      "    https://scikit-learn.org/stable/modules/linear_model.html#logistic-regression\n",
      "\n",
      "C:\\Users\\Usuario\\anaconda3\\lib\\site-packages\\sklearn\\linear_model\\_logistic.py:1193: UserWarning:\n",
      "\n",
      "Setting penalty=None will ignore the C and l1_ratio parameters\n",
      "\n",
      "C:\\Users\\Usuario\\anaconda3\\lib\\site-packages\\sklearn\\linear_model\\_logistic.py:1193: UserWarning:\n",
      "\n",
      "Setting penalty=None will ignore the C and l1_ratio parameters\n",
      "\n"
     ]
    },
    {
     "name": "stdout",
     "output_type": "stream",
     "text": [
      "[CV 2/5; 178/400] END .........C=45, penalty=l2;, score=0.824 total time=   0.0s\n",
      "[CV 3/5; 178/400] START C=45, penalty=l2........................................\n",
      "[CV 3/5; 178/400] END .........C=45, penalty=l2;, score=0.941 total time=   0.0s\n",
      "[CV 4/5; 178/400] START C=45, penalty=l2........................................\n",
      "[CV 4/5; 178/400] END .........C=45, penalty=l2;, score=0.765 total time=   0.0s\n",
      "[CV 5/5; 178/400] START C=45, penalty=l2........................................\n",
      "[CV 5/5; 178/400] END .........C=45, penalty=l2;, score=0.824 total time=   0.0s\n",
      "[CV 1/5; 179/400] START C=45, penalty=elasticnet................................\n",
      "[CV 1/5; 179/400] END ...C=45, penalty=elasticnet;, score=nan total time=   0.0s\n",
      "[CV 2/5; 179/400] START C=45, penalty=elasticnet................................\n",
      "[CV 2/5; 179/400] END ...C=45, penalty=elasticnet;, score=nan total time=   0.0s\n",
      "[CV 3/5; 179/400] START C=45, penalty=elasticnet................................\n",
      "[CV 3/5; 179/400] END ...C=45, penalty=elasticnet;, score=nan total time=   0.0s\n",
      "[CV 4/5; 179/400] START C=45, penalty=elasticnet................................\n",
      "[CV 4/5; 179/400] END ...C=45, penalty=elasticnet;, score=nan total time=   0.0s\n",
      "[CV 5/5; 179/400] START C=45, penalty=elasticnet................................\n",
      "[CV 5/5; 179/400] END ...C=45, penalty=elasticnet;, score=nan total time=   0.0s\n",
      "[CV 1/5; 180/400] START C=45, penalty=None......................................\n",
      "[CV 1/5; 180/400] END .......C=45, penalty=None;, score=0.909 total time=   0.0s\n",
      "[CV 2/5; 180/400] START C=45, penalty=None......................................\n",
      "[CV 2/5; 180/400] END .......C=45, penalty=None;, score=0.853 total time=   0.0s\n",
      "[CV 3/5; 180/400] START C=45, penalty=None......................................\n"
     ]
    },
    {
     "name": "stderr",
     "output_type": "stream",
     "text": [
      "C:\\Users\\Usuario\\anaconda3\\lib\\site-packages\\sklearn\\linear_model\\_logistic.py:1193: UserWarning:\n",
      "\n",
      "Setting penalty=None will ignore the C and l1_ratio parameters\n",
      "\n",
      "C:\\Users\\Usuario\\anaconda3\\lib\\site-packages\\sklearn\\linear_model\\_logistic.py:1193: UserWarning:\n",
      "\n",
      "Setting penalty=None will ignore the C and l1_ratio parameters\n",
      "\n",
      "C:\\Users\\Usuario\\anaconda3\\lib\\site-packages\\sklearn\\linear_model\\_logistic.py:1193: UserWarning:\n",
      "\n",
      "Setting penalty=None will ignore the C and l1_ratio parameters\n",
      "\n",
      "C:\\Users\\Usuario\\anaconda3\\lib\\site-packages\\sklearn\\linear_model\\_logistic.py:460: ConvergenceWarning:\n",
      "\n",
      "lbfgs failed to converge (status=1):\n",
      "STOP: TOTAL NO. of ITERATIONS REACHED LIMIT.\n",
      "\n",
      "Increase the number of iterations (max_iter) or scale the data as shown in:\n",
      "    https://scikit-learn.org/stable/modules/preprocessing.html\n",
      "Please also refer to the documentation for alternative solver options:\n",
      "    https://scikit-learn.org/stable/modules/linear_model.html#logistic-regression\n",
      "\n",
      "C:\\Users\\Usuario\\anaconda3\\lib\\site-packages\\sklearn\\linear_model\\_logistic.py:1193: UserWarning:\n",
      "\n",
      "Setting penalty=None will ignore the C and l1_ratio parameters\n",
      "\n",
      "C:\\Users\\Usuario\\anaconda3\\lib\\site-packages\\sklearn\\linear_model\\_logistic.py:1193: UserWarning:\n",
      "\n",
      "Setting penalty=None will ignore the C and l1_ratio parameters\n",
      "\n",
      "C:\\Users\\Usuario\\anaconda3\\lib\\site-packages\\sklearn\\linear_model\\_logistic.py:460: ConvergenceWarning:\n",
      "\n",
      "lbfgs failed to converge (status=1):\n",
      "STOP: TOTAL NO. of ITERATIONS REACHED LIMIT.\n",
      "\n",
      "Increase the number of iterations (max_iter) or scale the data as shown in:\n",
      "    https://scikit-learn.org/stable/modules/preprocessing.html\n",
      "Please also refer to the documentation for alternative solver options:\n",
      "    https://scikit-learn.org/stable/modules/linear_model.html#logistic-regression\n",
      "\n"
     ]
    },
    {
     "name": "stdout",
     "output_type": "stream",
     "text": [
      "[CV 3/5; 180/400] END .......C=45, penalty=None;, score=0.941 total time=   0.0s\n",
      "[CV 4/5; 180/400] START C=45, penalty=None......................................\n",
      "[CV 4/5; 180/400] END .......C=45, penalty=None;, score=0.765 total time=   0.0s\n",
      "[CV 5/5; 180/400] START C=45, penalty=None......................................\n",
      "[CV 5/5; 180/400] END .......C=45, penalty=None;, score=0.824 total time=   0.0s\n",
      "[CV 1/5; 181/400] START C=46, penalty=l1........................................\n",
      "[CV 1/5; 181/400] END ...........C=46, penalty=l1;, score=nan total time=   0.0s\n",
      "[CV 2/5; 181/400] START C=46, penalty=l1........................................\n",
      "[CV 2/5; 181/400] END ...........C=46, penalty=l1;, score=nan total time=   0.0s\n",
      "[CV 3/5; 181/400] START C=46, penalty=l1........................................\n",
      "[CV 3/5; 181/400] END ...........C=46, penalty=l1;, score=nan total time=   0.0s\n",
      "[CV 4/5; 181/400] START C=46, penalty=l1........................................\n",
      "[CV 4/5; 181/400] END ...........C=46, penalty=l1;, score=nan total time=   0.0s\n",
      "[CV 5/5; 181/400] START C=46, penalty=l1........................................\n",
      "[CV 5/5; 181/400] END ...........C=46, penalty=l1;, score=nan total time=   0.0s\n",
      "[CV 1/5; 182/400] START C=46, penalty=l2........................................\n",
      "[CV 1/5; 182/400] END .........C=46, penalty=l2;, score=0.909 total time=   0.0s\n",
      "[CV 2/5; 182/400] START C=46, penalty=l2........................................\n",
      "[CV 2/5; 182/400] END .........C=46, penalty=l2;, score=0.824 total time=   0.0s\n",
      "[CV 3/5; 182/400] START C=46, penalty=l2........................................\n",
      "[CV 3/5; 182/400] END .........C=46, penalty=l2;, score=0.941 total time=   0.0s\n",
      "[CV 4/5; 182/400] START C=46, penalty=l2........................................\n",
      "[CV 4/5; 182/400] END .........C=46, penalty=l2;, score=0.765 total time=   0.0s\n",
      "[CV 5/5; 182/400] START C=46, penalty=l2........................................\n",
      "[CV 5/5; 182/400] END .........C=46, penalty=l2;, score=0.824 total time=   0.0s\n",
      "[CV 1/5; 183/400] START C=46, penalty=elasticnet................................\n",
      "[CV 1/5; 183/400] END ...C=46, penalty=elasticnet;, score=nan total time=   0.0s\n",
      "[CV 2/5; 183/400] START C=46, penalty=elasticnet................................\n",
      "[CV 2/5; 183/400] END ...C=46, penalty=elasticnet;, score=nan total time=   0.0s\n",
      "[CV 3/5; 183/400] START C=46, penalty=elasticnet................................\n",
      "[CV 3/5; 183/400] END ...C=46, penalty=elasticnet;, score=nan total time=   0.0s\n",
      "[CV 4/5; 183/400] START C=46, penalty=elasticnet................................\n",
      "[CV 4/5; 183/400] END ...C=46, penalty=elasticnet;, score=nan total time=   0.0s\n",
      "[CV 5/5; 183/400] START C=46, penalty=elasticnet................................\n",
      "[CV 5/5; 183/400] END ...C=46, penalty=elasticnet;, score=nan total time=   0.0s\n",
      "[CV 1/5; 184/400] START C=46, penalty=None......................................\n",
      "[CV 1/5; 184/400] END .......C=46, penalty=None;, score=0.909 total time=   0.0s\n",
      "[CV 2/5; 184/400] START C=46, penalty=None......................................\n",
      "[CV 2/5; 184/400] END .......C=46, penalty=None;, score=0.853 total time=   0.0s\n",
      "[CV 3/5; 184/400] START C=46, penalty=None......................................\n",
      "[CV 3/5; 184/400] END .......C=46, penalty=None;, score=0.941 total time=   0.0s\n",
      "[CV 4/5; 184/400] START C=46, penalty=None......................................\n",
      "[CV 4/5; 184/400] END .......C=46, penalty=None;, score=0.765 total time=   0.0s\n",
      "[CV 5/5; 184/400] START C=46, penalty=None......................................\n",
      "[CV 5/5; 184/400] END .......C=46, penalty=None;, score=0.824 total time=   0.0s\n",
      "[CV 1/5; 185/400] START C=47, penalty=l1........................................\n"
     ]
    },
    {
     "name": "stderr",
     "output_type": "stream",
     "text": [
      "C:\\Users\\Usuario\\anaconda3\\lib\\site-packages\\sklearn\\linear_model\\_logistic.py:1193: UserWarning:\n",
      "\n",
      "Setting penalty=None will ignore the C and l1_ratio parameters\n",
      "\n",
      "C:\\Users\\Usuario\\anaconda3\\lib\\site-packages\\sklearn\\linear_model\\_logistic.py:1193: UserWarning:\n",
      "\n",
      "Setting penalty=None will ignore the C and l1_ratio parameters\n",
      "\n",
      "C:\\Users\\Usuario\\anaconda3\\lib\\site-packages\\sklearn\\linear_model\\_logistic.py:1193: UserWarning:\n",
      "\n",
      "Setting penalty=None will ignore the C and l1_ratio parameters\n",
      "\n",
      "C:\\Users\\Usuario\\anaconda3\\lib\\site-packages\\sklearn\\linear_model\\_logistic.py:460: ConvergenceWarning:\n",
      "\n",
      "lbfgs failed to converge (status=1):\n",
      "STOP: TOTAL NO. of ITERATIONS REACHED LIMIT.\n",
      "\n",
      "Increase the number of iterations (max_iter) or scale the data as shown in:\n",
      "    https://scikit-learn.org/stable/modules/preprocessing.html\n",
      "Please also refer to the documentation for alternative solver options:\n",
      "    https://scikit-learn.org/stable/modules/linear_model.html#logistic-regression\n",
      "\n",
      "C:\\Users\\Usuario\\anaconda3\\lib\\site-packages\\sklearn\\linear_model\\_logistic.py:1193: UserWarning:\n",
      "\n",
      "Setting penalty=None will ignore the C and l1_ratio parameters\n",
      "\n",
      "C:\\Users\\Usuario\\anaconda3\\lib\\site-packages\\sklearn\\linear_model\\_logistic.py:1193: UserWarning:\n",
      "\n",
      "Setting penalty=None will ignore the C and l1_ratio parameters\n",
      "\n"
     ]
    },
    {
     "name": "stdout",
     "output_type": "stream",
     "text": [
      "[CV 1/5; 185/400] END ...........C=47, penalty=l1;, score=nan total time=   0.0s\n",
      "[CV 2/5; 185/400] START C=47, penalty=l1........................................\n",
      "[CV 2/5; 185/400] END ...........C=47, penalty=l1;, score=nan total time=   0.0s\n",
      "[CV 3/5; 185/400] START C=47, penalty=l1........................................\n",
      "[CV 3/5; 185/400] END ...........C=47, penalty=l1;, score=nan total time=   0.0s\n",
      "[CV 4/5; 185/400] START C=47, penalty=l1........................................\n",
      "[CV 4/5; 185/400] END ...........C=47, penalty=l1;, score=nan total time=   0.0s\n",
      "[CV 5/5; 185/400] START C=47, penalty=l1........................................\n",
      "[CV 5/5; 185/400] END ...........C=47, penalty=l1;, score=nan total time=   0.0s\n",
      "[CV 1/5; 186/400] START C=47, penalty=l2........................................\n",
      "[CV 1/5; 186/400] END .........C=47, penalty=l2;, score=0.909 total time=   0.0s\n",
      "[CV 2/5; 186/400] START C=47, penalty=l2........................................\n",
      "[CV 2/5; 186/400] END .........C=47, penalty=l2;, score=0.824 total time=   0.0s\n",
      "[CV 3/5; 186/400] START C=47, penalty=l2........................................\n",
      "[CV 3/5; 186/400] END .........C=47, penalty=l2;, score=0.941 total time=   0.0s\n",
      "[CV 4/5; 186/400] START C=47, penalty=l2........................................\n",
      "[CV 4/5; 186/400] END .........C=47, penalty=l2;, score=0.765 total time=   0.0s\n",
      "[CV 5/5; 186/400] START C=47, penalty=l2........................................\n",
      "[CV 5/5; 186/400] END .........C=47, penalty=l2;, score=0.824 total time=   0.0s\n",
      "[CV 1/5; 187/400] START C=47, penalty=elasticnet................................\n",
      "[CV 1/5; 187/400] END ...C=47, penalty=elasticnet;, score=nan total time=   0.0s\n",
      "[CV 2/5; 187/400] START C=47, penalty=elasticnet................................\n",
      "[CV 2/5; 187/400] END ...C=47, penalty=elasticnet;, score=nan total time=   0.0s\n",
      "[CV 3/5; 187/400] START C=47, penalty=elasticnet................................\n",
      "[CV 3/5; 187/400] END ...C=47, penalty=elasticnet;, score=nan total time=   0.0s\n",
      "[CV 4/5; 187/400] START C=47, penalty=elasticnet................................\n",
      "[CV 4/5; 187/400] END ...C=47, penalty=elasticnet;, score=nan total time=   0.0s\n",
      "[CV 5/5; 187/400] START C=47, penalty=elasticnet................................\n",
      "[CV 5/5; 187/400] END ...C=47, penalty=elasticnet;, score=nan total time=   0.0s\n",
      "[CV 1/5; 188/400] START C=47, penalty=None......................................\n"
     ]
    },
    {
     "name": "stderr",
     "output_type": "stream",
     "text": [
      "C:\\Users\\Usuario\\anaconda3\\lib\\site-packages\\sklearn\\linear_model\\_logistic.py:1193: UserWarning:\n",
      "\n",
      "Setting penalty=None will ignore the C and l1_ratio parameters\n",
      "\n",
      "C:\\Users\\Usuario\\anaconda3\\lib\\site-packages\\sklearn\\linear_model\\_logistic.py:1193: UserWarning:\n",
      "\n",
      "Setting penalty=None will ignore the C and l1_ratio parameters\n",
      "\n",
      "C:\\Users\\Usuario\\anaconda3\\lib\\site-packages\\sklearn\\linear_model\\_logistic.py:1193: UserWarning:\n",
      "\n",
      "Setting penalty=None will ignore the C and l1_ratio parameters\n",
      "\n",
      "C:\\Users\\Usuario\\anaconda3\\lib\\site-packages\\sklearn\\linear_model\\_logistic.py:460: ConvergenceWarning:\n",
      "\n",
      "lbfgs failed to converge (status=1):\n",
      "STOP: TOTAL NO. of ITERATIONS REACHED LIMIT.\n",
      "\n",
      "Increase the number of iterations (max_iter) or scale the data as shown in:\n",
      "    https://scikit-learn.org/stable/modules/preprocessing.html\n",
      "Please also refer to the documentation for alternative solver options:\n",
      "    https://scikit-learn.org/stable/modules/linear_model.html#logistic-regression\n",
      "\n",
      "C:\\Users\\Usuario\\anaconda3\\lib\\site-packages\\sklearn\\linear_model\\_logistic.py:1193: UserWarning:\n",
      "\n",
      "Setting penalty=None will ignore the C and l1_ratio parameters\n",
      "\n",
      "C:\\Users\\Usuario\\anaconda3\\lib\\site-packages\\sklearn\\linear_model\\_logistic.py:1193: UserWarning:\n",
      "\n",
      "Setting penalty=None will ignore the C and l1_ratio parameters\n",
      "\n"
     ]
    },
    {
     "name": "stdout",
     "output_type": "stream",
     "text": [
      "[CV 1/5; 188/400] END .......C=47, penalty=None;, score=0.909 total time=   0.0s\n",
      "[CV 2/5; 188/400] START C=47, penalty=None......................................\n",
      "[CV 2/5; 188/400] END .......C=47, penalty=None;, score=0.853 total time=   0.0s\n",
      "[CV 3/5; 188/400] START C=47, penalty=None......................................\n",
      "[CV 3/5; 188/400] END .......C=47, penalty=None;, score=0.941 total time=   0.0s\n",
      "[CV 4/5; 188/400] START C=47, penalty=None......................................\n",
      "[CV 4/5; 188/400] END .......C=47, penalty=None;, score=0.765 total time=   0.0s\n",
      "[CV 5/5; 188/400] START C=47, penalty=None......................................\n",
      "[CV 5/5; 188/400] END .......C=47, penalty=None;, score=0.824 total time=   0.0s\n",
      "[CV 1/5; 189/400] START C=48, penalty=l1........................................\n",
      "[CV 1/5; 189/400] END ...........C=48, penalty=l1;, score=nan total time=   0.0s\n",
      "[CV 2/5; 189/400] START C=48, penalty=l1........................................\n",
      "[CV 2/5; 189/400] END ...........C=48, penalty=l1;, score=nan total time=   0.0s\n",
      "[CV 3/5; 189/400] START C=48, penalty=l1........................................\n",
      "[CV 3/5; 189/400] END ...........C=48, penalty=l1;, score=nan total time=   0.0s\n",
      "[CV 4/5; 189/400] START C=48, penalty=l1........................................\n",
      "[CV 4/5; 189/400] END ...........C=48, penalty=l1;, score=nan total time=   0.0s\n",
      "[CV 5/5; 189/400] START C=48, penalty=l1........................................\n",
      "[CV 5/5; 189/400] END ...........C=48, penalty=l1;, score=nan total time=   0.0s\n",
      "[CV 1/5; 190/400] START C=48, penalty=l2........................................\n",
      "[CV 1/5; 190/400] END .........C=48, penalty=l2;, score=0.909 total time=   0.0s\n",
      "[CV 2/5; 190/400] START C=48, penalty=l2........................................\n",
      "[CV 2/5; 190/400] END .........C=48, penalty=l2;, score=0.824 total time=   0.0s\n",
      "[CV 3/5; 190/400] START C=48, penalty=l2........................................\n"
     ]
    },
    {
     "name": "stderr",
     "output_type": "stream",
     "text": [
      "C:\\Users\\Usuario\\anaconda3\\lib\\site-packages\\sklearn\\linear_model\\_logistic.py:460: ConvergenceWarning:\n",
      "\n",
      "lbfgs failed to converge (status=1):\n",
      "STOP: TOTAL NO. of ITERATIONS REACHED LIMIT.\n",
      "\n",
      "Increase the number of iterations (max_iter) or scale the data as shown in:\n",
      "    https://scikit-learn.org/stable/modules/preprocessing.html\n",
      "Please also refer to the documentation for alternative solver options:\n",
      "    https://scikit-learn.org/stable/modules/linear_model.html#logistic-regression\n",
      "\n",
      "C:\\Users\\Usuario\\anaconda3\\lib\\site-packages\\sklearn\\linear_model\\_logistic.py:1193: UserWarning:\n",
      "\n",
      "Setting penalty=None will ignore the C and l1_ratio parameters\n",
      "\n",
      "C:\\Users\\Usuario\\anaconda3\\lib\\site-packages\\sklearn\\linear_model\\_logistic.py:1193: UserWarning:\n",
      "\n",
      "Setting penalty=None will ignore the C and l1_ratio parameters\n",
      "\n",
      "C:\\Users\\Usuario\\anaconda3\\lib\\site-packages\\sklearn\\linear_model\\_logistic.py:1193: UserWarning:\n",
      "\n",
      "Setting penalty=None will ignore the C and l1_ratio parameters\n",
      "\n",
      "C:\\Users\\Usuario\\anaconda3\\lib\\site-packages\\sklearn\\linear_model\\_logistic.py:460: ConvergenceWarning:\n",
      "\n",
      "lbfgs failed to converge (status=1):\n",
      "STOP: TOTAL NO. of ITERATIONS REACHED LIMIT.\n",
      "\n",
      "Increase the number of iterations (max_iter) or scale the data as shown in:\n",
      "    https://scikit-learn.org/stable/modules/preprocessing.html\n",
      "Please also refer to the documentation for alternative solver options:\n",
      "    https://scikit-learn.org/stable/modules/linear_model.html#logistic-regression\n",
      "\n",
      "C:\\Users\\Usuario\\anaconda3\\lib\\site-packages\\sklearn\\linear_model\\_logistic.py:1193: UserWarning:\n",
      "\n",
      "Setting penalty=None will ignore the C and l1_ratio parameters\n",
      "\n"
     ]
    },
    {
     "name": "stdout",
     "output_type": "stream",
     "text": [
      "[CV 3/5; 190/400] END .........C=48, penalty=l2;, score=0.941 total time=   0.0s\n",
      "[CV 4/5; 190/400] START C=48, penalty=l2........................................\n",
      "[CV 4/5; 190/400] END .........C=48, penalty=l2;, score=0.765 total time=   0.0s\n",
      "[CV 5/5; 190/400] START C=48, penalty=l2........................................\n",
      "[CV 5/5; 190/400] END .........C=48, penalty=l2;, score=0.824 total time=   0.0s\n",
      "[CV 1/5; 191/400] START C=48, penalty=elasticnet................................\n",
      "[CV 1/5; 191/400] END ...C=48, penalty=elasticnet;, score=nan total time=   0.0s\n",
      "[CV 2/5; 191/400] START C=48, penalty=elasticnet................................\n",
      "[CV 2/5; 191/400] END ...C=48, penalty=elasticnet;, score=nan total time=   0.0s\n",
      "[CV 3/5; 191/400] START C=48, penalty=elasticnet................................\n",
      "[CV 3/5; 191/400] END ...C=48, penalty=elasticnet;, score=nan total time=   0.0s\n",
      "[CV 4/5; 191/400] START C=48, penalty=elasticnet................................\n",
      "[CV 4/5; 191/400] END ...C=48, penalty=elasticnet;, score=nan total time=   0.0s\n",
      "[CV 5/5; 191/400] START C=48, penalty=elasticnet................................\n",
      "[CV 5/5; 191/400] END ...C=48, penalty=elasticnet;, score=nan total time=   0.0s\n",
      "[CV 1/5; 192/400] START C=48, penalty=None......................................\n",
      "[CV 1/5; 192/400] END .......C=48, penalty=None;, score=0.909 total time=   0.0s\n",
      "[CV 2/5; 192/400] START C=48, penalty=None......................................\n",
      "[CV 2/5; 192/400] END .......C=48, penalty=None;, score=0.853 total time=   0.0s\n",
      "[CV 3/5; 192/400] START C=48, penalty=None......................................\n",
      "[CV 3/5; 192/400] END .......C=48, penalty=None;, score=0.941 total time=   0.0s\n",
      "[CV 4/5; 192/400] START C=48, penalty=None......................................\n",
      "[CV 4/5; 192/400] END .......C=48, penalty=None;, score=0.765 total time=   0.0s\n",
      "[CV 5/5; 192/400] START C=48, penalty=None......................................\n",
      "[CV 5/5; 192/400] END .......C=48, penalty=None;, score=0.824 total time=   0.0s\n"
     ]
    },
    {
     "name": "stderr",
     "output_type": "stream",
     "text": [
      "C:\\Users\\Usuario\\anaconda3\\lib\\site-packages\\sklearn\\linear_model\\_logistic.py:1193: UserWarning:\n",
      "\n",
      "Setting penalty=None will ignore the C and l1_ratio parameters\n",
      "\n"
     ]
    },
    {
     "name": "stdout",
     "output_type": "stream",
     "text": [
      "[CV 1/5; 193/400] START C=49, penalty=l1........................................\n",
      "[CV 1/5; 193/400] END ...........C=49, penalty=l1;, score=nan total time=   0.0s\n",
      "[CV 2/5; 193/400] START C=49, penalty=l1........................................\n",
      "[CV 2/5; 193/400] END ...........C=49, penalty=l1;, score=nan total time=   0.0s\n",
      "[CV 3/5; 193/400] START C=49, penalty=l1........................................\n",
      "[CV 3/5; 193/400] END ...........C=49, penalty=l1;, score=nan total time=   0.0s\n",
      "[CV 4/5; 193/400] START C=49, penalty=l1........................................\n",
      "[CV 4/5; 193/400] END ...........C=49, penalty=l1;, score=nan total time=   0.0s\n",
      "[CV 5/5; 193/400] START C=49, penalty=l1........................................\n",
      "[CV 5/5; 193/400] END ...........C=49, penalty=l1;, score=nan total time=   0.0s\n",
      "[CV 1/5; 194/400] START C=49, penalty=l2........................................\n",
      "[CV 1/5; 194/400] END .........C=49, penalty=l2;, score=0.909 total time=   0.0s\n",
      "[CV 2/5; 194/400] START C=49, penalty=l2........................................\n",
      "[CV 2/5; 194/400] END .........C=49, penalty=l2;, score=0.824 total time=   0.0s\n",
      "[CV 3/5; 194/400] START C=49, penalty=l2........................................\n",
      "[CV 3/5; 194/400] END .........C=49, penalty=l2;, score=0.941 total time=   0.0s\n",
      "[CV 4/5; 194/400] START C=49, penalty=l2........................................\n",
      "[CV 4/5; 194/400] END .........C=49, penalty=l2;, score=0.765 total time=   0.0s\n",
      "[CV 5/5; 194/400] START C=49, penalty=l2........................................\n",
      "[CV 5/5; 194/400] END .........C=49, penalty=l2;, score=0.824 total time=   0.0s\n",
      "[CV 1/5; 195/400] START C=49, penalty=elasticnet................................\n",
      "[CV 1/5; 195/400] END ...C=49, penalty=elasticnet;, score=nan total time=   0.0s\n",
      "[CV 2/5; 195/400] START C=49, penalty=elasticnet................................\n",
      "[CV 2/5; 195/400] END ...C=49, penalty=elasticnet;, score=nan total time=   0.0s\n",
      "[CV 3/5; 195/400] START C=49, penalty=elasticnet................................\n",
      "[CV 3/5; 195/400] END ...C=49, penalty=elasticnet;, score=nan total time=   0.0s\n",
      "[CV 4/5; 195/400] START C=49, penalty=elasticnet................................\n",
      "[CV 4/5; 195/400] END ...C=49, penalty=elasticnet;, score=nan total time=   0.0s\n",
      "[CV 5/5; 195/400] START C=49, penalty=elasticnet................................\n",
      "[CV 5/5; 195/400] END ...C=49, penalty=elasticnet;, score=nan total time=   0.0s\n",
      "[CV 1/5; 196/400] START C=49, penalty=None......................................\n",
      "[CV 1/5; 196/400] END .......C=49, penalty=None;, score=0.909 total time=   0.0s\n",
      "[CV 2/5; 196/400] START C=49, penalty=None......................................\n"
     ]
    },
    {
     "name": "stderr",
     "output_type": "stream",
     "text": [
      "C:\\Users\\Usuario\\anaconda3\\lib\\site-packages\\sklearn\\linear_model\\_logistic.py:1193: UserWarning:\n",
      "\n",
      "Setting penalty=None will ignore the C and l1_ratio parameters\n",
      "\n",
      "C:\\Users\\Usuario\\anaconda3\\lib\\site-packages\\sklearn\\linear_model\\_logistic.py:1193: UserWarning:\n",
      "\n",
      "Setting penalty=None will ignore the C and l1_ratio parameters\n",
      "\n",
      "C:\\Users\\Usuario\\anaconda3\\lib\\site-packages\\sklearn\\linear_model\\_logistic.py:1193: UserWarning:\n",
      "\n",
      "Setting penalty=None will ignore the C and l1_ratio parameters\n",
      "\n",
      "C:\\Users\\Usuario\\anaconda3\\lib\\site-packages\\sklearn\\linear_model\\_logistic.py:460: ConvergenceWarning:\n",
      "\n",
      "lbfgs failed to converge (status=1):\n",
      "STOP: TOTAL NO. of ITERATIONS REACHED LIMIT.\n",
      "\n",
      "Increase the number of iterations (max_iter) or scale the data as shown in:\n",
      "    https://scikit-learn.org/stable/modules/preprocessing.html\n",
      "Please also refer to the documentation for alternative solver options:\n",
      "    https://scikit-learn.org/stable/modules/linear_model.html#logistic-regression\n",
      "\n",
      "C:\\Users\\Usuario\\anaconda3\\lib\\site-packages\\sklearn\\linear_model\\_logistic.py:1193: UserWarning:\n",
      "\n",
      "Setting penalty=None will ignore the C and l1_ratio parameters\n",
      "\n",
      "C:\\Users\\Usuario\\anaconda3\\lib\\site-packages\\sklearn\\linear_model\\_logistic.py:1193: UserWarning:\n",
      "\n",
      "Setting penalty=None will ignore the C and l1_ratio parameters\n",
      "\n"
     ]
    },
    {
     "name": "stdout",
     "output_type": "stream",
     "text": [
      "[CV 2/5; 196/400] END .......C=49, penalty=None;, score=0.853 total time=   0.0s\n",
      "[CV 3/5; 196/400] START C=49, penalty=None......................................\n",
      "[CV 3/5; 196/400] END .......C=49, penalty=None;, score=0.941 total time=   0.0s\n",
      "[CV 4/5; 196/400] START C=49, penalty=None......................................\n",
      "[CV 4/5; 196/400] END .......C=49, penalty=None;, score=0.765 total time=   0.0s\n",
      "[CV 5/5; 196/400] START C=49, penalty=None......................................\n",
      "[CV 5/5; 196/400] END .......C=49, penalty=None;, score=0.824 total time=   0.0s\n",
      "[CV 1/5; 197/400] START C=50, penalty=l1........................................\n",
      "[CV 1/5; 197/400] END ...........C=50, penalty=l1;, score=nan total time=   0.0s\n",
      "[CV 2/5; 197/400] START C=50, penalty=l1........................................\n",
      "[CV 2/5; 197/400] END ...........C=50, penalty=l1;, score=nan total time=   0.0s\n",
      "[CV 3/5; 197/400] START C=50, penalty=l1........................................\n",
      "[CV 3/5; 197/400] END ...........C=50, penalty=l1;, score=nan total time=   0.0s\n",
      "[CV 4/5; 197/400] START C=50, penalty=l1........................................\n",
      "[CV 4/5; 197/400] END ...........C=50, penalty=l1;, score=nan total time=   0.0s\n",
      "[CV 5/5; 197/400] START C=50, penalty=l1........................................\n",
      "[CV 5/5; 197/400] END ...........C=50, penalty=l1;, score=nan total time=   0.0s\n",
      "[CV 1/5; 198/400] START C=50, penalty=l2........................................\n",
      "[CV 1/5; 198/400] END .........C=50, penalty=l2;, score=0.909 total time=   0.0s\n",
      "[CV 2/5; 198/400] START C=50, penalty=l2........................................\n",
      "[CV 2/5; 198/400] END .........C=50, penalty=l2;, score=0.824 total time=   0.0s\n",
      "[CV 3/5; 198/400] START C=50, penalty=l2........................................\n",
      "[CV 3/5; 198/400] END .........C=50, penalty=l2;, score=0.941 total time=   0.0s\n",
      "[CV 4/5; 198/400] START C=50, penalty=l2........................................\n",
      "[CV 4/5; 198/400] END .........C=50, penalty=l2;, score=0.765 total time=   0.0s\n",
      "[CV 5/5; 198/400] START C=50, penalty=l2........................................\n",
      "[CV 5/5; 198/400] END .........C=50, penalty=l2;, score=0.794 total time=   0.0s\n",
      "[CV 1/5; 199/400] START C=50, penalty=elasticnet................................\n",
      "[CV 1/5; 199/400] END ...C=50, penalty=elasticnet;, score=nan total time=   0.0s\n",
      "[CV 2/5; 199/400] START C=50, penalty=elasticnet................................\n",
      "[CV 2/5; 199/400] END ...C=50, penalty=elasticnet;, score=nan total time=   0.0s\n",
      "[CV 3/5; 199/400] START C=50, penalty=elasticnet................................\n",
      "[CV 3/5; 199/400] END ...C=50, penalty=elasticnet;, score=nan total time=   0.0s\n",
      "[CV 4/5; 199/400] START C=50, penalty=elasticnet................................\n",
      "[CV 4/5; 199/400] END ...C=50, penalty=elasticnet;, score=nan total time=   0.0s\n",
      "[CV 5/5; 199/400] START C=50, penalty=elasticnet................................\n",
      "[CV 5/5; 199/400] END ...C=50, penalty=elasticnet;, score=nan total time=   0.0s\n",
      "[CV 1/5; 200/400] START C=50, penalty=None......................................\n",
      "[CV 1/5; 200/400] END .......C=50, penalty=None;, score=0.909 total time=   0.0s\n",
      "[CV 2/5; 200/400] START C=50, penalty=None......................................\n",
      "[CV 2/5; 200/400] END .......C=50, penalty=None;, score=0.853 total time=   0.0s\n",
      "[CV 3/5; 200/400] START C=50, penalty=None......................................\n",
      "[CV 3/5; 200/400] END .......C=50, penalty=None;, score=0.941 total time=   0.0s\n",
      "[CV 4/5; 200/400] START C=50, penalty=None......................................\n"
     ]
    },
    {
     "name": "stderr",
     "output_type": "stream",
     "text": [
      "C:\\Users\\Usuario\\anaconda3\\lib\\site-packages\\sklearn\\linear_model\\_logistic.py:1193: UserWarning:\n",
      "\n",
      "Setting penalty=None will ignore the C and l1_ratio parameters\n",
      "\n",
      "C:\\Users\\Usuario\\anaconda3\\lib\\site-packages\\sklearn\\linear_model\\_logistic.py:1193: UserWarning:\n",
      "\n",
      "Setting penalty=None will ignore the C and l1_ratio parameters\n",
      "\n",
      "C:\\Users\\Usuario\\anaconda3\\lib\\site-packages\\sklearn\\linear_model\\_logistic.py:1193: UserWarning:\n",
      "\n",
      "Setting penalty=None will ignore the C and l1_ratio parameters\n",
      "\n",
      "C:\\Users\\Usuario\\anaconda3\\lib\\site-packages\\sklearn\\linear_model\\_logistic.py:460: ConvergenceWarning:\n",
      "\n",
      "lbfgs failed to converge (status=1):\n",
      "STOP: TOTAL NO. of ITERATIONS REACHED LIMIT.\n",
      "\n",
      "Increase the number of iterations (max_iter) or scale the data as shown in:\n",
      "    https://scikit-learn.org/stable/modules/preprocessing.html\n",
      "Please also refer to the documentation for alternative solver options:\n",
      "    https://scikit-learn.org/stable/modules/linear_model.html#logistic-regression\n",
      "\n",
      "C:\\Users\\Usuario\\anaconda3\\lib\\site-packages\\sklearn\\linear_model\\_logistic.py:1193: UserWarning:\n",
      "\n",
      "Setting penalty=None will ignore the C and l1_ratio parameters\n",
      "\n",
      "C:\\Users\\Usuario\\anaconda3\\lib\\site-packages\\sklearn\\linear_model\\_logistic.py:1193: UserWarning:\n",
      "\n",
      "Setting penalty=None will ignore the C and l1_ratio parameters\n",
      "\n"
     ]
    },
    {
     "name": "stdout",
     "output_type": "stream",
     "text": [
      "[CV 4/5; 200/400] END .......C=50, penalty=None;, score=0.765 total time=   0.0s\n",
      "[CV 5/5; 200/400] START C=50, penalty=None......................................\n",
      "[CV 5/5; 200/400] END .......C=50, penalty=None;, score=0.824 total time=   0.0s\n",
      "[CV 1/5; 201/400] START C=51, penalty=l1........................................\n",
      "[CV 1/5; 201/400] END ...........C=51, penalty=l1;, score=nan total time=   0.0s\n",
      "[CV 2/5; 201/400] START C=51, penalty=l1........................................\n",
      "[CV 2/5; 201/400] END ...........C=51, penalty=l1;, score=nan total time=   0.0s\n",
      "[CV 3/5; 201/400] START C=51, penalty=l1........................................\n",
      "[CV 3/5; 201/400] END ...........C=51, penalty=l1;, score=nan total time=   0.0s\n",
      "[CV 4/5; 201/400] START C=51, penalty=l1........................................\n",
      "[CV 4/5; 201/400] END ...........C=51, penalty=l1;, score=nan total time=   0.0s\n",
      "[CV 5/5; 201/400] START C=51, penalty=l1........................................\n",
      "[CV 5/5; 201/400] END ...........C=51, penalty=l1;, score=nan total time=   0.0s\n",
      "[CV 1/5; 202/400] START C=51, penalty=l2........................................\n",
      "[CV 1/5; 202/400] END .........C=51, penalty=l2;, score=0.909 total time=   0.0s\n",
      "[CV 2/5; 202/400] START C=51, penalty=l2........................................\n",
      "[CV 2/5; 202/400] END .........C=51, penalty=l2;, score=0.824 total time=   0.0s\n",
      "[CV 3/5; 202/400] START C=51, penalty=l2........................................\n",
      "[CV 3/5; 202/400] END .........C=51, penalty=l2;, score=0.941 total time=   0.0s\n",
      "[CV 4/5; 202/400] START C=51, penalty=l2........................................\n",
      "[CV 4/5; 202/400] END .........C=51, penalty=l2;, score=0.765 total time=   0.0s\n",
      "[CV 5/5; 202/400] START C=51, penalty=l2........................................\n",
      "[CV 5/5; 202/400] END .........C=51, penalty=l2;, score=0.794 total time=   0.0s\n",
      "[CV 1/5; 203/400] START C=51, penalty=elasticnet................................\n",
      "[CV 1/5; 203/400] END ...C=51, penalty=elasticnet;, score=nan total time=   0.0s\n",
      "[CV 2/5; 203/400] START C=51, penalty=elasticnet................................\n",
      "[CV 2/5; 203/400] END ...C=51, penalty=elasticnet;, score=nan total time=   0.0s\n",
      "[CV 3/5; 203/400] START C=51, penalty=elasticnet................................\n",
      "[CV 3/5; 203/400] END ...C=51, penalty=elasticnet;, score=nan total time=   0.0s\n",
      "[CV 4/5; 203/400] START C=51, penalty=elasticnet................................\n",
      "[CV 4/5; 203/400] END ...C=51, penalty=elasticnet;, score=nan total time=   0.0s\n",
      "[CV 5/5; 203/400] START C=51, penalty=elasticnet................................\n",
      "[CV 5/5; 203/400] END ...C=51, penalty=elasticnet;, score=nan total time=   0.0s\n",
      "[CV 1/5; 204/400] START C=51, penalty=None......................................\n",
      "[CV 1/5; 204/400] END .......C=51, penalty=None;, score=0.909 total time=   0.0s\n",
      "[CV 2/5; 204/400] START C=51, penalty=None......................................\n",
      "[CV 2/5; 204/400] END .......C=51, penalty=None;, score=0.853 total time=   0.0s\n",
      "[CV 3/5; 204/400] START C=51, penalty=None......................................\n",
      "[CV 3/5; 204/400] END .......C=51, penalty=None;, score=0.941 total time=   0.0s\n",
      "[CV 4/5; 204/400] START C=51, penalty=None......................................\n",
      "[CV 4/5; 204/400] END .......C=51, penalty=None;, score=0.765 total time=   0.0s\n",
      "[CV 5/5; 204/400] START C=51, penalty=None......................................\n",
      "[CV 5/5; 204/400] END .......C=51, penalty=None;, score=0.824 total time=   0.0s\n",
      "[CV 1/5; 205/400] START C=52, penalty=l1........................................\n",
      "[CV 1/5; 205/400] END ...........C=52, penalty=l1;, score=nan total time=   0.0s\n",
      "[CV 2/5; 205/400] START C=52, penalty=l1........................................\n",
      "[CV 2/5; 205/400] END ...........C=52, penalty=l1;, score=nan total time=   0.0s\n",
      "[CV 3/5; 205/400] START C=52, penalty=l1........................................\n",
      "[CV 3/5; 205/400] END ...........C=52, penalty=l1;, score=nan total time=   0.0s\n",
      "[CV 4/5; 205/400] START C=52, penalty=l1........................................\n",
      "[CV 4/5; 205/400] END ...........C=52, penalty=l1;, score=nan total time=   0.0s\n",
      "[CV 5/5; 205/400] START C=52, penalty=l1........................................\n"
     ]
    },
    {
     "name": "stderr",
     "output_type": "stream",
     "text": [
      "C:\\Users\\Usuario\\anaconda3\\lib\\site-packages\\sklearn\\linear_model\\_logistic.py:1193: UserWarning:\n",
      "\n",
      "Setting penalty=None will ignore the C and l1_ratio parameters\n",
      "\n",
      "C:\\Users\\Usuario\\anaconda3\\lib\\site-packages\\sklearn\\linear_model\\_logistic.py:1193: UserWarning:\n",
      "\n",
      "Setting penalty=None will ignore the C and l1_ratio parameters\n",
      "\n",
      "C:\\Users\\Usuario\\anaconda3\\lib\\site-packages\\sklearn\\linear_model\\_logistic.py:1193: UserWarning:\n",
      "\n",
      "Setting penalty=None will ignore the C and l1_ratio parameters\n",
      "\n",
      "C:\\Users\\Usuario\\anaconda3\\lib\\site-packages\\sklearn\\linear_model\\_logistic.py:460: ConvergenceWarning:\n",
      "\n",
      "lbfgs failed to converge (status=1):\n",
      "STOP: TOTAL NO. of ITERATIONS REACHED LIMIT.\n",
      "\n",
      "Increase the number of iterations (max_iter) or scale the data as shown in:\n",
      "    https://scikit-learn.org/stable/modules/preprocessing.html\n",
      "Please also refer to the documentation for alternative solver options:\n",
      "    https://scikit-learn.org/stable/modules/linear_model.html#logistic-regression\n",
      "\n",
      "C:\\Users\\Usuario\\anaconda3\\lib\\site-packages\\sklearn\\linear_model\\_logistic.py:1193: UserWarning:\n",
      "\n",
      "Setting penalty=None will ignore the C and l1_ratio parameters\n",
      "\n",
      "C:\\Users\\Usuario\\anaconda3\\lib\\site-packages\\sklearn\\linear_model\\_logistic.py:1193: UserWarning:\n",
      "\n",
      "Setting penalty=None will ignore the C and l1_ratio parameters\n",
      "\n"
     ]
    },
    {
     "name": "stdout",
     "output_type": "stream",
     "text": [
      "[CV 5/5; 205/400] END ...........C=52, penalty=l1;, score=nan total time=   0.0s\n",
      "[CV 1/5; 206/400] START C=52, penalty=l2........................................\n",
      "[CV 1/5; 206/400] END .........C=52, penalty=l2;, score=0.909 total time=   0.0s\n",
      "[CV 2/5; 206/400] START C=52, penalty=l2........................................\n",
      "[CV 2/5; 206/400] END .........C=52, penalty=l2;, score=0.824 total time=   0.0s\n",
      "[CV 3/5; 206/400] START C=52, penalty=l2........................................\n",
      "[CV 3/5; 206/400] END .........C=52, penalty=l2;, score=0.941 total time=   0.0s\n",
      "[CV 4/5; 206/400] START C=52, penalty=l2........................................\n",
      "[CV 4/5; 206/400] END .........C=52, penalty=l2;, score=0.765 total time=   0.0s\n",
      "[CV 5/5; 206/400] START C=52, penalty=l2........................................\n",
      "[CV 5/5; 206/400] END .........C=52, penalty=l2;, score=0.794 total time=   0.0s\n",
      "[CV 1/5; 207/400] START C=52, penalty=elasticnet................................\n",
      "[CV 1/5; 207/400] END ...C=52, penalty=elasticnet;, score=nan total time=   0.0s\n",
      "[CV 2/5; 207/400] START C=52, penalty=elasticnet................................\n",
      "[CV 2/5; 207/400] END ...C=52, penalty=elasticnet;, score=nan total time=   0.0s\n",
      "[CV 3/5; 207/400] START C=52, penalty=elasticnet................................\n",
      "[CV 3/5; 207/400] END ...C=52, penalty=elasticnet;, score=nan total time=   0.0s\n",
      "[CV 4/5; 207/400] START C=52, penalty=elasticnet................................\n",
      "[CV 4/5; 207/400] END ...C=52, penalty=elasticnet;, score=nan total time=   0.0s\n",
      "[CV 5/5; 207/400] START C=52, penalty=elasticnet................................\n",
      "[CV 5/5; 207/400] END ...C=52, penalty=elasticnet;, score=nan total time=   0.0s\n",
      "[CV 1/5; 208/400] START C=52, penalty=None......................................\n"
     ]
    },
    {
     "name": "stderr",
     "output_type": "stream",
     "text": [
      "C:\\Users\\Usuario\\anaconda3\\lib\\site-packages\\sklearn\\linear_model\\_logistic.py:460: ConvergenceWarning:\n",
      "\n",
      "lbfgs failed to converge (status=1):\n",
      "STOP: TOTAL NO. of ITERATIONS REACHED LIMIT.\n",
      "\n",
      "Increase the number of iterations (max_iter) or scale the data as shown in:\n",
      "    https://scikit-learn.org/stable/modules/preprocessing.html\n",
      "Please also refer to the documentation for alternative solver options:\n",
      "    https://scikit-learn.org/stable/modules/linear_model.html#logistic-regression\n",
      "\n",
      "C:\\Users\\Usuario\\anaconda3\\lib\\site-packages\\sklearn\\linear_model\\_logistic.py:1193: UserWarning:\n",
      "\n",
      "Setting penalty=None will ignore the C and l1_ratio parameters\n",
      "\n",
      "C:\\Users\\Usuario\\anaconda3\\lib\\site-packages\\sklearn\\linear_model\\_logistic.py:1193: UserWarning:\n",
      "\n",
      "Setting penalty=None will ignore the C and l1_ratio parameters\n",
      "\n",
      "C:\\Users\\Usuario\\anaconda3\\lib\\site-packages\\sklearn\\linear_model\\_logistic.py:1193: UserWarning:\n",
      "\n",
      "Setting penalty=None will ignore the C and l1_ratio parameters\n",
      "\n",
      "C:\\Users\\Usuario\\anaconda3\\lib\\site-packages\\sklearn\\linear_model\\_logistic.py:460: ConvergenceWarning:\n",
      "\n",
      "lbfgs failed to converge (status=1):\n",
      "STOP: TOTAL NO. of ITERATIONS REACHED LIMIT.\n",
      "\n",
      "Increase the number of iterations (max_iter) or scale the data as shown in:\n",
      "    https://scikit-learn.org/stable/modules/preprocessing.html\n",
      "Please also refer to the documentation for alternative solver options:\n",
      "    https://scikit-learn.org/stable/modules/linear_model.html#logistic-regression\n",
      "\n",
      "C:\\Users\\Usuario\\anaconda3\\lib\\site-packages\\sklearn\\linear_model\\_logistic.py:1193: UserWarning:\n",
      "\n",
      "Setting penalty=None will ignore the C and l1_ratio parameters\n",
      "\n",
      "C:\\Users\\Usuario\\anaconda3\\lib\\site-packages\\sklearn\\linear_model\\_logistic.py:1193: UserWarning:\n",
      "\n",
      "Setting penalty=None will ignore the C and l1_ratio parameters\n",
      "\n"
     ]
    },
    {
     "name": "stdout",
     "output_type": "stream",
     "text": [
      "[CV 1/5; 208/400] END .......C=52, penalty=None;, score=0.909 total time=   0.0s\n",
      "[CV 2/5; 208/400] START C=52, penalty=None......................................\n",
      "[CV 2/5; 208/400] END .......C=52, penalty=None;, score=0.853 total time=   0.0s\n",
      "[CV 3/5; 208/400] START C=52, penalty=None......................................\n",
      "[CV 3/5; 208/400] END .......C=52, penalty=None;, score=0.941 total time=   0.0s\n",
      "[CV 4/5; 208/400] START C=52, penalty=None......................................\n",
      "[CV 4/5; 208/400] END .......C=52, penalty=None;, score=0.765 total time=   0.0s\n",
      "[CV 5/5; 208/400] START C=52, penalty=None......................................\n",
      "[CV 5/5; 208/400] END .......C=52, penalty=None;, score=0.824 total time=   0.0s\n",
      "[CV 1/5; 209/400] START C=53, penalty=l1........................................\n",
      "[CV 1/5; 209/400] END ...........C=53, penalty=l1;, score=nan total time=   0.0s\n",
      "[CV 2/5; 209/400] START C=53, penalty=l1........................................\n",
      "[CV 2/5; 209/400] END ...........C=53, penalty=l1;, score=nan total time=   0.0s\n",
      "[CV 3/5; 209/400] START C=53, penalty=l1........................................\n",
      "[CV 3/5; 209/400] END ...........C=53, penalty=l1;, score=nan total time=   0.0s\n",
      "[CV 4/5; 209/400] START C=53, penalty=l1........................................\n",
      "[CV 4/5; 209/400] END ...........C=53, penalty=l1;, score=nan total time=   0.0s\n",
      "[CV 5/5; 209/400] START C=53, penalty=l1........................................\n",
      "[CV 5/5; 209/400] END ...........C=53, penalty=l1;, score=nan total time=   0.0s\n",
      "[CV 1/5; 210/400] START C=53, penalty=l2........................................\n",
      "[CV 1/5; 210/400] END .........C=53, penalty=l2;, score=0.909 total time=   0.0s\n",
      "[CV 2/5; 210/400] START C=53, penalty=l2........................................\n",
      "[CV 2/5; 210/400] END .........C=53, penalty=l2;, score=0.824 total time=   0.0s\n",
      "[CV 3/5; 210/400] START C=53, penalty=l2........................................\n",
      "[CV 3/5; 210/400] END .........C=53, penalty=l2;, score=0.941 total time=   0.0s\n",
      "[CV 4/5; 210/400] START C=53, penalty=l2........................................\n",
      "[CV 4/5; 210/400] END .........C=53, penalty=l2;, score=0.765 total time=   0.0s\n",
      "[CV 5/5; 210/400] START C=53, penalty=l2........................................\n",
      "[CV 5/5; 210/400] END .........C=53, penalty=l2;, score=0.794 total time=   0.0s\n",
      "[CV 1/5; 211/400] START C=53, penalty=elasticnet................................\n",
      "[CV 1/5; 211/400] END ...C=53, penalty=elasticnet;, score=nan total time=   0.0s\n",
      "[CV 2/5; 211/400] START C=53, penalty=elasticnet................................\n",
      "[CV 2/5; 211/400] END ...C=53, penalty=elasticnet;, score=nan total time=   0.0s\n",
      "[CV 3/5; 211/400] START C=53, penalty=elasticnet................................\n",
      "[CV 3/5; 211/400] END ...C=53, penalty=elasticnet;, score=nan total time=   0.0s\n",
      "[CV 4/5; 211/400] START C=53, penalty=elasticnet................................\n",
      "[CV 4/5; 211/400] END ...C=53, penalty=elasticnet;, score=nan total time=   0.0s\n",
      "[CV 5/5; 211/400] START C=53, penalty=elasticnet................................\n",
      "[CV 5/5; 211/400] END ...C=53, penalty=elasticnet;, score=nan total time=   0.0s\n",
      "[CV 1/5; 212/400] START C=53, penalty=None......................................\n",
      "[CV 1/5; 212/400] END .......C=53, penalty=None;, score=0.909 total time=   0.0s\n",
      "[CV 2/5; 212/400] START C=53, penalty=None......................................\n",
      "[CV 2/5; 212/400] END .......C=53, penalty=None;, score=0.853 total time=   0.0s\n",
      "[CV 3/5; 212/400] START C=53, penalty=None......................................\n",
      "[CV 3/5; 212/400] END .......C=53, penalty=None;, score=0.941 total time=   0.0s\n",
      "[CV 4/5; 212/400] START C=53, penalty=None......................................\n",
      "[CV 4/5; 212/400] END .......C=53, penalty=None;, score=0.765 total time=   0.0s\n",
      "[CV 5/5; 212/400] START C=53, penalty=None......................................\n"
     ]
    },
    {
     "name": "stderr",
     "output_type": "stream",
     "text": [
      "C:\\Users\\Usuario\\anaconda3\\lib\\site-packages\\sklearn\\linear_model\\_logistic.py:1193: UserWarning:\n",
      "\n",
      "Setting penalty=None will ignore the C and l1_ratio parameters\n",
      "\n",
      "C:\\Users\\Usuario\\anaconda3\\lib\\site-packages\\sklearn\\linear_model\\_logistic.py:1193: UserWarning:\n",
      "\n",
      "Setting penalty=None will ignore the C and l1_ratio parameters\n",
      "\n",
      "C:\\Users\\Usuario\\anaconda3\\lib\\site-packages\\sklearn\\linear_model\\_logistic.py:1193: UserWarning:\n",
      "\n",
      "Setting penalty=None will ignore the C and l1_ratio parameters\n",
      "\n",
      "C:\\Users\\Usuario\\anaconda3\\lib\\site-packages\\sklearn\\linear_model\\_logistic.py:460: ConvergenceWarning:\n",
      "\n",
      "lbfgs failed to converge (status=1):\n",
      "STOP: TOTAL NO. of ITERATIONS REACHED LIMIT.\n",
      "\n",
      "Increase the number of iterations (max_iter) or scale the data as shown in:\n",
      "    https://scikit-learn.org/stable/modules/preprocessing.html\n",
      "Please also refer to the documentation for alternative solver options:\n",
      "    https://scikit-learn.org/stable/modules/linear_model.html#logistic-regression\n",
      "\n",
      "C:\\Users\\Usuario\\anaconda3\\lib\\site-packages\\sklearn\\linear_model\\_logistic.py:1193: UserWarning:\n",
      "\n",
      "Setting penalty=None will ignore the C and l1_ratio parameters\n",
      "\n",
      "C:\\Users\\Usuario\\anaconda3\\lib\\site-packages\\sklearn\\linear_model\\_logistic.py:1193: UserWarning:\n",
      "\n",
      "Setting penalty=None will ignore the C and l1_ratio parameters\n",
      "\n"
     ]
    },
    {
     "name": "stdout",
     "output_type": "stream",
     "text": [
      "[CV 5/5; 212/400] END .......C=53, penalty=None;, score=0.824 total time=   0.0s\n",
      "[CV 1/5; 213/400] START C=54, penalty=l1........................................\n",
      "[CV 1/5; 213/400] END ...........C=54, penalty=l1;, score=nan total time=   0.0s\n",
      "[CV 2/5; 213/400] START C=54, penalty=l1........................................\n",
      "[CV 2/5; 213/400] END ...........C=54, penalty=l1;, score=nan total time=   0.0s\n",
      "[CV 3/5; 213/400] START C=54, penalty=l1........................................\n",
      "[CV 3/5; 213/400] END ...........C=54, penalty=l1;, score=nan total time=   0.0s\n",
      "[CV 4/5; 213/400] START C=54, penalty=l1........................................\n",
      "[CV 4/5; 213/400] END ...........C=54, penalty=l1;, score=nan total time=   0.0s\n",
      "[CV 5/5; 213/400] START C=54, penalty=l1........................................\n",
      "[CV 5/5; 213/400] END ...........C=54, penalty=l1;, score=nan total time=   0.0s\n",
      "[CV 1/5; 214/400] START C=54, penalty=l2........................................\n",
      "[CV 1/5; 214/400] END .........C=54, penalty=l2;, score=0.909 total time=   0.0s\n",
      "[CV 2/5; 214/400] START C=54, penalty=l2........................................\n",
      "[CV 2/5; 214/400] END .........C=54, penalty=l2;, score=0.824 total time=   0.0s\n",
      "[CV 3/5; 214/400] START C=54, penalty=l2........................................\n",
      "[CV 3/5; 214/400] END .........C=54, penalty=l2;, score=0.941 total time=   0.0s\n",
      "[CV 4/5; 214/400] START C=54, penalty=l2........................................\n",
      "[CV 4/5; 214/400] END .........C=54, penalty=l2;, score=0.765 total time=   0.0s\n",
      "[CV 5/5; 214/400] START C=54, penalty=l2........................................\n",
      "[CV 5/5; 214/400] END .........C=54, penalty=l2;, score=0.794 total time=   0.0s\n",
      "[CV 1/5; 215/400] START C=54, penalty=elasticnet................................\n",
      "[CV 1/5; 215/400] END ...C=54, penalty=elasticnet;, score=nan total time=   0.0s\n",
      "[CV 2/5; 215/400] START C=54, penalty=elasticnet................................\n",
      "[CV 2/5; 215/400] END ...C=54, penalty=elasticnet;, score=nan total time=   0.0s\n",
      "[CV 3/5; 215/400] START C=54, penalty=elasticnet................................\n",
      "[CV 3/5; 215/400] END ...C=54, penalty=elasticnet;, score=nan total time=   0.0s\n",
      "[CV 4/5; 215/400] START C=54, penalty=elasticnet................................\n",
      "[CV 4/5; 215/400] END ...C=54, penalty=elasticnet;, score=nan total time=   0.0s\n",
      "[CV 5/5; 215/400] START C=54, penalty=elasticnet................................\n",
      "[CV 5/5; 215/400] END ...C=54, penalty=elasticnet;, score=nan total time=   0.0s\n",
      "[CV 1/5; 216/400] START C=54, penalty=None......................................\n",
      "[CV 1/5; 216/400] END .......C=54, penalty=None;, score=0.909 total time=   0.0s\n"
     ]
    },
    {
     "name": "stderr",
     "output_type": "stream",
     "text": [
      "C:\\Users\\Usuario\\anaconda3\\lib\\site-packages\\sklearn\\linear_model\\_logistic.py:460: ConvergenceWarning:\n",
      "\n",
      "lbfgs failed to converge (status=1):\n",
      "STOP: TOTAL NO. of ITERATIONS REACHED LIMIT.\n",
      "\n",
      "Increase the number of iterations (max_iter) or scale the data as shown in:\n",
      "    https://scikit-learn.org/stable/modules/preprocessing.html\n",
      "Please also refer to the documentation for alternative solver options:\n",
      "    https://scikit-learn.org/stable/modules/linear_model.html#logistic-regression\n",
      "\n",
      "C:\\Users\\Usuario\\anaconda3\\lib\\site-packages\\sklearn\\linear_model\\_logistic.py:1193: UserWarning:\n",
      "\n",
      "Setting penalty=None will ignore the C and l1_ratio parameters\n",
      "\n",
      "C:\\Users\\Usuario\\anaconda3\\lib\\site-packages\\sklearn\\linear_model\\_logistic.py:1193: UserWarning:\n",
      "\n",
      "Setting penalty=None will ignore the C and l1_ratio parameters\n",
      "\n",
      "C:\\Users\\Usuario\\anaconda3\\lib\\site-packages\\sklearn\\linear_model\\_logistic.py:1193: UserWarning:\n",
      "\n",
      "Setting penalty=None will ignore the C and l1_ratio parameters\n",
      "\n",
      "C:\\Users\\Usuario\\anaconda3\\lib\\site-packages\\sklearn\\linear_model\\_logistic.py:460: ConvergenceWarning:\n",
      "\n",
      "lbfgs failed to converge (status=1):\n",
      "STOP: TOTAL NO. of ITERATIONS REACHED LIMIT.\n",
      "\n",
      "Increase the number of iterations (max_iter) or scale the data as shown in:\n",
      "    https://scikit-learn.org/stable/modules/preprocessing.html\n",
      "Please also refer to the documentation for alternative solver options:\n",
      "    https://scikit-learn.org/stable/modules/linear_model.html#logistic-regression\n",
      "\n",
      "C:\\Users\\Usuario\\anaconda3\\lib\\site-packages\\sklearn\\linear_model\\_logistic.py:1193: UserWarning:\n",
      "\n",
      "Setting penalty=None will ignore the C and l1_ratio parameters\n",
      "\n",
      "C:\\Users\\Usuario\\anaconda3\\lib\\site-packages\\sklearn\\linear_model\\_logistic.py:1193: UserWarning:\n",
      "\n",
      "Setting penalty=None will ignore the C and l1_ratio parameters\n",
      "\n"
     ]
    },
    {
     "name": "stdout",
     "output_type": "stream",
     "text": [
      "[CV 2/5; 216/400] START C=54, penalty=None......................................\n",
      "[CV 2/5; 216/400] END .......C=54, penalty=None;, score=0.853 total time=   0.0s\n",
      "[CV 3/5; 216/400] START C=54, penalty=None......................................\n",
      "[CV 3/5; 216/400] END .......C=54, penalty=None;, score=0.941 total time=   0.0s\n",
      "[CV 4/5; 216/400] START C=54, penalty=None......................................\n",
      "[CV 4/5; 216/400] END .......C=54, penalty=None;, score=0.765 total time=   0.0s\n",
      "[CV 5/5; 216/400] START C=54, penalty=None......................................\n",
      "[CV 5/5; 216/400] END .......C=54, penalty=None;, score=0.824 total time=   0.0s\n",
      "[CV 1/5; 217/400] START C=55, penalty=l1........................................\n",
      "[CV 1/5; 217/400] END ...........C=55, penalty=l1;, score=nan total time=   0.0s\n",
      "[CV 2/5; 217/400] START C=55, penalty=l1........................................\n",
      "[CV 2/5; 217/400] END ...........C=55, penalty=l1;, score=nan total time=   0.0s\n",
      "[CV 3/5; 217/400] START C=55, penalty=l1........................................\n",
      "[CV 3/5; 217/400] END ...........C=55, penalty=l1;, score=nan total time=   0.0s\n",
      "[CV 4/5; 217/400] START C=55, penalty=l1........................................\n",
      "[CV 4/5; 217/400] END ...........C=55, penalty=l1;, score=nan total time=   0.0s\n",
      "[CV 5/5; 217/400] START C=55, penalty=l1........................................\n",
      "[CV 5/5; 217/400] END ...........C=55, penalty=l1;, score=nan total time=   0.0s\n",
      "[CV 1/5; 218/400] START C=55, penalty=l2........................................\n",
      "[CV 1/5; 218/400] END .........C=55, penalty=l2;, score=0.909 total time=   0.0s\n",
      "[CV 2/5; 218/400] START C=55, penalty=l2........................................\n",
      "[CV 2/5; 218/400] END .........C=55, penalty=l2;, score=0.824 total time=   0.0s\n",
      "[CV 3/5; 218/400] START C=55, penalty=l2........................................\n",
      "[CV 3/5; 218/400] END .........C=55, penalty=l2;, score=0.941 total time=   0.0s\n",
      "[CV 4/5; 218/400] START C=55, penalty=l2........................................\n",
      "[CV 4/5; 218/400] END .........C=55, penalty=l2;, score=0.765 total time=   0.0s\n",
      "[CV 5/5; 218/400] START C=55, penalty=l2........................................\n",
      "[CV 5/5; 218/400] END .........C=55, penalty=l2;, score=0.794 total time=   0.0s\n",
      "[CV 1/5; 219/400] START C=55, penalty=elasticnet................................\n",
      "[CV 1/5; 219/400] END ...C=55, penalty=elasticnet;, score=nan total time=   0.0s\n",
      "[CV 2/5; 219/400] START C=55, penalty=elasticnet................................\n",
      "[CV 2/5; 219/400] END ...C=55, penalty=elasticnet;, score=nan total time=   0.0s\n",
      "[CV 3/5; 219/400] START C=55, penalty=elasticnet................................\n",
      "[CV 3/5; 219/400] END ...C=55, penalty=elasticnet;, score=nan total time=   0.0s\n",
      "[CV 4/5; 219/400] START C=55, penalty=elasticnet................................\n",
      "[CV 4/5; 219/400] END ...C=55, penalty=elasticnet;, score=nan total time=   0.0s\n",
      "[CV 5/5; 219/400] START C=55, penalty=elasticnet................................\n",
      "[CV 5/5; 219/400] END ...C=55, penalty=elasticnet;, score=nan total time=   0.0s\n",
      "[CV 1/5; 220/400] START C=55, penalty=None......................................\n",
      "[CV 1/5; 220/400] END .......C=55, penalty=None;, score=0.909 total time=   0.0s\n",
      "[CV 2/5; 220/400] START C=55, penalty=None......................................\n",
      "[CV 2/5; 220/400] END .......C=55, penalty=None;, score=0.853 total time=   0.0s\n",
      "[CV 3/5; 220/400] START C=55, penalty=None......................................\n"
     ]
    },
    {
     "name": "stderr",
     "output_type": "stream",
     "text": [
      "C:\\Users\\Usuario\\anaconda3\\lib\\site-packages\\sklearn\\linear_model\\_logistic.py:1193: UserWarning:\n",
      "\n",
      "Setting penalty=None will ignore the C and l1_ratio parameters\n",
      "\n",
      "C:\\Users\\Usuario\\anaconda3\\lib\\site-packages\\sklearn\\linear_model\\_logistic.py:1193: UserWarning:\n",
      "\n",
      "Setting penalty=None will ignore the C and l1_ratio parameters\n",
      "\n",
      "C:\\Users\\Usuario\\anaconda3\\lib\\site-packages\\sklearn\\linear_model\\_logistic.py:1193: UserWarning:\n",
      "\n",
      "Setting penalty=None will ignore the C and l1_ratio parameters\n",
      "\n",
      "C:\\Users\\Usuario\\anaconda3\\lib\\site-packages\\sklearn\\linear_model\\_logistic.py:460: ConvergenceWarning:\n",
      "\n",
      "lbfgs failed to converge (status=1):\n",
      "STOP: TOTAL NO. of ITERATIONS REACHED LIMIT.\n",
      "\n",
      "Increase the number of iterations (max_iter) or scale the data as shown in:\n",
      "    https://scikit-learn.org/stable/modules/preprocessing.html\n",
      "Please also refer to the documentation for alternative solver options:\n",
      "    https://scikit-learn.org/stable/modules/linear_model.html#logistic-regression\n",
      "\n",
      "C:\\Users\\Usuario\\anaconda3\\lib\\site-packages\\sklearn\\linear_model\\_logistic.py:1193: UserWarning:\n",
      "\n",
      "Setting penalty=None will ignore the C and l1_ratio parameters\n",
      "\n",
      "C:\\Users\\Usuario\\anaconda3\\lib\\site-packages\\sklearn\\linear_model\\_logistic.py:1193: UserWarning:\n",
      "\n",
      "Setting penalty=None will ignore the C and l1_ratio parameters\n",
      "\n"
     ]
    },
    {
     "name": "stdout",
     "output_type": "stream",
     "text": [
      "[CV 3/5; 220/400] END .......C=55, penalty=None;, score=0.941 total time=   0.0s\n",
      "[CV 4/5; 220/400] START C=55, penalty=None......................................\n",
      "[CV 4/5; 220/400] END .......C=55, penalty=None;, score=0.765 total time=   0.0s\n",
      "[CV 5/5; 220/400] START C=55, penalty=None......................................\n",
      "[CV 5/5; 220/400] END .......C=55, penalty=None;, score=0.824 total time=   0.0s\n",
      "[CV 1/5; 221/400] START C=56, penalty=l1........................................\n",
      "[CV 1/5; 221/400] END ...........C=56, penalty=l1;, score=nan total time=   0.0s\n",
      "[CV 2/5; 221/400] START C=56, penalty=l1........................................\n",
      "[CV 2/5; 221/400] END ...........C=56, penalty=l1;, score=nan total time=   0.0s\n",
      "[CV 3/5; 221/400] START C=56, penalty=l1........................................\n",
      "[CV 3/5; 221/400] END ...........C=56, penalty=l1;, score=nan total time=   0.0s\n",
      "[CV 4/5; 221/400] START C=56, penalty=l1........................................\n",
      "[CV 4/5; 221/400] END ...........C=56, penalty=l1;, score=nan total time=   0.0s\n",
      "[CV 5/5; 221/400] START C=56, penalty=l1........................................\n",
      "[CV 5/5; 221/400] END ...........C=56, penalty=l1;, score=nan total time=   0.0s\n",
      "[CV 1/5; 222/400] START C=56, penalty=l2........................................\n",
      "[CV 1/5; 222/400] END .........C=56, penalty=l2;, score=0.909 total time=   0.0s\n",
      "[CV 2/5; 222/400] START C=56, penalty=l2........................................\n",
      "[CV 2/5; 222/400] END .........C=56, penalty=l2;, score=0.824 total time=   0.0s\n",
      "[CV 3/5; 222/400] START C=56, penalty=l2........................................\n",
      "[CV 3/5; 222/400] END .........C=56, penalty=l2;, score=0.941 total time=   0.0s\n",
      "[CV 4/5; 222/400] START C=56, penalty=l2........................................\n",
      "[CV 4/5; 222/400] END .........C=56, penalty=l2;, score=0.765 total time=   0.0s\n",
      "[CV 5/5; 222/400] START C=56, penalty=l2........................................\n",
      "[CV 5/5; 222/400] END .........C=56, penalty=l2;, score=0.794 total time=   0.0s\n",
      "[CV 1/5; 223/400] START C=56, penalty=elasticnet................................\n",
      "[CV 1/5; 223/400] END ...C=56, penalty=elasticnet;, score=nan total time=   0.0s\n",
      "[CV 2/5; 223/400] START C=56, penalty=elasticnet................................\n",
      "[CV 2/5; 223/400] END ...C=56, penalty=elasticnet;, score=nan total time=   0.0s\n",
      "[CV 3/5; 223/400] START C=56, penalty=elasticnet................................\n",
      "[CV 3/5; 223/400] END ...C=56, penalty=elasticnet;, score=nan total time=   0.0s\n",
      "[CV 4/5; 223/400] START C=56, penalty=elasticnet................................\n",
      "[CV 4/5; 223/400] END ...C=56, penalty=elasticnet;, score=nan total time=   0.0s\n",
      "[CV 5/5; 223/400] START C=56, penalty=elasticnet................................\n",
      "[CV 5/5; 223/400] END ...C=56, penalty=elasticnet;, score=nan total time=   0.0s\n",
      "[CV 1/5; 224/400] START C=56, penalty=None......................................\n",
      "[CV 1/5; 224/400] END .......C=56, penalty=None;, score=0.909 total time=   0.0s\n",
      "[CV 2/5; 224/400] START C=56, penalty=None......................................\n",
      "[CV 2/5; 224/400] END .......C=56, penalty=None;, score=0.853 total time=   0.0s\n",
      "[CV 3/5; 224/400] START C=56, penalty=None......................................\n",
      "[CV 3/5; 224/400] END .......C=56, penalty=None;, score=0.941 total time=   0.0s\n",
      "[CV 4/5; 224/400] START C=56, penalty=None......................................\n"
     ]
    },
    {
     "name": "stderr",
     "output_type": "stream",
     "text": [
      "C:\\Users\\Usuario\\anaconda3\\lib\\site-packages\\sklearn\\linear_model\\_logistic.py:1193: UserWarning:\n",
      "\n",
      "Setting penalty=None will ignore the C and l1_ratio parameters\n",
      "\n",
      "C:\\Users\\Usuario\\anaconda3\\lib\\site-packages\\sklearn\\linear_model\\_logistic.py:1193: UserWarning:\n",
      "\n",
      "Setting penalty=None will ignore the C and l1_ratio parameters\n",
      "\n",
      "C:\\Users\\Usuario\\anaconda3\\lib\\site-packages\\sklearn\\linear_model\\_logistic.py:1193: UserWarning:\n",
      "\n",
      "Setting penalty=None will ignore the C and l1_ratio parameters\n",
      "\n",
      "C:\\Users\\Usuario\\anaconda3\\lib\\site-packages\\sklearn\\linear_model\\_logistic.py:460: ConvergenceWarning:\n",
      "\n",
      "lbfgs failed to converge (status=1):\n",
      "STOP: TOTAL NO. of ITERATIONS REACHED LIMIT.\n",
      "\n",
      "Increase the number of iterations (max_iter) or scale the data as shown in:\n",
      "    https://scikit-learn.org/stable/modules/preprocessing.html\n",
      "Please also refer to the documentation for alternative solver options:\n",
      "    https://scikit-learn.org/stable/modules/linear_model.html#logistic-regression\n",
      "\n",
      "C:\\Users\\Usuario\\anaconda3\\lib\\site-packages\\sklearn\\linear_model\\_logistic.py:1193: UserWarning:\n",
      "\n",
      "Setting penalty=None will ignore the C and l1_ratio parameters\n",
      "\n",
      "C:\\Users\\Usuario\\anaconda3\\lib\\site-packages\\sklearn\\linear_model\\_logistic.py:1193: UserWarning:\n",
      "\n",
      "Setting penalty=None will ignore the C and l1_ratio parameters\n",
      "\n"
     ]
    },
    {
     "name": "stdout",
     "output_type": "stream",
     "text": [
      "[CV 4/5; 224/400] END .......C=56, penalty=None;, score=0.765 total time=   0.0s\n",
      "[CV 5/5; 224/400] START C=56, penalty=None......................................\n",
      "[CV 5/5; 224/400] END .......C=56, penalty=None;, score=0.824 total time=   0.0s\n",
      "[CV 1/5; 225/400] START C=57, penalty=l1........................................\n",
      "[CV 1/5; 225/400] END ...........C=57, penalty=l1;, score=nan total time=   0.0s\n",
      "[CV 2/5; 225/400] START C=57, penalty=l1........................................\n",
      "[CV 2/5; 225/400] END ...........C=57, penalty=l1;, score=nan total time=   0.0s\n",
      "[CV 3/5; 225/400] START C=57, penalty=l1........................................\n",
      "[CV 3/5; 225/400] END ...........C=57, penalty=l1;, score=nan total time=   0.0s\n",
      "[CV 4/5; 225/400] START C=57, penalty=l1........................................\n",
      "[CV 4/5; 225/400] END ...........C=57, penalty=l1;, score=nan total time=   0.0s\n",
      "[CV 5/5; 225/400] START C=57, penalty=l1........................................\n",
      "[CV 5/5; 225/400] END ...........C=57, penalty=l1;, score=nan total time=   0.0s\n",
      "[CV 1/5; 226/400] START C=57, penalty=l2........................................\n",
      "[CV 1/5; 226/400] END .........C=57, penalty=l2;, score=0.909 total time=   0.0s\n",
      "[CV 2/5; 226/400] START C=57, penalty=l2........................................\n",
      "[CV 2/5; 226/400] END .........C=57, penalty=l2;, score=0.824 total time=   0.0s\n",
      "[CV 3/5; 226/400] START C=57, penalty=l2........................................\n",
      "[CV 3/5; 226/400] END .........C=57, penalty=l2;, score=0.941 total time=   0.0s\n",
      "[CV 4/5; 226/400] START C=57, penalty=l2........................................\n",
      "[CV 4/5; 226/400] END .........C=57, penalty=l2;, score=0.765 total time=   0.0s\n",
      "[CV 5/5; 226/400] START C=57, penalty=l2........................................\n",
      "[CV 5/5; 226/400] END .........C=57, penalty=l2;, score=0.794 total time=   0.0s\n",
      "[CV 1/5; 227/400] START C=57, penalty=elasticnet................................\n",
      "[CV 1/5; 227/400] END ...C=57, penalty=elasticnet;, score=nan total time=   0.0s\n",
      "[CV 2/5; 227/400] START C=57, penalty=elasticnet................................\n",
      "[CV 2/5; 227/400] END ...C=57, penalty=elasticnet;, score=nan total time=   0.0s\n",
      "[CV 3/5; 227/400] START C=57, penalty=elasticnet................................\n",
      "[CV 3/5; 227/400] END ...C=57, penalty=elasticnet;, score=nan total time=   0.0s\n",
      "[CV 4/5; 227/400] START C=57, penalty=elasticnet................................\n",
      "[CV 4/5; 227/400] END ...C=57, penalty=elasticnet;, score=nan total time=   0.0s\n",
      "[CV 5/5; 227/400] START C=57, penalty=elasticnet................................\n",
      "[CV 5/5; 227/400] END ...C=57, penalty=elasticnet;, score=nan total time=   0.0s\n",
      "[CV 1/5; 228/400] START C=57, penalty=None......................................\n",
      "[CV 1/5; 228/400] END .......C=57, penalty=None;, score=0.909 total time=   0.0s\n",
      "[CV 2/5; 228/400] START C=57, penalty=None......................................\n",
      "[CV 2/5; 228/400] END .......C=57, penalty=None;, score=0.853 total time=   0.0s\n",
      "[CV 3/5; 228/400] START C=57, penalty=None......................................\n"
     ]
    },
    {
     "name": "stderr",
     "output_type": "stream",
     "text": [
      "C:\\Users\\Usuario\\anaconda3\\lib\\site-packages\\sklearn\\linear_model\\_logistic.py:1193: UserWarning:\n",
      "\n",
      "Setting penalty=None will ignore the C and l1_ratio parameters\n",
      "\n",
      "C:\\Users\\Usuario\\anaconda3\\lib\\site-packages\\sklearn\\linear_model\\_logistic.py:1193: UserWarning:\n",
      "\n",
      "Setting penalty=None will ignore the C and l1_ratio parameters\n",
      "\n",
      "C:\\Users\\Usuario\\anaconda3\\lib\\site-packages\\sklearn\\linear_model\\_logistic.py:1193: UserWarning:\n",
      "\n",
      "Setting penalty=None will ignore the C and l1_ratio parameters\n",
      "\n",
      "C:\\Users\\Usuario\\anaconda3\\lib\\site-packages\\sklearn\\linear_model\\_logistic.py:460: ConvergenceWarning:\n",
      "\n",
      "lbfgs failed to converge (status=1):\n",
      "STOP: TOTAL NO. of ITERATIONS REACHED LIMIT.\n",
      "\n",
      "Increase the number of iterations (max_iter) or scale the data as shown in:\n",
      "    https://scikit-learn.org/stable/modules/preprocessing.html\n",
      "Please also refer to the documentation for alternative solver options:\n",
      "    https://scikit-learn.org/stable/modules/linear_model.html#logistic-regression\n",
      "\n",
      "C:\\Users\\Usuario\\anaconda3\\lib\\site-packages\\sklearn\\linear_model\\_logistic.py:1193: UserWarning:\n",
      "\n",
      "Setting penalty=None will ignore the C and l1_ratio parameters\n",
      "\n",
      "C:\\Users\\Usuario\\anaconda3\\lib\\site-packages\\sklearn\\linear_model\\_logistic.py:1193: UserWarning:\n",
      "\n",
      "Setting penalty=None will ignore the C and l1_ratio parameters\n",
      "\n"
     ]
    },
    {
     "name": "stdout",
     "output_type": "stream",
     "text": [
      "[CV 3/5; 228/400] END .......C=57, penalty=None;, score=0.941 total time=   0.0s\n",
      "[CV 4/5; 228/400] START C=57, penalty=None......................................\n",
      "[CV 4/5; 228/400] END .......C=57, penalty=None;, score=0.765 total time=   0.0s\n",
      "[CV 5/5; 228/400] START C=57, penalty=None......................................\n",
      "[CV 5/5; 228/400] END .......C=57, penalty=None;, score=0.824 total time=   0.0s\n",
      "[CV 1/5; 229/400] START C=58, penalty=l1........................................\n",
      "[CV 1/5; 229/400] END ...........C=58, penalty=l1;, score=nan total time=   0.0s\n",
      "[CV 2/5; 229/400] START C=58, penalty=l1........................................\n",
      "[CV 2/5; 229/400] END ...........C=58, penalty=l1;, score=nan total time=   0.0s\n",
      "[CV 3/5; 229/400] START C=58, penalty=l1........................................\n",
      "[CV 3/5; 229/400] END ...........C=58, penalty=l1;, score=nan total time=   0.0s\n",
      "[CV 4/5; 229/400] START C=58, penalty=l1........................................\n",
      "[CV 4/5; 229/400] END ...........C=58, penalty=l1;, score=nan total time=   0.0s\n",
      "[CV 5/5; 229/400] START C=58, penalty=l1........................................\n",
      "[CV 5/5; 229/400] END ...........C=58, penalty=l1;, score=nan total time=   0.0s\n",
      "[CV 1/5; 230/400] START C=58, penalty=l2........................................\n",
      "[CV 1/5; 230/400] END .........C=58, penalty=l2;, score=0.909 total time=   0.0s\n",
      "[CV 2/5; 230/400] START C=58, penalty=l2........................................\n",
      "[CV 2/5; 230/400] END .........C=58, penalty=l2;, score=0.853 total time=   0.0s\n",
      "[CV 3/5; 230/400] START C=58, penalty=l2........................................\n"
     ]
    },
    {
     "name": "stderr",
     "output_type": "stream",
     "text": [
      "C:\\Users\\Usuario\\anaconda3\\lib\\site-packages\\sklearn\\linear_model\\_logistic.py:460: ConvergenceWarning:\n",
      "\n",
      "lbfgs failed to converge (status=1):\n",
      "STOP: TOTAL NO. of ITERATIONS REACHED LIMIT.\n",
      "\n",
      "Increase the number of iterations (max_iter) or scale the data as shown in:\n",
      "    https://scikit-learn.org/stable/modules/preprocessing.html\n",
      "Please also refer to the documentation for alternative solver options:\n",
      "    https://scikit-learn.org/stable/modules/linear_model.html#logistic-regression\n",
      "\n",
      "C:\\Users\\Usuario\\anaconda3\\lib\\site-packages\\sklearn\\linear_model\\_logistic.py:460: ConvergenceWarning:\n",
      "\n",
      "lbfgs failed to converge (status=1):\n",
      "STOP: TOTAL NO. of ITERATIONS REACHED LIMIT.\n",
      "\n",
      "Increase the number of iterations (max_iter) or scale the data as shown in:\n",
      "    https://scikit-learn.org/stable/modules/preprocessing.html\n",
      "Please also refer to the documentation for alternative solver options:\n",
      "    https://scikit-learn.org/stable/modules/linear_model.html#logistic-regression\n",
      "\n"
     ]
    },
    {
     "name": "stdout",
     "output_type": "stream",
     "text": [
      "[CV 3/5; 230/400] END .........C=58, penalty=l2;, score=0.912 total time=   0.0s\n",
      "[CV 4/5; 230/400] START C=58, penalty=l2........................................\n",
      "[CV 4/5; 230/400] END .........C=58, penalty=l2;, score=0.765 total time=   0.0s\n",
      "[CV 5/5; 230/400] START C=58, penalty=l2........................................\n",
      "[CV 5/5; 230/400] END .........C=58, penalty=l2;, score=0.824 total time=   0.0s\n",
      "[CV 1/5; 231/400] START C=58, penalty=elasticnet................................\n",
      "[CV 1/5; 231/400] END ...C=58, penalty=elasticnet;, score=nan total time=   0.0s\n",
      "[CV 2/5; 231/400] START C=58, penalty=elasticnet................................\n",
      "[CV 2/5; 231/400] END ...C=58, penalty=elasticnet;, score=nan total time=   0.0s\n",
      "[CV 3/5; 231/400] START C=58, penalty=elasticnet................................\n",
      "[CV 3/5; 231/400] END ...C=58, penalty=elasticnet;, score=nan total time=   0.0s\n",
      "[CV 4/5; 231/400] START C=58, penalty=elasticnet................................\n",
      "[CV 4/5; 231/400] END ...C=58, penalty=elasticnet;, score=nan total time=   0.0s\n",
      "[CV 5/5; 231/400] START C=58, penalty=elasticnet................................\n",
      "[CV 5/5; 231/400] END ...C=58, penalty=elasticnet;, score=nan total time=   0.0s\n",
      "[CV 1/5; 232/400] START C=58, penalty=None......................................\n",
      "[CV 1/5; 232/400] END .......C=58, penalty=None;, score=0.909 total time=   0.0s\n",
      "[CV 2/5; 232/400] START C=58, penalty=None......................................\n",
      "[CV 2/5; 232/400] END .......C=58, penalty=None;, score=0.853 total time=   0.0s\n",
      "[CV 3/5; 232/400] START C=58, penalty=None......................................\n"
     ]
    },
    {
     "name": "stderr",
     "output_type": "stream",
     "text": [
      "C:\\Users\\Usuario\\anaconda3\\lib\\site-packages\\sklearn\\linear_model\\_logistic.py:1193: UserWarning:\n",
      "\n",
      "Setting penalty=None will ignore the C and l1_ratio parameters\n",
      "\n",
      "C:\\Users\\Usuario\\anaconda3\\lib\\site-packages\\sklearn\\linear_model\\_logistic.py:1193: UserWarning:\n",
      "\n",
      "Setting penalty=None will ignore the C and l1_ratio parameters\n",
      "\n",
      "C:\\Users\\Usuario\\anaconda3\\lib\\site-packages\\sklearn\\linear_model\\_logistic.py:1193: UserWarning:\n",
      "\n",
      "Setting penalty=None will ignore the C and l1_ratio parameters\n",
      "\n",
      "C:\\Users\\Usuario\\anaconda3\\lib\\site-packages\\sklearn\\linear_model\\_logistic.py:460: ConvergenceWarning:\n",
      "\n",
      "lbfgs failed to converge (status=1):\n",
      "STOP: TOTAL NO. of ITERATIONS REACHED LIMIT.\n",
      "\n",
      "Increase the number of iterations (max_iter) or scale the data as shown in:\n",
      "    https://scikit-learn.org/stable/modules/preprocessing.html\n",
      "Please also refer to the documentation for alternative solver options:\n",
      "    https://scikit-learn.org/stable/modules/linear_model.html#logistic-regression\n",
      "\n",
      "C:\\Users\\Usuario\\anaconda3\\lib\\site-packages\\sklearn\\linear_model\\_logistic.py:1193: UserWarning:\n",
      "\n",
      "Setting penalty=None will ignore the C and l1_ratio parameters\n",
      "\n",
      "C:\\Users\\Usuario\\anaconda3\\lib\\site-packages\\sklearn\\linear_model\\_logistic.py:1193: UserWarning:\n",
      "\n",
      "Setting penalty=None will ignore the C and l1_ratio parameters\n",
      "\n"
     ]
    },
    {
     "name": "stdout",
     "output_type": "stream",
     "text": [
      "[CV 3/5; 232/400] END .......C=58, penalty=None;, score=0.941 total time=   0.0s\n",
      "[CV 4/5; 232/400] START C=58, penalty=None......................................\n",
      "[CV 4/5; 232/400] END .......C=58, penalty=None;, score=0.765 total time=   0.0s\n",
      "[CV 5/5; 232/400] START C=58, penalty=None......................................\n",
      "[CV 5/5; 232/400] END .......C=58, penalty=None;, score=0.824 total time=   0.0s\n",
      "[CV 1/5; 233/400] START C=59, penalty=l1........................................\n",
      "[CV 1/5; 233/400] END ...........C=59, penalty=l1;, score=nan total time=   0.0s\n",
      "[CV 2/5; 233/400] START C=59, penalty=l1........................................\n",
      "[CV 2/5; 233/400] END ...........C=59, penalty=l1;, score=nan total time=   0.0s\n",
      "[CV 3/5; 233/400] START C=59, penalty=l1........................................\n",
      "[CV 3/5; 233/400] END ...........C=59, penalty=l1;, score=nan total time=   0.0s\n",
      "[CV 4/5; 233/400] START C=59, penalty=l1........................................\n",
      "[CV 4/5; 233/400] END ...........C=59, penalty=l1;, score=nan total time=   0.0s\n",
      "[CV 5/5; 233/400] START C=59, penalty=l1........................................\n",
      "[CV 5/5; 233/400] END ...........C=59, penalty=l1;, score=nan total time=   0.0s\n",
      "[CV 1/5; 234/400] START C=59, penalty=l2........................................\n",
      "[CV 1/5; 234/400] END .........C=59, penalty=l2;, score=0.909 total time=   0.0s\n",
      "[CV 2/5; 234/400] START C=59, penalty=l2........................................\n",
      "[CV 2/5; 234/400] END .........C=59, penalty=l2;, score=0.824 total time=   0.0s\n",
      "[CV 3/5; 234/400] START C=59, penalty=l2........................................\n",
      "[CV 3/5; 234/400] END .........C=59, penalty=l2;, score=0.941 total time=   0.0s\n",
      "[CV 4/5; 234/400] START C=59, penalty=l2........................................\n",
      "[CV 4/5; 234/400] END .........C=59, penalty=l2;, score=0.765 total time=   0.0s\n",
      "[CV 5/5; 234/400] START C=59, penalty=l2........................................\n",
      "[CV 5/5; 234/400] END .........C=59, penalty=l2;, score=0.824 total time=   0.0s\n",
      "[CV 1/5; 235/400] START C=59, penalty=elasticnet................................\n",
      "[CV 1/5; 235/400] END ...C=59, penalty=elasticnet;, score=nan total time=   0.0s\n",
      "[CV 2/5; 235/400] START C=59, penalty=elasticnet................................\n",
      "[CV 2/5; 235/400] END ...C=59, penalty=elasticnet;, score=nan total time=   0.0s\n",
      "[CV 3/5; 235/400] START C=59, penalty=elasticnet................................\n",
      "[CV 3/5; 235/400] END ...C=59, penalty=elasticnet;, score=nan total time=   0.0s\n",
      "[CV 4/5; 235/400] START C=59, penalty=elasticnet................................\n",
      "[CV 4/5; 235/400] END ...C=59, penalty=elasticnet;, score=nan total time=   0.0s\n",
      "[CV 5/5; 235/400] START C=59, penalty=elasticnet................................\n",
      "[CV 5/5; 235/400] END ...C=59, penalty=elasticnet;, score=nan total time=   0.0s\n",
      "[CV 1/5; 236/400] START C=59, penalty=None......................................\n",
      "[CV 1/5; 236/400] END .......C=59, penalty=None;, score=0.909 total time=   0.0s\n",
      "[CV 2/5; 236/400] START C=59, penalty=None......................................\n",
      "[CV 2/5; 236/400] END .......C=59, penalty=None;, score=0.853 total time=   0.0s\n",
      "[CV 3/5; 236/400] START C=59, penalty=None......................................\n",
      "[CV 3/5; 236/400] END .......C=59, penalty=None;, score=0.941 total time=   0.0s\n",
      "[CV 4/5; 236/400] START C=59, penalty=None......................................\n",
      "[CV 4/5; 236/400] END .......C=59, penalty=None;, score=0.765 total time=   0.0s\n",
      "[CV 5/5; 236/400] START C=59, penalty=None......................................\n",
      "[CV 5/5; 236/400] END .......C=59, penalty=None;, score=0.824 total time=   0.0s\n",
      "[CV 1/5; 237/400] START C=60, penalty=l1........................................\n"
     ]
    },
    {
     "name": "stderr",
     "output_type": "stream",
     "text": [
      "C:\\Users\\Usuario\\anaconda3\\lib\\site-packages\\sklearn\\linear_model\\_logistic.py:1193: UserWarning:\n",
      "\n",
      "Setting penalty=None will ignore the C and l1_ratio parameters\n",
      "\n",
      "C:\\Users\\Usuario\\anaconda3\\lib\\site-packages\\sklearn\\linear_model\\_logistic.py:1193: UserWarning:\n",
      "\n",
      "Setting penalty=None will ignore the C and l1_ratio parameters\n",
      "\n",
      "C:\\Users\\Usuario\\anaconda3\\lib\\site-packages\\sklearn\\linear_model\\_logistic.py:1193: UserWarning:\n",
      "\n",
      "Setting penalty=None will ignore the C and l1_ratio parameters\n",
      "\n",
      "C:\\Users\\Usuario\\anaconda3\\lib\\site-packages\\sklearn\\linear_model\\_logistic.py:460: ConvergenceWarning:\n",
      "\n",
      "lbfgs failed to converge (status=1):\n",
      "STOP: TOTAL NO. of ITERATIONS REACHED LIMIT.\n",
      "\n",
      "Increase the number of iterations (max_iter) or scale the data as shown in:\n",
      "    https://scikit-learn.org/stable/modules/preprocessing.html\n",
      "Please also refer to the documentation for alternative solver options:\n",
      "    https://scikit-learn.org/stable/modules/linear_model.html#logistic-regression\n",
      "\n",
      "C:\\Users\\Usuario\\anaconda3\\lib\\site-packages\\sklearn\\linear_model\\_logistic.py:1193: UserWarning:\n",
      "\n",
      "Setting penalty=None will ignore the C and l1_ratio parameters\n",
      "\n",
      "C:\\Users\\Usuario\\anaconda3\\lib\\site-packages\\sklearn\\linear_model\\_logistic.py:1193: UserWarning:\n",
      "\n",
      "Setting penalty=None will ignore the C and l1_ratio parameters\n",
      "\n"
     ]
    },
    {
     "name": "stdout",
     "output_type": "stream",
     "text": [
      "[CV 1/5; 237/400] END ...........C=60, penalty=l1;, score=nan total time=   0.0s\n",
      "[CV 2/5; 237/400] START C=60, penalty=l1........................................\n",
      "[CV 2/5; 237/400] END ...........C=60, penalty=l1;, score=nan total time=   0.0s\n",
      "[CV 3/5; 237/400] START C=60, penalty=l1........................................\n",
      "[CV 3/5; 237/400] END ...........C=60, penalty=l1;, score=nan total time=   0.0s\n",
      "[CV 4/5; 237/400] START C=60, penalty=l1........................................\n",
      "[CV 4/5; 237/400] END ...........C=60, penalty=l1;, score=nan total time=   0.0s\n",
      "[CV 5/5; 237/400] START C=60, penalty=l1........................................\n",
      "[CV 5/5; 237/400] END ...........C=60, penalty=l1;, score=nan total time=   0.0s\n",
      "[CV 1/5; 238/400] START C=60, penalty=l2........................................\n",
      "[CV 1/5; 238/400] END .........C=60, penalty=l2;, score=0.909 total time=   0.0s\n",
      "[CV 2/5; 238/400] START C=60, penalty=l2........................................\n",
      "[CV 2/5; 238/400] END .........C=60, penalty=l2;, score=0.824 total time=   0.0s\n",
      "[CV 3/5; 238/400] START C=60, penalty=l2........................................\n",
      "[CV 3/5; 238/400] END .........C=60, penalty=l2;, score=0.941 total time=   0.0s\n",
      "[CV 4/5; 238/400] START C=60, penalty=l2........................................\n",
      "[CV 4/5; 238/400] END .........C=60, penalty=l2;, score=0.765 total time=   0.0s\n",
      "[CV 5/5; 238/400] START C=60, penalty=l2........................................\n",
      "[CV 5/5; 238/400] END .........C=60, penalty=l2;, score=0.824 total time=   0.0s\n",
      "[CV 1/5; 239/400] START C=60, penalty=elasticnet................................\n",
      "[CV 1/5; 239/400] END ...C=60, penalty=elasticnet;, score=nan total time=   0.0s\n",
      "[CV 2/5; 239/400] START C=60, penalty=elasticnet................................\n",
      "[CV 2/5; 239/400] END ...C=60, penalty=elasticnet;, score=nan total time=   0.0s\n",
      "[CV 3/5; 239/400] START C=60, penalty=elasticnet................................\n",
      "[CV 3/5; 239/400] END ...C=60, penalty=elasticnet;, score=nan total time=   0.0s\n",
      "[CV 4/5; 239/400] START C=60, penalty=elasticnet................................\n",
      "[CV 4/5; 239/400] END ...C=60, penalty=elasticnet;, score=nan total time=   0.0s\n",
      "[CV 5/5; 239/400] START C=60, penalty=elasticnet................................\n",
      "[CV 5/5; 239/400] END ...C=60, penalty=elasticnet;, score=nan total time=   0.0s\n",
      "[CV 1/5; 240/400] START C=60, penalty=None......................................\n",
      "[CV 1/5; 240/400] END .......C=60, penalty=None;, score=0.909 total time=   0.0s\n",
      "[CV 2/5; 240/400] START C=60, penalty=None......................................\n"
     ]
    },
    {
     "name": "stderr",
     "output_type": "stream",
     "text": [
      "C:\\Users\\Usuario\\anaconda3\\lib\\site-packages\\sklearn\\linear_model\\_logistic.py:1193: UserWarning:\n",
      "\n",
      "Setting penalty=None will ignore the C and l1_ratio parameters\n",
      "\n",
      "C:\\Users\\Usuario\\anaconda3\\lib\\site-packages\\sklearn\\linear_model\\_logistic.py:1193: UserWarning:\n",
      "\n",
      "Setting penalty=None will ignore the C and l1_ratio parameters\n",
      "\n",
      "C:\\Users\\Usuario\\anaconda3\\lib\\site-packages\\sklearn\\linear_model\\_logistic.py:1193: UserWarning:\n",
      "\n",
      "Setting penalty=None will ignore the C and l1_ratio parameters\n",
      "\n",
      "C:\\Users\\Usuario\\anaconda3\\lib\\site-packages\\sklearn\\linear_model\\_logistic.py:460: ConvergenceWarning:\n",
      "\n",
      "lbfgs failed to converge (status=1):\n",
      "STOP: TOTAL NO. of ITERATIONS REACHED LIMIT.\n",
      "\n",
      "Increase the number of iterations (max_iter) or scale the data as shown in:\n",
      "    https://scikit-learn.org/stable/modules/preprocessing.html\n",
      "Please also refer to the documentation for alternative solver options:\n",
      "    https://scikit-learn.org/stable/modules/linear_model.html#logistic-regression\n",
      "\n",
      "C:\\Users\\Usuario\\anaconda3\\lib\\site-packages\\sklearn\\linear_model\\_logistic.py:1193: UserWarning:\n",
      "\n",
      "Setting penalty=None will ignore the C and l1_ratio parameters\n",
      "\n",
      "C:\\Users\\Usuario\\anaconda3\\lib\\site-packages\\sklearn\\linear_model\\_logistic.py:1193: UserWarning:\n",
      "\n",
      "Setting penalty=None will ignore the C and l1_ratio parameters\n",
      "\n"
     ]
    },
    {
     "name": "stdout",
     "output_type": "stream",
     "text": [
      "[CV 2/5; 240/400] END .......C=60, penalty=None;, score=0.853 total time=   0.0s\n",
      "[CV 3/5; 240/400] START C=60, penalty=None......................................\n",
      "[CV 3/5; 240/400] END .......C=60, penalty=None;, score=0.941 total time=   0.0s\n",
      "[CV 4/5; 240/400] START C=60, penalty=None......................................\n",
      "[CV 4/5; 240/400] END .......C=60, penalty=None;, score=0.765 total time=   0.0s\n",
      "[CV 5/5; 240/400] START C=60, penalty=None......................................\n",
      "[CV 5/5; 240/400] END .......C=60, penalty=None;, score=0.824 total time=   0.0s\n",
      "[CV 1/5; 241/400] START C=61, penalty=l1........................................\n",
      "[CV 1/5; 241/400] END ...........C=61, penalty=l1;, score=nan total time=   0.0s\n",
      "[CV 2/5; 241/400] START C=61, penalty=l1........................................\n",
      "[CV 2/5; 241/400] END ...........C=61, penalty=l1;, score=nan total time=   0.0s\n",
      "[CV 3/5; 241/400] START C=61, penalty=l1........................................\n",
      "[CV 3/5; 241/400] END ...........C=61, penalty=l1;, score=nan total time=   0.0s\n",
      "[CV 4/5; 241/400] START C=61, penalty=l1........................................\n",
      "[CV 4/5; 241/400] END ...........C=61, penalty=l1;, score=nan total time=   0.0s\n",
      "[CV 5/5; 241/400] START C=61, penalty=l1........................................\n",
      "[CV 5/5; 241/400] END ...........C=61, penalty=l1;, score=nan total time=   0.0s\n",
      "[CV 1/5; 242/400] START C=61, penalty=l2........................................\n",
      "[CV 1/5; 242/400] END .........C=61, penalty=l2;, score=0.909 total time=   0.0s\n",
      "[CV 2/5; 242/400] START C=61, penalty=l2........................................\n",
      "[CV 2/5; 242/400] END .........C=61, penalty=l2;, score=0.824 total time=   0.0s\n",
      "[CV 3/5; 242/400] START C=61, penalty=l2........................................\n",
      "[CV 3/5; 242/400] END .........C=61, penalty=l2;, score=0.912 total time=   0.0s\n",
      "[CV 4/5; 242/400] START C=61, penalty=l2........................................\n",
      "[CV 4/5; 242/400] END .........C=61, penalty=l2;, score=0.765 total time=   0.0s\n",
      "[CV 5/5; 242/400] START C=61, penalty=l2........................................\n",
      "[CV 5/5; 242/400] END .........C=61, penalty=l2;, score=0.824 total time=   0.0s\n",
      "[CV 1/5; 243/400] START C=61, penalty=elasticnet................................\n",
      "[CV 1/5; 243/400] END ...C=61, penalty=elasticnet;, score=nan total time=   0.0s\n",
      "[CV 2/5; 243/400] START C=61, penalty=elasticnet................................\n",
      "[CV 2/5; 243/400] END ...C=61, penalty=elasticnet;, score=nan total time=   0.0s\n",
      "[CV 3/5; 243/400] START C=61, penalty=elasticnet................................\n",
      "[CV 3/5; 243/400] END ...C=61, penalty=elasticnet;, score=nan total time=   0.0s\n",
      "[CV 4/5; 243/400] START C=61, penalty=elasticnet................................\n",
      "[CV 4/5; 243/400] END ...C=61, penalty=elasticnet;, score=nan total time=   0.0s\n",
      "[CV 5/5; 243/400] START C=61, penalty=elasticnet................................\n",
      "[CV 5/5; 243/400] END ...C=61, penalty=elasticnet;, score=nan total time=   0.0s\n",
      "[CV 1/5; 244/400] START C=61, penalty=None......................................\n",
      "[CV 1/5; 244/400] END .......C=61, penalty=None;, score=0.909 total time=   0.0s\n",
      "[CV 2/5; 244/400] START C=61, penalty=None......................................\n",
      "[CV 2/5; 244/400] END .......C=61, penalty=None;, score=0.853 total time=   0.0s\n",
      "[CV 3/5; 244/400] START C=61, penalty=None......................................\n",
      "[CV 3/5; 244/400] END .......C=61, penalty=None;, score=0.941 total time=   0.0s\n",
      "[CV 4/5; 244/400] START C=61, penalty=None......................................\n",
      "[CV 4/5; 244/400] END .......C=61, penalty=None;, score=0.765 total time=   0.0s\n",
      "[CV 5/5; 244/400] START C=61, penalty=None......................................\n",
      "[CV 5/5; 244/400] END .......C=61, penalty=None;, score=0.824 total time=   0.0s\n",
      "[CV 1/5; 245/400] START C=62, penalty=l1........................................\n"
     ]
    },
    {
     "name": "stderr",
     "output_type": "stream",
     "text": [
      "C:\\Users\\Usuario\\anaconda3\\lib\\site-packages\\sklearn\\linear_model\\_logistic.py:1193: UserWarning:\n",
      "\n",
      "Setting penalty=None will ignore the C and l1_ratio parameters\n",
      "\n",
      "C:\\Users\\Usuario\\anaconda3\\lib\\site-packages\\sklearn\\linear_model\\_logistic.py:1193: UserWarning:\n",
      "\n",
      "Setting penalty=None will ignore the C and l1_ratio parameters\n",
      "\n",
      "C:\\Users\\Usuario\\anaconda3\\lib\\site-packages\\sklearn\\linear_model\\_logistic.py:1193: UserWarning:\n",
      "\n",
      "Setting penalty=None will ignore the C and l1_ratio parameters\n",
      "\n",
      "C:\\Users\\Usuario\\anaconda3\\lib\\site-packages\\sklearn\\linear_model\\_logistic.py:460: ConvergenceWarning:\n",
      "\n",
      "lbfgs failed to converge (status=1):\n",
      "STOP: TOTAL NO. of ITERATIONS REACHED LIMIT.\n",
      "\n",
      "Increase the number of iterations (max_iter) or scale the data as shown in:\n",
      "    https://scikit-learn.org/stable/modules/preprocessing.html\n",
      "Please also refer to the documentation for alternative solver options:\n",
      "    https://scikit-learn.org/stable/modules/linear_model.html#logistic-regression\n",
      "\n",
      "C:\\Users\\Usuario\\anaconda3\\lib\\site-packages\\sklearn\\linear_model\\_logistic.py:1193: UserWarning:\n",
      "\n",
      "Setting penalty=None will ignore the C and l1_ratio parameters\n",
      "\n",
      "C:\\Users\\Usuario\\anaconda3\\lib\\site-packages\\sklearn\\linear_model\\_logistic.py:1193: UserWarning:\n",
      "\n",
      "Setting penalty=None will ignore the C and l1_ratio parameters\n",
      "\n"
     ]
    },
    {
     "name": "stdout",
     "output_type": "stream",
     "text": [
      "[CV 1/5; 245/400] END ...........C=62, penalty=l1;, score=nan total time=   0.0s\n",
      "[CV 2/5; 245/400] START C=62, penalty=l1........................................\n",
      "[CV 2/5; 245/400] END ...........C=62, penalty=l1;, score=nan total time=   0.0s\n",
      "[CV 3/5; 245/400] START C=62, penalty=l1........................................\n",
      "[CV 3/5; 245/400] END ...........C=62, penalty=l1;, score=nan total time=   0.0s\n",
      "[CV 4/5; 245/400] START C=62, penalty=l1........................................\n",
      "[CV 4/5; 245/400] END ...........C=62, penalty=l1;, score=nan total time=   0.0s\n",
      "[CV 5/5; 245/400] START C=62, penalty=l1........................................\n",
      "[CV 5/5; 245/400] END ...........C=62, penalty=l1;, score=nan total time=   0.0s\n",
      "[CV 1/5; 246/400] START C=62, penalty=l2........................................\n",
      "[CV 1/5; 246/400] END .........C=62, penalty=l2;, score=0.909 total time=   0.0s\n",
      "[CV 2/5; 246/400] START C=62, penalty=l2........................................\n",
      "[CV 2/5; 246/400] END .........C=62, penalty=l2;, score=0.824 total time=   0.0s\n",
      "[CV 3/5; 246/400] START C=62, penalty=l2........................................\n",
      "[CV 3/5; 246/400] END .........C=62, penalty=l2;, score=0.941 total time=   0.0s\n",
      "[CV 4/5; 246/400] START C=62, penalty=l2........................................\n",
      "[CV 4/5; 246/400] END .........C=62, penalty=l2;, score=0.765 total time=   0.0s\n",
      "[CV 5/5; 246/400] START C=62, penalty=l2........................................\n",
      "[CV 5/5; 246/400] END .........C=62, penalty=l2;, score=0.794 total time=   0.0s\n",
      "[CV 1/5; 247/400] START C=62, penalty=elasticnet................................\n",
      "[CV 1/5; 247/400] END ...C=62, penalty=elasticnet;, score=nan total time=   0.0s\n",
      "[CV 2/5; 247/400] START C=62, penalty=elasticnet................................\n",
      "[CV 2/5; 247/400] END ...C=62, penalty=elasticnet;, score=nan total time=   0.0s\n",
      "[CV 3/5; 247/400] START C=62, penalty=elasticnet................................\n",
      "[CV 3/5; 247/400] END ...C=62, penalty=elasticnet;, score=nan total time=   0.0s\n",
      "[CV 4/5; 247/400] START C=62, penalty=elasticnet................................\n",
      "[CV 4/5; 247/400] END ...C=62, penalty=elasticnet;, score=nan total time=   0.0s\n",
      "[CV 5/5; 247/400] START C=62, penalty=elasticnet................................\n",
      "[CV 5/5; 247/400] END ...C=62, penalty=elasticnet;, score=nan total time=   0.0s\n",
      "[CV 1/5; 248/400] START C=62, penalty=None......................................\n"
     ]
    },
    {
     "name": "stderr",
     "output_type": "stream",
     "text": [
      "C:\\Users\\Usuario\\anaconda3\\lib\\site-packages\\sklearn\\linear_model\\_logistic.py:1193: UserWarning:\n",
      "\n",
      "Setting penalty=None will ignore the C and l1_ratio parameters\n",
      "\n",
      "C:\\Users\\Usuario\\anaconda3\\lib\\site-packages\\sklearn\\linear_model\\_logistic.py:1193: UserWarning:\n",
      "\n",
      "Setting penalty=None will ignore the C and l1_ratio parameters\n",
      "\n",
      "C:\\Users\\Usuario\\anaconda3\\lib\\site-packages\\sklearn\\linear_model\\_logistic.py:1193: UserWarning:\n",
      "\n",
      "Setting penalty=None will ignore the C and l1_ratio parameters\n",
      "\n",
      "C:\\Users\\Usuario\\anaconda3\\lib\\site-packages\\sklearn\\linear_model\\_logistic.py:460: ConvergenceWarning:\n",
      "\n",
      "lbfgs failed to converge (status=1):\n",
      "STOP: TOTAL NO. of ITERATIONS REACHED LIMIT.\n",
      "\n",
      "Increase the number of iterations (max_iter) or scale the data as shown in:\n",
      "    https://scikit-learn.org/stable/modules/preprocessing.html\n",
      "Please also refer to the documentation for alternative solver options:\n",
      "    https://scikit-learn.org/stable/modules/linear_model.html#logistic-regression\n",
      "\n",
      "C:\\Users\\Usuario\\anaconda3\\lib\\site-packages\\sklearn\\linear_model\\_logistic.py:1193: UserWarning:\n",
      "\n",
      "Setting penalty=None will ignore the C and l1_ratio parameters\n",
      "\n",
      "C:\\Users\\Usuario\\anaconda3\\lib\\site-packages\\sklearn\\linear_model\\_logistic.py:1193: UserWarning:\n",
      "\n",
      "Setting penalty=None will ignore the C and l1_ratio parameters\n",
      "\n"
     ]
    },
    {
     "name": "stdout",
     "output_type": "stream",
     "text": [
      "[CV 1/5; 248/400] END .......C=62, penalty=None;, score=0.909 total time=   0.0s\n",
      "[CV 2/5; 248/400] START C=62, penalty=None......................................\n",
      "[CV 2/5; 248/400] END .......C=62, penalty=None;, score=0.853 total time=   0.0s\n",
      "[CV 3/5; 248/400] START C=62, penalty=None......................................\n",
      "[CV 3/5; 248/400] END .......C=62, penalty=None;, score=0.941 total time=   0.0s\n",
      "[CV 4/5; 248/400] START C=62, penalty=None......................................\n",
      "[CV 4/5; 248/400] END .......C=62, penalty=None;, score=0.765 total time=   0.0s\n",
      "[CV 5/5; 248/400] START C=62, penalty=None......................................\n",
      "[CV 5/5; 248/400] END .......C=62, penalty=None;, score=0.824 total time=   0.0s\n",
      "[CV 1/5; 249/400] START C=63, penalty=l1........................................\n",
      "[CV 1/5; 249/400] END ...........C=63, penalty=l1;, score=nan total time=   0.0s\n",
      "[CV 2/5; 249/400] START C=63, penalty=l1........................................\n",
      "[CV 2/5; 249/400] END ...........C=63, penalty=l1;, score=nan total time=   0.0s\n",
      "[CV 3/5; 249/400] START C=63, penalty=l1........................................\n",
      "[CV 3/5; 249/400] END ...........C=63, penalty=l1;, score=nan total time=   0.0s\n",
      "[CV 4/5; 249/400] START C=63, penalty=l1........................................\n",
      "[CV 4/5; 249/400] END ...........C=63, penalty=l1;, score=nan total time=   0.0s\n",
      "[CV 5/5; 249/400] START C=63, penalty=l1........................................\n",
      "[CV 5/5; 249/400] END ...........C=63, penalty=l1;, score=nan total time=   0.0s\n",
      "[CV 1/5; 250/400] START C=63, penalty=l2........................................\n",
      "[CV 1/5; 250/400] END .........C=63, penalty=l2;, score=0.909 total time=   0.0s\n",
      "[CV 2/5; 250/400] START C=63, penalty=l2........................................\n",
      "[CV 2/5; 250/400] END .........C=63, penalty=l2;, score=0.824 total time=   0.0s\n",
      "[CV 3/5; 250/400] START C=63, penalty=l2........................................\n",
      "[CV 3/5; 250/400] END .........C=63, penalty=l2;, score=0.941 total time=   0.0s\n",
      "[CV 4/5; 250/400] START C=63, penalty=l2........................................\n",
      "[CV 4/5; 250/400] END .........C=63, penalty=l2;, score=0.765 total time=   0.0s\n",
      "[CV 5/5; 250/400] START C=63, penalty=l2........................................\n",
      "[CV 5/5; 250/400] END .........C=63, penalty=l2;, score=0.794 total time=   0.0s\n",
      "[CV 1/5; 251/400] START C=63, penalty=elasticnet................................\n",
      "[CV 1/5; 251/400] END ...C=63, penalty=elasticnet;, score=nan total time=   0.0s\n",
      "[CV 2/5; 251/400] START C=63, penalty=elasticnet................................\n",
      "[CV 2/5; 251/400] END ...C=63, penalty=elasticnet;, score=nan total time=   0.0s\n",
      "[CV 3/5; 251/400] START C=63, penalty=elasticnet................................\n",
      "[CV 3/5; 251/400] END ...C=63, penalty=elasticnet;, score=nan total time=   0.0s\n",
      "[CV 4/5; 251/400] START C=63, penalty=elasticnet................................\n",
      "[CV 4/5; 251/400] END ...C=63, penalty=elasticnet;, score=nan total time=   0.0s\n",
      "[CV 5/5; 251/400] START C=63, penalty=elasticnet................................\n",
      "[CV 5/5; 251/400] END ...C=63, penalty=elasticnet;, score=nan total time=   0.0s\n",
      "[CV 1/5; 252/400] START C=63, penalty=None......................................\n",
      "[CV 1/5; 252/400] END .......C=63, penalty=None;, score=0.909 total time=   0.0s\n",
      "[CV 2/5; 252/400] START C=63, penalty=None......................................\n",
      "[CV 2/5; 252/400] END .......C=63, penalty=None;, score=0.853 total time=   0.0s\n",
      "[CV 3/5; 252/400] START C=63, penalty=None......................................\n",
      "[CV 3/5; 252/400] END .......C=63, penalty=None;, score=0.941 total time=   0.0s\n",
      "[CV 4/5; 252/400] START C=63, penalty=None......................................\n",
      "[CV 4/5; 252/400] END .......C=63, penalty=None;, score=0.765 total time=   0.0s\n",
      "[CV 5/5; 252/400] START C=63, penalty=None......................................\n"
     ]
    },
    {
     "name": "stderr",
     "output_type": "stream",
     "text": [
      "C:\\Users\\Usuario\\anaconda3\\lib\\site-packages\\sklearn\\linear_model\\_logistic.py:1193: UserWarning:\n",
      "\n",
      "Setting penalty=None will ignore the C and l1_ratio parameters\n",
      "\n",
      "C:\\Users\\Usuario\\anaconda3\\lib\\site-packages\\sklearn\\linear_model\\_logistic.py:1193: UserWarning:\n",
      "\n",
      "Setting penalty=None will ignore the C and l1_ratio parameters\n",
      "\n",
      "C:\\Users\\Usuario\\anaconda3\\lib\\site-packages\\sklearn\\linear_model\\_logistic.py:1193: UserWarning:\n",
      "\n",
      "Setting penalty=None will ignore the C and l1_ratio parameters\n",
      "\n",
      "C:\\Users\\Usuario\\anaconda3\\lib\\site-packages\\sklearn\\linear_model\\_logistic.py:460: ConvergenceWarning:\n",
      "\n",
      "lbfgs failed to converge (status=1):\n",
      "STOP: TOTAL NO. of ITERATIONS REACHED LIMIT.\n",
      "\n",
      "Increase the number of iterations (max_iter) or scale the data as shown in:\n",
      "    https://scikit-learn.org/stable/modules/preprocessing.html\n",
      "Please also refer to the documentation for alternative solver options:\n",
      "    https://scikit-learn.org/stable/modules/linear_model.html#logistic-regression\n",
      "\n",
      "C:\\Users\\Usuario\\anaconda3\\lib\\site-packages\\sklearn\\linear_model\\_logistic.py:1193: UserWarning:\n",
      "\n",
      "Setting penalty=None will ignore the C and l1_ratio parameters\n",
      "\n",
      "C:\\Users\\Usuario\\anaconda3\\lib\\site-packages\\sklearn\\linear_model\\_logistic.py:1193: UserWarning:\n",
      "\n",
      "Setting penalty=None will ignore the C and l1_ratio parameters\n",
      "\n"
     ]
    },
    {
     "name": "stdout",
     "output_type": "stream",
     "text": [
      "[CV 5/5; 252/400] END .......C=63, penalty=None;, score=0.824 total time=   0.0s\n",
      "[CV 1/5; 253/400] START C=64, penalty=l1........................................\n",
      "[CV 1/5; 253/400] END ...........C=64, penalty=l1;, score=nan total time=   0.0s\n",
      "[CV 2/5; 253/400] START C=64, penalty=l1........................................\n",
      "[CV 2/5; 253/400] END ...........C=64, penalty=l1;, score=nan total time=   0.0s\n",
      "[CV 3/5; 253/400] START C=64, penalty=l1........................................\n",
      "[CV 3/5; 253/400] END ...........C=64, penalty=l1;, score=nan total time=   0.0s\n",
      "[CV 4/5; 253/400] START C=64, penalty=l1........................................\n",
      "[CV 4/5; 253/400] END ...........C=64, penalty=l1;, score=nan total time=   0.0s\n",
      "[CV 5/5; 253/400] START C=64, penalty=l1........................................\n",
      "[CV 5/5; 253/400] END ...........C=64, penalty=l1;, score=nan total time=   0.0s\n",
      "[CV 1/5; 254/400] START C=64, penalty=l2........................................\n",
      "[CV 1/5; 254/400] END .........C=64, penalty=l2;, score=0.909 total time=   0.0s\n",
      "[CV 2/5; 254/400] START C=64, penalty=l2........................................\n",
      "[CV 2/5; 254/400] END .........C=64, penalty=l2;, score=0.824 total time=   0.0s\n",
      "[CV 3/5; 254/400] START C=64, penalty=l2........................................\n",
      "[CV 3/5; 254/400] END .........C=64, penalty=l2;, score=0.941 total time=   0.0s\n",
      "[CV 4/5; 254/400] START C=64, penalty=l2........................................\n",
      "[CV 4/5; 254/400] END .........C=64, penalty=l2;, score=0.765 total time=   0.0s\n",
      "[CV 5/5; 254/400] START C=64, penalty=l2........................................\n",
      "[CV 5/5; 254/400] END .........C=64, penalty=l2;, score=0.794 total time=   0.0s\n",
      "[CV 1/5; 255/400] START C=64, penalty=elasticnet................................\n",
      "[CV 1/5; 255/400] END ...C=64, penalty=elasticnet;, score=nan total time=   0.0s\n",
      "[CV 2/5; 255/400] START C=64, penalty=elasticnet................................\n",
      "[CV 2/5; 255/400] END ...C=64, penalty=elasticnet;, score=nan total time=   0.0s\n",
      "[CV 3/5; 255/400] START C=64, penalty=elasticnet................................\n",
      "[CV 3/5; 255/400] END ...C=64, penalty=elasticnet;, score=nan total time=   0.0s\n",
      "[CV 4/5; 255/400] START C=64, penalty=elasticnet................................\n",
      "[CV 4/5; 255/400] END ...C=64, penalty=elasticnet;, score=nan total time=   0.0s\n",
      "[CV 5/5; 255/400] START C=64, penalty=elasticnet................................\n",
      "[CV 5/5; 255/400] END ...C=64, penalty=elasticnet;, score=nan total time=   0.0s\n",
      "[CV 1/5; 256/400] START C=64, penalty=None......................................\n",
      "[CV 1/5; 256/400] END .......C=64, penalty=None;, score=0.909 total time=   0.0s\n",
      "[CV 2/5; 256/400] START C=64, penalty=None......................................\n"
     ]
    },
    {
     "name": "stderr",
     "output_type": "stream",
     "text": [
      "C:\\Users\\Usuario\\anaconda3\\lib\\site-packages\\sklearn\\linear_model\\_logistic.py:1193: UserWarning:\n",
      "\n",
      "Setting penalty=None will ignore the C and l1_ratio parameters\n",
      "\n",
      "C:\\Users\\Usuario\\anaconda3\\lib\\site-packages\\sklearn\\linear_model\\_logistic.py:1193: UserWarning:\n",
      "\n",
      "Setting penalty=None will ignore the C and l1_ratio parameters\n",
      "\n",
      "C:\\Users\\Usuario\\anaconda3\\lib\\site-packages\\sklearn\\linear_model\\_logistic.py:1193: UserWarning:\n",
      "\n",
      "Setting penalty=None will ignore the C and l1_ratio parameters\n",
      "\n",
      "C:\\Users\\Usuario\\anaconda3\\lib\\site-packages\\sklearn\\linear_model\\_logistic.py:460: ConvergenceWarning:\n",
      "\n",
      "lbfgs failed to converge (status=1):\n",
      "STOP: TOTAL NO. of ITERATIONS REACHED LIMIT.\n",
      "\n",
      "Increase the number of iterations (max_iter) or scale the data as shown in:\n",
      "    https://scikit-learn.org/stable/modules/preprocessing.html\n",
      "Please also refer to the documentation for alternative solver options:\n",
      "    https://scikit-learn.org/stable/modules/linear_model.html#logistic-regression\n",
      "\n",
      "C:\\Users\\Usuario\\anaconda3\\lib\\site-packages\\sklearn\\linear_model\\_logistic.py:1193: UserWarning:\n",
      "\n",
      "Setting penalty=None will ignore the C and l1_ratio parameters\n",
      "\n",
      "C:\\Users\\Usuario\\anaconda3\\lib\\site-packages\\sklearn\\linear_model\\_logistic.py:1193: UserWarning:\n",
      "\n",
      "Setting penalty=None will ignore the C and l1_ratio parameters\n",
      "\n"
     ]
    },
    {
     "name": "stdout",
     "output_type": "stream",
     "text": [
      "[CV 2/5; 256/400] END .......C=64, penalty=None;, score=0.853 total time=   0.0s\n",
      "[CV 3/5; 256/400] START C=64, penalty=None......................................\n",
      "[CV 3/5; 256/400] END .......C=64, penalty=None;, score=0.941 total time=   0.0s\n",
      "[CV 4/5; 256/400] START C=64, penalty=None......................................\n",
      "[CV 4/5; 256/400] END .......C=64, penalty=None;, score=0.765 total time=   0.0s\n",
      "[CV 5/5; 256/400] START C=64, penalty=None......................................\n",
      "[CV 5/5; 256/400] END .......C=64, penalty=None;, score=0.824 total time=   0.0s\n",
      "[CV 1/5; 257/400] START C=65, penalty=l1........................................\n",
      "[CV 1/5; 257/400] END ...........C=65, penalty=l1;, score=nan total time=   0.0s\n",
      "[CV 2/5; 257/400] START C=65, penalty=l1........................................\n",
      "[CV 2/5; 257/400] END ...........C=65, penalty=l1;, score=nan total time=   0.0s\n",
      "[CV 3/5; 257/400] START C=65, penalty=l1........................................\n",
      "[CV 3/5; 257/400] END ...........C=65, penalty=l1;, score=nan total time=   0.0s\n",
      "[CV 4/5; 257/400] START C=65, penalty=l1........................................\n",
      "[CV 4/5; 257/400] END ...........C=65, penalty=l1;, score=nan total time=   0.0s\n",
      "[CV 5/5; 257/400] START C=65, penalty=l1........................................\n",
      "[CV 5/5; 257/400] END ...........C=65, penalty=l1;, score=nan total time=   0.0s\n",
      "[CV 1/5; 258/400] START C=65, penalty=l2........................................\n",
      "[CV 1/5; 258/400] END .........C=65, penalty=l2;, score=0.909 total time=   0.0s\n",
      "[CV 2/5; 258/400] START C=65, penalty=l2........................................\n",
      "[CV 2/5; 258/400] END .........C=65, penalty=l2;, score=0.824 total time=   0.0s\n",
      "[CV 3/5; 258/400] START C=65, penalty=l2........................................\n",
      "[CV 3/5; 258/400] END .........C=65, penalty=l2;, score=0.941 total time=   0.0s\n",
      "[CV 4/5; 258/400] START C=65, penalty=l2........................................\n",
      "[CV 4/5; 258/400] END .........C=65, penalty=l2;, score=0.765 total time=   0.0s\n",
      "[CV 5/5; 258/400] START C=65, penalty=l2........................................\n",
      "[CV 5/5; 258/400] END .........C=65, penalty=l2;, score=0.824 total time=   0.0s\n",
      "[CV 1/5; 259/400] START C=65, penalty=elasticnet................................\n",
      "[CV 1/5; 259/400] END ...C=65, penalty=elasticnet;, score=nan total time=   0.0s\n",
      "[CV 2/5; 259/400] START C=65, penalty=elasticnet................................\n",
      "[CV 2/5; 259/400] END ...C=65, penalty=elasticnet;, score=nan total time=   0.0s\n",
      "[CV 3/5; 259/400] START C=65, penalty=elasticnet................................\n",
      "[CV 3/5; 259/400] END ...C=65, penalty=elasticnet;, score=nan total time=   0.0s\n",
      "[CV 4/5; 259/400] START C=65, penalty=elasticnet................................\n",
      "[CV 4/5; 259/400] END ...C=65, penalty=elasticnet;, score=nan total time=   0.0s\n",
      "[CV 5/5; 259/400] START C=65, penalty=elasticnet................................\n",
      "[CV 5/5; 259/400] END ...C=65, penalty=elasticnet;, score=nan total time=   0.0s\n",
      "[CV 1/5; 260/400] START C=65, penalty=None......................................\n",
      "[CV 1/5; 260/400] END .......C=65, penalty=None;, score=0.909 total time=   0.0s\n",
      "[CV 2/5; 260/400] START C=65, penalty=None......................................\n",
      "[CV 2/5; 260/400] END .......C=65, penalty=None;, score=0.853 total time=   0.0s\n",
      "[CV 3/5; 260/400] START C=65, penalty=None......................................\n",
      "[CV 3/5; 260/400] END .......C=65, penalty=None;, score=0.941 total time=   0.0s\n",
      "[CV 4/5; 260/400] START C=65, penalty=None......................................\n",
      "[CV 4/5; 260/400] END .......C=65, penalty=None;, score=0.765 total time=   0.0s\n",
      "[CV 5/5; 260/400] START C=65, penalty=None......................................\n",
      "[CV 5/5; 260/400] END .......C=65, penalty=None;, score=0.824 total time=   0.0s\n"
     ]
    },
    {
     "name": "stderr",
     "output_type": "stream",
     "text": [
      "C:\\Users\\Usuario\\anaconda3\\lib\\site-packages\\sklearn\\linear_model\\_logistic.py:1193: UserWarning:\n",
      "\n",
      "Setting penalty=None will ignore the C and l1_ratio parameters\n",
      "\n",
      "C:\\Users\\Usuario\\anaconda3\\lib\\site-packages\\sklearn\\linear_model\\_logistic.py:1193: UserWarning:\n",
      "\n",
      "Setting penalty=None will ignore the C and l1_ratio parameters\n",
      "\n",
      "C:\\Users\\Usuario\\anaconda3\\lib\\site-packages\\sklearn\\linear_model\\_logistic.py:1193: UserWarning:\n",
      "\n",
      "Setting penalty=None will ignore the C and l1_ratio parameters\n",
      "\n",
      "C:\\Users\\Usuario\\anaconda3\\lib\\site-packages\\sklearn\\linear_model\\_logistic.py:460: ConvergenceWarning:\n",
      "\n",
      "lbfgs failed to converge (status=1):\n",
      "STOP: TOTAL NO. of ITERATIONS REACHED LIMIT.\n",
      "\n",
      "Increase the number of iterations (max_iter) or scale the data as shown in:\n",
      "    https://scikit-learn.org/stable/modules/preprocessing.html\n",
      "Please also refer to the documentation for alternative solver options:\n",
      "    https://scikit-learn.org/stable/modules/linear_model.html#logistic-regression\n",
      "\n",
      "C:\\Users\\Usuario\\anaconda3\\lib\\site-packages\\sklearn\\linear_model\\_logistic.py:1193: UserWarning:\n",
      "\n",
      "Setting penalty=None will ignore the C and l1_ratio parameters\n",
      "\n",
      "C:\\Users\\Usuario\\anaconda3\\lib\\site-packages\\sklearn\\linear_model\\_logistic.py:1193: UserWarning:\n",
      "\n",
      "Setting penalty=None will ignore the C and l1_ratio parameters\n",
      "\n"
     ]
    },
    {
     "name": "stdout",
     "output_type": "stream",
     "text": [
      "[CV 1/5; 261/400] START C=66, penalty=l1........................................\n",
      "[CV 1/5; 261/400] END ...........C=66, penalty=l1;, score=nan total time=   0.0s\n",
      "[CV 2/5; 261/400] START C=66, penalty=l1........................................\n",
      "[CV 2/5; 261/400] END ...........C=66, penalty=l1;, score=nan total time=   0.0s\n",
      "[CV 3/5; 261/400] START C=66, penalty=l1........................................\n",
      "[CV 3/5; 261/400] END ...........C=66, penalty=l1;, score=nan total time=   0.0s\n",
      "[CV 4/5; 261/400] START C=66, penalty=l1........................................\n",
      "[CV 4/5; 261/400] END ...........C=66, penalty=l1;, score=nan total time=   0.0s\n",
      "[CV 5/5; 261/400] START C=66, penalty=l1........................................\n",
      "[CV 5/5; 261/400] END ...........C=66, penalty=l1;, score=nan total time=   0.0s\n",
      "[CV 1/5; 262/400] START C=66, penalty=l2........................................\n",
      "[CV 1/5; 262/400] END .........C=66, penalty=l2;, score=0.909 total time=   0.0s\n",
      "[CV 2/5; 262/400] START C=66, penalty=l2........................................\n",
      "[CV 2/5; 262/400] END .........C=66, penalty=l2;, score=0.824 total time=   0.0s\n",
      "[CV 3/5; 262/400] START C=66, penalty=l2........................................\n",
      "[CV 3/5; 262/400] END .........C=66, penalty=l2;, score=0.941 total time=   0.0s\n",
      "[CV 4/5; 262/400] START C=66, penalty=l2........................................\n",
      "[CV 4/5; 262/400] END .........C=66, penalty=l2;, score=0.765 total time=   0.0s\n",
      "[CV 5/5; 262/400] START C=66, penalty=l2........................................\n",
      "[CV 5/5; 262/400] END .........C=66, penalty=l2;, score=0.824 total time=   0.0s\n",
      "[CV 1/5; 263/400] START C=66, penalty=elasticnet................................\n",
      "[CV 1/5; 263/400] END ...C=66, penalty=elasticnet;, score=nan total time=   0.0s\n",
      "[CV 2/5; 263/400] START C=66, penalty=elasticnet................................\n",
      "[CV 2/5; 263/400] END ...C=66, penalty=elasticnet;, score=nan total time=   0.0s\n",
      "[CV 3/5; 263/400] START C=66, penalty=elasticnet................................\n",
      "[CV 3/5; 263/400] END ...C=66, penalty=elasticnet;, score=nan total time=   0.0s\n",
      "[CV 4/5; 263/400] START C=66, penalty=elasticnet................................\n",
      "[CV 4/5; 263/400] END ...C=66, penalty=elasticnet;, score=nan total time=   0.0s\n",
      "[CV 5/5; 263/400] START C=66, penalty=elasticnet................................\n",
      "[CV 5/5; 263/400] END ...C=66, penalty=elasticnet;, score=nan total time=   0.0s\n",
      "[CV 1/5; 264/400] START C=66, penalty=None......................................\n",
      "[CV 1/5; 264/400] END .......C=66, penalty=None;, score=0.909 total time=   0.0s\n",
      "[CV 2/5; 264/400] START C=66, penalty=None......................................\n"
     ]
    },
    {
     "name": "stderr",
     "output_type": "stream",
     "text": [
      "C:\\Users\\Usuario\\anaconda3\\lib\\site-packages\\sklearn\\linear_model\\_logistic.py:460: ConvergenceWarning:\n",
      "\n",
      "lbfgs failed to converge (status=1):\n",
      "STOP: TOTAL NO. of ITERATIONS REACHED LIMIT.\n",
      "\n",
      "Increase the number of iterations (max_iter) or scale the data as shown in:\n",
      "    https://scikit-learn.org/stable/modules/preprocessing.html\n",
      "Please also refer to the documentation for alternative solver options:\n",
      "    https://scikit-learn.org/stable/modules/linear_model.html#logistic-regression\n",
      "\n",
      "C:\\Users\\Usuario\\anaconda3\\lib\\site-packages\\sklearn\\linear_model\\_logistic.py:1193: UserWarning:\n",
      "\n",
      "Setting penalty=None will ignore the C and l1_ratio parameters\n",
      "\n",
      "C:\\Users\\Usuario\\anaconda3\\lib\\site-packages\\sklearn\\linear_model\\_logistic.py:1193: UserWarning:\n",
      "\n",
      "Setting penalty=None will ignore the C and l1_ratio parameters\n",
      "\n",
      "C:\\Users\\Usuario\\anaconda3\\lib\\site-packages\\sklearn\\linear_model\\_logistic.py:1193: UserWarning:\n",
      "\n",
      "Setting penalty=None will ignore the C and l1_ratio parameters\n",
      "\n",
      "C:\\Users\\Usuario\\anaconda3\\lib\\site-packages\\sklearn\\linear_model\\_logistic.py:460: ConvergenceWarning:\n",
      "\n",
      "lbfgs failed to converge (status=1):\n",
      "STOP: TOTAL NO. of ITERATIONS REACHED LIMIT.\n",
      "\n",
      "Increase the number of iterations (max_iter) or scale the data as shown in:\n",
      "    https://scikit-learn.org/stable/modules/preprocessing.html\n",
      "Please also refer to the documentation for alternative solver options:\n",
      "    https://scikit-learn.org/stable/modules/linear_model.html#logistic-regression\n",
      "\n",
      "C:\\Users\\Usuario\\anaconda3\\lib\\site-packages\\sklearn\\linear_model\\_logistic.py:1193: UserWarning:\n",
      "\n",
      "Setting penalty=None will ignore the C and l1_ratio parameters\n",
      "\n",
      "C:\\Users\\Usuario\\anaconda3\\lib\\site-packages\\sklearn\\linear_model\\_logistic.py:1193: UserWarning:\n",
      "\n",
      "Setting penalty=None will ignore the C and l1_ratio parameters\n",
      "\n"
     ]
    },
    {
     "name": "stdout",
     "output_type": "stream",
     "text": [
      "[CV 2/5; 264/400] END .......C=66, penalty=None;, score=0.853 total time=   0.0s\n",
      "[CV 3/5; 264/400] START C=66, penalty=None......................................\n",
      "[CV 3/5; 264/400] END .......C=66, penalty=None;, score=0.941 total time=   0.0s\n",
      "[CV 4/5; 264/400] START C=66, penalty=None......................................\n",
      "[CV 4/5; 264/400] END .......C=66, penalty=None;, score=0.765 total time=   0.0s\n",
      "[CV 5/5; 264/400] START C=66, penalty=None......................................\n",
      "[CV 5/5; 264/400] END .......C=66, penalty=None;, score=0.824 total time=   0.0s\n",
      "[CV 1/5; 265/400] START C=67, penalty=l1........................................\n",
      "[CV 1/5; 265/400] END ...........C=67, penalty=l1;, score=nan total time=   0.0s\n",
      "[CV 2/5; 265/400] START C=67, penalty=l1........................................\n",
      "[CV 2/5; 265/400] END ...........C=67, penalty=l1;, score=nan total time=   0.0s\n",
      "[CV 3/5; 265/400] START C=67, penalty=l1........................................\n",
      "[CV 3/5; 265/400] END ...........C=67, penalty=l1;, score=nan total time=   0.0s\n",
      "[CV 4/5; 265/400] START C=67, penalty=l1........................................\n",
      "[CV 4/5; 265/400] END ...........C=67, penalty=l1;, score=nan total time=   0.0s\n",
      "[CV 5/5; 265/400] START C=67, penalty=l1........................................\n",
      "[CV 5/5; 265/400] END ...........C=67, penalty=l1;, score=nan total time=   0.0s\n",
      "[CV 1/5; 266/400] START C=67, penalty=l2........................................\n",
      "[CV 1/5; 266/400] END .........C=67, penalty=l2;, score=0.909 total time=   0.0s\n",
      "[CV 2/5; 266/400] START C=67, penalty=l2........................................\n",
      "[CV 2/5; 266/400] END .........C=67, penalty=l2;, score=0.824 total time=   0.0s\n",
      "[CV 3/5; 266/400] START C=67, penalty=l2........................................\n",
      "[CV 3/5; 266/400] END .........C=67, penalty=l2;, score=0.941 total time=   0.0s\n",
      "[CV 4/5; 266/400] START C=67, penalty=l2........................................\n"
     ]
    },
    {
     "name": "stderr",
     "output_type": "stream",
     "text": [
      "C:\\Users\\Usuario\\anaconda3\\lib\\site-packages\\sklearn\\linear_model\\_logistic.py:460: ConvergenceWarning:\n",
      "\n",
      "lbfgs failed to converge (status=1):\n",
      "STOP: TOTAL NO. of ITERATIONS REACHED LIMIT.\n",
      "\n",
      "Increase the number of iterations (max_iter) or scale the data as shown in:\n",
      "    https://scikit-learn.org/stable/modules/preprocessing.html\n",
      "Please also refer to the documentation for alternative solver options:\n",
      "    https://scikit-learn.org/stable/modules/linear_model.html#logistic-regression\n",
      "\n",
      "C:\\Users\\Usuario\\anaconda3\\lib\\site-packages\\sklearn\\linear_model\\_logistic.py:1193: UserWarning:\n",
      "\n",
      "Setting penalty=None will ignore the C and l1_ratio parameters\n",
      "\n",
      "C:\\Users\\Usuario\\anaconda3\\lib\\site-packages\\sklearn\\linear_model\\_logistic.py:1193: UserWarning:\n",
      "\n",
      "Setting penalty=None will ignore the C and l1_ratio parameters\n",
      "\n",
      "C:\\Users\\Usuario\\anaconda3\\lib\\site-packages\\sklearn\\linear_model\\_logistic.py:1193: UserWarning:\n",
      "\n",
      "Setting penalty=None will ignore the C and l1_ratio parameters\n",
      "\n",
      "C:\\Users\\Usuario\\anaconda3\\lib\\site-packages\\sklearn\\linear_model\\_logistic.py:460: ConvergenceWarning:\n",
      "\n",
      "lbfgs failed to converge (status=1):\n",
      "STOP: TOTAL NO. of ITERATIONS REACHED LIMIT.\n",
      "\n",
      "Increase the number of iterations (max_iter) or scale the data as shown in:\n",
      "    https://scikit-learn.org/stable/modules/preprocessing.html\n",
      "Please also refer to the documentation for alternative solver options:\n",
      "    https://scikit-learn.org/stable/modules/linear_model.html#logistic-regression\n",
      "\n",
      "C:\\Users\\Usuario\\anaconda3\\lib\\site-packages\\sklearn\\linear_model\\_logistic.py:1193: UserWarning:\n",
      "\n",
      "Setting penalty=None will ignore the C and l1_ratio parameters\n",
      "\n",
      "C:\\Users\\Usuario\\anaconda3\\lib\\site-packages\\sklearn\\linear_model\\_logistic.py:1193: UserWarning:\n",
      "\n",
      "Setting penalty=None will ignore the C and l1_ratio parameters\n",
      "\n"
     ]
    },
    {
     "name": "stdout",
     "output_type": "stream",
     "text": [
      "[CV 4/5; 266/400] END .........C=67, penalty=l2;, score=0.765 total time=   0.0s\n",
      "[CV 5/5; 266/400] START C=67, penalty=l2........................................\n",
      "[CV 5/5; 266/400] END .........C=67, penalty=l2;, score=0.824 total time=   0.0s\n",
      "[CV 1/5; 267/400] START C=67, penalty=elasticnet................................\n",
      "[CV 1/5; 267/400] END ...C=67, penalty=elasticnet;, score=nan total time=   0.0s\n",
      "[CV 2/5; 267/400] START C=67, penalty=elasticnet................................\n",
      "[CV 2/5; 267/400] END ...C=67, penalty=elasticnet;, score=nan total time=   0.0s\n",
      "[CV 3/5; 267/400] START C=67, penalty=elasticnet................................\n",
      "[CV 3/5; 267/400] END ...C=67, penalty=elasticnet;, score=nan total time=   0.0s\n",
      "[CV 4/5; 267/400] START C=67, penalty=elasticnet................................\n",
      "[CV 4/5; 267/400] END ...C=67, penalty=elasticnet;, score=nan total time=   0.0s\n",
      "[CV 5/5; 267/400] START C=67, penalty=elasticnet................................\n",
      "[CV 5/5; 267/400] END ...C=67, penalty=elasticnet;, score=nan total time=   0.0s\n",
      "[CV 1/5; 268/400] START C=67, penalty=None......................................\n",
      "[CV 1/5; 268/400] END .......C=67, penalty=None;, score=0.909 total time=   0.0s\n",
      "[CV 2/5; 268/400] START C=67, penalty=None......................................\n",
      "[CV 2/5; 268/400] END .......C=67, penalty=None;, score=0.853 total time=   0.0s\n",
      "[CV 3/5; 268/400] START C=67, penalty=None......................................\n",
      "[CV 3/5; 268/400] END .......C=67, penalty=None;, score=0.941 total time=   0.0s\n",
      "[CV 4/5; 268/400] START C=67, penalty=None......................................\n",
      "[CV 4/5; 268/400] END .......C=67, penalty=None;, score=0.765 total time=   0.0s\n",
      "[CV 5/5; 268/400] START C=67, penalty=None......................................\n",
      "[CV 5/5; 268/400] END .......C=67, penalty=None;, score=0.824 total time=   0.0s\n",
      "[CV 1/5; 269/400] START C=68, penalty=l1........................................\n",
      "[CV 1/5; 269/400] END ...........C=68, penalty=l1;, score=nan total time=   0.0s\n",
      "[CV 2/5; 269/400] START C=68, penalty=l1........................................\n",
      "[CV 2/5; 269/400] END ...........C=68, penalty=l1;, score=nan total time=   0.0s\n",
      "[CV 3/5; 269/400] START C=68, penalty=l1........................................\n",
      "[CV 3/5; 269/400] END ...........C=68, penalty=l1;, score=nan total time=   0.0s\n",
      "[CV 4/5; 269/400] START C=68, penalty=l1........................................\n",
      "[CV 4/5; 269/400] END ...........C=68, penalty=l1;, score=nan total time=   0.0s\n",
      "[CV 5/5; 269/400] START C=68, penalty=l1........................................\n",
      "[CV 5/5; 269/400] END ...........C=68, penalty=l1;, score=nan total time=   0.0s\n",
      "[CV 1/5; 270/400] START C=68, penalty=l2........................................\n",
      "[CV 1/5; 270/400] END .........C=68, penalty=l2;, score=0.909 total time=   0.0s\n",
      "[CV 2/5; 270/400] START C=68, penalty=l2........................................\n",
      "[CV 2/5; 270/400] END .........C=68, penalty=l2;, score=0.824 total time=   0.0s\n",
      "[CV 3/5; 270/400] START C=68, penalty=l2........................................\n",
      "[CV 3/5; 270/400] END .........C=68, penalty=l2;, score=0.941 total time=   0.0s\n",
      "[CV 4/5; 270/400] START C=68, penalty=l2........................................\n",
      "[CV 4/5; 270/400] END .........C=68, penalty=l2;, score=0.765 total time=   0.0s\n",
      "[CV 5/5; 270/400] START C=68, penalty=l2........................................\n",
      "[CV 5/5; 270/400] END .........C=68, penalty=l2;, score=0.794 total time=   0.0s\n",
      "[CV 1/5; 271/400] START C=68, penalty=elasticnet................................\n",
      "[CV 1/5; 271/400] END ...C=68, penalty=elasticnet;, score=nan total time=   0.0s\n",
      "[CV 2/5; 271/400] START C=68, penalty=elasticnet................................\n",
      "[CV 2/5; 271/400] END ...C=68, penalty=elasticnet;, score=nan total time=   0.0s\n",
      "[CV 3/5; 271/400] START C=68, penalty=elasticnet................................\n",
      "[CV 3/5; 271/400] END ...C=68, penalty=elasticnet;, score=nan total time=   0.0s\n",
      "[CV 4/5; 271/400] START C=68, penalty=elasticnet................................\n",
      "[CV 4/5; 271/400] END ...C=68, penalty=elasticnet;, score=nan total time=   0.0s\n",
      "[CV 5/5; 271/400] START C=68, penalty=elasticnet................................\n",
      "[CV 5/5; 271/400] END ...C=68, penalty=elasticnet;, score=nan total time=   0.0s\n",
      "[CV 1/5; 272/400] START C=68, penalty=None......................................\n",
      "[CV 1/5; 272/400] END .......C=68, penalty=None;, score=0.909 total time=   0.0s\n",
      "[CV 2/5; 272/400] START C=68, penalty=None......................................\n",
      "[CV 2/5; 272/400] END .......C=68, penalty=None;, score=0.853 total time=   0.0s\n",
      "[CV 3/5; 272/400] START C=68, penalty=None......................................\n",
      "[CV 3/5; 272/400] END .......C=68, penalty=None;, score=0.941 total time=   0.0s\n",
      "[CV 4/5; 272/400] START C=68, penalty=None......................................\n",
      "[CV 4/5; 272/400] END .......C=68, penalty=None;, score=0.765 total time=   0.0s\n",
      "[CV 5/5; 272/400] START C=68, penalty=None......................................\n",
      "[CV 5/5; 272/400] END .......C=68, penalty=None;, score=0.824 total time=   0.0s\n",
      "[CV 1/5; 273/400] START C=69, penalty=l1........................................\n",
      "[CV 1/5; 273/400] END ...........C=69, penalty=l1;, score=nan total time=   0.0s\n",
      "[CV 2/5; 273/400] START C=69, penalty=l1........................................\n",
      "[CV 2/5; 273/400] END ...........C=69, penalty=l1;, score=nan total time=   0.0s\n",
      "[CV 3/5; 273/400] START C=69, penalty=l1........................................\n",
      "[CV 3/5; 273/400] END ...........C=69, penalty=l1;, score=nan total time=   0.0s\n",
      "[CV 4/5; 273/400] START C=69, penalty=l1........................................\n",
      "[CV 4/5; 273/400] END ...........C=69, penalty=l1;, score=nan total time=   0.0s\n",
      "[CV 5/5; 273/400] START C=69, penalty=l1........................................\n",
      "[CV 5/5; 273/400] END ...........C=69, penalty=l1;, score=nan total time=   0.0s\n",
      "[CV 1/5; 274/400] START C=69, penalty=l2........................................\n"
     ]
    },
    {
     "name": "stderr",
     "output_type": "stream",
     "text": [
      "C:\\Users\\Usuario\\anaconda3\\lib\\site-packages\\sklearn\\linear_model\\_logistic.py:1193: UserWarning:\n",
      "\n",
      "Setting penalty=None will ignore the C and l1_ratio parameters\n",
      "\n",
      "C:\\Users\\Usuario\\anaconda3\\lib\\site-packages\\sklearn\\linear_model\\_logistic.py:1193: UserWarning:\n",
      "\n",
      "Setting penalty=None will ignore the C and l1_ratio parameters\n",
      "\n",
      "C:\\Users\\Usuario\\anaconda3\\lib\\site-packages\\sklearn\\linear_model\\_logistic.py:1193: UserWarning:\n",
      "\n",
      "Setting penalty=None will ignore the C and l1_ratio parameters\n",
      "\n",
      "C:\\Users\\Usuario\\anaconda3\\lib\\site-packages\\sklearn\\linear_model\\_logistic.py:460: ConvergenceWarning:\n",
      "\n",
      "lbfgs failed to converge (status=1):\n",
      "STOP: TOTAL NO. of ITERATIONS REACHED LIMIT.\n",
      "\n",
      "Increase the number of iterations (max_iter) or scale the data as shown in:\n",
      "    https://scikit-learn.org/stable/modules/preprocessing.html\n",
      "Please also refer to the documentation for alternative solver options:\n",
      "    https://scikit-learn.org/stable/modules/linear_model.html#logistic-regression\n",
      "\n",
      "C:\\Users\\Usuario\\anaconda3\\lib\\site-packages\\sklearn\\linear_model\\_logistic.py:1193: UserWarning:\n",
      "\n",
      "Setting penalty=None will ignore the C and l1_ratio parameters\n",
      "\n",
      "C:\\Users\\Usuario\\anaconda3\\lib\\site-packages\\sklearn\\linear_model\\_logistic.py:1193: UserWarning:\n",
      "\n",
      "Setting penalty=None will ignore the C and l1_ratio parameters\n",
      "\n"
     ]
    },
    {
     "name": "stdout",
     "output_type": "stream",
     "text": [
      "[CV 1/5; 274/400] END .........C=69, penalty=l2;, score=0.909 total time=   0.0s\n",
      "[CV 2/5; 274/400] START C=69, penalty=l2........................................\n",
      "[CV 2/5; 274/400] END .........C=69, penalty=l2;, score=0.824 total time=   0.0s\n",
      "[CV 3/5; 274/400] START C=69, penalty=l2........................................\n",
      "[CV 3/5; 274/400] END .........C=69, penalty=l2;, score=0.941 total time=   0.0s\n",
      "[CV 4/5; 274/400] START C=69, penalty=l2........................................\n",
      "[CV 4/5; 274/400] END .........C=69, penalty=l2;, score=0.765 total time=   0.0s\n",
      "[CV 5/5; 274/400] START C=69, penalty=l2........................................\n",
      "[CV 5/5; 274/400] END .........C=69, penalty=l2;, score=0.794 total time=   0.0s\n",
      "[CV 1/5; 275/400] START C=69, penalty=elasticnet................................\n",
      "[CV 1/5; 275/400] END ...C=69, penalty=elasticnet;, score=nan total time=   0.0s\n",
      "[CV 2/5; 275/400] START C=69, penalty=elasticnet................................\n",
      "[CV 2/5; 275/400] END ...C=69, penalty=elasticnet;, score=nan total time=   0.0s\n",
      "[CV 3/5; 275/400] START C=69, penalty=elasticnet................................\n",
      "[CV 3/5; 275/400] END ...C=69, penalty=elasticnet;, score=nan total time=   0.0s\n",
      "[CV 4/5; 275/400] START C=69, penalty=elasticnet................................\n",
      "[CV 4/5; 275/400] END ...C=69, penalty=elasticnet;, score=nan total time=   0.0s\n",
      "[CV 5/5; 275/400] START C=69, penalty=elasticnet................................\n",
      "[CV 5/5; 275/400] END ...C=69, penalty=elasticnet;, score=nan total time=   0.0s\n",
      "[CV 1/5; 276/400] START C=69, penalty=None......................................\n",
      "[CV 1/5; 276/400] END .......C=69, penalty=None;, score=0.909 total time=   0.0s\n",
      "[CV 2/5; 276/400] START C=69, penalty=None......................................\n"
     ]
    },
    {
     "name": "stderr",
     "output_type": "stream",
     "text": [
      "C:\\Users\\Usuario\\anaconda3\\lib\\site-packages\\sklearn\\linear_model\\_logistic.py:1193: UserWarning:\n",
      "\n",
      "Setting penalty=None will ignore the C and l1_ratio parameters\n",
      "\n",
      "C:\\Users\\Usuario\\anaconda3\\lib\\site-packages\\sklearn\\linear_model\\_logistic.py:1193: UserWarning:\n",
      "\n",
      "Setting penalty=None will ignore the C and l1_ratio parameters\n",
      "\n",
      "C:\\Users\\Usuario\\anaconda3\\lib\\site-packages\\sklearn\\linear_model\\_logistic.py:1193: UserWarning:\n",
      "\n",
      "Setting penalty=None will ignore the C and l1_ratio parameters\n",
      "\n",
      "C:\\Users\\Usuario\\anaconda3\\lib\\site-packages\\sklearn\\linear_model\\_logistic.py:460: ConvergenceWarning:\n",
      "\n",
      "lbfgs failed to converge (status=1):\n",
      "STOP: TOTAL NO. of ITERATIONS REACHED LIMIT.\n",
      "\n",
      "Increase the number of iterations (max_iter) or scale the data as shown in:\n",
      "    https://scikit-learn.org/stable/modules/preprocessing.html\n",
      "Please also refer to the documentation for alternative solver options:\n",
      "    https://scikit-learn.org/stable/modules/linear_model.html#logistic-regression\n",
      "\n",
      "C:\\Users\\Usuario\\anaconda3\\lib\\site-packages\\sklearn\\linear_model\\_logistic.py:1193: UserWarning:\n",
      "\n",
      "Setting penalty=None will ignore the C and l1_ratio parameters\n",
      "\n",
      "C:\\Users\\Usuario\\anaconda3\\lib\\site-packages\\sklearn\\linear_model\\_logistic.py:1193: UserWarning:\n",
      "\n",
      "Setting penalty=None will ignore the C and l1_ratio parameters\n",
      "\n"
     ]
    },
    {
     "name": "stdout",
     "output_type": "stream",
     "text": [
      "[CV 2/5; 276/400] END .......C=69, penalty=None;, score=0.853 total time=   0.0s\n",
      "[CV 3/5; 276/400] START C=69, penalty=None......................................\n",
      "[CV 3/5; 276/400] END .......C=69, penalty=None;, score=0.941 total time=   0.0s\n",
      "[CV 4/5; 276/400] START C=69, penalty=None......................................\n",
      "[CV 4/5; 276/400] END .......C=69, penalty=None;, score=0.765 total time=   0.0s\n",
      "[CV 5/5; 276/400] START C=69, penalty=None......................................\n",
      "[CV 5/5; 276/400] END .......C=69, penalty=None;, score=0.824 total time=   0.0s\n",
      "[CV 1/5; 277/400] START C=70, penalty=l1........................................\n",
      "[CV 1/5; 277/400] END ...........C=70, penalty=l1;, score=nan total time=   0.0s\n",
      "[CV 2/5; 277/400] START C=70, penalty=l1........................................\n",
      "[CV 2/5; 277/400] END ...........C=70, penalty=l1;, score=nan total time=   0.0s\n",
      "[CV 3/5; 277/400] START C=70, penalty=l1........................................\n",
      "[CV 3/5; 277/400] END ...........C=70, penalty=l1;, score=nan total time=   0.0s\n",
      "[CV 4/5; 277/400] START C=70, penalty=l1........................................\n",
      "[CV 4/5; 277/400] END ...........C=70, penalty=l1;, score=nan total time=   0.0s\n",
      "[CV 5/5; 277/400] START C=70, penalty=l1........................................\n",
      "[CV 5/5; 277/400] END ...........C=70, penalty=l1;, score=nan total time=   0.0s\n",
      "[CV 1/5; 278/400] START C=70, penalty=l2........................................\n",
      "[CV 1/5; 278/400] END .........C=70, penalty=l2;, score=0.909 total time=   0.0s\n",
      "[CV 2/5; 278/400] START C=70, penalty=l2........................................\n",
      "[CV 2/5; 278/400] END .........C=70, penalty=l2;, score=0.824 total time=   0.0s\n",
      "[CV 3/5; 278/400] START C=70, penalty=l2........................................\n",
      "[CV 3/5; 278/400] END .........C=70, penalty=l2;, score=0.941 total time=   0.0s\n",
      "[CV 4/5; 278/400] START C=70, penalty=l2........................................\n",
      "[CV 4/5; 278/400] END .........C=70, penalty=l2;, score=0.765 total time=   0.0s\n",
      "[CV 5/5; 278/400] START C=70, penalty=l2........................................\n",
      "[CV 5/5; 278/400] END .........C=70, penalty=l2;, score=0.794 total time=   0.0s\n",
      "[CV 1/5; 279/400] START C=70, penalty=elasticnet................................\n",
      "[CV 1/5; 279/400] END ...C=70, penalty=elasticnet;, score=nan total time=   0.0s\n",
      "[CV 2/5; 279/400] START C=70, penalty=elasticnet................................\n",
      "[CV 2/5; 279/400] END ...C=70, penalty=elasticnet;, score=nan total time=   0.0s\n",
      "[CV 3/5; 279/400] START C=70, penalty=elasticnet................................\n",
      "[CV 3/5; 279/400] END ...C=70, penalty=elasticnet;, score=nan total time=   0.0s\n",
      "[CV 4/5; 279/400] START C=70, penalty=elasticnet................................\n",
      "[CV 4/5; 279/400] END ...C=70, penalty=elasticnet;, score=nan total time=   0.0s\n",
      "[CV 5/5; 279/400] START C=70, penalty=elasticnet................................\n",
      "[CV 5/5; 279/400] END ...C=70, penalty=elasticnet;, score=nan total time=   0.0s\n",
      "[CV 1/5; 280/400] START C=70, penalty=None......................................\n",
      "[CV 1/5; 280/400] END .......C=70, penalty=None;, score=0.909 total time=   0.0s\n",
      "[CV 2/5; 280/400] START C=70, penalty=None......................................\n",
      "[CV 2/5; 280/400] END .......C=70, penalty=None;, score=0.853 total time=   0.0s\n",
      "[CV 3/5; 280/400] START C=70, penalty=None......................................\n",
      "[CV 3/5; 280/400] END .......C=70, penalty=None;, score=0.941 total time=   0.0s\n",
      "[CV 4/5; 280/400] START C=70, penalty=None......................................\n",
      "[CV 4/5; 280/400] END .......C=70, penalty=None;, score=0.765 total time=   0.0s\n",
      "[CV 5/5; 280/400] START C=70, penalty=None......................................\n",
      "[CV 5/5; 280/400] END .......C=70, penalty=None;, score=0.824 total time=   0.0s\n",
      "[CV 1/5; 281/400] START C=71, penalty=l1........................................\n",
      "[CV 1/5; 281/400] END ...........C=71, penalty=l1;, score=nan total time=   0.0s\n",
      "[CV 2/5; 281/400] START C=71, penalty=l1........................................\n"
     ]
    },
    {
     "name": "stderr",
     "output_type": "stream",
     "text": [
      "C:\\Users\\Usuario\\anaconda3\\lib\\site-packages\\sklearn\\linear_model\\_logistic.py:1193: UserWarning:\n",
      "\n",
      "Setting penalty=None will ignore the C and l1_ratio parameters\n",
      "\n",
      "C:\\Users\\Usuario\\anaconda3\\lib\\site-packages\\sklearn\\linear_model\\_logistic.py:1193: UserWarning:\n",
      "\n",
      "Setting penalty=None will ignore the C and l1_ratio parameters\n",
      "\n",
      "C:\\Users\\Usuario\\anaconda3\\lib\\site-packages\\sklearn\\linear_model\\_logistic.py:1193: UserWarning:\n",
      "\n",
      "Setting penalty=None will ignore the C and l1_ratio parameters\n",
      "\n",
      "C:\\Users\\Usuario\\anaconda3\\lib\\site-packages\\sklearn\\linear_model\\_logistic.py:460: ConvergenceWarning:\n",
      "\n",
      "lbfgs failed to converge (status=1):\n",
      "STOP: TOTAL NO. of ITERATIONS REACHED LIMIT.\n",
      "\n",
      "Increase the number of iterations (max_iter) or scale the data as shown in:\n",
      "    https://scikit-learn.org/stable/modules/preprocessing.html\n",
      "Please also refer to the documentation for alternative solver options:\n",
      "    https://scikit-learn.org/stable/modules/linear_model.html#logistic-regression\n",
      "\n",
      "C:\\Users\\Usuario\\anaconda3\\lib\\site-packages\\sklearn\\linear_model\\_logistic.py:1193: UserWarning:\n",
      "\n",
      "Setting penalty=None will ignore the C and l1_ratio parameters\n",
      "\n",
      "C:\\Users\\Usuario\\anaconda3\\lib\\site-packages\\sklearn\\linear_model\\_logistic.py:1193: UserWarning:\n",
      "\n",
      "Setting penalty=None will ignore the C and l1_ratio parameters\n",
      "\n"
     ]
    },
    {
     "name": "stdout",
     "output_type": "stream",
     "text": [
      "[CV 2/5; 281/400] END ...........C=71, penalty=l1;, score=nan total time=   0.0s\n",
      "[CV 3/5; 281/400] START C=71, penalty=l1........................................\n",
      "[CV 3/5; 281/400] END ...........C=71, penalty=l1;, score=nan total time=   0.0s\n",
      "[CV 4/5; 281/400] START C=71, penalty=l1........................................\n",
      "[CV 4/5; 281/400] END ...........C=71, penalty=l1;, score=nan total time=   0.0s\n",
      "[CV 5/5; 281/400] START C=71, penalty=l1........................................\n",
      "[CV 5/5; 281/400] END ...........C=71, penalty=l1;, score=nan total time=   0.0s\n",
      "[CV 1/5; 282/400] START C=71, penalty=l2........................................\n",
      "[CV 1/5; 282/400] END .........C=71, penalty=l2;, score=0.909 total time=   0.0s\n",
      "[CV 2/5; 282/400] START C=71, penalty=l2........................................\n",
      "[CV 2/5; 282/400] END .........C=71, penalty=l2;, score=0.824 total time=   0.0s\n",
      "[CV 3/5; 282/400] START C=71, penalty=l2........................................\n",
      "[CV 3/5; 282/400] END .........C=71, penalty=l2;, score=0.941 total time=   0.0s\n",
      "[CV 4/5; 282/400] START C=71, penalty=l2........................................\n",
      "[CV 4/5; 282/400] END .........C=71, penalty=l2;, score=0.765 total time=   0.0s\n",
      "[CV 5/5; 282/400] START C=71, penalty=l2........................................\n",
      "[CV 5/5; 282/400] END .........C=71, penalty=l2;, score=0.794 total time=   0.0s\n",
      "[CV 1/5; 283/400] START C=71, penalty=elasticnet................................\n",
      "[CV 1/5; 283/400] END ...C=71, penalty=elasticnet;, score=nan total time=   0.0s\n",
      "[CV 2/5; 283/400] START C=71, penalty=elasticnet................................\n",
      "[CV 2/5; 283/400] END ...C=71, penalty=elasticnet;, score=nan total time=   0.0s\n",
      "[CV 3/5; 283/400] START C=71, penalty=elasticnet................................\n",
      "[CV 3/5; 283/400] END ...C=71, penalty=elasticnet;, score=nan total time=   0.0s\n",
      "[CV 4/5; 283/400] START C=71, penalty=elasticnet................................\n"
     ]
    },
    {
     "name": "stderr",
     "output_type": "stream",
     "text": [
      "C:\\Users\\Usuario\\anaconda3\\lib\\site-packages\\sklearn\\linear_model\\_logistic.py:460: ConvergenceWarning:\n",
      "\n",
      "lbfgs failed to converge (status=1):\n",
      "STOP: TOTAL NO. of ITERATIONS REACHED LIMIT.\n",
      "\n",
      "Increase the number of iterations (max_iter) or scale the data as shown in:\n",
      "    https://scikit-learn.org/stable/modules/preprocessing.html\n",
      "Please also refer to the documentation for alternative solver options:\n",
      "    https://scikit-learn.org/stable/modules/linear_model.html#logistic-regression\n",
      "\n",
      "C:\\Users\\Usuario\\anaconda3\\lib\\site-packages\\sklearn\\linear_model\\_logistic.py:1193: UserWarning:\n",
      "\n",
      "Setting penalty=None will ignore the C and l1_ratio parameters\n",
      "\n",
      "C:\\Users\\Usuario\\anaconda3\\lib\\site-packages\\sklearn\\linear_model\\_logistic.py:1193: UserWarning:\n",
      "\n",
      "Setting penalty=None will ignore the C and l1_ratio parameters\n",
      "\n",
      "C:\\Users\\Usuario\\anaconda3\\lib\\site-packages\\sklearn\\linear_model\\_logistic.py:1193: UserWarning:\n",
      "\n",
      "Setting penalty=None will ignore the C and l1_ratio parameters\n",
      "\n",
      "C:\\Users\\Usuario\\anaconda3\\lib\\site-packages\\sklearn\\linear_model\\_logistic.py:460: ConvergenceWarning:\n",
      "\n",
      "lbfgs failed to converge (status=1):\n",
      "STOP: TOTAL NO. of ITERATIONS REACHED LIMIT.\n",
      "\n",
      "Increase the number of iterations (max_iter) or scale the data as shown in:\n",
      "    https://scikit-learn.org/stable/modules/preprocessing.html\n",
      "Please also refer to the documentation for alternative solver options:\n",
      "    https://scikit-learn.org/stable/modules/linear_model.html#logistic-regression\n",
      "\n",
      "C:\\Users\\Usuario\\anaconda3\\lib\\site-packages\\sklearn\\linear_model\\_logistic.py:1193: UserWarning:\n",
      "\n",
      "Setting penalty=None will ignore the C and l1_ratio parameters\n",
      "\n"
     ]
    },
    {
     "name": "stdout",
     "output_type": "stream",
     "text": [
      "[CV 4/5; 283/400] END ...C=71, penalty=elasticnet;, score=nan total time=   0.0s\n",
      "[CV 5/5; 283/400] START C=71, penalty=elasticnet................................\n",
      "[CV 5/5; 283/400] END ...C=71, penalty=elasticnet;, score=nan total time=   0.0s\n",
      "[CV 1/5; 284/400] START C=71, penalty=None......................................\n",
      "[CV 1/5; 284/400] END .......C=71, penalty=None;, score=0.909 total time=   0.0s\n",
      "[CV 2/5; 284/400] START C=71, penalty=None......................................\n",
      "[CV 2/5; 284/400] END .......C=71, penalty=None;, score=0.853 total time=   0.0s\n",
      "[CV 3/5; 284/400] START C=71, penalty=None......................................\n",
      "[CV 3/5; 284/400] END .......C=71, penalty=None;, score=0.941 total time=   0.0s\n",
      "[CV 4/5; 284/400] START C=71, penalty=None......................................\n",
      "[CV 4/5; 284/400] END .......C=71, penalty=None;, score=0.765 total time=   0.0s\n",
      "[CV 5/5; 284/400] START C=71, penalty=None......................................\n",
      "[CV 5/5; 284/400] END .......C=71, penalty=None;, score=0.824 total time=   0.0s\n",
      "[CV 1/5; 285/400] START C=72, penalty=l1........................................\n",
      "[CV 1/5; 285/400] END ...........C=72, penalty=l1;, score=nan total time=   0.0s\n",
      "[CV 2/5; 285/400] START C=72, penalty=l1........................................\n",
      "[CV 2/5; 285/400] END ...........C=72, penalty=l1;, score=nan total time=   0.0s\n",
      "[CV 3/5; 285/400] START C=72, penalty=l1........................................\n",
      "[CV 3/5; 285/400] END ...........C=72, penalty=l1;, score=nan total time=   0.0s\n",
      "[CV 4/5; 285/400] START C=72, penalty=l1........................................\n",
      "[CV 4/5; 285/400] END ...........C=72, penalty=l1;, score=nan total time=   0.0s\n",
      "[CV 5/5; 285/400] START C=72, penalty=l1........................................\n"
     ]
    },
    {
     "name": "stderr",
     "output_type": "stream",
     "text": [
      "C:\\Users\\Usuario\\anaconda3\\lib\\site-packages\\sklearn\\linear_model\\_logistic.py:1193: UserWarning:\n",
      "\n",
      "Setting penalty=None will ignore the C and l1_ratio parameters\n",
      "\n"
     ]
    },
    {
     "name": "stdout",
     "output_type": "stream",
     "text": [
      "[CV 5/5; 285/400] END ...........C=72, penalty=l1;, score=nan total time=   0.0s\n",
      "[CV 1/5; 286/400] START C=72, penalty=l2........................................\n",
      "[CV 1/5; 286/400] END .........C=72, penalty=l2;, score=0.909 total time=   0.0s\n",
      "[CV 2/5; 286/400] START C=72, penalty=l2........................................\n",
      "[CV 2/5; 286/400] END .........C=72, penalty=l2;, score=0.824 total time=   0.0s\n",
      "[CV 3/5; 286/400] START C=72, penalty=l2........................................\n",
      "[CV 3/5; 286/400] END .........C=72, penalty=l2;, score=0.941 total time=   0.0s\n",
      "[CV 4/5; 286/400] START C=72, penalty=l2........................................\n",
      "[CV 4/5; 286/400] END .........C=72, penalty=l2;, score=0.765 total time=   0.0s\n",
      "[CV 5/5; 286/400] START C=72, penalty=l2........................................\n",
      "[CV 5/5; 286/400] END .........C=72, penalty=l2;, score=0.794 total time=   0.0s\n",
      "[CV 1/5; 287/400] START C=72, penalty=elasticnet................................\n",
      "[CV 1/5; 287/400] END ...C=72, penalty=elasticnet;, score=nan total time=   0.0s\n",
      "[CV 2/5; 287/400] START C=72, penalty=elasticnet................................\n",
      "[CV 2/5; 287/400] END ...C=72, penalty=elasticnet;, score=nan total time=   0.0s\n",
      "[CV 3/5; 287/400] START C=72, penalty=elasticnet................................\n",
      "[CV 3/5; 287/400] END ...C=72, penalty=elasticnet;, score=nan total time=   0.0s\n",
      "[CV 4/5; 287/400] START C=72, penalty=elasticnet................................\n",
      "[CV 4/5; 287/400] END ...C=72, penalty=elasticnet;, score=nan total time=   0.0s\n",
      "[CV 5/5; 287/400] START C=72, penalty=elasticnet................................\n",
      "[CV 5/5; 287/400] END ...C=72, penalty=elasticnet;, score=nan total time=   0.0s\n",
      "[CV 1/5; 288/400] START C=72, penalty=None......................................\n",
      "[CV 1/5; 288/400] END .......C=72, penalty=None;, score=0.909 total time=   0.0s\n",
      "[CV 2/5; 288/400] START C=72, penalty=None......................................\n"
     ]
    },
    {
     "name": "stderr",
     "output_type": "stream",
     "text": [
      "C:\\Users\\Usuario\\anaconda3\\lib\\site-packages\\sklearn\\linear_model\\_logistic.py:1193: UserWarning:\n",
      "\n",
      "Setting penalty=None will ignore the C and l1_ratio parameters\n",
      "\n",
      "C:\\Users\\Usuario\\anaconda3\\lib\\site-packages\\sklearn\\linear_model\\_logistic.py:1193: UserWarning:\n",
      "\n",
      "Setting penalty=None will ignore the C and l1_ratio parameters\n",
      "\n",
      "C:\\Users\\Usuario\\anaconda3\\lib\\site-packages\\sklearn\\linear_model\\_logistic.py:1193: UserWarning:\n",
      "\n",
      "Setting penalty=None will ignore the C and l1_ratio parameters\n",
      "\n",
      "C:\\Users\\Usuario\\anaconda3\\lib\\site-packages\\sklearn\\linear_model\\_logistic.py:460: ConvergenceWarning:\n",
      "\n",
      "lbfgs failed to converge (status=1):\n",
      "STOP: TOTAL NO. of ITERATIONS REACHED LIMIT.\n",
      "\n",
      "Increase the number of iterations (max_iter) or scale the data as shown in:\n",
      "    https://scikit-learn.org/stable/modules/preprocessing.html\n",
      "Please also refer to the documentation for alternative solver options:\n",
      "    https://scikit-learn.org/stable/modules/linear_model.html#logistic-regression\n",
      "\n",
      "C:\\Users\\Usuario\\anaconda3\\lib\\site-packages\\sklearn\\linear_model\\_logistic.py:1193: UserWarning:\n",
      "\n",
      "Setting penalty=None will ignore the C and l1_ratio parameters\n",
      "\n",
      "C:\\Users\\Usuario\\anaconda3\\lib\\site-packages\\sklearn\\linear_model\\_logistic.py:1193: UserWarning:\n",
      "\n",
      "Setting penalty=None will ignore the C and l1_ratio parameters\n",
      "\n"
     ]
    },
    {
     "name": "stdout",
     "output_type": "stream",
     "text": [
      "[CV 2/5; 288/400] END .......C=72, penalty=None;, score=0.853 total time=   0.0s\n",
      "[CV 3/5; 288/400] START C=72, penalty=None......................................\n",
      "[CV 3/5; 288/400] END .......C=72, penalty=None;, score=0.941 total time=   0.0s\n",
      "[CV 4/5; 288/400] START C=72, penalty=None......................................\n",
      "[CV 4/5; 288/400] END .......C=72, penalty=None;, score=0.765 total time=   0.0s\n",
      "[CV 5/5; 288/400] START C=72, penalty=None......................................\n",
      "[CV 5/5; 288/400] END .......C=72, penalty=None;, score=0.824 total time=   0.0s\n",
      "[CV 1/5; 289/400] START C=73, penalty=l1........................................\n",
      "[CV 1/5; 289/400] END ...........C=73, penalty=l1;, score=nan total time=   0.0s\n",
      "[CV 2/5; 289/400] START C=73, penalty=l1........................................\n",
      "[CV 2/5; 289/400] END ...........C=73, penalty=l1;, score=nan total time=   0.0s\n",
      "[CV 3/5; 289/400] START C=73, penalty=l1........................................\n",
      "[CV 3/5; 289/400] END ...........C=73, penalty=l1;, score=nan total time=   0.0s\n",
      "[CV 4/5; 289/400] START C=73, penalty=l1........................................\n",
      "[CV 4/5; 289/400] END ...........C=73, penalty=l1;, score=nan total time=   0.0s\n",
      "[CV 5/5; 289/400] START C=73, penalty=l1........................................\n",
      "[CV 5/5; 289/400] END ...........C=73, penalty=l1;, score=nan total time=   0.0s\n",
      "[CV 1/5; 290/400] START C=73, penalty=l2........................................\n",
      "[CV 1/5; 290/400] END .........C=73, penalty=l2;, score=0.909 total time=   0.0s\n",
      "[CV 2/5; 290/400] START C=73, penalty=l2........................................\n",
      "[CV 2/5; 290/400] END .........C=73, penalty=l2;, score=0.824 total time=   0.0s\n",
      "[CV 3/5; 290/400] START C=73, penalty=l2........................................\n",
      "[CV 3/5; 290/400] END .........C=73, penalty=l2;, score=0.941 total time=   0.0s\n",
      "[CV 4/5; 290/400] START C=73, penalty=l2........................................\n",
      "[CV 4/5; 290/400] END .........C=73, penalty=l2;, score=0.765 total time=   0.0s\n",
      "[CV 5/5; 290/400] START C=73, penalty=l2........................................\n",
      "[CV 5/5; 290/400] END .........C=73, penalty=l2;, score=0.794 total time=   0.0s\n",
      "[CV 1/5; 291/400] START C=73, penalty=elasticnet................................\n",
      "[CV 1/5; 291/400] END ...C=73, penalty=elasticnet;, score=nan total time=   0.0s\n",
      "[CV 2/5; 291/400] START C=73, penalty=elasticnet................................\n",
      "[CV 2/5; 291/400] END ...C=73, penalty=elasticnet;, score=nan total time=   0.0s\n",
      "[CV 3/5; 291/400] START C=73, penalty=elasticnet................................\n",
      "[CV 3/5; 291/400] END ...C=73, penalty=elasticnet;, score=nan total time=   0.0s\n",
      "[CV 4/5; 291/400] START C=73, penalty=elasticnet................................\n",
      "[CV 4/5; 291/400] END ...C=73, penalty=elasticnet;, score=nan total time=   0.0s\n",
      "[CV 5/5; 291/400] START C=73, penalty=elasticnet................................\n",
      "[CV 5/5; 291/400] END ...C=73, penalty=elasticnet;, score=nan total time=   0.0s\n",
      "[CV 1/5; 292/400] START C=73, penalty=None......................................\n",
      "[CV 1/5; 292/400] END .......C=73, penalty=None;, score=0.909 total time=   0.0s\n",
      "[CV 2/5; 292/400] START C=73, penalty=None......................................\n",
      "[CV 2/5; 292/400] END .......C=73, penalty=None;, score=0.853 total time=   0.0s\n",
      "[CV 3/5; 292/400] START C=73, penalty=None......................................\n",
      "[CV 3/5; 292/400] END .......C=73, penalty=None;, score=0.941 total time=   0.0s\n",
      "[CV 4/5; 292/400] START C=73, penalty=None......................................\n",
      "[CV 4/5; 292/400] END .......C=73, penalty=None;, score=0.765 total time=   0.0s\n",
      "[CV 5/5; 292/400] START C=73, penalty=None......................................\n"
     ]
    },
    {
     "name": "stderr",
     "output_type": "stream",
     "text": [
      "C:\\Users\\Usuario\\anaconda3\\lib\\site-packages\\sklearn\\linear_model\\_logistic.py:460: ConvergenceWarning:\n",
      "\n",
      "lbfgs failed to converge (status=1):\n",
      "STOP: TOTAL NO. of ITERATIONS REACHED LIMIT.\n",
      "\n",
      "Increase the number of iterations (max_iter) or scale the data as shown in:\n",
      "    https://scikit-learn.org/stable/modules/preprocessing.html\n",
      "Please also refer to the documentation for alternative solver options:\n",
      "    https://scikit-learn.org/stable/modules/linear_model.html#logistic-regression\n",
      "\n",
      "C:\\Users\\Usuario\\anaconda3\\lib\\site-packages\\sklearn\\linear_model\\_logistic.py:1193: UserWarning:\n",
      "\n",
      "Setting penalty=None will ignore the C and l1_ratio parameters\n",
      "\n",
      "C:\\Users\\Usuario\\anaconda3\\lib\\site-packages\\sklearn\\linear_model\\_logistic.py:1193: UserWarning:\n",
      "\n",
      "Setting penalty=None will ignore the C and l1_ratio parameters\n",
      "\n",
      "C:\\Users\\Usuario\\anaconda3\\lib\\site-packages\\sklearn\\linear_model\\_logistic.py:1193: UserWarning:\n",
      "\n",
      "Setting penalty=None will ignore the C and l1_ratio parameters\n",
      "\n",
      "C:\\Users\\Usuario\\anaconda3\\lib\\site-packages\\sklearn\\linear_model\\_logistic.py:460: ConvergenceWarning:\n",
      "\n",
      "lbfgs failed to converge (status=1):\n",
      "STOP: TOTAL NO. of ITERATIONS REACHED LIMIT.\n",
      "\n",
      "Increase the number of iterations (max_iter) or scale the data as shown in:\n",
      "    https://scikit-learn.org/stable/modules/preprocessing.html\n",
      "Please also refer to the documentation for alternative solver options:\n",
      "    https://scikit-learn.org/stable/modules/linear_model.html#logistic-regression\n",
      "\n",
      "C:\\Users\\Usuario\\anaconda3\\lib\\site-packages\\sklearn\\linear_model\\_logistic.py:1193: UserWarning:\n",
      "\n",
      "Setting penalty=None will ignore the C and l1_ratio parameters\n",
      "\n",
      "C:\\Users\\Usuario\\anaconda3\\lib\\site-packages\\sklearn\\linear_model\\_logistic.py:1193: UserWarning:\n",
      "\n",
      "Setting penalty=None will ignore the C and l1_ratio parameters\n",
      "\n"
     ]
    },
    {
     "name": "stdout",
     "output_type": "stream",
     "text": [
      "[CV 5/5; 292/400] END .......C=73, penalty=None;, score=0.824 total time=   0.0s\n",
      "[CV 1/5; 293/400] START C=74, penalty=l1........................................\n",
      "[CV 1/5; 293/400] END ...........C=74, penalty=l1;, score=nan total time=   0.0s\n",
      "[CV 2/5; 293/400] START C=74, penalty=l1........................................\n",
      "[CV 2/5; 293/400] END ...........C=74, penalty=l1;, score=nan total time=   0.0s\n",
      "[CV 3/5; 293/400] START C=74, penalty=l1........................................\n",
      "[CV 3/5; 293/400] END ...........C=74, penalty=l1;, score=nan total time=   0.0s\n",
      "[CV 4/5; 293/400] START C=74, penalty=l1........................................\n",
      "[CV 4/5; 293/400] END ...........C=74, penalty=l1;, score=nan total time=   0.0s\n",
      "[CV 5/5; 293/400] START C=74, penalty=l1........................................\n",
      "[CV 5/5; 293/400] END ...........C=74, penalty=l1;, score=nan total time=   0.0s\n",
      "[CV 1/5; 294/400] START C=74, penalty=l2........................................\n",
      "[CV 1/5; 294/400] END .........C=74, penalty=l2;, score=0.909 total time=   0.0s\n",
      "[CV 2/5; 294/400] START C=74, penalty=l2........................................\n",
      "[CV 2/5; 294/400] END .........C=74, penalty=l2;, score=0.824 total time=   0.0s\n",
      "[CV 3/5; 294/400] START C=74, penalty=l2........................................\n",
      "[CV 3/5; 294/400] END .........C=74, penalty=l2;, score=0.941 total time=   0.0s\n",
      "[CV 4/5; 294/400] START C=74, penalty=l2........................................\n",
      "[CV 4/5; 294/400] END .........C=74, penalty=l2;, score=0.765 total time=   0.0s\n",
      "[CV 5/5; 294/400] START C=74, penalty=l2........................................\n",
      "[CV 5/5; 294/400] END .........C=74, penalty=l2;, score=0.794 total time=   0.0s\n",
      "[CV 1/5; 295/400] START C=74, penalty=elasticnet................................\n",
      "[CV 1/5; 295/400] END ...C=74, penalty=elasticnet;, score=nan total time=   0.0s\n",
      "[CV 2/5; 295/400] START C=74, penalty=elasticnet................................\n",
      "[CV 2/5; 295/400] END ...C=74, penalty=elasticnet;, score=nan total time=   0.0s\n",
      "[CV 3/5; 295/400] START C=74, penalty=elasticnet................................\n",
      "[CV 3/5; 295/400] END ...C=74, penalty=elasticnet;, score=nan total time=   0.0s\n",
      "[CV 4/5; 295/400] START C=74, penalty=elasticnet................................\n",
      "[CV 4/5; 295/400] END ...C=74, penalty=elasticnet;, score=nan total time=   0.0s\n",
      "[CV 5/5; 295/400] START C=74, penalty=elasticnet................................\n",
      "[CV 5/5; 295/400] END ...C=74, penalty=elasticnet;, score=nan total time=   0.0s\n",
      "[CV 1/5; 296/400] START C=74, penalty=None......................................\n",
      "[CV 1/5; 296/400] END .......C=74, penalty=None;, score=0.909 total time=   0.0s\n",
      "[CV 2/5; 296/400] START C=74, penalty=None......................................\n"
     ]
    },
    {
     "name": "stderr",
     "output_type": "stream",
     "text": [
      "C:\\Users\\Usuario\\anaconda3\\lib\\site-packages\\sklearn\\linear_model\\_logistic.py:1193: UserWarning:\n",
      "\n",
      "Setting penalty=None will ignore the C and l1_ratio parameters\n",
      "\n",
      "C:\\Users\\Usuario\\anaconda3\\lib\\site-packages\\sklearn\\linear_model\\_logistic.py:1193: UserWarning:\n",
      "\n",
      "Setting penalty=None will ignore the C and l1_ratio parameters\n",
      "\n",
      "C:\\Users\\Usuario\\anaconda3\\lib\\site-packages\\sklearn\\linear_model\\_logistic.py:1193: UserWarning:\n",
      "\n",
      "Setting penalty=None will ignore the C and l1_ratio parameters\n",
      "\n",
      "C:\\Users\\Usuario\\anaconda3\\lib\\site-packages\\sklearn\\linear_model\\_logistic.py:460: ConvergenceWarning:\n",
      "\n",
      "lbfgs failed to converge (status=1):\n",
      "STOP: TOTAL NO. of ITERATIONS REACHED LIMIT.\n",
      "\n",
      "Increase the number of iterations (max_iter) or scale the data as shown in:\n",
      "    https://scikit-learn.org/stable/modules/preprocessing.html\n",
      "Please also refer to the documentation for alternative solver options:\n",
      "    https://scikit-learn.org/stable/modules/linear_model.html#logistic-regression\n",
      "\n",
      "C:\\Users\\Usuario\\anaconda3\\lib\\site-packages\\sklearn\\linear_model\\_logistic.py:1193: UserWarning:\n",
      "\n",
      "Setting penalty=None will ignore the C and l1_ratio parameters\n",
      "\n",
      "C:\\Users\\Usuario\\anaconda3\\lib\\site-packages\\sklearn\\linear_model\\_logistic.py:1193: UserWarning:\n",
      "\n",
      "Setting penalty=None will ignore the C and l1_ratio parameters\n",
      "\n"
     ]
    },
    {
     "name": "stdout",
     "output_type": "stream",
     "text": [
      "[CV 2/5; 296/400] END .......C=74, penalty=None;, score=0.853 total time=   0.0s\n",
      "[CV 3/5; 296/400] START C=74, penalty=None......................................\n",
      "[CV 3/5; 296/400] END .......C=74, penalty=None;, score=0.941 total time=   0.0s\n",
      "[CV 4/5; 296/400] START C=74, penalty=None......................................\n",
      "[CV 4/5; 296/400] END .......C=74, penalty=None;, score=0.765 total time=   0.0s\n",
      "[CV 5/5; 296/400] START C=74, penalty=None......................................\n",
      "[CV 5/5; 296/400] END .......C=74, penalty=None;, score=0.824 total time=   0.0s\n",
      "[CV 1/5; 297/400] START C=75, penalty=l1........................................\n",
      "[CV 1/5; 297/400] END ...........C=75, penalty=l1;, score=nan total time=   0.0s\n",
      "[CV 2/5; 297/400] START C=75, penalty=l1........................................\n",
      "[CV 2/5; 297/400] END ...........C=75, penalty=l1;, score=nan total time=   0.0s\n",
      "[CV 3/5; 297/400] START C=75, penalty=l1........................................\n",
      "[CV 3/5; 297/400] END ...........C=75, penalty=l1;, score=nan total time=   0.0s\n",
      "[CV 4/5; 297/400] START C=75, penalty=l1........................................\n",
      "[CV 4/5; 297/400] END ...........C=75, penalty=l1;, score=nan total time=   0.0s\n",
      "[CV 5/5; 297/400] START C=75, penalty=l1........................................\n",
      "[CV 5/5; 297/400] END ...........C=75, penalty=l1;, score=nan total time=   0.0s\n",
      "[CV 1/5; 298/400] START C=75, penalty=l2........................................\n",
      "[CV 1/5; 298/400] END .........C=75, penalty=l2;, score=0.909 total time=   0.0s\n",
      "[CV 2/5; 298/400] START C=75, penalty=l2........................................\n",
      "[CV 2/5; 298/400] END .........C=75, penalty=l2;, score=0.824 total time=   0.0s\n",
      "[CV 3/5; 298/400] START C=75, penalty=l2........................................\n",
      "[CV 3/5; 298/400] END .........C=75, penalty=l2;, score=0.941 total time=   0.0s\n",
      "[CV 4/5; 298/400] START C=75, penalty=l2........................................\n",
      "[CV 4/5; 298/400] END .........C=75, penalty=l2;, score=0.765 total time=   0.0s\n",
      "[CV 5/5; 298/400] START C=75, penalty=l2........................................\n",
      "[CV 5/5; 298/400] END .........C=75, penalty=l2;, score=0.794 total time=   0.0s\n",
      "[CV 1/5; 299/400] START C=75, penalty=elasticnet................................\n",
      "[CV 1/5; 299/400] END ...C=75, penalty=elasticnet;, score=nan total time=   0.0s\n",
      "[CV 2/5; 299/400] START C=75, penalty=elasticnet................................\n",
      "[CV 2/5; 299/400] END ...C=75, penalty=elasticnet;, score=nan total time=   0.0s\n",
      "[CV 3/5; 299/400] START C=75, penalty=elasticnet................................\n",
      "[CV 3/5; 299/400] END ...C=75, penalty=elasticnet;, score=nan total time=   0.0s\n",
      "[CV 4/5; 299/400] START C=75, penalty=elasticnet................................\n",
      "[CV 4/5; 299/400] END ...C=75, penalty=elasticnet;, score=nan total time=   0.0s\n",
      "[CV 5/5; 299/400] START C=75, penalty=elasticnet................................\n",
      "[CV 5/5; 299/400] END ...C=75, penalty=elasticnet;, score=nan total time=   0.0s\n",
      "[CV 1/5; 300/400] START C=75, penalty=None......................................\n",
      "[CV 1/5; 300/400] END .......C=75, penalty=None;, score=0.909 total time=   0.0s\n",
      "[CV 2/5; 300/400] START C=75, penalty=None......................................\n",
      "[CV 2/5; 300/400] END .......C=75, penalty=None;, score=0.853 total time=   0.0s\n",
      "[CV 3/5; 300/400] START C=75, penalty=None......................................\n",
      "[CV 3/5; 300/400] END .......C=75, penalty=None;, score=0.941 total time=   0.0s\n",
      "[CV 4/5; 300/400] START C=75, penalty=None......................................\n",
      "[CV 4/5; 300/400] END .......C=75, penalty=None;, score=0.765 total time=   0.0s\n",
      "[CV 5/5; 300/400] START C=75, penalty=None......................................\n"
     ]
    },
    {
     "name": "stderr",
     "output_type": "stream",
     "text": [
      "C:\\Users\\Usuario\\anaconda3\\lib\\site-packages\\sklearn\\linear_model\\_logistic.py:1193: UserWarning:\n",
      "\n",
      "Setting penalty=None will ignore the C and l1_ratio parameters\n",
      "\n",
      "C:\\Users\\Usuario\\anaconda3\\lib\\site-packages\\sklearn\\linear_model\\_logistic.py:1193: UserWarning:\n",
      "\n",
      "Setting penalty=None will ignore the C and l1_ratio parameters\n",
      "\n",
      "C:\\Users\\Usuario\\anaconda3\\lib\\site-packages\\sklearn\\linear_model\\_logistic.py:1193: UserWarning:\n",
      "\n",
      "Setting penalty=None will ignore the C and l1_ratio parameters\n",
      "\n",
      "C:\\Users\\Usuario\\anaconda3\\lib\\site-packages\\sklearn\\linear_model\\_logistic.py:460: ConvergenceWarning:\n",
      "\n",
      "lbfgs failed to converge (status=1):\n",
      "STOP: TOTAL NO. of ITERATIONS REACHED LIMIT.\n",
      "\n",
      "Increase the number of iterations (max_iter) or scale the data as shown in:\n",
      "    https://scikit-learn.org/stable/modules/preprocessing.html\n",
      "Please also refer to the documentation for alternative solver options:\n",
      "    https://scikit-learn.org/stable/modules/linear_model.html#logistic-regression\n",
      "\n",
      "C:\\Users\\Usuario\\anaconda3\\lib\\site-packages\\sklearn\\linear_model\\_logistic.py:1193: UserWarning:\n",
      "\n",
      "Setting penalty=None will ignore the C and l1_ratio parameters\n",
      "\n",
      "C:\\Users\\Usuario\\anaconda3\\lib\\site-packages\\sklearn\\linear_model\\_logistic.py:1193: UserWarning:\n",
      "\n",
      "Setting penalty=None will ignore the C and l1_ratio parameters\n",
      "\n",
      "C:\\Users\\Usuario\\anaconda3\\lib\\site-packages\\sklearn\\linear_model\\_logistic.py:460: ConvergenceWarning:\n",
      "\n",
      "lbfgs failed to converge (status=1):\n",
      "STOP: TOTAL NO. of ITERATIONS REACHED LIMIT.\n",
      "\n",
      "Increase the number of iterations (max_iter) or scale the data as shown in:\n",
      "    https://scikit-learn.org/stable/modules/preprocessing.html\n",
      "Please also refer to the documentation for alternative solver options:\n",
      "    https://scikit-learn.org/stable/modules/linear_model.html#logistic-regression\n",
      "\n"
     ]
    },
    {
     "name": "stdout",
     "output_type": "stream",
     "text": [
      "[CV 5/5; 300/400] END .......C=75, penalty=None;, score=0.824 total time=   0.0s\n",
      "[CV 1/5; 301/400] START C=76, penalty=l1........................................\n",
      "[CV 1/5; 301/400] END ...........C=76, penalty=l1;, score=nan total time=   0.0s\n",
      "[CV 2/5; 301/400] START C=76, penalty=l1........................................\n",
      "[CV 2/5; 301/400] END ...........C=76, penalty=l1;, score=nan total time=   0.0s\n",
      "[CV 3/5; 301/400] START C=76, penalty=l1........................................\n",
      "[CV 3/5; 301/400] END ...........C=76, penalty=l1;, score=nan total time=   0.0s\n",
      "[CV 4/5; 301/400] START C=76, penalty=l1........................................\n",
      "[CV 4/5; 301/400] END ...........C=76, penalty=l1;, score=nan total time=   0.0s\n",
      "[CV 5/5; 301/400] START C=76, penalty=l1........................................\n",
      "[CV 5/5; 301/400] END ...........C=76, penalty=l1;, score=nan total time=   0.0s\n",
      "[CV 1/5; 302/400] START C=76, penalty=l2........................................\n",
      "[CV 1/5; 302/400] END .........C=76, penalty=l2;, score=0.909 total time=   0.0s\n",
      "[CV 2/5; 302/400] START C=76, penalty=l2........................................\n",
      "[CV 2/5; 302/400] END .........C=76, penalty=l2;, score=0.824 total time=   0.0s\n",
      "[CV 3/5; 302/400] START C=76, penalty=l2........................................\n",
      "[CV 3/5; 302/400] END .........C=76, penalty=l2;, score=0.941 total time=   0.0s\n",
      "[CV 4/5; 302/400] START C=76, penalty=l2........................................\n",
      "[CV 4/5; 302/400] END .........C=76, penalty=l2;, score=0.765 total time=   0.0s\n",
      "[CV 5/5; 302/400] START C=76, penalty=l2........................................\n"
     ]
    },
    {
     "name": "stderr",
     "output_type": "stream",
     "text": [
      "C:\\Users\\Usuario\\anaconda3\\lib\\site-packages\\sklearn\\linear_model\\_logistic.py:460: ConvergenceWarning:\n",
      "\n",
      "lbfgs failed to converge (status=1):\n",
      "STOP: TOTAL NO. of ITERATIONS REACHED LIMIT.\n",
      "\n",
      "Increase the number of iterations (max_iter) or scale the data as shown in:\n",
      "    https://scikit-learn.org/stable/modules/preprocessing.html\n",
      "Please also refer to the documentation for alternative solver options:\n",
      "    https://scikit-learn.org/stable/modules/linear_model.html#logistic-regression\n",
      "\n",
      "C:\\Users\\Usuario\\anaconda3\\lib\\site-packages\\sklearn\\linear_model\\_logistic.py:1193: UserWarning:\n",
      "\n",
      "Setting penalty=None will ignore the C and l1_ratio parameters\n",
      "\n",
      "C:\\Users\\Usuario\\anaconda3\\lib\\site-packages\\sklearn\\linear_model\\_logistic.py:1193: UserWarning:\n",
      "\n",
      "Setting penalty=None will ignore the C and l1_ratio parameters\n",
      "\n",
      "C:\\Users\\Usuario\\anaconda3\\lib\\site-packages\\sklearn\\linear_model\\_logistic.py:1193: UserWarning:\n",
      "\n",
      "Setting penalty=None will ignore the C and l1_ratio parameters\n",
      "\n",
      "C:\\Users\\Usuario\\anaconda3\\lib\\site-packages\\sklearn\\linear_model\\_logistic.py:460: ConvergenceWarning:\n",
      "\n",
      "lbfgs failed to converge (status=1):\n",
      "STOP: TOTAL NO. of ITERATIONS REACHED LIMIT.\n",
      "\n",
      "Increase the number of iterations (max_iter) or scale the data as shown in:\n",
      "    https://scikit-learn.org/stable/modules/preprocessing.html\n",
      "Please also refer to the documentation for alternative solver options:\n",
      "    https://scikit-learn.org/stable/modules/linear_model.html#logistic-regression\n",
      "\n",
      "C:\\Users\\Usuario\\anaconda3\\lib\\site-packages\\sklearn\\linear_model\\_logistic.py:1193: UserWarning:\n",
      "\n",
      "Setting penalty=None will ignore the C and l1_ratio parameters\n",
      "\n",
      "C:\\Users\\Usuario\\anaconda3\\lib\\site-packages\\sklearn\\linear_model\\_logistic.py:1193: UserWarning:\n",
      "\n",
      "Setting penalty=None will ignore the C and l1_ratio parameters\n",
      "\n"
     ]
    },
    {
     "name": "stdout",
     "output_type": "stream",
     "text": [
      "[CV 5/5; 302/400] END .........C=76, penalty=l2;, score=0.794 total time=   0.0s\n",
      "[CV 1/5; 303/400] START C=76, penalty=elasticnet................................\n",
      "[CV 1/5; 303/400] END ...C=76, penalty=elasticnet;, score=nan total time=   0.0s\n",
      "[CV 2/5; 303/400] START C=76, penalty=elasticnet................................\n",
      "[CV 2/5; 303/400] END ...C=76, penalty=elasticnet;, score=nan total time=   0.0s\n",
      "[CV 3/5; 303/400] START C=76, penalty=elasticnet................................\n",
      "[CV 3/5; 303/400] END ...C=76, penalty=elasticnet;, score=nan total time=   0.0s\n",
      "[CV 4/5; 303/400] START C=76, penalty=elasticnet................................\n",
      "[CV 4/5; 303/400] END ...C=76, penalty=elasticnet;, score=nan total time=   0.0s\n",
      "[CV 5/5; 303/400] START C=76, penalty=elasticnet................................\n",
      "[CV 5/5; 303/400] END ...C=76, penalty=elasticnet;, score=nan total time=   0.0s\n",
      "[CV 1/5; 304/400] START C=76, penalty=None......................................\n",
      "[CV 1/5; 304/400] END .......C=76, penalty=None;, score=0.909 total time=   0.0s\n",
      "[CV 2/5; 304/400] START C=76, penalty=None......................................\n",
      "[CV 2/5; 304/400] END .......C=76, penalty=None;, score=0.853 total time=   0.0s\n",
      "[CV 3/5; 304/400] START C=76, penalty=None......................................\n",
      "[CV 3/5; 304/400] END .......C=76, penalty=None;, score=0.941 total time=   0.0s\n",
      "[CV 4/5; 304/400] START C=76, penalty=None......................................\n",
      "[CV 4/5; 304/400] END .......C=76, penalty=None;, score=0.765 total time=   0.0s\n",
      "[CV 5/5; 304/400] START C=76, penalty=None......................................\n",
      "[CV 5/5; 304/400] END .......C=76, penalty=None;, score=0.824 total time=   0.0s\n",
      "[CV 1/5; 305/400] START C=77, penalty=l1........................................\n",
      "[CV 1/5; 305/400] END ...........C=77, penalty=l1;, score=nan total time=   0.0s\n",
      "[CV 2/5; 305/400] START C=77, penalty=l1........................................\n",
      "[CV 2/5; 305/400] END ...........C=77, penalty=l1;, score=nan total time=   0.0s\n",
      "[CV 3/5; 305/400] START C=77, penalty=l1........................................\n",
      "[CV 3/5; 305/400] END ...........C=77, penalty=l1;, score=nan total time=   0.0s\n",
      "[CV 4/5; 305/400] START C=77, penalty=l1........................................\n",
      "[CV 4/5; 305/400] END ...........C=77, penalty=l1;, score=nan total time=   0.0s\n",
      "[CV 5/5; 305/400] START C=77, penalty=l1........................................\n",
      "[CV 5/5; 305/400] END ...........C=77, penalty=l1;, score=nan total time=   0.0s\n",
      "[CV 1/5; 306/400] START C=77, penalty=l2........................................\n",
      "[CV 1/5; 306/400] END .........C=77, penalty=l2;, score=0.909 total time=   0.0s\n",
      "[CV 2/5; 306/400] START C=77, penalty=l2........................................\n",
      "[CV 2/5; 306/400] END .........C=77, penalty=l2;, score=0.853 total time=   0.0s\n",
      "[CV 3/5; 306/400] START C=77, penalty=l2........................................\n",
      "[CV 3/5; 306/400] END .........C=77, penalty=l2;, score=0.941 total time=   0.0s\n",
      "[CV 4/5; 306/400] START C=77, penalty=l2........................................\n",
      "[CV 4/5; 306/400] END .........C=77, penalty=l2;, score=0.765 total time=   0.0s\n",
      "[CV 5/5; 306/400] START C=77, penalty=l2........................................\n",
      "[CV 5/5; 306/400] END .........C=77, penalty=l2;, score=0.794 total time=   0.0s\n",
      "[CV 1/5; 307/400] START C=77, penalty=elasticnet................................\n",
      "[CV 1/5; 307/400] END ...C=77, penalty=elasticnet;, score=nan total time=   0.0s\n",
      "[CV 2/5; 307/400] START C=77, penalty=elasticnet................................\n",
      "[CV 2/5; 307/400] END ...C=77, penalty=elasticnet;, score=nan total time=   0.0s\n",
      "[CV 3/5; 307/400] START C=77, penalty=elasticnet................................\n",
      "[CV 3/5; 307/400] END ...C=77, penalty=elasticnet;, score=nan total time=   0.0s\n",
      "[CV 4/5; 307/400] START C=77, penalty=elasticnet................................\n",
      "[CV 4/5; 307/400] END ...C=77, penalty=elasticnet;, score=nan total time=   0.0s\n",
      "[CV 5/5; 307/400] START C=77, penalty=elasticnet................................\n",
      "[CV 5/5; 307/400] END ...C=77, penalty=elasticnet;, score=nan total time=   0.0s\n",
      "[CV 1/5; 308/400] START C=77, penalty=None......................................\n",
      "[CV 1/5; 308/400] END .......C=77, penalty=None;, score=0.909 total time=   0.0s\n",
      "[CV 2/5; 308/400] START C=77, penalty=None......................................\n",
      "[CV 2/5; 308/400] END .......C=77, penalty=None;, score=0.853 total time=   0.0s\n",
      "[CV 3/5; 308/400] START C=77, penalty=None......................................\n"
     ]
    },
    {
     "name": "stderr",
     "output_type": "stream",
     "text": [
      "C:\\Users\\Usuario\\anaconda3\\lib\\site-packages\\sklearn\\linear_model\\_logistic.py:460: ConvergenceWarning:\n",
      "\n",
      "lbfgs failed to converge (status=1):\n",
      "STOP: TOTAL NO. of ITERATIONS REACHED LIMIT.\n",
      "\n",
      "Increase the number of iterations (max_iter) or scale the data as shown in:\n",
      "    https://scikit-learn.org/stable/modules/preprocessing.html\n",
      "Please also refer to the documentation for alternative solver options:\n",
      "    https://scikit-learn.org/stable/modules/linear_model.html#logistic-regression\n",
      "\n",
      "C:\\Users\\Usuario\\anaconda3\\lib\\site-packages\\sklearn\\linear_model\\_logistic.py:1193: UserWarning:\n",
      "\n",
      "Setting penalty=None will ignore the C and l1_ratio parameters\n",
      "\n",
      "C:\\Users\\Usuario\\anaconda3\\lib\\site-packages\\sklearn\\linear_model\\_logistic.py:1193: UserWarning:\n",
      "\n",
      "Setting penalty=None will ignore the C and l1_ratio parameters\n",
      "\n",
      "C:\\Users\\Usuario\\anaconda3\\lib\\site-packages\\sklearn\\linear_model\\_logistic.py:1193: UserWarning:\n",
      "\n",
      "Setting penalty=None will ignore the C and l1_ratio parameters\n",
      "\n",
      "C:\\Users\\Usuario\\anaconda3\\lib\\site-packages\\sklearn\\linear_model\\_logistic.py:460: ConvergenceWarning:\n",
      "\n",
      "lbfgs failed to converge (status=1):\n",
      "STOP: TOTAL NO. of ITERATIONS REACHED LIMIT.\n",
      "\n",
      "Increase the number of iterations (max_iter) or scale the data as shown in:\n",
      "    https://scikit-learn.org/stable/modules/preprocessing.html\n",
      "Please also refer to the documentation for alternative solver options:\n",
      "    https://scikit-learn.org/stable/modules/linear_model.html#logistic-regression\n",
      "\n",
      "C:\\Users\\Usuario\\anaconda3\\lib\\site-packages\\sklearn\\linear_model\\_logistic.py:1193: UserWarning:\n",
      "\n",
      "Setting penalty=None will ignore the C and l1_ratio parameters\n",
      "\n",
      "C:\\Users\\Usuario\\anaconda3\\lib\\site-packages\\sklearn\\linear_model\\_logistic.py:1193: UserWarning:\n",
      "\n",
      "Setting penalty=None will ignore the C and l1_ratio parameters\n",
      "\n"
     ]
    },
    {
     "name": "stdout",
     "output_type": "stream",
     "text": [
      "[CV 3/5; 308/400] END .......C=77, penalty=None;, score=0.941 total time=   0.0s\n",
      "[CV 4/5; 308/400] START C=77, penalty=None......................................\n",
      "[CV 4/5; 308/400] END .......C=77, penalty=None;, score=0.765 total time=   0.0s\n",
      "[CV 5/5; 308/400] START C=77, penalty=None......................................\n",
      "[CV 5/5; 308/400] END .......C=77, penalty=None;, score=0.824 total time=   0.0s\n",
      "[CV 1/5; 309/400] START C=78, penalty=l1........................................\n",
      "[CV 1/5; 309/400] END ...........C=78, penalty=l1;, score=nan total time=   0.0s\n",
      "[CV 2/5; 309/400] START C=78, penalty=l1........................................\n",
      "[CV 2/5; 309/400] END ...........C=78, penalty=l1;, score=nan total time=   0.0s\n",
      "[CV 3/5; 309/400] START C=78, penalty=l1........................................\n",
      "[CV 3/5; 309/400] END ...........C=78, penalty=l1;, score=nan total time=   0.0s\n",
      "[CV 4/5; 309/400] START C=78, penalty=l1........................................\n",
      "[CV 4/5; 309/400] END ...........C=78, penalty=l1;, score=nan total time=   0.0s\n",
      "[CV 5/5; 309/400] START C=78, penalty=l1........................................\n",
      "[CV 5/5; 309/400] END ...........C=78, penalty=l1;, score=nan total time=   0.0s\n",
      "[CV 1/5; 310/400] START C=78, penalty=l2........................................\n",
      "[CV 1/5; 310/400] END .........C=78, penalty=l2;, score=0.909 total time=   0.0s\n",
      "[CV 2/5; 310/400] START C=78, penalty=l2........................................\n",
      "[CV 2/5; 310/400] END .........C=78, penalty=l2;, score=0.824 total time=   0.0s\n",
      "[CV 3/5; 310/400] START C=78, penalty=l2........................................\n",
      "[CV 3/5; 310/400] END .........C=78, penalty=l2;, score=0.941 total time=   0.0s\n",
      "[CV 4/5; 310/400] START C=78, penalty=l2........................................\n",
      "[CV 4/5; 310/400] END .........C=78, penalty=l2;, score=0.765 total time=   0.0s\n",
      "[CV 5/5; 310/400] START C=78, penalty=l2........................................\n"
     ]
    },
    {
     "name": "stderr",
     "output_type": "stream",
     "text": [
      "C:\\Users\\Usuario\\anaconda3\\lib\\site-packages\\sklearn\\linear_model\\_logistic.py:460: ConvergenceWarning:\n",
      "\n",
      "lbfgs failed to converge (status=1):\n",
      "STOP: TOTAL NO. of ITERATIONS REACHED LIMIT.\n",
      "\n",
      "Increase the number of iterations (max_iter) or scale the data as shown in:\n",
      "    https://scikit-learn.org/stable/modules/preprocessing.html\n",
      "Please also refer to the documentation for alternative solver options:\n",
      "    https://scikit-learn.org/stable/modules/linear_model.html#logistic-regression\n",
      "\n",
      "C:\\Users\\Usuario\\anaconda3\\lib\\site-packages\\sklearn\\linear_model\\_logistic.py:460: ConvergenceWarning:\n",
      "\n",
      "lbfgs failed to converge (status=1):\n",
      "STOP: TOTAL NO. of ITERATIONS REACHED LIMIT.\n",
      "\n",
      "Increase the number of iterations (max_iter) or scale the data as shown in:\n",
      "    https://scikit-learn.org/stable/modules/preprocessing.html\n",
      "Please also refer to the documentation for alternative solver options:\n",
      "    https://scikit-learn.org/stable/modules/linear_model.html#logistic-regression\n",
      "\n",
      "C:\\Users\\Usuario\\anaconda3\\lib\\site-packages\\sklearn\\linear_model\\_logistic.py:1193: UserWarning:\n",
      "\n",
      "Setting penalty=None will ignore the C and l1_ratio parameters\n",
      "\n",
      "C:\\Users\\Usuario\\anaconda3\\lib\\site-packages\\sklearn\\linear_model\\_logistic.py:1193: UserWarning:\n",
      "\n",
      "Setting penalty=None will ignore the C and l1_ratio parameters\n",
      "\n"
     ]
    },
    {
     "name": "stdout",
     "output_type": "stream",
     "text": [
      "[CV 5/5; 310/400] END .........C=78, penalty=l2;, score=0.794 total time=   0.0s\n",
      "[CV 1/5; 311/400] START C=78, penalty=elasticnet................................\n",
      "[CV 1/5; 311/400] END ...C=78, penalty=elasticnet;, score=nan total time=   0.0s\n",
      "[CV 2/5; 311/400] START C=78, penalty=elasticnet................................\n",
      "[CV 2/5; 311/400] END ...C=78, penalty=elasticnet;, score=nan total time=   0.0s\n",
      "[CV 3/5; 311/400] START C=78, penalty=elasticnet................................\n",
      "[CV 3/5; 311/400] END ...C=78, penalty=elasticnet;, score=nan total time=   0.0s\n",
      "[CV 4/5; 311/400] START C=78, penalty=elasticnet................................\n",
      "[CV 4/5; 311/400] END ...C=78, penalty=elasticnet;, score=nan total time=   0.0s\n",
      "[CV 5/5; 311/400] START C=78, penalty=elasticnet................................\n",
      "[CV 5/5; 311/400] END ...C=78, penalty=elasticnet;, score=nan total time=   0.0s\n",
      "[CV 1/5; 312/400] START C=78, penalty=None......................................\n",
      "[CV 1/5; 312/400] END .......C=78, penalty=None;, score=0.909 total time=   0.0s\n",
      "[CV 2/5; 312/400] START C=78, penalty=None......................................\n",
      "[CV 2/5; 312/400] END .......C=78, penalty=None;, score=0.853 total time=   0.0s\n",
      "[CV 3/5; 312/400] START C=78, penalty=None......................................\n",
      "[CV 3/5; 312/400] END .......C=78, penalty=None;, score=0.941 total time=   0.0s\n",
      "[CV 4/5; 312/400] START C=78, penalty=None......................................\n",
      "[CV 4/5; 312/400] END .......C=78, penalty=None;, score=0.765 total time=   0.0s\n",
      "[CV 5/5; 312/400] START C=78, penalty=None......................................\n",
      "[CV 5/5; 312/400] END .......C=78, penalty=None;, score=0.824 total time=   0.0s\n",
      "[CV 1/5; 313/400] START C=79, penalty=l1........................................\n",
      "[CV 1/5; 313/400] END ...........C=79, penalty=l1;, score=nan total time=   0.0s\n",
      "[CV 2/5; 313/400] START C=79, penalty=l1........................................\n"
     ]
    },
    {
     "name": "stderr",
     "output_type": "stream",
     "text": [
      "C:\\Users\\Usuario\\anaconda3\\lib\\site-packages\\sklearn\\linear_model\\_logistic.py:1193: UserWarning:\n",
      "\n",
      "Setting penalty=None will ignore the C and l1_ratio parameters\n",
      "\n",
      "C:\\Users\\Usuario\\anaconda3\\lib\\site-packages\\sklearn\\linear_model\\_logistic.py:460: ConvergenceWarning:\n",
      "\n",
      "lbfgs failed to converge (status=1):\n",
      "STOP: TOTAL NO. of ITERATIONS REACHED LIMIT.\n",
      "\n",
      "Increase the number of iterations (max_iter) or scale the data as shown in:\n",
      "    https://scikit-learn.org/stable/modules/preprocessing.html\n",
      "Please also refer to the documentation for alternative solver options:\n",
      "    https://scikit-learn.org/stable/modules/linear_model.html#logistic-regression\n",
      "\n",
      "C:\\Users\\Usuario\\anaconda3\\lib\\site-packages\\sklearn\\linear_model\\_logistic.py:1193: UserWarning:\n",
      "\n",
      "Setting penalty=None will ignore the C and l1_ratio parameters\n",
      "\n",
      "C:\\Users\\Usuario\\anaconda3\\lib\\site-packages\\sklearn\\linear_model\\_logistic.py:1193: UserWarning:\n",
      "\n",
      "Setting penalty=None will ignore the C and l1_ratio parameters\n",
      "\n"
     ]
    },
    {
     "name": "stdout",
     "output_type": "stream",
     "text": [
      "[CV 2/5; 313/400] END ...........C=79, penalty=l1;, score=nan total time=   0.0s\n",
      "[CV 3/5; 313/400] START C=79, penalty=l1........................................\n",
      "[CV 3/5; 313/400] END ...........C=79, penalty=l1;, score=nan total time=   0.0s\n",
      "[CV 4/5; 313/400] START C=79, penalty=l1........................................\n",
      "[CV 4/5; 313/400] END ...........C=79, penalty=l1;, score=nan total time=   0.0s\n",
      "[CV 5/5; 313/400] START C=79, penalty=l1........................................\n",
      "[CV 5/5; 313/400] END ...........C=79, penalty=l1;, score=nan total time=   0.0s\n",
      "[CV 1/5; 314/400] START C=79, penalty=l2........................................\n",
      "[CV 1/5; 314/400] END .........C=79, penalty=l2;, score=0.909 total time=   0.0s\n",
      "[CV 2/5; 314/400] START C=79, penalty=l2........................................\n",
      "[CV 2/5; 314/400] END .........C=79, penalty=l2;, score=0.824 total time=   0.0s\n",
      "[CV 3/5; 314/400] START C=79, penalty=l2........................................\n",
      "[CV 3/5; 314/400] END .........C=79, penalty=l2;, score=0.941 total time=   0.0s\n",
      "[CV 4/5; 314/400] START C=79, penalty=l2........................................\n",
      "[CV 4/5; 314/400] END .........C=79, penalty=l2;, score=0.765 total time=   0.0s\n",
      "[CV 5/5; 314/400] START C=79, penalty=l2........................................\n",
      "[CV 5/5; 314/400] END .........C=79, penalty=l2;, score=0.794 total time=   0.0s\n",
      "[CV 1/5; 315/400] START C=79, penalty=elasticnet................................\n",
      "[CV 1/5; 315/400] END ...C=79, penalty=elasticnet;, score=nan total time=   0.0s\n",
      "[CV 2/5; 315/400] START C=79, penalty=elasticnet................................\n",
      "[CV 2/5; 315/400] END ...C=79, penalty=elasticnet;, score=nan total time=   0.0s\n",
      "[CV 3/5; 315/400] START C=79, penalty=elasticnet................................\n",
      "[CV 3/5; 315/400] END ...C=79, penalty=elasticnet;, score=nan total time=   0.0s\n",
      "[CV 4/5; 315/400] START C=79, penalty=elasticnet................................\n",
      "[CV 4/5; 315/400] END ...C=79, penalty=elasticnet;, score=nan total time=   0.0s\n",
      "[CV 5/5; 315/400] START C=79, penalty=elasticnet................................\n",
      "[CV 5/5; 315/400] END ...C=79, penalty=elasticnet;, score=nan total time=   0.0s\n",
      "[CV 1/5; 316/400] START C=79, penalty=None......................................\n",
      "[CV 1/5; 316/400] END .......C=79, penalty=None;, score=0.909 total time=   0.0s\n",
      "[CV 2/5; 316/400] START C=79, penalty=None......................................\n"
     ]
    },
    {
     "name": "stderr",
     "output_type": "stream",
     "text": [
      "C:\\Users\\Usuario\\anaconda3\\lib\\site-packages\\sklearn\\linear_model\\_logistic.py:1193: UserWarning:\n",
      "\n",
      "Setting penalty=None will ignore the C and l1_ratio parameters\n",
      "\n",
      "C:\\Users\\Usuario\\anaconda3\\lib\\site-packages\\sklearn\\linear_model\\_logistic.py:1193: UserWarning:\n",
      "\n",
      "Setting penalty=None will ignore the C and l1_ratio parameters\n",
      "\n",
      "C:\\Users\\Usuario\\anaconda3\\lib\\site-packages\\sklearn\\linear_model\\_logistic.py:1193: UserWarning:\n",
      "\n",
      "Setting penalty=None will ignore the C and l1_ratio parameters\n",
      "\n",
      "C:\\Users\\Usuario\\anaconda3\\lib\\site-packages\\sklearn\\linear_model\\_logistic.py:460: ConvergenceWarning:\n",
      "\n",
      "lbfgs failed to converge (status=1):\n",
      "STOP: TOTAL NO. of ITERATIONS REACHED LIMIT.\n",
      "\n",
      "Increase the number of iterations (max_iter) or scale the data as shown in:\n",
      "    https://scikit-learn.org/stable/modules/preprocessing.html\n",
      "Please also refer to the documentation for alternative solver options:\n",
      "    https://scikit-learn.org/stable/modules/linear_model.html#logistic-regression\n",
      "\n",
      "C:\\Users\\Usuario\\anaconda3\\lib\\site-packages\\sklearn\\linear_model\\_logistic.py:1193: UserWarning:\n",
      "\n",
      "Setting penalty=None will ignore the C and l1_ratio parameters\n",
      "\n",
      "C:\\Users\\Usuario\\anaconda3\\lib\\site-packages\\sklearn\\linear_model\\_logistic.py:1193: UserWarning:\n",
      "\n",
      "Setting penalty=None will ignore the C and l1_ratio parameters\n",
      "\n"
     ]
    },
    {
     "name": "stdout",
     "output_type": "stream",
     "text": [
      "[CV 2/5; 316/400] END .......C=79, penalty=None;, score=0.853 total time=   0.0s\n",
      "[CV 3/5; 316/400] START C=79, penalty=None......................................\n",
      "[CV 3/5; 316/400] END .......C=79, penalty=None;, score=0.941 total time=   0.0s\n",
      "[CV 4/5; 316/400] START C=79, penalty=None......................................\n",
      "[CV 4/5; 316/400] END .......C=79, penalty=None;, score=0.765 total time=   0.0s\n",
      "[CV 5/5; 316/400] START C=79, penalty=None......................................\n",
      "[CV 5/5; 316/400] END .......C=79, penalty=None;, score=0.824 total time=   0.0s\n",
      "[CV 1/5; 317/400] START C=80, penalty=l1........................................\n",
      "[CV 1/5; 317/400] END ...........C=80, penalty=l1;, score=nan total time=   0.0s\n",
      "[CV 2/5; 317/400] START C=80, penalty=l1........................................\n",
      "[CV 2/5; 317/400] END ...........C=80, penalty=l1;, score=nan total time=   0.0s\n",
      "[CV 3/5; 317/400] START C=80, penalty=l1........................................\n",
      "[CV 3/5; 317/400] END ...........C=80, penalty=l1;, score=nan total time=   0.0s\n",
      "[CV 4/5; 317/400] START C=80, penalty=l1........................................\n",
      "[CV 4/5; 317/400] END ...........C=80, penalty=l1;, score=nan total time=   0.0s\n",
      "[CV 5/5; 317/400] START C=80, penalty=l1........................................\n",
      "[CV 5/5; 317/400] END ...........C=80, penalty=l1;, score=nan total time=   0.0s\n",
      "[CV 1/5; 318/400] START C=80, penalty=l2........................................\n",
      "[CV 1/5; 318/400] END .........C=80, penalty=l2;, score=0.909 total time=   0.0s\n",
      "[CV 2/5; 318/400] START C=80, penalty=l2........................................\n",
      "[CV 2/5; 318/400] END .........C=80, penalty=l2;, score=0.824 total time=   0.0s\n",
      "[CV 3/5; 318/400] START C=80, penalty=l2........................................\n",
      "[CV 3/5; 318/400] END .........C=80, penalty=l2;, score=0.941 total time=   0.0s\n",
      "[CV 4/5; 318/400] START C=80, penalty=l2........................................\n",
      "[CV 4/5; 318/400] END .........C=80, penalty=l2;, score=0.765 total time=   0.0s\n",
      "[CV 5/5; 318/400] START C=80, penalty=l2........................................\n",
      "[CV 5/5; 318/400] END .........C=80, penalty=l2;, score=0.794 total time=   0.0s\n",
      "[CV 1/5; 319/400] START C=80, penalty=elasticnet................................\n",
      "[CV 1/5; 319/400] END ...C=80, penalty=elasticnet;, score=nan total time=   0.0s\n",
      "[CV 2/5; 319/400] START C=80, penalty=elasticnet................................\n",
      "[CV 2/5; 319/400] END ...C=80, penalty=elasticnet;, score=nan total time=   0.0s\n",
      "[CV 3/5; 319/400] START C=80, penalty=elasticnet................................\n",
      "[CV 3/5; 319/400] END ...C=80, penalty=elasticnet;, score=nan total time=   0.0s\n",
      "[CV 4/5; 319/400] START C=80, penalty=elasticnet................................\n",
      "[CV 4/5; 319/400] END ...C=80, penalty=elasticnet;, score=nan total time=   0.0s\n",
      "[CV 5/5; 319/400] START C=80, penalty=elasticnet................................\n",
      "[CV 5/5; 319/400] END ...C=80, penalty=elasticnet;, score=nan total time=   0.0s\n",
      "[CV 1/5; 320/400] START C=80, penalty=None......................................\n",
      "[CV 1/5; 320/400] END .......C=80, penalty=None;, score=0.909 total time=   0.0s\n",
      "[CV 2/5; 320/400] START C=80, penalty=None......................................\n",
      "[CV 2/5; 320/400] END .......C=80, penalty=None;, score=0.853 total time=   0.0s\n",
      "[CV 3/5; 320/400] START C=80, penalty=None......................................\n",
      "[CV 3/5; 320/400] END .......C=80, penalty=None;, score=0.941 total time=   0.0s\n",
      "[CV 4/5; 320/400] START C=80, penalty=None......................................\n",
      "[CV 4/5; 320/400] END .......C=80, penalty=None;, score=0.765 total time=   0.0s\n",
      "[CV 5/5; 320/400] START C=80, penalty=None......................................\n",
      "[CV 5/5; 320/400] END .......C=80, penalty=None;, score=0.824 total time=   0.0s\n",
      "[CV 1/5; 321/400] START C=81, penalty=l1........................................\n"
     ]
    },
    {
     "name": "stderr",
     "output_type": "stream",
     "text": [
      "C:\\Users\\Usuario\\anaconda3\\lib\\site-packages\\sklearn\\linear_model\\_logistic.py:460: ConvergenceWarning:\n",
      "\n",
      "lbfgs failed to converge (status=1):\n",
      "STOP: TOTAL NO. of ITERATIONS REACHED LIMIT.\n",
      "\n",
      "Increase the number of iterations (max_iter) or scale the data as shown in:\n",
      "    https://scikit-learn.org/stable/modules/preprocessing.html\n",
      "Please also refer to the documentation for alternative solver options:\n",
      "    https://scikit-learn.org/stable/modules/linear_model.html#logistic-regression\n",
      "\n",
      "C:\\Users\\Usuario\\anaconda3\\lib\\site-packages\\sklearn\\linear_model\\_logistic.py:1193: UserWarning:\n",
      "\n",
      "Setting penalty=None will ignore the C and l1_ratio parameters\n",
      "\n",
      "C:\\Users\\Usuario\\anaconda3\\lib\\site-packages\\sklearn\\linear_model\\_logistic.py:1193: UserWarning:\n",
      "\n",
      "Setting penalty=None will ignore the C and l1_ratio parameters\n",
      "\n",
      "C:\\Users\\Usuario\\anaconda3\\lib\\site-packages\\sklearn\\linear_model\\_logistic.py:1193: UserWarning:\n",
      "\n",
      "Setting penalty=None will ignore the C and l1_ratio parameters\n",
      "\n",
      "C:\\Users\\Usuario\\anaconda3\\lib\\site-packages\\sklearn\\linear_model\\_logistic.py:460: ConvergenceWarning:\n",
      "\n",
      "lbfgs failed to converge (status=1):\n",
      "STOP: TOTAL NO. of ITERATIONS REACHED LIMIT.\n",
      "\n",
      "Increase the number of iterations (max_iter) or scale the data as shown in:\n",
      "    https://scikit-learn.org/stable/modules/preprocessing.html\n",
      "Please also refer to the documentation for alternative solver options:\n",
      "    https://scikit-learn.org/stable/modules/linear_model.html#logistic-regression\n",
      "\n",
      "C:\\Users\\Usuario\\anaconda3\\lib\\site-packages\\sklearn\\linear_model\\_logistic.py:1193: UserWarning:\n",
      "\n",
      "Setting penalty=None will ignore the C and l1_ratio parameters\n",
      "\n",
      "C:\\Users\\Usuario\\anaconda3\\lib\\site-packages\\sklearn\\linear_model\\_logistic.py:1193: UserWarning:\n",
      "\n",
      "Setting penalty=None will ignore the C and l1_ratio parameters\n",
      "\n"
     ]
    },
    {
     "name": "stdout",
     "output_type": "stream",
     "text": [
      "[CV 1/5; 321/400] END ...........C=81, penalty=l1;, score=nan total time=   0.0s\n",
      "[CV 2/5; 321/400] START C=81, penalty=l1........................................\n",
      "[CV 2/5; 321/400] END ...........C=81, penalty=l1;, score=nan total time=   0.0s\n",
      "[CV 3/5; 321/400] START C=81, penalty=l1........................................\n",
      "[CV 3/5; 321/400] END ...........C=81, penalty=l1;, score=nan total time=   0.0s\n",
      "[CV 4/5; 321/400] START C=81, penalty=l1........................................\n",
      "[CV 4/5; 321/400] END ...........C=81, penalty=l1;, score=nan total time=   0.0s\n",
      "[CV 5/5; 321/400] START C=81, penalty=l1........................................\n",
      "[CV 5/5; 321/400] END ...........C=81, penalty=l1;, score=nan total time=   0.0s\n",
      "[CV 1/5; 322/400] START C=81, penalty=l2........................................\n",
      "[CV 1/5; 322/400] END .........C=81, penalty=l2;, score=0.909 total time=   0.0s\n",
      "[CV 2/5; 322/400] START C=81, penalty=l2........................................\n",
      "[CV 2/5; 322/400] END .........C=81, penalty=l2;, score=0.853 total time=   0.0s\n",
      "[CV 3/5; 322/400] START C=81, penalty=l2........................................\n",
      "[CV 3/5; 322/400] END .........C=81, penalty=l2;, score=0.941 total time=   0.0s\n",
      "[CV 4/5; 322/400] START C=81, penalty=l2........................................\n",
      "[CV 4/5; 322/400] END .........C=81, penalty=l2;, score=0.765 total time=   0.0s\n",
      "[CV 5/5; 322/400] START C=81, penalty=l2........................................\n",
      "[CV 5/5; 322/400] END .........C=81, penalty=l2;, score=0.794 total time=   0.0s\n",
      "[CV 1/5; 323/400] START C=81, penalty=elasticnet................................\n",
      "[CV 1/5; 323/400] END ...C=81, penalty=elasticnet;, score=nan total time=   0.0s\n",
      "[CV 2/5; 323/400] START C=81, penalty=elasticnet................................\n",
      "[CV 2/5; 323/400] END ...C=81, penalty=elasticnet;, score=nan total time=   0.0s\n",
      "[CV 3/5; 323/400] START C=81, penalty=elasticnet................................\n",
      "[CV 3/5; 323/400] END ...C=81, penalty=elasticnet;, score=nan total time=   0.0s\n",
      "[CV 4/5; 323/400] START C=81, penalty=elasticnet................................\n",
      "[CV 4/5; 323/400] END ...C=81, penalty=elasticnet;, score=nan total time=   0.0s\n",
      "[CV 5/5; 323/400] START C=81, penalty=elasticnet................................\n",
      "[CV 5/5; 323/400] END ...C=81, penalty=elasticnet;, score=nan total time=   0.0s\n",
      "[CV 1/5; 324/400] START C=81, penalty=None......................................\n",
      "[CV 1/5; 324/400] END .......C=81, penalty=None;, score=0.909 total time=   0.0s\n",
      "[CV 2/5; 324/400] START C=81, penalty=None......................................\n",
      "[CV 2/5; 324/400] END .......C=81, penalty=None;, score=0.853 total time=   0.0s\n",
      "[CV 3/5; 324/400] START C=81, penalty=None......................................\n",
      "[CV 3/5; 324/400] END .......C=81, penalty=None;, score=0.941 total time=   0.0s\n",
      "[CV 4/5; 324/400] START C=81, penalty=None......................................\n",
      "[CV 4/5; 324/400] END .......C=81, penalty=None;, score=0.765 total time=   0.0s\n",
      "[CV 5/5; 324/400] START C=81, penalty=None......................................\n",
      "[CV 5/5; 324/400] END .......C=81, penalty=None;, score=0.824 total time=   0.0s\n",
      "[CV 1/5; 325/400] START C=82, penalty=l1........................................\n",
      "[CV 1/5; 325/400] END ...........C=82, penalty=l1;, score=nan total time=   0.0s\n",
      "[CV 2/5; 325/400] START C=82, penalty=l1........................................\n",
      "[CV 2/5; 325/400] END ...........C=82, penalty=l1;, score=nan total time=   0.0s\n",
      "[CV 3/5; 325/400] START C=82, penalty=l1........................................\n",
      "[CV 3/5; 325/400] END ...........C=82, penalty=l1;, score=nan total time=   0.0s\n",
      "[CV 4/5; 325/400] START C=82, penalty=l1........................................\n",
      "[CV 4/5; 325/400] END ...........C=82, penalty=l1;, score=nan total time=   0.0s\n",
      "[CV 5/5; 325/400] START C=82, penalty=l1........................................\n",
      "[CV 5/5; 325/400] END ...........C=82, penalty=l1;, score=nan total time=   0.0s\n",
      "[CV 1/5; 326/400] START C=82, penalty=l2........................................\n",
      "[CV 1/5; 326/400] END .........C=82, penalty=l2;, score=0.909 total time=   0.0s\n",
      "[CV 2/5; 326/400] START C=82, penalty=l2........................................\n"
     ]
    },
    {
     "name": "stderr",
     "output_type": "stream",
     "text": [
      "C:\\Users\\Usuario\\anaconda3\\lib\\site-packages\\sklearn\\linear_model\\_logistic.py:1193: UserWarning:\n",
      "\n",
      "Setting penalty=None will ignore the C and l1_ratio parameters\n",
      "\n",
      "C:\\Users\\Usuario\\anaconda3\\lib\\site-packages\\sklearn\\linear_model\\_logistic.py:1193: UserWarning:\n",
      "\n",
      "Setting penalty=None will ignore the C and l1_ratio parameters\n",
      "\n",
      "C:\\Users\\Usuario\\anaconda3\\lib\\site-packages\\sklearn\\linear_model\\_logistic.py:1193: UserWarning:\n",
      "\n",
      "Setting penalty=None will ignore the C and l1_ratio parameters\n",
      "\n",
      "C:\\Users\\Usuario\\anaconda3\\lib\\site-packages\\sklearn\\linear_model\\_logistic.py:460: ConvergenceWarning:\n",
      "\n",
      "lbfgs failed to converge (status=1):\n",
      "STOP: TOTAL NO. of ITERATIONS REACHED LIMIT.\n",
      "\n",
      "Increase the number of iterations (max_iter) or scale the data as shown in:\n",
      "    https://scikit-learn.org/stable/modules/preprocessing.html\n",
      "Please also refer to the documentation for alternative solver options:\n",
      "    https://scikit-learn.org/stable/modules/linear_model.html#logistic-regression\n",
      "\n",
      "C:\\Users\\Usuario\\anaconda3\\lib\\site-packages\\sklearn\\linear_model\\_logistic.py:1193: UserWarning:\n",
      "\n",
      "Setting penalty=None will ignore the C and l1_ratio parameters\n",
      "\n",
      "C:\\Users\\Usuario\\anaconda3\\lib\\site-packages\\sklearn\\linear_model\\_logistic.py:1193: UserWarning:\n",
      "\n",
      "Setting penalty=None will ignore the C and l1_ratio parameters\n",
      "\n"
     ]
    },
    {
     "name": "stdout",
     "output_type": "stream",
     "text": [
      "[CV 2/5; 326/400] END .........C=82, penalty=l2;, score=0.824 total time=   0.0s\n",
      "[CV 3/5; 326/400] START C=82, penalty=l2........................................\n",
      "[CV 3/5; 326/400] END .........C=82, penalty=l2;, score=0.941 total time=   0.0s\n",
      "[CV 4/5; 326/400] START C=82, penalty=l2........................................\n",
      "[CV 4/5; 326/400] END .........C=82, penalty=l2;, score=0.765 total time=   0.0s\n",
      "[CV 5/5; 326/400] START C=82, penalty=l2........................................\n",
      "[CV 5/5; 326/400] END .........C=82, penalty=l2;, score=0.824 total time=   0.0s\n",
      "[CV 1/5; 327/400] START C=82, penalty=elasticnet................................\n",
      "[CV 1/5; 327/400] END ...C=82, penalty=elasticnet;, score=nan total time=   0.0s\n",
      "[CV 2/5; 327/400] START C=82, penalty=elasticnet................................\n",
      "[CV 2/5; 327/400] END ...C=82, penalty=elasticnet;, score=nan total time=   0.0s\n",
      "[CV 3/5; 327/400] START C=82, penalty=elasticnet................................\n",
      "[CV 3/5; 327/400] END ...C=82, penalty=elasticnet;, score=nan total time=   0.0s\n",
      "[CV 4/5; 327/400] START C=82, penalty=elasticnet................................\n",
      "[CV 4/5; 327/400] END ...C=82, penalty=elasticnet;, score=nan total time=   0.0s\n",
      "[CV 5/5; 327/400] START C=82, penalty=elasticnet................................\n",
      "[CV 5/5; 327/400] END ...C=82, penalty=elasticnet;, score=nan total time=   0.0s\n",
      "[CV 1/5; 328/400] START C=82, penalty=None......................................\n",
      "[CV 1/5; 328/400] END .......C=82, penalty=None;, score=0.909 total time=   0.0s\n",
      "[CV 2/5; 328/400] START C=82, penalty=None......................................\n",
      "[CV 2/5; 328/400] END .......C=82, penalty=None;, score=0.853 total time=   0.0s\n",
      "[CV 3/5; 328/400] START C=82, penalty=None......................................\n"
     ]
    },
    {
     "name": "stderr",
     "output_type": "stream",
     "text": [
      "C:\\Users\\Usuario\\anaconda3\\lib\\site-packages\\sklearn\\linear_model\\_logistic.py:1193: UserWarning:\n",
      "\n",
      "Setting penalty=None will ignore the C and l1_ratio parameters\n",
      "\n",
      "C:\\Users\\Usuario\\anaconda3\\lib\\site-packages\\sklearn\\linear_model\\_logistic.py:1193: UserWarning:\n",
      "\n",
      "Setting penalty=None will ignore the C and l1_ratio parameters\n",
      "\n",
      "C:\\Users\\Usuario\\anaconda3\\lib\\site-packages\\sklearn\\linear_model\\_logistic.py:1193: UserWarning:\n",
      "\n",
      "Setting penalty=None will ignore the C and l1_ratio parameters\n",
      "\n",
      "C:\\Users\\Usuario\\anaconda3\\lib\\site-packages\\sklearn\\linear_model\\_logistic.py:460: ConvergenceWarning:\n",
      "\n",
      "lbfgs failed to converge (status=1):\n",
      "STOP: TOTAL NO. of ITERATIONS REACHED LIMIT.\n",
      "\n",
      "Increase the number of iterations (max_iter) or scale the data as shown in:\n",
      "    https://scikit-learn.org/stable/modules/preprocessing.html\n",
      "Please also refer to the documentation for alternative solver options:\n",
      "    https://scikit-learn.org/stable/modules/linear_model.html#logistic-regression\n",
      "\n",
      "C:\\Users\\Usuario\\anaconda3\\lib\\site-packages\\sklearn\\linear_model\\_logistic.py:1193: UserWarning:\n",
      "\n",
      "Setting penalty=None will ignore the C and l1_ratio parameters\n",
      "\n",
      "C:\\Users\\Usuario\\anaconda3\\lib\\site-packages\\sklearn\\linear_model\\_logistic.py:1193: UserWarning:\n",
      "\n",
      "Setting penalty=None will ignore the C and l1_ratio parameters\n",
      "\n"
     ]
    },
    {
     "name": "stdout",
     "output_type": "stream",
     "text": [
      "[CV 3/5; 328/400] END .......C=82, penalty=None;, score=0.941 total time=   0.0s\n",
      "[CV 4/5; 328/400] START C=82, penalty=None......................................\n",
      "[CV 4/5; 328/400] END .......C=82, penalty=None;, score=0.765 total time=   0.0s\n",
      "[CV 5/5; 328/400] START C=82, penalty=None......................................\n",
      "[CV 5/5; 328/400] END .......C=82, penalty=None;, score=0.824 total time=   0.0s\n",
      "[CV 1/5; 329/400] START C=83, penalty=l1........................................\n",
      "[CV 1/5; 329/400] END ...........C=83, penalty=l1;, score=nan total time=   0.0s\n",
      "[CV 2/5; 329/400] START C=83, penalty=l1........................................\n",
      "[CV 2/5; 329/400] END ...........C=83, penalty=l1;, score=nan total time=   0.0s\n",
      "[CV 3/5; 329/400] START C=83, penalty=l1........................................\n",
      "[CV 3/5; 329/400] END ...........C=83, penalty=l1;, score=nan total time=   0.0s\n",
      "[CV 4/5; 329/400] START C=83, penalty=l1........................................\n",
      "[CV 4/5; 329/400] END ...........C=83, penalty=l1;, score=nan total time=   0.0s\n",
      "[CV 5/5; 329/400] START C=83, penalty=l1........................................\n",
      "[CV 5/5; 329/400] END ...........C=83, penalty=l1;, score=nan total time=   0.0s\n",
      "[CV 1/5; 330/400] START C=83, penalty=l2........................................\n",
      "[CV 1/5; 330/400] END .........C=83, penalty=l2;, score=0.909 total time=   0.0s\n",
      "[CV 2/5; 330/400] START C=83, penalty=l2........................................\n",
      "[CV 2/5; 330/400] END .........C=83, penalty=l2;, score=0.824 total time=   0.0s\n",
      "[CV 3/5; 330/400] START C=83, penalty=l2........................................\n",
      "[CV 3/5; 330/400] END .........C=83, penalty=l2;, score=0.941 total time=   0.0s\n",
      "[CV 4/5; 330/400] START C=83, penalty=l2........................................\n",
      "[CV 4/5; 330/400] END .........C=83, penalty=l2;, score=0.765 total time=   0.0s\n",
      "[CV 5/5; 330/400] START C=83, penalty=l2........................................\n",
      "[CV 5/5; 330/400] END .........C=83, penalty=l2;, score=0.794 total time=   0.0s\n",
      "[CV 1/5; 331/400] START C=83, penalty=elasticnet................................\n",
      "[CV 1/5; 331/400] END ...C=83, penalty=elasticnet;, score=nan total time=   0.0s\n",
      "[CV 2/5; 331/400] START C=83, penalty=elasticnet................................\n",
      "[CV 2/5; 331/400] END ...C=83, penalty=elasticnet;, score=nan total time=   0.0s\n",
      "[CV 3/5; 331/400] START C=83, penalty=elasticnet................................\n",
      "[CV 3/5; 331/400] END ...C=83, penalty=elasticnet;, score=nan total time=   0.0s\n",
      "[CV 4/5; 331/400] START C=83, penalty=elasticnet................................\n",
      "[CV 4/5; 331/400] END ...C=83, penalty=elasticnet;, score=nan total time=   0.0s\n",
      "[CV 5/5; 331/400] START C=83, penalty=elasticnet................................\n",
      "[CV 5/5; 331/400] END ...C=83, penalty=elasticnet;, score=nan total time=   0.0s\n",
      "[CV 1/5; 332/400] START C=83, penalty=None......................................\n",
      "[CV 1/5; 332/400] END .......C=83, penalty=None;, score=0.909 total time=   0.0s\n",
      "[CV 2/5; 332/400] START C=83, penalty=None......................................\n",
      "[CV 2/5; 332/400] END .......C=83, penalty=None;, score=0.853 total time=   0.0s\n",
      "[CV 3/5; 332/400] START C=83, penalty=None......................................\n",
      "[CV 3/5; 332/400] END .......C=83, penalty=None;, score=0.941 total time=   0.0s\n",
      "[CV 4/5; 332/400] START C=83, penalty=None......................................\n",
      "[CV 4/5; 332/400] END .......C=83, penalty=None;, score=0.765 total time=   0.0s\n",
      "[CV 5/5; 332/400] START C=83, penalty=None......................................\n",
      "[CV 5/5; 332/400] END .......C=83, penalty=None;, score=0.824 total time=   0.0s\n",
      "[CV 1/5; 333/400] START C=84, penalty=l1........................................\n",
      "[CV 1/5; 333/400] END ...........C=84, penalty=l1;, score=nan total time=   0.0s\n",
      "[CV 2/5; 333/400] START C=84, penalty=l1........................................\n",
      "[CV 2/5; 333/400] END ...........C=84, penalty=l1;, score=nan total time=   0.0s\n"
     ]
    },
    {
     "name": "stderr",
     "output_type": "stream",
     "text": [
      "C:\\Users\\Usuario\\anaconda3\\lib\\site-packages\\sklearn\\linear_model\\_logistic.py:1193: UserWarning:\n",
      "\n",
      "Setting penalty=None will ignore the C and l1_ratio parameters\n",
      "\n",
      "C:\\Users\\Usuario\\anaconda3\\lib\\site-packages\\sklearn\\linear_model\\_logistic.py:1193: UserWarning:\n",
      "\n",
      "Setting penalty=None will ignore the C and l1_ratio parameters\n",
      "\n",
      "C:\\Users\\Usuario\\anaconda3\\lib\\site-packages\\sklearn\\linear_model\\_logistic.py:1193: UserWarning:\n",
      "\n",
      "Setting penalty=None will ignore the C and l1_ratio parameters\n",
      "\n",
      "C:\\Users\\Usuario\\anaconda3\\lib\\site-packages\\sklearn\\linear_model\\_logistic.py:460: ConvergenceWarning:\n",
      "\n",
      "lbfgs failed to converge (status=1):\n",
      "STOP: TOTAL NO. of ITERATIONS REACHED LIMIT.\n",
      "\n",
      "Increase the number of iterations (max_iter) or scale the data as shown in:\n",
      "    https://scikit-learn.org/stable/modules/preprocessing.html\n",
      "Please also refer to the documentation for alternative solver options:\n",
      "    https://scikit-learn.org/stable/modules/linear_model.html#logistic-regression\n",
      "\n",
      "C:\\Users\\Usuario\\anaconda3\\lib\\site-packages\\sklearn\\linear_model\\_logistic.py:1193: UserWarning:\n",
      "\n",
      "Setting penalty=None will ignore the C and l1_ratio parameters\n",
      "\n",
      "C:\\Users\\Usuario\\anaconda3\\lib\\site-packages\\sklearn\\linear_model\\_logistic.py:1193: UserWarning:\n",
      "\n",
      "Setting penalty=None will ignore the C and l1_ratio parameters\n",
      "\n"
     ]
    },
    {
     "name": "stdout",
     "output_type": "stream",
     "text": [
      "[CV 3/5; 333/400] START C=84, penalty=l1........................................\n",
      "[CV 3/5; 333/400] END ...........C=84, penalty=l1;, score=nan total time=   0.0s\n",
      "[CV 4/5; 333/400] START C=84, penalty=l1........................................\n",
      "[CV 4/5; 333/400] END ...........C=84, penalty=l1;, score=nan total time=   0.0s\n",
      "[CV 5/5; 333/400] START C=84, penalty=l1........................................\n",
      "[CV 5/5; 333/400] END ...........C=84, penalty=l1;, score=nan total time=   0.0s\n",
      "[CV 1/5; 334/400] START C=84, penalty=l2........................................\n",
      "[CV 1/5; 334/400] END .........C=84, penalty=l2;, score=0.909 total time=   0.0s\n",
      "[CV 2/5; 334/400] START C=84, penalty=l2........................................\n",
      "[CV 2/5; 334/400] END .........C=84, penalty=l2;, score=0.824 total time=   0.0s\n",
      "[CV 3/5; 334/400] START C=84, penalty=l2........................................\n",
      "[CV 3/5; 334/400] END .........C=84, penalty=l2;, score=0.941 total time=   0.0s\n",
      "[CV 4/5; 334/400] START C=84, penalty=l2........................................\n",
      "[CV 4/5; 334/400] END .........C=84, penalty=l2;, score=0.765 total time=   0.0s\n",
      "[CV 5/5; 334/400] START C=84, penalty=l2........................................\n",
      "[CV 5/5; 334/400] END .........C=84, penalty=l2;, score=0.794 total time=   0.0s\n",
      "[CV 1/5; 335/400] START C=84, penalty=elasticnet................................\n",
      "[CV 1/5; 335/400] END ...C=84, penalty=elasticnet;, score=nan total time=   0.0s\n",
      "[CV 2/5; 335/400] START C=84, penalty=elasticnet................................\n",
      "[CV 2/5; 335/400] END ...C=84, penalty=elasticnet;, score=nan total time=   0.0s\n",
      "[CV 3/5; 335/400] START C=84, penalty=elasticnet................................\n",
      "[CV 3/5; 335/400] END ...C=84, penalty=elasticnet;, score=nan total time=   0.0s\n",
      "[CV 4/5; 335/400] START C=84, penalty=elasticnet................................\n",
      "[CV 4/5; 335/400] END ...C=84, penalty=elasticnet;, score=nan total time=   0.0s\n",
      "[CV 5/5; 335/400] START C=84, penalty=elasticnet................................\n",
      "[CV 5/5; 335/400] END ...C=84, penalty=elasticnet;, score=nan total time=   0.0s\n",
      "[CV 1/5; 336/400] START C=84, penalty=None......................................\n"
     ]
    },
    {
     "name": "stderr",
     "output_type": "stream",
     "text": [
      "C:\\Users\\Usuario\\anaconda3\\lib\\site-packages\\sklearn\\linear_model\\_logistic.py:460: ConvergenceWarning:\n",
      "\n",
      "lbfgs failed to converge (status=1):\n",
      "STOP: TOTAL NO. of ITERATIONS REACHED LIMIT.\n",
      "\n",
      "Increase the number of iterations (max_iter) or scale the data as shown in:\n",
      "    https://scikit-learn.org/stable/modules/preprocessing.html\n",
      "Please also refer to the documentation for alternative solver options:\n",
      "    https://scikit-learn.org/stable/modules/linear_model.html#logistic-regression\n",
      "\n",
      "C:\\Users\\Usuario\\anaconda3\\lib\\site-packages\\sklearn\\linear_model\\_logistic.py:1193: UserWarning:\n",
      "\n",
      "Setting penalty=None will ignore the C and l1_ratio parameters\n",
      "\n",
      "C:\\Users\\Usuario\\anaconda3\\lib\\site-packages\\sklearn\\linear_model\\_logistic.py:1193: UserWarning:\n",
      "\n",
      "Setting penalty=None will ignore the C and l1_ratio parameters\n",
      "\n",
      "C:\\Users\\Usuario\\anaconda3\\lib\\site-packages\\sklearn\\linear_model\\_logistic.py:1193: UserWarning:\n",
      "\n",
      "Setting penalty=None will ignore the C and l1_ratio parameters\n",
      "\n",
      "C:\\Users\\Usuario\\anaconda3\\lib\\site-packages\\sklearn\\linear_model\\_logistic.py:460: ConvergenceWarning:\n",
      "\n",
      "lbfgs failed to converge (status=1):\n",
      "STOP: TOTAL NO. of ITERATIONS REACHED LIMIT.\n",
      "\n",
      "Increase the number of iterations (max_iter) or scale the data as shown in:\n",
      "    https://scikit-learn.org/stable/modules/preprocessing.html\n",
      "Please also refer to the documentation for alternative solver options:\n",
      "    https://scikit-learn.org/stable/modules/linear_model.html#logistic-regression\n",
      "\n",
      "C:\\Users\\Usuario\\anaconda3\\lib\\site-packages\\sklearn\\linear_model\\_logistic.py:1193: UserWarning:\n",
      "\n",
      "Setting penalty=None will ignore the C and l1_ratio parameters\n",
      "\n"
     ]
    },
    {
     "name": "stdout",
     "output_type": "stream",
     "text": [
      "[CV 1/5; 336/400] END .......C=84, penalty=None;, score=0.909 total time=   0.0s\n",
      "[CV 2/5; 336/400] START C=84, penalty=None......................................\n",
      "[CV 2/5; 336/400] END .......C=84, penalty=None;, score=0.853 total time=   0.0s\n",
      "[CV 3/5; 336/400] START C=84, penalty=None......................................\n",
      "[CV 3/5; 336/400] END .......C=84, penalty=None;, score=0.941 total time=   0.0s\n",
      "[CV 4/5; 336/400] START C=84, penalty=None......................................\n",
      "[CV 4/5; 336/400] END .......C=84, penalty=None;, score=0.765 total time=   0.0s\n",
      "[CV 5/5; 336/400] START C=84, penalty=None......................................\n",
      "[CV 5/5; 336/400] END .......C=84, penalty=None;, score=0.824 total time=   0.0s\n",
      "[CV 1/5; 337/400] START C=85, penalty=l1........................................\n",
      "[CV 1/5; 337/400] END ...........C=85, penalty=l1;, score=nan total time=   0.0s\n",
      "[CV 2/5; 337/400] START C=85, penalty=l1........................................\n",
      "[CV 2/5; 337/400] END ...........C=85, penalty=l1;, score=nan total time=   0.0s\n",
      "[CV 3/5; 337/400] START C=85, penalty=l1........................................\n",
      "[CV 3/5; 337/400] END ...........C=85, penalty=l1;, score=nan total time=   0.0s\n",
      "[CV 4/5; 337/400] START C=85, penalty=l1........................................\n",
      "[CV 4/5; 337/400] END ...........C=85, penalty=l1;, score=nan total time=   0.0s\n",
      "[CV 5/5; 337/400] START C=85, penalty=l1........................................\n",
      "[CV 5/5; 337/400] END ...........C=85, penalty=l1;, score=nan total time=   0.0s\n",
      "[CV 1/5; 338/400] START C=85, penalty=l2........................................\n",
      "[CV 1/5; 338/400] END .........C=85, penalty=l2;, score=0.909 total time=   0.0s\n",
      "[CV 2/5; 338/400] START C=85, penalty=l2........................................\n",
      "[CV 2/5; 338/400] END .........C=85, penalty=l2;, score=0.824 total time=   0.0s\n",
      "[CV 3/5; 338/400] START C=85, penalty=l2........................................\n",
      "[CV 3/5; 338/400] END .........C=85, penalty=l2;, score=0.941 total time=   0.0s\n",
      "[CV 4/5; 338/400] START C=85, penalty=l2........................................\n",
      "[CV 4/5; 338/400] END .........C=85, penalty=l2;, score=0.765 total time=   0.0s\n",
      "[CV 5/5; 338/400] START C=85, penalty=l2........................................\n",
      "[CV 5/5; 338/400] END .........C=85, penalty=l2;, score=0.794 total time=   0.0s\n",
      "[CV 1/5; 339/400] START C=85, penalty=elasticnet................................\n",
      "[CV 1/5; 339/400] END ...C=85, penalty=elasticnet;, score=nan total time=   0.0s\n",
      "[CV 2/5; 339/400] START C=85, penalty=elasticnet................................\n",
      "[CV 2/5; 339/400] END ...C=85, penalty=elasticnet;, score=nan total time=   0.0s\n",
      "[CV 3/5; 339/400] START C=85, penalty=elasticnet................................\n",
      "[CV 3/5; 339/400] END ...C=85, penalty=elasticnet;, score=nan total time=   0.0s\n",
      "[CV 4/5; 339/400] START C=85, penalty=elasticnet................................\n",
      "[CV 4/5; 339/400] END ...C=85, penalty=elasticnet;, score=nan total time=   0.0s\n",
      "[CV 5/5; 339/400] START C=85, penalty=elasticnet................................\n",
      "[CV 5/5; 339/400] END ...C=85, penalty=elasticnet;, score=nan total time=   0.0s\n",
      "[CV 1/5; 340/400] START C=85, penalty=None......................................\n",
      "[CV 1/5; 340/400] END .......C=85, penalty=None;, score=0.909 total time=   0.0s\n",
      "[CV 2/5; 340/400] START C=85, penalty=None......................................\n",
      "[CV 2/5; 340/400] END .......C=85, penalty=None;, score=0.853 total time=   0.0s\n",
      "[CV 3/5; 340/400] START C=85, penalty=None......................................\n"
     ]
    },
    {
     "name": "stderr",
     "output_type": "stream",
     "text": [
      "C:\\Users\\Usuario\\anaconda3\\lib\\site-packages\\sklearn\\linear_model\\_logistic.py:1193: UserWarning:\n",
      "\n",
      "Setting penalty=None will ignore the C and l1_ratio parameters\n",
      "\n",
      "C:\\Users\\Usuario\\anaconda3\\lib\\site-packages\\sklearn\\linear_model\\_logistic.py:1193: UserWarning:\n",
      "\n",
      "Setting penalty=None will ignore the C and l1_ratio parameters\n",
      "\n",
      "C:\\Users\\Usuario\\anaconda3\\lib\\site-packages\\sklearn\\linear_model\\_logistic.py:1193: UserWarning:\n",
      "\n",
      "Setting penalty=None will ignore the C and l1_ratio parameters\n",
      "\n",
      "C:\\Users\\Usuario\\anaconda3\\lib\\site-packages\\sklearn\\linear_model\\_logistic.py:1193: UserWarning:\n",
      "\n",
      "Setting penalty=None will ignore the C and l1_ratio parameters\n",
      "\n",
      "C:\\Users\\Usuario\\anaconda3\\lib\\site-packages\\sklearn\\linear_model\\_logistic.py:460: ConvergenceWarning:\n",
      "\n",
      "lbfgs failed to converge (status=1):\n",
      "STOP: TOTAL NO. of ITERATIONS REACHED LIMIT.\n",
      "\n",
      "Increase the number of iterations (max_iter) or scale the data as shown in:\n",
      "    https://scikit-learn.org/stable/modules/preprocessing.html\n",
      "Please also refer to the documentation for alternative solver options:\n",
      "    https://scikit-learn.org/stable/modules/linear_model.html#logistic-regression\n",
      "\n",
      "C:\\Users\\Usuario\\anaconda3\\lib\\site-packages\\sklearn\\linear_model\\_logistic.py:1193: UserWarning:\n",
      "\n",
      "Setting penalty=None will ignore the C and l1_ratio parameters\n",
      "\n",
      "C:\\Users\\Usuario\\anaconda3\\lib\\site-packages\\sklearn\\linear_model\\_logistic.py:1193: UserWarning:\n",
      "\n",
      "Setting penalty=None will ignore the C and l1_ratio parameters\n",
      "\n"
     ]
    },
    {
     "name": "stdout",
     "output_type": "stream",
     "text": [
      "[CV 3/5; 340/400] END .......C=85, penalty=None;, score=0.941 total time=   0.0s\n",
      "[CV 4/5; 340/400] START C=85, penalty=None......................................\n",
      "[CV 4/5; 340/400] END .......C=85, penalty=None;, score=0.765 total time=   0.0s\n",
      "[CV 5/5; 340/400] START C=85, penalty=None......................................\n",
      "[CV 5/5; 340/400] END .......C=85, penalty=None;, score=0.824 total time=   0.0s\n",
      "[CV 1/5; 341/400] START C=86, penalty=l1........................................\n",
      "[CV 1/5; 341/400] END ...........C=86, penalty=l1;, score=nan total time=   0.0s\n",
      "[CV 2/5; 341/400] START C=86, penalty=l1........................................\n",
      "[CV 2/5; 341/400] END ...........C=86, penalty=l1;, score=nan total time=   0.0s\n",
      "[CV 3/5; 341/400] START C=86, penalty=l1........................................\n",
      "[CV 3/5; 341/400] END ...........C=86, penalty=l1;, score=nan total time=   0.0s\n",
      "[CV 4/5; 341/400] START C=86, penalty=l1........................................\n",
      "[CV 4/5; 341/400] END ...........C=86, penalty=l1;, score=nan total time=   0.0s\n",
      "[CV 5/5; 341/400] START C=86, penalty=l1........................................\n",
      "[CV 5/5; 341/400] END ...........C=86, penalty=l1;, score=nan total time=   0.0s\n",
      "[CV 1/5; 342/400] START C=86, penalty=l2........................................\n",
      "[CV 1/5; 342/400] END .........C=86, penalty=l2;, score=0.909 total time=   0.0s\n",
      "[CV 2/5; 342/400] START C=86, penalty=l2........................................\n",
      "[CV 2/5; 342/400] END .........C=86, penalty=l2;, score=0.824 total time=   0.0s\n",
      "[CV 3/5; 342/400] START C=86, penalty=l2........................................\n",
      "[CV 3/5; 342/400] END .........C=86, penalty=l2;, score=0.941 total time=   0.0s\n",
      "[CV 4/5; 342/400] START C=86, penalty=l2........................................\n",
      "[CV 4/5; 342/400] END .........C=86, penalty=l2;, score=0.765 total time=   0.0s\n",
      "[CV 5/5; 342/400] START C=86, penalty=l2........................................\n",
      "[CV 5/5; 342/400] END .........C=86, penalty=l2;, score=0.824 total time=   0.0s\n",
      "[CV 1/5; 343/400] START C=86, penalty=elasticnet................................\n",
      "[CV 1/5; 343/400] END ...C=86, penalty=elasticnet;, score=nan total time=   0.0s\n",
      "[CV 2/5; 343/400] START C=86, penalty=elasticnet................................\n",
      "[CV 2/5; 343/400] END ...C=86, penalty=elasticnet;, score=nan total time=   0.0s\n",
      "[CV 3/5; 343/400] START C=86, penalty=elasticnet................................\n",
      "[CV 3/5; 343/400] END ...C=86, penalty=elasticnet;, score=nan total time=   0.0s\n",
      "[CV 4/5; 343/400] START C=86, penalty=elasticnet................................\n",
      "[CV 4/5; 343/400] END ...C=86, penalty=elasticnet;, score=nan total time=   0.0s\n",
      "[CV 5/5; 343/400] START C=86, penalty=elasticnet................................\n",
      "[CV 5/5; 343/400] END ...C=86, penalty=elasticnet;, score=nan total time=   0.0s\n",
      "[CV 1/5; 344/400] START C=86, penalty=None......................................\n",
      "[CV 1/5; 344/400] END .......C=86, penalty=None;, score=0.909 total time=   0.0s\n",
      "[CV 2/5; 344/400] START C=86, penalty=None......................................\n",
      "[CV 2/5; 344/400] END .......C=86, penalty=None;, score=0.853 total time=   0.0s\n",
      "[CV 3/5; 344/400] START C=86, penalty=None......................................\n",
      "[CV 3/5; 344/400] END .......C=86, penalty=None;, score=0.941 total time=   0.0s\n",
      "[CV 4/5; 344/400] START C=86, penalty=None......................................\n",
      "[CV 4/5; 344/400] END .......C=86, penalty=None;, score=0.765 total time=   0.0s\n",
      "[CV 5/5; 344/400] START C=86, penalty=None......................................\n",
      "[CV 5/5; 344/400] END .......C=86, penalty=None;, score=0.824 total time=   0.0s\n",
      "[CV 1/5; 345/400] START C=87, penalty=l1........................................\n"
     ]
    },
    {
     "name": "stderr",
     "output_type": "stream",
     "text": [
      "C:\\Users\\Usuario\\anaconda3\\lib\\site-packages\\sklearn\\linear_model\\_logistic.py:1193: UserWarning:\n",
      "\n",
      "Setting penalty=None will ignore the C and l1_ratio parameters\n",
      "\n",
      "C:\\Users\\Usuario\\anaconda3\\lib\\site-packages\\sklearn\\linear_model\\_logistic.py:1193: UserWarning:\n",
      "\n",
      "Setting penalty=None will ignore the C and l1_ratio parameters\n",
      "\n",
      "C:\\Users\\Usuario\\anaconda3\\lib\\site-packages\\sklearn\\linear_model\\_logistic.py:1193: UserWarning:\n",
      "\n",
      "Setting penalty=None will ignore the C and l1_ratio parameters\n",
      "\n",
      "C:\\Users\\Usuario\\anaconda3\\lib\\site-packages\\sklearn\\linear_model\\_logistic.py:460: ConvergenceWarning:\n",
      "\n",
      "lbfgs failed to converge (status=1):\n",
      "STOP: TOTAL NO. of ITERATIONS REACHED LIMIT.\n",
      "\n",
      "Increase the number of iterations (max_iter) or scale the data as shown in:\n",
      "    https://scikit-learn.org/stable/modules/preprocessing.html\n",
      "Please also refer to the documentation for alternative solver options:\n",
      "    https://scikit-learn.org/stable/modules/linear_model.html#logistic-regression\n",
      "\n",
      "C:\\Users\\Usuario\\anaconda3\\lib\\site-packages\\sklearn\\linear_model\\_logistic.py:1193: UserWarning:\n",
      "\n",
      "Setting penalty=None will ignore the C and l1_ratio parameters\n",
      "\n",
      "C:\\Users\\Usuario\\anaconda3\\lib\\site-packages\\sklearn\\linear_model\\_logistic.py:1193: UserWarning:\n",
      "\n",
      "Setting penalty=None will ignore the C and l1_ratio parameters\n",
      "\n"
     ]
    },
    {
     "name": "stdout",
     "output_type": "stream",
     "text": [
      "[CV 1/5; 345/400] END ...........C=87, penalty=l1;, score=nan total time=   0.0s\n",
      "[CV 2/5; 345/400] START C=87, penalty=l1........................................\n",
      "[CV 2/5; 345/400] END ...........C=87, penalty=l1;, score=nan total time=   0.0s\n",
      "[CV 3/5; 345/400] START C=87, penalty=l1........................................\n",
      "[CV 3/5; 345/400] END ...........C=87, penalty=l1;, score=nan total time=   0.0s\n",
      "[CV 4/5; 345/400] START C=87, penalty=l1........................................\n",
      "[CV 4/5; 345/400] END ...........C=87, penalty=l1;, score=nan total time=   0.0s\n",
      "[CV 5/5; 345/400] START C=87, penalty=l1........................................\n",
      "[CV 5/5; 345/400] END ...........C=87, penalty=l1;, score=nan total time=   0.0s\n",
      "[CV 1/5; 346/400] START C=87, penalty=l2........................................\n",
      "[CV 1/5; 346/400] END .........C=87, penalty=l2;, score=0.909 total time=   0.0s\n",
      "[CV 2/5; 346/400] START C=87, penalty=l2........................................\n",
      "[CV 2/5; 346/400] END .........C=87, penalty=l2;, score=0.853 total time=   0.0s\n",
      "[CV 3/5; 346/400] START C=87, penalty=l2........................................\n",
      "[CV 3/5; 346/400] END .........C=87, penalty=l2;, score=0.941 total time=   0.0s\n",
      "[CV 4/5; 346/400] START C=87, penalty=l2........................................\n"
     ]
    },
    {
     "name": "stderr",
     "output_type": "stream",
     "text": [
      "C:\\Users\\Usuario\\anaconda3\\lib\\site-packages\\sklearn\\linear_model\\_logistic.py:460: ConvergenceWarning:\n",
      "\n",
      "lbfgs failed to converge (status=1):\n",
      "STOP: TOTAL NO. of ITERATIONS REACHED LIMIT.\n",
      "\n",
      "Increase the number of iterations (max_iter) or scale the data as shown in:\n",
      "    https://scikit-learn.org/stable/modules/preprocessing.html\n",
      "Please also refer to the documentation for alternative solver options:\n",
      "    https://scikit-learn.org/stable/modules/linear_model.html#logistic-regression\n",
      "\n",
      "C:\\Users\\Usuario\\anaconda3\\lib\\site-packages\\sklearn\\linear_model\\_logistic.py:1193: UserWarning:\n",
      "\n",
      "Setting penalty=None will ignore the C and l1_ratio parameters\n",
      "\n",
      "C:\\Users\\Usuario\\anaconda3\\lib\\site-packages\\sklearn\\linear_model\\_logistic.py:1193: UserWarning:\n",
      "\n",
      "Setting penalty=None will ignore the C and l1_ratio parameters\n",
      "\n",
      "C:\\Users\\Usuario\\anaconda3\\lib\\site-packages\\sklearn\\linear_model\\_logistic.py:1193: UserWarning:\n",
      "\n",
      "Setting penalty=None will ignore the C and l1_ratio parameters\n",
      "\n",
      "C:\\Users\\Usuario\\anaconda3\\lib\\site-packages\\sklearn\\linear_model\\_logistic.py:460: ConvergenceWarning:\n",
      "\n",
      "lbfgs failed to converge (status=1):\n",
      "STOP: TOTAL NO. of ITERATIONS REACHED LIMIT.\n",
      "\n",
      "Increase the number of iterations (max_iter) or scale the data as shown in:\n",
      "    https://scikit-learn.org/stable/modules/preprocessing.html\n",
      "Please also refer to the documentation for alternative solver options:\n",
      "    https://scikit-learn.org/stable/modules/linear_model.html#logistic-regression\n",
      "\n",
      "C:\\Users\\Usuario\\anaconda3\\lib\\site-packages\\sklearn\\linear_model\\_logistic.py:1193: UserWarning:\n",
      "\n",
      "Setting penalty=None will ignore the C and l1_ratio parameters\n",
      "\n"
     ]
    },
    {
     "name": "stdout",
     "output_type": "stream",
     "text": [
      "[CV 4/5; 346/400] END .........C=87, penalty=l2;, score=0.765 total time=   0.0s\n",
      "[CV 5/5; 346/400] START C=87, penalty=l2........................................\n",
      "[CV 5/5; 346/400] END .........C=87, penalty=l2;, score=0.824 total time=   0.0s\n",
      "[CV 1/5; 347/400] START C=87, penalty=elasticnet................................\n",
      "[CV 1/5; 347/400] END ...C=87, penalty=elasticnet;, score=nan total time=   0.0s\n",
      "[CV 2/5; 347/400] START C=87, penalty=elasticnet................................\n",
      "[CV 2/5; 347/400] END ...C=87, penalty=elasticnet;, score=nan total time=   0.0s\n",
      "[CV 3/5; 347/400] START C=87, penalty=elasticnet................................\n",
      "[CV 3/5; 347/400] END ...C=87, penalty=elasticnet;, score=nan total time=   0.0s\n",
      "[CV 4/5; 347/400] START C=87, penalty=elasticnet................................\n",
      "[CV 4/5; 347/400] END ...C=87, penalty=elasticnet;, score=nan total time=   0.0s\n",
      "[CV 5/5; 347/400] START C=87, penalty=elasticnet................................\n",
      "[CV 5/5; 347/400] END ...C=87, penalty=elasticnet;, score=nan total time=   0.0s\n",
      "[CV 1/5; 348/400] START C=87, penalty=None......................................\n",
      "[CV 1/5; 348/400] END .......C=87, penalty=None;, score=0.909 total time=   0.0s\n",
      "[CV 2/5; 348/400] START C=87, penalty=None......................................\n",
      "[CV 2/5; 348/400] END .......C=87, penalty=None;, score=0.853 total time=   0.0s\n",
      "[CV 3/5; 348/400] START C=87, penalty=None......................................\n",
      "[CV 3/5; 348/400] END .......C=87, penalty=None;, score=0.941 total time=   0.0s\n",
      "[CV 4/5; 348/400] START C=87, penalty=None......................................\n",
      "[CV 4/5; 348/400] END .......C=87, penalty=None;, score=0.765 total time=   0.0s\n",
      "[CV 5/5; 348/400] START C=87, penalty=None......................................\n"
     ]
    },
    {
     "name": "stderr",
     "output_type": "stream",
     "text": [
      "C:\\Users\\Usuario\\anaconda3\\lib\\site-packages\\sklearn\\linear_model\\_logistic.py:1193: UserWarning:\n",
      "\n",
      "Setting penalty=None will ignore the C and l1_ratio parameters\n",
      "\n",
      "C:\\Users\\Usuario\\anaconda3\\lib\\site-packages\\sklearn\\linear_model\\_logistic.py:460: ConvergenceWarning:\n",
      "\n",
      "lbfgs failed to converge (status=1):\n",
      "STOP: TOTAL NO. of ITERATIONS REACHED LIMIT.\n",
      "\n",
      "Increase the number of iterations (max_iter) or scale the data as shown in:\n",
      "    https://scikit-learn.org/stable/modules/preprocessing.html\n",
      "Please also refer to the documentation for alternative solver options:\n",
      "    https://scikit-learn.org/stable/modules/linear_model.html#logistic-regression\n",
      "\n",
      "C:\\Users\\Usuario\\anaconda3\\lib\\site-packages\\sklearn\\linear_model\\_logistic.py:460: ConvergenceWarning:\n",
      "\n",
      "lbfgs failed to converge (status=1):\n",
      "STOP: TOTAL NO. of ITERATIONS REACHED LIMIT.\n",
      "\n",
      "Increase the number of iterations (max_iter) or scale the data as shown in:\n",
      "    https://scikit-learn.org/stable/modules/preprocessing.html\n",
      "Please also refer to the documentation for alternative solver options:\n",
      "    https://scikit-learn.org/stable/modules/linear_model.html#logistic-regression\n",
      "\n"
     ]
    },
    {
     "name": "stdout",
     "output_type": "stream",
     "text": [
      "[CV 5/5; 348/400] END .......C=87, penalty=None;, score=0.824 total time=   0.0s\n",
      "[CV 1/5; 349/400] START C=88, penalty=l1........................................\n",
      "[CV 1/5; 349/400] END ...........C=88, penalty=l1;, score=nan total time=   0.0s\n",
      "[CV 2/5; 349/400] START C=88, penalty=l1........................................\n",
      "[CV 2/5; 349/400] END ...........C=88, penalty=l1;, score=nan total time=   0.0s\n",
      "[CV 3/5; 349/400] START C=88, penalty=l1........................................\n",
      "[CV 3/5; 349/400] END ...........C=88, penalty=l1;, score=nan total time=   0.0s\n",
      "[CV 4/5; 349/400] START C=88, penalty=l1........................................\n",
      "[CV 4/5; 349/400] END ...........C=88, penalty=l1;, score=nan total time=   0.0s\n",
      "[CV 5/5; 349/400] START C=88, penalty=l1........................................\n",
      "[CV 5/5; 349/400] END ...........C=88, penalty=l1;, score=nan total time=   0.0s\n",
      "[CV 1/5; 350/400] START C=88, penalty=l2........................................\n",
      "[CV 1/5; 350/400] END .........C=88, penalty=l2;, score=0.909 total time=   0.0s\n",
      "[CV 2/5; 350/400] START C=88, penalty=l2........................................\n",
      "[CV 2/5; 350/400] END .........C=88, penalty=l2;, score=0.824 total time=   0.0s\n",
      "[CV 3/5; 350/400] START C=88, penalty=l2........................................\n",
      "[CV 3/5; 350/400] END .........C=88, penalty=l2;, score=0.941 total time=   0.0s\n",
      "[CV 4/5; 350/400] START C=88, penalty=l2........................................\n",
      "[CV 4/5; 350/400] END .........C=88, penalty=l2;, score=0.765 total time=   0.0s\n",
      "[CV 5/5; 350/400] START C=88, penalty=l2........................................\n",
      "[CV 5/5; 350/400] END .........C=88, penalty=l2;, score=0.794 total time=   0.0s\n",
      "[CV 1/5; 351/400] START C=88, penalty=elasticnet................................\n",
      "[CV 1/5; 351/400] END ...C=88, penalty=elasticnet;, score=nan total time=   0.0s\n",
      "[CV 2/5; 351/400] START C=88, penalty=elasticnet................................\n",
      "[CV 2/5; 351/400] END ...C=88, penalty=elasticnet;, score=nan total time=   0.0s\n",
      "[CV 3/5; 351/400] START C=88, penalty=elasticnet................................\n",
      "[CV 3/5; 351/400] END ...C=88, penalty=elasticnet;, score=nan total time=   0.0s\n",
      "[CV 4/5; 351/400] START C=88, penalty=elasticnet................................\n",
      "[CV 4/5; 351/400] END ...C=88, penalty=elasticnet;, score=nan total time=   0.0s\n",
      "[CV 5/5; 351/400] START C=88, penalty=elasticnet................................\n",
      "[CV 5/5; 351/400] END ...C=88, penalty=elasticnet;, score=nan total time=   0.0s\n",
      "[CV 1/5; 352/400] START C=88, penalty=None......................................\n",
      "[CV 1/5; 352/400] END .......C=88, penalty=None;, score=0.909 total time=   0.0s\n",
      "[CV 2/5; 352/400] START C=88, penalty=None......................................\n",
      "[CV 2/5; 352/400] END .......C=88, penalty=None;, score=0.853 total time=   0.0s\n",
      "[CV 3/5; 352/400] START C=88, penalty=None......................................\n",
      "[CV 3/5; 352/400] END .......C=88, penalty=None;, score=0.941 total time=   0.0s\n",
      "[CV 4/5; 352/400] START C=88, penalty=None......................................\n",
      "[CV 4/5; 352/400] END .......C=88, penalty=None;, score=0.765 total time=   0.0s\n",
      "[CV 5/5; 352/400] START C=88, penalty=None......................................\n",
      "[CV 5/5; 352/400] END .......C=88, penalty=None;, score=0.824 total time=   0.0s\n",
      "[CV 1/5; 353/400] START C=89, penalty=l1........................................\n",
      "[CV 1/5; 353/400] END ...........C=89, penalty=l1;, score=nan total time=   0.0s\n",
      "[CV 2/5; 353/400] START C=89, penalty=l1........................................\n"
     ]
    },
    {
     "name": "stderr",
     "output_type": "stream",
     "text": [
      "C:\\Users\\Usuario\\anaconda3\\lib\\site-packages\\sklearn\\linear_model\\_logistic.py:1193: UserWarning:\n",
      "\n",
      "Setting penalty=None will ignore the C and l1_ratio parameters\n",
      "\n",
      "C:\\Users\\Usuario\\anaconda3\\lib\\site-packages\\sklearn\\linear_model\\_logistic.py:1193: UserWarning:\n",
      "\n",
      "Setting penalty=None will ignore the C and l1_ratio parameters\n",
      "\n",
      "C:\\Users\\Usuario\\anaconda3\\lib\\site-packages\\sklearn\\linear_model\\_logistic.py:1193: UserWarning:\n",
      "\n",
      "Setting penalty=None will ignore the C and l1_ratio parameters\n",
      "\n",
      "C:\\Users\\Usuario\\anaconda3\\lib\\site-packages\\sklearn\\linear_model\\_logistic.py:460: ConvergenceWarning:\n",
      "\n",
      "lbfgs failed to converge (status=1):\n",
      "STOP: TOTAL NO. of ITERATIONS REACHED LIMIT.\n",
      "\n",
      "Increase the number of iterations (max_iter) or scale the data as shown in:\n",
      "    https://scikit-learn.org/stable/modules/preprocessing.html\n",
      "Please also refer to the documentation for alternative solver options:\n",
      "    https://scikit-learn.org/stable/modules/linear_model.html#logistic-regression\n",
      "\n",
      "C:\\Users\\Usuario\\anaconda3\\lib\\site-packages\\sklearn\\linear_model\\_logistic.py:1193: UserWarning:\n",
      "\n",
      "Setting penalty=None will ignore the C and l1_ratio parameters\n",
      "\n",
      "C:\\Users\\Usuario\\anaconda3\\lib\\site-packages\\sklearn\\linear_model\\_logistic.py:1193: UserWarning:\n",
      "\n",
      "Setting penalty=None will ignore the C and l1_ratio parameters\n",
      "\n"
     ]
    },
    {
     "name": "stdout",
     "output_type": "stream",
     "text": [
      "[CV 2/5; 353/400] END ...........C=89, penalty=l1;, score=nan total time=   0.0s\n",
      "[CV 3/5; 353/400] START C=89, penalty=l1........................................\n",
      "[CV 3/5; 353/400] END ...........C=89, penalty=l1;, score=nan total time=   0.0s\n",
      "[CV 4/5; 353/400] START C=89, penalty=l1........................................\n",
      "[CV 4/5; 353/400] END ...........C=89, penalty=l1;, score=nan total time=   0.0s\n",
      "[CV 5/5; 353/400] START C=89, penalty=l1........................................\n",
      "[CV 5/5; 353/400] END ...........C=89, penalty=l1;, score=nan total time=   0.0s\n",
      "[CV 1/5; 354/400] START C=89, penalty=l2........................................\n",
      "[CV 1/5; 354/400] END .........C=89, penalty=l2;, score=0.909 total time=   0.0s\n",
      "[CV 2/5; 354/400] START C=89, penalty=l2........................................\n",
      "[CV 2/5; 354/400] END .........C=89, penalty=l2;, score=0.824 total time=   0.0s\n",
      "[CV 3/5; 354/400] START C=89, penalty=l2........................................\n",
      "[CV 3/5; 354/400] END .........C=89, penalty=l2;, score=0.941 total time=   0.0s\n",
      "[CV 4/5; 354/400] START C=89, penalty=l2........................................\n",
      "[CV 4/5; 354/400] END .........C=89, penalty=l2;, score=0.765 total time=   0.0s\n",
      "[CV 5/5; 354/400] START C=89, penalty=l2........................................\n",
      "[CV 5/5; 354/400] END .........C=89, penalty=l2;, score=0.794 total time=   0.0s\n",
      "[CV 1/5; 355/400] START C=89, penalty=elasticnet................................\n",
      "[CV 1/5; 355/400] END ...C=89, penalty=elasticnet;, score=nan total time=   0.0s\n",
      "[CV 2/5; 355/400] START C=89, penalty=elasticnet................................\n",
      "[CV 2/5; 355/400] END ...C=89, penalty=elasticnet;, score=nan total time=   0.0s\n",
      "[CV 3/5; 355/400] START C=89, penalty=elasticnet................................\n",
      "[CV 3/5; 355/400] END ...C=89, penalty=elasticnet;, score=nan total time=   0.0s\n",
      "[CV 4/5; 355/400] START C=89, penalty=elasticnet................................\n",
      "[CV 4/5; 355/400] END ...C=89, penalty=elasticnet;, score=nan total time=   0.0s\n",
      "[CV 5/5; 355/400] START C=89, penalty=elasticnet................................\n",
      "[CV 5/5; 355/400] END ...C=89, penalty=elasticnet;, score=nan total time=   0.0s\n",
      "[CV 1/5; 356/400] START C=89, penalty=None......................................\n"
     ]
    },
    {
     "name": "stderr",
     "output_type": "stream",
     "text": [
      "C:\\Users\\Usuario\\anaconda3\\lib\\site-packages\\sklearn\\linear_model\\_logistic.py:1193: UserWarning:\n",
      "\n",
      "Setting penalty=None will ignore the C and l1_ratio parameters\n",
      "\n",
      "C:\\Users\\Usuario\\anaconda3\\lib\\site-packages\\sklearn\\linear_model\\_logistic.py:1193: UserWarning:\n",
      "\n",
      "Setting penalty=None will ignore the C and l1_ratio parameters\n",
      "\n",
      "C:\\Users\\Usuario\\anaconda3\\lib\\site-packages\\sklearn\\linear_model\\_logistic.py:1193: UserWarning:\n",
      "\n",
      "Setting penalty=None will ignore the C and l1_ratio parameters\n",
      "\n",
      "C:\\Users\\Usuario\\anaconda3\\lib\\site-packages\\sklearn\\linear_model\\_logistic.py:460: ConvergenceWarning:\n",
      "\n",
      "lbfgs failed to converge (status=1):\n",
      "STOP: TOTAL NO. of ITERATIONS REACHED LIMIT.\n",
      "\n",
      "Increase the number of iterations (max_iter) or scale the data as shown in:\n",
      "    https://scikit-learn.org/stable/modules/preprocessing.html\n",
      "Please also refer to the documentation for alternative solver options:\n",
      "    https://scikit-learn.org/stable/modules/linear_model.html#logistic-regression\n",
      "\n",
      "C:\\Users\\Usuario\\anaconda3\\lib\\site-packages\\sklearn\\linear_model\\_logistic.py:1193: UserWarning:\n",
      "\n",
      "Setting penalty=None will ignore the C and l1_ratio parameters\n",
      "\n",
      "C:\\Users\\Usuario\\anaconda3\\lib\\site-packages\\sklearn\\linear_model\\_logistic.py:1193: UserWarning:\n",
      "\n",
      "Setting penalty=None will ignore the C and l1_ratio parameters\n",
      "\n"
     ]
    },
    {
     "name": "stdout",
     "output_type": "stream",
     "text": [
      "[CV 1/5; 356/400] END .......C=89, penalty=None;, score=0.909 total time=   0.0s\n",
      "[CV 2/5; 356/400] START C=89, penalty=None......................................\n",
      "[CV 2/5; 356/400] END .......C=89, penalty=None;, score=0.853 total time=   0.0s\n",
      "[CV 3/5; 356/400] START C=89, penalty=None......................................\n",
      "[CV 3/5; 356/400] END .......C=89, penalty=None;, score=0.941 total time=   0.0s\n",
      "[CV 4/5; 356/400] START C=89, penalty=None......................................\n",
      "[CV 4/5; 356/400] END .......C=89, penalty=None;, score=0.765 total time=   0.0s\n",
      "[CV 5/5; 356/400] START C=89, penalty=None......................................\n",
      "[CV 5/5; 356/400] END .......C=89, penalty=None;, score=0.824 total time=   0.0s\n",
      "[CV 1/5; 357/400] START C=90, penalty=l1........................................\n",
      "[CV 1/5; 357/400] END ...........C=90, penalty=l1;, score=nan total time=   0.0s\n",
      "[CV 2/5; 357/400] START C=90, penalty=l1........................................\n",
      "[CV 2/5; 357/400] END ...........C=90, penalty=l1;, score=nan total time=   0.0s\n",
      "[CV 3/5; 357/400] START C=90, penalty=l1........................................\n",
      "[CV 3/5; 357/400] END ...........C=90, penalty=l1;, score=nan total time=   0.0s\n",
      "[CV 4/5; 357/400] START C=90, penalty=l1........................................\n",
      "[CV 4/5; 357/400] END ...........C=90, penalty=l1;, score=nan total time=   0.0s\n",
      "[CV 5/5; 357/400] START C=90, penalty=l1........................................\n",
      "[CV 5/5; 357/400] END ...........C=90, penalty=l1;, score=nan total time=   0.0s\n",
      "[CV 1/5; 358/400] START C=90, penalty=l2........................................\n",
      "[CV 1/5; 358/400] END .........C=90, penalty=l2;, score=0.909 total time=   0.0s\n",
      "[CV 2/5; 358/400] START C=90, penalty=l2........................................\n",
      "[CV 2/5; 358/400] END .........C=90, penalty=l2;, score=0.824 total time=   0.0s\n",
      "[CV 3/5; 358/400] START C=90, penalty=l2........................................\n",
      "[CV 3/5; 358/400] END .........C=90, penalty=l2;, score=0.941 total time=   0.0s\n",
      "[CV 4/5; 358/400] START C=90, penalty=l2........................................\n",
      "[CV 4/5; 358/400] END .........C=90, penalty=l2;, score=0.765 total time=   0.0s\n",
      "[CV 5/5; 358/400] START C=90, penalty=l2........................................\n",
      "[CV 5/5; 358/400] END .........C=90, penalty=l2;, score=0.794 total time=   0.0s\n",
      "[CV 1/5; 359/400] START C=90, penalty=elasticnet................................\n",
      "[CV 1/5; 359/400] END ...C=90, penalty=elasticnet;, score=nan total time=   0.0s\n",
      "[CV 2/5; 359/400] START C=90, penalty=elasticnet................................\n",
      "[CV 2/5; 359/400] END ...C=90, penalty=elasticnet;, score=nan total time=   0.0s\n",
      "[CV 3/5; 359/400] START C=90, penalty=elasticnet................................\n",
      "[CV 3/5; 359/400] END ...C=90, penalty=elasticnet;, score=nan total time=   0.0s\n",
      "[CV 4/5; 359/400] START C=90, penalty=elasticnet................................\n",
      "[CV 4/5; 359/400] END ...C=90, penalty=elasticnet;, score=nan total time=   0.0s\n",
      "[CV 5/5; 359/400] START C=90, penalty=elasticnet................................\n",
      "[CV 5/5; 359/400] END ...C=90, penalty=elasticnet;, score=nan total time=   0.0s\n",
      "[CV 1/5; 360/400] START C=90, penalty=None......................................\n",
      "[CV 1/5; 360/400] END .......C=90, penalty=None;, score=0.909 total time=   0.0s\n",
      "[CV 2/5; 360/400] START C=90, penalty=None......................................\n",
      "[CV 2/5; 360/400] END .......C=90, penalty=None;, score=0.853 total time=   0.0s\n",
      "[CV 3/5; 360/400] START C=90, penalty=None......................................\n",
      "[CV 3/5; 360/400] END .......C=90, penalty=None;, score=0.941 total time=   0.0s\n",
      "[CV 4/5; 360/400] START C=90, penalty=None......................................\n",
      "[CV 4/5; 360/400] END .......C=90, penalty=None;, score=0.765 total time=   0.0s\n",
      "[CV 5/5; 360/400] START C=90, penalty=None......................................\n"
     ]
    },
    {
     "name": "stderr",
     "output_type": "stream",
     "text": [
      "C:\\Users\\Usuario\\anaconda3\\lib\\site-packages\\sklearn\\linear_model\\_logistic.py:1193: UserWarning:\n",
      "\n",
      "Setting penalty=None will ignore the C and l1_ratio parameters\n",
      "\n",
      "C:\\Users\\Usuario\\anaconda3\\lib\\site-packages\\sklearn\\linear_model\\_logistic.py:1193: UserWarning:\n",
      "\n",
      "Setting penalty=None will ignore the C and l1_ratio parameters\n",
      "\n",
      "C:\\Users\\Usuario\\anaconda3\\lib\\site-packages\\sklearn\\linear_model\\_logistic.py:1193: UserWarning:\n",
      "\n",
      "Setting penalty=None will ignore the C and l1_ratio parameters\n",
      "\n",
      "C:\\Users\\Usuario\\anaconda3\\lib\\site-packages\\sklearn\\linear_model\\_logistic.py:460: ConvergenceWarning:\n",
      "\n",
      "lbfgs failed to converge (status=1):\n",
      "STOP: TOTAL NO. of ITERATIONS REACHED LIMIT.\n",
      "\n",
      "Increase the number of iterations (max_iter) or scale the data as shown in:\n",
      "    https://scikit-learn.org/stable/modules/preprocessing.html\n",
      "Please also refer to the documentation for alternative solver options:\n",
      "    https://scikit-learn.org/stable/modules/linear_model.html#logistic-regression\n",
      "\n",
      "C:\\Users\\Usuario\\anaconda3\\lib\\site-packages\\sklearn\\linear_model\\_logistic.py:1193: UserWarning:\n",
      "\n",
      "Setting penalty=None will ignore the C and l1_ratio parameters\n",
      "\n",
      "C:\\Users\\Usuario\\anaconda3\\lib\\site-packages\\sklearn\\linear_model\\_logistic.py:1193: UserWarning:\n",
      "\n",
      "Setting penalty=None will ignore the C and l1_ratio parameters\n",
      "\n"
     ]
    },
    {
     "name": "stdout",
     "output_type": "stream",
     "text": [
      "[CV 5/5; 360/400] END .......C=90, penalty=None;, score=0.824 total time=   0.0s\n",
      "[CV 1/5; 361/400] START C=91, penalty=l1........................................\n",
      "[CV 1/5; 361/400] END ...........C=91, penalty=l1;, score=nan total time=   0.0s\n",
      "[CV 2/5; 361/400] START C=91, penalty=l1........................................\n",
      "[CV 2/5; 361/400] END ...........C=91, penalty=l1;, score=nan total time=   0.0s\n",
      "[CV 3/5; 361/400] START C=91, penalty=l1........................................\n",
      "[CV 3/5; 361/400] END ...........C=91, penalty=l1;, score=nan total time=   0.0s\n",
      "[CV 4/5; 361/400] START C=91, penalty=l1........................................\n",
      "[CV 4/5; 361/400] END ...........C=91, penalty=l1;, score=nan total time=   0.0s\n",
      "[CV 5/5; 361/400] START C=91, penalty=l1........................................\n",
      "[CV 5/5; 361/400] END ...........C=91, penalty=l1;, score=nan total time=   0.0s\n",
      "[CV 1/5; 362/400] START C=91, penalty=l2........................................\n",
      "[CV 1/5; 362/400] END .........C=91, penalty=l2;, score=0.909 total time=   0.0s\n",
      "[CV 2/5; 362/400] START C=91, penalty=l2........................................\n",
      "[CV 2/5; 362/400] END .........C=91, penalty=l2;, score=0.824 total time=   0.0s\n",
      "[CV 3/5; 362/400] START C=91, penalty=l2........................................\n",
      "[CV 3/5; 362/400] END .........C=91, penalty=l2;, score=0.941 total time=   0.0s\n",
      "[CV 4/5; 362/400] START C=91, penalty=l2........................................\n",
      "[CV 4/5; 362/400] END .........C=91, penalty=l2;, score=0.765 total time=   0.0s\n",
      "[CV 5/5; 362/400] START C=91, penalty=l2........................................\n",
      "[CV 5/5; 362/400] END .........C=91, penalty=l2;, score=0.794 total time=   0.0s\n",
      "[CV 1/5; 363/400] START C=91, penalty=elasticnet................................\n",
      "[CV 1/5; 363/400] END ...C=91, penalty=elasticnet;, score=nan total time=   0.0s\n",
      "[CV 2/5; 363/400] START C=91, penalty=elasticnet................................\n",
      "[CV 2/5; 363/400] END ...C=91, penalty=elasticnet;, score=nan total time=   0.0s\n",
      "[CV 3/5; 363/400] START C=91, penalty=elasticnet................................\n",
      "[CV 3/5; 363/400] END ...C=91, penalty=elasticnet;, score=nan total time=   0.0s\n",
      "[CV 4/5; 363/400] START C=91, penalty=elasticnet................................\n",
      "[CV 4/5; 363/400] END ...C=91, penalty=elasticnet;, score=nan total time=   0.0s\n",
      "[CV 5/5; 363/400] START C=91, penalty=elasticnet................................\n",
      "[CV 5/5; 363/400] END ...C=91, penalty=elasticnet;, score=nan total time=   0.0s\n",
      "[CV 1/5; 364/400] START C=91, penalty=None......................................\n",
      "[CV 1/5; 364/400] END .......C=91, penalty=None;, score=0.909 total time=   0.0s\n",
      "[CV 2/5; 364/400] START C=91, penalty=None......................................\n",
      "[CV 2/5; 364/400] END .......C=91, penalty=None;, score=0.853 total time=   0.0s\n",
      "[CV 3/5; 364/400] START C=91, penalty=None......................................\n",
      "[CV 3/5; 364/400] END .......C=91, penalty=None;, score=0.941 total time=   0.0s\n",
      "[CV 4/5; 364/400] START C=91, penalty=None......................................\n",
      "[CV 4/5; 364/400] END .......C=91, penalty=None;, score=0.765 total time=   0.0s\n",
      "[CV 5/5; 364/400] START C=91, penalty=None......................................\n",
      "[CV 5/5; 364/400] END .......C=91, penalty=None;, score=0.824 total time=   0.0s\n",
      "[CV 1/5; 365/400] START C=92, penalty=l1........................................\n",
      "[CV 1/5; 365/400] END ...........C=92, penalty=l1;, score=nan total time=   0.0s\n",
      "[CV 2/5; 365/400] START C=92, penalty=l1........................................\n",
      "[CV 2/5; 365/400] END ...........C=92, penalty=l1;, score=nan total time=   0.0s\n",
      "[CV 3/5; 365/400] START C=92, penalty=l1........................................\n",
      "[CV 3/5; 365/400] END ...........C=92, penalty=l1;, score=nan total time=   0.0s\n",
      "[CV 4/5; 365/400] START C=92, penalty=l1........................................\n",
      "[CV 4/5; 365/400] END ...........C=92, penalty=l1;, score=nan total time=   0.0s\n",
      "[CV 5/5; 365/400] START C=92, penalty=l1........................................\n",
      "[CV 5/5; 365/400] END ...........C=92, penalty=l1;, score=nan total time=   0.0s\n",
      "[CV 1/5; 366/400] START C=92, penalty=l2........................................\n",
      "[CV 1/5; 366/400] END .........C=92, penalty=l2;, score=0.909 total time=   0.0s\n",
      "[CV 2/5; 366/400] START C=92, penalty=l2........................................\n"
     ]
    },
    {
     "name": "stderr",
     "output_type": "stream",
     "text": [
      "C:\\Users\\Usuario\\anaconda3\\lib\\site-packages\\sklearn\\linear_model\\_logistic.py:1193: UserWarning:\n",
      "\n",
      "Setting penalty=None will ignore the C and l1_ratio parameters\n",
      "\n",
      "C:\\Users\\Usuario\\anaconda3\\lib\\site-packages\\sklearn\\linear_model\\_logistic.py:1193: UserWarning:\n",
      "\n",
      "Setting penalty=None will ignore the C and l1_ratio parameters\n",
      "\n",
      "C:\\Users\\Usuario\\anaconda3\\lib\\site-packages\\sklearn\\linear_model\\_logistic.py:1193: UserWarning:\n",
      "\n",
      "Setting penalty=None will ignore the C and l1_ratio parameters\n",
      "\n",
      "C:\\Users\\Usuario\\anaconda3\\lib\\site-packages\\sklearn\\linear_model\\_logistic.py:460: ConvergenceWarning:\n",
      "\n",
      "lbfgs failed to converge (status=1):\n",
      "STOP: TOTAL NO. of ITERATIONS REACHED LIMIT.\n",
      "\n",
      "Increase the number of iterations (max_iter) or scale the data as shown in:\n",
      "    https://scikit-learn.org/stable/modules/preprocessing.html\n",
      "Please also refer to the documentation for alternative solver options:\n",
      "    https://scikit-learn.org/stable/modules/linear_model.html#logistic-regression\n",
      "\n",
      "C:\\Users\\Usuario\\anaconda3\\lib\\site-packages\\sklearn\\linear_model\\_logistic.py:1193: UserWarning:\n",
      "\n",
      "Setting penalty=None will ignore the C and l1_ratio parameters\n",
      "\n",
      "C:\\Users\\Usuario\\anaconda3\\lib\\site-packages\\sklearn\\linear_model\\_logistic.py:1193: UserWarning:\n",
      "\n",
      "Setting penalty=None will ignore the C and l1_ratio parameters\n",
      "\n"
     ]
    },
    {
     "name": "stdout",
     "output_type": "stream",
     "text": [
      "[CV 2/5; 366/400] END .........C=92, penalty=l2;, score=0.824 total time=   0.0s\n",
      "[CV 3/5; 366/400] START C=92, penalty=l2........................................\n",
      "[CV 3/5; 366/400] END .........C=92, penalty=l2;, score=0.941 total time=   0.0s\n",
      "[CV 4/5; 366/400] START C=92, penalty=l2........................................\n",
      "[CV 4/5; 366/400] END .........C=92, penalty=l2;, score=0.765 total time=   0.0s\n",
      "[CV 5/5; 366/400] START C=92, penalty=l2........................................\n",
      "[CV 5/5; 366/400] END .........C=92, penalty=l2;, score=0.794 total time=   0.0s\n",
      "[CV 1/5; 367/400] START C=92, penalty=elasticnet................................\n",
      "[CV 1/5; 367/400] END ...C=92, penalty=elasticnet;, score=nan total time=   0.0s\n",
      "[CV 2/5; 367/400] START C=92, penalty=elasticnet................................\n",
      "[CV 2/5; 367/400] END ...C=92, penalty=elasticnet;, score=nan total time=   0.0s\n",
      "[CV 3/5; 367/400] START C=92, penalty=elasticnet................................\n",
      "[CV 3/5; 367/400] END ...C=92, penalty=elasticnet;, score=nan total time=   0.0s\n",
      "[CV 4/5; 367/400] START C=92, penalty=elasticnet................................\n",
      "[CV 4/5; 367/400] END ...C=92, penalty=elasticnet;, score=nan total time=   0.0s\n",
      "[CV 5/5; 367/400] START C=92, penalty=elasticnet................................\n",
      "[CV 5/5; 367/400] END ...C=92, penalty=elasticnet;, score=nan total time=   0.0s\n",
      "[CV 1/5; 368/400] START C=92, penalty=None......................................\n",
      "[CV 1/5; 368/400] END .......C=92, penalty=None;, score=0.909 total time=   0.0s\n",
      "[CV 2/5; 368/400] START C=92, penalty=None......................................\n",
      "[CV 2/5; 368/400] END .......C=92, penalty=None;, score=0.853 total time=   0.0s\n",
      "[CV 3/5; 368/400] START C=92, penalty=None......................................\n",
      "[CV 3/5; 368/400] END .......C=92, penalty=None;, score=0.941 total time=   0.0s"
     ]
    },
    {
     "name": "stderr",
     "output_type": "stream",
     "text": [
      "C:\\Users\\Usuario\\anaconda3\\lib\\site-packages\\sklearn\\linear_model\\_logistic.py:460: ConvergenceWarning:\n",
      "\n",
      "lbfgs failed to converge (status=1):\n",
      "STOP: TOTAL NO. of ITERATIONS REACHED LIMIT.\n",
      "\n",
      "Increase the number of iterations (max_iter) or scale the data as shown in:\n",
      "    https://scikit-learn.org/stable/modules/preprocessing.html\n",
      "Please also refer to the documentation for alternative solver options:\n",
      "    https://scikit-learn.org/stable/modules/linear_model.html#logistic-regression\n",
      "\n",
      "C:\\Users\\Usuario\\anaconda3\\lib\\site-packages\\sklearn\\linear_model\\_logistic.py:1193: UserWarning:\n",
      "\n",
      "Setting penalty=None will ignore the C and l1_ratio parameters\n",
      "\n",
      "C:\\Users\\Usuario\\anaconda3\\lib\\site-packages\\sklearn\\linear_model\\_logistic.py:1193: UserWarning:\n",
      "\n",
      "Setting penalty=None will ignore the C and l1_ratio parameters\n",
      "\n",
      "C:\\Users\\Usuario\\anaconda3\\lib\\site-packages\\sklearn\\linear_model\\_logistic.py:1193: UserWarning:\n",
      "\n",
      "Setting penalty=None will ignore the C and l1_ratio parameters\n",
      "\n",
      "C:\\Users\\Usuario\\anaconda3\\lib\\site-packages\\sklearn\\linear_model\\_logistic.py:460: ConvergenceWarning:\n",
      "\n",
      "lbfgs failed to converge (status=1):\n",
      "STOP: TOTAL NO. of ITERATIONS REACHED LIMIT.\n",
      "\n",
      "Increase the number of iterations (max_iter) or scale the data as shown in:\n",
      "    https://scikit-learn.org/stable/modules/preprocessing.html\n",
      "Please also refer to the documentation for alternative solver options:\n",
      "    https://scikit-learn.org/stable/modules/linear_model.html#logistic-regression\n",
      "\n",
      "C:\\Users\\Usuario\\anaconda3\\lib\\site-packages\\sklearn\\linear_model\\_logistic.py:1193: UserWarning:\n",
      "\n",
      "Setting penalty=None will ignore the C and l1_ratio parameters\n",
      "\n"
     ]
    },
    {
     "name": "stdout",
     "output_type": "stream",
     "text": [
      "\n",
      "[CV 4/5; 368/400] START C=92, penalty=None......................................\n",
      "[CV 4/5; 368/400] END .......C=92, penalty=None;, score=0.765 total time=   0.0s\n",
      "[CV 5/5; 368/400] START C=92, penalty=None......................................\n",
      "[CV 5/5; 368/400] END .......C=92, penalty=None;, score=0.824 total time=   0.0s\n",
      "[CV 1/5; 369/400] START C=93, penalty=l1........................................\n",
      "[CV 1/5; 369/400] END ...........C=93, penalty=l1;, score=nan total time=   0.0s\n",
      "[CV 2/5; 369/400] START C=93, penalty=l1........................................\n",
      "[CV 2/5; 369/400] END ...........C=93, penalty=l1;, score=nan total time=   0.0s\n",
      "[CV 3/5; 369/400] START C=93, penalty=l1........................................\n",
      "[CV 3/5; 369/400] END ...........C=93, penalty=l1;, score=nan total time=   0.0s\n",
      "[CV 4/5; 369/400] START C=93, penalty=l1........................................\n",
      "[CV 4/5; 369/400] END ...........C=93, penalty=l1;, score=nan total time=   0.0s\n",
      "[CV 5/5; 369/400] START C=93, penalty=l1........................................\n",
      "[CV 5/5; 369/400] END ...........C=93, penalty=l1;, score=nan total time=   0.0s\n",
      "[CV 1/5; 370/400] START C=93, penalty=l2........................................\n",
      "[CV 1/5; 370/400] END .........C=93, penalty=l2;, score=0.909 total time=   0.0s\n",
      "[CV 2/5; 370/400] START C=93, penalty=l2........................................\n",
      "[CV 2/5; 370/400] END .........C=93, penalty=l2;, score=0.824 total time=   0.0s\n",
      "[CV 3/5; 370/400] START C=93, penalty=l2........................................\n",
      "[CV 3/5; 370/400] END .........C=93, penalty=l2;, score=0.941 total time=   0.0s\n",
      "[CV 4/5; 370/400] START C=93, penalty=l2........................................\n",
      "[CV 4/5; 370/400] END .........C=93, penalty=l2;, score=0.765 total time=   0.0s\n",
      "[CV 5/5; 370/400] START C=93, penalty=l2........................................\n"
     ]
    },
    {
     "name": "stderr",
     "output_type": "stream",
     "text": [
      "C:\\Users\\Usuario\\anaconda3\\lib\\site-packages\\sklearn\\linear_model\\_logistic.py:1193: UserWarning:\n",
      "\n",
      "Setting penalty=None will ignore the C and l1_ratio parameters\n",
      "\n"
     ]
    },
    {
     "name": "stdout",
     "output_type": "stream",
     "text": [
      "[CV 5/5; 370/400] END .........C=93, penalty=l2;, score=0.794 total time=   0.0s\n",
      "[CV 1/5; 371/400] START C=93, penalty=elasticnet................................\n",
      "[CV 1/5; 371/400] END ...C=93, penalty=elasticnet;, score=nan total time=   0.0s\n",
      "[CV 2/5; 371/400] START C=93, penalty=elasticnet................................\n",
      "[CV 2/5; 371/400] END ...C=93, penalty=elasticnet;, score=nan total time=   0.0s\n",
      "[CV 3/5; 371/400] START C=93, penalty=elasticnet................................\n",
      "[CV 3/5; 371/400] END ...C=93, penalty=elasticnet;, score=nan total time=   0.0s\n",
      "[CV 4/5; 371/400] START C=93, penalty=elasticnet................................\n",
      "[CV 4/5; 371/400] END ...C=93, penalty=elasticnet;, score=nan total time=   0.0s\n",
      "[CV 5/5; 371/400] START C=93, penalty=elasticnet................................\n",
      "[CV 5/5; 371/400] END ...C=93, penalty=elasticnet;, score=nan total time=   0.0s\n",
      "[CV 1/5; 372/400] START C=93, penalty=None......................................\n",
      "[CV 1/5; 372/400] END .......C=93, penalty=None;, score=0.909 total time=   0.0s\n",
      "[CV 2/5; 372/400] START C=93, penalty=None......................................\n",
      "[CV 2/5; 372/400] END .......C=93, penalty=None;, score=0.853 total time=   0.0s\n",
      "[CV 3/5; 372/400] START C=93, penalty=None......................................\n",
      "[CV 3/5; 372/400] END .......C=93, penalty=None;, score=0.941 total time=   0.0s\n",
      "[CV 4/5; 372/400] START C=93, penalty=None......................................\n",
      "[CV 4/5; 372/400] END .......C=93, penalty=None;, score=0.765 total time=   0.0s\n",
      "[CV 5/5; 372/400] START C=93, penalty=None......................................\n",
      "[CV 5/5; 372/400] END .......C=93, penalty=None;, score=0.824 total time=   0.0s\n",
      "[CV 1/5; 373/400] START C=94, penalty=l1........................................\n",
      "[CV 1/5; 373/400] END ...........C=94, penalty=l1;, score=nan total time=   0.0s\n",
      "[CV 2/5; 373/400] START C=94, penalty=l1........................................\n",
      "[CV 2/5; 373/400] END ...........C=94, penalty=l1;, score=nan total time=   0.0s\n",
      "[CV 3/5; 373/400] START C=94, penalty=l1........................................\n",
      "[CV 3/5; 373/400] END ...........C=94, penalty=l1;, score=nan total time=   0.0s\n",
      "[CV 4/5; 373/400] START C=94, penalty=l1........................................\n",
      "[CV 4/5; 373/400] END ...........C=94, penalty=l1;, score=nan total time=   0.0s\n",
      "[CV 5/5; 373/400] START C=94, penalty=l1........................................\n",
      "[CV 5/5; 373/400] END ...........C=94, penalty=l1;, score=nan total time=   0.0s\n",
      "[CV 1/5; 374/400] START C=94, penalty=l2........................................\n"
     ]
    },
    {
     "name": "stderr",
     "output_type": "stream",
     "text": [
      "C:\\Users\\Usuario\\anaconda3\\lib\\site-packages\\sklearn\\linear_model\\_logistic.py:1193: UserWarning:\n",
      "\n",
      "Setting penalty=None will ignore the C and l1_ratio parameters\n",
      "\n",
      "C:\\Users\\Usuario\\anaconda3\\lib\\site-packages\\sklearn\\linear_model\\_logistic.py:1193: UserWarning:\n",
      "\n",
      "Setting penalty=None will ignore the C and l1_ratio parameters\n",
      "\n",
      "C:\\Users\\Usuario\\anaconda3\\lib\\site-packages\\sklearn\\linear_model\\_logistic.py:1193: UserWarning:\n",
      "\n",
      "Setting penalty=None will ignore the C and l1_ratio parameters\n",
      "\n",
      "C:\\Users\\Usuario\\anaconda3\\lib\\site-packages\\sklearn\\linear_model\\_logistic.py:460: ConvergenceWarning:\n",
      "\n",
      "lbfgs failed to converge (status=1):\n",
      "STOP: TOTAL NO. of ITERATIONS REACHED LIMIT.\n",
      "\n",
      "Increase the number of iterations (max_iter) or scale the data as shown in:\n",
      "    https://scikit-learn.org/stable/modules/preprocessing.html\n",
      "Please also refer to the documentation for alternative solver options:\n",
      "    https://scikit-learn.org/stable/modules/linear_model.html#logistic-regression\n",
      "\n",
      "C:\\Users\\Usuario\\anaconda3\\lib\\site-packages\\sklearn\\linear_model\\_logistic.py:1193: UserWarning:\n",
      "\n",
      "Setting penalty=None will ignore the C and l1_ratio parameters\n",
      "\n",
      "C:\\Users\\Usuario\\anaconda3\\lib\\site-packages\\sklearn\\linear_model\\_logistic.py:1193: UserWarning:\n",
      "\n",
      "Setting penalty=None will ignore the C and l1_ratio parameters\n",
      "\n"
     ]
    },
    {
     "name": "stdout",
     "output_type": "stream",
     "text": [
      "[CV 1/5; 374/400] END .........C=94, penalty=l2;, score=0.909 total time=   0.0s\n",
      "[CV 2/5; 374/400] START C=94, penalty=l2........................................\n",
      "[CV 2/5; 374/400] END .........C=94, penalty=l2;, score=0.824 total time=   0.0s\n",
      "[CV 3/5; 374/400] START C=94, penalty=l2........................................\n",
      "[CV 3/5; 374/400] END .........C=94, penalty=l2;, score=0.941 total time=   0.0s\n",
      "[CV 4/5; 374/400] START C=94, penalty=l2........................................\n",
      "[CV 4/5; 374/400] END .........C=94, penalty=l2;, score=0.765 total time=   0.0s\n",
      "[CV 5/5; 374/400] START C=94, penalty=l2........................................\n",
      "[CV 5/5; 374/400] END .........C=94, penalty=l2;, score=0.794 total time=   0.0s\n",
      "[CV 1/5; 375/400] START C=94, penalty=elasticnet................................\n",
      "[CV 1/5; 375/400] END ...C=94, penalty=elasticnet;, score=nan total time=   0.0s\n",
      "[CV 2/5; 375/400] START C=94, penalty=elasticnet................................\n",
      "[CV 2/5; 375/400] END ...C=94, penalty=elasticnet;, score=nan total time=   0.0s\n",
      "[CV 3/5; 375/400] START C=94, penalty=elasticnet................................\n",
      "[CV 3/5; 375/400] END ...C=94, penalty=elasticnet;, score=nan total time=   0.0s\n",
      "[CV 4/5; 375/400] START C=94, penalty=elasticnet................................\n",
      "[CV 4/5; 375/400] END ...C=94, penalty=elasticnet;, score=nan total time=   0.0s\n",
      "[CV 5/5; 375/400] START C=94, penalty=elasticnet................................\n",
      "[CV 5/5; 375/400] END ...C=94, penalty=elasticnet;, score=nan total time=   0.0s\n",
      "[CV 1/5; 376/400] START C=94, penalty=None......................................\n",
      "[CV 1/5; 376/400] END .......C=94, penalty=None;, score=0.909 total time=   0.0s\n",
      "[CV 2/5; 376/400] START C=94, penalty=None......................................\n",
      "[CV 2/5; 376/400] END .......C=94, penalty=None;, score=0.853 total time=   0.0s\n",
      "[CV 3/5; 376/400] START C=94, penalty=None......................................\n"
     ]
    },
    {
     "name": "stderr",
     "output_type": "stream",
     "text": [
      "C:\\Users\\Usuario\\anaconda3\\lib\\site-packages\\sklearn\\linear_model\\_logistic.py:1193: UserWarning:\n",
      "\n",
      "Setting penalty=None will ignore the C and l1_ratio parameters\n",
      "\n",
      "C:\\Users\\Usuario\\anaconda3\\lib\\site-packages\\sklearn\\linear_model\\_logistic.py:1193: UserWarning:\n",
      "\n",
      "Setting penalty=None will ignore the C and l1_ratio parameters\n",
      "\n",
      "C:\\Users\\Usuario\\anaconda3\\lib\\site-packages\\sklearn\\linear_model\\_logistic.py:1193: UserWarning:\n",
      "\n",
      "Setting penalty=None will ignore the C and l1_ratio parameters\n",
      "\n",
      "C:\\Users\\Usuario\\anaconda3\\lib\\site-packages\\sklearn\\linear_model\\_logistic.py:460: ConvergenceWarning:\n",
      "\n",
      "lbfgs failed to converge (status=1):\n",
      "STOP: TOTAL NO. of ITERATIONS REACHED LIMIT.\n",
      "\n",
      "Increase the number of iterations (max_iter) or scale the data as shown in:\n",
      "    https://scikit-learn.org/stable/modules/preprocessing.html\n",
      "Please also refer to the documentation for alternative solver options:\n",
      "    https://scikit-learn.org/stable/modules/linear_model.html#logistic-regression\n",
      "\n",
      "C:\\Users\\Usuario\\anaconda3\\lib\\site-packages\\sklearn\\linear_model\\_logistic.py:1193: UserWarning:\n",
      "\n",
      "Setting penalty=None will ignore the C and l1_ratio parameters\n",
      "\n",
      "C:\\Users\\Usuario\\anaconda3\\lib\\site-packages\\sklearn\\linear_model\\_logistic.py:1193: UserWarning:\n",
      "\n",
      "Setting penalty=None will ignore the C and l1_ratio parameters\n",
      "\n"
     ]
    },
    {
     "name": "stdout",
     "output_type": "stream",
     "text": [
      "[CV 3/5; 376/400] END .......C=94, penalty=None;, score=0.941 total time=   0.0s\n",
      "[CV 4/5; 376/400] START C=94, penalty=None......................................\n",
      "[CV 4/5; 376/400] END .......C=94, penalty=None;, score=0.765 total time=   0.0s\n",
      "[CV 5/5; 376/400] START C=94, penalty=None......................................\n",
      "[CV 5/5; 376/400] END .......C=94, penalty=None;, score=0.824 total time=   0.0s\n",
      "[CV 1/5; 377/400] START C=95, penalty=l1........................................\n",
      "[CV 1/5; 377/400] END ...........C=95, penalty=l1;, score=nan total time=   0.0s\n",
      "[CV 2/5; 377/400] START C=95, penalty=l1........................................\n",
      "[CV 2/5; 377/400] END ...........C=95, penalty=l1;, score=nan total time=   0.0s\n",
      "[CV 3/5; 377/400] START C=95, penalty=l1........................................\n",
      "[CV 3/5; 377/400] END ...........C=95, penalty=l1;, score=nan total time=   0.0s\n",
      "[CV 4/5; 377/400] START C=95, penalty=l1........................................\n",
      "[CV 4/5; 377/400] END ...........C=95, penalty=l1;, score=nan total time=   0.0s\n",
      "[CV 5/5; 377/400] START C=95, penalty=l1........................................\n",
      "[CV 5/5; 377/400] END ...........C=95, penalty=l1;, score=nan total time=   0.0s\n",
      "[CV 1/5; 378/400] START C=95, penalty=l2........................................\n",
      "[CV 1/5; 378/400] END .........C=95, penalty=l2;, score=0.909 total time=   0.0s\n",
      "[CV 2/5; 378/400] START C=95, penalty=l2........................................\n",
      "[CV 2/5; 378/400] END .........C=95, penalty=l2;, score=0.824 total time=   0.0s\n",
      "[CV 3/5; 378/400] START C=95, penalty=l2........................................\n",
      "[CV 3/5; 378/400] END .........C=95, penalty=l2;, score=0.912 total time=   0.0s\n",
      "[CV 4/5; 378/400] START C=95, penalty=l2........................................\n",
      "[CV 4/5; 378/400] END .........C=95, penalty=l2;, score=0.765 total time=   0.0s\n",
      "[CV 5/5; 378/400] START C=95, penalty=l2........................................\n",
      "[CV 5/5; 378/400] END .........C=95, penalty=l2;, score=0.794 total time=   0.0s\n",
      "[CV 1/5; 379/400] START C=95, penalty=elasticnet................................\n",
      "[CV 1/5; 379/400] END ...C=95, penalty=elasticnet;, score=nan total time=   0.0s\n",
      "[CV 2/5; 379/400] START C=95, penalty=elasticnet................................\n",
      "[CV 2/5; 379/400] END ...C=95, penalty=elasticnet;, score=nan total time=   0.0s\n",
      "[CV 3/5; 379/400] START C=95, penalty=elasticnet................................\n",
      "[CV 3/5; 379/400] END ...C=95, penalty=elasticnet;, score=nan total time=   0.0s\n",
      "[CV 4/5; 379/400] START C=95, penalty=elasticnet................................\n",
      "[CV 4/5; 379/400] END ...C=95, penalty=elasticnet;, score=nan total time=   0.0s\n",
      "[CV 5/5; 379/400] START C=95, penalty=elasticnet................................\n",
      "[CV 5/5; 379/400] END ...C=95, penalty=elasticnet;, score=nan total time=   0.0s\n",
      "[CV 1/5; 380/400] START C=95, penalty=None......................................\n",
      "[CV 1/5; 380/400] END .......C=95, penalty=None;, score=0.909 total time=   0.0s\n",
      "[CV 2/5; 380/400] START C=95, penalty=None......................................\n",
      "[CV 2/5; 380/400] END .......C=95, penalty=None;, score=0.853 total time=   0.0s\n",
      "[CV 3/5; 380/400] START C=95, penalty=None......................................\n",
      "[CV 3/5; 380/400] END .......C=95, penalty=None;, score=0.941 total time=   0.0s\n",
      "[CV 4/5; 380/400] START C=95, penalty=None......................................\n",
      "[CV 4/5; 380/400] END .......C=95, penalty=None;, score=0.765 total time=   0.0s\n",
      "[CV 5/5; 380/400] START C=95, penalty=None......................................\n",
      "[CV 5/5; 380/400] END .......C=95, penalty=None;, score=0.824 total time=   0.0s\n",
      "[CV 1/5; 381/400] START C=96, penalty=l1........................................\n",
      "[CV 1/5; 381/400] END ...........C=96, penalty=l1;, score=nan total time=   0.0s\n",
      "[CV 2/5; 381/400] START C=96, penalty=l1........................................\n"
     ]
    },
    {
     "name": "stderr",
     "output_type": "stream",
     "text": [
      "C:\\Users\\Usuario\\anaconda3\\lib\\site-packages\\sklearn\\linear_model\\_logistic.py:1193: UserWarning:\n",
      "\n",
      "Setting penalty=None will ignore the C and l1_ratio parameters\n",
      "\n",
      "C:\\Users\\Usuario\\anaconda3\\lib\\site-packages\\sklearn\\linear_model\\_logistic.py:1193: UserWarning:\n",
      "\n",
      "Setting penalty=None will ignore the C and l1_ratio parameters\n",
      "\n",
      "C:\\Users\\Usuario\\anaconda3\\lib\\site-packages\\sklearn\\linear_model\\_logistic.py:1193: UserWarning:\n",
      "\n",
      "Setting penalty=None will ignore the C and l1_ratio parameters\n",
      "\n",
      "C:\\Users\\Usuario\\anaconda3\\lib\\site-packages\\sklearn\\linear_model\\_logistic.py:460: ConvergenceWarning:\n",
      "\n",
      "lbfgs failed to converge (status=1):\n",
      "STOP: TOTAL NO. of ITERATIONS REACHED LIMIT.\n",
      "\n",
      "Increase the number of iterations (max_iter) or scale the data as shown in:\n",
      "    https://scikit-learn.org/stable/modules/preprocessing.html\n",
      "Please also refer to the documentation for alternative solver options:\n",
      "    https://scikit-learn.org/stable/modules/linear_model.html#logistic-regression\n",
      "\n",
      "C:\\Users\\Usuario\\anaconda3\\lib\\site-packages\\sklearn\\linear_model\\_logistic.py:1193: UserWarning:\n",
      "\n",
      "Setting penalty=None will ignore the C and l1_ratio parameters\n",
      "\n",
      "C:\\Users\\Usuario\\anaconda3\\lib\\site-packages\\sklearn\\linear_model\\_logistic.py:1193: UserWarning:\n",
      "\n",
      "Setting penalty=None will ignore the C and l1_ratio parameters\n",
      "\n"
     ]
    },
    {
     "name": "stdout",
     "output_type": "stream",
     "text": [
      "[CV 2/5; 381/400] END ...........C=96, penalty=l1;, score=nan total time=   0.0s\n",
      "[CV 3/5; 381/400] START C=96, penalty=l1........................................\n",
      "[CV 3/5; 381/400] END ...........C=96, penalty=l1;, score=nan total time=   0.0s\n",
      "[CV 4/5; 381/400] START C=96, penalty=l1........................................\n",
      "[CV 4/5; 381/400] END ...........C=96, penalty=l1;, score=nan total time=   0.0s\n",
      "[CV 5/5; 381/400] START C=96, penalty=l1........................................\n",
      "[CV 5/5; 381/400] END ...........C=96, penalty=l1;, score=nan total time=   0.0s\n",
      "[CV 1/5; 382/400] START C=96, penalty=l2........................................\n",
      "[CV 1/5; 382/400] END .........C=96, penalty=l2;, score=0.909 total time=   0.0s\n",
      "[CV 2/5; 382/400] START C=96, penalty=l2........................................\n",
      "[CV 2/5; 382/400] END .........C=96, penalty=l2;, score=0.824 total time=   0.0s\n",
      "[CV 3/5; 382/400] START C=96, penalty=l2........................................\n",
      "[CV 3/5; 382/400] END .........C=96, penalty=l2;, score=0.941 total time=   0.0s\n",
      "[CV 4/5; 382/400] START C=96, penalty=l2........................................\n",
      "[CV 4/5; 382/400] END .........C=96, penalty=l2;, score=0.765 total time=   0.0s\n",
      "[CV 5/5; 382/400] START C=96, penalty=l2........................................\n",
      "[CV 5/5; 382/400] END .........C=96, penalty=l2;, score=0.794 total time=   0.0s\n",
      "[CV 1/5; 383/400] START C=96, penalty=elasticnet................................\n",
      "[CV 1/5; 383/400] END ...C=96, penalty=elasticnet;, score=nan total time=   0.0s\n",
      "[CV 2/5; 383/400] START C=96, penalty=elasticnet................................\n",
      "[CV 2/5; 383/400] END ...C=96, penalty=elasticnet;, score=nan total time=   0.0s\n",
      "[CV 3/5; 383/400] START C=96, penalty=elasticnet................................\n",
      "[CV 3/5; 383/400] END ...C=96, penalty=elasticnet;, score=nan total time=   0.0s\n",
      "[CV 4/5; 383/400] START C=96, penalty=elasticnet................................\n",
      "[CV 4/5; 383/400] END ...C=96, penalty=elasticnet;, score=nan total time=   0.0s\n",
      "[CV 5/5; 383/400] START C=96, penalty=elasticnet................................\n",
      "[CV 5/5; 383/400] END ...C=96, penalty=elasticnet;, score=nan total time=   0.0s\n",
      "[CV 1/5; 384/400] START C=96, penalty=None......................................\n",
      "[CV 1/5; 384/400] END .......C=96, penalty=None;, score=0.909 total time=   0.0s\n",
      "[CV 2/5; 384/400] START C=96, penalty=None......................................\n",
      "[CV 2/5; 384/400] END .......C=96, penalty=None;, score=0.853 total time=   0.0s\n",
      "[CV 3/5; 384/400] START C=96, penalty=None......................................\n",
      "[CV 3/5; 384/400] END .......C=96, penalty=None;, score=0.941 total time=   0.0s\n",
      "[CV 4/5; 384/400] START C=96, penalty=None......................................\n",
      "[CV 4/5; 384/400] END .......C=96, penalty=None;, score=0.765 total time=   0.0s\n",
      "[CV 5/5; 384/400] START C=96, penalty=None......................................\n",
      "[CV 5/5; 384/400] END .......C=96, penalty=None;, score=0.824 total time=   0.0s\n",
      "[CV 1/5; 385/400] START C=97, penalty=l1........................................\n",
      "[CV 1/5; 385/400] END ...........C=97, penalty=l1;, score=nan total time=   0.0s\n",
      "[CV 2/5; 385/400] START C=97, penalty=l1........................................\n",
      "[CV 2/5; 385/400] END ...........C=97, penalty=l1;, score=nan total time=   0.0s\n",
      "[CV 3/5; 385/400] START C=97, penalty=l1........................................\n",
      "[CV 3/5; 385/400] END ...........C=97, penalty=l1;, score=nan total time=   0.0s\n",
      "[CV 4/5; 385/400] START C=97, penalty=l1........................................\n",
      "[CV 4/5; 385/400] END ...........C=97, penalty=l1;, score=nan total time=   0.0s\n",
      "[CV 5/5; 385/400] START C=97, penalty=l1........................................\n",
      "[CV 5/5; 385/400] END ...........C=97, penalty=l1;, score=nan total time=   0.0s\n",
      "[CV 1/5; 386/400] START C=97, penalty=l2........................................\n"
     ]
    },
    {
     "name": "stderr",
     "output_type": "stream",
     "text": [
      "C:\\Users\\Usuario\\anaconda3\\lib\\site-packages\\sklearn\\linear_model\\_logistic.py:1193: UserWarning:\n",
      "\n",
      "Setting penalty=None will ignore the C and l1_ratio parameters\n",
      "\n",
      "C:\\Users\\Usuario\\anaconda3\\lib\\site-packages\\sklearn\\linear_model\\_logistic.py:1193: UserWarning:\n",
      "\n",
      "Setting penalty=None will ignore the C and l1_ratio parameters\n",
      "\n",
      "C:\\Users\\Usuario\\anaconda3\\lib\\site-packages\\sklearn\\linear_model\\_logistic.py:1193: UserWarning:\n",
      "\n",
      "Setting penalty=None will ignore the C and l1_ratio parameters\n",
      "\n",
      "C:\\Users\\Usuario\\anaconda3\\lib\\site-packages\\sklearn\\linear_model\\_logistic.py:460: ConvergenceWarning:\n",
      "\n",
      "lbfgs failed to converge (status=1):\n",
      "STOP: TOTAL NO. of ITERATIONS REACHED LIMIT.\n",
      "\n",
      "Increase the number of iterations (max_iter) or scale the data as shown in:\n",
      "    https://scikit-learn.org/stable/modules/preprocessing.html\n",
      "Please also refer to the documentation for alternative solver options:\n",
      "    https://scikit-learn.org/stable/modules/linear_model.html#logistic-regression\n",
      "\n",
      "C:\\Users\\Usuario\\anaconda3\\lib\\site-packages\\sklearn\\linear_model\\_logistic.py:1193: UserWarning:\n",
      "\n",
      "Setting penalty=None will ignore the C and l1_ratio parameters\n",
      "\n",
      "C:\\Users\\Usuario\\anaconda3\\lib\\site-packages\\sklearn\\linear_model\\_logistic.py:1193: UserWarning:\n",
      "\n",
      "Setting penalty=None will ignore the C and l1_ratio parameters\n",
      "\n"
     ]
    },
    {
     "name": "stdout",
     "output_type": "stream",
     "text": [
      "[CV 1/5; 386/400] END .........C=97, penalty=l2;, score=0.909 total time=   0.0s\n",
      "[CV 2/5; 386/400] START C=97, penalty=l2........................................\n",
      "[CV 2/5; 386/400] END .........C=97, penalty=l2;, score=0.824 total time=   0.0s\n",
      "[CV 3/5; 386/400] START C=97, penalty=l2........................................\n",
      "[CV 3/5; 386/400] END .........C=97, penalty=l2;, score=0.941 total time=   0.0s\n",
      "[CV 4/5; 386/400] START C=97, penalty=l2........................................\n",
      "[CV 4/5; 386/400] END .........C=97, penalty=l2;, score=0.765 total time=   0.0s\n",
      "[CV 5/5; 386/400] START C=97, penalty=l2........................................\n",
      "[CV 5/5; 386/400] END .........C=97, penalty=l2;, score=0.794 total time=   0.0s\n",
      "[CV 1/5; 387/400] START C=97, penalty=elasticnet................................\n",
      "[CV 1/5; 387/400] END ...C=97, penalty=elasticnet;, score=nan total time=   0.0s\n",
      "[CV 2/5; 387/400] START C=97, penalty=elasticnet................................\n",
      "[CV 2/5; 387/400] END ...C=97, penalty=elasticnet;, score=nan total time=   0.0s\n",
      "[CV 3/5; 387/400] START C=97, penalty=elasticnet................................\n",
      "[CV 3/5; 387/400] END ...C=97, penalty=elasticnet;, score=nan total time=   0.0s\n",
      "[CV 4/5; 387/400] START C=97, penalty=elasticnet................................\n",
      "[CV 4/5; 387/400] END ...C=97, penalty=elasticnet;, score=nan total time=   0.0s\n",
      "[CV 5/5; 387/400] START C=97, penalty=elasticnet................................\n",
      "[CV 5/5; 387/400] END ...C=97, penalty=elasticnet;, score=nan total time=   0.0s\n",
      "[CV 1/5; 388/400] START C=97, penalty=None......................................\n",
      "[CV 1/5; 388/400] END .......C=97, penalty=None;, score=0.909 total time=   0.0s\n",
      "[CV 2/5; 388/400] START C=97, penalty=None......................................\n"
     ]
    },
    {
     "name": "stderr",
     "output_type": "stream",
     "text": [
      "C:\\Users\\Usuario\\anaconda3\\lib\\site-packages\\sklearn\\linear_model\\_logistic.py:460: ConvergenceWarning:\n",
      "\n",
      "lbfgs failed to converge (status=1):\n",
      "STOP: TOTAL NO. of ITERATIONS REACHED LIMIT.\n",
      "\n",
      "Increase the number of iterations (max_iter) or scale the data as shown in:\n",
      "    https://scikit-learn.org/stable/modules/preprocessing.html\n",
      "Please also refer to the documentation for alternative solver options:\n",
      "    https://scikit-learn.org/stable/modules/linear_model.html#logistic-regression\n",
      "\n",
      "C:\\Users\\Usuario\\anaconda3\\lib\\site-packages\\sklearn\\linear_model\\_logistic.py:1193: UserWarning:\n",
      "\n",
      "Setting penalty=None will ignore the C and l1_ratio parameters\n",
      "\n",
      "C:\\Users\\Usuario\\anaconda3\\lib\\site-packages\\sklearn\\linear_model\\_logistic.py:1193: UserWarning:\n",
      "\n",
      "Setting penalty=None will ignore the C and l1_ratio parameters\n",
      "\n",
      "C:\\Users\\Usuario\\anaconda3\\lib\\site-packages\\sklearn\\linear_model\\_logistic.py:1193: UserWarning:\n",
      "\n",
      "Setting penalty=None will ignore the C and l1_ratio parameters\n",
      "\n",
      "C:\\Users\\Usuario\\anaconda3\\lib\\site-packages\\sklearn\\linear_model\\_logistic.py:460: ConvergenceWarning:\n",
      "\n",
      "lbfgs failed to converge (status=1):\n",
      "STOP: TOTAL NO. of ITERATIONS REACHED LIMIT.\n",
      "\n",
      "Increase the number of iterations (max_iter) or scale the data as shown in:\n",
      "    https://scikit-learn.org/stable/modules/preprocessing.html\n",
      "Please also refer to the documentation for alternative solver options:\n",
      "    https://scikit-learn.org/stable/modules/linear_model.html#logistic-regression\n",
      "\n",
      "C:\\Users\\Usuario\\anaconda3\\lib\\site-packages\\sklearn\\linear_model\\_logistic.py:1193: UserWarning:\n",
      "\n",
      "Setting penalty=None will ignore the C and l1_ratio parameters\n",
      "\n",
      "C:\\Users\\Usuario\\anaconda3\\lib\\site-packages\\sklearn\\linear_model\\_logistic.py:1193: UserWarning:\n",
      "\n",
      "Setting penalty=None will ignore the C and l1_ratio parameters\n",
      "\n"
     ]
    },
    {
     "name": "stdout",
     "output_type": "stream",
     "text": [
      "[CV 2/5; 388/400] END .......C=97, penalty=None;, score=0.853 total time=   0.0s\n",
      "[CV 3/5; 388/400] START C=97, penalty=None......................................\n",
      "[CV 3/5; 388/400] END .......C=97, penalty=None;, score=0.941 total time=   0.0s\n",
      "[CV 4/5; 388/400] START C=97, penalty=None......................................\n",
      "[CV 4/5; 388/400] END .......C=97, penalty=None;, score=0.765 total time=   0.0s\n",
      "[CV 5/5; 388/400] START C=97, penalty=None......................................\n",
      "[CV 5/5; 388/400] END .......C=97, penalty=None;, score=0.824 total time=   0.0s\n",
      "[CV 1/5; 389/400] START C=98, penalty=l1........................................\n",
      "[CV 1/5; 389/400] END ...........C=98, penalty=l1;, score=nan total time=   0.0s\n",
      "[CV 2/5; 389/400] START C=98, penalty=l1........................................\n",
      "[CV 2/5; 389/400] END ...........C=98, penalty=l1;, score=nan total time=   0.0s\n",
      "[CV 3/5; 389/400] START C=98, penalty=l1........................................\n",
      "[CV 3/5; 389/400] END ...........C=98, penalty=l1;, score=nan total time=   0.0s\n",
      "[CV 4/5; 389/400] START C=98, penalty=l1........................................\n",
      "[CV 4/5; 389/400] END ...........C=98, penalty=l1;, score=nan total time=   0.0s\n",
      "[CV 5/5; 389/400] START C=98, penalty=l1........................................\n",
      "[CV 5/5; 389/400] END ...........C=98, penalty=l1;, score=nan total time=   0.0s\n",
      "[CV 1/5; 390/400] START C=98, penalty=l2........................................\n",
      "[CV 1/5; 390/400] END .........C=98, penalty=l2;, score=0.909 total time=   0.0s\n",
      "[CV 2/5; 390/400] START C=98, penalty=l2........................................\n",
      "[CV 2/5; 390/400] END .........C=98, penalty=l2;, score=0.853 total time=   0.0s\n",
      "[CV 3/5; 390/400] START C=98, penalty=l2........................................\n",
      "[CV 3/5; 390/400] END .........C=98, penalty=l2;, score=0.941 total time=   0.0s\n",
      "[CV 4/5; 390/400] START C=98, penalty=l2........................................\n"
     ]
    },
    {
     "name": "stderr",
     "output_type": "stream",
     "text": [
      "C:\\Users\\Usuario\\anaconda3\\lib\\site-packages\\sklearn\\linear_model\\_logistic.py:460: ConvergenceWarning:\n",
      "\n",
      "lbfgs failed to converge (status=1):\n",
      "STOP: TOTAL NO. of ITERATIONS REACHED LIMIT.\n",
      "\n",
      "Increase the number of iterations (max_iter) or scale the data as shown in:\n",
      "    https://scikit-learn.org/stable/modules/preprocessing.html\n",
      "Please also refer to the documentation for alternative solver options:\n",
      "    https://scikit-learn.org/stable/modules/linear_model.html#logistic-regression\n",
      "\n",
      "C:\\Users\\Usuario\\anaconda3\\lib\\site-packages\\sklearn\\linear_model\\_logistic.py:460: ConvergenceWarning:\n",
      "\n",
      "lbfgs failed to converge (status=1):\n",
      "STOP: TOTAL NO. of ITERATIONS REACHED LIMIT.\n",
      "\n",
      "Increase the number of iterations (max_iter) or scale the data as shown in:\n",
      "    https://scikit-learn.org/stable/modules/preprocessing.html\n",
      "Please also refer to the documentation for alternative solver options:\n",
      "    https://scikit-learn.org/stable/modules/linear_model.html#logistic-regression\n",
      "\n",
      "C:\\Users\\Usuario\\anaconda3\\lib\\site-packages\\sklearn\\linear_model\\_logistic.py:1193: UserWarning:\n",
      "\n",
      "Setting penalty=None will ignore the C and l1_ratio parameters\n",
      "\n",
      "C:\\Users\\Usuario\\anaconda3\\lib\\site-packages\\sklearn\\linear_model\\_logistic.py:1193: UserWarning:\n",
      "\n",
      "Setting penalty=None will ignore the C and l1_ratio parameters\n",
      "\n",
      "C:\\Users\\Usuario\\anaconda3\\lib\\site-packages\\sklearn\\linear_model\\_logistic.py:1193: UserWarning:\n",
      "\n",
      "Setting penalty=None will ignore the C and l1_ratio parameters\n",
      "\n"
     ]
    },
    {
     "name": "stdout",
     "output_type": "stream",
     "text": [
      "[CV 4/5; 390/400] END .........C=98, penalty=l2;, score=0.765 total time=   0.0s\n",
      "[CV 5/5; 390/400] START C=98, penalty=l2........................................\n",
      "[CV 5/5; 390/400] END .........C=98, penalty=l2;, score=0.794 total time=   0.0s\n",
      "[CV 1/5; 391/400] START C=98, penalty=elasticnet................................\n",
      "[CV 1/5; 391/400] END ...C=98, penalty=elasticnet;, score=nan total time=   0.0s\n",
      "[CV 2/5; 391/400] START C=98, penalty=elasticnet................................\n",
      "[CV 2/5; 391/400] END ...C=98, penalty=elasticnet;, score=nan total time=   0.0s\n",
      "[CV 3/5; 391/400] START C=98, penalty=elasticnet................................\n",
      "[CV 3/5; 391/400] END ...C=98, penalty=elasticnet;, score=nan total time=   0.0s\n",
      "[CV 4/5; 391/400] START C=98, penalty=elasticnet................................\n",
      "[CV 4/5; 391/400] END ...C=98, penalty=elasticnet;, score=nan total time=   0.0s\n",
      "[CV 5/5; 391/400] START C=98, penalty=elasticnet................................\n",
      "[CV 5/5; 391/400] END ...C=98, penalty=elasticnet;, score=nan total time=   0.0s\n",
      "[CV 1/5; 392/400] START C=98, penalty=None......................................\n",
      "[CV 1/5; 392/400] END .......C=98, penalty=None;, score=0.909 total time=   0.0s\n",
      "[CV 2/5; 392/400] START C=98, penalty=None......................................\n",
      "[CV 2/5; 392/400] END .......C=98, penalty=None;, score=0.853 total time=   0.0s\n",
      "[CV 3/5; 392/400] START C=98, penalty=None......................................\n",
      "[CV 3/5; 392/400] END .......C=98, penalty=None;, score=0.941 total time=   0.0s\n",
      "[CV 4/5; 392/400] START C=98, penalty=None......................................\n",
      "[CV 4/5; 392/400] END .......C=98, penalty=None;, score=0.765 total time=   0.0s\n",
      "[CV 5/5; 392/400] START C=98, penalty=None......................................\n",
      "[CV 5/5; 392/400] END .......C=98, penalty=None;, score=0.824 total time=   0.0s\n",
      "[CV 1/5; 393/400] START C=99, penalty=l1........................................\n"
     ]
    },
    {
     "name": "stderr",
     "output_type": "stream",
     "text": [
      "C:\\Users\\Usuario\\anaconda3\\lib\\site-packages\\sklearn\\linear_model\\_logistic.py:460: ConvergenceWarning:\n",
      "\n",
      "lbfgs failed to converge (status=1):\n",
      "STOP: TOTAL NO. of ITERATIONS REACHED LIMIT.\n",
      "\n",
      "Increase the number of iterations (max_iter) or scale the data as shown in:\n",
      "    https://scikit-learn.org/stable/modules/preprocessing.html\n",
      "Please also refer to the documentation for alternative solver options:\n",
      "    https://scikit-learn.org/stable/modules/linear_model.html#logistic-regression\n",
      "\n",
      "C:\\Users\\Usuario\\anaconda3\\lib\\site-packages\\sklearn\\linear_model\\_logistic.py:1193: UserWarning:\n",
      "\n",
      "Setting penalty=None will ignore the C and l1_ratio parameters\n",
      "\n",
      "C:\\Users\\Usuario\\anaconda3\\lib\\site-packages\\sklearn\\linear_model\\_logistic.py:1193: UserWarning:\n",
      "\n",
      "Setting penalty=None will ignore the C and l1_ratio parameters\n",
      "\n"
     ]
    },
    {
     "name": "stdout",
     "output_type": "stream",
     "text": [
      "[CV 1/5; 393/400] END ...........C=99, penalty=l1;, score=nan total time=   0.0s\n",
      "[CV 2/5; 393/400] START C=99, penalty=l1........................................\n",
      "[CV 2/5; 393/400] END ...........C=99, penalty=l1;, score=nan total time=   0.0s\n",
      "[CV 3/5; 393/400] START C=99, penalty=l1........................................\n",
      "[CV 3/5; 393/400] END ...........C=99, penalty=l1;, score=nan total time=   0.0s\n",
      "[CV 4/5; 393/400] START C=99, penalty=l1........................................\n",
      "[CV 4/5; 393/400] END ...........C=99, penalty=l1;, score=nan total time=   0.0s\n",
      "[CV 5/5; 393/400] START C=99, penalty=l1........................................\n",
      "[CV 5/5; 393/400] END ...........C=99, penalty=l1;, score=nan total time=   0.0s\n",
      "[CV 1/5; 394/400] START C=99, penalty=l2........................................\n",
      "[CV 1/5; 394/400] END .........C=99, penalty=l2;, score=0.909 total time=   0.0s\n",
      "[CV 2/5; 394/400] START C=99, penalty=l2........................................\n",
      "[CV 2/5; 394/400] END .........C=99, penalty=l2;, score=0.824 total time=   0.0s\n",
      "[CV 3/5; 394/400] START C=99, penalty=l2........................................\n",
      "[CV 3/5; 394/400] END .........C=99, penalty=l2;, score=0.912 total time=   0.0s\n",
      "[CV 4/5; 394/400] START C=99, penalty=l2........................................\n",
      "[CV 4/5; 394/400] END .........C=99, penalty=l2;, score=0.765 total time=   0.0s\n",
      "[CV 5/5; 394/400] START C=99, penalty=l2........................................\n",
      "[CV 5/5; 394/400] END .........C=99, penalty=l2;, score=0.794 total time=   0.0s\n",
      "[CV 1/5; 395/400] START C=99, penalty=elasticnet................................\n",
      "[CV 1/5; 395/400] END ...C=99, penalty=elasticnet;, score=nan total time=   0.0s\n",
      "[CV 2/5; 395/400] START C=99, penalty=elasticnet................................\n",
      "[CV 2/5; 395/400] END ...C=99, penalty=elasticnet;, score=nan total time=   0.0s\n",
      "[CV 3/5; 395/400] START C=99, penalty=elasticnet................................\n",
      "[CV 3/5; 395/400] END ...C=99, penalty=elasticnet;, score=nan total time=   0.0s\n",
      "[CV 4/5; 395/400] START C=99, penalty=elasticnet................................\n",
      "[CV 4/5; 395/400] END ...C=99, penalty=elasticnet;, score=nan total time=   0.0s\n",
      "[CV 5/5; 395/400] START C=99, penalty=elasticnet................................\n",
      "[CV 5/5; 395/400] END ...C=99, penalty=elasticnet;, score=nan total time=   0.0s\n",
      "[CV 1/5; 396/400] START C=99, penalty=None......................................\n"
     ]
    },
    {
     "name": "stderr",
     "output_type": "stream",
     "text": [
      "C:\\Users\\Usuario\\anaconda3\\lib\\site-packages\\sklearn\\linear_model\\_logistic.py:1193: UserWarning:\n",
      "\n",
      "Setting penalty=None will ignore the C and l1_ratio parameters\n",
      "\n",
      "C:\\Users\\Usuario\\anaconda3\\lib\\site-packages\\sklearn\\linear_model\\_logistic.py:1193: UserWarning:\n",
      "\n",
      "Setting penalty=None will ignore the C and l1_ratio parameters\n",
      "\n",
      "C:\\Users\\Usuario\\anaconda3\\lib\\site-packages\\sklearn\\linear_model\\_logistic.py:1193: UserWarning:\n",
      "\n",
      "Setting penalty=None will ignore the C and l1_ratio parameters\n",
      "\n",
      "C:\\Users\\Usuario\\anaconda3\\lib\\site-packages\\sklearn\\linear_model\\_logistic.py:460: ConvergenceWarning:\n",
      "\n",
      "lbfgs failed to converge (status=1):\n",
      "STOP: TOTAL NO. of ITERATIONS REACHED LIMIT.\n",
      "\n",
      "Increase the number of iterations (max_iter) or scale the data as shown in:\n",
      "    https://scikit-learn.org/stable/modules/preprocessing.html\n",
      "Please also refer to the documentation for alternative solver options:\n",
      "    https://scikit-learn.org/stable/modules/linear_model.html#logistic-regression\n",
      "\n",
      "C:\\Users\\Usuario\\anaconda3\\lib\\site-packages\\sklearn\\linear_model\\_logistic.py:1193: UserWarning:\n",
      "\n",
      "Setting penalty=None will ignore the C and l1_ratio parameters\n",
      "\n",
      "C:\\Users\\Usuario\\anaconda3\\lib\\site-packages\\sklearn\\linear_model\\_logistic.py:1193: UserWarning:\n",
      "\n",
      "Setting penalty=None will ignore the C and l1_ratio parameters\n",
      "\n"
     ]
    },
    {
     "name": "stdout",
     "output_type": "stream",
     "text": [
      "[CV 1/5; 396/400] END .......C=99, penalty=None;, score=0.909 total time=   0.0s\n",
      "[CV 2/5; 396/400] START C=99, penalty=None......................................\n",
      "[CV 2/5; 396/400] END .......C=99, penalty=None;, score=0.853 total time=   0.0s\n",
      "[CV 3/5; 396/400] START C=99, penalty=None......................................\n",
      "[CV 3/5; 396/400] END .......C=99, penalty=None;, score=0.941 total time=   0.0s\n",
      "[CV 4/5; 396/400] START C=99, penalty=None......................................\n",
      "[CV 4/5; 396/400] END .......C=99, penalty=None;, score=0.765 total time=   0.0s\n",
      "[CV 5/5; 396/400] START C=99, penalty=None......................................\n",
      "[CV 5/5; 396/400] END .......C=99, penalty=None;, score=0.824 total time=   0.0s\n",
      "[CV 1/5; 397/400] START C=100, penalty=l1.......................................\n",
      "[CV 1/5; 397/400] END ..........C=100, penalty=l1;, score=nan total time=   0.0s\n",
      "[CV 2/5; 397/400] START C=100, penalty=l1.......................................\n",
      "[CV 2/5; 397/400] END ..........C=100, penalty=l1;, score=nan total time=   0.0s\n",
      "[CV 3/5; 397/400] START C=100, penalty=l1.......................................\n",
      "[CV 3/5; 397/400] END ..........C=100, penalty=l1;, score=nan total time=   0.0s\n",
      "[CV 4/5; 397/400] START C=100, penalty=l1.......................................\n",
      "[CV 4/5; 397/400] END ..........C=100, penalty=l1;, score=nan total time=   0.0s\n",
      "[CV 5/5; 397/400] START C=100, penalty=l1.......................................\n",
      "[CV 5/5; 397/400] END ..........C=100, penalty=l1;, score=nan total time=   0.0s\n",
      "[CV 1/5; 398/400] START C=100, penalty=l2.......................................\n",
      "[CV 1/5; 398/400] END ........C=100, penalty=l2;, score=0.909 total time=   0.0s\n",
      "[CV 2/5; 398/400] START C=100, penalty=l2.......................................\n",
      "[CV 2/5; 398/400] END ........C=100, penalty=l2;, score=0.824 total time=   0.0s\n",
      "[CV 3/5; 398/400] START C=100, penalty=l2.......................................\n",
      "[CV 3/5; 398/400] END ........C=100, penalty=l2;, score=0.941 total time=   0.0s\n",
      "[CV 4/5; 398/400] START C=100, penalty=l2.......................................\n",
      "[CV 4/5; 398/400] END ........C=100, penalty=l2;, score=0.765 total time=   0.0s\n",
      "[CV 5/5; 398/400] START C=100, penalty=l2.......................................\n",
      "[CV 5/5; 398/400] END ........C=100, penalty=l2;, score=0.824 total time=   0.0s\n",
      "[CV 1/5; 399/400] START C=100, penalty=elasticnet...............................\n",
      "[CV 1/5; 399/400] END ..C=100, penalty=elasticnet;, score=nan total time=   0.0s\n",
      "[CV 2/5; 399/400] START C=100, penalty=elasticnet...............................\n",
      "[CV 2/5; 399/400] END ..C=100, penalty=elasticnet;, score=nan total time=   0.0s\n",
      "[CV 3/5; 399/400] START C=100, penalty=elasticnet...............................\n",
      "[CV 3/5; 399/400] END ..C=100, penalty=elasticnet;, score=nan total time=   0.0s\n",
      "[CV 4/5; 399/400] START C=100, penalty=elasticnet...............................\n",
      "[CV 4/5; 399/400] END ..C=100, penalty=elasticnet;, score=nan total time=   0.0s\n",
      "[CV 5/5; 399/400] START C=100, penalty=elasticnet...............................\n",
      "[CV 5/5; 399/400] END ..C=100, penalty=elasticnet;, score=nan total time=   0.0s\n",
      "[CV 1/5; 400/400] START C=100, penalty=None.....................................\n",
      "[CV 1/5; 400/400] END ......C=100, penalty=None;, score=0.909 total time=   0.0s\n",
      "[CV 2/5; 400/400] START C=100, penalty=None.....................................\n",
      "[CV 2/5; 400/400] END ......C=100, penalty=None;, score=0.853 total time=   0.0s\n",
      "[CV 3/5; 400/400] START C=100, penalty=None.....................................\n",
      "[CV 3/5; 400/400] END ......C=100, penalty=None;, score=0.941 total time=   0.0s\n",
      "[CV 4/5; 400/400] START C=100, penalty=None.....................................\n",
      "[CV 4/5; 400/400] END ......C=100, penalty=None;, score=0.765 total time=   0.0s\n",
      "[CV 5/5; 400/400] START C=100, penalty=None.....................................\n"
     ]
    },
    {
     "name": "stderr",
     "output_type": "stream",
     "text": [
      "C:\\Users\\Usuario\\anaconda3\\lib\\site-packages\\sklearn\\linear_model\\_logistic.py:460: ConvergenceWarning:\n",
      "\n",
      "lbfgs failed to converge (status=1):\n",
      "STOP: TOTAL NO. of ITERATIONS REACHED LIMIT.\n",
      "\n",
      "Increase the number of iterations (max_iter) or scale the data as shown in:\n",
      "    https://scikit-learn.org/stable/modules/preprocessing.html\n",
      "Please also refer to the documentation for alternative solver options:\n",
      "    https://scikit-learn.org/stable/modules/linear_model.html#logistic-regression\n",
      "\n",
      "C:\\Users\\Usuario\\anaconda3\\lib\\site-packages\\sklearn\\linear_model\\_logistic.py:1193: UserWarning:\n",
      "\n",
      "Setting penalty=None will ignore the C and l1_ratio parameters\n",
      "\n",
      "C:\\Users\\Usuario\\anaconda3\\lib\\site-packages\\sklearn\\linear_model\\_logistic.py:1193: UserWarning:\n",
      "\n",
      "Setting penalty=None will ignore the C and l1_ratio parameters\n",
      "\n",
      "C:\\Users\\Usuario\\anaconda3\\lib\\site-packages\\sklearn\\linear_model\\_logistic.py:1193: UserWarning:\n",
      "\n",
      "Setting penalty=None will ignore the C and l1_ratio parameters\n",
      "\n",
      "C:\\Users\\Usuario\\anaconda3\\lib\\site-packages\\sklearn\\linear_model\\_logistic.py:460: ConvergenceWarning:\n",
      "\n",
      "lbfgs failed to converge (status=1):\n",
      "STOP: TOTAL NO. of ITERATIONS REACHED LIMIT.\n",
      "\n",
      "Increase the number of iterations (max_iter) or scale the data as shown in:\n",
      "    https://scikit-learn.org/stable/modules/preprocessing.html\n",
      "Please also refer to the documentation for alternative solver options:\n",
      "    https://scikit-learn.org/stable/modules/linear_model.html#logistic-regression\n",
      "\n",
      "C:\\Users\\Usuario\\anaconda3\\lib\\site-packages\\sklearn\\linear_model\\_logistic.py:1193: UserWarning:\n",
      "\n",
      "Setting penalty=None will ignore the C and l1_ratio parameters\n",
      "\n",
      "C:\\Users\\Usuario\\anaconda3\\lib\\site-packages\\sklearn\\linear_model\\_logistic.py:1193: UserWarning:\n",
      "\n",
      "Setting penalty=None will ignore the C and l1_ratio parameters\n",
      "\n",
      "C:\\Users\\Usuario\\anaconda3\\lib\\site-packages\\sklearn\\model_selection\\_validation.py:425: FitFailedWarning:\n",
      "\n",
      "\n",
      "1000 fits failed out of a total of 2000.\n",
      "The score on these train-test partitions for these parameters will be set to nan.\n",
      "If these failures are not expected, you can try to debug them by setting error_score='raise'.\n",
      "\n",
      "Below are more details about the failures:\n",
      "--------------------------------------------------------------------------------\n",
      "500 fits failed with the following error:\n",
      "Traceback (most recent call last):\n",
      "  File \"C:\\Users\\Usuario\\anaconda3\\lib\\site-packages\\sklearn\\model_selection\\_validation.py\", line 729, in _fit_and_score\n",
      "    estimator.fit(X_train, y_train, **fit_params)\n",
      "  File \"C:\\Users\\Usuario\\anaconda3\\lib\\site-packages\\sklearn\\base.py\", line 1152, in wrapper\n",
      "    return fit_method(estimator, *args, **kwargs)\n",
      "  File \"C:\\Users\\Usuario\\anaconda3\\lib\\site-packages\\sklearn\\linear_model\\_logistic.py\", line 1169, in fit\n",
      "    solver = _check_solver(self.solver, self.penalty, self.dual)\n",
      "  File \"C:\\Users\\Usuario\\anaconda3\\lib\\site-packages\\sklearn\\linear_model\\_logistic.py\", line 56, in _check_solver\n",
      "    raise ValueError(\n",
      "ValueError: Solver lbfgs supports only 'l2' or 'none' penalties, got l1 penalty.\n",
      "\n",
      "--------------------------------------------------------------------------------\n",
      "500 fits failed with the following error:\n",
      "Traceback (most recent call last):\n",
      "  File \"C:\\Users\\Usuario\\anaconda3\\lib\\site-packages\\sklearn\\model_selection\\_validation.py\", line 729, in _fit_and_score\n",
      "    estimator.fit(X_train, y_train, **fit_params)\n",
      "  File \"C:\\Users\\Usuario\\anaconda3\\lib\\site-packages\\sklearn\\base.py\", line 1152, in wrapper\n",
      "    return fit_method(estimator, *args, **kwargs)\n",
      "  File \"C:\\Users\\Usuario\\anaconda3\\lib\\site-packages\\sklearn\\linear_model\\_logistic.py\", line 1169, in fit\n",
      "    solver = _check_solver(self.solver, self.penalty, self.dual)\n",
      "  File \"C:\\Users\\Usuario\\anaconda3\\lib\\site-packages\\sklearn\\linear_model\\_logistic.py\", line 56, in _check_solver\n",
      "    raise ValueError(\n",
      "ValueError: Solver lbfgs supports only 'l2' or 'none' penalties, got elasticnet penalty.\n",
      "\n",
      "\n"
     ]
    },
    {
     "name": "stdout",
     "output_type": "stream",
     "text": [
      "[CV 5/5; 400/400] END ......C=100, penalty=None;, score=0.824 total time=   0.0s\n"
     ]
    },
    {
     "name": "stderr",
     "output_type": "stream",
     "text": [
      "C:\\Users\\Usuario\\anaconda3\\lib\\site-packages\\sklearn\\model_selection\\_search.py:979: UserWarning:\n",
      "\n",
      "One or more of the test scores are non-finite: [       nan 0.83475936        nan 0.85828877        nan 0.82905526\n",
      "        nan 0.85828877        nan 0.82887701        nan 0.85828877\n",
      "        nan 0.81675579        nan 0.85828877        nan 0.81675579\n",
      "        nan 0.85828877        nan 0.84064171        nan 0.85828877\n",
      "        nan 0.84064171        nan 0.85828877        nan 0.84064171\n",
      "        nan 0.85828877        nan 0.84064171        nan 0.85828877\n",
      "        nan 0.84064171        nan 0.85828877        nan 0.84064171\n",
      "        nan 0.85828877        nan 0.84064171        nan 0.85828877\n",
      "        nan 0.84064171        nan 0.85828877        nan 0.84064171\n",
      "        nan 0.85828877        nan 0.84064171        nan 0.85828877\n",
      "        nan 0.84064171        nan 0.85828877        nan 0.84064171\n",
      "        nan 0.85828877        nan 0.84064171        nan 0.85828877\n",
      "        nan 0.84064171        nan 0.85828877        nan 0.84064171\n",
      "        nan 0.85828877        nan 0.84652406        nan 0.85828877\n",
      "        nan 0.84652406        nan 0.85828877        nan 0.84652406\n",
      "        nan 0.85828877        nan 0.85240642        nan 0.85828877\n",
      "        nan 0.84652406        nan 0.85828877        nan 0.84064171\n",
      "        nan 0.85828877        nan 0.84064171        nan 0.85828877\n",
      "        nan 0.84064171        nan 0.85828877        nan 0.84064171\n",
      "        nan 0.85828877        nan 0.84064171        nan 0.85828877\n",
      "        nan 0.84064171        nan 0.85828877        nan 0.85240642\n",
      "        nan 0.85828877        nan 0.85240642        nan 0.85828877\n",
      "        nan 0.85240642        nan 0.85828877        nan 0.85240642\n",
      "        nan 0.85828877        nan 0.85240642        nan 0.85828877\n",
      "        nan 0.85240642        nan 0.85828877        nan 0.85240642\n",
      "        nan 0.85828877        nan 0.84652406        nan 0.85828877\n",
      "        nan 0.84652406        nan 0.85828877        nan 0.84652406\n",
      "        nan 0.85828877        nan 0.84652406        nan 0.85828877\n",
      "        nan 0.85240642        nan 0.85828877        nan 0.85240642\n",
      "        nan 0.85828877        nan 0.85240642        nan 0.85828877\n",
      "        nan 0.85240642        nan 0.85828877        nan 0.85240642\n",
      "        nan 0.85828877        nan 0.85240642        nan 0.85828877\n",
      "        nan 0.85240642        nan 0.85828877        nan 0.84652406\n",
      "        nan 0.85828877        nan 0.84652406        nan 0.85828877\n",
      "        nan 0.84652406        nan 0.85828877        nan 0.84652406\n",
      "        nan 0.85828877        nan 0.84652406        nan 0.85828877\n",
      "        nan 0.84652406        nan 0.85828877        nan 0.84652406\n",
      "        nan 0.85828877        nan 0.84652406        nan 0.85828877\n",
      "        nan 0.85240642        nan 0.85828877        nan 0.85240642\n",
      "        nan 0.85828877        nan 0.85240642        nan 0.85828877\n",
      "        nan 0.84652406        nan 0.85828877        nan 0.84652406\n",
      "        nan 0.85828877        nan 0.84652406        nan 0.85828877\n",
      "        nan 0.84652406        nan 0.85828877        nan 0.85240642\n",
      "        nan 0.85828877        nan 0.85240642        nan 0.85828877\n",
      "        nan 0.85240642        nan 0.85828877        nan 0.84652406\n",
      "        nan 0.85828877        nan 0.84652406        nan 0.85828877\n",
      "        nan 0.84652406        nan 0.85828877        nan 0.84652406\n",
      "        nan 0.85828877        nan 0.84652406        nan 0.85828877\n",
      "        nan 0.84652406        nan 0.85828877        nan 0.84652406\n",
      "        nan 0.85828877        nan 0.84652406        nan 0.85828877\n",
      "        nan 0.84652406        nan 0.85828877        nan 0.85240642\n",
      "        nan 0.85828877        nan 0.84652406        nan 0.85828877\n",
      "        nan 0.84652406        nan 0.85828877        nan 0.84652406\n",
      "        nan 0.85828877        nan 0.85240642        nan 0.85828877\n",
      "        nan 0.85240642        nan 0.85828877        nan 0.84652406\n",
      "        nan 0.85828877        nan 0.84652406        nan 0.85828877\n",
      "        nan 0.84652406        nan 0.85828877        nan 0.85240642\n",
      "        nan 0.85828877        nan 0.85828877        nan 0.85828877\n",
      "        nan 0.84652406        nan 0.85828877        nan 0.84652406\n",
      "        nan 0.85828877        nan 0.84652406        nan 0.85828877\n",
      "        nan 0.84652406        nan 0.85828877        nan 0.84652406\n",
      "        nan 0.85828877        nan 0.84652406        nan 0.85828877\n",
      "        nan 0.84652406        nan 0.85828877        nan 0.84064171\n",
      "        nan 0.85828877        nan 0.84652406        nan 0.85828877\n",
      "        nan 0.84652406        nan 0.85828877        nan 0.85240642\n",
      "        nan 0.85828877        nan 0.84064171        nan 0.85828877\n",
      "        nan 0.85240642        nan 0.85828877]\n",
      "\n",
      "C:\\Users\\Usuario\\anaconda3\\lib\\site-packages\\sklearn\\linear_model\\_logistic.py:460: ConvergenceWarning:\n",
      "\n",
      "lbfgs failed to converge (status=1):\n",
      "STOP: TOTAL NO. of ITERATIONS REACHED LIMIT.\n",
      "\n",
      "Increase the number of iterations (max_iter) or scale the data as shown in:\n",
      "    https://scikit-learn.org/stable/modules/preprocessing.html\n",
      "Please also refer to the documentation for alternative solver options:\n",
      "    https://scikit-learn.org/stable/modules/linear_model.html#logistic-regression\n",
      "\n"
     ]
    },
    {
     "data": {
      "text/html": [
       "<style>#sk-container-id-13 {color: black;}#sk-container-id-13 pre{padding: 0;}#sk-container-id-13 div.sk-toggleable {background-color: white;}#sk-container-id-13 label.sk-toggleable__label {cursor: pointer;display: block;width: 100%;margin-bottom: 0;padding: 0.3em;box-sizing: border-box;text-align: center;}#sk-container-id-13 label.sk-toggleable__label-arrow:before {content: \"▸\";float: left;margin-right: 0.25em;color: #696969;}#sk-container-id-13 label.sk-toggleable__label-arrow:hover:before {color: black;}#sk-container-id-13 div.sk-estimator:hover label.sk-toggleable__label-arrow:before {color: black;}#sk-container-id-13 div.sk-toggleable__content {max-height: 0;max-width: 0;overflow: hidden;text-align: left;background-color: #f0f8ff;}#sk-container-id-13 div.sk-toggleable__content pre {margin: 0.2em;color: black;border-radius: 0.25em;background-color: #f0f8ff;}#sk-container-id-13 input.sk-toggleable__control:checked~div.sk-toggleable__content {max-height: 200px;max-width: 100%;overflow: auto;}#sk-container-id-13 input.sk-toggleable__control:checked~label.sk-toggleable__label-arrow:before {content: \"▾\";}#sk-container-id-13 div.sk-estimator input.sk-toggleable__control:checked~label.sk-toggleable__label {background-color: #d4ebff;}#sk-container-id-13 div.sk-label input.sk-toggleable__control:checked~label.sk-toggleable__label {background-color: #d4ebff;}#sk-container-id-13 input.sk-hidden--visually {border: 0;clip: rect(1px 1px 1px 1px);clip: rect(1px, 1px, 1px, 1px);height: 1px;margin: -1px;overflow: hidden;padding: 0;position: absolute;width: 1px;}#sk-container-id-13 div.sk-estimator {font-family: monospace;background-color: #f0f8ff;border: 1px dotted black;border-radius: 0.25em;box-sizing: border-box;margin-bottom: 0.5em;}#sk-container-id-13 div.sk-estimator:hover {background-color: #d4ebff;}#sk-container-id-13 div.sk-parallel-item::after {content: \"\";width: 100%;border-bottom: 1px solid gray;flex-grow: 1;}#sk-container-id-13 div.sk-label:hover label.sk-toggleable__label {background-color: #d4ebff;}#sk-container-id-13 div.sk-serial::before {content: \"\";position: absolute;border-left: 1px solid gray;box-sizing: border-box;top: 0;bottom: 0;left: 50%;z-index: 0;}#sk-container-id-13 div.sk-serial {display: flex;flex-direction: column;align-items: center;background-color: white;padding-right: 0.2em;padding-left: 0.2em;position: relative;}#sk-container-id-13 div.sk-item {position: relative;z-index: 1;}#sk-container-id-13 div.sk-parallel {display: flex;align-items: stretch;justify-content: center;background-color: white;position: relative;}#sk-container-id-13 div.sk-item::before, #sk-container-id-13 div.sk-parallel-item::before {content: \"\";position: absolute;border-left: 1px solid gray;box-sizing: border-box;top: 0;bottom: 0;left: 50%;z-index: -1;}#sk-container-id-13 div.sk-parallel-item {display: flex;flex-direction: column;z-index: 1;position: relative;background-color: white;}#sk-container-id-13 div.sk-parallel-item:first-child::after {align-self: flex-end;width: 50%;}#sk-container-id-13 div.sk-parallel-item:last-child::after {align-self: flex-start;width: 50%;}#sk-container-id-13 div.sk-parallel-item:only-child::after {width: 0;}#sk-container-id-13 div.sk-dashed-wrapped {border: 1px dashed gray;margin: 0 0.4em 0.5em 0.4em;box-sizing: border-box;padding-bottom: 0.4em;background-color: white;}#sk-container-id-13 div.sk-label label {font-family: monospace;font-weight: bold;display: inline-block;line-height: 1.2em;}#sk-container-id-13 div.sk-label-container {text-align: center;}#sk-container-id-13 div.sk-container {/* jupyter's `normalize.less` sets `[hidden] { display: none; }` but bootstrap.min.css set `[hidden] { display: none !important; }` so we also need the `!important` here to be able to override the default hidden behavior on the sphinx rendered scikit-learn.org. See: https://github.com/scikit-learn/scikit-learn/issues/21755 */display: inline-block !important;position: relative;}#sk-container-id-13 div.sk-text-repr-fallback {display: none;}</style><div id=\"sk-container-id-13\" class=\"sk-top-container\"><div class=\"sk-text-repr-fallback\"><pre>GridSearchCV(cv=5, estimator=LogisticRegression(),\n",
       "             param_grid={&#x27;C&#x27;: range(1, 101),\n",
       "                         &#x27;penalty&#x27;: [&#x27;l1&#x27;, &#x27;l2&#x27;, &#x27;elasticnet&#x27;, None]},\n",
       "             scoring=&#x27;recall&#x27;, verbose=10)</pre><b>In a Jupyter environment, please rerun this cell to show the HTML representation or trust the notebook. <br />On GitHub, the HTML representation is unable to render, please try loading this page with nbviewer.org.</b></div><div class=\"sk-container\" hidden><div class=\"sk-item sk-dashed-wrapped\"><div class=\"sk-label-container\"><div class=\"sk-label sk-toggleable\"><input class=\"sk-toggleable__control sk-hidden--visually\" id=\"sk-estimator-id-37\" type=\"checkbox\" ><label for=\"sk-estimator-id-37\" class=\"sk-toggleable__label sk-toggleable__label-arrow\">GridSearchCV</label><div class=\"sk-toggleable__content\"><pre>GridSearchCV(cv=5, estimator=LogisticRegression(),\n",
       "             param_grid={&#x27;C&#x27;: range(1, 101),\n",
       "                         &#x27;penalty&#x27;: [&#x27;l1&#x27;, &#x27;l2&#x27;, &#x27;elasticnet&#x27;, None]},\n",
       "             scoring=&#x27;recall&#x27;, verbose=10)</pre></div></div></div><div class=\"sk-parallel\"><div class=\"sk-parallel-item\"><div class=\"sk-item\"><div class=\"sk-label-container\"><div class=\"sk-label sk-toggleable\"><input class=\"sk-toggleable__control sk-hidden--visually\" id=\"sk-estimator-id-38\" type=\"checkbox\" ><label for=\"sk-estimator-id-38\" class=\"sk-toggleable__label sk-toggleable__label-arrow\">estimator: LogisticRegression</label><div class=\"sk-toggleable__content\"><pre>LogisticRegression()</pre></div></div></div><div class=\"sk-serial\"><div class=\"sk-item\"><div class=\"sk-estimator sk-toggleable\"><input class=\"sk-toggleable__control sk-hidden--visually\" id=\"sk-estimator-id-39\" type=\"checkbox\" ><label for=\"sk-estimator-id-39\" class=\"sk-toggleable__label sk-toggleable__label-arrow\">LogisticRegression</label><div class=\"sk-toggleable__content\"><pre>LogisticRegression()</pre></div></div></div></div></div></div></div></div></div></div>"
      ],
      "text/plain": [
       "GridSearchCV(cv=5, estimator=LogisticRegression(),\n",
       "             param_grid={'C': range(1, 101),\n",
       "                         'penalty': ['l1', 'l2', 'elasticnet', None]},\n",
       "             scoring='recall', verbose=10)"
      ]
     },
     "execution_count": 109,
     "metadata": {},
     "output_type": "execute_result"
    }
   ],
   "source": [
    "log_reg.fit(X_train, y_train)"
   ]
  },
  {
   "cell_type": "code",
   "execution_count": 110,
   "id": "dd0aeee1",
   "metadata": {},
   "outputs": [
    {
     "data": {
      "text/plain": [
       "{'C': 1, 'penalty': None}"
      ]
     },
     "execution_count": 110,
     "metadata": {},
     "output_type": "execute_result"
    }
   ],
   "source": [
    "log_reg.best_params_"
   ]
  },
  {
   "cell_type": "code",
   "execution_count": 111,
   "id": "5b86909e",
   "metadata": {},
   "outputs": [
    {
     "data": {
      "text/plain": [
       "0.8582887700534758"
      ]
     },
     "execution_count": 111,
     "metadata": {},
     "output_type": "execute_result"
    }
   ],
   "source": [
    "log_reg.best_score_"
   ]
  },
  {
   "cell_type": "markdown",
   "id": "a1184bac",
   "metadata": {},
   "source": [
    "### Metricas para o treino"
   ]
  },
  {
   "cell_type": "code",
   "execution_count": 112,
   "id": "3b305029",
   "metadata": {},
   "outputs": [],
   "source": [
    "y_pred_treino = log_reg.predict(X_train)"
   ]
  },
  {
   "cell_type": "code",
   "execution_count": 113,
   "id": "c95a1ee8",
   "metadata": {},
   "outputs": [
    {
     "name": "stdout",
     "output_type": "stream",
     "text": [
      "              precision    recall  f1-score   support\n",
      "\n",
      "           0       0.92      0.96      0.94       286\n",
      "           1       0.92      0.85      0.89       169\n",
      "\n",
      "    accuracy                           0.92       455\n",
      "   macro avg       0.92      0.91      0.91       455\n",
      "weighted avg       0.92      0.92      0.92       455\n",
      "\n"
     ]
    }
   ],
   "source": [
    "print(metrics.classification_report(y_train,y_pred_treino)) "
   ]
  },
  {
   "cell_type": "code",
   "execution_count": 114,
   "id": "cc0648a9",
   "metadata": {},
   "outputs": [
    {
     "data": {
      "image/png": "[encoded data removed]",
      "text/plain": [
       "<Figure size 432x288 with 2 Axes>"
      ]
     },
     "metadata": {
      "needs_background": "light"
     },
     "output_type": "display_data"
    }
   ],
   "source": [
    "ConfusionMatrixDisplay(confusion_matrix=confusion_matrix(y_train, y_pred_treino)).plot(cmap=\"Greys\")\n",
    "\n",
    "plt.show()"
   ]
  },
  {
   "cell_type": "markdown",
   "id": "3048a15c",
   "metadata": {},
   "source": [
    "### Metricas para o teste"
   ]
  },
  {
   "cell_type": "code",
   "execution_count": 115,
   "id": "f9843dfc",
   "metadata": {},
   "outputs": [],
   "source": [
    "y_pred = log_reg.predict(X_test)"
   ]
  },
  {
   "cell_type": "code",
   "execution_count": 116,
   "id": "52f7220c",
   "metadata": {},
   "outputs": [
    {
     "name": "stdout",
     "output_type": "stream",
     "text": [
      "              precision    recall  f1-score   support\n",
      "\n",
      "           0       0.94      0.96      0.95        71\n",
      "           1       0.93      0.91      0.92        43\n",
      "\n",
      "    accuracy                           0.94       114\n",
      "   macro avg       0.94      0.93      0.93       114\n",
      "weighted avg       0.94      0.94      0.94       114\n",
      "\n"
     ]
    }
   ],
   "source": [
    "print(metrics.classification_report(y_test,y_pred)) "
   ]
  },
  {
   "cell_type": "code",
   "execution_count": 125,
   "id": "f1457aaf",
   "metadata": {},
   "outputs": [
    {
     "name": "stderr",
     "output_type": "stream",
     "text": [
      "C:\\Users\\Usuario\\anaconda3\\lib\\site-packages\\sklearn\\base.py:465: UserWarning:\n",
      "\n",
      "X does not have valid feature names, but LogisticRegression was fitted with feature names\n",
      "\n"
     ]
    },
    {
     "data": {
      "image/png": "[encoded data removed]",
      "text/plain": [
       "<Figure size 576x396 with 2 Axes>"
      ]
     },
     "metadata": {},
     "output_type": "display_data"
    }
   ],
   "source": [
    "from yellowbrick.classifier import classification_report\n",
    "classes = [ \"benigno\",\"maligno\"]\n",
    "visualizer = classification_report(\n",
    "    log_reg, X_train, y_train, X_test, y_test, support=True,cmap='Purples', classes=classes\n",
    ")   "
   ]
  },
  {
   "cell_type": "code",
   "execution_count": 117,
   "id": "4041e082",
   "metadata": {},
   "outputs": [
    {
     "data": {
      "text/plain": [
       "array([[68,  3],\n",
       "       [ 4, 39]], dtype=int64)"
      ]
     },
     "execution_count": 117,
     "metadata": {},
     "output_type": "execute_result"
    }
   ],
   "source": [
    "conf_matriz = confusion_matrix(y_test,y_pred)\n",
    "conf_matriz"
   ]
  },
  {
   "cell_type": "code",
   "execution_count": 118,
   "id": "1f1db5ef",
   "metadata": {},
   "outputs": [
    {
     "data": {
      "image/png": "[encoded data removed]",
      "text/plain": [
       "<Figure size 432x288 with 2 Axes>"
      ]
     },
     "metadata": {
      "needs_background": "light"
     },
     "output_type": "display_data"
    }
   ],
   "source": [
    "ConfusionMatrixDisplay(confusion_matrix=confusion_matrix(y_test, y_pred)).plot(cmap=\"Purples\")\n",
    "\n",
    "plt.show()"
   ]
  },
  {
   "cell_type": "code",
   "execution_count": 81,
   "id": "c5939a79",
   "metadata": {},
   "outputs": [],
   "source": [
    "from sklearn.metrics import roc_curve, roc_auc_score, auc\n",
    "y_prob = log_reg.predict_proba(X_test)[:, 1]\n",
    "fpr, tpr, thresholds = roc_curve(y_test, y_prob)\n",
    "roc_auc = auc(fpr, tpr)\n"
   ]
  },
  {
   "cell_type": "code",
   "execution_count": 82,
   "id": "0eacb18f",
   "metadata": {},
   "outputs": [
    {
     "data": {
      "application/vnd.plotly.v1+json": {
       "config": {
        "plotlyServerURL": "https://plot.ly"
       },
       "data": [
        {
         "fillpattern": {
          "shape": ""
         },
         "hovertemplate": "Falso Positivo=%{x}<br>Verdadeiro Postivo=%{y}<extra></extra>",
         "legendgroup": "",
         "line": {
          "color": "#636efa"
         },
         "marker": {
          "symbol": "circle"
         },
         "mode": "lines",
         "name": "",
         "orientation": "v",
         "showlegend": false,
         "stackgroup": "1",
         "type": "scatter",
         "x": [
          0,
          0,
          0,
          0.014084507042253521,
          0.014084507042253521,
          0.028169014084507043,
          0.028169014084507043,
          0.056338028169014086,
          0.056338028169014086,
          0.07042253521126761,
          0.07042253521126761,
          1
         ],
         "xaxis": "x",
         "y": [
          0,
          0.023255813953488372,
          0.8372093023255814,
          0.8372093023255814,
          0.8604651162790697,
          0.8604651162790697,
          0.9069767441860465,
          0.9069767441860465,
          0.9302325581395349,
          0.9302325581395349,
          1,
          1
         ],
         "yaxis": "y"
        }
       ],
       "layout": {
        "height": 500,
        "legend": {
         "tracegroupgap": 0
        },
        "shapes": [
         {
          "line": {
           "dash": "dash"
          },
          "type": "line",
          "x0": 0,
          "x1": 1,
          "y0": 0,
          "y1": 1
         }
        ],
        "template": {
         "data": {
          "bar": [
           {
            "error_x": {
             "color": "#2a3f5f"
            },
            "error_y": {
             "color": "#2a3f5f"
            },
            "marker": {
             "line": {
              "color": "#E5ECF6",
              "width": 0.5
             },
             "pattern": {
              "fillmode": "overlay",
              "size": 10,
              "solidity": 0.2
             }
            },
            "type": "bar"
           }
          ],
          "barpolar": [
           {
            "marker": {
             "line": {
              "color": "#E5ECF6",
              "width": 0.5
             },
             "pattern": {
              "fillmode": "overlay",
              "size": 10,
              "solidity": 0.2
             }
            },
            "type": "barpolar"
           }
          ],
          "carpet": [
           {
            "aaxis": {
             "endlinecolor": "#2a3f5f",
             "gridcolor": "white",
             "linecolor": "white",
             "minorgridcolor": "white",
             "startlinecolor": "#2a3f5f"
            },
            "baxis": {
             "endlinecolor": "#2a3f5f",
             "gridcolor": "white",
             "linecolor": "white",
             "minorgridcolor": "white",
             "startlinecolor": "#2a3f5f"
            },
            "type": "carpet"
           }
          ],
          "choropleth": [
           {
            "colorbar": {
             "outlinewidth": 0,
             "ticks": ""
            },
            "type": "choropleth"
           }
          ],
          "contour": [
           {
            "colorbar": {
             "outlinewidth": 0,
             "ticks": ""
            },
            "colorscale": [
             [
              0,
              "#0d0887"
             ],
             [
              0.1111111111111111,
              "#46039f"
             ],
             [
              0.2222222222222222,
              "#7201a8"
             ],
             [
              0.3333333333333333,
              "#9c179e"
             ],
             [
              0.4444444444444444,
              "#bd3786"
             ],
             [
              0.5555555555555556,
              "#d8576b"
             ],
             [
              0.6666666666666666,
              "#ed7953"
             ],
             [
              0.7777777777777778,
              "#fb9f3a"
             ],
             [
              0.8888888888888888,
              "#fdca26"
             ],
             [
              1,
              "#f0f921"
             ]
            ],
            "type": "contour"
           }
          ],
          "contourcarpet": [
           {
            "colorbar": {
             "outlinewidth": 0,
             "ticks": ""
            },
            "type": "contourcarpet"
           }
          ],
          "heatmap": [
           {
            "colorbar": {
             "outlinewidth": 0,
             "ticks": ""
            },
            "colorscale": [
             [
              0,
              "#0d0887"
             ],
             [
              0.1111111111111111,
              "#46039f"
             ],
             [
              0.2222222222222222,
              "#7201a8"
             ],
             [
              0.3333333333333333,
              "#9c179e"
             ],
             [
              0.4444444444444444,
              "#bd3786"
             ],
             [
              0.5555555555555556,
              "#d8576b"
             ],
             [
              0.6666666666666666,
              "#ed7953"
             ],
             [
              0.7777777777777778,
              "#fb9f3a"
             ],
             [
              0.8888888888888888,
              "#fdca26"
             ],
             [
              1,
              "#f0f921"
             ]
            ],
            "type": "heatmap"
           }
          ],
          "heatmapgl": [
           {
            "colorbar": {
             "outlinewidth": 0,
             "ticks": ""
            },
            "colorscale": [
             [
              0,
              "#0d0887"
             ],
             [
              0.1111111111111111,
              "#46039f"
             ],
             [
              0.2222222222222222,
              "#7201a8"
             ],
             [
              0.3333333333333333,
              "#9c179e"
             ],
             [
              0.4444444444444444,
              "#bd3786"
             ],
             [
              0.5555555555555556,
              "#d8576b"
             ],
             [
              0.6666666666666666,
              "#ed7953"
             ],
             [
              0.7777777777777778,
              "#fb9f3a"
             ],
             [
              0.8888888888888888,
              "#fdca26"
             ],
             [
              1,
              "#f0f921"
             ]
            ],
            "type": "heatmapgl"
           }
          ],
          "histogram": [
           {
            "marker": {
             "pattern": {
              "fillmode": "overlay",
              "size": 10,
              "solidity": 0.2
             }
            },
            "type": "histogram"
           }
          ],
          "histogram2d": [
           {
            "colorbar": {
             "outlinewidth": 0,
             "ticks": ""
            },
            "colorscale": [
             [
              0,
              "#0d0887"
             ],
             [
              0.1111111111111111,
              "#46039f"
             ],
             [
              0.2222222222222222,
              "#7201a8"
             ],
             [
              0.3333333333333333,
              "#9c179e"
             ],
             [
              0.4444444444444444,
              "#bd3786"
             ],
             [
              0.5555555555555556,
              "#d8576b"
             ],
             [
              0.6666666666666666,
              "#ed7953"
             ],
             [
              0.7777777777777778,
              "#fb9f3a"
             ],
             [
              0.8888888888888888,
              "#fdca26"
             ],
             [
              1,
              "#f0f921"
             ]
            ],
            "type": "histogram2d"
           }
          ],
          "histogram2dcontour": [
           {
            "colorbar": {
             "outlinewidth": 0,
             "ticks": ""
            },
            "colorscale": [
             [
              0,
              "#0d0887"
             ],
             [
              0.1111111111111111,
              "#46039f"
             ],
             [
              0.2222222222222222,
              "#7201a8"
             ],
             [
              0.3333333333333333,
              "#9c179e"
             ],
             [
              0.4444444444444444,
              "#bd3786"
             ],
             [
              0.5555555555555556,
              "#d8576b"
             ],
             [
              0.6666666666666666,
              "#ed7953"
             ],
             [
              0.7777777777777778,
              "#fb9f3a"
             ],
             [
              0.8888888888888888,
              "#fdca26"
             ],
             [
              1,
              "#f0f921"
             ]
            ],
            "type": "histogram2dcontour"
           }
          ],
          "mesh3d": [
           {
            "colorbar": {
             "outlinewidth": 0,
             "ticks": ""
            },
            "type": "mesh3d"
           }
          ],
          "parcoords": [
           {
            "line": {
             "colorbar": {
              "outlinewidth": 0,
              "ticks": ""
             }
            },
            "type": "parcoords"
           }
          ],
          "pie": [
           {
            "automargin": true,
            "type": "pie"
           }
          ],
          "scatter": [
           {
            "fillpattern": {
             "fillmode": "overlay",
             "size": 10,
             "solidity": 0.2
            },
            "type": "scatter"
           }
          ],
          "scatter3d": [
           {
            "line": {
             "colorbar": {
              "outlinewidth": 0,
              "ticks": ""
             }
            },
            "marker": {
             "colorbar": {
              "outlinewidth": 0,
              "ticks": ""
             }
            },
            "type": "scatter3d"
           }
          ],
          "scattercarpet": [
           {
            "marker": {
             "colorbar": {
              "outlinewidth": 0,
              "ticks": ""
             }
            },
            "type": "scattercarpet"
           }
          ],
          "scattergeo": [
           {
            "marker": {
             "colorbar": {
              "outlinewidth": 0,
              "ticks": ""
             }
            },
            "type": "scattergeo"
           }
          ],
          "scattergl": [
           {
            "marker": {
             "colorbar": {
              "outlinewidth": 0,
              "ticks": ""
             }
            },
            "type": "scattergl"
           }
          ],
          "scattermapbox": [
           {
            "marker": {
             "colorbar": {
              "outlinewidth": 0,
              "ticks": ""
             }
            },
            "type": "scattermapbox"
           }
          ],
          "scatterpolar": [
           {
            "marker": {
             "colorbar": {
              "outlinewidth": 0,
              "ticks": ""
             }
            },
            "type": "scatterpolar"
           }
          ],
          "scatterpolargl": [
           {
            "marker": {
             "colorbar": {
              "outlinewidth": 0,
              "ticks": ""
             }
            },
            "type": "scatterpolargl"
           }
          ],
          "scatterternary": [
           {
            "marker": {
             "colorbar": {
              "outlinewidth": 0,
              "ticks": ""
             }
            },
            "type": "scatterternary"
           }
          ],
          "surface": [
           {
            "colorbar": {
             "outlinewidth": 0,
             "ticks": ""
            },
            "colorscale": [
             [
              0,
              "#0d0887"
             ],
             [
              0.1111111111111111,
              "#46039f"
             ],
             [
              0.2222222222222222,
              "#7201a8"
             ],
             [
              0.3333333333333333,
              "#9c179e"
             ],
             [
              0.4444444444444444,
              "#bd3786"
             ],
             [
              0.5555555555555556,
              "#d8576b"
             ],
             [
              0.6666666666666666,
              "#ed7953"
             ],
             [
              0.7777777777777778,
              "#fb9f3a"
             ],
             [
              0.8888888888888888,
              "#fdca26"
             ],
             [
              1,
              "#f0f921"
             ]
            ],
            "type": "surface"
           }
          ],
          "table": [
           {
            "cells": {
             "fill": {
              "color": "#EBF0F8"
             },
             "line": {
              "color": "white"
             }
            },
            "header": {
             "fill": {
              "color": "#C8D4E3"
             },
             "line": {
              "color": "white"
             }
            },
            "type": "table"
           }
          ]
         },
         "layout": {
          "annotationdefaults": {
           "arrowcolor": "#2a3f5f",
           "arrowhead": 0,
           "arrowwidth": 1
          },
          "autotypenumbers": "strict",
          "coloraxis": {
           "colorbar": {
            "outlinewidth": 0,
            "ticks": ""
           }
          },
          "colorscale": {
           "diverging": [
            [
             0,
             "#8e0152"
            ],
            [
             0.1,
             "#c51b7d"
            ],
            [
             0.2,
             "#de77ae"
            ],
            [
             0.3,
             "#f1b6da"
            ],
            [
             0.4,
             "#fde0ef"
            ],
            [
             0.5,
             "#f7f7f7"
            ],
            [
             0.6,
             "#e6f5d0"
            ],
            [
             0.7,
             "#b8e186"
            ],
            [
             0.8,
             "#7fbc41"
            ],
            [
             0.9,
             "#4d9221"
            ],
            [
             1,
             "#276419"
            ]
           ],
           "sequential": [
            [
             0,
             "#0d0887"
            ],
            [
             0.1111111111111111,
             "#46039f"
            ],
            [
             0.2222222222222222,
             "#7201a8"
            ],
            [
             0.3333333333333333,
             "#9c179e"
            ],
            [
             0.4444444444444444,
             "#bd3786"
            ],
            [
             0.5555555555555556,
             "#d8576b"
            ],
            [
             0.6666666666666666,
             "#ed7953"
            ],
            [
             0.7777777777777778,
             "#fb9f3a"
            ],
            [
             0.8888888888888888,
             "#fdca26"
            ],
            [
             1,
             "#f0f921"
            ]
           ],
           "sequentialminus": [
            [
             0,
             "#0d0887"
            ],
            [
             0.1111111111111111,
             "#46039f"
            ],
            [
             0.2222222222222222,
             "#7201a8"
            ],
            [
             0.3333333333333333,
             "#9c179e"
            ],
            [
             0.4444444444444444,
             "#bd3786"
            ],
            [
             0.5555555555555556,
             "#d8576b"
            ],
            [
             0.6666666666666666,
             "#ed7953"
            ],
            [
             0.7777777777777778,
             "#fb9f3a"
            ],
            [
             0.8888888888888888,
             "#fdca26"
            ],
            [
             1,
             "#f0f921"
            ]
           ]
          },
          "colorway": [
           "#636efa",
           "#EF553B",
           "#00cc96",
           "#ab63fa",
           "#FFA15A",
           "#19d3f3",
           "#FF6692",
           "#B6E880",
           "#FF97FF",
           "#FECB52"
          ],
          "font": {
           "color": "#2a3f5f"
          },
          "geo": {
           "bgcolor": "white",
           "lakecolor": "white",
           "landcolor": "#E5ECF6",
           "showlakes": true,
           "showland": true,
           "subunitcolor": "white"
          },
          "hoverlabel": {
           "align": "left"
          },
          "hovermode": "closest",
          "mapbox": {
           "style": "light"
          },
          "paper_bgcolor": "white",
          "plot_bgcolor": "#E5ECF6",
          "polar": {
           "angularaxis": {
            "gridcolor": "white",
            "linecolor": "white",
            "ticks": ""
           },
           "bgcolor": "#E5ECF6",
           "radialaxis": {
            "gridcolor": "white",
            "linecolor": "white",
            "ticks": ""
           }
          },
          "scene": {
           "xaxis": {
            "backgroundcolor": "#E5ECF6",
            "gridcolor": "white",
            "gridwidth": 2,
            "linecolor": "white",
            "showbackground": true,
            "ticks": "",
            "zerolinecolor": "white"
           },
           "yaxis": {
            "backgroundcolor": "#E5ECF6",
            "gridcolor": "white",
            "gridwidth": 2,
            "linecolor": "white",
            "showbackground": true,
            "ticks": "",
            "zerolinecolor": "white"
           },
           "zaxis": {
            "backgroundcolor": "#E5ECF6",
            "gridcolor": "white",
            "gridwidth": 2,
            "linecolor": "white",
            "showbackground": true,
            "ticks": "",
            "zerolinecolor": "white"
           }
          },
          "shapedefaults": {
           "line": {
            "color": "#2a3f5f"
           }
          },
          "ternary": {
           "aaxis": {
            "gridcolor": "white",
            "linecolor": "white",
            "ticks": ""
           },
           "baxis": {
            "gridcolor": "white",
            "linecolor": "white",
            "ticks": ""
           },
           "bgcolor": "#E5ECF6",
           "caxis": {
            "gridcolor": "white",
            "linecolor": "white",
            "ticks": ""
           }
          },
          "title": {
           "x": 0.05
          },
          "xaxis": {
           "automargin": true,
           "gridcolor": "white",
           "linecolor": "white",
           "ticks": "",
           "title": {
            "standoff": 15
           },
           "zerolinecolor": "white",
           "zerolinewidth": 2
          },
          "yaxis": {
           "automargin": true,
           "gridcolor": "white",
           "linecolor": "white",
           "ticks": "",
           "title": {
            "standoff": 15
           },
           "zerolinecolor": "white",
           "zerolinewidth": 2
          }
         }
        },
        "title": {
         "text": "ROC Curve (AUC=0.9921)"
        },
        "width": 700,
        "xaxis": {
         "anchor": "y",
         "constrain": "domain",
         "domain": [
          0,
          1
         ],
         "title": {
          "text": "Falso Positivo"
         }
        },
        "yaxis": {
         "anchor": "x",
         "domain": [
          0,
          1
         ],
         "scaleanchor": "x",
         "scaleratio": 1,
         "title": {
          "text": "Verdadeiro Postivo"
         }
        }
       }
      },
      "text/html": [
       "<div>                            <div id=\"8ea57c8b-9e76-4b93-80d7-6e2c486855b9\" class=\"plotly-graph-div\" style=\"height:500px; width:700px;\"></div>            <script type=\"text/javascript\">                require([\"plotly\"], function(Plotly) {                    window.PLOTLYENV=window.PLOTLYENV || {};                                    if (document.getElementById(\"8ea57c8b-9e76-4b93-80d7-6e2c486855b9\")) {                    Plotly.newPlot(                        \"8ea57c8b-9e76-4b93-80d7-6e2c486855b9\",                        [{\"fillpattern\":{\"shape\":\"\"},\"hovertemplate\":\"Falso Positivo=%{x}\\u003cbr\\u003eVerdadeiro Postivo=%{y}\\u003cextra\\u003e\\u003c\\u002fextra\\u003e\",\"legendgroup\":\"\",\"line\":{\"color\":\"#636efa\"},\"marker\":{\"symbol\":\"circle\"},\"mode\":\"lines\",\"name\":\"\",\"orientation\":\"v\",\"showlegend\":false,\"stackgroup\":\"1\",\"x\":[0.0,0.0,0.0,0.014084507042253521,0.014084507042253521,0.028169014084507043,0.028169014084507043,0.056338028169014086,0.056338028169014086,0.07042253521126761,0.07042253521126761,1.0],\"xaxis\":\"x\",\"y\":[0.0,0.023255813953488372,0.8372093023255814,0.8372093023255814,0.8604651162790697,0.8604651162790697,0.9069767441860465,0.9069767441860465,0.9302325581395349,0.9302325581395349,1.0,1.0],\"yaxis\":\"y\",\"type\":\"scatter\"}],                        {\"template\":{\"data\":{\"histogram2dcontour\":[{\"type\":\"histogram2dcontour\",\"colorbar\":{\"outlinewidth\":0,\"ticks\":\"\"},\"colorscale\":[[0.0,\"#0d0887\"],[0.1111111111111111,\"#46039f\"],[0.2222222222222222,\"#7201a8\"],[0.3333333333333333,\"#9c179e\"],[0.4444444444444444,\"#bd3786\"],[0.5555555555555556,\"#d8576b\"],[0.6666666666666666,\"#ed7953\"],[0.7777777777777778,\"#fb9f3a\"],[0.8888888888888888,\"#fdca26\"],[1.0,\"#f0f921\"]]}],\"choropleth\":[{\"type\":\"choropleth\",\"colorbar\":{\"outlinewidth\":0,\"ticks\":\"\"}}],\"histogram2d\":[{\"type\":\"histogram2d\",\"colorbar\":{\"outlinewidth\":0,\"ticks\":\"\"},\"colorscale\":[[0.0,\"#0d0887\"],[0.1111111111111111,\"#46039f\"],[0.2222222222222222,\"#7201a8\"],[0.3333333333333333,\"#9c179e\"],[0.4444444444444444,\"#bd3786\"],[0.5555555555555556,\"#d8576b\"],[0.6666666666666666,\"#ed7953\"],[0.7777777777777778,\"#fb9f3a\"],[0.8888888888888888,\"#fdca26\"],[1.0,\"#f0f921\"]]}],\"heatmap\":[{\"type\":\"heatmap\",\"colorbar\":{\"outlinewidth\":0,\"ticks\":\"\"},\"colorscale\":[[0.0,\"#0d0887\"],[0.1111111111111111,\"#46039f\"],[0.2222222222222222,\"#7201a8\"],[0.3333333333333333,\"#9c179e\"],[0.4444444444444444,\"#bd3786\"],[0.5555555555555556,\"#d8576b\"],[0.6666666666666666,\"#ed7953\"],[0.7777777777777778,\"#fb9f3a\"],[0.8888888888888888,\"#fdca26\"],[1.0,\"#f0f921\"]]}],\"heatmapgl\":[{\"type\":\"heatmapgl\",\"colorbar\":{\"outlinewidth\":0,\"ticks\":\"\"},\"colorscale\":[[0.0,\"#0d0887\"],[0.1111111111111111,\"#46039f\"],[0.2222222222222222,\"#7201a8\"],[0.3333333333333333,\"#9c179e\"],[0.4444444444444444,\"#bd3786\"],[0.5555555555555556,\"#d8576b\"],[0.6666666666666666,\"#ed7953\"],[0.7777777777777778,\"#fb9f3a\"],[0.8888888888888888,\"#fdca26\"],[1.0,\"#f0f921\"]]}],\"contourcarpet\":[{\"type\":\"contourcarpet\",\"colorbar\":{\"outlinewidth\":0,\"ticks\":\"\"}}],\"contour\":[{\"type\":\"contour\",\"colorbar\":{\"outlinewidth\":0,\"ticks\":\"\"},\"colorscale\":[[0.0,\"#0d0887\"],[0.1111111111111111,\"#46039f\"],[0.2222222222222222,\"#7201a8\"],[0.3333333333333333,\"#9c179e\"],[0.4444444444444444,\"#bd3786\"],[0.5555555555555556,\"#d8576b\"],[0.6666666666666666,\"#ed7953\"],[0.7777777777777778,\"#fb9f3a\"],[0.8888888888888888,\"#fdca26\"],[1.0,\"#f0f921\"]]}],\"surface\":[{\"type\":\"surface\",\"colorbar\":{\"outlinewidth\":0,\"ticks\":\"\"},\"colorscale\":[[0.0,\"#0d0887\"],[0.1111111111111111,\"#46039f\"],[0.2222222222222222,\"#7201a8\"],[0.3333333333333333,\"#9c179e\"],[0.4444444444444444,\"#bd3786\"],[0.5555555555555556,\"#d8576b\"],[0.6666666666666666,\"#ed7953\"],[0.7777777777777778,\"#fb9f3a\"],[0.8888888888888888,\"#fdca26\"],[1.0,\"#f0f921\"]]}],\"mesh3d\":[{\"type\":\"mesh3d\",\"colorbar\":{\"outlinewidth\":0,\"ticks\":\"\"}}],\"scatter\":[{\"fillpattern\":{\"fillmode\":\"overlay\",\"size\":10,\"solidity\":0.2},\"type\":\"scatter\"}],\"parcoords\":[{\"type\":\"parcoords\",\"line\":{\"colorbar\":{\"outlinewidth\":0,\"ticks\":\"\"}}}],\"scatterpolargl\":[{\"type\":\"scatterpolargl\",\"marker\":{\"colorbar\":{\"outlinewidth\":0,\"ticks\":\"\"}}}],\"bar\":[{\"error_x\":{\"color\":\"#2a3f5f\"},\"error_y\":{\"color\":\"#2a3f5f\"},\"marker\":{\"line\":{\"color\":\"#E5ECF6\",\"width\":0.5},\"pattern\":{\"fillmode\":\"overlay\",\"size\":10,\"solidity\":0.2}},\"type\":\"bar\"}],\"scattergeo\":[{\"type\":\"scattergeo\",\"marker\":{\"colorbar\":{\"outlinewidth\":0,\"ticks\":\"\"}}}],\"scatterpolar\":[{\"type\":\"scatterpolar\",\"marker\":{\"colorbar\":{\"outlinewidth\":0,\"ticks\":\"\"}}}],\"histogram\":[{\"marker\":{\"pattern\":{\"fillmode\":\"overlay\",\"size\":10,\"solidity\":0.2}},\"type\":\"histogram\"}],\"scattergl\":[{\"type\":\"scattergl\",\"marker\":{\"colorbar\":{\"outlinewidth\":0,\"ticks\":\"\"}}}],\"scatter3d\":[{\"type\":\"scatter3d\",\"line\":{\"colorbar\":{\"outlinewidth\":0,\"ticks\":\"\"}},\"marker\":{\"colorbar\":{\"outlinewidth\":0,\"ticks\":\"\"}}}],\"scattermapbox\":[{\"type\":\"scattermapbox\",\"marker\":{\"colorbar\":{\"outlinewidth\":0,\"ticks\":\"\"}}}],\"scatterternary\":[{\"type\":\"scatterternary\",\"marker\":{\"colorbar\":{\"outlinewidth\":0,\"ticks\":\"\"}}}],\"scattercarpet\":[{\"type\":\"scattercarpet\",\"marker\":{\"colorbar\":{\"outlinewidth\":0,\"ticks\":\"\"}}}],\"carpet\":[{\"aaxis\":{\"endlinecolor\":\"#2a3f5f\",\"gridcolor\":\"white\",\"linecolor\":\"white\",\"minorgridcolor\":\"white\",\"startlinecolor\":\"#2a3f5f\"},\"baxis\":{\"endlinecolor\":\"#2a3f5f\",\"gridcolor\":\"white\",\"linecolor\":\"white\",\"minorgridcolor\":\"white\",\"startlinecolor\":\"#2a3f5f\"},\"type\":\"carpet\"}],\"table\":[{\"cells\":{\"fill\":{\"color\":\"#EBF0F8\"},\"line\":{\"color\":\"white\"}},\"header\":{\"fill\":{\"color\":\"#C8D4E3\"},\"line\":{\"color\":\"white\"}},\"type\":\"table\"}],\"barpolar\":[{\"marker\":{\"line\":{\"color\":\"#E5ECF6\",\"width\":0.5},\"pattern\":{\"fillmode\":\"overlay\",\"size\":10,\"solidity\":0.2}},\"type\":\"barpolar\"}],\"pie\":[{\"automargin\":true,\"type\":\"pie\"}]},\"layout\":{\"autotypenumbers\":\"strict\",\"colorway\":[\"#636efa\",\"#EF553B\",\"#00cc96\",\"#ab63fa\",\"#FFA15A\",\"#19d3f3\",\"#FF6692\",\"#B6E880\",\"#FF97FF\",\"#FECB52\"],\"font\":{\"color\":\"#2a3f5f\"},\"hovermode\":\"closest\",\"hoverlabel\":{\"align\":\"left\"},\"paper_bgcolor\":\"white\",\"plot_bgcolor\":\"#E5ECF6\",\"polar\":{\"bgcolor\":\"#E5ECF6\",\"angularaxis\":{\"gridcolor\":\"white\",\"linecolor\":\"white\",\"ticks\":\"\"},\"radialaxis\":{\"gridcolor\":\"white\",\"linecolor\":\"white\",\"ticks\":\"\"}},\"ternary\":{\"bgcolor\":\"#E5ECF6\",\"aaxis\":{\"gridcolor\":\"white\",\"linecolor\":\"white\",\"ticks\":\"\"},\"baxis\":{\"gridcolor\":\"white\",\"linecolor\":\"white\",\"ticks\":\"\"},\"caxis\":{\"gridcolor\":\"white\",\"linecolor\":\"white\",\"ticks\":\"\"}},\"coloraxis\":{\"colorbar\":{\"outlinewidth\":0,\"ticks\":\"\"}},\"colorscale\":{\"sequential\":[[0.0,\"#0d0887\"],[0.1111111111111111,\"#46039f\"],[0.2222222222222222,\"#7201a8\"],[0.3333333333333333,\"#9c179e\"],[0.4444444444444444,\"#bd3786\"],[0.5555555555555556,\"#d8576b\"],[0.6666666666666666,\"#ed7953\"],[0.7777777777777778,\"#fb9f3a\"],[0.8888888888888888,\"#fdca26\"],[1.0,\"#f0f921\"]],\"sequentialminus\":[[0.0,\"#0d0887\"],[0.1111111111111111,\"#46039f\"],[0.2222222222222222,\"#7201a8\"],[0.3333333333333333,\"#9c179e\"],[0.4444444444444444,\"#bd3786\"],[0.5555555555555556,\"#d8576b\"],[0.6666666666666666,\"#ed7953\"],[0.7777777777777778,\"#fb9f3a\"],[0.8888888888888888,\"#fdca26\"],[1.0,\"#f0f921\"]],\"diverging\":[[0,\"#8e0152\"],[0.1,\"#c51b7d\"],[0.2,\"#de77ae\"],[0.3,\"#f1b6da\"],[0.4,\"#fde0ef\"],[0.5,\"#f7f7f7\"],[0.6,\"#e6f5d0\"],[0.7,\"#b8e186\"],[0.8,\"#7fbc41\"],[0.9,\"#4d9221\"],[1,\"#276419\"]]},\"xaxis\":{\"gridcolor\":\"white\",\"linecolor\":\"white\",\"ticks\":\"\",\"title\":{\"standoff\":15},\"zerolinecolor\":\"white\",\"automargin\":true,\"zerolinewidth\":2},\"yaxis\":{\"gridcolor\":\"white\",\"linecolor\":\"white\",\"ticks\":\"\",\"title\":{\"standoff\":15},\"zerolinecolor\":\"white\",\"automargin\":true,\"zerolinewidth\":2},\"scene\":{\"xaxis\":{\"backgroundcolor\":\"#E5ECF6\",\"gridcolor\":\"white\",\"linecolor\":\"white\",\"showbackground\":true,\"ticks\":\"\",\"zerolinecolor\":\"white\",\"gridwidth\":2},\"yaxis\":{\"backgroundcolor\":\"#E5ECF6\",\"gridcolor\":\"white\",\"linecolor\":\"white\",\"showbackground\":true,\"ticks\":\"\",\"zerolinecolor\":\"white\",\"gridwidth\":2},\"zaxis\":{\"backgroundcolor\":\"#E5ECF6\",\"gridcolor\":\"white\",\"linecolor\":\"white\",\"showbackground\":true,\"ticks\":\"\",\"zerolinecolor\":\"white\",\"gridwidth\":2}},\"shapedefaults\":{\"line\":{\"color\":\"#2a3f5f\"}},\"annotationdefaults\":{\"arrowcolor\":\"#2a3f5f\",\"arrowhead\":0,\"arrowwidth\":1},\"geo\":{\"bgcolor\":\"white\",\"landcolor\":\"#E5ECF6\",\"subunitcolor\":\"white\",\"showland\":true,\"showlakes\":true,\"lakecolor\":\"white\"},\"title\":{\"x\":0.05},\"mapbox\":{\"style\":\"light\"}}},\"xaxis\":{\"anchor\":\"y\",\"domain\":[0.0,1.0],\"title\":{\"text\":\"Falso Positivo\"},\"constrain\":\"domain\"},\"yaxis\":{\"anchor\":\"x\",\"domain\":[0.0,1.0],\"title\":{\"text\":\"Verdadeiro Postivo\"},\"scaleanchor\":\"x\",\"scaleratio\":1},\"legend\":{\"tracegroupgap\":0},\"title\":{\"text\":\"ROC Curve (AUC=0.9921)\"},\"height\":500,\"width\":700,\"shapes\":[{\"line\":{\"dash\":\"dash\"},\"type\":\"line\",\"x0\":0,\"x1\":1,\"y0\":0,\"y1\":1}]},                        {\"responsive\": true}                    ).then(function(){\n",
       "                            \n",
       "var gd = document.getElementById('8ea57c8b-9e76-4b93-80d7-6e2c486855b9');\n",
       "var x = new MutationObserver(function (mutations, observer) {{\n",
       "        var display = window.getComputedStyle(gd).display;\n",
       "        if (!display || display === 'none') {{\n",
       "            console.log([gd, 'removed!']);\n",
       "            Plotly.purge(gd);\n",
       "            observer.disconnect();\n",
       "        }}\n",
       "}});\n",
       "\n",
       "// Listen for the removal of the full notebook cells\n",
       "var notebookContainer = gd.closest('#notebook-container');\n",
       "if (notebookContainer) {{\n",
       "    x.observe(notebookContainer, {childList: true});\n",
       "}}\n",
       "\n",
       "// Listen for the clearing of the current output cell\n",
       "var outputEl = gd.closest('.output');\n",
       "if (outputEl) {{\n",
       "    x.observe(outputEl, {childList: true});\n",
       "}}\n",
       "\n",
       "                        })                };                });            </script>        </div>"
      ]
     },
     "metadata": {},
     "output_type": "display_data"
    }
   ],
   "source": [
    "\n",
    "fig = px.area(\n",
    "    x=fpr, y=tpr,\n",
    "    title=f'ROC Curve (AUC={auc(fpr, tpr):.4f})',\n",
    "    labels=dict(x='Falso Positivo', y='Verdadeiro Postivo'),\n",
    "    width=700, height=500\n",
    ")\n",
    "fig.add_shape(\n",
    "    type='line', line=dict(dash='dash'),\n",
    "    x0=0, x1=1, y0=0, y1=1\n",
    ")\n",
    "\n",
    "fig.update_yaxes(scaleanchor=\"x\", scaleratio=1)\n",
    "fig.update_xaxes(constrain='domain')\n",
    "fig.show()"
   ]
  },
  {
   "cell_type": "markdown",
   "id": "4b3d0b64",
   "metadata": {},
   "source": [
    "## KNN"
   ]
  },
  {
   "cell_type": "code",
   "execution_count": 83,
   "id": "fb0ed090",
   "metadata": {},
   "outputs": [],
   "source": [
    "param_grid = {\"n_neighbors\": range(1,11)}\n",
    "\n",
    "metrica = 'f1_weighted' \n",
    "\n",
    "knn = GridSearchCV(estimator =KNeighborsClassifier() ,\n",
    "                           param_grid = param_grid,\n",
    "                           scoring = metrica,\n",
    "                           cv = 5,\n",
    "                           verbose = 10)"
   ]
  },
  {
   "cell_type": "code",
   "execution_count": 84,
   "id": "6fcd899c",
   "metadata": {},
   "outputs": [
    {
     "name": "stdout",
     "output_type": "stream",
     "text": [
      "Fitting 5 folds for each of 10 candidates, totalling 50 fits\n",
      "[CV 1/5; 1/10] START n_neighbors=1..............................................\n",
      "[CV 1/5; 1/10] END ...............n_neighbors=1;, score=0.865 total time=   0.4s\n",
      "[CV 2/5; 1/10] START n_neighbors=1..............................................\n",
      "[CV 2/5; 1/10] END ...............n_neighbors=1;, score=0.830 total time=   0.0s\n",
      "[CV 3/5; 1/10] START n_neighbors=1..............................................\n",
      "[CV 3/5; 1/10] END ...............n_neighbors=1;, score=0.870 total time=   0.0s\n",
      "[CV 4/5; 1/10] START n_neighbors=1..............................................\n",
      "[CV 4/5; 1/10] END ...............n_neighbors=1;, score=0.832 total time=   0.0s\n",
      "[CV 5/5; 1/10] START n_neighbors=1..............................................\n",
      "[CV 5/5; 1/10] END ...............n_neighbors=1;, score=0.822 total time=   0.0s\n",
      "[CV 1/5; 2/10] START n_neighbors=2..............................................\n",
      "[CV 1/5; 2/10] END ...............n_neighbors=2;, score=0.865 total time=   0.0s\n",
      "[CV 2/5; 2/10] START n_neighbors=2..............................................\n",
      "[CV 2/5; 2/10] END ...............n_neighbors=2;, score=0.814 total time=   0.0s\n",
      "[CV 3/5; 2/10] START n_neighbors=2..............................................\n",
      "[CV 3/5; 2/10] END ...............n_neighbors=2;, score=0.912 total time=   0.0s\n",
      "[CV 4/5; 2/10] START n_neighbors=2..............................................\n",
      "[CV 4/5; 2/10] END ...............n_neighbors=2;, score=0.827 total time=   0.0s\n",
      "[CV 5/5; 2/10] START n_neighbors=2..............................................\n",
      "[CV 5/5; 2/10] END ...............n_neighbors=2;, score=0.829 total time=   0.0s\n",
      "[CV 1/5; 3/10] START n_neighbors=3..............................................\n",
      "[CV 1/5; 3/10] END ...............n_neighbors=3;, score=0.890 total time=   0.0s\n",
      "[CV 2/5; 3/10] START n_neighbors=3..............................................\n",
      "[CV 2/5; 3/10] END ...............n_neighbors=3;, score=0.841 total time=   0.0s\n",
      "[CV 3/5; 3/10] START n_neighbors=3..............................................\n",
      "[CV 3/5; 3/10] END ...............n_neighbors=3;, score=0.934 total time=   0.0s\n",
      "[CV 4/5; 3/10] START n_neighbors=3..............................................\n",
      "[CV 4/5; 3/10] END ...............n_neighbors=3;, score=0.820 total time=   0.0s\n",
      "[CV 5/5; 3/10] START n_neighbors=3..............................................\n",
      "[CV 5/5; 3/10] END ...............n_neighbors=3;, score=0.866 total time=   0.0s\n",
      "[CV 1/5; 4/10] START n_neighbors=4..............................................\n",
      "[CV 1/5; 4/10] END ...............n_neighbors=4;, score=0.888 total time=   0.0s\n",
      "[CV 2/5; 4/10] START n_neighbors=4..............................................\n",
      "[CV 2/5; 4/10] END ...............n_neighbors=4;, score=0.850 total time=   0.0s\n",
      "[CV 3/5; 4/10] START n_neighbors=4..............................................\n",
      "[CV 3/5; 4/10] END ...............n_neighbors=4;, score=0.934 total time=   0.0s\n",
      "[CV 4/5; 4/10] START n_neighbors=4..............................................\n",
      "[CV 4/5; 4/10] END ...............n_neighbors=4;, score=0.851 total time=   0.0s\n",
      "[CV 5/5; 4/10] START n_neighbors=4..............................................\n",
      "[CV 5/5; 4/10] END ...............n_neighbors=4;, score=0.841 total time=   0.0s\n",
      "[CV 1/5; 5/10] START n_neighbors=5..............................................\n",
      "[CV 1/5; 5/10] END ...............n_neighbors=5;, score=0.889 total time=   0.0s\n",
      "[CV 2/5; 5/10] START n_neighbors=5..............................................\n",
      "[CV 2/5; 5/10] END ...............n_neighbors=5;, score=0.853 total time=   0.0s\n",
      "[CV 3/5; 5/10] START n_neighbors=5..............................................\n",
      "[CV 3/5; 5/10] END ...............n_neighbors=5;, score=0.934 total time=   0.0s\n",
      "[CV 4/5; 5/10] START n_neighbors=5..............................................\n",
      "[CV 4/5; 5/10] END ...............n_neighbors=5;, score=0.820 total time=   0.0s\n",
      "[CV 5/5; 5/10] START n_neighbors=5..............................................\n",
      "[CV 5/5; 5/10] END ...............n_neighbors=5;, score=0.877 total time=   0.0s\n",
      "[CV 1/5; 6/10] START n_neighbors=6..............................................\n",
      "[CV 1/5; 6/10] END ...............n_neighbors=6;, score=0.899 total time=   0.0s\n",
      "[CV 2/5; 6/10] START n_neighbors=6..............................................\n",
      "[CV 2/5; 6/10] END ...............n_neighbors=6;, score=0.862 total time=   0.0s\n",
      "[CV 3/5; 6/10] START n_neighbors=6..............................................\n",
      "[CV 3/5; 6/10] END ...............n_neighbors=6;, score=0.934 total time=   0.0s\n",
      "[CV 4/5; 6/10] START n_neighbors=6..............................................\n",
      "[CV 4/5; 6/10] END ...............n_neighbors=6;, score=0.839 total time=   0.0s\n",
      "[CV 5/5; 6/10] START n_neighbors=6..............................................\n",
      "[CV 5/5; 6/10] END ...............n_neighbors=6;, score=0.865 total time=   0.0s\n",
      "[CV 1/5; 7/10] START n_neighbors=7..............................................\n",
      "[CV 1/5; 7/10] END ...............n_neighbors=7;, score=0.889 total time=   0.0s\n",
      "[CV 2/5; 7/10] START n_neighbors=7..............................................\n",
      "[CV 2/5; 7/10] END ...............n_neighbors=7;, score=0.862 total time=   0.0s\n",
      "[CV 3/5; 7/10] START n_neighbors=7..............................................\n",
      "[CV 3/5; 7/10] END ...............n_neighbors=7;, score=0.934 total time=   0.0s\n",
      "[CV 4/5; 7/10] START n_neighbors=7..............................................\n",
      "[CV 4/5; 7/10] END ...............n_neighbors=7;, score=0.829 total time=   0.0s\n",
      "[CV 5/5; 7/10] START n_neighbors=7..............................................\n",
      "[CV 5/5; 7/10] END ...............n_neighbors=7;, score=0.854 total time=   0.0s\n",
      "[CV 1/5; 8/10] START n_neighbors=8..............................................\n",
      "[CV 1/5; 8/10] END ...............n_neighbors=8;, score=0.875 total time=   0.0s\n",
      "[CV 2/5; 8/10] START n_neighbors=8..............................................\n",
      "[CV 2/5; 8/10] END ...............n_neighbors=8;, score=0.862 total time=   0.0s\n",
      "[CV 3/5; 8/10] START n_neighbors=8..............................................\n",
      "[CV 3/5; 8/10] END ...............n_neighbors=8;, score=0.934 total time=   0.0s\n",
      "[CV 4/5; 8/10] START n_neighbors=8..............................................\n",
      "[CV 4/5; 8/10] END ...............n_neighbors=8;, score=0.839 total time=   0.0s\n",
      "[CV 5/5; 8/10] START n_neighbors=8..............................................\n",
      "[CV 5/5; 8/10] END ...............n_neighbors=8;, score=0.865 total time=   0.0s\n",
      "[CV 1/5; 9/10] START n_neighbors=9..............................................\n",
      "[CV 1/5; 9/10] END ...............n_neighbors=9;, score=0.899 total time=   0.0s\n",
      "[CV 2/5; 9/10] START n_neighbors=9..............................................\n",
      "[CV 2/5; 9/10] END ...............n_neighbors=9;, score=0.862 total time=   0.0s\n",
      "[CV 3/5; 9/10] START n_neighbors=9..............................................\n",
      "[CV 3/5; 9/10] END ...............n_neighbors=9;, score=0.934 total time=   0.0s\n",
      "[CV 4/5; 9/10] START n_neighbors=9..............................................\n",
      "[CV 4/5; 9/10] END ...............n_neighbors=9;, score=0.839 total time=   0.0s\n",
      "[CV 5/5; 9/10] START n_neighbors=9..............................................\n",
      "[CV 5/5; 9/10] END ...............n_neighbors=9;, score=0.865 total time=   0.0s\n",
      "[CV 1/5; 10/10] START n_neighbors=10............................................\n",
      "[CV 1/5; 10/10] END .............n_neighbors=10;, score=0.887 total time=   0.0s\n",
      "[CV 2/5; 10/10] START n_neighbors=10............................................\n",
      "[CV 2/5; 10/10] END .............n_neighbors=10;, score=0.850 total time=   0.0s\n",
      "[CV 3/5; 10/10] START n_neighbors=10............................................\n",
      "[CV 3/5; 10/10] END .............n_neighbors=10;, score=0.934 total time=   0.0s\n",
      "[CV 4/5; 10/10] START n_neighbors=10............................................\n",
      "[CV 4/5; 10/10] END .............n_neighbors=10;, score=0.839 total time=   0.0s\n",
      "[CV 5/5; 10/10] START n_neighbors=10............................................\n",
      "[CV 5/5; 10/10] END .............n_neighbors=10;, score=0.865 total time=   0.0s\n"
     ]
    },
    {
     "data": {
      "text/html": [
       "<style>#sk-container-id-9 {color: black;}#sk-container-id-9 pre{padding: 0;}#sk-container-id-9 div.sk-toggleable {background-color: white;}#sk-container-id-9 label.sk-toggleable__label {cursor: pointer;display: block;width: 100%;margin-bottom: 0;padding: 0.3em;box-sizing: border-box;text-align: center;}#sk-container-id-9 label.sk-toggleable__label-arrow:before {content: \"▸\";float: left;margin-right: 0.25em;color: #696969;}#sk-container-id-9 label.sk-toggleable__label-arrow:hover:before {color: black;}#sk-container-id-9 div.sk-estimator:hover label.sk-toggleable__label-arrow:before {color: black;}#sk-container-id-9 div.sk-toggleable__content {max-height: 0;max-width: 0;overflow: hidden;text-align: left;background-color: #f0f8ff;}#sk-container-id-9 div.sk-toggleable__content pre {margin: 0.2em;color: black;border-radius: 0.25em;background-color: #f0f8ff;}#sk-container-id-9 input.sk-toggleable__control:checked~div.sk-toggleable__content {max-height: 200px;max-width: 100%;overflow: auto;}#sk-container-id-9 input.sk-toggleable__control:checked~label.sk-toggleable__label-arrow:before {content: \"▾\";}#sk-container-id-9 div.sk-estimator input.sk-toggleable__control:checked~label.sk-toggleable__label {background-color: #d4ebff;}#sk-container-id-9 div.sk-label input.sk-toggleable__control:checked~label.sk-toggleable__label {background-color: #d4ebff;}#sk-container-id-9 input.sk-hidden--visually {border: 0;clip: rect(1px 1px 1px 1px);clip: rect(1px, 1px, 1px, 1px);height: 1px;margin: -1px;overflow: hidden;padding: 0;position: absolute;width: 1px;}#sk-container-id-9 div.sk-estimator {font-family: monospace;background-color: #f0f8ff;border: 1px dotted black;border-radius: 0.25em;box-sizing: border-box;margin-bottom: 0.5em;}#sk-container-id-9 div.sk-estimator:hover {background-color: #d4ebff;}#sk-container-id-9 div.sk-parallel-item::after {content: \"\";width: 100%;border-bottom: 1px solid gray;flex-grow: 1;}#sk-container-id-9 div.sk-label:hover label.sk-toggleable__label {background-color: #d4ebff;}#sk-container-id-9 div.sk-serial::before {content: \"\";position: absolute;border-left: 1px solid gray;box-sizing: border-box;top: 0;bottom: 0;left: 50%;z-index: 0;}#sk-container-id-9 div.sk-serial {display: flex;flex-direction: column;align-items: center;background-color: white;padding-right: 0.2em;padding-left: 0.2em;position: relative;}#sk-container-id-9 div.sk-item {position: relative;z-index: 1;}#sk-container-id-9 div.sk-parallel {display: flex;align-items: stretch;justify-content: center;background-color: white;position: relative;}#sk-container-id-9 div.sk-item::before, #sk-container-id-9 div.sk-parallel-item::before {content: \"\";position: absolute;border-left: 1px solid gray;box-sizing: border-box;top: 0;bottom: 0;left: 50%;z-index: -1;}#sk-container-id-9 div.sk-parallel-item {display: flex;flex-direction: column;z-index: 1;position: relative;background-color: white;}#sk-container-id-9 div.sk-parallel-item:first-child::after {align-self: flex-end;width: 50%;}#sk-container-id-9 div.sk-parallel-item:last-child::after {align-self: flex-start;width: 50%;}#sk-container-id-9 div.sk-parallel-item:only-child::after {width: 0;}#sk-container-id-9 div.sk-dashed-wrapped {border: 1px dashed gray;margin: 0 0.4em 0.5em 0.4em;box-sizing: border-box;padding-bottom: 0.4em;background-color: white;}#sk-container-id-9 div.sk-label label {font-family: monospace;font-weight: bold;display: inline-block;line-height: 1.2em;}#sk-container-id-9 div.sk-label-container {text-align: center;}#sk-container-id-9 div.sk-container {/* jupyter's `normalize.less` sets `[hidden] { display: none; }` but bootstrap.min.css set `[hidden] { display: none !important; }` so we also need the `!important` here to be able to override the default hidden behavior on the sphinx rendered scikit-learn.org. See: https://github.com/scikit-learn/scikit-learn/issues/21755 */display: inline-block !important;position: relative;}#sk-container-id-9 div.sk-text-repr-fallback {display: none;}</style><div id=\"sk-container-id-9\" class=\"sk-top-container\"><div class=\"sk-text-repr-fallback\"><pre>GridSearchCV(cv=5, estimator=KNeighborsClassifier(),\n",
       "             param_grid={&#x27;n_neighbors&#x27;: range(1, 11)}, scoring=&#x27;f1_weighted&#x27;,\n",
       "             verbose=10)</pre><b>In a Jupyter environment, please rerun this cell to show the HTML representation or trust the notebook. <br />On GitHub, the HTML representation is unable to render, please try loading this page with nbviewer.org.</b></div><div class=\"sk-container\" hidden><div class=\"sk-item sk-dashed-wrapped\"><div class=\"sk-label-container\"><div class=\"sk-label sk-toggleable\"><input class=\"sk-toggleable__control sk-hidden--visually\" id=\"sk-estimator-id-25\" type=\"checkbox\" ><label for=\"sk-estimator-id-25\" class=\"sk-toggleable__label sk-toggleable__label-arrow\">GridSearchCV</label><div class=\"sk-toggleable__content\"><pre>GridSearchCV(cv=5, estimator=KNeighborsClassifier(),\n",
       "             param_grid={&#x27;n_neighbors&#x27;: range(1, 11)}, scoring=&#x27;f1_weighted&#x27;,\n",
       "             verbose=10)</pre></div></div></div><div class=\"sk-parallel\"><div class=\"sk-parallel-item\"><div class=\"sk-item\"><div class=\"sk-label-container\"><div class=\"sk-label sk-toggleable\"><input class=\"sk-toggleable__control sk-hidden--visually\" id=\"sk-estimator-id-26\" type=\"checkbox\" ><label for=\"sk-estimator-id-26\" class=\"sk-toggleable__label sk-toggleable__label-arrow\">estimator: KNeighborsClassifier</label><div class=\"sk-toggleable__content\"><pre>KNeighborsClassifier()</pre></div></div></div><div class=\"sk-serial\"><div class=\"sk-item\"><div class=\"sk-estimator sk-toggleable\"><input class=\"sk-toggleable__control sk-hidden--visually\" id=\"sk-estimator-id-27\" type=\"checkbox\" ><label for=\"sk-estimator-id-27\" class=\"sk-toggleable__label sk-toggleable__label-arrow\">KNeighborsClassifier</label><div class=\"sk-toggleable__content\"><pre>KNeighborsClassifier()</pre></div></div></div></div></div></div></div></div></div></div>"
      ],
      "text/plain": [
       "GridSearchCV(cv=5, estimator=KNeighborsClassifier(),\n",
       "             param_grid={'n_neighbors': range(1, 11)}, scoring='f1_weighted',\n",
       "             verbose=10)"
      ]
     },
     "execution_count": 84,
     "metadata": {},
     "output_type": "execute_result"
    }
   ],
   "source": [
    "knn.fit(X_train,y_train)"
   ]
  },
  {
   "cell_type": "code",
   "execution_count": 86,
   "id": "2300e32a",
   "metadata": {},
   "outputs": [
    {
     "data": {
      "text/plain": [
       "{'n_neighbors': 6}"
      ]
     },
     "execution_count": 86,
     "metadata": {},
     "output_type": "execute_result"
    }
   ],
   "source": [
    "knn.best_params_"
   ]
  },
  {
   "cell_type": "code",
   "execution_count": 87,
   "id": "d1e60aec",
   "metadata": {},
   "outputs": [
    {
     "data": {
      "text/plain": [
       "0.8798757375370239"
      ]
     },
     "execution_count": 87,
     "metadata": {},
     "output_type": "execute_result"
    }
   ],
   "source": [
    "knn.best_score_"
   ]
  },
  {
   "cell_type": "markdown",
   "id": "2d4d5982",
   "metadata": {},
   "source": [
    "### Metricas para o treino"
   ]
  },
  {
   "cell_type": "code",
   "execution_count": 34,
   "id": "bc37947f",
   "metadata": {},
   "outputs": [],
   "source": [
    "y_pred_knn_treino = knn.predict(X_train)"
   ]
  },
  {
   "cell_type": "code",
   "execution_count": 35,
   "id": "f52bf7c8",
   "metadata": {},
   "outputs": [
    {
     "name": "stdout",
     "output_type": "stream",
     "text": [
      "              precision    recall  f1-score   support\n",
      "\n",
      "           0       0.88      0.96      0.92       286\n",
      "           1       0.92      0.78      0.84       169\n",
      "\n",
      "    accuracy                           0.89       455\n",
      "   macro avg       0.90      0.87      0.88       455\n",
      "weighted avg       0.89      0.89      0.89       455\n",
      "\n"
     ]
    }
   ],
   "source": [
    "print(metrics.classification_report(y_train,y_pred_knn_treino)) "
   ]
  },
  {
   "cell_type": "code",
   "execution_count": 36,
   "id": "f12b8e3f",
   "metadata": {},
   "outputs": [
    {
     "data": {
      "image/png": "[encoded data removed]",
      "text/plain": [
       "<Figure size 432x288 with 2 Axes>"
      ]
     },
     "metadata": {
      "needs_background": "light"
     },
     "output_type": "display_data"
    }
   ],
   "source": [
    "ConfusionMatrixDisplay(confusion_matrix=confusion_matrix(y_train, y_pred_knn_treino)).plot(cmap=\"Greys\")\n",
    "\n",
    "plt.show()"
   ]
  },
  {
   "cell_type": "markdown",
   "id": "8d877260",
   "metadata": {},
   "source": [
    "### Metricas para o teste"
   ]
  },
  {
   "cell_type": "code",
   "execution_count": 37,
   "id": "99320300",
   "metadata": {},
   "outputs": [],
   "source": [
    "y_pred_knn = knn.predict(X_test)"
   ]
  },
  {
   "cell_type": "code",
   "execution_count": 38,
   "id": "63a4bca0",
   "metadata": {},
   "outputs": [
    {
     "name": "stdout",
     "output_type": "stream",
     "text": [
      "              precision    recall  f1-score   support\n",
      "\n",
      "           0       0.92      0.99      0.95        71\n",
      "           1       0.97      0.86      0.91        43\n",
      "\n",
      "    accuracy                           0.94       114\n",
      "   macro avg       0.95      0.92      0.93       114\n",
      "weighted avg       0.94      0.94      0.94       114\n",
      "\n"
     ]
    }
   ],
   "source": [
    "print(metrics.classification_report(y_test,y_pred_knn)) "
   ]
  },
  {
   "cell_type": "code",
   "execution_count": 39,
   "id": "cf7921e5",
   "metadata": {},
   "outputs": [
    {
     "data": {
      "image/png": "[encoded data removed]",
      "text/plain": [
       "<Figure size 432x288 with 2 Axes>"
      ]
     },
     "metadata": {
      "needs_background": "light"
     },
     "output_type": "display_data"
    }
   ],
   "source": [
    "ConfusionMatrixDisplay(confusion_matrix=confusion_matrix(y_test, y_pred_knn)).plot(cmap=\"Purples\")\n",
    "\n",
    "plt.show()"
   ]
  },
  {
   "cell_type": "code",
   "execution_count": 40,
   "id": "4bac438d",
   "metadata": {},
   "outputs": [],
   "source": [
    "y_prob = knn.predict_proba(X_test)[:, 1]\n",
    "fpr, tpr, thresholds = roc_curve(y_test, y_prob)\n",
    "roc_auc = auc(fpr, tpr)"
   ]
  },
  {
   "cell_type": "code",
   "execution_count": 41,
   "id": "6fd1bc07",
   "metadata": {},
   "outputs": [
    {
     "data": {
      "application/vnd.plotly.v1+json": {
       "config": {
        "plotlyServerURL": "https://plot.ly"
       },
       "data": [
        {
         "fillpattern": {
          "shape": ""
         },
         "hovertemplate": "Falso Positivo=%{x}<br>Verdadeiro Postivo=%{y}<extra></extra>",
         "legendgroup": "",
         "line": {
          "color": "#636efa"
         },
         "marker": {
          "symbol": "circle"
         },
         "mode": "lines",
         "name": "",
         "orientation": "v",
         "showlegend": false,
         "stackgroup": "1",
         "type": "scatter",
         "x": [
          0,
          0,
          0,
          0.014084507042253521,
          0.07042253521126761,
          0.14084507042253522,
          0.4507042253521127,
          1
         ],
         "xaxis": "x",
         "y": [
          0,
          0.5116279069767442,
          0.7209302325581395,
          0.8604651162790697,
          0.8604651162790697,
          0.9302325581395349,
          0.9767441860465116,
          1
         ],
         "yaxis": "y"
        }
       ],
       "layout": {
        "height": 500,
        "legend": {
         "tracegroupgap": 0
        },
        "shapes": [
         {
          "line": {
           "dash": "dash"
          },
          "type": "line",
          "x0": 0,
          "x1": 1,
          "y0": 0,
          "y1": 1
         }
        ],
        "template": {
         "data": {
          "bar": [
           {
            "error_x": {
             "color": "#2a3f5f"
            },
            "error_y": {
             "color": "#2a3f5f"
            },
            "marker": {
             "line": {
              "color": "#E5ECF6",
              "width": 0.5
             },
             "pattern": {
              "fillmode": "overlay",
              "size": 10,
              "solidity": 0.2
             }
            },
            "type": "bar"
           }
          ],
          "barpolar": [
           {
            "marker": {
             "line": {
              "color": "#E5ECF6",
              "width": 0.5
             },
             "pattern": {
              "fillmode": "overlay",
              "size": 10,
              "solidity": 0.2
             }
            },
            "type": "barpolar"
           }
          ],
          "carpet": [
           {
            "aaxis": {
             "endlinecolor": "#2a3f5f",
             "gridcolor": "white",
             "linecolor": "white",
             "minorgridcolor": "white",
             "startlinecolor": "#2a3f5f"
            },
            "baxis": {
             "endlinecolor": "#2a3f5f",
             "gridcolor": "white",
             "linecolor": "white",
             "minorgridcolor": "white",
             "startlinecolor": "#2a3f5f"
            },
            "type": "carpet"
           }
          ],
          "choropleth": [
           {
            "colorbar": {
             "outlinewidth": 0,
             "ticks": ""
            },
            "type": "choropleth"
           }
          ],
          "contour": [
           {
            "colorbar": {
             "outlinewidth": 0,
             "ticks": ""
            },
            "colorscale": [
             [
              0,
              "#0d0887"
             ],
             [
              0.1111111111111111,
              "#46039f"
             ],
             [
              0.2222222222222222,
              "#7201a8"
             ],
             [
              0.3333333333333333,
              "#9c179e"
             ],
             [
              0.4444444444444444,
              "#bd3786"
             ],
             [
              0.5555555555555556,
              "#d8576b"
             ],
             [
              0.6666666666666666,
              "#ed7953"
             ],
             [
              0.7777777777777778,
              "#fb9f3a"
             ],
             [
              0.8888888888888888,
              "#fdca26"
             ],
             [
              1,
              "#f0f921"
             ]
            ],
            "type": "contour"
           }
          ],
          "contourcarpet": [
           {
            "colorbar": {
             "outlinewidth": 0,
             "ticks": ""
            },
            "type": "contourcarpet"
           }
          ],
          "heatmap": [
           {
            "colorbar": {
             "outlinewidth": 0,
             "ticks": ""
            },
            "colorscale": [
             [
              0,
              "#0d0887"
             ],
             [
              0.1111111111111111,
              "#46039f"
             ],
             [
              0.2222222222222222,
              "#7201a8"
             ],
             [
              0.3333333333333333,
              "#9c179e"
             ],
             [
              0.4444444444444444,
              "#bd3786"
             ],
             [
              0.5555555555555556,
              "#d8576b"
             ],
             [
              0.6666666666666666,
              "#ed7953"
             ],
             [
              0.7777777777777778,
              "#fb9f3a"
             ],
             [
              0.8888888888888888,
              "#fdca26"
             ],
             [
              1,
              "#f0f921"
             ]
            ],
            "type": "heatmap"
           }
          ],
          "heatmapgl": [
           {
            "colorbar": {
             "outlinewidth": 0,
             "ticks": ""
            },
            "colorscale": [
             [
              0,
              "#0d0887"
             ],
             [
              0.1111111111111111,
              "#46039f"
             ],
             [
              0.2222222222222222,
              "#7201a8"
             ],
             [
              0.3333333333333333,
              "#9c179e"
             ],
             [
              0.4444444444444444,
              "#bd3786"
             ],
             [
              0.5555555555555556,
              "#d8576b"
             ],
             [
              0.6666666666666666,
              "#ed7953"
             ],
             [
              0.7777777777777778,
              "#fb9f3a"
             ],
             [
              0.8888888888888888,
              "#fdca26"
             ],
             [
              1,
              "#f0f921"
             ]
            ],
            "type": "heatmapgl"
           }
          ],
          "histogram": [
           {
            "marker": {
             "pattern": {
              "fillmode": "overlay",
              "size": 10,
              "solidity": 0.2
             }
            },
            "type": "histogram"
           }
          ],
          "histogram2d": [
           {
            "colorbar": {
             "outlinewidth": 0,
             "ticks": ""
            },
            "colorscale": [
             [
              0,
              "#0d0887"
             ],
             [
              0.1111111111111111,
              "#46039f"
             ],
             [
              0.2222222222222222,
              "#7201a8"
             ],
             [
              0.3333333333333333,
              "#9c179e"
             ],
             [
              0.4444444444444444,
              "#bd3786"
             ],
             [
              0.5555555555555556,
              "#d8576b"
             ],
             [
              0.6666666666666666,
              "#ed7953"
             ],
             [
              0.7777777777777778,
              "#fb9f3a"
             ],
             [
              0.8888888888888888,
              "#fdca26"
             ],
             [
              1,
              "#f0f921"
             ]
            ],
            "type": "histogram2d"
           }
          ],
          "histogram2dcontour": [
           {
            "colorbar": {
             "outlinewidth": 0,
             "ticks": ""
            },
            "colorscale": [
             [
              0,
              "#0d0887"
             ],
             [
              0.1111111111111111,
              "#46039f"
             ],
             [
              0.2222222222222222,
              "#7201a8"
             ],
             [
              0.3333333333333333,
              "#9c179e"
             ],
             [
              0.4444444444444444,
              "#bd3786"
             ],
             [
              0.5555555555555556,
              "#d8576b"
             ],
             [
              0.6666666666666666,
              "#ed7953"
             ],
             [
              0.7777777777777778,
              "#fb9f3a"
             ],
             [
              0.8888888888888888,
              "#fdca26"
             ],
             [
              1,
              "#f0f921"
             ]
            ],
            "type": "histogram2dcontour"
           }
          ],
          "mesh3d": [
           {
            "colorbar": {
             "outlinewidth": 0,
             "ticks": ""
            },
            "type": "mesh3d"
           }
          ],
          "parcoords": [
           {
            "line": {
             "colorbar": {
              "outlinewidth": 0,
              "ticks": ""
             }
            },
            "type": "parcoords"
           }
          ],
          "pie": [
           {
            "automargin": true,
            "type": "pie"
           }
          ],
          "scatter": [
           {
            "fillpattern": {
             "fillmode": "overlay",
             "size": 10,
             "solidity": 0.2
            },
            "type": "scatter"
           }
          ],
          "scatter3d": [
           {
            "line": {
             "colorbar": {
              "outlinewidth": 0,
              "ticks": ""
             }
            },
            "marker": {
             "colorbar": {
              "outlinewidth": 0,
              "ticks": ""
             }
            },
            "type": "scatter3d"
           }
          ],
          "scattercarpet": [
           {
            "marker": {
             "colorbar": {
              "outlinewidth": 0,
              "ticks": ""
             }
            },
            "type": "scattercarpet"
           }
          ],
          "scattergeo": [
           {
            "marker": {
             "colorbar": {
              "outlinewidth": 0,
              "ticks": ""
             }
            },
            "type": "scattergeo"
           }
          ],
          "scattergl": [
           {
            "marker": {
             "colorbar": {
              "outlinewidth": 0,
              "ticks": ""
             }
            },
            "type": "scattergl"
           }
          ],
          "scattermapbox": [
           {
            "marker": {
             "colorbar": {
              "outlinewidth": 0,
              "ticks": ""
             }
            },
            "type": "scattermapbox"
           }
          ],
          "scatterpolar": [
           {
            "marker": {
             "colorbar": {
              "outlinewidth": 0,
              "ticks": ""
             }
            },
            "type": "scatterpolar"
           }
          ],
          "scatterpolargl": [
           {
            "marker": {
             "colorbar": {
              "outlinewidth": 0,
              "ticks": ""
             }
            },
            "type": "scatterpolargl"
           }
          ],
          "scatterternary": [
           {
            "marker": {
             "colorbar": {
              "outlinewidth": 0,
              "ticks": ""
             }
            },
            "type": "scatterternary"
           }
          ],
          "surface": [
           {
            "colorbar": {
             "outlinewidth": 0,
             "ticks": ""
            },
            "colorscale": [
             [
              0,
              "#0d0887"
             ],
             [
              0.1111111111111111,
              "#46039f"
             ],
             [
              0.2222222222222222,
              "#7201a8"
             ],
             [
              0.3333333333333333,
              "#9c179e"
             ],
             [
              0.4444444444444444,
              "#bd3786"
             ],
             [
              0.5555555555555556,
              "#d8576b"
             ],
             [
              0.6666666666666666,
              "#ed7953"
             ],
             [
              0.7777777777777778,
              "#fb9f3a"
             ],
             [
              0.8888888888888888,
              "#fdca26"
             ],
             [
              1,
              "#f0f921"
             ]
            ],
            "type": "surface"
           }
          ],
          "table": [
           {
            "cells": {
             "fill": {
              "color": "#EBF0F8"
             },
             "line": {
              "color": "white"
             }
            },
            "header": {
             "fill": {
              "color": "#C8D4E3"
             },
             "line": {
              "color": "white"
             }
            },
            "type": "table"
           }
          ]
         },
         "layout": {
          "annotationdefaults": {
           "arrowcolor": "#2a3f5f",
           "arrowhead": 0,
           "arrowwidth": 1
          },
          "autotypenumbers": "strict",
          "coloraxis": {
           "colorbar": {
            "outlinewidth": 0,
            "ticks": ""
           }
          },
          "colorscale": {
           "diverging": [
            [
             0,
             "#8e0152"
            ],
            [
             0.1,
             "#c51b7d"
            ],
            [
             0.2,
             "#de77ae"
            ],
            [
             0.3,
             "#f1b6da"
            ],
            [
             0.4,
             "#fde0ef"
            ],
            [
             0.5,
             "#f7f7f7"
            ],
            [
             0.6,
             "#e6f5d0"
            ],
            [
             0.7,
             "#b8e186"
            ],
            [
             0.8,
             "#7fbc41"
            ],
            [
             0.9,
             "#4d9221"
            ],
            [
             1,
             "#276419"
            ]
           ],
           "sequential": [
            [
             0,
             "#0d0887"
            ],
            [
             0.1111111111111111,
             "#46039f"
            ],
            [
             0.2222222222222222,
             "#7201a8"
            ],
            [
             0.3333333333333333,
             "#9c179e"
            ],
            [
             0.4444444444444444,
             "#bd3786"
            ],
            [
             0.5555555555555556,
             "#d8576b"
            ],
            [
             0.6666666666666666,
             "#ed7953"
            ],
            [
             0.7777777777777778,
             "#fb9f3a"
            ],
            [
             0.8888888888888888,
             "#fdca26"
            ],
            [
             1,
             "#f0f921"
            ]
           ],
           "sequentialminus": [
            [
             0,
             "#0d0887"
            ],
            [
             0.1111111111111111,
             "#46039f"
            ],
            [
             0.2222222222222222,
             "#7201a8"
            ],
            [
             0.3333333333333333,
             "#9c179e"
            ],
            [
             0.4444444444444444,
             "#bd3786"
            ],
            [
             0.5555555555555556,
             "#d8576b"
            ],
            [
             0.6666666666666666,
             "#ed7953"
            ],
            [
             0.7777777777777778,
             "#fb9f3a"
            ],
            [
             0.8888888888888888,
             "#fdca26"
            ],
            [
             1,
             "#f0f921"
            ]
           ]
          },
          "colorway": [
           "#636efa",
           "#EF553B",
           "#00cc96",
           "#ab63fa",
           "#FFA15A",
           "#19d3f3",
           "#FF6692",
           "#B6E880",
           "#FF97FF",
           "#FECB52"
          ],
          "font": {
           "color": "#2a3f5f"
          },
          "geo": {
           "bgcolor": "white",
           "lakecolor": "white",
           "landcolor": "#E5ECF6",
           "showlakes": true,
           "showland": true,
           "subunitcolor": "white"
          },
          "hoverlabel": {
           "align": "left"
          },
          "hovermode": "closest",
          "mapbox": {
           "style": "light"
          },
          "paper_bgcolor": "white",
          "plot_bgcolor": "#E5ECF6",
          "polar": {
           "angularaxis": {
            "gridcolor": "white",
            "linecolor": "white",
            "ticks": ""
           },
           "bgcolor": "#E5ECF6",
           "radialaxis": {
            "gridcolor": "white",
            "linecolor": "white",
            "ticks": ""
           }
          },
          "scene": {
           "xaxis": {
            "backgroundcolor": "#E5ECF6",
            "gridcolor": "white",
            "gridwidth": 2,
            "linecolor": "white",
            "showbackground": true,
            "ticks": "",
            "zerolinecolor": "white"
           },
           "yaxis": {
            "backgroundcolor": "#E5ECF6",
            "gridcolor": "white",
            "gridwidth": 2,
            "linecolor": "white",
            "showbackground": true,
            "ticks": "",
            "zerolinecolor": "white"
           },
           "zaxis": {
            "backgroundcolor": "#E5ECF6",
            "gridcolor": "white",
            "gridwidth": 2,
            "linecolor": "white",
            "showbackground": true,
            "ticks": "",
            "zerolinecolor": "white"
           }
          },
          "shapedefaults": {
           "line": {
            "color": "#2a3f5f"
           }
          },
          "ternary": {
           "aaxis": {
            "gridcolor": "white",
            "linecolor": "white",
            "ticks": ""
           },
           "baxis": {
            "gridcolor": "white",
            "linecolor": "white",
            "ticks": ""
           },
           "bgcolor": "#E5ECF6",
           "caxis": {
            "gridcolor": "white",
            "linecolor": "white",
            "ticks": ""
           }
          },
          "title": {
           "x": 0.05
          },
          "xaxis": {
           "automargin": true,
           "gridcolor": "white",
           "linecolor": "white",
           "ticks": "",
           "title": {
            "standoff": 15
           },
           "zerolinecolor": "white",
           "zerolinewidth": 2
          },
          "yaxis": {
           "automargin": true,
           "gridcolor": "white",
           "linecolor": "white",
           "ticks": "",
           "title": {
            "standoff": 15
           },
           "zerolinecolor": "white",
           "zerolinewidth": 2
          }
         }
        },
        "title": {
         "text": "ROC Curve (AUC=0.9610)"
        },
        "width": 700,
        "xaxis": {
         "anchor": "y",
         "constrain": "domain",
         "domain": [
          0,
          1
         ],
         "title": {
          "text": "Falso Positivo"
         }
        },
        "yaxis": {
         "anchor": "x",
         "domain": [
          0,
          1
         ],
         "scaleanchor": "x",
         "scaleratio": 1,
         "title": {
          "text": "Verdadeiro Postivo"
         }
        }
       }
      },
      "text/html": [
       "<div>                            <div id=\"fa5e48b8-fdd2-4f74-be3a-f94eb7f25e5a\" class=\"plotly-graph-div\" style=\"height:500px; width:700px;\"></div>            <script type=\"text/javascript\">                require([\"plotly\"], function(Plotly) {                    window.PLOTLYENV=window.PLOTLYENV || {};                                    if (document.getElementById(\"fa5e48b8-fdd2-4f74-be3a-f94eb7f25e5a\")) {                    Plotly.newPlot(                        \"fa5e48b8-fdd2-4f74-be3a-f94eb7f25e5a\",                        [{\"fillpattern\":{\"shape\":\"\"},\"hovertemplate\":\"Falso Positivo=%{x}\\u003cbr\\u003eVerdadeiro Postivo=%{y}\\u003cextra\\u003e\\u003c\\u002fextra\\u003e\",\"legendgroup\":\"\",\"line\":{\"color\":\"#636efa\"},\"marker\":{\"symbol\":\"circle\"},\"mode\":\"lines\",\"name\":\"\",\"orientation\":\"v\",\"showlegend\":false,\"stackgroup\":\"1\",\"x\":[0.0,0.0,0.0,0.014084507042253521,0.07042253521126761,0.14084507042253522,0.4507042253521127,1.0],\"xaxis\":\"x\",\"y\":[0.0,0.5116279069767442,0.7209302325581395,0.8604651162790697,0.8604651162790697,0.9302325581395349,0.9767441860465116,1.0],\"yaxis\":\"y\",\"type\":\"scatter\"}],                        {\"template\":{\"data\":{\"histogram2dcontour\":[{\"type\":\"histogram2dcontour\",\"colorbar\":{\"outlinewidth\":0,\"ticks\":\"\"},\"colorscale\":[[0.0,\"#0d0887\"],[0.1111111111111111,\"#46039f\"],[0.2222222222222222,\"#7201a8\"],[0.3333333333333333,\"#9c179e\"],[0.4444444444444444,\"#bd3786\"],[0.5555555555555556,\"#d8576b\"],[0.6666666666666666,\"#ed7953\"],[0.7777777777777778,\"#fb9f3a\"],[0.8888888888888888,\"#fdca26\"],[1.0,\"#f0f921\"]]}],\"choropleth\":[{\"type\":\"choropleth\",\"colorbar\":{\"outlinewidth\":0,\"ticks\":\"\"}}],\"histogram2d\":[{\"type\":\"histogram2d\",\"colorbar\":{\"outlinewidth\":0,\"ticks\":\"\"},\"colorscale\":[[0.0,\"#0d0887\"],[0.1111111111111111,\"#46039f\"],[0.2222222222222222,\"#7201a8\"],[0.3333333333333333,\"#9c179e\"],[0.4444444444444444,\"#bd3786\"],[0.5555555555555556,\"#d8576b\"],[0.6666666666666666,\"#ed7953\"],[0.7777777777777778,\"#fb9f3a\"],[0.8888888888888888,\"#fdca26\"],[1.0,\"#f0f921\"]]}],\"heatmap\":[{\"type\":\"heatmap\",\"colorbar\":{\"outlinewidth\":0,\"ticks\":\"\"},\"colorscale\":[[0.0,\"#0d0887\"],[0.1111111111111111,\"#46039f\"],[0.2222222222222222,\"#7201a8\"],[0.3333333333333333,\"#9c179e\"],[0.4444444444444444,\"#bd3786\"],[0.5555555555555556,\"#d8576b\"],[0.6666666666666666,\"#ed7953\"],[0.7777777777777778,\"#fb9f3a\"],[0.8888888888888888,\"#fdca26\"],[1.0,\"#f0f921\"]]}],\"heatmapgl\":[{\"type\":\"heatmapgl\",\"colorbar\":{\"outlinewidth\":0,\"ticks\":\"\"},\"colorscale\":[[0.0,\"#0d0887\"],[0.1111111111111111,\"#46039f\"],[0.2222222222222222,\"#7201a8\"],[0.3333333333333333,\"#9c179e\"],[0.4444444444444444,\"#bd3786\"],[0.5555555555555556,\"#d8576b\"],[0.6666666666666666,\"#ed7953\"],[0.7777777777777778,\"#fb9f3a\"],[0.8888888888888888,\"#fdca26\"],[1.0,\"#f0f921\"]]}],\"contourcarpet\":[{\"type\":\"contourcarpet\",\"colorbar\":{\"outlinewidth\":0,\"ticks\":\"\"}}],\"contour\":[{\"type\":\"contour\",\"colorbar\":{\"outlinewidth\":0,\"ticks\":\"\"},\"colorscale\":[[0.0,\"#0d0887\"],[0.1111111111111111,\"#46039f\"],[0.2222222222222222,\"#7201a8\"],[0.3333333333333333,\"#9c179e\"],[0.4444444444444444,\"#bd3786\"],[0.5555555555555556,\"#d8576b\"],[0.6666666666666666,\"#ed7953\"],[0.7777777777777778,\"#fb9f3a\"],[0.8888888888888888,\"#fdca26\"],[1.0,\"#f0f921\"]]}],\"surface\":[{\"type\":\"surface\",\"colorbar\":{\"outlinewidth\":0,\"ticks\":\"\"},\"colorscale\":[[0.0,\"#0d0887\"],[0.1111111111111111,\"#46039f\"],[0.2222222222222222,\"#7201a8\"],[0.3333333333333333,\"#9c179e\"],[0.4444444444444444,\"#bd3786\"],[0.5555555555555556,\"#d8576b\"],[0.6666666666666666,\"#ed7953\"],[0.7777777777777778,\"#fb9f3a\"],[0.8888888888888888,\"#fdca26\"],[1.0,\"#f0f921\"]]}],\"mesh3d\":[{\"type\":\"mesh3d\",\"colorbar\":{\"outlinewidth\":0,\"ticks\":\"\"}}],\"scatter\":[{\"fillpattern\":{\"fillmode\":\"overlay\",\"size\":10,\"solidity\":0.2},\"type\":\"scatter\"}],\"parcoords\":[{\"type\":\"parcoords\",\"line\":{\"colorbar\":{\"outlinewidth\":0,\"ticks\":\"\"}}}],\"scatterpolargl\":[{\"type\":\"scatterpolargl\",\"marker\":{\"colorbar\":{\"outlinewidth\":0,\"ticks\":\"\"}}}],\"bar\":[{\"error_x\":{\"color\":\"#2a3f5f\"},\"error_y\":{\"color\":\"#2a3f5f\"},\"marker\":{\"line\":{\"color\":\"#E5ECF6\",\"width\":0.5},\"pattern\":{\"fillmode\":\"overlay\",\"size\":10,\"solidity\":0.2}},\"type\":\"bar\"}],\"scattergeo\":[{\"type\":\"scattergeo\",\"marker\":{\"colorbar\":{\"outlinewidth\":0,\"ticks\":\"\"}}}],\"scatterpolar\":[{\"type\":\"scatterpolar\",\"marker\":{\"colorbar\":{\"outlinewidth\":0,\"ticks\":\"\"}}}],\"histogram\":[{\"marker\":{\"pattern\":{\"fillmode\":\"overlay\",\"size\":10,\"solidity\":0.2}},\"type\":\"histogram\"}],\"scattergl\":[{\"type\":\"scattergl\",\"marker\":{\"colorbar\":{\"outlinewidth\":0,\"ticks\":\"\"}}}],\"scatter3d\":[{\"type\":\"scatter3d\",\"line\":{\"colorbar\":{\"outlinewidth\":0,\"ticks\":\"\"}},\"marker\":{\"colorbar\":{\"outlinewidth\":0,\"ticks\":\"\"}}}],\"scattermapbox\":[{\"type\":\"scattermapbox\",\"marker\":{\"colorbar\":{\"outlinewidth\":0,\"ticks\":\"\"}}}],\"scatterternary\":[{\"type\":\"scatterternary\",\"marker\":{\"colorbar\":{\"outlinewidth\":0,\"ticks\":\"\"}}}],\"scattercarpet\":[{\"type\":\"scattercarpet\",\"marker\":{\"colorbar\":{\"outlinewidth\":0,\"ticks\":\"\"}}}],\"carpet\":[{\"aaxis\":{\"endlinecolor\":\"#2a3f5f\",\"gridcolor\":\"white\",\"linecolor\":\"white\",\"minorgridcolor\":\"white\",\"startlinecolor\":\"#2a3f5f\"},\"baxis\":{\"endlinecolor\":\"#2a3f5f\",\"gridcolor\":\"white\",\"linecolor\":\"white\",\"minorgridcolor\":\"white\",\"startlinecolor\":\"#2a3f5f\"},\"type\":\"carpet\"}],\"table\":[{\"cells\":{\"fill\":{\"color\":\"#EBF0F8\"},\"line\":{\"color\":\"white\"}},\"header\":{\"fill\":{\"color\":\"#C8D4E3\"},\"line\":{\"color\":\"white\"}},\"type\":\"table\"}],\"barpolar\":[{\"marker\":{\"line\":{\"color\":\"#E5ECF6\",\"width\":0.5},\"pattern\":{\"fillmode\":\"overlay\",\"size\":10,\"solidity\":0.2}},\"type\":\"barpolar\"}],\"pie\":[{\"automargin\":true,\"type\":\"pie\"}]},\"layout\":{\"autotypenumbers\":\"strict\",\"colorway\":[\"#636efa\",\"#EF553B\",\"#00cc96\",\"#ab63fa\",\"#FFA15A\",\"#19d3f3\",\"#FF6692\",\"#B6E880\",\"#FF97FF\",\"#FECB52\"],\"font\":{\"color\":\"#2a3f5f\"},\"hovermode\":\"closest\",\"hoverlabel\":{\"align\":\"left\"},\"paper_bgcolor\":\"white\",\"plot_bgcolor\":\"#E5ECF6\",\"polar\":{\"bgcolor\":\"#E5ECF6\",\"angularaxis\":{\"gridcolor\":\"white\",\"linecolor\":\"white\",\"ticks\":\"\"},\"radialaxis\":{\"gridcolor\":\"white\",\"linecolor\":\"white\",\"ticks\":\"\"}},\"ternary\":{\"bgcolor\":\"#E5ECF6\",\"aaxis\":{\"gridcolor\":\"white\",\"linecolor\":\"white\",\"ticks\":\"\"},\"baxis\":{\"gridcolor\":\"white\",\"linecolor\":\"white\",\"ticks\":\"\"},\"caxis\":{\"gridcolor\":\"white\",\"linecolor\":\"white\",\"ticks\":\"\"}},\"coloraxis\":{\"colorbar\":{\"outlinewidth\":0,\"ticks\":\"\"}},\"colorscale\":{\"sequential\":[[0.0,\"#0d0887\"],[0.1111111111111111,\"#46039f\"],[0.2222222222222222,\"#7201a8\"],[0.3333333333333333,\"#9c179e\"],[0.4444444444444444,\"#bd3786\"],[0.5555555555555556,\"#d8576b\"],[0.6666666666666666,\"#ed7953\"],[0.7777777777777778,\"#fb9f3a\"],[0.8888888888888888,\"#fdca26\"],[1.0,\"#f0f921\"]],\"sequentialminus\":[[0.0,\"#0d0887\"],[0.1111111111111111,\"#46039f\"],[0.2222222222222222,\"#7201a8\"],[0.3333333333333333,\"#9c179e\"],[0.4444444444444444,\"#bd3786\"],[0.5555555555555556,\"#d8576b\"],[0.6666666666666666,\"#ed7953\"],[0.7777777777777778,\"#fb9f3a\"],[0.8888888888888888,\"#fdca26\"],[1.0,\"#f0f921\"]],\"diverging\":[[0,\"#8e0152\"],[0.1,\"#c51b7d\"],[0.2,\"#de77ae\"],[0.3,\"#f1b6da\"],[0.4,\"#fde0ef\"],[0.5,\"#f7f7f7\"],[0.6,\"#e6f5d0\"],[0.7,\"#b8e186\"],[0.8,\"#7fbc41\"],[0.9,\"#4d9221\"],[1,\"#276419\"]]},\"xaxis\":{\"gridcolor\":\"white\",\"linecolor\":\"white\",\"ticks\":\"\",\"title\":{\"standoff\":15},\"zerolinecolor\":\"white\",\"automargin\":true,\"zerolinewidth\":2},\"yaxis\":{\"gridcolor\":\"white\",\"linecolor\":\"white\",\"ticks\":\"\",\"title\":{\"standoff\":15},\"zerolinecolor\":\"white\",\"automargin\":true,\"zerolinewidth\":2},\"scene\":{\"xaxis\":{\"backgroundcolor\":\"#E5ECF6\",\"gridcolor\":\"white\",\"linecolor\":\"white\",\"showbackground\":true,\"ticks\":\"\",\"zerolinecolor\":\"white\",\"gridwidth\":2},\"yaxis\":{\"backgroundcolor\":\"#E5ECF6\",\"gridcolor\":\"white\",\"linecolor\":\"white\",\"showbackground\":true,\"ticks\":\"\",\"zerolinecolor\":\"white\",\"gridwidth\":2},\"zaxis\":{\"backgroundcolor\":\"#E5ECF6\",\"gridcolor\":\"white\",\"linecolor\":\"white\",\"showbackground\":true,\"ticks\":\"\",\"zerolinecolor\":\"white\",\"gridwidth\":2}},\"shapedefaults\":{\"line\":{\"color\":\"#2a3f5f\"}},\"annotationdefaults\":{\"arrowcolor\":\"#2a3f5f\",\"arrowhead\":0,\"arrowwidth\":1},\"geo\":{\"bgcolor\":\"white\",\"landcolor\":\"#E5ECF6\",\"subunitcolor\":\"white\",\"showland\":true,\"showlakes\":true,\"lakecolor\":\"white\"},\"title\":{\"x\":0.05},\"mapbox\":{\"style\":\"light\"}}},\"xaxis\":{\"anchor\":\"y\",\"domain\":[0.0,1.0],\"title\":{\"text\":\"Falso Positivo\"},\"constrain\":\"domain\"},\"yaxis\":{\"anchor\":\"x\",\"domain\":[0.0,1.0],\"title\":{\"text\":\"Verdadeiro Postivo\"},\"scaleanchor\":\"x\",\"scaleratio\":1},\"legend\":{\"tracegroupgap\":0},\"title\":{\"text\":\"ROC Curve (AUC=0.9610)\"},\"height\":500,\"width\":700,\"shapes\":[{\"line\":{\"dash\":\"dash\"},\"type\":\"line\",\"x0\":0,\"x1\":1,\"y0\":0,\"y1\":1}]},                        {\"responsive\": true}                    ).then(function(){\n",
       "                            \n",
       "var gd = document.getElementById('fa5e48b8-fdd2-4f74-be3a-f94eb7f25e5a');\n",
       "var x = new MutationObserver(function (mutations, observer) {{\n",
       "        var display = window.getComputedStyle(gd).display;\n",
       "        if (!display || display === 'none') {{\n",
       "            console.log([gd, 'removed!']);\n",
       "            Plotly.purge(gd);\n",
       "            observer.disconnect();\n",
       "        }}\n",
       "}});\n",
       "\n",
       "// Listen for the removal of the full notebook cells\n",
       "var notebookContainer = gd.closest('#notebook-container');\n",
       "if (notebookContainer) {{\n",
       "    x.observe(notebookContainer, {childList: true});\n",
       "}}\n",
       "\n",
       "// Listen for the clearing of the current output cell\n",
       "var outputEl = gd.closest('.output');\n",
       "if (outputEl) {{\n",
       "    x.observe(outputEl, {childList: true});\n",
       "}}\n",
       "\n",
       "                        })                };                });            </script>        </div>"
      ]
     },
     "metadata": {},
     "output_type": "display_data"
    }
   ],
   "source": [
    "fig = px.area(\n",
    "    x=fpr, y=tpr,\n",
    "    title=f'ROC Curve (AUC={auc(fpr, tpr):.4f})',\n",
    "    labels=dict(x='Falso Positivo', y='Verdadeiro Postivo'),\n",
    "    width=700, height=500\n",
    ")\n",
    "fig.add_shape(\n",
    "    type='line', line=dict(dash='dash'),\n",
    "    x0=0, x1=1, y0=0, y1=1\n",
    ")\n",
    "\n",
    "fig.update_yaxes(scaleanchor=\"x\", scaleratio=1)\n",
    "fig.update_xaxes(constrain='domain')\n",
    "fig.show()"
   ]
  },
  {
   "cell_type": "markdown",
   "id": "45d49dd8",
   "metadata": {},
   "source": [
    "## Decision Tree"
   ]
  },
  {
   "cell_type": "code",
   "execution_count": 126,
   "id": "22be527d",
   "metadata": {},
   "outputs": [],
   "source": [
    "param_grid = {\n",
    "                'max_depth': range(2,11)}\n",
    "\n",
    "metrica = \"f1_weighted\"\n",
    "\n",
    "dec_tree = GridSearchCV(estimator =  DecisionTreeClassifier(),\n",
    "                           param_grid = param_grid,\n",
    "                           scoring = metrica,\n",
    "                           cv = 5,\n",
    "                           verbose = 10)"
   ]
  },
  {
   "cell_type": "code",
   "execution_count": 127,
   "id": "c1c14053",
   "metadata": {},
   "outputs": [
    {
     "name": "stdout",
     "output_type": "stream",
     "text": [
      "Fitting 5 folds for each of 9 candidates, totalling 45 fits\n",
      "[CV 1/5; 1/9] START max_depth=2.................................................\n",
      "[CV 1/5; 1/9] END ..................max_depth=2;, score=0.854 total time=   0.0s\n",
      "[CV 2/5; 1/9] START max_depth=2.................................................\n",
      "[CV 2/5; 1/9] END ..................max_depth=2;, score=0.862 total time=   0.0s\n",
      "[CV 3/5; 1/9] START max_depth=2.................................................\n",
      "[CV 3/5; 1/9] END ..................max_depth=2;, score=0.892 total time=   0.0s\n",
      "[CV 4/5; 1/9] START max_depth=2.................................................\n",
      "[CV 4/5; 1/9] END ..................max_depth=2;, score=0.841 total time=   0.0s\n",
      "[CV 5/5; 1/9] START max_depth=2.................................................\n",
      "[CV 5/5; 1/9] END ..................max_depth=2;, score=0.860 total time=   0.0s\n",
      "[CV 1/5; 2/9] START max_depth=3.................................................\n",
      "[CV 1/5; 2/9] END ..................max_depth=3;, score=0.912 total time=   0.0s\n",
      "[CV 2/5; 2/9] START max_depth=3.................................................\n",
      "[CV 2/5; 2/9] END ..................max_depth=3;, score=0.877 total time=   0.0s\n",
      "[CV 3/5; 2/9] START max_depth=3.................................................\n",
      "[CV 3/5; 2/9] END ..................max_depth=3;, score=0.934 total time=   0.0s\n",
      "[CV 4/5; 2/9] START max_depth=3.................................................\n",
      "[CV 4/5; 2/9] END ..................max_depth=3;, score=0.844 total time=   0.0s\n",
      "[CV 5/5; 2/9] START max_depth=3.................................................\n",
      "[CV 5/5; 2/9] END ..................max_depth=3;, score=0.833 total time=   0.0s\n",
      "[CV 1/5; 3/9] START max_depth=4.................................................\n",
      "[CV 1/5; 3/9] END ..................max_depth=4;, score=0.921 total time=   0.0s\n",
      "[CV 2/5; 3/9] START max_depth=4.................................................\n",
      "[CV 2/5; 3/9] END ..................max_depth=4;, score=0.888 total time=   0.0s\n",
      "[CV 3/5; 3/9] START max_depth=4.................................................\n",
      "[CV 3/5; 3/9] END ..................max_depth=4;, score=0.902 total time=   0.0s\n",
      "[CV 4/5; 3/9] START max_depth=4.................................................\n",
      "[CV 4/5; 3/9] END ..................max_depth=4;, score=0.867 total time=   0.0s\n",
      "[CV 5/5; 3/9] START max_depth=4.................................................\n",
      "[CV 5/5; 3/9] END ..................max_depth=4;, score=0.833 total time=   0.0s\n",
      "[CV 1/5; 4/9] START max_depth=5.................................................\n",
      "[CV 1/5; 4/9] END ..................max_depth=5;, score=0.888 total time=   0.0s\n",
      "[CV 2/5; 4/9] START max_depth=5.................................................\n",
      "[CV 2/5; 4/9] END ..................max_depth=5;, score=0.889 total time=   0.0s\n",
      "[CV 3/5; 4/9] START max_depth=5.................................................\n",
      "[CV 3/5; 4/9] END ..................max_depth=5;, score=0.924 total time=   0.0s\n",
      "[CV 4/5; 4/9] START max_depth=5.................................................\n",
      "[CV 4/5; 4/9] END ..................max_depth=5;, score=0.867 total time=   0.0s\n",
      "[CV 5/5; 4/9] START max_depth=5.................................................\n",
      "[CV 5/5; 4/9] END ..................max_depth=5;, score=0.811 total time=   0.0s\n",
      "[CV 1/5; 5/9] START max_depth=6.................................................\n",
      "[CV 1/5; 5/9] END ..................max_depth=6;, score=0.879 total time=   0.0s\n",
      "[CV 2/5; 5/9] START max_depth=6.................................................\n",
      "[CV 2/5; 5/9] END ..................max_depth=6;, score=0.888 total time=   0.0s\n",
      "[CV 3/5; 5/9] START max_depth=6.................................................\n",
      "[CV 3/5; 5/9] END ..................max_depth=6;, score=0.945 total time=   0.0s\n",
      "[CV 4/5; 5/9] START max_depth=6.................................................\n",
      "[CV 4/5; 5/9] END ..................max_depth=6;, score=0.844 total time=   0.0s\n",
      "[CV 5/5; 5/9] START max_depth=6.................................................\n",
      "[CV 5/5; 5/9] END ..................max_depth=6;, score=0.820 total time=   0.0s\n",
      "[CV 1/5; 6/9] START max_depth=7.................................................\n",
      "[CV 1/5; 6/9] END ..................max_depth=7;, score=0.868 total time=   0.0s\n",
      "[CV 2/5; 6/9] START max_depth=7.................................................\n",
      "[CV 2/5; 6/9] END ..................max_depth=7;, score=0.900 total time=   0.0s\n",
      "[CV 3/5; 6/9] START max_depth=7.................................................\n",
      "[CV 3/5; 6/9] END ..................max_depth=7;, score=0.902 total time=   0.0s\n",
      "[CV 4/5; 6/9] START max_depth=7.................................................\n",
      "[CV 4/5; 6/9] END ..................max_depth=7;, score=0.823 total time=   0.0s\n",
      "[CV 5/5; 6/9] START max_depth=7.................................................\n",
      "[CV 5/5; 6/9] END ..................max_depth=7;, score=0.799 total time=   0.0s\n",
      "[CV 1/5; 7/9] START max_depth=8.................................................\n",
      "[CV 1/5; 7/9] END ..................max_depth=8;, score=0.899 total time=   0.0s\n",
      "[CV 2/5; 7/9] START max_depth=8.................................................\n",
      "[CV 2/5; 7/9] END ..................max_depth=8;, score=0.900 total time=   0.0s\n",
      "[CV 3/5; 7/9] START max_depth=8.................................................\n",
      "[CV 3/5; 7/9] END ..................max_depth=8;, score=0.913 total time=   0.0s\n",
      "[CV 4/5; 7/9] START max_depth=8.................................................\n",
      "[CV 4/5; 7/9] END ..................max_depth=8;, score=0.835 total time=   0.0s\n",
      "[CV 5/5; 7/9] START max_depth=8.................................................\n",
      "[CV 5/5; 7/9] END ..................max_depth=8;, score=0.823 total time=   0.0s\n",
      "[CV 1/5; 8/9] START max_depth=9.................................................\n",
      "[CV 1/5; 8/9] END ..................max_depth=9;, score=0.868 total time=   0.0s\n",
      "[CV 2/5; 8/9] START max_depth=9.................................................\n",
      "[CV 2/5; 8/9] END ..................max_depth=9;, score=0.889 total time=   0.0s\n",
      "[CV 3/5; 8/9] START max_depth=9.................................................\n",
      "[CV 3/5; 8/9] END ..................max_depth=9;, score=0.880 total time=   0.0s\n",
      "[CV 4/5; 8/9] START max_depth=9.................................................\n",
      "[CV 4/5; 8/9] END ..................max_depth=9;, score=0.835 total time=   0.0s\n",
      "[CV 5/5; 8/9] START max_depth=9.................................................\n",
      "[CV 5/5; 8/9] END ..................max_depth=9;, score=0.823 total time=   0.0s\n",
      "[CV 1/5; 9/9] START max_depth=10................................................\n",
      "[CV 1/5; 9/9] END .................max_depth=10;, score=0.858 total time=   0.0s\n",
      "[CV 2/5; 9/9] START max_depth=10................................................\n",
      "[CV 2/5; 9/9] END .................max_depth=10;, score=0.889 total time=   0.0s\n",
      "[CV 3/5; 9/9] START max_depth=10................................................\n",
      "[CV 3/5; 9/9] END .................max_depth=10;, score=0.945 total time=   0.0s\n",
      "[CV 4/5; 9/9] START max_depth=10................................................\n",
      "[CV 4/5; 9/9] END .................max_depth=10;, score=0.835 total time=   0.0s\n",
      "[CV 5/5; 9/9] START max_depth=10................................................\n",
      "[CV 5/5; 9/9] END .................max_depth=10;, score=0.811 total time=   0.0s\n"
     ]
    },
    {
     "data": {
      "text/html": [
       "<style>#sk-container-id-14 {color: black;}#sk-container-id-14 pre{padding: 0;}#sk-container-id-14 div.sk-toggleable {background-color: white;}#sk-container-id-14 label.sk-toggleable__label {cursor: pointer;display: block;width: 100%;margin-bottom: 0;padding: 0.3em;box-sizing: border-box;text-align: center;}#sk-container-id-14 label.sk-toggleable__label-arrow:before {content: \"▸\";float: left;margin-right: 0.25em;color: #696969;}#sk-container-id-14 label.sk-toggleable__label-arrow:hover:before {color: black;}#sk-container-id-14 div.sk-estimator:hover label.sk-toggleable__label-arrow:before {color: black;}#sk-container-id-14 div.sk-toggleable__content {max-height: 0;max-width: 0;overflow: hidden;text-align: left;background-color: #f0f8ff;}#sk-container-id-14 div.sk-toggleable__content pre {margin: 0.2em;color: black;border-radius: 0.25em;background-color: #f0f8ff;}#sk-container-id-14 input.sk-toggleable__control:checked~div.sk-toggleable__content {max-height: 200px;max-width: 100%;overflow: auto;}#sk-container-id-14 input.sk-toggleable__control:checked~label.sk-toggleable__label-arrow:before {content: \"▾\";}#sk-container-id-14 div.sk-estimator input.sk-toggleable__control:checked~label.sk-toggleable__label {background-color: #d4ebff;}#sk-container-id-14 div.sk-label input.sk-toggleable__control:checked~label.sk-toggleable__label {background-color: #d4ebff;}#sk-container-id-14 input.sk-hidden--visually {border: 0;clip: rect(1px 1px 1px 1px);clip: rect(1px, 1px, 1px, 1px);height: 1px;margin: -1px;overflow: hidden;padding: 0;position: absolute;width: 1px;}#sk-container-id-14 div.sk-estimator {font-family: monospace;background-color: #f0f8ff;border: 1px dotted black;border-radius: 0.25em;box-sizing: border-box;margin-bottom: 0.5em;}#sk-container-id-14 div.sk-estimator:hover {background-color: #d4ebff;}#sk-container-id-14 div.sk-parallel-item::after {content: \"\";width: 100%;border-bottom: 1px solid gray;flex-grow: 1;}#sk-container-id-14 div.sk-label:hover label.sk-toggleable__label {background-color: #d4ebff;}#sk-container-id-14 div.sk-serial::before {content: \"\";position: absolute;border-left: 1px solid gray;box-sizing: border-box;top: 0;bottom: 0;left: 50%;z-index: 0;}#sk-container-id-14 div.sk-serial {display: flex;flex-direction: column;align-items: center;background-color: white;padding-right: 0.2em;padding-left: 0.2em;position: relative;}#sk-container-id-14 div.sk-item {position: relative;z-index: 1;}#sk-container-id-14 div.sk-parallel {display: flex;align-items: stretch;justify-content: center;background-color: white;position: relative;}#sk-container-id-14 div.sk-item::before, #sk-container-id-14 div.sk-parallel-item::before {content: \"\";position: absolute;border-left: 1px solid gray;box-sizing: border-box;top: 0;bottom: 0;left: 50%;z-index: -1;}#sk-container-id-14 div.sk-parallel-item {display: flex;flex-direction: column;z-index: 1;position: relative;background-color: white;}#sk-container-id-14 div.sk-parallel-item:first-child::after {align-self: flex-end;width: 50%;}#sk-container-id-14 div.sk-parallel-item:last-child::after {align-self: flex-start;width: 50%;}#sk-container-id-14 div.sk-parallel-item:only-child::after {width: 0;}#sk-container-id-14 div.sk-dashed-wrapped {border: 1px dashed gray;margin: 0 0.4em 0.5em 0.4em;box-sizing: border-box;padding-bottom: 0.4em;background-color: white;}#sk-container-id-14 div.sk-label label {font-family: monospace;font-weight: bold;display: inline-block;line-height: 1.2em;}#sk-container-id-14 div.sk-label-container {text-align: center;}#sk-container-id-14 div.sk-container {/* jupyter's `normalize.less` sets `[hidden] { display: none; }` but bootstrap.min.css set `[hidden] { display: none !important; }` so we also need the `!important` here to be able to override the default hidden behavior on the sphinx rendered scikit-learn.org. See: https://github.com/scikit-learn/scikit-learn/issues/21755 */display: inline-block !important;position: relative;}#sk-container-id-14 div.sk-text-repr-fallback {display: none;}</style><div id=\"sk-container-id-14\" class=\"sk-top-container\"><div class=\"sk-text-repr-fallback\"><pre>GridSearchCV(cv=5, estimator=DecisionTreeClassifier(),\n",
       "             param_grid={&#x27;max_depth&#x27;: range(2, 11)}, scoring=&#x27;f1_weighted&#x27;,\n",
       "             verbose=10)</pre><b>In a Jupyter environment, please rerun this cell to show the HTML representation or trust the notebook. <br />On GitHub, the HTML representation is unable to render, please try loading this page with nbviewer.org.</b></div><div class=\"sk-container\" hidden><div class=\"sk-item sk-dashed-wrapped\"><div class=\"sk-label-container\"><div class=\"sk-label sk-toggleable\"><input class=\"sk-toggleable__control sk-hidden--visually\" id=\"sk-estimator-id-40\" type=\"checkbox\" ><label for=\"sk-estimator-id-40\" class=\"sk-toggleable__label sk-toggleable__label-arrow\">GridSearchCV</label><div class=\"sk-toggleable__content\"><pre>GridSearchCV(cv=5, estimator=DecisionTreeClassifier(),\n",
       "             param_grid={&#x27;max_depth&#x27;: range(2, 11)}, scoring=&#x27;f1_weighted&#x27;,\n",
       "             verbose=10)</pre></div></div></div><div class=\"sk-parallel\"><div class=\"sk-parallel-item\"><div class=\"sk-item\"><div class=\"sk-label-container\"><div class=\"sk-label sk-toggleable\"><input class=\"sk-toggleable__control sk-hidden--visually\" id=\"sk-estimator-id-41\" type=\"checkbox\" ><label for=\"sk-estimator-id-41\" class=\"sk-toggleable__label sk-toggleable__label-arrow\">estimator: DecisionTreeClassifier</label><div class=\"sk-toggleable__content\"><pre>DecisionTreeClassifier()</pre></div></div></div><div class=\"sk-serial\"><div class=\"sk-item\"><div class=\"sk-estimator sk-toggleable\"><input class=\"sk-toggleable__control sk-hidden--visually\" id=\"sk-estimator-id-42\" type=\"checkbox\" ><label for=\"sk-estimator-id-42\" class=\"sk-toggleable__label sk-toggleable__label-arrow\">DecisionTreeClassifier</label><div class=\"sk-toggleable__content\"><pre>DecisionTreeClassifier()</pre></div></div></div></div></div></div></div></div></div></div>"
      ],
      "text/plain": [
       "GridSearchCV(cv=5, estimator=DecisionTreeClassifier(),\n",
       "             param_grid={'max_depth': range(2, 11)}, scoring='f1_weighted',\n",
       "             verbose=10)"
      ]
     },
     "execution_count": 127,
     "metadata": {},
     "output_type": "execute_result"
    }
   ],
   "source": [
    "dec_tree.fit(X_train,y_train)"
   ]
  },
  {
   "cell_type": "code",
   "execution_count": 128,
   "id": "be05cffb",
   "metadata": {},
   "outputs": [
    {
     "data": {
      "text/plain": [
       "{'max_depth': 4}"
      ]
     },
     "execution_count": 128,
     "metadata": {},
     "output_type": "execute_result"
    }
   ],
   "source": [
    "dec_tree.best_params_"
   ]
  },
  {
   "cell_type": "code",
   "execution_count": 129,
   "id": "42e55abc",
   "metadata": {},
   "outputs": [
    {
     "data": {
      "text/plain": [
       "0.8821678350560141"
      ]
     },
     "execution_count": 129,
     "metadata": {},
     "output_type": "execute_result"
    }
   ],
   "source": [
    "dec_tree.best_score_"
   ]
  },
  {
   "cell_type": "code",
   "execution_count": 130,
   "id": "c160dc09",
   "metadata": {},
   "outputs": [],
   "source": [
    "y_pred_dt_treino = dec_tree.predict(X_train)"
   ]
  },
  {
   "cell_type": "code",
   "execution_count": 131,
   "id": "605cffdd",
   "metadata": {},
   "outputs": [
    {
     "name": "stdout",
     "output_type": "stream",
     "text": [
      "              precision    recall  f1-score   support\n",
      "\n",
      "           0       0.91      0.99      0.95       286\n",
      "           1       0.99      0.84      0.91       169\n",
      "\n",
      "    accuracy                           0.94       455\n",
      "   macro avg       0.95      0.92      0.93       455\n",
      "weighted avg       0.94      0.94      0.94       455\n",
      "\n"
     ]
    }
   ],
   "source": [
    "print(metrics.classification_report(y_train,y_pred_dt_treino)) "
   ]
  },
  {
   "cell_type": "code",
   "execution_count": 132,
   "id": "3d571514",
   "metadata": {},
   "outputs": [
    {
     "data": {
      "image/png": "[encoded data removed]",
      "text/plain": [
       "<Figure size 576x396 with 2 Axes>"
      ]
     },
     "metadata": {},
     "output_type": "display_data"
    }
   ],
   "source": [
    "ConfusionMatrixDisplay(confusion_matrix=confusion_matrix(y_train, y_pred_dt_treino)).plot(cmap=\"Greys\")\n",
    "\n",
    "plt.show()"
   ]
  },
  {
   "cell_type": "code",
   "execution_count": 133,
   "id": "9f6cb0e2",
   "metadata": {},
   "outputs": [],
   "source": [
    "y_pred_dt = dec_tree.predict(X_test)"
   ]
  },
  {
   "cell_type": "code",
   "execution_count": 134,
   "id": "e2c9df55",
   "metadata": {},
   "outputs": [
    {
     "name": "stdout",
     "output_type": "stream",
     "text": [
      "              precision    recall  f1-score   support\n",
      "\n",
      "           0       0.91      0.99      0.95        71\n",
      "           1       0.97      0.84      0.90        43\n",
      "\n",
      "    accuracy                           0.93       114\n",
      "   macro avg       0.94      0.91      0.92       114\n",
      "weighted avg       0.93      0.93      0.93       114\n",
      "\n"
     ]
    }
   ],
   "source": [
    "print(metrics.classification_report(y_test,y_pred_dt)) "
   ]
  },
  {
   "cell_type": "code",
   "execution_count": 135,
   "id": "96432866",
   "metadata": {},
   "outputs": [
    {
     "data": {
      "image/png": "[encoded data removed]",
      "text/plain": [
       "<Figure size 576x396 with 2 Axes>"
      ]
     },
     "metadata": {},
     "output_type": "display_data"
    }
   ],
   "source": [
    "ConfusionMatrixDisplay(confusion_matrix=confusion_matrix(y_test, y_pred_dt)).plot(cmap=\"Purples\")\n",
    "\n",
    "plt.show()"
   ]
  },
  {
   "cell_type": "markdown",
   "id": "af592fe9",
   "metadata": {},
   "source": [
    "### Random Forest"
   ]
  },
  {
   "cell_type": "code",
   "execution_count": 140,
   "id": "6416ba12",
   "metadata": {},
   "outputs": [],
   "source": [
    "param_grid = {'criterion' : ['gini', 'entropy'],'n_estimators' : [10, 100, 500, 1000],\n",
    "                'max_depth': range(2,5)}\n",
    "\n",
    "metrica = \"f1_weighted\"\n",
    "\n",
    "ran_for = GridSearchCV(estimator =  RandomForestClassifier(),\n",
    "                           param_grid = param_grid,\n",
    "                           scoring = metrica,\n",
    "                           cv = 5,\n",
    "                           verbose = 10)"
   ]
  },
  {
   "cell_type": "code",
   "execution_count": 141,
   "id": "8b753dc1",
   "metadata": {},
   "outputs": [
    {
     "name": "stdout",
     "output_type": "stream",
     "text": [
      "Fitting 5 folds for each of 24 candidates, totalling 120 fits\n",
      "[CV 1/5; 1/24] START criterion=gini, max_depth=2, n_estimators=10...............\n",
      "[CV 1/5; 1/24] END criterion=gini, max_depth=2, n_estimators=10;, score=0.897 total time=   0.0s\n",
      "[CV 2/5; 1/24] START criterion=gini, max_depth=2, n_estimators=10...............\n",
      "[CV 2/5; 1/24] END criterion=gini, max_depth=2, n_estimators=10;, score=0.862 total time=   0.0s\n",
      "[CV 3/5; 1/24] START criterion=gini, max_depth=2, n_estimators=10...............\n",
      "[CV 3/5; 1/24] END criterion=gini, max_depth=2, n_estimators=10;, score=0.934 total time=   0.0s\n",
      "[CV 4/5; 1/24] START criterion=gini, max_depth=2, n_estimators=10...............\n",
      "[CV 4/5; 1/24] END criterion=gini, max_depth=2, n_estimators=10;, score=0.853 total time=   0.0s\n",
      "[CV 5/5; 1/24] START criterion=gini, max_depth=2, n_estimators=10...............\n",
      "[CV 5/5; 1/24] END criterion=gini, max_depth=2, n_estimators=10;, score=0.854 total time=   0.0s\n",
      "[CV 1/5; 2/24] START criterion=gini, max_depth=2, n_estimators=100..............\n",
      "[CV 1/5; 2/24] END criterion=gini, max_depth=2, n_estimators=100;, score=0.886 total time=   0.2s\n",
      "[CV 2/5; 2/24] START criterion=gini, max_depth=2, n_estimators=100..............\n",
      "[CV 2/5; 2/24] END criterion=gini, max_depth=2, n_estimators=100;, score=0.862 total time=   0.2s\n",
      "[CV 3/5; 2/24] START criterion=gini, max_depth=2, n_estimators=100..............\n",
      "[CV 3/5; 2/24] END criterion=gini, max_depth=2, n_estimators=100;, score=0.934 total time=   0.3s\n",
      "[CV 4/5; 2/24] START criterion=gini, max_depth=2, n_estimators=100..............\n",
      "[CV 4/5; 2/24] END criterion=gini, max_depth=2, n_estimators=100;, score=0.841 total time=   0.2s\n",
      "[CV 5/5; 2/24] START criterion=gini, max_depth=2, n_estimators=100..............\n",
      "[CV 5/5; 2/24] END criterion=gini, max_depth=2, n_estimators=100;, score=0.854 total time=   0.2s\n",
      "[CV 1/5; 3/24] START criterion=gini, max_depth=2, n_estimators=500..............\n",
      "[CV 1/5; 3/24] END criterion=gini, max_depth=2, n_estimators=500;, score=0.898 total time=   1.3s\n",
      "[CV 2/5; 3/24] START criterion=gini, max_depth=2, n_estimators=500..............\n",
      "[CV 2/5; 3/24] END criterion=gini, max_depth=2, n_estimators=500;, score=0.874 total time=   1.3s\n",
      "[CV 3/5; 3/24] START criterion=gini, max_depth=2, n_estimators=500..............\n",
      "[CV 3/5; 3/24] END criterion=gini, max_depth=2, n_estimators=500;, score=0.945 total time=   1.3s\n",
      "[CV 4/5; 3/24] START criterion=gini, max_depth=2, n_estimators=500..............\n",
      "[CV 4/5; 3/24] END criterion=gini, max_depth=2, n_estimators=500;, score=0.841 total time=   1.3s\n",
      "[CV 5/5; 3/24] START criterion=gini, max_depth=2, n_estimators=500..............\n",
      "[CV 5/5; 3/24] END criterion=gini, max_depth=2, n_estimators=500;, score=0.854 total time=   1.3s\n",
      "[CV 1/5; 4/24] START criterion=gini, max_depth=2, n_estimators=1000.............\n",
      "[CV 1/5; 4/24] END criterion=gini, max_depth=2, n_estimators=1000;, score=0.910 total time=   3.4s\n",
      "[CV 2/5; 4/24] START criterion=gini, max_depth=2, n_estimators=1000.............\n",
      "[CV 2/5; 4/24] END criterion=gini, max_depth=2, n_estimators=1000;, score=0.862 total time=   2.7s\n",
      "[CV 3/5; 4/24] START criterion=gini, max_depth=2, n_estimators=1000.............\n",
      "[CV 3/5; 4/24] END criterion=gini, max_depth=2, n_estimators=1000;, score=0.945 total time=   2.7s\n",
      "[CV 4/5; 4/24] START criterion=gini, max_depth=2, n_estimators=1000.............\n",
      "[CV 4/5; 4/24] END criterion=gini, max_depth=2, n_estimators=1000;, score=0.841 total time=   3.0s\n",
      "[CV 5/5; 4/24] START criterion=gini, max_depth=2, n_estimators=1000.............\n",
      "[CV 5/5; 4/24] END criterion=gini, max_depth=2, n_estimators=1000;, score=0.854 total time=   2.7s\n",
      "[CV 1/5; 5/24] START criterion=gini, max_depth=3, n_estimators=10...............\n",
      "[CV 1/5; 5/24] END criterion=gini, max_depth=3, n_estimators=10;, score=0.889 total time=   0.0s\n",
      "[CV 2/5; 5/24] START criterion=gini, max_depth=3, n_estimators=10...............\n",
      "[CV 2/5; 5/24] END criterion=gini, max_depth=3, n_estimators=10;, score=0.874 total time=   0.0s\n",
      "[CV 3/5; 5/24] START criterion=gini, max_depth=3, n_estimators=10...............\n",
      "[CV 3/5; 5/24] END criterion=gini, max_depth=3, n_estimators=10;, score=0.956 total time=   0.0s\n",
      "[CV 4/5; 5/24] START criterion=gini, max_depth=3, n_estimators=10...............\n",
      "[CV 4/5; 5/24] END criterion=gini, max_depth=3, n_estimators=10;, score=0.865 total time=   0.0s\n",
      "[CV 5/5; 5/24] START criterion=gini, max_depth=3, n_estimators=10...............\n",
      "[CV 5/5; 5/24] END criterion=gini, max_depth=3, n_estimators=10;, score=0.865 total time=   0.0s\n",
      "[CV 1/5; 6/24] START criterion=gini, max_depth=3, n_estimators=100..............\n",
      "[CV 1/5; 6/24] END criterion=gini, max_depth=3, n_estimators=100;, score=0.899 total time=   0.2s\n",
      "[CV 2/5; 6/24] START criterion=gini, max_depth=3, n_estimators=100..............\n",
      "[CV 2/5; 6/24] END criterion=gini, max_depth=3, n_estimators=100;, score=0.898 total time=   0.2s\n",
      "[CV 3/5; 6/24] START criterion=gini, max_depth=3, n_estimators=100..............\n",
      "[CV 3/5; 6/24] END criterion=gini, max_depth=3, n_estimators=100;, score=0.956 total time=   0.2s\n",
      "[CV 4/5; 6/24] START criterion=gini, max_depth=3, n_estimators=100..............\n",
      "[CV 4/5; 6/24] END criterion=gini, max_depth=3, n_estimators=100;, score=0.843 total time=   0.2s\n",
      "[CV 5/5; 6/24] START criterion=gini, max_depth=3, n_estimators=100..............\n",
      "[CV 5/5; 6/24] END criterion=gini, max_depth=3, n_estimators=100;, score=0.877 total time=   0.2s\n",
      "[CV 1/5; 7/24] START criterion=gini, max_depth=3, n_estimators=500..............\n",
      "[CV 1/5; 7/24] END criterion=gini, max_depth=3, n_estimators=500;, score=0.899 total time=   1.6s\n",
      "[CV 2/5; 7/24] START criterion=gini, max_depth=3, n_estimators=500..............\n",
      "[CV 2/5; 7/24] END criterion=gini, max_depth=3, n_estimators=500;, score=0.886 total time=   1.4s\n",
      "[CV 3/5; 7/24] START criterion=gini, max_depth=3, n_estimators=500..............\n",
      "[CV 3/5; 7/24] END criterion=gini, max_depth=3, n_estimators=500;, score=0.956 total time=   1.4s\n",
      "[CV 4/5; 7/24] START criterion=gini, max_depth=3, n_estimators=500..............\n",
      "[CV 4/5; 7/24] END criterion=gini, max_depth=3, n_estimators=500;, score=0.865 total time=   1.6s\n",
      "[CV 5/5; 7/24] START criterion=gini, max_depth=3, n_estimators=500..............\n",
      "[CV 5/5; 7/24] END criterion=gini, max_depth=3, n_estimators=500;, score=0.866 total time=   1.4s\n",
      "[CV 1/5; 8/24] START criterion=gini, max_depth=3, n_estimators=1000.............\n",
      "[CV 1/5; 8/24] END criterion=gini, max_depth=3, n_estimators=1000;, score=0.899 total time=   2.9s\n",
      "[CV 2/5; 8/24] START criterion=gini, max_depth=3, n_estimators=1000.............\n",
      "[CV 2/5; 8/24] END criterion=gini, max_depth=3, n_estimators=1000;, score=0.898 total time=   3.3s\n",
      "[CV 3/5; 8/24] START criterion=gini, max_depth=3, n_estimators=1000.............\n",
      "[CV 3/5; 8/24] END criterion=gini, max_depth=3, n_estimators=1000;, score=0.956 total time=   3.6s\n",
      "[CV 4/5; 8/24] START criterion=gini, max_depth=3, n_estimators=1000.............\n",
      "[CV 4/5; 8/24] END criterion=gini, max_depth=3, n_estimators=1000;, score=0.854 total time=   3.1s\n",
      "[CV 5/5; 8/24] START criterion=gini, max_depth=3, n_estimators=1000.............\n",
      "[CV 5/5; 8/24] END criterion=gini, max_depth=3, n_estimators=1000;, score=0.877 total time=   3.0s\n",
      "[CV 1/5; 9/24] START criterion=gini, max_depth=4, n_estimators=10...............\n",
      "[CV 1/5; 9/24] END criterion=gini, max_depth=4, n_estimators=10;, score=0.922 total time=   0.0s\n",
      "[CV 2/5; 9/24] START criterion=gini, max_depth=4, n_estimators=10...............\n",
      "[CV 2/5; 9/24] END criterion=gini, max_depth=4, n_estimators=10;, score=0.899 total time=   0.0s\n",
      "[CV 3/5; 9/24] START criterion=gini, max_depth=4, n_estimators=10...............\n",
      "[CV 3/5; 9/24] END criterion=gini, max_depth=4, n_estimators=10;, score=0.945 total time=   0.0s\n",
      "[CV 4/5; 9/24] START criterion=gini, max_depth=4, n_estimators=10...............\n",
      "[CV 4/5; 9/24] END criterion=gini, max_depth=4, n_estimators=10;, score=0.898 total time=   0.0s\n",
      "[CV 5/5; 9/24] START criterion=gini, max_depth=4, n_estimators=10...............\n",
      "[CV 5/5; 9/24] END criterion=gini, max_depth=4, n_estimators=10;, score=0.877 total time=   0.0s\n",
      "[CV 1/5; 10/24] START criterion=gini, max_depth=4, n_estimators=100.............\n"
     ]
    },
    {
     "name": "stdout",
     "output_type": "stream",
     "text": [
      "[CV 1/5; 10/24] END criterion=gini, max_depth=4, n_estimators=100;, score=0.911 total time=   0.3s\n",
      "[CV 2/5; 10/24] START criterion=gini, max_depth=4, n_estimators=100.............\n",
      "[CV 2/5; 10/24] END criterion=gini, max_depth=4, n_estimators=100;, score=0.910 total time=   0.3s\n",
      "[CV 3/5; 10/24] START criterion=gini, max_depth=4, n_estimators=100.............\n",
      "[CV 3/5; 10/24] END criterion=gini, max_depth=4, n_estimators=100;, score=0.945 total time=   0.3s\n",
      "[CV 4/5; 10/24] START criterion=gini, max_depth=4, n_estimators=100.............\n",
      "[CV 4/5; 10/24] END criterion=gini, max_depth=4, n_estimators=100;, score=0.866 total time=   0.3s\n",
      "[CV 5/5; 10/24] START criterion=gini, max_depth=4, n_estimators=100.............\n",
      "[CV 5/5; 10/24] END criterion=gini, max_depth=4, n_estimators=100;, score=0.877 total time=   0.3s\n",
      "[CV 1/5; 11/24] START criterion=gini, max_depth=4, n_estimators=500.............\n",
      "[CV 1/5; 11/24] END criterion=gini, max_depth=4, n_estimators=500;, score=0.922 total time=   1.7s\n",
      "[CV 2/5; 11/24] START criterion=gini, max_depth=4, n_estimators=500.............\n",
      "[CV 2/5; 11/24] END criterion=gini, max_depth=4, n_estimators=500;, score=0.898 total time=   2.0s\n",
      "[CV 3/5; 11/24] START criterion=gini, max_depth=4, n_estimators=500.............\n",
      "[CV 3/5; 11/24] END criterion=gini, max_depth=4, n_estimators=500;, score=0.945 total time=   1.9s\n",
      "[CV 4/5; 11/24] START criterion=gini, max_depth=4, n_estimators=500.............\n",
      "[CV 4/5; 11/24] END criterion=gini, max_depth=4, n_estimators=500;, score=0.866 total time=   1.9s\n",
      "[CV 5/5; 11/24] START criterion=gini, max_depth=4, n_estimators=500.............\n",
      "[CV 5/5; 11/24] END criterion=gini, max_depth=4, n_estimators=500;, score=0.877 total time=   1.9s\n",
      "[CV 1/5; 12/24] START criterion=gini, max_depth=4, n_estimators=1000............\n",
      "[CV 1/5; 12/24] END criterion=gini, max_depth=4, n_estimators=1000;, score=0.922 total time=   3.9s\n",
      "[CV 2/5; 12/24] START criterion=gini, max_depth=4, n_estimators=1000............\n",
      "[CV 2/5; 12/24] END criterion=gini, max_depth=4, n_estimators=1000;, score=0.898 total time=   3.3s\n",
      "[CV 3/5; 12/24] START criterion=gini, max_depth=4, n_estimators=1000............\n",
      "[CV 3/5; 12/24] END criterion=gini, max_depth=4, n_estimators=1000;, score=0.945 total time=   3.2s\n",
      "[CV 4/5; 12/24] START criterion=gini, max_depth=4, n_estimators=1000............\n",
      "[CV 4/5; 12/24] END criterion=gini, max_depth=4, n_estimators=1000;, score=0.866 total time=   3.4s\n",
      "[CV 5/5; 12/24] START criterion=gini, max_depth=4, n_estimators=1000............\n",
      "[CV 5/5; 12/24] END criterion=gini, max_depth=4, n_estimators=1000;, score=0.877 total time=   3.2s\n",
      "[CV 1/5; 13/24] START criterion=entropy, max_depth=2, n_estimators=10...........\n",
      "[CV 1/5; 13/24] END criterion=entropy, max_depth=2, n_estimators=10;, score=0.898 total time=   0.0s\n",
      "[CV 2/5; 13/24] START criterion=entropy, max_depth=2, n_estimators=10...........\n",
      "[CV 2/5; 13/24] END criterion=entropy, max_depth=2, n_estimators=10;, score=0.862 total time=   0.0s\n",
      "[CV 3/5; 13/24] START criterion=entropy, max_depth=2, n_estimators=10...........\n",
      "[CV 3/5; 13/24] END criterion=entropy, max_depth=2, n_estimators=10;, score=0.945 total time=   0.0s\n",
      "[CV 4/5; 13/24] START criterion=entropy, max_depth=2, n_estimators=10...........\n",
      "[CV 4/5; 13/24] END criterion=entropy, max_depth=2, n_estimators=10;, score=0.822 total time=   0.0s\n",
      "[CV 5/5; 13/24] START criterion=entropy, max_depth=2, n_estimators=10...........\n",
      "[CV 5/5; 13/24] END criterion=entropy, max_depth=2, n_estimators=10;, score=0.843 total time=   0.0s\n",
      "[CV 1/5; 14/24] START criterion=entropy, max_depth=2, n_estimators=100..........\n",
      "[CV 1/5; 14/24] END criterion=entropy, max_depth=2, n_estimators=100;, score=0.898 total time=   0.2s\n",
      "[CV 2/5; 14/24] START criterion=entropy, max_depth=2, n_estimators=100..........\n",
      "[CV 2/5; 14/24] END criterion=entropy, max_depth=2, n_estimators=100;, score=0.862 total time=   0.2s\n",
      "[CV 3/5; 14/24] START criterion=entropy, max_depth=2, n_estimators=100..........\n",
      "[CV 3/5; 14/24] END criterion=entropy, max_depth=2, n_estimators=100;, score=0.934 total time=   0.2s\n",
      "[CV 4/5; 14/24] START criterion=entropy, max_depth=2, n_estimators=100..........\n",
      "[CV 4/5; 14/24] END criterion=entropy, max_depth=2, n_estimators=100;, score=0.841 total time=   0.2s\n",
      "[CV 5/5; 14/24] START criterion=entropy, max_depth=2, n_estimators=100..........\n",
      "[CV 5/5; 14/24] END criterion=entropy, max_depth=2, n_estimators=100;, score=0.854 total time=   0.2s\n",
      "[CV 1/5; 15/24] START criterion=entropy, max_depth=2, n_estimators=500..........\n",
      "[CV 1/5; 15/24] END criterion=entropy, max_depth=2, n_estimators=500;, score=0.910 total time=   1.3s\n",
      "[CV 2/5; 15/24] START criterion=entropy, max_depth=2, n_estimators=500..........\n",
      "[CV 2/5; 15/24] END criterion=entropy, max_depth=2, n_estimators=500;, score=0.850 total time=   1.4s\n",
      "[CV 3/5; 15/24] START criterion=entropy, max_depth=2, n_estimators=500..........\n",
      "[CV 3/5; 15/24] END criterion=entropy, max_depth=2, n_estimators=500;, score=0.934 total time=   1.6s\n",
      "[CV 4/5; 15/24] START criterion=entropy, max_depth=2, n_estimators=500..........\n",
      "[CV 4/5; 15/24] END criterion=entropy, max_depth=2, n_estimators=500;, score=0.841 total time=   1.4s\n",
      "[CV 5/5; 15/24] START criterion=entropy, max_depth=2, n_estimators=500..........\n",
      "[CV 5/5; 15/24] END criterion=entropy, max_depth=2, n_estimators=500;, score=0.854 total time=   1.4s\n",
      "[CV 1/5; 16/24] START criterion=entropy, max_depth=2, n_estimators=1000.........\n",
      "[CV 1/5; 16/24] END criterion=entropy, max_depth=2, n_estimators=1000;, score=0.909 total time=   3.1s\n",
      "[CV 2/5; 16/24] START criterion=entropy, max_depth=2, n_estimators=1000.........\n",
      "[CV 2/5; 16/24] END criterion=entropy, max_depth=2, n_estimators=1000;, score=0.850 total time=   2.8s\n",
      "[CV 3/5; 16/24] START criterion=entropy, max_depth=2, n_estimators=1000.........\n",
      "[CV 3/5; 16/24] END criterion=entropy, max_depth=2, n_estimators=1000;, score=0.934 total time=   2.8s\n",
      "[CV 4/5; 16/24] START criterion=entropy, max_depth=2, n_estimators=1000.........\n",
      "[CV 4/5; 16/24] END criterion=entropy, max_depth=2, n_estimators=1000;, score=0.841 total time=   2.8s\n",
      "[CV 5/5; 16/24] START criterion=entropy, max_depth=2, n_estimators=1000.........\n",
      "[CV 5/5; 16/24] END criterion=entropy, max_depth=2, n_estimators=1000;, score=0.854 total time=   2.8s\n",
      "[CV 1/5; 17/24] START criterion=entropy, max_depth=3, n_estimators=10...........\n",
      "[CV 1/5; 17/24] END criterion=entropy, max_depth=3, n_estimators=10;, score=0.955 total time=   0.0s\n",
      "[CV 2/5; 17/24] START criterion=entropy, max_depth=3, n_estimators=10...........\n",
      "[CV 2/5; 17/24] END criterion=entropy, max_depth=3, n_estimators=10;, score=0.886 total time=   0.0s\n",
      "[CV 3/5; 17/24] START criterion=entropy, max_depth=3, n_estimators=10...........\n",
      "[CV 3/5; 17/24] END criterion=entropy, max_depth=3, n_estimators=10;, score=0.945 total time=   0.0s\n",
      "[CV 4/5; 17/24] START criterion=entropy, max_depth=3, n_estimators=10...........\n",
      "[CV 4/5; 17/24] END criterion=entropy, max_depth=3, n_estimators=10;, score=0.865 total time=   0.0s\n",
      "[CV 5/5; 17/24] START criterion=entropy, max_depth=3, n_estimators=10...........\n",
      "[CV 5/5; 17/24] END criterion=entropy, max_depth=3, n_estimators=10;, score=0.877 total time=   0.0s\n",
      "[CV 1/5; 18/24] START criterion=entropy, max_depth=3, n_estimators=100..........\n",
      "[CV 1/5; 18/24] END criterion=entropy, max_depth=3, n_estimators=100;, score=0.899 total time=   0.2s\n",
      "[CV 2/5; 18/24] START criterion=entropy, max_depth=3, n_estimators=100..........\n",
      "[CV 2/5; 18/24] END criterion=entropy, max_depth=3, n_estimators=100;, score=0.898 total time=   0.3s\n",
      "[CV 3/5; 18/24] START criterion=entropy, max_depth=3, n_estimators=100..........\n",
      "[CV 3/5; 18/24] END criterion=entropy, max_depth=3, n_estimators=100;, score=0.956 total time=   0.2s\n",
      "[CV 4/5; 18/24] START criterion=entropy, max_depth=3, n_estimators=100..........\n",
      "[CV 4/5; 18/24] END criterion=entropy, max_depth=3, n_estimators=100;, score=0.865 total time=   0.2s\n",
      "[CV 5/5; 18/24] START criterion=entropy, max_depth=3, n_estimators=100..........\n",
      "[CV 5/5; 18/24] END criterion=entropy, max_depth=3, n_estimators=100;, score=0.878 total time=   0.2s\n",
      "[CV 1/5; 19/24] START criterion=entropy, max_depth=3, n_estimators=500..........\n",
      "[CV 1/5; 19/24] END criterion=entropy, max_depth=3, n_estimators=500;, score=0.899 total time=   1.6s\n",
      "[CV 2/5; 19/24] START criterion=entropy, max_depth=3, n_estimators=500..........\n"
     ]
    },
    {
     "name": "stdout",
     "output_type": "stream",
     "text": [
      "[CV 2/5; 19/24] END criterion=entropy, max_depth=3, n_estimators=500;, score=0.898 total time=   1.5s\n",
      "[CV 3/5; 19/24] START criterion=entropy, max_depth=3, n_estimators=500..........\n",
      "[CV 3/5; 19/24] END criterion=entropy, max_depth=3, n_estimators=500;, score=0.956 total time=   1.5s\n",
      "[CV 4/5; 19/24] START criterion=entropy, max_depth=3, n_estimators=500..........\n",
      "[CV 4/5; 19/24] END criterion=entropy, max_depth=3, n_estimators=500;, score=0.865 total time=   1.5s\n",
      "[CV 5/5; 19/24] START criterion=entropy, max_depth=3, n_estimators=500..........\n",
      "[CV 5/5; 19/24] END criterion=entropy, max_depth=3, n_estimators=500;, score=0.877 total time=   1.6s\n",
      "[CV 1/5; 20/24] START criterion=entropy, max_depth=3, n_estimators=1000.........\n",
      "[CV 1/5; 20/24] END criterion=entropy, max_depth=3, n_estimators=1000;, score=0.899 total time=   3.1s\n",
      "[CV 2/5; 20/24] START criterion=entropy, max_depth=3, n_estimators=1000.........\n",
      "[CV 2/5; 20/24] END criterion=entropy, max_depth=3, n_estimators=1000;, score=0.898 total time=   3.0s\n",
      "[CV 3/5; 20/24] START criterion=entropy, max_depth=3, n_estimators=1000.........\n",
      "[CV 3/5; 20/24] END criterion=entropy, max_depth=3, n_estimators=1000;, score=0.956 total time=   3.3s\n",
      "[CV 4/5; 20/24] START criterion=entropy, max_depth=3, n_estimators=1000.........\n",
      "[CV 4/5; 20/24] END criterion=entropy, max_depth=3, n_estimators=1000;, score=0.853 total time=   3.0s\n",
      "[CV 5/5; 20/24] START criterion=entropy, max_depth=3, n_estimators=1000.........\n",
      "[CV 5/5; 20/24] END criterion=entropy, max_depth=3, n_estimators=1000;, score=0.877 total time=   3.0s\n",
      "[CV 1/5; 21/24] START criterion=entropy, max_depth=4, n_estimators=10...........\n",
      "[CV 1/5; 21/24] END criterion=entropy, max_depth=4, n_estimators=10;, score=0.922 total time=   0.0s\n",
      "[CV 2/5; 21/24] START criterion=entropy, max_depth=4, n_estimators=10...........\n",
      "[CV 2/5; 21/24] END criterion=entropy, max_depth=4, n_estimators=10;, score=0.889 total time=   0.0s\n",
      "[CV 3/5; 21/24] START criterion=entropy, max_depth=4, n_estimators=10...........\n",
      "[CV 3/5; 21/24] END criterion=entropy, max_depth=4, n_estimators=10;, score=0.945 total time=   0.0s\n",
      "[CV 4/5; 21/24] START criterion=entropy, max_depth=4, n_estimators=10...........\n",
      "[CV 4/5; 21/24] END criterion=entropy, max_depth=4, n_estimators=10;, score=0.888 total time=   0.0s\n",
      "[CV 5/5; 21/24] START criterion=entropy, max_depth=4, n_estimators=10...........\n",
      "[CV 5/5; 21/24] END criterion=entropy, max_depth=4, n_estimators=10;, score=0.899 total time=   0.0s\n",
      "[CV 1/5; 22/24] START criterion=entropy, max_depth=4, n_estimators=100..........\n",
      "[CV 1/5; 22/24] END criterion=entropy, max_depth=4, n_estimators=100;, score=0.911 total time=   0.2s\n",
      "[CV 2/5; 22/24] START criterion=entropy, max_depth=4, n_estimators=100..........\n",
      "[CV 2/5; 22/24] END criterion=entropy, max_depth=4, n_estimators=100;, score=0.898 total time=   0.2s\n",
      "[CV 3/5; 22/24] START criterion=entropy, max_depth=4, n_estimators=100..........\n",
      "[CV 3/5; 22/24] END criterion=entropy, max_depth=4, n_estimators=100;, score=0.945 total time=   0.3s\n",
      "[CV 4/5; 22/24] START criterion=entropy, max_depth=4, n_estimators=100..........\n",
      "[CV 4/5; 22/24] END criterion=entropy, max_depth=4, n_estimators=100;, score=0.877 total time=   0.3s\n",
      "[CV 5/5; 22/24] START criterion=entropy, max_depth=4, n_estimators=100..........\n",
      "[CV 5/5; 22/24] END criterion=entropy, max_depth=4, n_estimators=100;, score=0.877 total time=   0.3s\n",
      "[CV 1/5; 23/24] START criterion=entropy, max_depth=4, n_estimators=500..........\n",
      "[CV 1/5; 23/24] END criterion=entropy, max_depth=4, n_estimators=500;, score=0.922 total time=   1.6s\n",
      "[CV 2/5; 23/24] START criterion=entropy, max_depth=4, n_estimators=500..........\n",
      "[CV 2/5; 23/24] END criterion=entropy, max_depth=4, n_estimators=500;, score=0.898 total time=   1.6s\n",
      "[CV 3/5; 23/24] START criterion=entropy, max_depth=4, n_estimators=500..........\n",
      "[CV 3/5; 23/24] END criterion=entropy, max_depth=4, n_estimators=500;, score=0.945 total time=   1.6s\n",
      "[CV 4/5; 23/24] START criterion=entropy, max_depth=4, n_estimators=500..........\n",
      "[CV 4/5; 23/24] END criterion=entropy, max_depth=4, n_estimators=500;, score=0.877 total time=   1.7s\n",
      "[CV 5/5; 23/24] START criterion=entropy, max_depth=4, n_estimators=500..........\n",
      "[CV 5/5; 23/24] END criterion=entropy, max_depth=4, n_estimators=500;, score=0.865 total time=   1.6s\n",
      "[CV 1/5; 24/24] START criterion=entropy, max_depth=4, n_estimators=1000.........\n",
      "[CV 1/5; 24/24] END criterion=entropy, max_depth=4, n_estimators=1000;, score=0.922 total time=   3.3s\n",
      "[CV 2/5; 24/24] START criterion=entropy, max_depth=4, n_estimators=1000.........\n",
      "[CV 2/5; 24/24] END criterion=entropy, max_depth=4, n_estimators=1000;, score=0.910 total time=   3.3s\n",
      "[CV 3/5; 24/24] START criterion=entropy, max_depth=4, n_estimators=1000.........\n",
      "[CV 3/5; 24/24] END criterion=entropy, max_depth=4, n_estimators=1000;, score=0.945 total time=   3.7s\n",
      "[CV 4/5; 24/24] START criterion=entropy, max_depth=4, n_estimators=1000.........\n",
      "[CV 4/5; 24/24] END criterion=entropy, max_depth=4, n_estimators=1000;, score=0.877 total time=   3.9s\n",
      "[CV 5/5; 24/24] START criterion=entropy, max_depth=4, n_estimators=1000.........\n",
      "[CV 5/5; 24/24] END criterion=entropy, max_depth=4, n_estimators=1000;, score=0.888 total time=   3.4s\n"
     ]
    },
    {
     "data": {
      "text/html": [
       "<style>#sk-container-id-16 {color: black;}#sk-container-id-16 pre{padding: 0;}#sk-container-id-16 div.sk-toggleable {background-color: white;}#sk-container-id-16 label.sk-toggleable__label {cursor: pointer;display: block;width: 100%;margin-bottom: 0;padding: 0.3em;box-sizing: border-box;text-align: center;}#sk-container-id-16 label.sk-toggleable__label-arrow:before {content: \"▸\";float: left;margin-right: 0.25em;color: #696969;}#sk-container-id-16 label.sk-toggleable__label-arrow:hover:before {color: black;}#sk-container-id-16 div.sk-estimator:hover label.sk-toggleable__label-arrow:before {color: black;}#sk-container-id-16 div.sk-toggleable__content {max-height: 0;max-width: 0;overflow: hidden;text-align: left;background-color: #f0f8ff;}#sk-container-id-16 div.sk-toggleable__content pre {margin: 0.2em;color: black;border-radius: 0.25em;background-color: #f0f8ff;}#sk-container-id-16 input.sk-toggleable__control:checked~div.sk-toggleable__content {max-height: 200px;max-width: 100%;overflow: auto;}#sk-container-id-16 input.sk-toggleable__control:checked~label.sk-toggleable__label-arrow:before {content: \"▾\";}#sk-container-id-16 div.sk-estimator input.sk-toggleable__control:checked~label.sk-toggleable__label {background-color: #d4ebff;}#sk-container-id-16 div.sk-label input.sk-toggleable__control:checked~label.sk-toggleable__label {background-color: #d4ebff;}#sk-container-id-16 input.sk-hidden--visually {border: 0;clip: rect(1px 1px 1px 1px);clip: rect(1px, 1px, 1px, 1px);height: 1px;margin: -1px;overflow: hidden;padding: 0;position: absolute;width: 1px;}#sk-container-id-16 div.sk-estimator {font-family: monospace;background-color: #f0f8ff;border: 1px dotted black;border-radius: 0.25em;box-sizing: border-box;margin-bottom: 0.5em;}#sk-container-id-16 div.sk-estimator:hover {background-color: #d4ebff;}#sk-container-id-16 div.sk-parallel-item::after {content: \"\";width: 100%;border-bottom: 1px solid gray;flex-grow: 1;}#sk-container-id-16 div.sk-label:hover label.sk-toggleable__label {background-color: #d4ebff;}#sk-container-id-16 div.sk-serial::before {content: \"\";position: absolute;border-left: 1px solid gray;box-sizing: border-box;top: 0;bottom: 0;left: 50%;z-index: 0;}#sk-container-id-16 div.sk-serial {display: flex;flex-direction: column;align-items: center;background-color: white;padding-right: 0.2em;padding-left: 0.2em;position: relative;}#sk-container-id-16 div.sk-item {position: relative;z-index: 1;}#sk-container-id-16 div.sk-parallel {display: flex;align-items: stretch;justify-content: center;background-color: white;position: relative;}#sk-container-id-16 div.sk-item::before, #sk-container-id-16 div.sk-parallel-item::before {content: \"\";position: absolute;border-left: 1px solid gray;box-sizing: border-box;top: 0;bottom: 0;left: 50%;z-index: -1;}#sk-container-id-16 div.sk-parallel-item {display: flex;flex-direction: column;z-index: 1;position: relative;background-color: white;}#sk-container-id-16 div.sk-parallel-item:first-child::after {align-self: flex-end;width: 50%;}#sk-container-id-16 div.sk-parallel-item:last-child::after {align-self: flex-start;width: 50%;}#sk-container-id-16 div.sk-parallel-item:only-child::after {width: 0;}#sk-container-id-16 div.sk-dashed-wrapped {border: 1px dashed gray;margin: 0 0.4em 0.5em 0.4em;box-sizing: border-box;padding-bottom: 0.4em;background-color: white;}#sk-container-id-16 div.sk-label label {font-family: monospace;font-weight: bold;display: inline-block;line-height: 1.2em;}#sk-container-id-16 div.sk-label-container {text-align: center;}#sk-container-id-16 div.sk-container {/* jupyter's `normalize.less` sets `[hidden] { display: none; }` but bootstrap.min.css set `[hidden] { display: none !important; }` so we also need the `!important` here to be able to override the default hidden behavior on the sphinx rendered scikit-learn.org. See: https://github.com/scikit-learn/scikit-learn/issues/21755 */display: inline-block !important;position: relative;}#sk-container-id-16 div.sk-text-repr-fallback {display: none;}</style><div id=\"sk-container-id-16\" class=\"sk-top-container\"><div class=\"sk-text-repr-fallback\"><pre>GridSearchCV(cv=5, estimator=RandomForestClassifier(),\n",
       "             param_grid={&#x27;criterion&#x27;: [&#x27;gini&#x27;, &#x27;entropy&#x27;],\n",
       "                         &#x27;max_depth&#x27;: range(2, 5),\n",
       "                         &#x27;n_estimators&#x27;: [10, 100, 500, 1000]},\n",
       "             scoring=&#x27;f1_weighted&#x27;, verbose=10)</pre><b>In a Jupyter environment, please rerun this cell to show the HTML representation or trust the notebook. <br />On GitHub, the HTML representation is unable to render, please try loading this page with nbviewer.org.</b></div><div class=\"sk-container\" hidden><div class=\"sk-item sk-dashed-wrapped\"><div class=\"sk-label-container\"><div class=\"sk-label sk-toggleable\"><input class=\"sk-toggleable__control sk-hidden--visually\" id=\"sk-estimator-id-46\" type=\"checkbox\" ><label for=\"sk-estimator-id-46\" class=\"sk-toggleable__label sk-toggleable__label-arrow\">GridSearchCV</label><div class=\"sk-toggleable__content\"><pre>GridSearchCV(cv=5, estimator=RandomForestClassifier(),\n",
       "             param_grid={&#x27;criterion&#x27;: [&#x27;gini&#x27;, &#x27;entropy&#x27;],\n",
       "                         &#x27;max_depth&#x27;: range(2, 5),\n",
       "                         &#x27;n_estimators&#x27;: [10, 100, 500, 1000]},\n",
       "             scoring=&#x27;f1_weighted&#x27;, verbose=10)</pre></div></div></div><div class=\"sk-parallel\"><div class=\"sk-parallel-item\"><div class=\"sk-item\"><div class=\"sk-label-container\"><div class=\"sk-label sk-toggleable\"><input class=\"sk-toggleable__control sk-hidden--visually\" id=\"sk-estimator-id-47\" type=\"checkbox\" ><label for=\"sk-estimator-id-47\" class=\"sk-toggleable__label sk-toggleable__label-arrow\">estimator: RandomForestClassifier</label><div class=\"sk-toggleable__content\"><pre>RandomForestClassifier()</pre></div></div></div><div class=\"sk-serial\"><div class=\"sk-item\"><div class=\"sk-estimator sk-toggleable\"><input class=\"sk-toggleable__control sk-hidden--visually\" id=\"sk-estimator-id-48\" type=\"checkbox\" ><label for=\"sk-estimator-id-48\" class=\"sk-toggleable__label sk-toggleable__label-arrow\">RandomForestClassifier</label><div class=\"sk-toggleable__content\"><pre>RandomForestClassifier()</pre></div></div></div></div></div></div></div></div></div></div>"
      ],
      "text/plain": [
       "GridSearchCV(cv=5, estimator=RandomForestClassifier(),\n",
       "             param_grid={'criterion': ['gini', 'entropy'],\n",
       "                         'max_depth': range(2, 5),\n",
       "                         'n_estimators': [10, 100, 500, 1000]},\n",
       "             scoring='f1_weighted', verbose=10)"
      ]
     },
     "execution_count": 141,
     "metadata": {},
     "output_type": "execute_result"
    }
   ],
   "source": [
    "ran_for.fit(X_train,y_train)"
   ]
  },
  {
   "cell_type": "code",
   "execution_count": 142,
   "id": "654b1343",
   "metadata": {},
   "outputs": [
    {
     "data": {
      "text/plain": [
       "{'criterion': 'entropy', 'max_depth': 4, 'n_estimators': 10}"
      ]
     },
     "execution_count": 142,
     "metadata": {},
     "output_type": "execute_result"
    }
   ],
   "source": [
    "ran_for.best_params_"
   ]
  },
  {
   "cell_type": "code",
   "execution_count": 143,
   "id": "3b8548fe",
   "metadata": {},
   "outputs": [
    {
     "data": {
      "text/plain": [
       "0.9084858190238263"
      ]
     },
     "execution_count": 143,
     "metadata": {},
     "output_type": "execute_result"
    }
   ],
   "source": [
    "ran_for.best_score_"
   ]
  },
  {
   "cell_type": "code",
   "execution_count": 146,
   "id": "3b52fced",
   "metadata": {},
   "outputs": [],
   "source": [
    "y_pred_rf_treino = ran_for.predict(X_train)"
   ]
  },
  {
   "cell_type": "code",
   "execution_count": 147,
   "id": "45b810a0",
   "metadata": {},
   "outputs": [
    {
     "name": "stdout",
     "output_type": "stream",
     "text": [
      "              precision    recall  f1-score   support\n",
      "\n",
      "           0       0.93      0.97      0.95       286\n",
      "           1       0.95      0.88      0.91       169\n",
      "\n",
      "    accuracy                           0.94       455\n",
      "   macro avg       0.94      0.93      0.93       455\n",
      "weighted avg       0.94      0.94      0.94       455\n",
      "\n"
     ]
    }
   ],
   "source": [
    "print(metrics.classification_report(y_train,y_pred_rf_treino)) "
   ]
  },
  {
   "cell_type": "code",
   "execution_count": 148,
   "id": "404d7a48",
   "metadata": {},
   "outputs": [],
   "source": [
    "y_pred_rf = ran_for.predict(X_test)"
   ]
  },
  {
   "cell_type": "code",
   "execution_count": 149,
   "id": "143d2e76",
   "metadata": {},
   "outputs": [
    {
     "name": "stdout",
     "output_type": "stream",
     "text": [
      "              precision    recall  f1-score   support\n",
      "\n",
      "           0       0.93      0.99      0.96        71\n",
      "           1       0.97      0.88      0.93        43\n",
      "\n",
      "    accuracy                           0.95       114\n",
      "   macro avg       0.95      0.93      0.94       114\n",
      "weighted avg       0.95      0.95      0.95       114\n",
      "\n"
     ]
    }
   ],
   "source": [
    "print(metrics.classification_report(y_test,y_pred_rf)) "
   ]
  },
  {
   "cell_type": "code",
   "execution_count": 150,
   "id": "ef6690fa",
   "metadata": {},
   "outputs": [
    {
     "data": {
      "image/png": "[encoded data removed]",
      "text/plain": [
       "<Figure size 576x396 with 2 Axes>"
      ]
     },
     "metadata": {},
     "output_type": "display_data"
    }
   ],
   "source": [
    "ConfusionMatrixDisplay(confusion_matrix=confusion_matrix(y_test, y_pred_rf)).plot(cmap=\"Purples\")\n",
    "\n",
    "plt.show()"
   ]
  },
  {
   "cell_type": "code",
   "execution_count": null,
   "id": "8fe7ee05",
   "metadata": {},
   "outputs": [],
   "source": []
  }
 ],
 "metadata": {
  "kernelspec": {
   "display_name": "Python 3",
   "language": "python",
   "name": "python3"
  },
  "language_info": {
   "codemirror_mode": {
    "name": "ipython",
    "version": 3
   },
   "file_extension": ".py",
   "mimetype": "text/x-python",
   "name": "python",
   "nbconvert_exporter": "python",
   "pygments_lexer": "ipython3",
   "version": "3.8.8"
  }
 },
 "nbformat": 4,
 "nbformat_minor": 5
}
